{
 "cells": [
  {
   "cell_type": "markdown",
   "metadata": {},
   "source": [
    "# Blackjack \n",
    "\n",
    "<center>\n",
    "<img src=\"https://www.casinopartybythebay.com/wp-content/uploads/2017/10/blackjack2.png\" alt=\"Drawing\" style=\"width: 700px;\"/>\n",
    "</center>"
   ]
  },
  {
   "cell_type": "markdown",
   "metadata": {},
   "source": [
    "## Game Rule\n",
    "\n",
    "* Each card (total 52) has a numeric value.\n",
    "\n",
    "<center>\n",
    "<img src=\"https://cdn2.oddsshark.com/cdn/farfuture/pLcIpQ-B9cQlwSey5h-xcpBG_P8KBegw3QOCnyTgdJo/mtime:1507035552/sites/default/files/inline/images/games_blackjack_value.png\" alt=\"Drawing\" style=\"width: 700px;\"/>\n",
    "</center>\n",
    "\n",
    "\n",
    "\n",
    " Aces are worth one or 11 (Dealer should count it as 11), face cards are worth 10, and all others are worth their printed value. The goal of the player is to get closer to 21 than the dealer without exceeding this total (called **bust**).\n",
    "The players begin by making their wagers. Once this has occurred, the dealer starts on his left and gives each player two face-up cards. The dealer then receives two cards, one facing up and another facing down (the “hole card”).\n",
    "\n",
    "If the player’s first two cards equal 21, then he has a true blackjack and receives a payout. If the dealer also has a blackjack, then it is considered a tie (and the player gets their wager back).\n",
    "\n",
    "Once the cards have been dealt and any blackjacks have been resolved, each player has a number of options. These include:\n",
    "\n",
    "* `Hit` : The player receives an additional card.\n",
    "* `Stand` or `Stay` : The player takes no additional cards.\n",
    "\n",
    "> **Note** For the simplicity, `Split` is not allowed.\n",
    "\n",
    "Dealer's strategy is just drawing cards until the sum of his cards exceeds 17.\n",
    "\n",
    "Once all players have completed their hands, the dealer adds up the totals. "
   ]
  },
  {
   "cell_type": "markdown",
   "metadata": {},
   "source": [
    "## Variable Description"
   ]
  },
  {
   "cell_type": "markdown",
   "metadata": {},
   "source": [
    "**deck** : (list) cards in deck (length 52)"
   ]
  },
  {
   "cell_type": "code",
   "execution_count": 13,
   "metadata": {},
   "outputs": [
    {
     "name": "stdout",
     "output_type": "stream",
     "text": [
      "['A', 'J', 'Q', 'K', 2, 3, 4, 5, 6, 7, 8, 9, 10, 'A', 'J', 'Q', 'K', 2, 3, 4, 5, 6, 7, 8, 9, 10, 'A', 'J', 'Q', 'K', 2, 3, 4, 5, 6, 7, 8, 9, 10, 'A', 'J', 'Q', 'K', 2, 3, 4, 5, 6, 7, 8, 9, 10]\n"
     ]
    }
   ],
   "source": [
    "deck = (['A', 'J', 'Q', 'K', 2,3,4,5,6,7,8,9,10])*4\n",
    "print(deck)"
   ]
  },
  {
   "cell_type": "markdown",
   "metadata": {},
   "source": [
    "**state** : (dict) cards of dealer and the player have"
   ]
  },
  {
   "cell_type": "code",
   "execution_count": 14,
   "metadata": {
    "collapsed": true
   },
   "outputs": [],
   "source": [
    "state = {'dealer': ['A', 7], 'player': [4,7,2]}"
   ]
  },
  {
   "cell_type": "markdown",
   "metadata": {},
   "source": [
    "**strategy** : (function) strategy to choose `Hit` or `Stand` for given a **state**. return \"H\" or \"S\""
   ]
  },
  {
   "cell_type": "code",
   "execution_count": 15,
   "metadata": {
    "collapsed": true
   },
   "outputs": [],
   "source": [
    "def strategy(state):\n",
    "    \n",
    "    if sum_min(state['player']) < 17:\n",
    "        return \"H\"\n",
    "    else:\n",
    "        return \"S\""
   ]
  },
  {
   "cell_type": "code",
   "execution_count": 4,
   "metadata": {
    "collapsed": true
   },
   "outputs": [],
   "source": [
    "def dealer_strategy(state):\n",
    "    \n",
    "    if sum_max(state['dealer']) < 17:\n",
    "        return \"H\"\n",
    "    else:\n",
    "        return \"S\""
   ]
  },
  {
   "cell_type": "markdown",
   "metadata": {},
   "source": [
    "## Play"
   ]
  },
  {
   "cell_type": "code",
   "execution_count": 5,
   "metadata": {
    "collapsed": true
   },
   "outputs": [],
   "source": [
    "from blackjack import *"
   ]
  },
  {
   "cell_type": "code",
   "execution_count": 11,
   "metadata": {},
   "outputs": [
    {
     "name": "stdout",
     "output_type": "stream",
     "text": [
      "\n",
      "-------------------------------------\n",
      "|          Black Jack Game          |\n",
      "-------------------------------------\n",
      "\n",
      "\t----- YOUR TURN -----\n",
      "\n",
      "   Dealer : [3]\n",
      "   You    : [9, 'Q'] sum= 19\n",
      "\n",
      " press 'H'(Hit), or 'S'(Stand, Stop) : s\n",
      "\n",
      "\t----- DEALER's TURN -----\n",
      "\n",
      "   Dealer : [3, 4, 2, 5, 4] sum= 18\n",
      "   You    : [9, 'Q'] sum= 19\n",
      "\n",
      "\t===== YOU WIN !! =====\n"
     ]
    },
    {
     "data": {
      "text/plain": [
       "1"
      ]
     },
     "execution_count": 11,
     "metadata": {},
     "output_type": "execute_result"
    }
   ],
   "source": [
    "play()"
   ]
  },
  {
   "cell_type": "markdown",
   "metadata": {},
   "source": [
    "## Test your strategy"
   ]
  },
  {
   "cell_type": "code",
   "execution_count": null,
   "metadata": {
    "collapsed": true
   },
   "outputs": [],
   "source": [
    "def strategy(state):\n",
    "    \n",
    "    ####################\n",
    "    #  YOUR CODE HERE  #\n",
    "    ####################\n",
    "    \n",
    "    return 'S'"
   ]
  },
  {
   "cell_type": "code",
   "execution_count": 54,
   "metadata": {},
   "outputs": [
    {
     "name": "stdout",
     "output_type": "stream",
     "text": [
      "win rate = 40.40 %\n"
     ]
    }
   ],
   "source": [
    "print(\"win rate = %.2f\"%(win_rate(strategy)*100) + ' %')"
   ]
  }
 ],
 "metadata": {
  "kernelspec": {
   "display_name": "Python 3",
   "language": "python",
   "name": "python3"
  },
  "language_info": {
   "codemirror_mode": {
    "name": "ipython",
    "version": 3
   },
   "file_extension": ".py",
   "mimetype": "text/x-python",
   "name": "python",
   "nbconvert_exporter": "python",
   "pygments_lexer": "ipython3",
   "version": "3.5.2"
  }
 },
 "nbformat": 4,
 "nbformat_minor": 2
}
