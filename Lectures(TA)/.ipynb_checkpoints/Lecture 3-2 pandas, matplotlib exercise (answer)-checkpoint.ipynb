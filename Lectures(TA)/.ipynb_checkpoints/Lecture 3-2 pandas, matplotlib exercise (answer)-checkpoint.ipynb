{
 "cells": [
  {
   "cell_type": "markdown",
   "metadata": {},
   "source": [
    "<center>\n",
    "# Pandas, Matplotlib exercise\n",
    "</center>\n",
    "**Due** : 2018-03-13 20:29:59"
   ]
  },
  {
   "cell_type": "code",
   "execution_count": 1,
   "metadata": {
    "collapsed": true
   },
   "outputs": [],
   "source": [
    "import numpy as np\n",
    "import pandas as pd\n",
    "import matplotlib.pyplot as plt"
   ]
  },
  {
   "cell_type": "markdown",
   "metadata": {},
   "source": [
    "> **Warning**\n",
    "\n",
    "> * <font color='red'> Do not use other packages except for `numpy`, `pandas`, `matplotlib` </font>\n",
    "\n",
    "> * <font color='red'> Do not modify other code except for `YOUR CODE HERE` </font>"
   ]
  },
  {
   "cell_type": "markdown",
   "metadata": {},
   "source": [
    "## Problem 1\n",
    "\n",
    "(1) 연초부터 1년간 투자할 때 연말에 발생하는 수익금액의 분포가 평균 0, 표준편차 1의 정규분포인 투자안이 있다. 이 투자안을 10년간 매년 반복 투자했을 때, 10년 뒤 투자수익금액의 합계를 몬테카를로 시뮬레이션으로 생성할 수 있다. 이를 N(=100000)회  반복한 결과의 평균과 표준편차를 계산하고 출력하시오.\n",
    "\n",
    "> **Warning**\n",
    "\n",
    "> * <font color='red'> for문이나 while문을 사용하지 말고 numpy, pandas, matplotlib 패키지만 사용하시오 </font>"
   ]
  },
  {
   "cell_type": "code",
   "execution_count": 13,
   "metadata": {
    "collapsed": true
   },
   "outputs": [],
   "source": [
    "def invest_sim(N=100000):\n",
    "    \n",
    "    #################################\n",
    "    #         YOUR CODE HERE        #\n",
    "    # payoff_array : 1d numpy array #\n",
    "    #################################\n",
    "    payoff_array = np.random.randn(N,10).sum(1)\n",
    "    \n",
    "    return payoff_array"
   ]
  },
  {
   "cell_type": "code",
   "execution_count": 45,
   "metadata": {},
   "outputs": [
    {
     "name": "stdout",
     "output_type": "stream",
     "text": [
      "AVG : 0.005286194110251695\n",
      "STD : 3.1532833552703066\n"
     ]
    }
   ],
   "source": [
    "payoff_array = invest_sim()\n",
    "print('AVG : ' + str(payoff_array.mean()))\n",
    "print('STD : ' + str(payoff_array.std()))"
   ]
  },
  {
   "cell_type": "markdown",
   "metadata": {},
   "source": [
    "(2) 위의 투자안에 매년 투자를 유지하다가 (최대 100년) 연말에 누적 투자 수익이 2 이상 손실이면 폐업할 계획이다. 사업 유지 기간(년)을 몬테카를로 시뮬레이션으로 구하고 히스토그램(bin 개수 = 100)으로 도시하시오. 그리고 100년간 살아남은 경우의 개수를 출력하시오. (N=100000)\n",
    "\n",
    "> **Warning**\n",
    "\n",
    "> * <font color='red'> for문이나 while문을 사용하지 말고 numpy, pandas, matplotlib 패키지만 사용하시오 </font>\n"
   ]
  },
  {
   "cell_type": "code",
   "execution_count": 117,
   "metadata": {
    "collapsed": true
   },
   "outputs": [],
   "source": [
    "def invest_survive(N=100000, T=100):\n",
    "    \n",
    "    ##########################################\n",
    "    #              YOUR CODE HERE            #\n",
    "    # survival_period_array : 1d numpy array #\n",
    "    ##########################################\n",
    "    ret = np.random.randn(N,T)\n",
    "    table = ret.cumsum(axis=1) <= -2\n",
    "    temp = table*np.arange(1,T+1)\n",
    "    survival_period_array = np.where(temp==0, T, temp).min(1)\n",
    "    \n",
    "    return survival_period_array\n",
    "\n",
    "def count_survive(survival_period_array):\n",
    "  \n",
    "    ##################\n",
    "    # YOUR CODE HERE #\n",
    "    # count : int    #\n",
    "    ##################\n",
    "    count = (survival_period_array == 100).sum()\n",
    "\n",
    "    return count"
   ]
  },
  {
   "cell_type": "code",
   "execution_count": 106,
   "metadata": {},
   "outputs": [
    {
     "data": {
      "text/plain": [
       "array([[ 1.58044071, -0.16061408, -1.35277501,  0.87729232,  0.74712373],\n",
       "       [-0.9078956 ,  1.17629545,  1.80818586, -1.9041105 ,  0.38511077],\n",
       "       [-0.19355862, -0.76109353, -0.50698988,  0.94259807,  1.76185492],\n",
       "       [ 0.75774562, -0.57022743,  1.05516942,  0.17458338, -0.7296733 ],\n",
       "       [-0.31963521,  0.2785996 , -2.94082508, -0.02474724,  0.60198992],\n",
       "       [-0.71146182,  0.42325922, -1.01305268, -1.70033559, -0.56516129],\n",
       "       [ 0.68453878, -0.62283997, -0.92045222,  0.38337594,  0.5662069 ]])"
      ]
     },
     "execution_count": 106,
     "metadata": {},
     "output_type": "execute_result"
    }
   ],
   "source": [
    "N = 7\n",
    "T = 5\n",
    "ret = np.random.randn(N,T)\n",
    "ret"
   ]
  },
  {
   "cell_type": "code",
   "execution_count": 107,
   "metadata": {},
   "outputs": [
    {
     "data": {
      "text/plain": [
       "array([[False, False, False, False, False],\n",
       "       [False, False, False, False, False],\n",
       "       [False, False, False, False, False],\n",
       "       [False, False, False, False, False],\n",
       "       [False, False,  True,  True,  True],\n",
       "       [False, False, False,  True,  True],\n",
       "       [False, False, False, False, False]])"
      ]
     },
     "execution_count": 107,
     "metadata": {},
     "output_type": "execute_result"
    }
   ],
   "source": [
    "table = ret.cumsum(axis=1) <= -2\n",
    "table"
   ]
  },
  {
   "cell_type": "code",
   "execution_count": 111,
   "metadata": {},
   "outputs": [
    {
     "data": {
      "text/plain": [
       "array([[0, 0, 0, 0, 0],\n",
       "       [0, 0, 0, 0, 0],\n",
       "       [0, 0, 0, 0, 0],\n",
       "       [0, 0, 0, 0, 0],\n",
       "       [0, 0, 3, 4, 5],\n",
       "       [0, 0, 0, 4, 5],\n",
       "       [0, 0, 0, 0, 0]])"
      ]
     },
     "execution_count": 111,
     "metadata": {},
     "output_type": "execute_result"
    }
   ],
   "source": [
    "temp = table*np.arange(1,T+1)\n",
    "temp"
   ]
  },
  {
   "cell_type": "code",
   "execution_count": 114,
   "metadata": {},
   "outputs": [
    {
     "data": {
      "text/plain": [
       "array([[5, 5, 5, 5, 5],\n",
       "       [5, 5, 5, 5, 5],\n",
       "       [5, 5, 5, 5, 5],\n",
       "       [5, 5, 5, 5, 5],\n",
       "       [5, 5, 3, 4, 5],\n",
       "       [5, 5, 5, 4, 5],\n",
       "       [5, 5, 5, 5, 5]])"
      ]
     },
     "execution_count": 114,
     "metadata": {},
     "output_type": "execute_result"
    }
   ],
   "source": [
    "np.where(temp==0, T, temp)"
   ]
  },
  {
   "cell_type": "code",
   "execution_count": 116,
   "metadata": {},
   "outputs": [
    {
     "data": {
      "text/plain": [
       "array([5, 5, 5, 5, 3, 4, 5])"
      ]
     },
     "execution_count": 116,
     "metadata": {},
     "output_type": "execute_result"
    }
   ],
   "source": [
    "np.where(temp==0, T, temp).min(1)"
   ]
  },
  {
   "cell_type": "code",
   "execution_count": 118,
   "metadata": {
    "scrolled": true
   },
   "outputs": [
    {
     "data": {
      "image/png": "[encoded data removed]",
      "text/plain": [
       "<matplotlib.figure.Figure at 0x1a4fa9e8>"
      ]
     },
     "metadata": {},
     "output_type": "display_data"
    }
   ],
   "source": [
    "survival_period_array = invest_survive()\n",
    "plt.hist(survival_period_array, bins=100)\n",
    "plt.show()"
   ]
  },
  {
   "cell_type": "code",
   "execution_count": 119,
   "metadata": {},
   "outputs": [
    {
     "name": "stdout",
     "output_type": "stream",
     "text": [
      "number of survive 100 years : 20386\n"
     ]
    }
   ],
   "source": [
    "print('number of survive 100 years : %d'%(count_survive(survival_period_array)))"
   ]
  },
  {
   "cell_type": "markdown",
   "metadata": {},
   "source": [
    "## Problem 2\n",
    "\n",
    "Plain-vanilla 옵션의 블랙-숄즈 이론가격을 계산하는 함수를 구현하시오.\n",
    "\n",
    "**Black-Scholes 옵션 가격 공식:**\n",
    "$$\n",
    "    C = Se^{-qt}N(d_1) - Ke^{-rt}N(d_2) \\\\\n",
    "    P = Ke^{-rt}N(-d_2) - Se^{-qt}N(-d_1) \n",
    "$$\n",
    "where\n",
    "$$\n",
    "    d_1 = \\frac{\\log{(\\frac{S}{K})} + \\left(r-q+\\frac{1}{2}\\sigma^2\\right)t}{\\sigma\\sqrt{t}}\n",
    "$$\n",
    "* $S$ : 기초자산의 현재가격 (ex: 100)\n",
    "* $K$ : 행사가격 (ex: 100)\n",
    "* $r$ : 연속복리금리 (ex: 0.025)\n",
    "* $q$ : 연속배당률 (ex: 0.01)\n",
    "* $\\sigma$ : 연변동성 (ex: 0.25)\n",
    "* $t$ : 옵션의 연환산 잔여 만기 (ex: 0.24)\n",
    "\n",
    "> Hint : $N$은 누적 표준 정규 분포 함수 = `norm.cdf`"
   ]
  },
  {
   "cell_type": "code",
   "execution_count": 120,
   "metadata": {
    "collapsed": true
   },
   "outputs": [],
   "source": [
    "from scipy.stats import norm"
   ]
  },
  {
   "cell_type": "code",
   "execution_count": 124,
   "metadata": {
    "scrolled": true
   },
   "outputs": [],
   "source": [
    "def bsprice(S=100, K=100, r=0.025, q=0.01, sigma=0.25, t=0.24):\n",
    "        \n",
    "    ##################\n",
    "    # YOUR CODE HERE #\n",
    "    # price : dict   #\n",
    "    ##################\n",
    "    \n",
    "    d1 = (np.log(S/K) + (r - q + 0.5*sigma**2)*t)/(sigma*np.sqrt(t))\n",
    "    d2 = d1 - sigma*np.sqrt(t)\n",
    "    \n",
    "    # Call option price\n",
    "    C = (S*np.exp(-q*t)*norm.cdf(d1, 0.0, 1.0) \n",
    "        - K*np.exp(-r*t)*norm.cdf(d2, 0.0, 1.0))\n",
    "    \n",
    "    # Put option price\n",
    "    P = (K*np.exp(-r*t)*norm.cdf(-d2, 0.0, 1.0) \n",
    "        - S*np.exp(-q*t)*norm.cdf(-d1, 0.0, 1.0))\n",
    "\n",
    "    price = {'Call':C, 'Put':P}\n",
    "    \n",
    "    return price"
   ]
  },
  {
   "cell_type": "code",
   "execution_count": 125,
   "metadata": {},
   "outputs": [
    {
     "name": "stdout",
     "output_type": "stream",
     "text": [
      "Call : 5.043859\n",
      "Put  : 4.685368\n"
     ]
    }
   ],
   "source": [
    "price = bsprice()\n",
    "print('Call : %f'%(price['Call']))\n",
    "print('Put  : %f'%(price['Put']))"
   ]
  },
  {
   "cell_type": "markdown",
   "metadata": {},
   "source": [
    "## Problem 3\n",
    "\n",
    "[S&P500 index](https://www.marketwatch.com/investing/index/spx)는 미국 Standard and Poors(S&P)가 작성한 500개 종목의 주가 지수이다. S&P500 index는 물가 상승분을 반영하지 않아 실질 지수는 Consumer Price Index(CPI)로 할인해주어야 한다.\n",
    "만약 t 시점의 지수가 $x_t$라고 한다면, t 시점의 실질 지수(real index) $\\tilde{x}_t$와 실질 수익률 $r_t$는 다음과 같다."
   ]
  },
  {
   "cell_type": "markdown",
   "metadata": {},
   "source": [
    "$$\n",
    "    \\tilde{x_t} = \\frac{CPI_0}{CPI_t}x_t \\\\\n",
    "    r_t = \\frac{\\tilde{x_t}}{\\tilde{x_{t-1}}} - 1\n",
    "$$"
   ]
  },
  {
   "cell_type": "markdown",
   "metadata": {},
   "source": [
    "\n",
    "다음과 같이 DataFrame을 받아 \"real S&P500\", \"return\" 이 계산된 DataFrame을 생성하는 함수를 완성하시오. 그리고 \"S&P500\"과 \"real S&P500\"의 그래프를 그려 비교하시오.\n",
    "\n",
    "<img src=\"https://preview.ibb.co/j4HaDS/1.png\" alt=\"1\" border=\"0\">"
   ]
  },
  {
   "cell_type": "markdown",
   "metadata": {},
   "source": [
    "> Hint : [`shift`](https://pandas.pydata.org/pandas-docs/stable/generated/pandas.DataFrame.shift.html)를 사용하여 return을 구하시오"
   ]
  },
  {
   "cell_type": "code",
   "execution_count": 127,
   "metadata": {
    "collapsed": true,
    "scrolled": true
   },
   "outputs": [],
   "source": [
    "df = pd.read_csv('Lecture 3-2 pandas, matplotlib exercise.csv').set_index('Date')"
   ]
  },
  {
   "cell_type": "code",
   "execution_count": 126,
   "metadata": {
    "collapsed": true
   },
   "outputs": [],
   "source": [
    "def calc_real_return(df):\n",
    "        \n",
    "    #####################\n",
    "    #  YOUR CODE HERE   #\n",
    "    # df : pd.DataFrame #\n",
    "    #####################\n",
    "    df['real S&P500'] = df['S&P500']*df['CPI'][0]/df['CPI']\n",
    "    df['return'] = df['S&P500']/df['S&P500'].shift(1) - 1\n",
    "\n",
    "    return df"
   ]
  },
  {
   "cell_type": "code",
   "execution_count": 128,
   "metadata": {},
   "outputs": [
    {
     "data": {
      "image/png": "[encoded data removed]",
      "text/plain": [
       "<matplotlib.figure.Figure at 0x3e1a1400>"
      ]
     },
     "metadata": {},
     "output_type": "display_data"
    }
   ],
   "source": [
    "df_out = calc_real_return(df)\n",
    "df_out[['S&P500','real S&P500']].plot()\n",
    "plt.show()"
   ]
  }
 ],
 "metadata": {
  "kernelspec": {
   "display_name": "Python 3",
   "language": "python",
   "name": "python3"
  },
  "language_info": {
   "codemirror_mode": {
    "name": "ipython",
    "version": 3
   },
   "file_extension": ".py",
   "mimetype": "text/x-python",
   "name": "python",
   "nbconvert_exporter": "python",
   "pygments_lexer": "ipython3",
   "version": "3.5.2"
  }
 },
 "nbformat": 4,
 "nbformat_minor": 2
}
