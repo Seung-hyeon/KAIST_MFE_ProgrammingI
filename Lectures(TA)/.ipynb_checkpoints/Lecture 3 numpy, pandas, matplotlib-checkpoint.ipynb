{
 "cells": [
  {
   "cell_type": "markdown",
   "metadata": {
    "slideshow": {
     "slide_type": "slide"
    }
   },
   "source": [
    "# Lecture 3. numpy, pandas, matplotlib\n",
    "\n",
    "<center>\n",
    "<img src=\"https://camo.githubusercontent.com/2eb0e1096ba504bf9e1446db83a6d1753c3af994/68747470733a2f2f6b6f7a696b6f772e66696c65732e776f726470726573732e636f6d2f323031362f30372f73637265656e73686f74312e706e673f773d31313430\" alt=\"Drawing\" style=\"width: 700px;\"/>\n",
    "</center>\n",
    "\n",
    "<font color='orange'>\n",
    "Seunghyeon Yu\n",
    "</font>"
   ]
  },
  {
   "cell_type": "markdown",
   "metadata": {
    "slideshow": {
     "slide_type": "slide"
    }
   },
   "source": [
    "# Overview\n",
    "\n",
    "* intro\n",
    "* numpy\n",
    "* pandas\n",
    "* matplotlib"
   ]
  },
  {
   "cell_type": "markdown",
   "metadata": {
    "slideshow": {
     "slide_type": "subslide"
    }
   },
   "source": [
    "## Why we use packages?\n",
    "> \"Stand on the shoulders of giants\"\n",
    "> -Issac Newton\n",
    "\n",
    "* Time Saving\n",
    "* Stability (by many open source contributors, [GitHub](https://github.com/))\n",
    "* Nice Documentations ([Read the Docs](https://readthedocs.org/))\n",
    "* Have Fun!"
   ]
  },
  {
   "cell_type": "markdown",
   "metadata": {
    "slideshow": {
     "slide_type": "subslide"
    }
   },
   "source": [
    "## Package Dependencies\n",
    "\n",
    "<center>\n",
    "<img src=\"https://qph.ec.quoracdn.net/main-qimg-fad2e6702b134e3853707daa53214314\" alt=\"Drawing\" style=\"width: 600px;\"/>"
   ]
  },
  {
   "cell_type": "markdown",
   "metadata": {
    "slideshow": {
     "slide_type": "subslide"
    }
   },
   "source": [
    "## Package Structure\n",
    "```\n",
    "game/\n",
    "    __init__.py\n",
    "    sound/\n",
    "        __init__.py\n",
    "        echo.py\n",
    "        wav.py\n",
    "    graphic/\n",
    "        __init__.py\n",
    "        screen.py\n",
    "        render.py\n",
    "    play/\n",
    "        __init__.py\n",
    "        run.py\n",
    "        test.py\n",
    "```\n",
    "* `__init__.py` : Required to make the directories as pakcages."
   ]
  },
  {
   "cell_type": "markdown",
   "metadata": {
    "collapsed": true,
    "slideshow": {
     "slide_type": "slide"
    }
   },
   "source": [
    "# NumPy\n",
    "\n",
    "<center>\n",
    "<img src=\"https://www.kdnuggets.com/wp-content/uploads/numpy-logo.jpg\" alt=\"Drawing\" style=\"width: 300px;\"/>\n",
    "</center>\n",
    "\n",
    "* Similar to Matlab\n",
    "* N-dimensional object\n",
    "* Mathematical functions\n",
    "* Fast calculation \n",
    "* Linear algebra, Fourier transform, random number generation, Einstein summation ..."
   ]
  },
  {
   "cell_type": "code",
   "execution_count": 1,
   "metadata": {
    "collapsed": true,
    "slideshow": {
     "slide_type": "subslide"
    }
   },
   "outputs": [],
   "source": [
    "import numpy as np"
   ]
  },
  {
   "cell_type": "markdown",
   "metadata": {
    "slideshow": {
     "slide_type": "subslide"
    }
   },
   "source": [
    "### Arrays\n",
    "**1D Array **"
   ]
  },
  {
   "cell_type": "code",
   "execution_count": 2,
   "metadata": {
    "slideshow": {
     "slide_type": "fragment"
    }
   },
   "outputs": [
    {
     "data": {
      "text/plain": [
       "(4,)"
      ]
     },
     "execution_count": 2,
     "metadata": {},
     "output_type": "execute_result"
    }
   ],
   "source": [
    "x = np.array([1, 2, 3, 4])\n",
    "x.shape"
   ]
  },
  {
   "cell_type": "code",
   "execution_count": 3,
   "metadata": {
    "slideshow": {
     "slide_type": "fragment"
    }
   },
   "outputs": [
    {
     "data": {
      "text/plain": [
       "array([1., 2., 3., 4.])"
      ]
     },
     "execution_count": 3,
     "metadata": {},
     "output_type": "execute_result"
    }
   ],
   "source": [
    "x = np.array([1, 2, 3, 4], dtype=np.float64)  # datatype to float64\n",
    "x"
   ]
  },
  {
   "cell_type": "markdown",
   "metadata": {
    "slideshow": {
     "slide_type": "subslide"
    }
   },
   "source": [
    "**2D Array**"
   ]
  },
  {
   "cell_type": "code",
   "execution_count": 4,
   "metadata": {
    "slideshow": {
     "slide_type": "fragment"
    }
   },
   "outputs": [
    {
     "data": {
      "text/plain": [
       "(2, 3)"
      ]
     },
     "execution_count": 4,
     "metadata": {},
     "output_type": "execute_result"
    }
   ],
   "source": [
    "X = np.array([[1,2,3],\n",
    "              [4,5,6]])\n",
    "X.shape"
   ]
  },
  {
   "cell_type": "markdown",
   "metadata": {
    "slideshow": {
     "slide_type": "subslide"
    }
   },
   "source": [
    "Numpy also provides many functions to create arrays:"
   ]
  },
  {
   "cell_type": "code",
   "execution_count": 5,
   "metadata": {
    "slideshow": {
     "slide_type": "fragment"
    }
   },
   "outputs": [
    {
     "data": {
      "text/plain": [
       "array([[0., 0.],\n",
       "       [0., 0.]])"
      ]
     },
     "execution_count": 5,
     "metadata": {},
     "output_type": "execute_result"
    }
   ],
   "source": [
    "np.zeros((2,2))  # Create an array of all zeros"
   ]
  },
  {
   "cell_type": "code",
   "execution_count": 6,
   "metadata": {
    "slideshow": {
     "slide_type": "fragment"
    }
   },
   "outputs": [
    {
     "data": {
      "text/plain": [
       "array([[1., 1.]])"
      ]
     },
     "execution_count": 6,
     "metadata": {},
     "output_type": "execute_result"
    }
   ],
   "source": [
    "np.ones((1,2))   # Create an array of all ones"
   ]
  },
  {
   "cell_type": "code",
   "execution_count": 7,
   "metadata": {
    "slideshow": {
     "slide_type": "fragment"
    }
   },
   "outputs": [
    {
     "data": {
      "text/plain": [
       "array([[7, 7],\n",
       "       [7, 7]])"
      ]
     },
     "execution_count": 7,
     "metadata": {},
     "output_type": "execute_result"
    }
   ],
   "source": [
    "np.full((2,2), 7) # Create a constant array"
   ]
  },
  {
   "cell_type": "code",
   "execution_count": 8,
   "metadata": {
    "scrolled": false,
    "slideshow": {
     "slide_type": "subslide"
    }
   },
   "outputs": [
    {
     "data": {
      "text/plain": [
       "array([[1., 0.],\n",
       "       [0., 1.]])"
      ]
     },
     "execution_count": 8,
     "metadata": {},
     "output_type": "execute_result"
    }
   ],
   "source": [
    "np.eye(2)         # Create a 2x2 identity matrix"
   ]
  },
  {
   "cell_type": "code",
   "execution_count": 9,
   "metadata": {
    "slideshow": {
     "slide_type": "fragment"
    }
   },
   "outputs": [
    {
     "data": {
      "text/plain": [
       "array([[0.58051801, 0.15984495],\n",
       "       [0.02885522, 0.13910065]])"
      ]
     },
     "execution_count": 9,
     "metadata": {},
     "output_type": "execute_result"
    }
   ],
   "source": [
    "np.random.random((2,2)) # Create an array filled with random values"
   ]
  },
  {
   "cell_type": "markdown",
   "metadata": {
    "slideshow": {
     "slide_type": "subslide"
    }
   },
   "source": [
    "### Array Indexing"
   ]
  },
  {
   "cell_type": "code",
   "execution_count": 10,
   "metadata": {
    "collapsed": true,
    "slideshow": {
     "slide_type": "fragment"
    }
   },
   "outputs": [],
   "source": [
    "A = np.array([[1, 2, 3, 4],  # ----> x-axis\n",
    "              [5, 6, 7, 8],  # |\n",
    "              [9,10,11,12]]) # v\n",
    "                             #   y-axis"
   ]
  },
  {
   "cell_type": "code",
   "execution_count": 11,
   "metadata": {
    "scrolled": true,
    "slideshow": {
     "slide_type": "fragment"
    }
   },
   "outputs": [
    {
     "data": {
      "text/plain": [
       "array([[2, 3],\n",
       "       [6, 7]])"
      ]
     },
     "execution_count": 11,
     "metadata": {},
     "output_type": "execute_result"
    }
   ],
   "source": [
    "A[:2, 1:3]      # a[y-axis, x-axis]"
   ]
  },
  {
   "cell_type": "code",
   "execution_count": 12,
   "metadata": {
    "slideshow": {
     "slide_type": "fragment"
    }
   },
   "outputs": [
    {
     "data": {
      "text/plain": [
       "4"
      ]
     },
     "execution_count": 12,
     "metadata": {},
     "output_type": "execute_result"
    }
   ],
   "source": [
    "A[0, 3]"
   ]
  },
  {
   "cell_type": "code",
   "execution_count": 13,
   "metadata": {
    "slideshow": {
     "slide_type": "fragment"
    }
   },
   "outputs": [
    {
     "data": {
      "text/plain": [
       "array([1, 2, 3, 4])"
      ]
     },
     "execution_count": 13,
     "metadata": {},
     "output_type": "execute_result"
    }
   ],
   "source": [
    "A[0, :]           # 0th row of a"
   ]
  },
  {
   "cell_type": "markdown",
   "metadata": {
    "collapsed": true,
    "slideshow": {
     "slide_type": "subslide"
    }
   },
   "source": [
    "### Array Math"
   ]
  },
  {
   "cell_type": "code",
   "execution_count": 14,
   "metadata": {
    "collapsed": true,
    "slideshow": {
     "slide_type": "fragment"
    }
   },
   "outputs": [],
   "source": [
    "X = np.array([[1, 2],\n",
    "              [3, 4]])\n",
    "Y = np.array([[5, 6],\n",
    "              [7, 8]])"
   ]
  },
  {
   "cell_type": "markdown",
   "metadata": {
    "slideshow": {
     "slide_type": "subslide"
    }
   },
   "source": [
    "** Elementwise Math **"
   ]
  },
  {
   "cell_type": "code",
   "execution_count": 15,
   "metadata": {
    "slideshow": {
     "slide_type": "fragment"
    }
   },
   "outputs": [
    {
     "data": {
      "text/plain": [
       "array([[ 6,  8],\n",
       "       [10, 12]])"
      ]
     },
     "execution_count": 15,
     "metadata": {},
     "output_type": "execute_result"
    }
   ],
   "source": [
    "X + Y"
   ]
  },
  {
   "cell_type": "code",
   "execution_count": 16,
   "metadata": {
    "slideshow": {
     "slide_type": "fragment"
    }
   },
   "outputs": [
    {
     "data": {
      "text/plain": [
       "array([[-4, -4],\n",
       "       [-4, -4]])"
      ]
     },
     "execution_count": 16,
     "metadata": {},
     "output_type": "execute_result"
    }
   ],
   "source": [
    "X - Y"
   ]
  },
  {
   "cell_type": "code",
   "execution_count": 17,
   "metadata": {
    "slideshow": {
     "slide_type": "fragment"
    }
   },
   "outputs": [
    {
     "data": {
      "text/plain": [
       "array([[ 5, 12],\n",
       "       [21, 32]])"
      ]
     },
     "execution_count": 17,
     "metadata": {},
     "output_type": "execute_result"
    }
   ],
   "source": [
    "X*Y"
   ]
  },
  {
   "cell_type": "code",
   "execution_count": 18,
   "metadata": {
    "slideshow": {
     "slide_type": "fragment"
    }
   },
   "outputs": [
    {
     "data": {
      "text/plain": [
       "array([[0.2       , 0.33333333],\n",
       "       [0.42857143, 0.5       ]])"
      ]
     },
     "execution_count": 18,
     "metadata": {},
     "output_type": "execute_result"
    }
   ],
   "source": [
    "X/Y"
   ]
  },
  {
   "cell_type": "code",
   "execution_count": 19,
   "metadata": {
    "slideshow": {
     "slide_type": "subslide"
    }
   },
   "outputs": [
    {
     "data": {
      "text/plain": [
       "array([[1.        , 1.41421356],\n",
       "       [1.73205081, 2.        ]])"
      ]
     },
     "execution_count": 19,
     "metadata": {},
     "output_type": "execute_result"
    }
   ],
   "source": [
    "np.sqrt(X)"
   ]
  },
  {
   "cell_type": "code",
   "execution_count": 20,
   "metadata": {
    "slideshow": {
     "slide_type": "fragment"
    }
   },
   "outputs": [
    {
     "data": {
      "text/plain": [
       "array([4, 6])"
      ]
     },
     "execution_count": 20,
     "metadata": {},
     "output_type": "execute_result"
    }
   ],
   "source": [
    "np.sum(X, axis=0)"
   ]
  },
  {
   "cell_type": "code",
   "execution_count": 21,
   "metadata": {
    "slideshow": {
     "slide_type": "fragment"
    }
   },
   "outputs": [
    {
     "data": {
      "text/plain": [
       "array([3, 7])"
      ]
     },
     "execution_count": 21,
     "metadata": {},
     "output_type": "execute_result"
    }
   ],
   "source": [
    "np.sum(X, axis=1)"
   ]
  },
  {
   "cell_type": "markdown",
   "metadata": {
    "slideshow": {
     "slide_type": "subslide"
    }
   },
   "source": [
    "**Matrix Operations**"
   ]
  },
  {
   "cell_type": "code",
   "execution_count": 22,
   "metadata": {
    "slideshow": {
     "slide_type": "fragment"
    }
   },
   "outputs": [
    {
     "data": {
      "text/plain": [
       "array([[19, 22],\n",
       "       [43, 50]])"
      ]
     },
     "execution_count": 22,
     "metadata": {},
     "output_type": "execute_result"
    }
   ],
   "source": [
    "X.dot(Y)"
   ]
  },
  {
   "cell_type": "code",
   "execution_count": 23,
   "metadata": {
    "slideshow": {
     "slide_type": "fragment"
    }
   },
   "outputs": [
    {
     "data": {
      "text/plain": [
       "array([[1, 3],\n",
       "       [2, 4]])"
      ]
     },
     "execution_count": 23,
     "metadata": {},
     "output_type": "execute_result"
    }
   ],
   "source": [
    "X.T"
   ]
  },
  {
   "cell_type": "code",
   "execution_count": 24,
   "metadata": {
    "slideshow": {
     "slide_type": "fragment"
    }
   },
   "outputs": [
    {
     "data": {
      "text/plain": [
       "array([[-2. ,  1. ],\n",
       "       [ 1.5, -0.5]])"
      ]
     },
     "execution_count": 24,
     "metadata": {},
     "output_type": "execute_result"
    }
   ],
   "source": [
    "np.linalg.inv(X)"
   ]
  },
  {
   "cell_type": "code",
   "execution_count": 25,
   "metadata": {
    "slideshow": {
     "slide_type": "subslide"
    }
   },
   "outputs": [
    {
     "data": {
      "text/plain": [
       "array([[ 5,  6,  7,  8],\n",
       "       [10, 12, 14, 16],\n",
       "       [15, 18, 21, 24],\n",
       "       [20, 24, 28, 32]])"
      ]
     },
     "execution_count": 25,
     "metadata": {},
     "output_type": "execute_result"
    }
   ],
   "source": [
    "np.outer(X, Y)"
   ]
  },
  {
   "cell_type": "code",
   "execution_count": 26,
   "metadata": {
    "slideshow": {
     "slide_type": "fragment"
    }
   },
   "outputs": [
    {
     "data": {
      "text/plain": [
       "array([1, 4])"
      ]
     },
     "execution_count": 26,
     "metadata": {},
     "output_type": "execute_result"
    }
   ],
   "source": [
    "X.diagonal()"
   ]
  },
  {
   "cell_type": "code",
   "execution_count": 27,
   "metadata": {
    "slideshow": {
     "slide_type": "fragment"
    }
   },
   "outputs": [
    {
     "data": {
      "text/plain": [
       "5"
      ]
     },
     "execution_count": 27,
     "metadata": {},
     "output_type": "execute_result"
    }
   ],
   "source": [
    "X.trace()"
   ]
  },
  {
   "cell_type": "markdown",
   "metadata": {
    "slideshow": {
     "slide_type": "subslide"
    }
   },
   "source": [
    "** [EX 1] Ordinary Least Square **\n",
    "$$\n",
    "    \\beta = (X'X)^{-1}X'y\n",
    "$$"
   ]
  },
  {
   "cell_type": "code",
   "execution_count": 28,
   "metadata": {
    "collapsed": true,
    "slideshow": {
     "slide_type": "fragment"
    }
   },
   "outputs": [],
   "source": [
    "X = np.array([[1, 2, 1],\n",
    "              [3, 4, 2],\n",
    "              [1, 2, 3],\n",
    "              [1, 0, 5]])\n",
    "y = np.array([2, 4, 2, 0])"
   ]
  },
  {
   "cell_type": "code",
   "execution_count": 29,
   "metadata": {
    "scrolled": true,
    "slideshow": {
     "slide_type": "fragment"
    }
   },
   "outputs": [
    {
     "data": {
      "text/plain": [
       "array([ 1.33226763e-15,  1.00000000e+00, -4.44089210e-16])"
      ]
     },
     "execution_count": 29,
     "metadata": {},
     "output_type": "execute_result"
    }
   ],
   "source": [
    "np.linalg.inv(X.T.dot(X)).dot(X.T.dot(y))"
   ]
  },
  {
   "cell_type": "markdown",
   "metadata": {
    "slideshow": {
     "slide_type": "subslide"
    }
   },
   "source": [
    "** Random Number Generation **"
   ]
  },
  {
   "cell_type": "code",
   "execution_count": 30,
   "metadata": {
    "slideshow": {
     "slide_type": "fragment"
    }
   },
   "outputs": [
    {
     "data": {
      "text/plain": [
       "array([0.16386193, 0.6726364 , 0.05397649, 0.46084275, 0.93492979])"
      ]
     },
     "execution_count": 30,
     "metadata": {},
     "output_type": "execute_result"
    }
   ],
   "source": [
    "np.random.rand(5)          # 5 samples from the uniform random 0~1"
   ]
  },
  {
   "cell_type": "code",
   "execution_count": 31,
   "metadata": {
    "slideshow": {
     "slide_type": "fragment"
    }
   },
   "outputs": [
    {
     "data": {
      "text/plain": [
       "array([-0.08232404, -0.61288718, -1.31681478, -0.67893377, -1.95350921])"
      ]
     },
     "execution_count": 31,
     "metadata": {},
     "output_type": "execute_result"
    }
   ],
   "source": [
    "np.random.randn(5)         # 5 samples from the normal distribution"
   ]
  },
  {
   "cell_type": "code",
   "execution_count": 32,
   "metadata": {
    "slideshow": {
     "slide_type": "subslide"
    }
   },
   "outputs": [
    {
     "data": {
      "text/plain": [
       "array([[ 0.87236646, -1.43538148,  2.42759317],\n",
       "       [-4.42167953, -0.9751221 ,  2.62832703],\n",
       "       [ 0.61885334,  5.64376685,  3.71895658],\n",
       "       [ 2.15993686,  1.69477188,  4.58447231],\n",
       "       [ 1.87548814,  0.2143829 ,  2.99250759]])"
      ]
     },
     "execution_count": 32,
     "metadata": {},
     "output_type": "execute_result"
    }
   ],
   "source": [
    "u = np.array([1, 2, 3])    # mean vector\n",
    "S = np.array([[7, 1, 3],   # covariance matrix\n",
    "              [1, 5, 1],\n",
    "              [3, 1, 4]])\n",
    "\n",
    "np.random.multivariate_normal(mean=u, cov=S, size=5)"
   ]
  },
  {
   "cell_type": "markdown",
   "metadata": {},
   "source": [
    "## Tensor Operation (Optional)"
   ]
  },
  {
   "cell_type": "markdown",
   "metadata": {},
   "source": [
    "** [About Tensors](https://www.tensorflow.org/versions/r0.12/resources/dims_types) ** \n",
    "\n",
    "| Rank | Math entity            | Python Example      | Tensor Notation\n",
    "|------|------------------------|---------------------|--------------------\n",
    "| 0    | Scalar (rank 0 Tensor) | `s = 483 `          |$T$             |\n",
    "| 1    | Vector (rank 1 Tensor) |` v = [1.1, 2.2, 3.3]` |$T_{i}$  |\n",
    "| 2    | Matrix (rank 2 Tensor) | `m = [[1, 2, 3], [4,5,6]]`     |$T_{ij}$       |\n",
    "| 3    | rank 3 Tensor          |` t = [[[1,2], [4,5]], [[6,7], [8,9]]]`|$T_{ijk}$    |\n",
    "| n    | rank n Tensor          | ....                |$T_{ijkl...}$        |"
   ]
  },
  {
   "cell_type": "markdown",
   "metadata": {},
   "source": [
    "### einsum (Einstein Summation Convention) \n"
   ]
  },
  {
   "cell_type": "code",
   "execution_count": 33,
   "metadata": {},
   "outputs": [],
   "source": [
    "x, y = np.array([1,2,3,4]), np.array([1,2,1,2])"
   ]
  },
  {
   "cell_type": "markdown",
   "metadata": {},
   "source": [
    "** vector sum **"
   ]
  },
  {
   "cell_type": "code",
   "execution_count": 34,
   "metadata": {},
   "outputs": [
    {
     "data": {
      "text/plain": [
       "10"
      ]
     },
     "execution_count": 34,
     "metadata": {},
     "output_type": "execute_result"
    }
   ],
   "source": [
    "np.einsum('i->', x)"
   ]
  },
  {
   "cell_type": "markdown",
   "metadata": {},
   "source": [
    "** dot product **"
   ]
  },
  {
   "cell_type": "code",
   "execution_count": 35,
   "metadata": {},
   "outputs": [
    {
     "data": {
      "text/plain": [
       "array(16)"
      ]
     },
     "execution_count": 35,
     "metadata": {},
     "output_type": "execute_result"
    }
   ],
   "source": [
    "np.einsum('i,i -> ', x, y)"
   ]
  },
  {
   "cell_type": "markdown",
   "metadata": {},
   "source": [
    "** elementwise product **"
   ]
  },
  {
   "cell_type": "code",
   "execution_count": 36,
   "metadata": {},
   "outputs": [
    {
     "data": {
      "text/plain": [
       "array([1, 4, 3, 8])"
      ]
     },
     "execution_count": 36,
     "metadata": {},
     "output_type": "execute_result"
    }
   ],
   "source": [
    "np.einsum('i,i -> i', x, y)"
   ]
  },
  {
   "cell_type": "markdown",
   "metadata": {},
   "source": [
    "**outer product**"
   ]
  },
  {
   "cell_type": "code",
   "execution_count": 37,
   "metadata": {},
   "outputs": [
    {
     "data": {
      "text/plain": [
       "array([[1, 2, 1, 2],\n",
       "       [2, 4, 2, 4],\n",
       "       [3, 6, 3, 6],\n",
       "       [4, 8, 4, 8]])"
      ]
     },
     "execution_count": 37,
     "metadata": {},
     "output_type": "execute_result"
    }
   ],
   "source": [
    "np.einsum('i,j -> ij', x, y)"
   ]
  },
  {
   "cell_type": "code",
   "execution_count": 38,
   "metadata": {
    "collapsed": true
   },
   "outputs": [],
   "source": [
    "X = np.array([[0,1,1,1],\n",
    "             [2,3,1,4], \n",
    "             [1,2,1,4], \n",
    "             [5,2,1,2]])\n",
    "Y = np.array([[4,2,3,1],\n",
    "              [1,4,2,3],\n",
    "              [1,2,1,1],\n",
    "              [2,1,4,2]])"
   ]
  },
  {
   "cell_type": "markdown",
   "metadata": {},
   "source": [
    "$X\\vec{y}$"
   ]
  },
  {
   "cell_type": "code",
   "execution_count": 39,
   "metadata": {},
   "outputs": [
    {
     "data": {
      "text/plain": [
       "array([ 5, 17, 14, 14])"
      ]
     },
     "execution_count": 39,
     "metadata": {},
     "output_type": "execute_result"
    }
   ],
   "source": [
    "np.einsum('ij,j->i', X, y)"
   ]
  },
  {
   "cell_type": "markdown",
   "metadata": {},
   "source": [
    "$\\vec{y}^T X$"
   ]
  },
  {
   "cell_type": "code",
   "execution_count": 40,
   "metadata": {},
   "outputs": [
    {
     "data": {
      "text/plain": [
       "array([15, 13,  6, 17])"
      ]
     },
     "execution_count": 40,
     "metadata": {},
     "output_type": "execute_result"
    }
   ],
   "source": [
    "np.einsum('i,ij->j', y, X)"
   ]
  },
  {
   "cell_type": "markdown",
   "metadata": {},
   "source": [
    "$XY$"
   ]
  },
  {
   "cell_type": "code",
   "execution_count": 41,
   "metadata": {},
   "outputs": [
    {
     "data": {
      "text/plain": [
       "array([[ 4,  7,  7,  6],\n",
       "       [20, 22, 29, 20],\n",
       "       [15, 16, 24, 16],\n",
       "       [27, 22, 28, 16]])"
      ]
     },
     "execution_count": 41,
     "metadata": {},
     "output_type": "execute_result"
    }
   ],
   "source": [
    "np.einsum('ij,jk->ik', X, Y)"
   ]
  },
  {
   "cell_type": "markdown",
   "metadata": {},
   "source": [
    "** Tensor Vector Product **\n",
    "\n",
    "<center>\n",
    "<img src=\"https://i.stack.imgur.com/5QsMD.png\" alt=\"Drawing\" style=\"width: 600px;\"/>\n",
    "</center>\n",
    "\n",
    "For more detail, see [here](http://venus.unive.it/r.casarin/PhDEco/Mat/Algebra.pdf).\n",
    "\n",
    "$T_{ijk} y^i$"
   ]
  },
  {
   "cell_type": "code",
   "execution_count": 42,
   "metadata": {
    "collapsed": true
   },
   "outputs": [],
   "source": [
    "T = np.random.randn(4,4,4)"
   ]
  },
  {
   "cell_type": "code",
   "execution_count": 43,
   "metadata": {},
   "outputs": [
    {
     "data": {
      "text/plain": [
       "array([[ 7.43387253e-03,  2.33223134e+00,  7.00555788e+00,\n",
       "        -5.15158665e-01],\n",
       "       [-2.80647657e+00, -2.02999767e+00,  8.91679549e+00,\n",
       "        -5.01023115e+00],\n",
       "       [-1.08796079e+00, -1.30080892e+00, -2.82807542e+00,\n",
       "         2.34170054e+00],\n",
       "       [-3.35685996e+00,  4.69469941e+00, -3.63644062e+00,\n",
       "        -3.77662624e+00]])"
      ]
     },
     "execution_count": 43,
     "metadata": {},
     "output_type": "execute_result"
    }
   ],
   "source": [
    "np.einsum('ijk,i->jk',T, y)"
   ]
  },
  {
   "cell_type": "markdown",
   "metadata": {
    "slideshow": {
     "slide_type": "slide"
    }
   },
   "source": [
    "# Pandas\n",
    "\n",
    "<center>\n",
    "<img src=\"https://pandas.pydata.org/_static/pandas_logo.png\" alt=\"Drawing\" style=\"width: 600px;\"/>\n",
    "</center>\n",
    "* Similar to R\n",
    "* DataFrame object\n",
    "* Apply functions\n",
    "* Data merge, join, concatenate ...\n",
    "* Data operations ..."
   ]
  },
  {
   "cell_type": "code",
   "execution_count": 44,
   "metadata": {
    "collapsed": true,
    "slideshow": {
     "slide_type": "subslide"
    }
   },
   "outputs": [],
   "source": [
    "import pandas as pd"
   ]
  },
  {
   "cell_type": "markdown",
   "metadata": {
    "slideshow": {
     "slide_type": "subslide"
    }
   },
   "source": [
    "## Series\n",
    "(= 1D Array + index (or key))"
   ]
  },
  {
   "cell_type": "code",
   "execution_count": 45,
   "metadata": {
    "slideshow": {
     "slide_type": "fragment"
    }
   },
   "outputs": [
    {
     "data": {
      "text/plain": [
       "0    1\n",
       "1    2\n",
       "2    3\n",
       "3    4\n",
       "4    5\n",
       "dtype: int64"
      ]
     },
     "execution_count": 45,
     "metadata": {},
     "output_type": "execute_result"
    }
   ],
   "source": [
    "x = pd.Series([1, 2, 3, 4, 5])\n",
    "x"
   ]
  },
  {
   "cell_type": "code",
   "execution_count": 46,
   "metadata": {
    "slideshow": {
     "slide_type": "subslide"
    }
   },
   "outputs": [
    {
     "data": {
      "text/plain": [
       "array([1, 2, 3, 4, 5], dtype=int64)"
      ]
     },
     "execution_count": 46,
     "metadata": {},
     "output_type": "execute_result"
    }
   ],
   "source": [
    "x.values          # pd.Series -> np.ndarray"
   ]
  },
  {
   "cell_type": "code",
   "execution_count": 47,
   "metadata": {
    "slideshow": {
     "slide_type": "fragment"
    }
   },
   "outputs": [
    {
     "data": {
      "text/plain": [
       "numpy.ndarray"
      ]
     },
     "execution_count": 47,
     "metadata": {},
     "output_type": "execute_result"
    }
   ],
   "source": [
    "type(x.values)"
   ]
  },
  {
   "cell_type": "markdown",
   "metadata": {
    "slideshow": {
     "slide_type": "subslide"
    }
   },
   "source": [
    "** Index **"
   ]
  },
  {
   "cell_type": "code",
   "execution_count": 48,
   "metadata": {
    "slideshow": {
     "slide_type": "fragment"
    }
   },
   "outputs": [
    {
     "data": {
      "text/plain": [
       "a    1\n",
       "b    2\n",
       "c    3\n",
       "d    4\n",
       "e    5\n",
       "dtype: int64"
      ]
     },
     "execution_count": 48,
     "metadata": {},
     "output_type": "execute_result"
    }
   ],
   "source": [
    "x.index = ['a', 'b', 'c', 'd', 'e']\n",
    "x"
   ]
  },
  {
   "cell_type": "code",
   "execution_count": 49,
   "metadata": {
    "slideshow": {
     "slide_type": "fragment"
    }
   },
   "outputs": [
    {
     "data": {
      "text/plain": [
       "a    1\n",
       "b    2\n",
       "c    3\n",
       "d    4\n",
       "e    5\n",
       "dtype: int64"
      ]
     },
     "execution_count": 49,
     "metadata": {},
     "output_type": "execute_result"
    }
   ],
   "source": [
    "pd.Series([1, 2, 3, 4, 5], index=['a', 'b', 'c', 'd', 'e'])"
   ]
  },
  {
   "cell_type": "code",
   "execution_count": 50,
   "metadata": {
    "slideshow": {
     "slide_type": "subslide"
    }
   },
   "outputs": [
    {
     "data": {
      "text/plain": [
       "a    1\n",
       "b    2\n",
       "c    3\n",
       "d    4\n",
       "e    5\n",
       "dtype: int64"
      ]
     },
     "execution_count": 50,
     "metadata": {},
     "output_type": "execute_result"
    }
   ],
   "source": [
    "pd.Series({'a':1, 'b':2, 'c':3, 'd':4, 'e':5})"
   ]
  },
  {
   "cell_type": "markdown",
   "metadata": {
    "slideshow": {
     "slide_type": "subslide"
    }
   },
   "source": [
    "** Indexing **"
   ]
  },
  {
   "cell_type": "code",
   "execution_count": 51,
   "metadata": {
    "slideshow": {
     "slide_type": "fragment"
    }
   },
   "outputs": [
    {
     "data": {
      "text/plain": [
       "a    1\n",
       "b    2\n",
       "c    3\n",
       "dtype: int64"
      ]
     },
     "execution_count": 51,
     "metadata": {},
     "output_type": "execute_result"
    }
   ],
   "source": [
    "x[0:3]"
   ]
  },
  {
   "cell_type": "code",
   "execution_count": 52,
   "metadata": {
    "slideshow": {
     "slide_type": "fragment"
    }
   },
   "outputs": [
    {
     "data": {
      "text/plain": [
       "1"
      ]
     },
     "execution_count": 52,
     "metadata": {},
     "output_type": "execute_result"
    }
   ],
   "source": [
    "x['a']"
   ]
  },
  {
   "cell_type": "code",
   "execution_count": 53,
   "metadata": {
    "slideshow": {
     "slide_type": "fragment"
    }
   },
   "outputs": [
    {
     "data": {
      "text/plain": [
       "a    1\n",
       "c    3\n",
       "d    4\n",
       "dtype: int64"
      ]
     },
     "execution_count": 53,
     "metadata": {},
     "output_type": "execute_result"
    }
   ],
   "source": [
    "x[['a','c','d']]"
   ]
  },
  {
   "cell_type": "code",
   "execution_count": 54,
   "metadata": {
    "slideshow": {
     "slide_type": "subslide"
    }
   },
   "outputs": [
    {
     "data": {
      "text/plain": [
       "c    3\n",
       "d    4\n",
       "e    5\n",
       "dtype: int64"
      ]
     },
     "execution_count": 54,
     "metadata": {},
     "output_type": "execute_result"
    }
   ],
   "source": [
    "x[x > 2]          # Selection"
   ]
  },
  {
   "cell_type": "code",
   "execution_count": 55,
   "metadata": {
    "slideshow": {
     "slide_type": "fragment"
    }
   },
   "outputs": [
    {
     "data": {
      "text/plain": [
       "d    4\n",
       "dtype: int64"
      ]
     },
     "execution_count": 55,
     "metadata": {},
     "output_type": "execute_result"
    }
   ],
   "source": [
    "x[(x > 2) & (x % 3 == 1)]      # Logical Selection"
   ]
  },
  {
   "cell_type": "markdown",
   "metadata": {
    "slideshow": {
     "slide_type": "subslide"
    }
   },
   "source": [
    "** Elementwise Math **"
   ]
  },
  {
   "cell_type": "code",
   "execution_count": 56,
   "metadata": {
    "slideshow": {
     "slide_type": "fragment"
    }
   },
   "outputs": [
    {
     "data": {
      "text/plain": [
       "a     2\n",
       "b     4\n",
       "c     6\n",
       "d     8\n",
       "e    10\n",
       "dtype: int64"
      ]
     },
     "execution_count": 56,
     "metadata": {},
     "output_type": "execute_result"
    }
   ],
   "source": [
    "x * 2"
   ]
  },
  {
   "cell_type": "code",
   "execution_count": 57,
   "metadata": {
    "slideshow": {
     "slide_type": "fragment"
    }
   },
   "outputs": [
    {
     "data": {
      "text/plain": [
       "a      2.718282\n",
       "b      7.389056\n",
       "c     20.085537\n",
       "d     54.598150\n",
       "e    148.413159\n",
       "dtype: float64"
      ]
     },
     "execution_count": 57,
     "metadata": {},
     "output_type": "execute_result"
    }
   ],
   "source": [
    "np.exp(x)"
   ]
  },
  {
   "cell_type": "markdown",
   "metadata": {
    "slideshow": {
     "slide_type": "subslide"
    }
   },
   "source": [
    "** Missing Value **"
   ]
  },
  {
   "cell_type": "code",
   "execution_count": 58,
   "metadata": {
    "slideshow": {
     "slide_type": "fragment"
    }
   },
   "outputs": [
    {
     "data": {
      "text/plain": [
       "True"
      ]
     },
     "execution_count": 58,
     "metadata": {},
     "output_type": "execute_result"
    }
   ],
   "source": [
    "pd.isnull(np.nan)"
   ]
  },
  {
   "cell_type": "code",
   "execution_count": 59,
   "metadata": {
    "slideshow": {
     "slide_type": "fragment"
    }
   },
   "outputs": [
    {
     "data": {
      "text/plain": [
       "0    False\n",
       "1    False\n",
       "2     True\n",
       "3    False\n",
       "4    False\n",
       "dtype: bool"
      ]
     },
     "execution_count": 59,
     "metadata": {},
     "output_type": "execute_result"
    }
   ],
   "source": [
    "x = pd.Series([1, 2, np.nan, 4, 5])\n",
    "pd.isnull(x)"
   ]
  },
  {
   "cell_type": "code",
   "execution_count": 60,
   "metadata": {
    "slideshow": {
     "slide_type": "subslide"
    }
   },
   "outputs": [
    {
     "data": {
      "text/plain": [
       "0    1.0\n",
       "1    2.0\n",
       "3    4.0\n",
       "4    5.0\n",
       "dtype: float64"
      ]
     },
     "execution_count": 60,
     "metadata": {},
     "output_type": "execute_result"
    }
   ],
   "source": [
    "x[~pd.isnull(x)]"
   ]
  },
  {
   "cell_type": "code",
   "execution_count": 61,
   "metadata": {
    "slideshow": {
     "slide_type": "fragment"
    }
   },
   "outputs": [
    {
     "data": {
      "text/plain": [
       "0      1.0\n",
       "1      2.0\n",
       "2    999.0\n",
       "3      4.0\n",
       "4      5.0\n",
       "dtype: float64"
      ]
     },
     "execution_count": 61,
     "metadata": {},
     "output_type": "execute_result"
    }
   ],
   "source": [
    "x.fillna(999)"
   ]
  },
  {
   "cell_type": "code",
   "execution_count": 62,
   "metadata": {
    "slideshow": {
     "slide_type": "fragment"
    }
   },
   "outputs": [
    {
     "data": {
      "text/plain": [
       "{1, 2, 3}"
      ]
     },
     "execution_count": 62,
     "metadata": {},
     "output_type": "execute_result"
    }
   ],
   "source": [
    "x = (1, 2, 3, 4)\n",
    "y = {1, 2, 3, 3, 3, 3}\n",
    "y"
   ]
  },
  {
   "cell_type": "markdown",
   "metadata": {
    "slideshow": {
     "slide_type": "subslide"
    }
   },
   "source": [
    "## DataFrame"
   ]
  },
  {
   "cell_type": "code",
   "execution_count": 63,
   "metadata": {
    "slideshow": {
     "slide_type": "fragment"
    }
   },
   "outputs": [
    {
     "data": {
      "text/html": [
       "<div>\n",
       "<style scoped>\n",
       "    .dataframe tbody tr th:only-of-type {\n",
       "        vertical-align: middle;\n",
       "    }\n",
       "\n",
       "    .dataframe tbody tr th {\n",
       "        vertical-align: top;\n",
       "    }\n",
       "\n",
       "    .dataframe thead th {\n",
       "        text-align: right;\n",
       "    }\n",
       "</style>\n",
       "<table border=\"1\" class=\"dataframe\">\n",
       "  <thead>\n",
       "    <tr style=\"text-align: right;\">\n",
       "      <th></th>\n",
       "      <th>popul</th>\n",
       "      <th>state</th>\n",
       "      <th>year</th>\n",
       "    </tr>\n",
       "  </thead>\n",
       "  <tbody>\n",
       "    <tr>\n",
       "      <th>0</th>\n",
       "      <td>5.0</td>\n",
       "      <td>VA</td>\n",
       "      <td>2012</td>\n",
       "    </tr>\n",
       "    <tr>\n",
       "      <th>1</th>\n",
       "      <td>5.1</td>\n",
       "      <td>VA</td>\n",
       "      <td>2013</td>\n",
       "    </tr>\n",
       "    <tr>\n",
       "      <th>2</th>\n",
       "      <td>5.2</td>\n",
       "      <td>VA</td>\n",
       "      <td>2014</td>\n",
       "    </tr>\n",
       "    <tr>\n",
       "      <th>3</th>\n",
       "      <td>4.0</td>\n",
       "      <td>MD</td>\n",
       "      <td>2014</td>\n",
       "    </tr>\n",
       "    <tr>\n",
       "      <th>4</th>\n",
       "      <td>4.1</td>\n",
       "      <td>MD</td>\n",
       "      <td>2015</td>\n",
       "    </tr>\n",
       "  </tbody>\n",
       "</table>\n",
       "</div>"
      ],
      "text/plain": [
       "   popul state  year\n",
       "0    5.0    VA  2012\n",
       "1    5.1    VA  2013\n",
       "2    5.2    VA  2014\n",
       "3    4.0    MD  2014\n",
       "4    4.1    MD  2015"
      ]
     },
     "execution_count": 63,
     "metadata": {},
     "output_type": "execute_result"
    }
   ],
   "source": [
    "data = {'state' : ['VA', 'VA', 'VA', 'MD', 'MD'],\n",
    "        'year' : [2012, 2013, 2014, 2014, 2015],\n",
    "        'popul' : [5.0, 5.1, 5.2, 4.0, 4.1]}\n",
    "df = pd.DataFrame(data)                     # dict -> pd.DataFrame\n",
    "df"
   ]
  },
  {
   "cell_type": "code",
   "execution_count": 64,
   "metadata": {
    "slideshow": {
     "slide_type": "subslide"
    }
   },
   "outputs": [
    {
     "data": {
      "text/html": [
       "<div>\n",
       "<style scoped>\n",
       "    .dataframe tbody tr th:only-of-type {\n",
       "        vertical-align: middle;\n",
       "    }\n",
       "\n",
       "    .dataframe tbody tr th {\n",
       "        vertical-align: top;\n",
       "    }\n",
       "\n",
       "    .dataframe thead th {\n",
       "        text-align: right;\n",
       "    }\n",
       "</style>\n",
       "<table border=\"1\" class=\"dataframe\">\n",
       "  <thead>\n",
       "    <tr style=\"text-align: right;\">\n",
       "      <th></th>\n",
       "      <th>popul</th>\n",
       "      <th>state</th>\n",
       "      <th>year</th>\n",
       "    </tr>\n",
       "  </thead>\n",
       "  <tbody>\n",
       "    <tr>\n",
       "      <th>0</th>\n",
       "      <td>5.0</td>\n",
       "      <td>VA</td>\n",
       "      <td>2012</td>\n",
       "    </tr>\n",
       "    <tr>\n",
       "      <th>1</th>\n",
       "      <td>5.1</td>\n",
       "      <td>VA</td>\n",
       "      <td>2013</td>\n",
       "    </tr>\n",
       "    <tr>\n",
       "      <th>2</th>\n",
       "      <td>5.2</td>\n",
       "      <td>VA</td>\n",
       "      <td>2014</td>\n",
       "    </tr>\n",
       "    <tr>\n",
       "      <th>3</th>\n",
       "      <td>4.0</td>\n",
       "      <td>MD</td>\n",
       "      <td>2014</td>\n",
       "    </tr>\n",
       "    <tr>\n",
       "      <th>4</th>\n",
       "      <td>4.1</td>\n",
       "      <td>MD</td>\n",
       "      <td>2015</td>\n",
       "    </tr>\n",
       "  </tbody>\n",
       "</table>\n",
       "</div>"
      ],
      "text/plain": [
       "   popul state  year\n",
       "0    5.0    VA  2012\n",
       "1    5.1    VA  2013\n",
       "2    5.2    VA  2014\n",
       "3    4.0    MD  2014\n",
       "4    4.1    MD  2015"
      ]
     },
     "execution_count": 64,
     "metadata": {},
     "output_type": "execute_result"
    }
   ],
   "source": [
    "pd.DataFrame([[5.0, 'VA', 2012],           # np.ndarray + columns - > pd.DataFrame\n",
    "              [5.1, 'VA', 2013],\n",
    "              [5.2, 'VA', 2014],\n",
    "              [4.0, 'MD', 2014],\n",
    "              [4.1, 'MD', 2015]],\n",
    "             columns = ['popul', 'state', 'year'])"
   ]
  },
  {
   "cell_type": "markdown",
   "metadata": {
    "slideshow": {
     "slide_type": "subslide"
    }
   },
   "source": [
    "** Retreiving **"
   ]
  },
  {
   "cell_type": "code",
   "execution_count": 65,
   "metadata": {
    "slideshow": {
     "slide_type": "fragment"
    }
   },
   "outputs": [
    {
     "data": {
      "text/plain": [
       "0    5.0\n",
       "1    5.1\n",
       "2    5.2\n",
       "3    4.0\n",
       "4    4.1\n",
       "Name: popul, dtype: float64"
      ]
     },
     "execution_count": 65,
     "metadata": {},
     "output_type": "execute_result"
    }
   ],
   "source": [
    "df['popul']"
   ]
  },
  {
   "cell_type": "markdown",
   "metadata": {
    "slideshow": {
     "slide_type": "subslide"
    }
   },
   "source": [
    "> **<font color='red'> Caution ! </font>** **Not Recommend**\n",
    "\n",
    "> attribute access using (**.**) can collide with other class methods. "
   ]
  },
  {
   "cell_type": "code",
   "execution_count": 66,
   "metadata": {
    "slideshow": {
     "slide_type": "fragment"
    }
   },
   "outputs": [
    {
     "data": {
      "text/plain": [
       "0    5.0\n",
       "1    5.1\n",
       "2    5.2\n",
       "3    4.0\n",
       "4    4.1\n",
       "Name: popul, dtype: float64"
      ]
     },
     "execution_count": 66,
     "metadata": {},
     "output_type": "execute_result"
    }
   ],
   "source": [
    "df.popul           # Not Recommend !"
   ]
  },
  {
   "cell_type": "code",
   "execution_count": 67,
   "metadata": {
    "slideshow": {
     "slide_type": "subslide"
    }
   },
   "outputs": [
    {
     "data": {
      "text/plain": [
       "popul       5\n",
       "state      VA\n",
       "year     2012\n",
       "Name: 0, dtype: object"
      ]
     },
     "execution_count": 67,
     "metadata": {},
     "output_type": "execute_result"
    }
   ],
   "source": [
    "df.iloc[0]           # 0-th row"
   ]
  },
  {
   "cell_type": "markdown",
   "metadata": {
    "slideshow": {
     "slide_type": "subslide"
    }
   },
   "source": [
    "** Add, Delete Columns **"
   ]
  },
  {
   "cell_type": "code",
   "execution_count": 68,
   "metadata": {
    "slideshow": {
     "slide_type": "fragment"
    }
   },
   "outputs": [
    {
     "data": {
      "text/html": [
       "<div>\n",
       "<style scoped>\n",
       "    .dataframe tbody tr th:only-of-type {\n",
       "        vertical-align: middle;\n",
       "    }\n",
       "\n",
       "    .dataframe tbody tr th {\n",
       "        vertical-align: top;\n",
       "    }\n",
       "\n",
       "    .dataframe thead th {\n",
       "        text-align: right;\n",
       "    }\n",
       "</style>\n",
       "<table border=\"1\" class=\"dataframe\">\n",
       "  <thead>\n",
       "    <tr style=\"text-align: right;\">\n",
       "      <th></th>\n",
       "      <th>popul</th>\n",
       "      <th>state</th>\n",
       "      <th>year</th>\n",
       "      <th>alt</th>\n",
       "    </tr>\n",
       "  </thead>\n",
       "  <tbody>\n",
       "    <tr>\n",
       "      <th>0</th>\n",
       "      <td>5.0</td>\n",
       "      <td>VA</td>\n",
       "      <td>2012</td>\n",
       "      <td>42.1</td>\n",
       "    </tr>\n",
       "    <tr>\n",
       "      <th>1</th>\n",
       "      <td>5.1</td>\n",
       "      <td>VA</td>\n",
       "      <td>2013</td>\n",
       "      <td>42.1</td>\n",
       "    </tr>\n",
       "    <tr>\n",
       "      <th>2</th>\n",
       "      <td>5.2</td>\n",
       "      <td>VA</td>\n",
       "      <td>2014</td>\n",
       "      <td>42.1</td>\n",
       "    </tr>\n",
       "    <tr>\n",
       "      <th>3</th>\n",
       "      <td>4.0</td>\n",
       "      <td>MD</td>\n",
       "      <td>2014</td>\n",
       "      <td>46.4</td>\n",
       "    </tr>\n",
       "    <tr>\n",
       "      <th>4</th>\n",
       "      <td>4.1</td>\n",
       "      <td>MD</td>\n",
       "      <td>2015</td>\n",
       "      <td>46.4</td>\n",
       "    </tr>\n",
       "  </tbody>\n",
       "</table>\n",
       "</div>"
      ],
      "text/plain": [
       "   popul state  year   alt\n",
       "0    5.0    VA  2012  42.1\n",
       "1    5.1    VA  2013  42.1\n",
       "2    5.2    VA  2014  42.1\n",
       "3    4.0    MD  2014  46.4\n",
       "4    4.1    MD  2015  46.4"
      ]
     },
     "execution_count": 68,
     "metadata": {},
     "output_type": "execute_result"
    }
   ],
   "source": [
    "df['alt'] = [42.1, 42.1, 42.1, 46.4, 46.4]\n",
    "df"
   ]
  },
  {
   "cell_type": "code",
   "execution_count": 69,
   "metadata": {
    "slideshow": {
     "slide_type": "fragment"
    }
   },
   "outputs": [
    {
     "data": {
      "text/html": [
       "<div>\n",
       "<style scoped>\n",
       "    .dataframe tbody tr th:only-of-type {\n",
       "        vertical-align: middle;\n",
       "    }\n",
       "\n",
       "    .dataframe tbody tr th {\n",
       "        vertical-align: top;\n",
       "    }\n",
       "\n",
       "    .dataframe thead th {\n",
       "        text-align: right;\n",
       "    }\n",
       "</style>\n",
       "<table border=\"1\" class=\"dataframe\">\n",
       "  <thead>\n",
       "    <tr style=\"text-align: right;\">\n",
       "      <th></th>\n",
       "      <th>popul</th>\n",
       "      <th>state</th>\n",
       "      <th>year</th>\n",
       "      <th>alt</th>\n",
       "      <th>delta</th>\n",
       "    </tr>\n",
       "  </thead>\n",
       "  <tbody>\n",
       "    <tr>\n",
       "      <th>0</th>\n",
       "      <td>5.0</td>\n",
       "      <td>VA</td>\n",
       "      <td>2012</td>\n",
       "      <td>42.1</td>\n",
       "      <td>37.1</td>\n",
       "    </tr>\n",
       "    <tr>\n",
       "      <th>1</th>\n",
       "      <td>5.1</td>\n",
       "      <td>VA</td>\n",
       "      <td>2013</td>\n",
       "      <td>42.1</td>\n",
       "      <td>37.0</td>\n",
       "    </tr>\n",
       "    <tr>\n",
       "      <th>2</th>\n",
       "      <td>5.2</td>\n",
       "      <td>VA</td>\n",
       "      <td>2014</td>\n",
       "      <td>42.1</td>\n",
       "      <td>36.9</td>\n",
       "    </tr>\n",
       "    <tr>\n",
       "      <th>3</th>\n",
       "      <td>4.0</td>\n",
       "      <td>MD</td>\n",
       "      <td>2014</td>\n",
       "      <td>46.4</td>\n",
       "      <td>42.4</td>\n",
       "    </tr>\n",
       "    <tr>\n",
       "      <th>4</th>\n",
       "      <td>4.1</td>\n",
       "      <td>MD</td>\n",
       "      <td>2015</td>\n",
       "      <td>46.4</td>\n",
       "      <td>42.3</td>\n",
       "    </tr>\n",
       "  </tbody>\n",
       "</table>\n",
       "</div>"
      ],
      "text/plain": [
       "   popul state  year   alt  delta\n",
       "0    5.0    VA  2012  42.1   37.1\n",
       "1    5.1    VA  2013  42.1   37.0\n",
       "2    5.2    VA  2014  42.1   36.9\n",
       "3    4.0    MD  2014  46.4   42.4\n",
       "4    4.1    MD  2015  46.4   42.3"
      ]
     },
     "execution_count": 69,
     "metadata": {},
     "output_type": "execute_result"
    }
   ],
   "source": [
    "df['delta'] = df['alt'] - df['popul']\n",
    "df"
   ]
  },
  {
   "cell_type": "code",
   "execution_count": 70,
   "metadata": {
    "slideshow": {
     "slide_type": "subslide"
    }
   },
   "outputs": [
    {
     "data": {
      "text/html": [
       "<div>\n",
       "<style scoped>\n",
       "    .dataframe tbody tr th:only-of-type {\n",
       "        vertical-align: middle;\n",
       "    }\n",
       "\n",
       "    .dataframe tbody tr th {\n",
       "        vertical-align: top;\n",
       "    }\n",
       "\n",
       "    .dataframe thead th {\n",
       "        text-align: right;\n",
       "    }\n",
       "</style>\n",
       "<table border=\"1\" class=\"dataframe\">\n",
       "  <thead>\n",
       "    <tr style=\"text-align: right;\">\n",
       "      <th></th>\n",
       "      <th>popul</th>\n",
       "      <th>state</th>\n",
       "      <th>year</th>\n",
       "      <th>delta</th>\n",
       "    </tr>\n",
       "  </thead>\n",
       "  <tbody>\n",
       "    <tr>\n",
       "      <th>0</th>\n",
       "      <td>5.0</td>\n",
       "      <td>VA</td>\n",
       "      <td>2012</td>\n",
       "      <td>37.1</td>\n",
       "    </tr>\n",
       "    <tr>\n",
       "      <th>1</th>\n",
       "      <td>5.1</td>\n",
       "      <td>VA</td>\n",
       "      <td>2013</td>\n",
       "      <td>37.0</td>\n",
       "    </tr>\n",
       "    <tr>\n",
       "      <th>2</th>\n",
       "      <td>5.2</td>\n",
       "      <td>VA</td>\n",
       "      <td>2014</td>\n",
       "      <td>36.9</td>\n",
       "    </tr>\n",
       "    <tr>\n",
       "      <th>3</th>\n",
       "      <td>4.0</td>\n",
       "      <td>MD</td>\n",
       "      <td>2014</td>\n",
       "      <td>42.4</td>\n",
       "    </tr>\n",
       "    <tr>\n",
       "      <th>4</th>\n",
       "      <td>4.1</td>\n",
       "      <td>MD</td>\n",
       "      <td>2015</td>\n",
       "      <td>42.3</td>\n",
       "    </tr>\n",
       "  </tbody>\n",
       "</table>\n",
       "</div>"
      ],
      "text/plain": [
       "   popul state  year  delta\n",
       "0    5.0    VA  2012   37.1\n",
       "1    5.1    VA  2013   37.0\n",
       "2    5.2    VA  2014   36.9\n",
       "3    4.0    MD  2014   42.4\n",
       "4    4.1    MD  2015   42.3"
      ]
     },
     "execution_count": 70,
     "metadata": {},
     "output_type": "execute_result"
    }
   ],
   "source": [
    "df = df.drop('alt', axis=1)\n",
    "df"
   ]
  },
  {
   "cell_type": "markdown",
   "metadata": {
    "slideshow": {
     "slide_type": "subslide"
    }
   },
   "source": [
    "** Add, Delete Rows **"
   ]
  },
  {
   "cell_type": "code",
   "execution_count": 71,
   "metadata": {
    "slideshow": {
     "slide_type": "fragment"
    }
   },
   "outputs": [
    {
     "data": {
      "text/html": [
       "<div>\n",
       "<style scoped>\n",
       "    .dataframe tbody tr th:only-of-type {\n",
       "        vertical-align: middle;\n",
       "    }\n",
       "\n",
       "    .dataframe tbody tr th {\n",
       "        vertical-align: top;\n",
       "    }\n",
       "\n",
       "    .dataframe thead th {\n",
       "        text-align: right;\n",
       "    }\n",
       "</style>\n",
       "<table border=\"1\" class=\"dataframe\">\n",
       "  <thead>\n",
       "    <tr style=\"text-align: right;\">\n",
       "      <th></th>\n",
       "      <th>popul</th>\n",
       "      <th>state</th>\n",
       "      <th>year</th>\n",
       "      <th>delta</th>\n",
       "    </tr>\n",
       "  </thead>\n",
       "  <tbody>\n",
       "    <tr>\n",
       "      <th>0</th>\n",
       "      <td>5.0</td>\n",
       "      <td>VA</td>\n",
       "      <td>2012</td>\n",
       "      <td>37.1</td>\n",
       "    </tr>\n",
       "    <tr>\n",
       "      <th>1</th>\n",
       "      <td>5.1</td>\n",
       "      <td>VA</td>\n",
       "      <td>2013</td>\n",
       "      <td>37.0</td>\n",
       "    </tr>\n",
       "    <tr>\n",
       "      <th>2</th>\n",
       "      <td>5.2</td>\n",
       "      <td>VA</td>\n",
       "      <td>2014</td>\n",
       "      <td>36.9</td>\n",
       "    </tr>\n",
       "    <tr>\n",
       "      <th>3</th>\n",
       "      <td>4.0</td>\n",
       "      <td>MD</td>\n",
       "      <td>2014</td>\n",
       "      <td>42.4</td>\n",
       "    </tr>\n",
       "    <tr>\n",
       "      <th>4</th>\n",
       "      <td>4.1</td>\n",
       "      <td>MD</td>\n",
       "      <td>2015</td>\n",
       "      <td>42.3</td>\n",
       "    </tr>\n",
       "    <tr>\n",
       "      <th>5</th>\n",
       "      <td>9.7</td>\n",
       "      <td>SE</td>\n",
       "      <td>2016</td>\n",
       "      <td>72.1</td>\n",
       "    </tr>\n",
       "  </tbody>\n",
       "</table>\n",
       "</div>"
      ],
      "text/plain": [
       "   popul state  year  delta\n",
       "0    5.0    VA  2012   37.1\n",
       "1    5.1    VA  2013   37.0\n",
       "2    5.2    VA  2014   36.9\n",
       "3    4.0    MD  2014   42.4\n",
       "4    4.1    MD  2015   42.3\n",
       "5    9.7    SE  2016   72.1"
      ]
     },
     "execution_count": 71,
     "metadata": {},
     "output_type": "execute_result"
    }
   ],
   "source": [
    "df = df.append({'popul':9.7, 'state':'SE', 'year':2016, 'delta':72.1},\n",
    "               ignore_index=True)\n",
    "df"
   ]
  },
  {
   "cell_type": "code",
   "execution_count": 72,
   "metadata": {
    "slideshow": {
     "slide_type": "subslide"
    }
   },
   "outputs": [
    {
     "data": {
      "text/html": [
       "<div>\n",
       "<style scoped>\n",
       "    .dataframe tbody tr th:only-of-type {\n",
       "        vertical-align: middle;\n",
       "    }\n",
       "\n",
       "    .dataframe tbody tr th {\n",
       "        vertical-align: top;\n",
       "    }\n",
       "\n",
       "    .dataframe thead th {\n",
       "        text-align: right;\n",
       "    }\n",
       "</style>\n",
       "<table border=\"1\" class=\"dataframe\">\n",
       "  <thead>\n",
       "    <tr style=\"text-align: right;\">\n",
       "      <th></th>\n",
       "      <th>popul</th>\n",
       "      <th>state</th>\n",
       "      <th>year</th>\n",
       "      <th>delta</th>\n",
       "    </tr>\n",
       "  </thead>\n",
       "  <tbody>\n",
       "    <tr>\n",
       "      <th>0</th>\n",
       "      <td>5.0</td>\n",
       "      <td>VA</td>\n",
       "      <td>2012</td>\n",
       "      <td>37.1</td>\n",
       "    </tr>\n",
       "    <tr>\n",
       "      <th>1</th>\n",
       "      <td>5.1</td>\n",
       "      <td>VA</td>\n",
       "      <td>2013</td>\n",
       "      <td>37.0</td>\n",
       "    </tr>\n",
       "    <tr>\n",
       "      <th>2</th>\n",
       "      <td>5.2</td>\n",
       "      <td>VA</td>\n",
       "      <td>2014</td>\n",
       "      <td>36.9</td>\n",
       "    </tr>\n",
       "    <tr>\n",
       "      <th>3</th>\n",
       "      <td>4.0</td>\n",
       "      <td>MD</td>\n",
       "      <td>2014</td>\n",
       "      <td>42.4</td>\n",
       "    </tr>\n",
       "    <tr>\n",
       "      <th>4</th>\n",
       "      <td>4.1</td>\n",
       "      <td>MD</td>\n",
       "      <td>2015</td>\n",
       "      <td>42.3</td>\n",
       "    </tr>\n",
       "  </tbody>\n",
       "</table>\n",
       "</div>"
      ],
      "text/plain": [
       "   popul state  year  delta\n",
       "0    5.0    VA  2012   37.1\n",
       "1    5.1    VA  2013   37.0\n",
       "2    5.2    VA  2014   36.9\n",
       "3    4.0    MD  2014   42.4\n",
       "4    4.1    MD  2015   42.3"
      ]
     },
     "execution_count": 72,
     "metadata": {},
     "output_type": "execute_result"
    }
   ],
   "source": [
    "df = df.drop(5, axis=0)\n",
    "df"
   ]
  },
  {
   "cell_type": "markdown",
   "metadata": {
    "slideshow": {
     "slide_type": "subslide"
    }
   },
   "source": [
    "** Set Index **"
   ]
  },
  {
   "cell_type": "code",
   "execution_count": 73,
   "metadata": {
    "slideshow": {
     "slide_type": "fragment"
    }
   },
   "outputs": [
    {
     "data": {
      "text/html": [
       "<div>\n",
       "<style scoped>\n",
       "    .dataframe tbody tr th:only-of-type {\n",
       "        vertical-align: middle;\n",
       "    }\n",
       "\n",
       "    .dataframe tbody tr th {\n",
       "        vertical-align: top;\n",
       "    }\n",
       "\n",
       "    .dataframe thead th {\n",
       "        text-align: right;\n",
       "    }\n",
       "</style>\n",
       "<table border=\"1\" class=\"dataframe\">\n",
       "  <thead>\n",
       "    <tr style=\"text-align: right;\">\n",
       "      <th></th>\n",
       "      <th>state</th>\n",
       "      <th>year</th>\n",
       "      <th>delta</th>\n",
       "    </tr>\n",
       "    <tr>\n",
       "      <th>popul</th>\n",
       "      <th></th>\n",
       "      <th></th>\n",
       "      <th></th>\n",
       "    </tr>\n",
       "  </thead>\n",
       "  <tbody>\n",
       "    <tr>\n",
       "      <th>5.0</th>\n",
       "      <td>VA</td>\n",
       "      <td>2012</td>\n",
       "      <td>37.1</td>\n",
       "    </tr>\n",
       "    <tr>\n",
       "      <th>5.1</th>\n",
       "      <td>VA</td>\n",
       "      <td>2013</td>\n",
       "      <td>37.0</td>\n",
       "    </tr>\n",
       "    <tr>\n",
       "      <th>5.2</th>\n",
       "      <td>VA</td>\n",
       "      <td>2014</td>\n",
       "      <td>36.9</td>\n",
       "    </tr>\n",
       "    <tr>\n",
       "      <th>4.0</th>\n",
       "      <td>MD</td>\n",
       "      <td>2014</td>\n",
       "      <td>42.4</td>\n",
       "    </tr>\n",
       "    <tr>\n",
       "      <th>4.1</th>\n",
       "      <td>MD</td>\n",
       "      <td>2015</td>\n",
       "      <td>42.3</td>\n",
       "    </tr>\n",
       "  </tbody>\n",
       "</table>\n",
       "</div>"
      ],
      "text/plain": [
       "      state  year  delta\n",
       "popul                   \n",
       "5.0      VA  2012   37.1\n",
       "5.1      VA  2013   37.0\n",
       "5.2      VA  2014   36.9\n",
       "4.0      MD  2014   42.4\n",
       "4.1      MD  2015   42.3"
      ]
     },
     "execution_count": 73,
     "metadata": {},
     "output_type": "execute_result"
    }
   ],
   "source": [
    "df = df.set_index('popul')\n",
    "df"
   ]
  },
  {
   "cell_type": "markdown",
   "metadata": {
    "slideshow": {
     "slide_type": "subslide"
    }
   },
   "source": [
    "**Transpose **"
   ]
  },
  {
   "cell_type": "code",
   "execution_count": 74,
   "metadata": {
    "slideshow": {
     "slide_type": "fragment"
    }
   },
   "outputs": [
    {
     "data": {
      "text/html": [
       "<div>\n",
       "<style scoped>\n",
       "    .dataframe tbody tr th:only-of-type {\n",
       "        vertical-align: middle;\n",
       "    }\n",
       "\n",
       "    .dataframe tbody tr th {\n",
       "        vertical-align: top;\n",
       "    }\n",
       "\n",
       "    .dataframe thead th {\n",
       "        text-align: right;\n",
       "    }\n",
       "</style>\n",
       "<table border=\"1\" class=\"dataframe\">\n",
       "  <thead>\n",
       "    <tr style=\"text-align: right;\">\n",
       "      <th>popul</th>\n",
       "      <th>5.0</th>\n",
       "      <th>5.1</th>\n",
       "      <th>5.2</th>\n",
       "      <th>4.0</th>\n",
       "      <th>4.1</th>\n",
       "    </tr>\n",
       "  </thead>\n",
       "  <tbody>\n",
       "    <tr>\n",
       "      <th>state</th>\n",
       "      <td>VA</td>\n",
       "      <td>VA</td>\n",
       "      <td>VA</td>\n",
       "      <td>MD</td>\n",
       "      <td>MD</td>\n",
       "    </tr>\n",
       "    <tr>\n",
       "      <th>year</th>\n",
       "      <td>2012</td>\n",
       "      <td>2013</td>\n",
       "      <td>2014</td>\n",
       "      <td>2014</td>\n",
       "      <td>2015</td>\n",
       "    </tr>\n",
       "    <tr>\n",
       "      <th>delta</th>\n",
       "      <td>37.1</td>\n",
       "      <td>37</td>\n",
       "      <td>36.9</td>\n",
       "      <td>42.4</td>\n",
       "      <td>42.3</td>\n",
       "    </tr>\n",
       "  </tbody>\n",
       "</table>\n",
       "</div>"
      ],
      "text/plain": [
       "popul   5.0   5.1   5.2   4.0   4.1\n",
       "state    VA    VA    VA    MD    MD\n",
       "year   2012  2013  2014  2014  2015\n",
       "delta  37.1    37  36.9  42.4  42.3"
      ]
     },
     "execution_count": 74,
     "metadata": {},
     "output_type": "execute_result"
    }
   ],
   "source": [
    "df.T"
   ]
  },
  {
   "cell_type": "code",
   "execution_count": 75,
   "metadata": {
    "slideshow": {
     "slide_type": "subslide"
    }
   },
   "outputs": [
    {
     "data": {
      "text/plain": [
       "array([['VA', 2012, 37.1],\n",
       "       ['VA', 2013, 37.0],\n",
       "       ['VA', 2014, 36.9],\n",
       "       ['MD', 2014, 42.4],\n",
       "       ['MD', 2015, 42.3]], dtype=object)"
      ]
     },
     "execution_count": 75,
     "metadata": {},
     "output_type": "execute_result"
    }
   ],
   "source": [
    "df.values"
   ]
  },
  {
   "cell_type": "markdown",
   "metadata": {
    "slideshow": {
     "slide_type": "subslide"
    }
   },
   "source": [
    "** Selection, Filtering **"
   ]
  },
  {
   "cell_type": "code",
   "execution_count": 76,
   "metadata": {
    "slideshow": {
     "slide_type": "fragment"
    }
   },
   "outputs": [
    {
     "data": {
      "text/html": [
       "<div>\n",
       "<style scoped>\n",
       "    .dataframe tbody tr th:only-of-type {\n",
       "        vertical-align: middle;\n",
       "    }\n",
       "\n",
       "    .dataframe tbody tr th {\n",
       "        vertical-align: top;\n",
       "    }\n",
       "\n",
       "    .dataframe thead th {\n",
       "        text-align: right;\n",
       "    }\n",
       "</style>\n",
       "<table border=\"1\" class=\"dataframe\">\n",
       "  <thead>\n",
       "    <tr style=\"text-align: right;\">\n",
       "      <th></th>\n",
       "      <th>state</th>\n",
       "      <th>year</th>\n",
       "      <th>delta</th>\n",
       "    </tr>\n",
       "    <tr>\n",
       "      <th>popul</th>\n",
       "      <th></th>\n",
       "      <th></th>\n",
       "      <th></th>\n",
       "    </tr>\n",
       "  </thead>\n",
       "  <tbody>\n",
       "    <tr>\n",
       "      <th>5.0</th>\n",
       "      <td>VA</td>\n",
       "      <td>2012</td>\n",
       "      <td>37.1</td>\n",
       "    </tr>\n",
       "    <tr>\n",
       "      <th>5.1</th>\n",
       "      <td>VA</td>\n",
       "      <td>2013</td>\n",
       "      <td>37.0</td>\n",
       "    </tr>\n",
       "    <tr>\n",
       "      <th>5.2</th>\n",
       "      <td>VA</td>\n",
       "      <td>2014</td>\n",
       "      <td>36.9</td>\n",
       "    </tr>\n",
       "  </tbody>\n",
       "</table>\n",
       "</div>"
      ],
      "text/plain": [
       "      state  year  delta\n",
       "popul                   \n",
       "5.0      VA  2012   37.1\n",
       "5.1      VA  2013   37.0\n",
       "5.2      VA  2014   36.9"
      ]
     },
     "execution_count": 76,
     "metadata": {},
     "output_type": "execute_result"
    }
   ],
   "source": [
    "df[df['state']=='VA']"
   ]
  },
  {
   "cell_type": "code",
   "execution_count": 77,
   "metadata": {
    "slideshow": {
     "slide_type": "fragment"
    }
   },
   "outputs": [
    {
     "data": {
      "text/html": [
       "<div>\n",
       "<style scoped>\n",
       "    .dataframe tbody tr th:only-of-type {\n",
       "        vertical-align: middle;\n",
       "    }\n",
       "\n",
       "    .dataframe tbody tr th {\n",
       "        vertical-align: top;\n",
       "    }\n",
       "\n",
       "    .dataframe thead th {\n",
       "        text-align: right;\n",
       "    }\n",
       "</style>\n",
       "<table border=\"1\" class=\"dataframe\">\n",
       "  <thead>\n",
       "    <tr style=\"text-align: right;\">\n",
       "      <th></th>\n",
       "      <th>state</th>\n",
       "      <th>year</th>\n",
       "      <th>delta</th>\n",
       "    </tr>\n",
       "    <tr>\n",
       "      <th>popul</th>\n",
       "      <th></th>\n",
       "      <th></th>\n",
       "      <th></th>\n",
       "    </tr>\n",
       "  </thead>\n",
       "  <tbody>\n",
       "    <tr>\n",
       "      <th>5.2</th>\n",
       "      <td>VA</td>\n",
       "      <td>2014</td>\n",
       "      <td>36.9</td>\n",
       "    </tr>\n",
       "  </tbody>\n",
       "</table>\n",
       "</div>"
      ],
      "text/plain": [
       "      state  year  delta\n",
       "popul                   \n",
       "5.2      VA  2014   36.9"
      ]
     },
     "execution_count": 77,
     "metadata": {},
     "output_type": "execute_result"
    }
   ],
   "source": [
    "mask = (df['state']=='VA') & (df['year'] > 2013)\n",
    "df[mask]"
   ]
  },
  {
   "cell_type": "markdown",
   "metadata": {
    "slideshow": {
     "slide_type": "subslide"
    }
   },
   "source": [
    "** Apply Functions **\n",
    "\n",
    "<center>\n",
    "<img src=\"https://i.stack.imgur.com/DL0iQ.jpg\" alt=\"Drawing\" style=\"width: 500px;\"/>"
   ]
  },
  {
   "cell_type": "code",
   "execution_count": 78,
   "metadata": {
    "slideshow": {
     "slide_type": "fragment"
    }
   },
   "outputs": [
    {
     "data": {
      "text/plain": [
       "year     2013.60\n",
       "delta      39.14\n",
       "dtype: float64"
      ]
     },
     "execution_count": 78,
     "metadata": {},
     "output_type": "execute_result"
    }
   ],
   "source": [
    "def my_func(col):\n",
    "    return np.mean(col)\n",
    "\n",
    "mask = [i for i in df.columns if i != 'state']\n",
    "df[mask].apply(my_func, axis=0)"
   ]
  },
  {
   "cell_type": "code",
   "execution_count": 79,
   "metadata": {
    "slideshow": {
     "slide_type": "fragment"
    }
   },
   "outputs": [
    {
     "data": {
      "text/plain": [
       "year     2013.60\n",
       "delta      39.14\n",
       "dtype: float64"
      ]
     },
     "execution_count": 79,
     "metadata": {},
     "output_type": "execute_result"
    }
   ],
   "source": [
    "df[mask].apply(lambda col: np.mean(col), axis=0)"
   ]
  },
  {
   "cell_type": "markdown",
   "metadata": {
    "slideshow": {
     "slide_type": "subslide"
    }
   },
   "source": [
    "** Elementwise Apply Function **"
   ]
  },
  {
   "cell_type": "code",
   "execution_count": 80,
   "metadata": {
    "slideshow": {
     "slide_type": "fragment"
    }
   },
   "outputs": [
    {
     "data": {
      "text/html": [
       "<div>\n",
       "<style scoped>\n",
       "    .dataframe tbody tr th:only-of-type {\n",
       "        vertical-align: middle;\n",
       "    }\n",
       "\n",
       "    .dataframe tbody tr th {\n",
       "        vertical-align: top;\n",
       "    }\n",
       "\n",
       "    .dataframe thead th {\n",
       "        text-align: right;\n",
       "    }\n",
       "</style>\n",
       "<table border=\"1\" class=\"dataframe\">\n",
       "  <thead>\n",
       "    <tr style=\"text-align: right;\">\n",
       "      <th></th>\n",
       "      <th>year</th>\n",
       "      <th>delta</th>\n",
       "    </tr>\n",
       "    <tr>\n",
       "      <th>popul</th>\n",
       "      <th></th>\n",
       "      <th></th>\n",
       "    </tr>\n",
       "  </thead>\n",
       "  <tbody>\n",
       "    <tr>\n",
       "      <th>5.0</th>\n",
       "      <td>203.2</td>\n",
       "      <td>5.71</td>\n",
       "    </tr>\n",
       "    <tr>\n",
       "      <th>5.1</th>\n",
       "      <td>203.3</td>\n",
       "      <td>5.70</td>\n",
       "    </tr>\n",
       "    <tr>\n",
       "      <th>5.2</th>\n",
       "      <td>203.4</td>\n",
       "      <td>5.69</td>\n",
       "    </tr>\n",
       "    <tr>\n",
       "      <th>4.0</th>\n",
       "      <td>203.4</td>\n",
       "      <td>6.24</td>\n",
       "    </tr>\n",
       "    <tr>\n",
       "      <th>4.1</th>\n",
       "      <td>203.5</td>\n",
       "      <td>6.23</td>\n",
       "    </tr>\n",
       "  </tbody>\n",
       "</table>\n",
       "</div>"
      ],
      "text/plain": [
       "        year  delta\n",
       "popul              \n",
       "5.0    203.2   5.71\n",
       "5.1    203.3   5.70\n",
       "5.2    203.4   5.69\n",
       "4.0    203.4   6.24\n",
       "4.1    203.5   6.23"
      ]
     },
     "execution_count": 80,
     "metadata": {},
     "output_type": "execute_result"
    }
   ],
   "source": [
    "df[mask].applymap(lambda x: x/10 + 2)"
   ]
  },
  {
   "cell_type": "markdown",
   "metadata": {
    "slideshow": {
     "slide_type": "subslide"
    }
   },
   "source": [
    "** Sorting **"
   ]
  },
  {
   "cell_type": "code",
   "execution_count": 81,
   "metadata": {
    "slideshow": {
     "slide_type": "fragment"
    }
   },
   "outputs": [
    {
     "data": {
      "text/html": [
       "<div>\n",
       "<style scoped>\n",
       "    .dataframe tbody tr th:only-of-type {\n",
       "        vertical-align: middle;\n",
       "    }\n",
       "\n",
       "    .dataframe tbody tr th {\n",
       "        vertical-align: top;\n",
       "    }\n",
       "\n",
       "    .dataframe thead th {\n",
       "        text-align: right;\n",
       "    }\n",
       "</style>\n",
       "<table border=\"1\" class=\"dataframe\">\n",
       "  <thead>\n",
       "    <tr style=\"text-align: right;\">\n",
       "      <th></th>\n",
       "      <th>state</th>\n",
       "      <th>year</th>\n",
       "      <th>delta</th>\n",
       "    </tr>\n",
       "    <tr>\n",
       "      <th>popul</th>\n",
       "      <th></th>\n",
       "      <th></th>\n",
       "      <th></th>\n",
       "    </tr>\n",
       "  </thead>\n",
       "  <tbody>\n",
       "    <tr>\n",
       "      <th>5.0</th>\n",
       "      <td>VA</td>\n",
       "      <td>2012</td>\n",
       "      <td>37.1</td>\n",
       "    </tr>\n",
       "    <tr>\n",
       "      <th>5.1</th>\n",
       "      <td>VA</td>\n",
       "      <td>2013</td>\n",
       "      <td>37.0</td>\n",
       "    </tr>\n",
       "    <tr>\n",
       "      <th>5.2</th>\n",
       "      <td>VA</td>\n",
       "      <td>2014</td>\n",
       "      <td>36.9</td>\n",
       "    </tr>\n",
       "    <tr>\n",
       "      <th>4.0</th>\n",
       "      <td>MD</td>\n",
       "      <td>2014</td>\n",
       "      <td>42.4</td>\n",
       "    </tr>\n",
       "    <tr>\n",
       "      <th>4.1</th>\n",
       "      <td>MD</td>\n",
       "      <td>2015</td>\n",
       "      <td>42.3</td>\n",
       "    </tr>\n",
       "  </tbody>\n",
       "</table>\n",
       "</div>"
      ],
      "text/plain": [
       "      state  year  delta\n",
       "popul                   \n",
       "5.0      VA  2012   37.1\n",
       "5.1      VA  2013   37.0\n",
       "5.2      VA  2014   36.9\n",
       "4.0      MD  2014   42.4\n",
       "4.1      MD  2015   42.3"
      ]
     },
     "execution_count": 81,
     "metadata": {},
     "output_type": "execute_result"
    }
   ],
   "source": [
    "df.sort_values(by=['year', 'delta'])"
   ]
  },
  {
   "cell_type": "markdown",
   "metadata": {
    "slideshow": {
     "slide_type": "subslide"
    }
   },
   "source": [
    "## Data Merge, Join\n",
    "\n",
    "<center>\n",
    "<img src=\"https://i.stack.imgur.com/hMKKt.jpg\" alt=\"Drawing\" style=\"width: 500px;\"/>\n",
    "</center>\n",
    "See [here](https://pandas.pydata.org/pandas-docs/stable/merging.html)."
   ]
  },
  {
   "cell_type": "markdown",
   "metadata": {
    "slideshow": {
     "slide_type": "subslide"
    }
   },
   "source": [
    "**Concatenate**\n",
    "<center>\n",
    "<img src=\"https://pandas.pydata.org/pandas-docs/stable/_images/merging_concat_basic.png\" alt=\"Drawing\" style=\"width: 400px;\"/>\n",
    "</center>"
   ]
  },
  {
   "cell_type": "code",
   "execution_count": 82,
   "metadata": {
    "collapsed": true,
    "slideshow": {
     "slide_type": "subslide"
    }
   },
   "outputs": [],
   "source": [
    "df1 = pd.DataFrame({'A': ['A0', 'A1', 'A2', 'A3'],\n",
    "                    'B': ['B0', 'B1', 'B2', 'B3'],\n",
    "                    'C': ['C0', 'C1', 'C2', 'C3'],\n",
    "                    'D': ['D0', 'D1', 'D2', 'D3']},\n",
    "                     index=[0, 1, 2, 3])\n",
    "df2 = pd.DataFrame({'A': ['A4', 'A5', 'A6', 'A7'],\n",
    "                    'B': ['B4', 'B5', 'B6', 'B7'],\n",
    "                    'C': ['C4', 'C5', 'C6', 'C7'],\n",
    "                    'D': ['D4', 'D5', 'D6', 'D7']},\n",
    "                    index=[4, 5, 6, 7])\n",
    "\n",
    "df3 = pd.DataFrame({'A': ['A8', 'A9', 'A10', 'A11'],     \n",
    "                    'B': ['B8', 'B9', 'B10', 'B11'],\n",
    "                    'C': ['C8', 'C9', 'C10', 'C11'],\n",
    "                    'D': ['D8', 'D9', 'D10', 'D11']},\n",
    "                   index=[8, 9, 10, 11])"
   ]
  },
  {
   "cell_type": "code",
   "execution_count": 83,
   "metadata": {
    "slideshow": {
     "slide_type": "subslide"
    }
   },
   "outputs": [
    {
     "data": {
      "text/html": [
       "<div>\n",
       "<style scoped>\n",
       "    .dataframe tbody tr th:only-of-type {\n",
       "        vertical-align: middle;\n",
       "    }\n",
       "\n",
       "    .dataframe tbody tr th {\n",
       "        vertical-align: top;\n",
       "    }\n",
       "\n",
       "    .dataframe thead th {\n",
       "        text-align: right;\n",
       "    }\n",
       "</style>\n",
       "<table border=\"1\" class=\"dataframe\">\n",
       "  <thead>\n",
       "    <tr style=\"text-align: right;\">\n",
       "      <th></th>\n",
       "      <th>A</th>\n",
       "      <th>B</th>\n",
       "      <th>C</th>\n",
       "      <th>D</th>\n",
       "    </tr>\n",
       "  </thead>\n",
       "  <tbody>\n",
       "    <tr>\n",
       "      <th>0</th>\n",
       "      <td>A0</td>\n",
       "      <td>B0</td>\n",
       "      <td>C0</td>\n",
       "      <td>D0</td>\n",
       "    </tr>\n",
       "    <tr>\n",
       "      <th>1</th>\n",
       "      <td>A1</td>\n",
       "      <td>B1</td>\n",
       "      <td>C1</td>\n",
       "      <td>D1</td>\n",
       "    </tr>\n",
       "    <tr>\n",
       "      <th>2</th>\n",
       "      <td>A2</td>\n",
       "      <td>B2</td>\n",
       "      <td>C2</td>\n",
       "      <td>D2</td>\n",
       "    </tr>\n",
       "    <tr>\n",
       "      <th>3</th>\n",
       "      <td>A3</td>\n",
       "      <td>B3</td>\n",
       "      <td>C3</td>\n",
       "      <td>D3</td>\n",
       "    </tr>\n",
       "    <tr>\n",
       "      <th>4</th>\n",
       "      <td>A4</td>\n",
       "      <td>B4</td>\n",
       "      <td>C4</td>\n",
       "      <td>D4</td>\n",
       "    </tr>\n",
       "    <tr>\n",
       "      <th>5</th>\n",
       "      <td>A5</td>\n",
       "      <td>B5</td>\n",
       "      <td>C5</td>\n",
       "      <td>D5</td>\n",
       "    </tr>\n",
       "    <tr>\n",
       "      <th>6</th>\n",
       "      <td>A6</td>\n",
       "      <td>B6</td>\n",
       "      <td>C6</td>\n",
       "      <td>D6</td>\n",
       "    </tr>\n",
       "    <tr>\n",
       "      <th>7</th>\n",
       "      <td>A7</td>\n",
       "      <td>B7</td>\n",
       "      <td>C7</td>\n",
       "      <td>D7</td>\n",
       "    </tr>\n",
       "    <tr>\n",
       "      <th>8</th>\n",
       "      <td>A8</td>\n",
       "      <td>B8</td>\n",
       "      <td>C8</td>\n",
       "      <td>D8</td>\n",
       "    </tr>\n",
       "    <tr>\n",
       "      <th>9</th>\n",
       "      <td>A9</td>\n",
       "      <td>B9</td>\n",
       "      <td>C9</td>\n",
       "      <td>D9</td>\n",
       "    </tr>\n",
       "    <tr>\n",
       "      <th>10</th>\n",
       "      <td>A10</td>\n",
       "      <td>B10</td>\n",
       "      <td>C10</td>\n",
       "      <td>D10</td>\n",
       "    </tr>\n",
       "    <tr>\n",
       "      <th>11</th>\n",
       "      <td>A11</td>\n",
       "      <td>B11</td>\n",
       "      <td>C11</td>\n",
       "      <td>D11</td>\n",
       "    </tr>\n",
       "  </tbody>\n",
       "</table>\n",
       "</div>"
      ],
      "text/plain": [
       "      A    B    C    D\n",
       "0    A0   B0   C0   D0\n",
       "1    A1   B1   C1   D1\n",
       "2    A2   B2   C2   D2\n",
       "3    A3   B3   C3   D3\n",
       "4    A4   B4   C4   D4\n",
       "5    A5   B5   C5   D5\n",
       "6    A6   B6   C6   D6\n",
       "7    A7   B7   C7   D7\n",
       "8    A8   B8   C8   D8\n",
       "9    A9   B9   C9   D9\n",
       "10  A10  B10  C10  D10\n",
       "11  A11  B11  C11  D11"
      ]
     },
     "execution_count": 83,
     "metadata": {},
     "output_type": "execute_result"
    }
   ],
   "source": [
    "pd.concat([df1, df2, df3])      # axis=0"
   ]
  },
  {
   "cell_type": "markdown",
   "metadata": {
    "slideshow": {
     "slide_type": "subslide"
    }
   },
   "source": [
    "**Outer Join**\n",
    "<center>\n",
    "<img src=\"https://pandas.pydata.org/pandas-docs/stable/_images/merging_concat_axis1.png\" alt=\"Drawing\" style=\"width: 600px;\"/>\n",
    "</center>"
   ]
  },
  {
   "cell_type": "code",
   "execution_count": 84,
   "metadata": {
    "collapsed": true,
    "slideshow": {
     "slide_type": "fragment"
    }
   },
   "outputs": [],
   "source": [
    "df4 = pd.DataFrame({'B': ['B2', 'B3', 'B6', 'B7'],\n",
    "                    'D': ['D2', 'D3', 'D6', 'D7'],\n",
    "                    'F': ['F2', 'F3', 'F6', 'F7']},\n",
    "                   index=[2, 3, 6, 7])"
   ]
  },
  {
   "cell_type": "code",
   "execution_count": 85,
   "metadata": {
    "slideshow": {
     "slide_type": "subslide"
    }
   },
   "outputs": [
    {
     "data": {
      "text/html": [
       "<div>\n",
       "<style scoped>\n",
       "    .dataframe tbody tr th:only-of-type {\n",
       "        vertical-align: middle;\n",
       "    }\n",
       "\n",
       "    .dataframe tbody tr th {\n",
       "        vertical-align: top;\n",
       "    }\n",
       "\n",
       "    .dataframe thead th {\n",
       "        text-align: right;\n",
       "    }\n",
       "</style>\n",
       "<table border=\"1\" class=\"dataframe\">\n",
       "  <thead>\n",
       "    <tr style=\"text-align: right;\">\n",
       "      <th></th>\n",
       "      <th>A</th>\n",
       "      <th>B</th>\n",
       "      <th>C</th>\n",
       "      <th>D</th>\n",
       "      <th>B</th>\n",
       "      <th>D</th>\n",
       "      <th>F</th>\n",
       "    </tr>\n",
       "  </thead>\n",
       "  <tbody>\n",
       "    <tr>\n",
       "      <th>0</th>\n",
       "      <td>A0</td>\n",
       "      <td>B0</td>\n",
       "      <td>C0</td>\n",
       "      <td>D0</td>\n",
       "      <td>NaN</td>\n",
       "      <td>NaN</td>\n",
       "      <td>NaN</td>\n",
       "    </tr>\n",
       "    <tr>\n",
       "      <th>1</th>\n",
       "      <td>A1</td>\n",
       "      <td>B1</td>\n",
       "      <td>C1</td>\n",
       "      <td>D1</td>\n",
       "      <td>NaN</td>\n",
       "      <td>NaN</td>\n",
       "      <td>NaN</td>\n",
       "    </tr>\n",
       "    <tr>\n",
       "      <th>2</th>\n",
       "      <td>A2</td>\n",
       "      <td>B2</td>\n",
       "      <td>C2</td>\n",
       "      <td>D2</td>\n",
       "      <td>B2</td>\n",
       "      <td>D2</td>\n",
       "      <td>F2</td>\n",
       "    </tr>\n",
       "    <tr>\n",
       "      <th>3</th>\n",
       "      <td>A3</td>\n",
       "      <td>B3</td>\n",
       "      <td>C3</td>\n",
       "      <td>D3</td>\n",
       "      <td>B3</td>\n",
       "      <td>D3</td>\n",
       "      <td>F3</td>\n",
       "    </tr>\n",
       "    <tr>\n",
       "      <th>6</th>\n",
       "      <td>NaN</td>\n",
       "      <td>NaN</td>\n",
       "      <td>NaN</td>\n",
       "      <td>NaN</td>\n",
       "      <td>B6</td>\n",
       "      <td>D6</td>\n",
       "      <td>F6</td>\n",
       "    </tr>\n",
       "    <tr>\n",
       "      <th>7</th>\n",
       "      <td>NaN</td>\n",
       "      <td>NaN</td>\n",
       "      <td>NaN</td>\n",
       "      <td>NaN</td>\n",
       "      <td>B7</td>\n",
       "      <td>D7</td>\n",
       "      <td>F7</td>\n",
       "    </tr>\n",
       "  </tbody>\n",
       "</table>\n",
       "</div>"
      ],
      "text/plain": [
       "     A    B    C    D    B    D    F\n",
       "0   A0   B0   C0   D0  NaN  NaN  NaN\n",
       "1   A1   B1   C1   D1  NaN  NaN  NaN\n",
       "2   A2   B2   C2   D2   B2   D2   F2\n",
       "3   A3   B3   C3   D3   B3   D3   F3\n",
       "6  NaN  NaN  NaN  NaN   B6   D6   F6\n",
       "7  NaN  NaN  NaN  NaN   B7   D7   F7"
      ]
     },
     "execution_count": 85,
     "metadata": {},
     "output_type": "execute_result"
    }
   ],
   "source": [
    "pd.concat([df1, df4], axis=1) "
   ]
  },
  {
   "cell_type": "markdown",
   "metadata": {
    "slideshow": {
     "slide_type": "subslide"
    }
   },
   "source": [
    "**Inner Join**\n",
    "<center>\n",
    "<img src=\"https://pandas.pydata.org/pandas-docs/stable/_images/merging_concat_axis1_inner.png\" alt=\"Drawing\" style=\"width: 600px;\"/>\n",
    "</center>"
   ]
  },
  {
   "cell_type": "code",
   "execution_count": 86,
   "metadata": {
    "slideshow": {
     "slide_type": "subslide"
    }
   },
   "outputs": [
    {
     "data": {
      "text/html": [
       "<div>\n",
       "<style scoped>\n",
       "    .dataframe tbody tr th:only-of-type {\n",
       "        vertical-align: middle;\n",
       "    }\n",
       "\n",
       "    .dataframe tbody tr th {\n",
       "        vertical-align: top;\n",
       "    }\n",
       "\n",
       "    .dataframe thead th {\n",
       "        text-align: right;\n",
       "    }\n",
       "</style>\n",
       "<table border=\"1\" class=\"dataframe\">\n",
       "  <thead>\n",
       "    <tr style=\"text-align: right;\">\n",
       "      <th></th>\n",
       "      <th>A</th>\n",
       "      <th>B</th>\n",
       "      <th>C</th>\n",
       "      <th>D</th>\n",
       "      <th>B</th>\n",
       "      <th>D</th>\n",
       "      <th>F</th>\n",
       "    </tr>\n",
       "  </thead>\n",
       "  <tbody>\n",
       "    <tr>\n",
       "      <th>2</th>\n",
       "      <td>A2</td>\n",
       "      <td>B2</td>\n",
       "      <td>C2</td>\n",
       "      <td>D2</td>\n",
       "      <td>B2</td>\n",
       "      <td>D2</td>\n",
       "      <td>F2</td>\n",
       "    </tr>\n",
       "    <tr>\n",
       "      <th>3</th>\n",
       "      <td>A3</td>\n",
       "      <td>B3</td>\n",
       "      <td>C3</td>\n",
       "      <td>D3</td>\n",
       "      <td>B3</td>\n",
       "      <td>D3</td>\n",
       "      <td>F3</td>\n",
       "    </tr>\n",
       "  </tbody>\n",
       "</table>\n",
       "</div>"
      ],
      "text/plain": [
       "    A   B   C   D   B   D   F\n",
       "2  A2  B2  C2  D2  B2  D2  F2\n",
       "3  A3  B3  C3  D3  B3  D3  F3"
      ]
     },
     "execution_count": 86,
     "metadata": {},
     "output_type": "execute_result"
    }
   ],
   "source": [
    "pd.concat([df1, df4], axis=1, join='inner') "
   ]
  },
  {
   "cell_type": "markdown",
   "metadata": {
    "slideshow": {
     "slide_type": "subslide"
    }
   },
   "source": [
    "**Left Join**\n",
    "<center>\n",
    "<img src=\"https://pandas.pydata.org/pandas-docs/stable/_images/merging_concat_axis1_join_axes.png\" alt=\"Drawing\" style=\"width: 600px;\"/>\n",
    "</center>"
   ]
  },
  {
   "cell_type": "code",
   "execution_count": 87,
   "metadata": {
    "slideshow": {
     "slide_type": "subslide"
    }
   },
   "outputs": [
    {
     "data": {
      "text/html": [
       "<div>\n",
       "<style scoped>\n",
       "    .dataframe tbody tr th:only-of-type {\n",
       "        vertical-align: middle;\n",
       "    }\n",
       "\n",
       "    .dataframe tbody tr th {\n",
       "        vertical-align: top;\n",
       "    }\n",
       "\n",
       "    .dataframe thead th {\n",
       "        text-align: right;\n",
       "    }\n",
       "</style>\n",
       "<table border=\"1\" class=\"dataframe\">\n",
       "  <thead>\n",
       "    <tr style=\"text-align: right;\">\n",
       "      <th></th>\n",
       "      <th>A</th>\n",
       "      <th>B</th>\n",
       "      <th>C</th>\n",
       "      <th>D</th>\n",
       "      <th>B</th>\n",
       "      <th>D</th>\n",
       "      <th>F</th>\n",
       "    </tr>\n",
       "  </thead>\n",
       "  <tbody>\n",
       "    <tr>\n",
       "      <th>0</th>\n",
       "      <td>A0</td>\n",
       "      <td>B0</td>\n",
       "      <td>C0</td>\n",
       "      <td>D0</td>\n",
       "      <td>NaN</td>\n",
       "      <td>NaN</td>\n",
       "      <td>NaN</td>\n",
       "    </tr>\n",
       "    <tr>\n",
       "      <th>1</th>\n",
       "      <td>A1</td>\n",
       "      <td>B1</td>\n",
       "      <td>C1</td>\n",
       "      <td>D1</td>\n",
       "      <td>NaN</td>\n",
       "      <td>NaN</td>\n",
       "      <td>NaN</td>\n",
       "    </tr>\n",
       "    <tr>\n",
       "      <th>2</th>\n",
       "      <td>A2</td>\n",
       "      <td>B2</td>\n",
       "      <td>C2</td>\n",
       "      <td>D2</td>\n",
       "      <td>B2</td>\n",
       "      <td>D2</td>\n",
       "      <td>F2</td>\n",
       "    </tr>\n",
       "    <tr>\n",
       "      <th>3</th>\n",
       "      <td>A3</td>\n",
       "      <td>B3</td>\n",
       "      <td>C3</td>\n",
       "      <td>D3</td>\n",
       "      <td>B3</td>\n",
       "      <td>D3</td>\n",
       "      <td>F3</td>\n",
       "    </tr>\n",
       "  </tbody>\n",
       "</table>\n",
       "</div>"
      ],
      "text/plain": [
       "    A   B   C   D    B    D    F\n",
       "0  A0  B0  C0  D0  NaN  NaN  NaN\n",
       "1  A1  B1  C1  D1  NaN  NaN  NaN\n",
       "2  A2  B2  C2  D2   B2   D2   F2\n",
       "3  A3  B3  C3  D3   B3   D3   F3"
      ]
     },
     "execution_count": 87,
     "metadata": {},
     "output_type": "execute_result"
    }
   ],
   "source": [
    "pd.concat([df1, df4], axis=1, join_axes=[df1.index]) "
   ]
  },
  {
   "cell_type": "markdown",
   "metadata": {
    "slideshow": {
     "slide_type": "subslide"
    }
   },
   "source": [
    "** More about SQL-like structures**\n",
    "\n",
    "| **Merge method** | **SQL Join Name**  | **Descriptions**                          |\n",
    "| :- | :- | :-\n",
    "|      `left`      |  `LEFT OUTER JOIN` |       Use keys from left frame only       |\n",
    "|      `right`     | `Right OUTER JOIN` |       Use keys from right frame only      |\n",
    "|      `outer`     |  `FULL OUTER JOIN` |     Use union of keys from both frames    |\n",
    "|      `inner`     |    `INNER JOIN`    | Use intersection of keys from both frames |\n",
    "\n",
    "For detail, see [here](https://pandas.pydata.org/pandas-docs/stable/merging.html)."
   ]
  },
  {
   "cell_type": "markdown",
   "metadata": {
    "slideshow": {
     "slide_type": "slide"
    }
   },
   "source": [
    "# Matplotlib\n",
    "<center>\n",
    "<img src=\"https://matplotlib.org/_static/logo2.png\" alt=\"Drawing\" style=\"width: 500px;\"/>\n",
    "</center>\n",
    "\n",
    "* 2D, 3D plotting\n",
    "* With jupyter, interactive mode"
   ]
  },
  {
   "cell_type": "code",
   "execution_count": 88,
   "metadata": {
    "collapsed": true,
    "slideshow": {
     "slide_type": "subslide"
    }
   },
   "outputs": [],
   "source": [
    "import matplotlib.pyplot as plt"
   ]
  },
  {
   "cell_type": "markdown",
   "metadata": {
    "slideshow": {
     "slide_type": "subslide"
    }
   },
   "source": [
    "### Basic Line Plot"
   ]
  },
  {
   "cell_type": "code",
   "execution_count": 89,
   "metadata": {
    "slideshow": {
     "slide_type": "fragment"
    }
   },
   "outputs": [
    {
     "data": {
      "image/png": "[encoded data removed]",
      "text/plain": [
       "<matplotlib.figure.Figure at 0x9eadc18>"
      ]
     },
     "metadata": {},
     "output_type": "display_data"
    }
   ],
   "source": [
    "x = np.array([0.1*i for i in range(100)])\n",
    "y = np.sin(x)\n",
    "plt.plot(x, y)\n",
    "plt.show()"
   ]
  },
  {
   "cell_type": "code",
   "execution_count": 90,
   "metadata": {
    "slideshow": {
     "slide_type": "subslide"
    }
   },
   "outputs": [
    {
     "data": {
      "image/png": "[encoded data removed]",
      "text/plain": [
       "<matplotlib.figure.Figure at 0x9f3ce48>"
      ]
     },
     "metadata": {},
     "output_type": "display_data"
    }
   ],
   "source": [
    "plt.plot(x, y, 'r--')\n",
    "plt.title('x vs y')\n",
    "plt.xlabel('x')\n",
    "plt.ylabel('y')\n",
    "plt.show()"
   ]
  },
  {
   "cell_type": "markdown",
   "metadata": {
    "slideshow": {
     "slide_type": "subslide"
    }
   },
   "source": [
    "## Scatter Plot"
   ]
  },
  {
   "cell_type": "code",
   "execution_count": 91,
   "metadata": {
    "slideshow": {
     "slide_type": "fragment"
    }
   },
   "outputs": [
    {
     "data": {
      "image/png": "[encoded data removed]",
      "text/plain": [
       "<matplotlib.figure.Figure at 0x9f89860>"
      ]
     },
     "metadata": {},
     "output_type": "display_data"
    }
   ],
   "source": [
    "x = np.random.randn(100)\n",
    "y = np.random.randn(100)\n",
    "colors = np.random.randn(100)\n",
    "area = np.pi * (15*np.random.rand(100))**2\n",
    "plt.scatter(x, y, s=area, c=colors, alpha=0.5)\n",
    "plt.show()"
   ]
  },
  {
   "cell_type": "markdown",
   "metadata": {
    "slideshow": {
     "slide_type": "subslide"
    }
   },
   "source": [
    "## Bar Chart"
   ]
  },
  {
   "cell_type": "code",
   "execution_count": 92,
   "metadata": {
    "slideshow": {
     "slide_type": "fragment"
    }
   },
   "outputs": [
    {
     "data": {
      "image/png": "[encoded data removed]",
      "text/plain": [
       "<matplotlib.figure.Figure at 0x9fc0518>"
      ]
     },
     "metadata": {},
     "output_type": "display_data"
    }
   ],
   "source": [
    "x = [1, 2, 3, 4]\n",
    "y = [0.7, 0.3, 0.5, 0.2]\n",
    "plt.figure(figsize=(10,5))\n",
    "plt.bar(x, y, align='center', alpha=0.5)\n",
    "plt.xticks(x, ['Value', 'Momentum', 'Low PER', 'High B/M'])\n",
    "plt.ylabel('Sharpe Ratio')\n",
    "plt.show()"
   ]
  },
  {
   "cell_type": "markdown",
   "metadata": {
    "collapsed": true,
    "slideshow": {
     "slide_type": "subslide"
    }
   },
   "source": [
    "## Distribution Plot"
   ]
  },
  {
   "cell_type": "code",
   "execution_count": 93,
   "metadata": {
    "slideshow": {
     "slide_type": "fragment"
    }
   },
   "outputs": [
    {
     "data": {
      "image/png": "[encoded data removed]",
      "text/plain": [
       "<matplotlib.figure.Figure at 0x9ead860>"
      ]
     },
     "metadata": {},
     "output_type": "display_data"
    }
   ],
   "source": [
    "x = 0.5 + np.random.randn(10000)\n",
    "plt.hist(x, alpha=0.5)\n",
    "plt.show()"
   ]
  },
  {
   "cell_type": "code",
   "execution_count": 94,
   "metadata": {
    "slideshow": {
     "slide_type": "subslide"
    }
   },
   "outputs": [
    {
     "data": {
      "image/png": "[encoded data removed]",
      "text/plain": [
       "<matplotlib.figure.Figure at 0x9f7a630>"
      ]
     },
     "metadata": {},
     "output_type": "display_data"
    }
   ],
   "source": [
    "y = -0.5 + 0.2*np.random.randn(10000)\n",
    "plt.hist(x, alpha=0.5, color='b', label='x', normed=True, bins=30)\n",
    "plt.hist(y, alpha=0.5, color='r', label='y', normed=True, bins=10)\n",
    "plt.legend()\n",
    "plt.show()"
   ]
  },
  {
   "cell_type": "markdown",
   "metadata": {
    "collapsed": true,
    "slideshow": {
     "slide_type": "subslide"
    }
   },
   "source": [
    "## 3D Plot"
   ]
  },
  {
   "cell_type": "code",
   "execution_count": 95,
   "metadata": {
    "collapsed": true,
    "slideshow": {
     "slide_type": "fragment"
    }
   },
   "outputs": [],
   "source": [
    "from mpl_toolkits.mplot3d import Axes3D\n",
    "%matplotlib notebook"
   ]
  },
  {
   "cell_type": "markdown",
   "metadata": {
    "slideshow": {
     "slide_type": "subslide"
    }
   },
   "source": [
    "** 3D Line **"
   ]
  },
  {
   "cell_type": "code",
   "execution_count": 96,
   "metadata": {
    "slideshow": {
     "slide_type": "fragment"
    }
   },
   "outputs": [
    {
     "data": {
      "application/javascript": [
       "/* Put everything inside the global mpl namespace */\n",
       "window.mpl = {};\n",
       "\n",
       "\n",
       "mpl.get_websocket_type = function() {\n",
       "    if (typeof(WebSocket) !== 'undefined') {\n",
       "        return WebSocket;\n",
       "    } else if (typeof(MozWebSocket) !== 'undefined') {\n",
       "        return MozWebSocket;\n",
       "    } else {\n",
       "        alert('Your browser does not have WebSocket support.' +\n",
       "              'Please try Chrome, Safari or Firefox ≥ 6. ' +\n",
       "              'Firefox 4 and 5 are also supported but you ' +\n",
       "              'have to enable WebSockets in about:config.');\n",
       "    };\n",
       "}\n",
       "\n",
       "mpl.figure = function(figure_id, websocket, ondownload, parent_element) {\n",
       "    this.id = figure_id;\n",
       "\n",
       "    this.ws = websocket;\n",
       "\n",
       "    this.supports_binary = (this.ws.binaryType != undefined);\n",
       "\n",
       "    if (!this.supports_binary) {\n",
       "        var warnings = document.getElementById(\"mpl-warnings\");\n",
       "        if (warnings) {\n",
       "            warnings.style.display = 'block';\n",
       "            warnings.textContent = (\n",
       "                \"This browser does not support binary websocket messages. \" +\n",
       "                    \"Performance may be slow.\");\n",
       "        }\n",
       "    }\n",
       "\n",
       "    this.imageObj = new Image();\n",
       "\n",
       "    this.context = undefined;\n",
       "    this.message = undefined;\n",
       "    this.canvas = undefined;\n",
       "    this.rubberband_canvas = undefined;\n",
       "    this.rubberband_context = undefined;\n",
       "    this.format_dropdown = undefined;\n",
       "\n",
       "    this.image_mode = 'full';\n",
       "\n",
       "    this.root = $('<div/>');\n",
       "    this._root_extra_style(this.root)\n",
       "    this.root.attr('style', 'display: inline-block');\n",
       "\n",
       "    $(parent_element).append(this.root);\n",
       "\n",
       "    this._init_header(this);\n",
       "    this._init_canvas(this);\n",
       "    this._init_toolbar(this);\n",
       "\n",
       "    var fig = this;\n",
       "\n",
       "    this.waiting = false;\n",
       "\n",
       "    this.ws.onopen =  function () {\n",
       "            fig.send_message(\"supports_binary\", {value: fig.supports_binary});\n",
       "            fig.send_message(\"send_image_mode\", {});\n",
       "            if (mpl.ratio != 1) {\n",
       "                fig.send_message(\"set_dpi_ratio\", {'dpi_ratio': mpl.ratio});\n",
       "            }\n",
       "            fig.send_message(\"refresh\", {});\n",
       "        }\n",
       "\n",
       "    this.imageObj.onload = function() {\n",
       "            if (fig.image_mode == 'full') {\n",
       "                // Full images could contain transparency (where diff images\n",
       "                // almost always do), so we need to clear the canvas so that\n",
       "                // there is no ghosting.\n",
       "                fig.context.clearRect(0, 0, fig.canvas.width, fig.canvas.height);\n",
       "            }\n",
       "            fig.context.drawImage(fig.imageObj, 0, 0);\n",
       "        };\n",
       "\n",
       "    this.imageObj.onunload = function() {\n",
       "        fig.ws.close();\n",
       "    }\n",
       "\n",
       "    this.ws.onmessage = this._make_on_message_function(this);\n",
       "\n",
       "    this.ondownload = ondownload;\n",
       "}\n",
       "\n",
       "mpl.figure.prototype._init_header = function() {\n",
       "    var titlebar = $(\n",
       "        '<div class=\"ui-dialog-titlebar ui-widget-header ui-corner-all ' +\n",
       "        'ui-helper-clearfix\"/>');\n",
       "    var titletext = $(\n",
       "        '<div class=\"ui-dialog-title\" style=\"width: 100%; ' +\n",
       "        'text-align: center; padding: 3px;\"/>');\n",
       "    titlebar.append(titletext)\n",
       "    this.root.append(titlebar);\n",
       "    this.header = titletext[0];\n",
       "}\n",
       "\n",
       "\n",
       "\n",
       "mpl.figure.prototype._canvas_extra_style = function(canvas_div) {\n",
       "\n",
       "}\n",
       "\n",
       "\n",
       "mpl.figure.prototype._root_extra_style = function(canvas_div) {\n",
       "\n",
       "}\n",
       "\n",
       "mpl.figure.prototype._init_canvas = function() {\n",
       "    var fig = this;\n",
       "\n",
       "    var canvas_div = $('<div/>');\n",
       "\n",
       "    canvas_div.attr('style', 'position: relative; clear: both; outline: 0');\n",
       "\n",
       "    function canvas_keyboard_event(event) {\n",
       "        return fig.key_event(event, event['data']);\n",
       "    }\n",
       "\n",
       "    canvas_div.keydown('key_press', canvas_keyboard_event);\n",
       "    canvas_div.keyup('key_release', canvas_keyboard_event);\n",
       "    this.canvas_div = canvas_div\n",
       "    this._canvas_extra_style(canvas_div)\n",
       "    this.root.append(canvas_div);\n",
       "\n",
       "    var canvas = $('<canvas/>');\n",
       "    canvas.addClass('mpl-canvas');\n",
       "    canvas.attr('style', \"left: 0; top: 0; z-index: 0; outline: 0\")\n",
       "\n",
       "    this.canvas = canvas[0];\n",
       "    this.context = canvas[0].getContext(\"2d\");\n",
       "\n",
       "    var backingStore = this.context.backingStorePixelRatio ||\n",
       "\tthis.context.webkitBackingStorePixelRatio ||\n",
       "\tthis.context.mozBackingStorePixelRatio ||\n",
       "\tthis.context.msBackingStorePixelRatio ||\n",
       "\tthis.context.oBackingStorePixelRatio ||\n",
       "\tthis.context.backingStorePixelRatio || 1;\n",
       "\n",
       "    mpl.ratio = (window.devicePixelRatio || 1) / backingStore;\n",
       "\n",
       "    var rubberband = $('<canvas/>');\n",
       "    rubberband.attr('style', \"position: absolute; left: 0; top: 0; z-index: 1;\")\n",
       "\n",
       "    var pass_mouse_events = true;\n",
       "\n",
       "    canvas_div.resizable({\n",
       "        start: function(event, ui) {\n",
       "            pass_mouse_events = false;\n",
       "        },\n",
       "        resize: function(event, ui) {\n",
       "            fig.request_resize(ui.size.width, ui.size.height);\n",
       "        },\n",
       "        stop: function(event, ui) {\n",
       "            pass_mouse_events = true;\n",
       "            fig.request_resize(ui.size.width, ui.size.height);\n",
       "        },\n",
       "    });\n",
       "\n",
       "    function mouse_event_fn(event) {\n",
       "        if (pass_mouse_events)\n",
       "            return fig.mouse_event(event, event['data']);\n",
       "    }\n",
       "\n",
       "    rubberband.mousedown('button_press', mouse_event_fn);\n",
       "    rubberband.mouseup('button_release', mouse_event_fn);\n",
       "    // Throttle sequential mouse events to 1 every 20ms.\n",
       "    rubberband.mousemove('motion_notify', mouse_event_fn);\n",
       "\n",
       "    rubberband.mouseenter('figure_enter', mouse_event_fn);\n",
       "    rubberband.mouseleave('figure_leave', mouse_event_fn);\n",
       "\n",
       "    canvas_div.on(\"wheel\", function (event) {\n",
       "        event = event.originalEvent;\n",
       "        event['data'] = 'scroll'\n",
       "        if (event.deltaY < 0) {\n",
       "            event.step = 1;\n",
       "        } else {\n",
       "            event.step = -1;\n",
       "        }\n",
       "        mouse_event_fn(event);\n",
       "    });\n",
       "\n",
       "    canvas_div.append(canvas);\n",
       "    canvas_div.append(rubberband);\n",
       "\n",
       "    this.rubberband = rubberband;\n",
       "    this.rubberband_canvas = rubberband[0];\n",
       "    this.rubberband_context = rubberband[0].getContext(\"2d\");\n",
       "    this.rubberband_context.strokeStyle = \"#000000\";\n",
       "\n",
       "    this._resize_canvas = function(width, height) {\n",
       "        // Keep the size of the canvas, canvas container, and rubber band\n",
       "        // canvas in synch.\n",
       "        canvas_div.css('width', width)\n",
       "        canvas_div.css('height', height)\n",
       "\n",
       "        canvas.attr('width', width * mpl.ratio);\n",
       "        canvas.attr('height', height * mpl.ratio);\n",
       "        canvas.attr('style', 'width: ' + width + 'px; height: ' + height + 'px;');\n",
       "\n",
       "        rubberband.attr('width', width);\n",
       "        rubberband.attr('height', height);\n",
       "    }\n",
       "\n",
       "    // Set the figure to an initial 600x600px, this will subsequently be updated\n",
       "    // upon first draw.\n",
       "    this._resize_canvas(600, 600);\n",
       "\n",
       "    // Disable right mouse context menu.\n",
       "    $(this.rubberband_canvas).bind(\"contextmenu\",function(e){\n",
       "        return false;\n",
       "    });\n",
       "\n",
       "    function set_focus () {\n",
       "        canvas.focus();\n",
       "        canvas_div.focus();\n",
       "    }\n",
       "\n",
       "    window.setTimeout(set_focus, 100);\n",
       "}\n",
       "\n",
       "mpl.figure.prototype._init_toolbar = function() {\n",
       "    var fig = this;\n",
       "\n",
       "    var nav_element = $('<div/>')\n",
       "    nav_element.attr('style', 'width: 100%');\n",
       "    this.root.append(nav_element);\n",
       "\n",
       "    // Define a callback function for later on.\n",
       "    function toolbar_event(event) {\n",
       "        return fig.toolbar_button_onclick(event['data']);\n",
       "    }\n",
       "    function toolbar_mouse_event(event) {\n",
       "        return fig.toolbar_button_onmouseover(event['data']);\n",
       "    }\n",
       "\n",
       "    for(var toolbar_ind in mpl.toolbar_items) {\n",
       "        var name = mpl.toolbar_items[toolbar_ind][0];\n",
       "        var tooltip = mpl.toolbar_items[toolbar_ind][1];\n",
       "        var image = mpl.toolbar_items[toolbar_ind][2];\n",
       "        var method_name = mpl.toolbar_items[toolbar_ind][3];\n",
       "\n",
       "        if (!name) {\n",
       "            // put a spacer in here.\n",
       "            continue;\n",
       "        }\n",
       "        var button = $('<button/>');\n",
       "        button.addClass('ui-button ui-widget ui-state-default ui-corner-all ' +\n",
       "                        'ui-button-icon-only');\n",
       "        button.attr('role', 'button');\n",
       "        button.attr('aria-disabled', 'false');\n",
       "        button.click(method_name, toolbar_event);\n",
       "        button.mouseover(tooltip, toolbar_mouse_event);\n",
       "\n",
       "        var icon_img = $('<span/>');\n",
       "        icon_img.addClass('ui-button-icon-primary ui-icon');\n",
       "        icon_img.addClass(image);\n",
       "        icon_img.addClass('ui-corner-all');\n",
       "\n",
       "        var tooltip_span = $('<span/>');\n",
       "        tooltip_span.addClass('ui-button-text');\n",
       "        tooltip_span.html(tooltip);\n",
       "\n",
       "        button.append(icon_img);\n",
       "        button.append(tooltip_span);\n",
       "\n",
       "        nav_element.append(button);\n",
       "    }\n",
       "\n",
       "    var fmt_picker_span = $('<span/>');\n",
       "\n",
       "    var fmt_picker = $('<select/>');\n",
       "    fmt_picker.addClass('mpl-toolbar-option ui-widget ui-widget-content');\n",
       "    fmt_picker_span.append(fmt_picker);\n",
       "    nav_element.append(fmt_picker_span);\n",
       "    this.format_dropdown = fmt_picker[0];\n",
       "\n",
       "    for (var ind in mpl.extensions) {\n",
       "        var fmt = mpl.extensions[ind];\n",
       "        var option = $(\n",
       "            '<option/>', {selected: fmt === mpl.default_extension}).html(fmt);\n",
       "        fmt_picker.append(option)\n",
       "    }\n",
       "\n",
       "    // Add hover states to the ui-buttons\n",
       "    $( \".ui-button\" ).hover(\n",
       "        function() { $(this).addClass(\"ui-state-hover\");},\n",
       "        function() { $(this).removeClass(\"ui-state-hover\");}\n",
       "    );\n",
       "\n",
       "    var status_bar = $('<span class=\"mpl-message\"/>');\n",
       "    nav_element.append(status_bar);\n",
       "    this.message = status_bar[0];\n",
       "}\n",
       "\n",
       "mpl.figure.prototype.request_resize = function(x_pixels, y_pixels) {\n",
       "    // Request matplotlib to resize the figure. Matplotlib will then trigger a resize in the client,\n",
       "    // which will in turn request a refresh of the image.\n",
       "    this.send_message('resize', {'width': x_pixels, 'height': y_pixels});\n",
       "}\n",
       "\n",
       "mpl.figure.prototype.send_message = function(type, properties) {\n",
       "    properties['type'] = type;\n",
       "    properties['figure_id'] = this.id;\n",
       "    this.ws.send(JSON.stringify(properties));\n",
       "}\n",
       "\n",
       "mpl.figure.prototype.send_draw_message = function() {\n",
       "    if (!this.waiting) {\n",
       "        this.waiting = true;\n",
       "        this.ws.send(JSON.stringify({type: \"draw\", figure_id: this.id}));\n",
       "    }\n",
       "}\n",
       "\n",
       "\n",
       "mpl.figure.prototype.handle_save = function(fig, msg) {\n",
       "    var format_dropdown = fig.format_dropdown;\n",
       "    var format = format_dropdown.options[format_dropdown.selectedIndex].value;\n",
       "    fig.ondownload(fig, format);\n",
       "}\n",
       "\n",
       "\n",
       "mpl.figure.prototype.handle_resize = function(fig, msg) {\n",
       "    var size = msg['size'];\n",
       "    if (size[0] != fig.canvas.width || size[1] != fig.canvas.height) {\n",
       "        fig._resize_canvas(size[0], size[1]);\n",
       "        fig.send_message(\"refresh\", {});\n",
       "    };\n",
       "}\n",
       "\n",
       "mpl.figure.prototype.handle_rubberband = function(fig, msg) {\n",
       "    var x0 = msg['x0'] / mpl.ratio;\n",
       "    var y0 = (fig.canvas.height - msg['y0']) / mpl.ratio;\n",
       "    var x1 = msg['x1'] / mpl.ratio;\n",
       "    var y1 = (fig.canvas.height - msg['y1']) / mpl.ratio;\n",
       "    x0 = Math.floor(x0) + 0.5;\n",
       "    y0 = Math.floor(y0) + 0.5;\n",
       "    x1 = Math.floor(x1) + 0.5;\n",
       "    y1 = Math.floor(y1) + 0.5;\n",
       "    var min_x = Math.min(x0, x1);\n",
       "    var min_y = Math.min(y0, y1);\n",
       "    var width = Math.abs(x1 - x0);\n",
       "    var height = Math.abs(y1 - y0);\n",
       "\n",
       "    fig.rubberband_context.clearRect(\n",
       "        0, 0, fig.canvas.width, fig.canvas.height);\n",
       "\n",
       "    fig.rubberband_context.strokeRect(min_x, min_y, width, height);\n",
       "}\n",
       "\n",
       "mpl.figure.prototype.handle_figure_label = function(fig, msg) {\n",
       "    // Updates the figure title.\n",
       "    fig.header.textContent = msg['label'];\n",
       "}\n",
       "\n",
       "mpl.figure.prototype.handle_cursor = function(fig, msg) {\n",
       "    var cursor = msg['cursor'];\n",
       "    switch(cursor)\n",
       "    {\n",
       "    case 0:\n",
       "        cursor = 'pointer';\n",
       "        break;\n",
       "    case 1:\n",
       "        cursor = 'default';\n",
       "        break;\n",
       "    case 2:\n",
       "        cursor = 'crosshair';\n",
       "        break;\n",
       "    case 3:\n",
       "        cursor = 'move';\n",
       "        break;\n",
       "    }\n",
       "    fig.rubberband_canvas.style.cursor = cursor;\n",
       "}\n",
       "\n",
       "mpl.figure.prototype.handle_message = function(fig, msg) {\n",
       "    fig.message.textContent = msg['message'];\n",
       "}\n",
       "\n",
       "mpl.figure.prototype.handle_draw = function(fig, msg) {\n",
       "    // Request the server to send over a new figure.\n",
       "    fig.send_draw_message();\n",
       "}\n",
       "\n",
       "mpl.figure.prototype.handle_image_mode = function(fig, msg) {\n",
       "    fig.image_mode = msg['mode'];\n",
       "}\n",
       "\n",
       "mpl.figure.prototype.updated_canvas_event = function() {\n",
       "    // Called whenever the canvas gets updated.\n",
       "    this.send_message(\"ack\", {});\n",
       "}\n",
       "\n",
       "// A function to construct a web socket function for onmessage handling.\n",
       "// Called in the figure constructor.\n",
       "mpl.figure.prototype._make_on_message_function = function(fig) {\n",
       "    return function socket_on_message(evt) {\n",
       "        if (evt.data instanceof Blob) {\n",
       "            /* FIXME: We get \"Resource interpreted as Image but\n",
       "             * transferred with MIME type text/plain:\" errors on\n",
       "             * Chrome.  But how to set the MIME type?  It doesn't seem\n",
       "             * to be part of the websocket stream */\n",
       "            evt.data.type = \"image/png\";\n",
       "\n",
       "            /* Free the memory for the previous frames */\n",
       "            if (fig.imageObj.src) {\n",
       "                (window.URL || window.webkitURL).revokeObjectURL(\n",
       "                    fig.imageObj.src);\n",
       "            }\n",
       "\n",
       "            fig.imageObj.src = (window.URL || window.webkitURL).createObjectURL(\n",
       "                evt.data);\n",
       "            fig.updated_canvas_event();\n",
       "            fig.waiting = false;\n",
       "            return;\n",
       "        }\n",
       "        else if (typeof evt.data === 'string' && evt.data.slice(0, 21) == \"data:image/png;base64\") {\n",
       "            fig.imageObj.src = evt.data;\n",
       "            fig.updated_canvas_event();\n",
       "            fig.waiting = false;\n",
       "            return;\n",
       "        }\n",
       "\n",
       "        var msg = JSON.parse(evt.data);\n",
       "        var msg_type = msg['type'];\n",
       "\n",
       "        // Call the  \"handle_{type}\" callback, which takes\n",
       "        // the figure and JSON message as its only arguments.\n",
       "        try {\n",
       "            var callback = fig[\"handle_\" + msg_type];\n",
       "        } catch (e) {\n",
       "            console.log(\"No handler for the '\" + msg_type + \"' message type: \", msg);\n",
       "            return;\n",
       "        }\n",
       "\n",
       "        if (callback) {\n",
       "            try {\n",
       "                // console.log(\"Handling '\" + msg_type + \"' message: \", msg);\n",
       "                callback(fig, msg);\n",
       "            } catch (e) {\n",
       "                console.log(\"Exception inside the 'handler_\" + msg_type + \"' callback:\", e, e.stack, msg);\n",
       "            }\n",
       "        }\n",
       "    };\n",
       "}\n",
       "\n",
       "// from http://stackoverflow.com/questions/1114465/getting-mouse-location-in-canvas\n",
       "mpl.findpos = function(e) {\n",
       "    //this section is from http://www.quirksmode.org/js/events_properties.html\n",
       "    var targ;\n",
       "    if (!e)\n",
       "        e = window.event;\n",
       "    if (e.target)\n",
       "        targ = e.target;\n",
       "    else if (e.srcElement)\n",
       "        targ = e.srcElement;\n",
       "    if (targ.nodeType == 3) // defeat Safari bug\n",
       "        targ = targ.parentNode;\n",
       "\n",
       "    // jQuery normalizes the pageX and pageY\n",
       "    // pageX,Y are the mouse positions relative to the document\n",
       "    // offset() returns the position of the element relative to the document\n",
       "    var x = e.pageX - $(targ).offset().left;\n",
       "    var y = e.pageY - $(targ).offset().top;\n",
       "\n",
       "    return {\"x\": x, \"y\": y};\n",
       "};\n",
       "\n",
       "/*\n",
       " * return a copy of an object with only non-object keys\n",
       " * we need this to avoid circular references\n",
       " * http://stackoverflow.com/a/24161582/3208463\n",
       " */\n",
       "function simpleKeys (original) {\n",
       "  return Object.keys(original).reduce(function (obj, key) {\n",
       "    if (typeof original[key] !== 'object')\n",
       "        obj[key] = original[key]\n",
       "    return obj;\n",
       "  }, {});\n",
       "}\n",
       "\n",
       "mpl.figure.prototype.mouse_event = function(event, name) {\n",
       "    var canvas_pos = mpl.findpos(event)\n",
       "\n",
       "    if (name === 'button_press')\n",
       "    {\n",
       "        this.canvas.focus();\n",
       "        this.canvas_div.focus();\n",
       "    }\n",
       "\n",
       "    var x = canvas_pos.x * mpl.ratio;\n",
       "    var y = canvas_pos.y * mpl.ratio;\n",
       "\n",
       "    this.send_message(name, {x: x, y: y, button: event.button,\n",
       "                             step: event.step,\n",
       "                             guiEvent: simpleKeys(event)});\n",
       "\n",
       "    /* This prevents the web browser from automatically changing to\n",
       "     * the text insertion cursor when the button is pressed.  We want\n",
       "     * to control all of the cursor setting manually through the\n",
       "     * 'cursor' event from matplotlib */\n",
       "    event.preventDefault();\n",
       "    return false;\n",
       "}\n",
       "\n",
       "mpl.figure.prototype._key_event_extra = function(event, name) {\n",
       "    // Handle any extra behaviour associated with a key event\n",
       "}\n",
       "\n",
       "mpl.figure.prototype.key_event = function(event, name) {\n",
       "\n",
       "    // Prevent repeat events\n",
       "    if (name == 'key_press')\n",
       "    {\n",
       "        if (event.which === this._key)\n",
       "            return;\n",
       "        else\n",
       "            this._key = event.which;\n",
       "    }\n",
       "    if (name == 'key_release')\n",
       "        this._key = null;\n",
       "\n",
       "    var value = '';\n",
       "    if (event.ctrlKey && event.which != 17)\n",
       "        value += \"ctrl+\";\n",
       "    if (event.altKey && event.which != 18)\n",
       "        value += \"alt+\";\n",
       "    if (event.shiftKey && event.which != 16)\n",
       "        value += \"shift+\";\n",
       "\n",
       "    value += 'k';\n",
       "    value += event.which.toString();\n",
       "\n",
       "    this._key_event_extra(event, name);\n",
       "\n",
       "    this.send_message(name, {key: value,\n",
       "                             guiEvent: simpleKeys(event)});\n",
       "    return false;\n",
       "}\n",
       "\n",
       "mpl.figure.prototype.toolbar_button_onclick = function(name) {\n",
       "    if (name == 'download') {\n",
       "        this.handle_save(this, null);\n",
       "    } else {\n",
       "        this.send_message(\"toolbar_button\", {name: name});\n",
       "    }\n",
       "};\n",
       "\n",
       "mpl.figure.prototype.toolbar_button_onmouseover = function(tooltip) {\n",
       "    this.message.textContent = tooltip;\n",
       "};\n",
       "mpl.toolbar_items = [[\"Home\", \"Reset original view\", \"fa fa-home icon-home\", \"home\"], [\"Back\", \"Back to  previous view\", \"fa fa-arrow-left icon-arrow-left\", \"back\"], [\"Forward\", \"Forward to next view\", \"fa fa-arrow-right icon-arrow-right\", \"forward\"], [\"\", \"\", \"\", \"\"], [\"Pan\", \"Pan axes with left mouse, zoom with right\", \"fa fa-arrows icon-move\", \"pan\"], [\"Zoom\", \"Zoom to rectangle\", \"fa fa-square-o icon-check-empty\", \"zoom\"], [\"\", \"\", \"\", \"\"], [\"Download\", \"Download plot\", \"fa fa-floppy-o icon-save\", \"download\"]];\n",
       "\n",
       "mpl.extensions = [\"eps\", \"jpeg\", \"pdf\", \"png\", \"ps\", \"raw\", \"svg\", \"tif\"];\n",
       "\n",
       "mpl.default_extension = \"png\";var comm_websocket_adapter = function(comm) {\n",
       "    // Create a \"websocket\"-like object which calls the given IPython comm\n",
       "    // object with the appropriate methods. Currently this is a non binary\n",
       "    // socket, so there is still some room for performance tuning.\n",
       "    var ws = {};\n",
       "\n",
       "    ws.close = function() {\n",
       "        comm.close()\n",
       "    };\n",
       "    ws.send = function(m) {\n",
       "        //console.log('sending', m);\n",
       "        comm.send(m);\n",
       "    };\n",
       "    // Register the callback with on_msg.\n",
       "    comm.on_msg(function(msg) {\n",
       "        //console.log('receiving', msg['content']['data'], msg);\n",
       "        // Pass the mpl event to the overriden (by mpl) onmessage function.\n",
       "        ws.onmessage(msg['content']['data'])\n",
       "    });\n",
       "    return ws;\n",
       "}\n",
       "\n",
       "mpl.mpl_figure_comm = function(comm, msg) {\n",
       "    // This is the function which gets called when the mpl process\n",
       "    // starts-up an IPython Comm through the \"matplotlib\" channel.\n",
       "\n",
       "    var id = msg.content.data.id;\n",
       "    // Get hold of the div created by the display call when the Comm\n",
       "    // socket was opened in Python.\n",
       "    var element = $(\"#\" + id);\n",
       "    var ws_proxy = comm_websocket_adapter(comm)\n",
       "\n",
       "    function ondownload(figure, format) {\n",
       "        window.open(figure.imageObj.src);\n",
       "    }\n",
       "\n",
       "    var fig = new mpl.figure(id, ws_proxy,\n",
       "                           ondownload,\n",
       "                           element.get(0));\n",
       "\n",
       "    // Call onopen now - mpl needs it, as it is assuming we've passed it a real\n",
       "    // web socket which is closed, not our websocket->open comm proxy.\n",
       "    ws_proxy.onopen();\n",
       "\n",
       "    fig.parent_element = element.get(0);\n",
       "    fig.cell_info = mpl.find_output_cell(\"<div id='\" + id + \"'></div>\");\n",
       "    if (!fig.cell_info) {\n",
       "        console.error(\"Failed to find cell for figure\", id, fig);\n",
       "        return;\n",
       "    }\n",
       "\n",
       "    var output_index = fig.cell_info[2]\n",
       "    var cell = fig.cell_info[0];\n",
       "\n",
       "};\n",
       "\n",
       "mpl.figure.prototype.handle_close = function(fig, msg) {\n",
       "    var width = fig.canvas.width/mpl.ratio\n",
       "    fig.root.unbind('remove')\n",
       "\n",
       "    // Update the output cell to use the data from the current canvas.\n",
       "    fig.push_to_output();\n",
       "    var dataURL = fig.canvas.toDataURL();\n",
       "    // Re-enable the keyboard manager in IPython - without this line, in FF,\n",
       "    // the notebook keyboard shortcuts fail.\n",
       "    IPython.keyboard_manager.enable()\n",
       "    $(fig.parent_element).html('<img src=\"' + dataURL + '\" width=\"' + width + '\">');\n",
       "    fig.close_ws(fig, msg);\n",
       "}\n",
       "\n",
       "mpl.figure.prototype.close_ws = function(fig, msg){\n",
       "    fig.send_message('closing', msg);\n",
       "    // fig.ws.close()\n",
       "}\n",
       "\n",
       "mpl.figure.prototype.push_to_output = function(remove_interactive) {\n",
       "    // Turn the data on the canvas into data in the output cell.\n",
       "    var width = this.canvas.width/mpl.ratio\n",
       "    var dataURL = this.canvas.toDataURL();\n",
       "    this.cell_info[1]['text/html'] = '<img src=\"' + dataURL + '\" width=\"' + width + '\">';\n",
       "}\n",
       "\n",
       "mpl.figure.prototype.updated_canvas_event = function() {\n",
       "    // Tell IPython that the notebook contents must change.\n",
       "    IPython.notebook.set_dirty(true);\n",
       "    this.send_message(\"ack\", {});\n",
       "    var fig = this;\n",
       "    // Wait a second, then push the new image to the DOM so\n",
       "    // that it is saved nicely (might be nice to debounce this).\n",
       "    setTimeout(function () { fig.push_to_output() }, 1000);\n",
       "}\n",
       "\n",
       "mpl.figure.prototype._init_toolbar = function() {\n",
       "    var fig = this;\n",
       "\n",
       "    var nav_element = $('<div/>')\n",
       "    nav_element.attr('style', 'width: 100%');\n",
       "    this.root.append(nav_element);\n",
       "\n",
       "    // Define a callback function for later on.\n",
       "    function toolbar_event(event) {\n",
       "        return fig.toolbar_button_onclick(event['data']);\n",
       "    }\n",
       "    function toolbar_mouse_event(event) {\n",
       "        return fig.toolbar_button_onmouseover(event['data']);\n",
       "    }\n",
       "\n",
       "    for(var toolbar_ind in mpl.toolbar_items){\n",
       "        var name = mpl.toolbar_items[toolbar_ind][0];\n",
       "        var tooltip = mpl.toolbar_items[toolbar_ind][1];\n",
       "        var image = mpl.toolbar_items[toolbar_ind][2];\n",
       "        var method_name = mpl.toolbar_items[toolbar_ind][3];\n",
       "\n",
       "        if (!name) { continue; };\n",
       "\n",
       "        var button = $('<button class=\"btn btn-default\" href=\"#\" title=\"' + name + '\"><i class=\"fa ' + image + ' fa-lg\"></i></button>');\n",
       "        button.click(method_name, toolbar_event);\n",
       "        button.mouseover(tooltip, toolbar_mouse_event);\n",
       "        nav_element.append(button);\n",
       "    }\n",
       "\n",
       "    // Add the status bar.\n",
       "    var status_bar = $('<span class=\"mpl-message\" style=\"text-align:right; float: right;\"/>');\n",
       "    nav_element.append(status_bar);\n",
       "    this.message = status_bar[0];\n",
       "\n",
       "    // Add the close button to the window.\n",
       "    var buttongrp = $('<div class=\"btn-group inline pull-right\"></div>');\n",
       "    var button = $('<button class=\"btn btn-mini btn-primary\" href=\"#\" title=\"Stop Interaction\"><i class=\"fa fa-power-off icon-remove icon-large\"></i></button>');\n",
       "    button.click(function (evt) { fig.handle_close(fig, {}); } );\n",
       "    button.mouseover('Stop Interaction', toolbar_mouse_event);\n",
       "    buttongrp.append(button);\n",
       "    var titlebar = this.root.find($('.ui-dialog-titlebar'));\n",
       "    titlebar.prepend(buttongrp);\n",
       "}\n",
       "\n",
       "mpl.figure.prototype._root_extra_style = function(el){\n",
       "    var fig = this\n",
       "    el.on(\"remove\", function(){\n",
       "\tfig.close_ws(fig, {});\n",
       "    });\n",
       "}\n",
       "\n",
       "mpl.figure.prototype._canvas_extra_style = function(el){\n",
       "    // this is important to make the div 'focusable\n",
       "    el.attr('tabindex', 0)\n",
       "    // reach out to IPython and tell the keyboard manager to turn it's self\n",
       "    // off when our div gets focus\n",
       "\n",
       "    // location in version 3\n",
       "    if (IPython.notebook.keyboard_manager) {\n",
       "        IPython.notebook.keyboard_manager.register_events(el);\n",
       "    }\n",
       "    else {\n",
       "        // location in version 2\n",
       "        IPython.keyboard_manager.register_events(el);\n",
       "    }\n",
       "\n",
       "}\n",
       "\n",
       "mpl.figure.prototype._key_event_extra = function(event, name) {\n",
       "    var manager = IPython.notebook.keyboard_manager;\n",
       "    if (!manager)\n",
       "        manager = IPython.keyboard_manager;\n",
       "\n",
       "    // Check for shift+enter\n",
       "    if (event.shiftKey && event.which == 13) {\n",
       "        this.canvas_div.blur();\n",
       "        event.shiftKey = false;\n",
       "        // Send a \"J\" for go to next cell\n",
       "        event.which = 74;\n",
       "        event.keyCode = 74;\n",
       "        manager.command_mode();\n",
       "        manager.handle_keydown(event);\n",
       "    }\n",
       "}\n",
       "\n",
       "mpl.figure.prototype.handle_save = function(fig, msg) {\n",
       "    fig.ondownload(fig, null);\n",
       "}\n",
       "\n",
       "\n",
       "mpl.find_output_cell = function(html_output) {\n",
       "    // Return the cell and output element which can be found *uniquely* in the notebook.\n",
       "    // Note - this is a bit hacky, but it is done because the \"notebook_saving.Notebook\"\n",
       "    // IPython event is triggered only after the cells have been serialised, which for\n",
       "    // our purposes (turning an active figure into a static one), is too late.\n",
       "    var cells = IPython.notebook.get_cells();\n",
       "    var ncells = cells.length;\n",
       "    for (var i=0; i<ncells; i++) {\n",
       "        var cell = cells[i];\n",
       "        if (cell.cell_type === 'code'){\n",
       "            for (var j=0; j<cell.output_area.outputs.length; j++) {\n",
       "                var data = cell.output_area.outputs[j];\n",
       "                if (data.data) {\n",
       "                    // IPython >= 3 moved mimebundle to data attribute of output\n",
       "                    data = data.data;\n",
       "                }\n",
       "                if (data['text/html'] == html_output) {\n",
       "                    return [cell, data, j];\n",
       "                }\n",
       "            }\n",
       "        }\n",
       "    }\n",
       "}\n",
       "\n",
       "// Register the function which deals with the matplotlib target/channel.\n",
       "// The kernel may be null if the page has been refreshed.\n",
       "if (IPython.notebook.kernel != null) {\n",
       "    IPython.notebook.kernel.comm_manager.register_target('matplotlib', mpl.mpl_figure_comm);\n",
       "}\n"
      ],
      "text/plain": [
       "<IPython.core.display.Javascript object>"
      ]
     },
     "metadata": {},
     "output_type": "display_data"
    },
    {
     "data": {
      "text/html": [
       "<img src=\"data:image/png;base64,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\" width=\"640\">"
      ],
      "text/plain": [
       "<IPython.core.display.HTML object>"
      ]
     },
     "metadata": {},
     "output_type": "display_data"
    },
    {
     "data": {
      "text/plain": [
       "[<mpl_toolkits.mplot3d.art3d.Line3D at 0xa0923c8>]"
      ]
     },
     "execution_count": 96,
     "metadata": {},
     "output_type": "execute_result"
    }
   ],
   "source": [
    "fig = plt.figure()\n",
    "ax = fig.gca(projection='3d')\n",
    "theta = np.linspace(-4 * np.pi, 4 * np.pi, 100)\n",
    "z = np.linspace(-2, 2, 100)\n",
    "r = z**2 + 1\n",
    "x = r * np.sin(theta)\n",
    "y = r * np.cos(theta)\n",
    "ax.plot(x, y, z)"
   ]
  },
  {
   "cell_type": "markdown",
   "metadata": {
    "slideshow": {
     "slide_type": "subslide"
    }
   },
   "source": [
    "** 3D Scatter **"
   ]
  },
  {
   "cell_type": "code",
   "execution_count": 97,
   "metadata": {
    "slideshow": {
     "slide_type": "fragment"
    }
   },
   "outputs": [
    {
     "data": {
      "application/javascript": [
       "/* Put everything inside the global mpl namespace */\n",
       "window.mpl = {};\n",
       "\n",
       "\n",
       "mpl.get_websocket_type = function() {\n",
       "    if (typeof(WebSocket) !== 'undefined') {\n",
       "        return WebSocket;\n",
       "    } else if (typeof(MozWebSocket) !== 'undefined') {\n",
       "        return MozWebSocket;\n",
       "    } else {\n",
       "        alert('Your browser does not have WebSocket support.' +\n",
       "              'Please try Chrome, Safari or Firefox ≥ 6. ' +\n",
       "              'Firefox 4 and 5 are also supported but you ' +\n",
       "              'have to enable WebSockets in about:config.');\n",
       "    };\n",
       "}\n",
       "\n",
       "mpl.figure = function(figure_id, websocket, ondownload, parent_element) {\n",
       "    this.id = figure_id;\n",
       "\n",
       "    this.ws = websocket;\n",
       "\n",
       "    this.supports_binary = (this.ws.binaryType != undefined);\n",
       "\n",
       "    if (!this.supports_binary) {\n",
       "        var warnings = document.getElementById(\"mpl-warnings\");\n",
       "        if (warnings) {\n",
       "            warnings.style.display = 'block';\n",
       "            warnings.textContent = (\n",
       "                \"This browser does not support binary websocket messages. \" +\n",
       "                    \"Performance may be slow.\");\n",
       "        }\n",
       "    }\n",
       "\n",
       "    this.imageObj = new Image();\n",
       "\n",
       "    this.context = undefined;\n",
       "    this.message = undefined;\n",
       "    this.canvas = undefined;\n",
       "    this.rubberband_canvas = undefined;\n",
       "    this.rubberband_context = undefined;\n",
       "    this.format_dropdown = undefined;\n",
       "\n",
       "    this.image_mode = 'full';\n",
       "\n",
       "    this.root = $('<div/>');\n",
       "    this._root_extra_style(this.root)\n",
       "    this.root.attr('style', 'display: inline-block');\n",
       "\n",
       "    $(parent_element).append(this.root);\n",
       "\n",
       "    this._init_header(this);\n",
       "    this._init_canvas(this);\n",
       "    this._init_toolbar(this);\n",
       "\n",
       "    var fig = this;\n",
       "\n",
       "    this.waiting = false;\n",
       "\n",
       "    this.ws.onopen =  function () {\n",
       "            fig.send_message(\"supports_binary\", {value: fig.supports_binary});\n",
       "            fig.send_message(\"send_image_mode\", {});\n",
       "            if (mpl.ratio != 1) {\n",
       "                fig.send_message(\"set_dpi_ratio\", {'dpi_ratio': mpl.ratio});\n",
       "            }\n",
       "            fig.send_message(\"refresh\", {});\n",
       "        }\n",
       "\n",
       "    this.imageObj.onload = function() {\n",
       "            if (fig.image_mode == 'full') {\n",
       "                // Full images could contain transparency (where diff images\n",
       "                // almost always do), so we need to clear the canvas so that\n",
       "                // there is no ghosting.\n",
       "                fig.context.clearRect(0, 0, fig.canvas.width, fig.canvas.height);\n",
       "            }\n",
       "            fig.context.drawImage(fig.imageObj, 0, 0);\n",
       "        };\n",
       "\n",
       "    this.imageObj.onunload = function() {\n",
       "        fig.ws.close();\n",
       "    }\n",
       "\n",
       "    this.ws.onmessage = this._make_on_message_function(this);\n",
       "\n",
       "    this.ondownload = ondownload;\n",
       "}\n",
       "\n",
       "mpl.figure.prototype._init_header = function() {\n",
       "    var titlebar = $(\n",
       "        '<div class=\"ui-dialog-titlebar ui-widget-header ui-corner-all ' +\n",
       "        'ui-helper-clearfix\"/>');\n",
       "    var titletext = $(\n",
       "        '<div class=\"ui-dialog-title\" style=\"width: 100%; ' +\n",
       "        'text-align: center; padding: 3px;\"/>');\n",
       "    titlebar.append(titletext)\n",
       "    this.root.append(titlebar);\n",
       "    this.header = titletext[0];\n",
       "}\n",
       "\n",
       "\n",
       "\n",
       "mpl.figure.prototype._canvas_extra_style = function(canvas_div) {\n",
       "\n",
       "}\n",
       "\n",
       "\n",
       "mpl.figure.prototype._root_extra_style = function(canvas_div) {\n",
       "\n",
       "}\n",
       "\n",
       "mpl.figure.prototype._init_canvas = function() {\n",
       "    var fig = this;\n",
       "\n",
       "    var canvas_div = $('<div/>');\n",
       "\n",
       "    canvas_div.attr('style', 'position: relative; clear: both; outline: 0');\n",
       "\n",
       "    function canvas_keyboard_event(event) {\n",
       "        return fig.key_event(event, event['data']);\n",
       "    }\n",
       "\n",
       "    canvas_div.keydown('key_press', canvas_keyboard_event);\n",
       "    canvas_div.keyup('key_release', canvas_keyboard_event);\n",
       "    this.canvas_div = canvas_div\n",
       "    this._canvas_extra_style(canvas_div)\n",
       "    this.root.append(canvas_div);\n",
       "\n",
       "    var canvas = $('<canvas/>');\n",
       "    canvas.addClass('mpl-canvas');\n",
       "    canvas.attr('style', \"left: 0; top: 0; z-index: 0; outline: 0\")\n",
       "\n",
       "    this.canvas = canvas[0];\n",
       "    this.context = canvas[0].getContext(\"2d\");\n",
       "\n",
       "    var backingStore = this.context.backingStorePixelRatio ||\n",
       "\tthis.context.webkitBackingStorePixelRatio ||\n",
       "\tthis.context.mozBackingStorePixelRatio ||\n",
       "\tthis.context.msBackingStorePixelRatio ||\n",
       "\tthis.context.oBackingStorePixelRatio ||\n",
       "\tthis.context.backingStorePixelRatio || 1;\n",
       "\n",
       "    mpl.ratio = (window.devicePixelRatio || 1) / backingStore;\n",
       "\n",
       "    var rubberband = $('<canvas/>');\n",
       "    rubberband.attr('style', \"position: absolute; left: 0; top: 0; z-index: 1;\")\n",
       "\n",
       "    var pass_mouse_events = true;\n",
       "\n",
       "    canvas_div.resizable({\n",
       "        start: function(event, ui) {\n",
       "            pass_mouse_events = false;\n",
       "        },\n",
       "        resize: function(event, ui) {\n",
       "            fig.request_resize(ui.size.width, ui.size.height);\n",
       "        },\n",
       "        stop: function(event, ui) {\n",
       "            pass_mouse_events = true;\n",
       "            fig.request_resize(ui.size.width, ui.size.height);\n",
       "        },\n",
       "    });\n",
       "\n",
       "    function mouse_event_fn(event) {\n",
       "        if (pass_mouse_events)\n",
       "            return fig.mouse_event(event, event['data']);\n",
       "    }\n",
       "\n",
       "    rubberband.mousedown('button_press', mouse_event_fn);\n",
       "    rubberband.mouseup('button_release', mouse_event_fn);\n",
       "    // Throttle sequential mouse events to 1 every 20ms.\n",
       "    rubberband.mousemove('motion_notify', mouse_event_fn);\n",
       "\n",
       "    rubberband.mouseenter('figure_enter', mouse_event_fn);\n",
       "    rubberband.mouseleave('figure_leave', mouse_event_fn);\n",
       "\n",
       "    canvas_div.on(\"wheel\", function (event) {\n",
       "        event = event.originalEvent;\n",
       "        event['data'] = 'scroll'\n",
       "        if (event.deltaY < 0) {\n",
       "            event.step = 1;\n",
       "        } else {\n",
       "            event.step = -1;\n",
       "        }\n",
       "        mouse_event_fn(event);\n",
       "    });\n",
       "\n",
       "    canvas_div.append(canvas);\n",
       "    canvas_div.append(rubberband);\n",
       "\n",
       "    this.rubberband = rubberband;\n",
       "    this.rubberband_canvas = rubberband[0];\n",
       "    this.rubberband_context = rubberband[0].getContext(\"2d\");\n",
       "    this.rubberband_context.strokeStyle = \"#000000\";\n",
       "\n",
       "    this._resize_canvas = function(width, height) {\n",
       "        // Keep the size of the canvas, canvas container, and rubber band\n",
       "        // canvas in synch.\n",
       "        canvas_div.css('width', width)\n",
       "        canvas_div.css('height', height)\n",
       "\n",
       "        canvas.attr('width', width * mpl.ratio);\n",
       "        canvas.attr('height', height * mpl.ratio);\n",
       "        canvas.attr('style', 'width: ' + width + 'px; height: ' + height + 'px;');\n",
       "\n",
       "        rubberband.attr('width', width);\n",
       "        rubberband.attr('height', height);\n",
       "    }\n",
       "\n",
       "    // Set the figure to an initial 600x600px, this will subsequently be updated\n",
       "    // upon first draw.\n",
       "    this._resize_canvas(600, 600);\n",
       "\n",
       "    // Disable right mouse context menu.\n",
       "    $(this.rubberband_canvas).bind(\"contextmenu\",function(e){\n",
       "        return false;\n",
       "    });\n",
       "\n",
       "    function set_focus () {\n",
       "        canvas.focus();\n",
       "        canvas_div.focus();\n",
       "    }\n",
       "\n",
       "    window.setTimeout(set_focus, 100);\n",
       "}\n",
       "\n",
       "mpl.figure.prototype._init_toolbar = function() {\n",
       "    var fig = this;\n",
       "\n",
       "    var nav_element = $('<div/>')\n",
       "    nav_element.attr('style', 'width: 100%');\n",
       "    this.root.append(nav_element);\n",
       "\n",
       "    // Define a callback function for later on.\n",
       "    function toolbar_event(event) {\n",
       "        return fig.toolbar_button_onclick(event['data']);\n",
       "    }\n",
       "    function toolbar_mouse_event(event) {\n",
       "        return fig.toolbar_button_onmouseover(event['data']);\n",
       "    }\n",
       "\n",
       "    for(var toolbar_ind in mpl.toolbar_items) {\n",
       "        var name = mpl.toolbar_items[toolbar_ind][0];\n",
       "        var tooltip = mpl.toolbar_items[toolbar_ind][1];\n",
       "        var image = mpl.toolbar_items[toolbar_ind][2];\n",
       "        var method_name = mpl.toolbar_items[toolbar_ind][3];\n",
       "\n",
       "        if (!name) {\n",
       "            // put a spacer in here.\n",
       "            continue;\n",
       "        }\n",
       "        var button = $('<button/>');\n",
       "        button.addClass('ui-button ui-widget ui-state-default ui-corner-all ' +\n",
       "                        'ui-button-icon-only');\n",
       "        button.attr('role', 'button');\n",
       "        button.attr('aria-disabled', 'false');\n",
       "        button.click(method_name, toolbar_event);\n",
       "        button.mouseover(tooltip, toolbar_mouse_event);\n",
       "\n",
       "        var icon_img = $('<span/>');\n",
       "        icon_img.addClass('ui-button-icon-primary ui-icon');\n",
       "        icon_img.addClass(image);\n",
       "        icon_img.addClass('ui-corner-all');\n",
       "\n",
       "        var tooltip_span = $('<span/>');\n",
       "        tooltip_span.addClass('ui-button-text');\n",
       "        tooltip_span.html(tooltip);\n",
       "\n",
       "        button.append(icon_img);\n",
       "        button.append(tooltip_span);\n",
       "\n",
       "        nav_element.append(button);\n",
       "    }\n",
       "\n",
       "    var fmt_picker_span = $('<span/>');\n",
       "\n",
       "    var fmt_picker = $('<select/>');\n",
       "    fmt_picker.addClass('mpl-toolbar-option ui-widget ui-widget-content');\n",
       "    fmt_picker_span.append(fmt_picker);\n",
       "    nav_element.append(fmt_picker_span);\n",
       "    this.format_dropdown = fmt_picker[0];\n",
       "\n",
       "    for (var ind in mpl.extensions) {\n",
       "        var fmt = mpl.extensions[ind];\n",
       "        var option = $(\n",
       "            '<option/>', {selected: fmt === mpl.default_extension}).html(fmt);\n",
       "        fmt_picker.append(option)\n",
       "    }\n",
       "\n",
       "    // Add hover states to the ui-buttons\n",
       "    $( \".ui-button\" ).hover(\n",
       "        function() { $(this).addClass(\"ui-state-hover\");},\n",
       "        function() { $(this).removeClass(\"ui-state-hover\");}\n",
       "    );\n",
       "\n",
       "    var status_bar = $('<span class=\"mpl-message\"/>');\n",
       "    nav_element.append(status_bar);\n",
       "    this.message = status_bar[0];\n",
       "}\n",
       "\n",
       "mpl.figure.prototype.request_resize = function(x_pixels, y_pixels) {\n",
       "    // Request matplotlib to resize the figure. Matplotlib will then trigger a resize in the client,\n",
       "    // which will in turn request a refresh of the image.\n",
       "    this.send_message('resize', {'width': x_pixels, 'height': y_pixels});\n",
       "}\n",
       "\n",
       "mpl.figure.prototype.send_message = function(type, properties) {\n",
       "    properties['type'] = type;\n",
       "    properties['figure_id'] = this.id;\n",
       "    this.ws.send(JSON.stringify(properties));\n",
       "}\n",
       "\n",
       "mpl.figure.prototype.send_draw_message = function() {\n",
       "    if (!this.waiting) {\n",
       "        this.waiting = true;\n",
       "        this.ws.send(JSON.stringify({type: \"draw\", figure_id: this.id}));\n",
       "    }\n",
       "}\n",
       "\n",
       "\n",
       "mpl.figure.prototype.handle_save = function(fig, msg) {\n",
       "    var format_dropdown = fig.format_dropdown;\n",
       "    var format = format_dropdown.options[format_dropdown.selectedIndex].value;\n",
       "    fig.ondownload(fig, format);\n",
       "}\n",
       "\n",
       "\n",
       "mpl.figure.prototype.handle_resize = function(fig, msg) {\n",
       "    var size = msg['size'];\n",
       "    if (size[0] != fig.canvas.width || size[1] != fig.canvas.height) {\n",
       "        fig._resize_canvas(size[0], size[1]);\n",
       "        fig.send_message(\"refresh\", {});\n",
       "    };\n",
       "}\n",
       "\n",
       "mpl.figure.prototype.handle_rubberband = function(fig, msg) {\n",
       "    var x0 = msg['x0'] / mpl.ratio;\n",
       "    var y0 = (fig.canvas.height - msg['y0']) / mpl.ratio;\n",
       "    var x1 = msg['x1'] / mpl.ratio;\n",
       "    var y1 = (fig.canvas.height - msg['y1']) / mpl.ratio;\n",
       "    x0 = Math.floor(x0) + 0.5;\n",
       "    y0 = Math.floor(y0) + 0.5;\n",
       "    x1 = Math.floor(x1) + 0.5;\n",
       "    y1 = Math.floor(y1) + 0.5;\n",
       "    var min_x = Math.min(x0, x1);\n",
       "    var min_y = Math.min(y0, y1);\n",
       "    var width = Math.abs(x1 - x0);\n",
       "    var height = Math.abs(y1 - y0);\n",
       "\n",
       "    fig.rubberband_context.clearRect(\n",
       "        0, 0, fig.canvas.width, fig.canvas.height);\n",
       "\n",
       "    fig.rubberband_context.strokeRect(min_x, min_y, width, height);\n",
       "}\n",
       "\n",
       "mpl.figure.prototype.handle_figure_label = function(fig, msg) {\n",
       "    // Updates the figure title.\n",
       "    fig.header.textContent = msg['label'];\n",
       "}\n",
       "\n",
       "mpl.figure.prototype.handle_cursor = function(fig, msg) {\n",
       "    var cursor = msg['cursor'];\n",
       "    switch(cursor)\n",
       "    {\n",
       "    case 0:\n",
       "        cursor = 'pointer';\n",
       "        break;\n",
       "    case 1:\n",
       "        cursor = 'default';\n",
       "        break;\n",
       "    case 2:\n",
       "        cursor = 'crosshair';\n",
       "        break;\n",
       "    case 3:\n",
       "        cursor = 'move';\n",
       "        break;\n",
       "    }\n",
       "    fig.rubberband_canvas.style.cursor = cursor;\n",
       "}\n",
       "\n",
       "mpl.figure.prototype.handle_message = function(fig, msg) {\n",
       "    fig.message.textContent = msg['message'];\n",
       "}\n",
       "\n",
       "mpl.figure.prototype.handle_draw = function(fig, msg) {\n",
       "    // Request the server to send over a new figure.\n",
       "    fig.send_draw_message();\n",
       "}\n",
       "\n",
       "mpl.figure.prototype.handle_image_mode = function(fig, msg) {\n",
       "    fig.image_mode = msg['mode'];\n",
       "}\n",
       "\n",
       "mpl.figure.prototype.updated_canvas_event = function() {\n",
       "    // Called whenever the canvas gets updated.\n",
       "    this.send_message(\"ack\", {});\n",
       "}\n",
       "\n",
       "// A function to construct a web socket function for onmessage handling.\n",
       "// Called in the figure constructor.\n",
       "mpl.figure.prototype._make_on_message_function = function(fig) {\n",
       "    return function socket_on_message(evt) {\n",
       "        if (evt.data instanceof Blob) {\n",
       "            /* FIXME: We get \"Resource interpreted as Image but\n",
       "             * transferred with MIME type text/plain:\" errors on\n",
       "             * Chrome.  But how to set the MIME type?  It doesn't seem\n",
       "             * to be part of the websocket stream */\n",
       "            evt.data.type = \"image/png\";\n",
       "\n",
       "            /* Free the memory for the previous frames */\n",
       "            if (fig.imageObj.src) {\n",
       "                (window.URL || window.webkitURL).revokeObjectURL(\n",
       "                    fig.imageObj.src);\n",
       "            }\n",
       "\n",
       "            fig.imageObj.src = (window.URL || window.webkitURL).createObjectURL(\n",
       "                evt.data);\n",
       "            fig.updated_canvas_event();\n",
       "            fig.waiting = false;\n",
       "            return;\n",
       "        }\n",
       "        else if (typeof evt.data === 'string' && evt.data.slice(0, 21) == \"data:image/png;base64\") {\n",
       "            fig.imageObj.src = evt.data;\n",
       "            fig.updated_canvas_event();\n",
       "            fig.waiting = false;\n",
       "            return;\n",
       "        }\n",
       "\n",
       "        var msg = JSON.parse(evt.data);\n",
       "        var msg_type = msg['type'];\n",
       "\n",
       "        // Call the  \"handle_{type}\" callback, which takes\n",
       "        // the figure and JSON message as its only arguments.\n",
       "        try {\n",
       "            var callback = fig[\"handle_\" + msg_type];\n",
       "        } catch (e) {\n",
       "            console.log(\"No handler for the '\" + msg_type + \"' message type: \", msg);\n",
       "            return;\n",
       "        }\n",
       "\n",
       "        if (callback) {\n",
       "            try {\n",
       "                // console.log(\"Handling '\" + msg_type + \"' message: \", msg);\n",
       "                callback(fig, msg);\n",
       "            } catch (e) {\n",
       "                console.log(\"Exception inside the 'handler_\" + msg_type + \"' callback:\", e, e.stack, msg);\n",
       "            }\n",
       "        }\n",
       "    };\n",
       "}\n",
       "\n",
       "// from http://stackoverflow.com/questions/1114465/getting-mouse-location-in-canvas\n",
       "mpl.findpos = function(e) {\n",
       "    //this section is from http://www.quirksmode.org/js/events_properties.html\n",
       "    var targ;\n",
       "    if (!e)\n",
       "        e = window.event;\n",
       "    if (e.target)\n",
       "        targ = e.target;\n",
       "    else if (e.srcElement)\n",
       "        targ = e.srcElement;\n",
       "    if (targ.nodeType == 3) // defeat Safari bug\n",
       "        targ = targ.parentNode;\n",
       "\n",
       "    // jQuery normalizes the pageX and pageY\n",
       "    // pageX,Y are the mouse positions relative to the document\n",
       "    // offset() returns the position of the element relative to the document\n",
       "    var x = e.pageX - $(targ).offset().left;\n",
       "    var y = e.pageY - $(targ).offset().top;\n",
       "\n",
       "    return {\"x\": x, \"y\": y};\n",
       "};\n",
       "\n",
       "/*\n",
       " * return a copy of an object with only non-object keys\n",
       " * we need this to avoid circular references\n",
       " * http://stackoverflow.com/a/24161582/3208463\n",
       " */\n",
       "function simpleKeys (original) {\n",
       "  return Object.keys(original).reduce(function (obj, key) {\n",
       "    if (typeof original[key] !== 'object')\n",
       "        obj[key] = original[key]\n",
       "    return obj;\n",
       "  }, {});\n",
       "}\n",
       "\n",
       "mpl.figure.prototype.mouse_event = function(event, name) {\n",
       "    var canvas_pos = mpl.findpos(event)\n",
       "\n",
       "    if (name === 'button_press')\n",
       "    {\n",
       "        this.canvas.focus();\n",
       "        this.canvas_div.focus();\n",
       "    }\n",
       "\n",
       "    var x = canvas_pos.x * mpl.ratio;\n",
       "    var y = canvas_pos.y * mpl.ratio;\n",
       "\n",
       "    this.send_message(name, {x: x, y: y, button: event.button,\n",
       "                             step: event.step,\n",
       "                             guiEvent: simpleKeys(event)});\n",
       "\n",
       "    /* This prevents the web browser from automatically changing to\n",
       "     * the text insertion cursor when the button is pressed.  We want\n",
       "     * to control all of the cursor setting manually through the\n",
       "     * 'cursor' event from matplotlib */\n",
       "    event.preventDefault();\n",
       "    return false;\n",
       "}\n",
       "\n",
       "mpl.figure.prototype._key_event_extra = function(event, name) {\n",
       "    // Handle any extra behaviour associated with a key event\n",
       "}\n",
       "\n",
       "mpl.figure.prototype.key_event = function(event, name) {\n",
       "\n",
       "    // Prevent repeat events\n",
       "    if (name == 'key_press')\n",
       "    {\n",
       "        if (event.which === this._key)\n",
       "            return;\n",
       "        else\n",
       "            this._key = event.which;\n",
       "    }\n",
       "    if (name == 'key_release')\n",
       "        this._key = null;\n",
       "\n",
       "    var value = '';\n",
       "    if (event.ctrlKey && event.which != 17)\n",
       "        value += \"ctrl+\";\n",
       "    if (event.altKey && event.which != 18)\n",
       "        value += \"alt+\";\n",
       "    if (event.shiftKey && event.which != 16)\n",
       "        value += \"shift+\";\n",
       "\n",
       "    value += 'k';\n",
       "    value += event.which.toString();\n",
       "\n",
       "    this._key_event_extra(event, name);\n",
       "\n",
       "    this.send_message(name, {key: value,\n",
       "                             guiEvent: simpleKeys(event)});\n",
       "    return false;\n",
       "}\n",
       "\n",
       "mpl.figure.prototype.toolbar_button_onclick = function(name) {\n",
       "    if (name == 'download') {\n",
       "        this.handle_save(this, null);\n",
       "    } else {\n",
       "        this.send_message(\"toolbar_button\", {name: name});\n",
       "    }\n",
       "};\n",
       "\n",
       "mpl.figure.prototype.toolbar_button_onmouseover = function(tooltip) {\n",
       "    this.message.textContent = tooltip;\n",
       "};\n",
       "mpl.toolbar_items = [[\"Home\", \"Reset original view\", \"fa fa-home icon-home\", \"home\"], [\"Back\", \"Back to  previous view\", \"fa fa-arrow-left icon-arrow-left\", \"back\"], [\"Forward\", \"Forward to next view\", \"fa fa-arrow-right icon-arrow-right\", \"forward\"], [\"\", \"\", \"\", \"\"], [\"Pan\", \"Pan axes with left mouse, zoom with right\", \"fa fa-arrows icon-move\", \"pan\"], [\"Zoom\", \"Zoom to rectangle\", \"fa fa-square-o icon-check-empty\", \"zoom\"], [\"\", \"\", \"\", \"\"], [\"Download\", \"Download plot\", \"fa fa-floppy-o icon-save\", \"download\"]];\n",
       "\n",
       "mpl.extensions = [\"eps\", \"jpeg\", \"pdf\", \"png\", \"ps\", \"raw\", \"svg\", \"tif\"];\n",
       "\n",
       "mpl.default_extension = \"png\";var comm_websocket_adapter = function(comm) {\n",
       "    // Create a \"websocket\"-like object which calls the given IPython comm\n",
       "    // object with the appropriate methods. Currently this is a non binary\n",
       "    // socket, so there is still some room for performance tuning.\n",
       "    var ws = {};\n",
       "\n",
       "    ws.close = function() {\n",
       "        comm.close()\n",
       "    };\n",
       "    ws.send = function(m) {\n",
       "        //console.log('sending', m);\n",
       "        comm.send(m);\n",
       "    };\n",
       "    // Register the callback with on_msg.\n",
       "    comm.on_msg(function(msg) {\n",
       "        //console.log('receiving', msg['content']['data'], msg);\n",
       "        // Pass the mpl event to the overriden (by mpl) onmessage function.\n",
       "        ws.onmessage(msg['content']['data'])\n",
       "    });\n",
       "    return ws;\n",
       "}\n",
       "\n",
       "mpl.mpl_figure_comm = function(comm, msg) {\n",
       "    // This is the function which gets called when the mpl process\n",
       "    // starts-up an IPython Comm through the \"matplotlib\" channel.\n",
       "\n",
       "    var id = msg.content.data.id;\n",
       "    // Get hold of the div created by the display call when the Comm\n",
       "    // socket was opened in Python.\n",
       "    var element = $(\"#\" + id);\n",
       "    var ws_proxy = comm_websocket_adapter(comm)\n",
       "\n",
       "    function ondownload(figure, format) {\n",
       "        window.open(figure.imageObj.src);\n",
       "    }\n",
       "\n",
       "    var fig = new mpl.figure(id, ws_proxy,\n",
       "                           ondownload,\n",
       "                           element.get(0));\n",
       "\n",
       "    // Call onopen now - mpl needs it, as it is assuming we've passed it a real\n",
       "    // web socket which is closed, not our websocket->open comm proxy.\n",
       "    ws_proxy.onopen();\n",
       "\n",
       "    fig.parent_element = element.get(0);\n",
       "    fig.cell_info = mpl.find_output_cell(\"<div id='\" + id + \"'></div>\");\n",
       "    if (!fig.cell_info) {\n",
       "        console.error(\"Failed to find cell for figure\", id, fig);\n",
       "        return;\n",
       "    }\n",
       "\n",
       "    var output_index = fig.cell_info[2]\n",
       "    var cell = fig.cell_info[0];\n",
       "\n",
       "};\n",
       "\n",
       "mpl.figure.prototype.handle_close = function(fig, msg) {\n",
       "    var width = fig.canvas.width/mpl.ratio\n",
       "    fig.root.unbind('remove')\n",
       "\n",
       "    // Update the output cell to use the data from the current canvas.\n",
       "    fig.push_to_output();\n",
       "    var dataURL = fig.canvas.toDataURL();\n",
       "    // Re-enable the keyboard manager in IPython - without this line, in FF,\n",
       "    // the notebook keyboard shortcuts fail.\n",
       "    IPython.keyboard_manager.enable()\n",
       "    $(fig.parent_element).html('<img src=\"' + dataURL + '\" width=\"' + width + '\">');\n",
       "    fig.close_ws(fig, msg);\n",
       "}\n",
       "\n",
       "mpl.figure.prototype.close_ws = function(fig, msg){\n",
       "    fig.send_message('closing', msg);\n",
       "    // fig.ws.close()\n",
       "}\n",
       "\n",
       "mpl.figure.prototype.push_to_output = function(remove_interactive) {\n",
       "    // Turn the data on the canvas into data in the output cell.\n",
       "    var width = this.canvas.width/mpl.ratio\n",
       "    var dataURL = this.canvas.toDataURL();\n",
       "    this.cell_info[1]['text/html'] = '<img src=\"' + dataURL + '\" width=\"' + width + '\">';\n",
       "}\n",
       "\n",
       "mpl.figure.prototype.updated_canvas_event = function() {\n",
       "    // Tell IPython that the notebook contents must change.\n",
       "    IPython.notebook.set_dirty(true);\n",
       "    this.send_message(\"ack\", {});\n",
       "    var fig = this;\n",
       "    // Wait a second, then push the new image to the DOM so\n",
       "    // that it is saved nicely (might be nice to debounce this).\n",
       "    setTimeout(function () { fig.push_to_output() }, 1000);\n",
       "}\n",
       "\n",
       "mpl.figure.prototype._init_toolbar = function() {\n",
       "    var fig = this;\n",
       "\n",
       "    var nav_element = $('<div/>')\n",
       "    nav_element.attr('style', 'width: 100%');\n",
       "    this.root.append(nav_element);\n",
       "\n",
       "    // Define a callback function for later on.\n",
       "    function toolbar_event(event) {\n",
       "        return fig.toolbar_button_onclick(event['data']);\n",
       "    }\n",
       "    function toolbar_mouse_event(event) {\n",
       "        return fig.toolbar_button_onmouseover(event['data']);\n",
       "    }\n",
       "\n",
       "    for(var toolbar_ind in mpl.toolbar_items){\n",
       "        var name = mpl.toolbar_items[toolbar_ind][0];\n",
       "        var tooltip = mpl.toolbar_items[toolbar_ind][1];\n",
       "        var image = mpl.toolbar_items[toolbar_ind][2];\n",
       "        var method_name = mpl.toolbar_items[toolbar_ind][3];\n",
       "\n",
       "        if (!name) { continue; };\n",
       "\n",
       "        var button = $('<button class=\"btn btn-default\" href=\"#\" title=\"' + name + '\"><i class=\"fa ' + image + ' fa-lg\"></i></button>');\n",
       "        button.click(method_name, toolbar_event);\n",
       "        button.mouseover(tooltip, toolbar_mouse_event);\n",
       "        nav_element.append(button);\n",
       "    }\n",
       "\n",
       "    // Add the status bar.\n",
       "    var status_bar = $('<span class=\"mpl-message\" style=\"text-align:right; float: right;\"/>');\n",
       "    nav_element.append(status_bar);\n",
       "    this.message = status_bar[0];\n",
       "\n",
       "    // Add the close button to the window.\n",
       "    var buttongrp = $('<div class=\"btn-group inline pull-right\"></div>');\n",
       "    var button = $('<button class=\"btn btn-mini btn-primary\" href=\"#\" title=\"Stop Interaction\"><i class=\"fa fa-power-off icon-remove icon-large\"></i></button>');\n",
       "    button.click(function (evt) { fig.handle_close(fig, {}); } );\n",
       "    button.mouseover('Stop Interaction', toolbar_mouse_event);\n",
       "    buttongrp.append(button);\n",
       "    var titlebar = this.root.find($('.ui-dialog-titlebar'));\n",
       "    titlebar.prepend(buttongrp);\n",
       "}\n",
       "\n",
       "mpl.figure.prototype._root_extra_style = function(el){\n",
       "    var fig = this\n",
       "    el.on(\"remove\", function(){\n",
       "\tfig.close_ws(fig, {});\n",
       "    });\n",
       "}\n",
       "\n",
       "mpl.figure.prototype._canvas_extra_style = function(el){\n",
       "    // this is important to make the div 'focusable\n",
       "    el.attr('tabindex', 0)\n",
       "    // reach out to IPython and tell the keyboard manager to turn it's self\n",
       "    // off when our div gets focus\n",
       "\n",
       "    // location in version 3\n",
       "    if (IPython.notebook.keyboard_manager) {\n",
       "        IPython.notebook.keyboard_manager.register_events(el);\n",
       "    }\n",
       "    else {\n",
       "        // location in version 2\n",
       "        IPython.keyboard_manager.register_events(el);\n",
       "    }\n",
       "\n",
       "}\n",
       "\n",
       "mpl.figure.prototype._key_event_extra = function(event, name) {\n",
       "    var manager = IPython.notebook.keyboard_manager;\n",
       "    if (!manager)\n",
       "        manager = IPython.keyboard_manager;\n",
       "\n",
       "    // Check for shift+enter\n",
       "    if (event.shiftKey && event.which == 13) {\n",
       "        this.canvas_div.blur();\n",
       "        event.shiftKey = false;\n",
       "        // Send a \"J\" for go to next cell\n",
       "        event.which = 74;\n",
       "        event.keyCode = 74;\n",
       "        manager.command_mode();\n",
       "        manager.handle_keydown(event);\n",
       "    }\n",
       "}\n",
       "\n",
       "mpl.figure.prototype.handle_save = function(fig, msg) {\n",
       "    fig.ondownload(fig, null);\n",
       "}\n",
       "\n",
       "\n",
       "mpl.find_output_cell = function(html_output) {\n",
       "    // Return the cell and output element which can be found *uniquely* in the notebook.\n",
       "    // Note - this is a bit hacky, but it is done because the \"notebook_saving.Notebook\"\n",
       "    // IPython event is triggered only after the cells have been serialised, which for\n",
       "    // our purposes (turning an active figure into a static one), is too late.\n",
       "    var cells = IPython.notebook.get_cells();\n",
       "    var ncells = cells.length;\n",
       "    for (var i=0; i<ncells; i++) {\n",
       "        var cell = cells[i];\n",
       "        if (cell.cell_type === 'code'){\n",
       "            for (var j=0; j<cell.output_area.outputs.length; j++) {\n",
       "                var data = cell.output_area.outputs[j];\n",
       "                if (data.data) {\n",
       "                    // IPython >= 3 moved mimebundle to data attribute of output\n",
       "                    data = data.data;\n",
       "                }\n",
       "                if (data['text/html'] == html_output) {\n",
       "                    return [cell, data, j];\n",
       "                }\n",
       "            }\n",
       "        }\n",
       "    }\n",
       "}\n",
       "\n",
       "// Register the function which deals with the matplotlib target/channel.\n",
       "// The kernel may be null if the page has been refreshed.\n",
       "if (IPython.notebook.kernel != null) {\n",
       "    IPython.notebook.kernel.comm_manager.register_target('matplotlib', mpl.mpl_figure_comm);\n",
       "}\n"
      ],
      "text/plain": [
       "<IPython.core.display.Javascript object>"
      ]
     },
     "metadata": {},
     "output_type": "display_data"
    },
    {
     "data": {
      "text/html": [
       "<img src=\"data:image/png;base64,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\" width=\"640\">"
      ],
      "text/plain": [
       "<IPython.core.display.HTML object>"
      ]
     },
     "metadata": {},
     "output_type": "display_data"
    }
   ],
   "source": [
    "fig = plt.figure()\n",
    "ax = fig.add_subplot(111, projection='3d')\n",
    "x = np.random.randn(30)\n",
    "y = np.random.randn(30)\n",
    "z = 10*np.random.randn(30)\n",
    "ax.scatter(x, y, z, marker = '.')\n",
    "plt.show()"
   ]
  },
  {
   "cell_type": "markdown",
   "metadata": {
    "slideshow": {
     "slide_type": "subslide"
    }
   },
   "source": [
    "** 3D Surface **"
   ]
  },
  {
   "cell_type": "code",
   "execution_count": 98,
   "metadata": {
    "collapsed": true,
    "slideshow": {
     "slide_type": "fragment"
    }
   },
   "outputs": [],
   "source": [
    "from matplotlib import cm"
   ]
  },
  {
   "cell_type": "code",
   "execution_count": 99,
   "metadata": {
    "slideshow": {
     "slide_type": "subslide"
    }
   },
   "outputs": [
    {
     "data": {
      "application/javascript": [
       "/* Put everything inside the global mpl namespace */\n",
       "window.mpl = {};\n",
       "\n",
       "\n",
       "mpl.get_websocket_type = function() {\n",
       "    if (typeof(WebSocket) !== 'undefined') {\n",
       "        return WebSocket;\n",
       "    } else if (typeof(MozWebSocket) !== 'undefined') {\n",
       "        return MozWebSocket;\n",
       "    } else {\n",
       "        alert('Your browser does not have WebSocket support.' +\n",
       "              'Please try Chrome, Safari or Firefox ≥ 6. ' +\n",
       "              'Firefox 4 and 5 are also supported but you ' +\n",
       "              'have to enable WebSockets in about:config.');\n",
       "    };\n",
       "}\n",
       "\n",
       "mpl.figure = function(figure_id, websocket, ondownload, parent_element) {\n",
       "    this.id = figure_id;\n",
       "\n",
       "    this.ws = websocket;\n",
       "\n",
       "    this.supports_binary = (this.ws.binaryType != undefined);\n",
       "\n",
       "    if (!this.supports_binary) {\n",
       "        var warnings = document.getElementById(\"mpl-warnings\");\n",
       "        if (warnings) {\n",
       "            warnings.style.display = 'block';\n",
       "            warnings.textContent = (\n",
       "                \"This browser does not support binary websocket messages. \" +\n",
       "                    \"Performance may be slow.\");\n",
       "        }\n",
       "    }\n",
       "\n",
       "    this.imageObj = new Image();\n",
       "\n",
       "    this.context = undefined;\n",
       "    this.message = undefined;\n",
       "    this.canvas = undefined;\n",
       "    this.rubberband_canvas = undefined;\n",
       "    this.rubberband_context = undefined;\n",
       "    this.format_dropdown = undefined;\n",
       "\n",
       "    this.image_mode = 'full';\n",
       "\n",
       "    this.root = $('<div/>');\n",
       "    this._root_extra_style(this.root)\n",
       "    this.root.attr('style', 'display: inline-block');\n",
       "\n",
       "    $(parent_element).append(this.root);\n",
       "\n",
       "    this._init_header(this);\n",
       "    this._init_canvas(this);\n",
       "    this._init_toolbar(this);\n",
       "\n",
       "    var fig = this;\n",
       "\n",
       "    this.waiting = false;\n",
       "\n",
       "    this.ws.onopen =  function () {\n",
       "            fig.send_message(\"supports_binary\", {value: fig.supports_binary});\n",
       "            fig.send_message(\"send_image_mode\", {});\n",
       "            if (mpl.ratio != 1) {\n",
       "                fig.send_message(\"set_dpi_ratio\", {'dpi_ratio': mpl.ratio});\n",
       "            }\n",
       "            fig.send_message(\"refresh\", {});\n",
       "        }\n",
       "\n",
       "    this.imageObj.onload = function() {\n",
       "            if (fig.image_mode == 'full') {\n",
       "                // Full images could contain transparency (where diff images\n",
       "                // almost always do), so we need to clear the canvas so that\n",
       "                // there is no ghosting.\n",
       "                fig.context.clearRect(0, 0, fig.canvas.width, fig.canvas.height);\n",
       "            }\n",
       "            fig.context.drawImage(fig.imageObj, 0, 0);\n",
       "        };\n",
       "\n",
       "    this.imageObj.onunload = function() {\n",
       "        fig.ws.close();\n",
       "    }\n",
       "\n",
       "    this.ws.onmessage = this._make_on_message_function(this);\n",
       "\n",
       "    this.ondownload = ondownload;\n",
       "}\n",
       "\n",
       "mpl.figure.prototype._init_header = function() {\n",
       "    var titlebar = $(\n",
       "        '<div class=\"ui-dialog-titlebar ui-widget-header ui-corner-all ' +\n",
       "        'ui-helper-clearfix\"/>');\n",
       "    var titletext = $(\n",
       "        '<div class=\"ui-dialog-title\" style=\"width: 100%; ' +\n",
       "        'text-align: center; padding: 3px;\"/>');\n",
       "    titlebar.append(titletext)\n",
       "    this.root.append(titlebar);\n",
       "    this.header = titletext[0];\n",
       "}\n",
       "\n",
       "\n",
       "\n",
       "mpl.figure.prototype._canvas_extra_style = function(canvas_div) {\n",
       "\n",
       "}\n",
       "\n",
       "\n",
       "mpl.figure.prototype._root_extra_style = function(canvas_div) {\n",
       "\n",
       "}\n",
       "\n",
       "mpl.figure.prototype._init_canvas = function() {\n",
       "    var fig = this;\n",
       "\n",
       "    var canvas_div = $('<div/>');\n",
       "\n",
       "    canvas_div.attr('style', 'position: relative; clear: both; outline: 0');\n",
       "\n",
       "    function canvas_keyboard_event(event) {\n",
       "        return fig.key_event(event, event['data']);\n",
       "    }\n",
       "\n",
       "    canvas_div.keydown('key_press', canvas_keyboard_event);\n",
       "    canvas_div.keyup('key_release', canvas_keyboard_event);\n",
       "    this.canvas_div = canvas_div\n",
       "    this._canvas_extra_style(canvas_div)\n",
       "    this.root.append(canvas_div);\n",
       "\n",
       "    var canvas = $('<canvas/>');\n",
       "    canvas.addClass('mpl-canvas');\n",
       "    canvas.attr('style', \"left: 0; top: 0; z-index: 0; outline: 0\")\n",
       "\n",
       "    this.canvas = canvas[0];\n",
       "    this.context = canvas[0].getContext(\"2d\");\n",
       "\n",
       "    var backingStore = this.context.backingStorePixelRatio ||\n",
       "\tthis.context.webkitBackingStorePixelRatio ||\n",
       "\tthis.context.mozBackingStorePixelRatio ||\n",
       "\tthis.context.msBackingStorePixelRatio ||\n",
       "\tthis.context.oBackingStorePixelRatio ||\n",
       "\tthis.context.backingStorePixelRatio || 1;\n",
       "\n",
       "    mpl.ratio = (window.devicePixelRatio || 1) / backingStore;\n",
       "\n",
       "    var rubberband = $('<canvas/>');\n",
       "    rubberband.attr('style', \"position: absolute; left: 0; top: 0; z-index: 1;\")\n",
       "\n",
       "    var pass_mouse_events = true;\n",
       "\n",
       "    canvas_div.resizable({\n",
       "        start: function(event, ui) {\n",
       "            pass_mouse_events = false;\n",
       "        },\n",
       "        resize: function(event, ui) {\n",
       "            fig.request_resize(ui.size.width, ui.size.height);\n",
       "        },\n",
       "        stop: function(event, ui) {\n",
       "            pass_mouse_events = true;\n",
       "            fig.request_resize(ui.size.width, ui.size.height);\n",
       "        },\n",
       "    });\n",
       "\n",
       "    function mouse_event_fn(event) {\n",
       "        if (pass_mouse_events)\n",
       "            return fig.mouse_event(event, event['data']);\n",
       "    }\n",
       "\n",
       "    rubberband.mousedown('button_press', mouse_event_fn);\n",
       "    rubberband.mouseup('button_release', mouse_event_fn);\n",
       "    // Throttle sequential mouse events to 1 every 20ms.\n",
       "    rubberband.mousemove('motion_notify', mouse_event_fn);\n",
       "\n",
       "    rubberband.mouseenter('figure_enter', mouse_event_fn);\n",
       "    rubberband.mouseleave('figure_leave', mouse_event_fn);\n",
       "\n",
       "    canvas_div.on(\"wheel\", function (event) {\n",
       "        event = event.originalEvent;\n",
       "        event['data'] = 'scroll'\n",
       "        if (event.deltaY < 0) {\n",
       "            event.step = 1;\n",
       "        } else {\n",
       "            event.step = -1;\n",
       "        }\n",
       "        mouse_event_fn(event);\n",
       "    });\n",
       "\n",
       "    canvas_div.append(canvas);\n",
       "    canvas_div.append(rubberband);\n",
       "\n",
       "    this.rubberband = rubberband;\n",
       "    this.rubberband_canvas = rubberband[0];\n",
       "    this.rubberband_context = rubberband[0].getContext(\"2d\");\n",
       "    this.rubberband_context.strokeStyle = \"#000000\";\n",
       "\n",
       "    this._resize_canvas = function(width, height) {\n",
       "        // Keep the size of the canvas, canvas container, and rubber band\n",
       "        // canvas in synch.\n",
       "        canvas_div.css('width', width)\n",
       "        canvas_div.css('height', height)\n",
       "\n",
       "        canvas.attr('width', width * mpl.ratio);\n",
       "        canvas.attr('height', height * mpl.ratio);\n",
       "        canvas.attr('style', 'width: ' + width + 'px; height: ' + height + 'px;');\n",
       "\n",
       "        rubberband.attr('width', width);\n",
       "        rubberband.attr('height', height);\n",
       "    }\n",
       "\n",
       "    // Set the figure to an initial 600x600px, this will subsequently be updated\n",
       "    // upon first draw.\n",
       "    this._resize_canvas(600, 600);\n",
       "\n",
       "    // Disable right mouse context menu.\n",
       "    $(this.rubberband_canvas).bind(\"contextmenu\",function(e){\n",
       "        return false;\n",
       "    });\n",
       "\n",
       "    function set_focus () {\n",
       "        canvas.focus();\n",
       "        canvas_div.focus();\n",
       "    }\n",
       "\n",
       "    window.setTimeout(set_focus, 100);\n",
       "}\n",
       "\n",
       "mpl.figure.prototype._init_toolbar = function() {\n",
       "    var fig = this;\n",
       "\n",
       "    var nav_element = $('<div/>')\n",
       "    nav_element.attr('style', 'width: 100%');\n",
       "    this.root.append(nav_element);\n",
       "\n",
       "    // Define a callback function for later on.\n",
       "    function toolbar_event(event) {\n",
       "        return fig.toolbar_button_onclick(event['data']);\n",
       "    }\n",
       "    function toolbar_mouse_event(event) {\n",
       "        return fig.toolbar_button_onmouseover(event['data']);\n",
       "    }\n",
       "\n",
       "    for(var toolbar_ind in mpl.toolbar_items) {\n",
       "        var name = mpl.toolbar_items[toolbar_ind][0];\n",
       "        var tooltip = mpl.toolbar_items[toolbar_ind][1];\n",
       "        var image = mpl.toolbar_items[toolbar_ind][2];\n",
       "        var method_name = mpl.toolbar_items[toolbar_ind][3];\n",
       "\n",
       "        if (!name) {\n",
       "            // put a spacer in here.\n",
       "            continue;\n",
       "        }\n",
       "        var button = $('<button/>');\n",
       "        button.addClass('ui-button ui-widget ui-state-default ui-corner-all ' +\n",
       "                        'ui-button-icon-only');\n",
       "        button.attr('role', 'button');\n",
       "        button.attr('aria-disabled', 'false');\n",
       "        button.click(method_name, toolbar_event);\n",
       "        button.mouseover(tooltip, toolbar_mouse_event);\n",
       "\n",
       "        var icon_img = $('<span/>');\n",
       "        icon_img.addClass('ui-button-icon-primary ui-icon');\n",
       "        icon_img.addClass(image);\n",
       "        icon_img.addClass('ui-corner-all');\n",
       "\n",
       "        var tooltip_span = $('<span/>');\n",
       "        tooltip_span.addClass('ui-button-text');\n",
       "        tooltip_span.html(tooltip);\n",
       "\n",
       "        button.append(icon_img);\n",
       "        button.append(tooltip_span);\n",
       "\n",
       "        nav_element.append(button);\n",
       "    }\n",
       "\n",
       "    var fmt_picker_span = $('<span/>');\n",
       "\n",
       "    var fmt_picker = $('<select/>');\n",
       "    fmt_picker.addClass('mpl-toolbar-option ui-widget ui-widget-content');\n",
       "    fmt_picker_span.append(fmt_picker);\n",
       "    nav_element.append(fmt_picker_span);\n",
       "    this.format_dropdown = fmt_picker[0];\n",
       "\n",
       "    for (var ind in mpl.extensions) {\n",
       "        var fmt = mpl.extensions[ind];\n",
       "        var option = $(\n",
       "            '<option/>', {selected: fmt === mpl.default_extension}).html(fmt);\n",
       "        fmt_picker.append(option)\n",
       "    }\n",
       "\n",
       "    // Add hover states to the ui-buttons\n",
       "    $( \".ui-button\" ).hover(\n",
       "        function() { $(this).addClass(\"ui-state-hover\");},\n",
       "        function() { $(this).removeClass(\"ui-state-hover\");}\n",
       "    );\n",
       "\n",
       "    var status_bar = $('<span class=\"mpl-message\"/>');\n",
       "    nav_element.append(status_bar);\n",
       "    this.message = status_bar[0];\n",
       "}\n",
       "\n",
       "mpl.figure.prototype.request_resize = function(x_pixels, y_pixels) {\n",
       "    // Request matplotlib to resize the figure. Matplotlib will then trigger a resize in the client,\n",
       "    // which will in turn request a refresh of the image.\n",
       "    this.send_message('resize', {'width': x_pixels, 'height': y_pixels});\n",
       "}\n",
       "\n",
       "mpl.figure.prototype.send_message = function(type, properties) {\n",
       "    properties['type'] = type;\n",
       "    properties['figure_id'] = this.id;\n",
       "    this.ws.send(JSON.stringify(properties));\n",
       "}\n",
       "\n",
       "mpl.figure.prototype.send_draw_message = function() {\n",
       "    if (!this.waiting) {\n",
       "        this.waiting = true;\n",
       "        this.ws.send(JSON.stringify({type: \"draw\", figure_id: this.id}));\n",
       "    }\n",
       "}\n",
       "\n",
       "\n",
       "mpl.figure.prototype.handle_save = function(fig, msg) {\n",
       "    var format_dropdown = fig.format_dropdown;\n",
       "    var format = format_dropdown.options[format_dropdown.selectedIndex].value;\n",
       "    fig.ondownload(fig, format);\n",
       "}\n",
       "\n",
       "\n",
       "mpl.figure.prototype.handle_resize = function(fig, msg) {\n",
       "    var size = msg['size'];\n",
       "    if (size[0] != fig.canvas.width || size[1] != fig.canvas.height) {\n",
       "        fig._resize_canvas(size[0], size[1]);\n",
       "        fig.send_message(\"refresh\", {});\n",
       "    };\n",
       "}\n",
       "\n",
       "mpl.figure.prototype.handle_rubberband = function(fig, msg) {\n",
       "    var x0 = msg['x0'] / mpl.ratio;\n",
       "    var y0 = (fig.canvas.height - msg['y0']) / mpl.ratio;\n",
       "    var x1 = msg['x1'] / mpl.ratio;\n",
       "    var y1 = (fig.canvas.height - msg['y1']) / mpl.ratio;\n",
       "    x0 = Math.floor(x0) + 0.5;\n",
       "    y0 = Math.floor(y0) + 0.5;\n",
       "    x1 = Math.floor(x1) + 0.5;\n",
       "    y1 = Math.floor(y1) + 0.5;\n",
       "    var min_x = Math.min(x0, x1);\n",
       "    var min_y = Math.min(y0, y1);\n",
       "    var width = Math.abs(x1 - x0);\n",
       "    var height = Math.abs(y1 - y0);\n",
       "\n",
       "    fig.rubberband_context.clearRect(\n",
       "        0, 0, fig.canvas.width, fig.canvas.height);\n",
       "\n",
       "    fig.rubberband_context.strokeRect(min_x, min_y, width, height);\n",
       "}\n",
       "\n",
       "mpl.figure.prototype.handle_figure_label = function(fig, msg) {\n",
       "    // Updates the figure title.\n",
       "    fig.header.textContent = msg['label'];\n",
       "}\n",
       "\n",
       "mpl.figure.prototype.handle_cursor = function(fig, msg) {\n",
       "    var cursor = msg['cursor'];\n",
       "    switch(cursor)\n",
       "    {\n",
       "    case 0:\n",
       "        cursor = 'pointer';\n",
       "        break;\n",
       "    case 1:\n",
       "        cursor = 'default';\n",
       "        break;\n",
       "    case 2:\n",
       "        cursor = 'crosshair';\n",
       "        break;\n",
       "    case 3:\n",
       "        cursor = 'move';\n",
       "        break;\n",
       "    }\n",
       "    fig.rubberband_canvas.style.cursor = cursor;\n",
       "}\n",
       "\n",
       "mpl.figure.prototype.handle_message = function(fig, msg) {\n",
       "    fig.message.textContent = msg['message'];\n",
       "}\n",
       "\n",
       "mpl.figure.prototype.handle_draw = function(fig, msg) {\n",
       "    // Request the server to send over a new figure.\n",
       "    fig.send_draw_message();\n",
       "}\n",
       "\n",
       "mpl.figure.prototype.handle_image_mode = function(fig, msg) {\n",
       "    fig.image_mode = msg['mode'];\n",
       "}\n",
       "\n",
       "mpl.figure.prototype.updated_canvas_event = function() {\n",
       "    // Called whenever the canvas gets updated.\n",
       "    this.send_message(\"ack\", {});\n",
       "}\n",
       "\n",
       "// A function to construct a web socket function for onmessage handling.\n",
       "// Called in the figure constructor.\n",
       "mpl.figure.prototype._make_on_message_function = function(fig) {\n",
       "    return function socket_on_message(evt) {\n",
       "        if (evt.data instanceof Blob) {\n",
       "            /* FIXME: We get \"Resource interpreted as Image but\n",
       "             * transferred with MIME type text/plain:\" errors on\n",
       "             * Chrome.  But how to set the MIME type?  It doesn't seem\n",
       "             * to be part of the websocket stream */\n",
       "            evt.data.type = \"image/png\";\n",
       "\n",
       "            /* Free the memory for the previous frames */\n",
       "            if (fig.imageObj.src) {\n",
       "                (window.URL || window.webkitURL).revokeObjectURL(\n",
       "                    fig.imageObj.src);\n",
       "            }\n",
       "\n",
       "            fig.imageObj.src = (window.URL || window.webkitURL).createObjectURL(\n",
       "                evt.data);\n",
       "            fig.updated_canvas_event();\n",
       "            fig.waiting = false;\n",
       "            return;\n",
       "        }\n",
       "        else if (typeof evt.data === 'string' && evt.data.slice(0, 21) == \"data:image/png;base64\") {\n",
       "            fig.imageObj.src = evt.data;\n",
       "            fig.updated_canvas_event();\n",
       "            fig.waiting = false;\n",
       "            return;\n",
       "        }\n",
       "\n",
       "        var msg = JSON.parse(evt.data);\n",
       "        var msg_type = msg['type'];\n",
       "\n",
       "        // Call the  \"handle_{type}\" callback, which takes\n",
       "        // the figure and JSON message as its only arguments.\n",
       "        try {\n",
       "            var callback = fig[\"handle_\" + msg_type];\n",
       "        } catch (e) {\n",
       "            console.log(\"No handler for the '\" + msg_type + \"' message type: \", msg);\n",
       "            return;\n",
       "        }\n",
       "\n",
       "        if (callback) {\n",
       "            try {\n",
       "                // console.log(\"Handling '\" + msg_type + \"' message: \", msg);\n",
       "                callback(fig, msg);\n",
       "            } catch (e) {\n",
       "                console.log(\"Exception inside the 'handler_\" + msg_type + \"' callback:\", e, e.stack, msg);\n",
       "            }\n",
       "        }\n",
       "    };\n",
       "}\n",
       "\n",
       "// from http://stackoverflow.com/questions/1114465/getting-mouse-location-in-canvas\n",
       "mpl.findpos = function(e) {\n",
       "    //this section is from http://www.quirksmode.org/js/events_properties.html\n",
       "    var targ;\n",
       "    if (!e)\n",
       "        e = window.event;\n",
       "    if (e.target)\n",
       "        targ = e.target;\n",
       "    else if (e.srcElement)\n",
       "        targ = e.srcElement;\n",
       "    if (targ.nodeType == 3) // defeat Safari bug\n",
       "        targ = targ.parentNode;\n",
       "\n",
       "    // jQuery normalizes the pageX and pageY\n",
       "    // pageX,Y are the mouse positions relative to the document\n",
       "    // offset() returns the position of the element relative to the document\n",
       "    var x = e.pageX - $(targ).offset().left;\n",
       "    var y = e.pageY - $(targ).offset().top;\n",
       "\n",
       "    return {\"x\": x, \"y\": y};\n",
       "};\n",
       "\n",
       "/*\n",
       " * return a copy of an object with only non-object keys\n",
       " * we need this to avoid circular references\n",
       " * http://stackoverflow.com/a/24161582/3208463\n",
       " */\n",
       "function simpleKeys (original) {\n",
       "  return Object.keys(original).reduce(function (obj, key) {\n",
       "    if (typeof original[key] !== 'object')\n",
       "        obj[key] = original[key]\n",
       "    return obj;\n",
       "  }, {});\n",
       "}\n",
       "\n",
       "mpl.figure.prototype.mouse_event = function(event, name) {\n",
       "    var canvas_pos = mpl.findpos(event)\n",
       "\n",
       "    if (name === 'button_press')\n",
       "    {\n",
       "        this.canvas.focus();\n",
       "        this.canvas_div.focus();\n",
       "    }\n",
       "\n",
       "    var x = canvas_pos.x * mpl.ratio;\n",
       "    var y = canvas_pos.y * mpl.ratio;\n",
       "\n",
       "    this.send_message(name, {x: x, y: y, button: event.button,\n",
       "                             step: event.step,\n",
       "                             guiEvent: simpleKeys(event)});\n",
       "\n",
       "    /* This prevents the web browser from automatically changing to\n",
       "     * the text insertion cursor when the button is pressed.  We want\n",
       "     * to control all of the cursor setting manually through the\n",
       "     * 'cursor' event from matplotlib */\n",
       "    event.preventDefault();\n",
       "    return false;\n",
       "}\n",
       "\n",
       "mpl.figure.prototype._key_event_extra = function(event, name) {\n",
       "    // Handle any extra behaviour associated with a key event\n",
       "}\n",
       "\n",
       "mpl.figure.prototype.key_event = function(event, name) {\n",
       "\n",
       "    // Prevent repeat events\n",
       "    if (name == 'key_press')\n",
       "    {\n",
       "        if (event.which === this._key)\n",
       "            return;\n",
       "        else\n",
       "            this._key = event.which;\n",
       "    }\n",
       "    if (name == 'key_release')\n",
       "        this._key = null;\n",
       "\n",
       "    var value = '';\n",
       "    if (event.ctrlKey && event.which != 17)\n",
       "        value += \"ctrl+\";\n",
       "    if (event.altKey && event.which != 18)\n",
       "        value += \"alt+\";\n",
       "    if (event.shiftKey && event.which != 16)\n",
       "        value += \"shift+\";\n",
       "\n",
       "    value += 'k';\n",
       "    value += event.which.toString();\n",
       "\n",
       "    this._key_event_extra(event, name);\n",
       "\n",
       "    this.send_message(name, {key: value,\n",
       "                             guiEvent: simpleKeys(event)});\n",
       "    return false;\n",
       "}\n",
       "\n",
       "mpl.figure.prototype.toolbar_button_onclick = function(name) {\n",
       "    if (name == 'download') {\n",
       "        this.handle_save(this, null);\n",
       "    } else {\n",
       "        this.send_message(\"toolbar_button\", {name: name});\n",
       "    }\n",
       "};\n",
       "\n",
       "mpl.figure.prototype.toolbar_button_onmouseover = function(tooltip) {\n",
       "    this.message.textContent = tooltip;\n",
       "};\n",
       "mpl.toolbar_items = [[\"Home\", \"Reset original view\", \"fa fa-home icon-home\", \"home\"], [\"Back\", \"Back to  previous view\", \"fa fa-arrow-left icon-arrow-left\", \"back\"], [\"Forward\", \"Forward to next view\", \"fa fa-arrow-right icon-arrow-right\", \"forward\"], [\"\", \"\", \"\", \"\"], [\"Pan\", \"Pan axes with left mouse, zoom with right\", \"fa fa-arrows icon-move\", \"pan\"], [\"Zoom\", \"Zoom to rectangle\", \"fa fa-square-o icon-check-empty\", \"zoom\"], [\"\", \"\", \"\", \"\"], [\"Download\", \"Download plot\", \"fa fa-floppy-o icon-save\", \"download\"]];\n",
       "\n",
       "mpl.extensions = [\"eps\", \"jpeg\", \"pdf\", \"png\", \"ps\", \"raw\", \"svg\", \"tif\"];\n",
       "\n",
       "mpl.default_extension = \"png\";var comm_websocket_adapter = function(comm) {\n",
       "    // Create a \"websocket\"-like object which calls the given IPython comm\n",
       "    // object with the appropriate methods. Currently this is a non binary\n",
       "    // socket, so there is still some room for performance tuning.\n",
       "    var ws = {};\n",
       "\n",
       "    ws.close = function() {\n",
       "        comm.close()\n",
       "    };\n",
       "    ws.send = function(m) {\n",
       "        //console.log('sending', m);\n",
       "        comm.send(m);\n",
       "    };\n",
       "    // Register the callback with on_msg.\n",
       "    comm.on_msg(function(msg) {\n",
       "        //console.log('receiving', msg['content']['data'], msg);\n",
       "        // Pass the mpl event to the overriden (by mpl) onmessage function.\n",
       "        ws.onmessage(msg['content']['data'])\n",
       "    });\n",
       "    return ws;\n",
       "}\n",
       "\n",
       "mpl.mpl_figure_comm = function(comm, msg) {\n",
       "    // This is the function which gets called when the mpl process\n",
       "    // starts-up an IPython Comm through the \"matplotlib\" channel.\n",
       "\n",
       "    var id = msg.content.data.id;\n",
       "    // Get hold of the div created by the display call when the Comm\n",
       "    // socket was opened in Python.\n",
       "    var element = $(\"#\" + id);\n",
       "    var ws_proxy = comm_websocket_adapter(comm)\n",
       "\n",
       "    function ondownload(figure, format) {\n",
       "        window.open(figure.imageObj.src);\n",
       "    }\n",
       "\n",
       "    var fig = new mpl.figure(id, ws_proxy,\n",
       "                           ondownload,\n",
       "                           element.get(0));\n",
       "\n",
       "    // Call onopen now - mpl needs it, as it is assuming we've passed it a real\n",
       "    // web socket which is closed, not our websocket->open comm proxy.\n",
       "    ws_proxy.onopen();\n",
       "\n",
       "    fig.parent_element = element.get(0);\n",
       "    fig.cell_info = mpl.find_output_cell(\"<div id='\" + id + \"'></div>\");\n",
       "    if (!fig.cell_info) {\n",
       "        console.error(\"Failed to find cell for figure\", id, fig);\n",
       "        return;\n",
       "    }\n",
       "\n",
       "    var output_index = fig.cell_info[2]\n",
       "    var cell = fig.cell_info[0];\n",
       "\n",
       "};\n",
       "\n",
       "mpl.figure.prototype.handle_close = function(fig, msg) {\n",
       "    var width = fig.canvas.width/mpl.ratio\n",
       "    fig.root.unbind('remove')\n",
       "\n",
       "    // Update the output cell to use the data from the current canvas.\n",
       "    fig.push_to_output();\n",
       "    var dataURL = fig.canvas.toDataURL();\n",
       "    // Re-enable the keyboard manager in IPython - without this line, in FF,\n",
       "    // the notebook keyboard shortcuts fail.\n",
       "    IPython.keyboard_manager.enable()\n",
       "    $(fig.parent_element).html('<img src=\"' + dataURL + '\" width=\"' + width + '\">');\n",
       "    fig.close_ws(fig, msg);\n",
       "}\n",
       "\n",
       "mpl.figure.prototype.close_ws = function(fig, msg){\n",
       "    fig.send_message('closing', msg);\n",
       "    // fig.ws.close()\n",
       "}\n",
       "\n",
       "mpl.figure.prototype.push_to_output = function(remove_interactive) {\n",
       "    // Turn the data on the canvas into data in the output cell.\n",
       "    var width = this.canvas.width/mpl.ratio\n",
       "    var dataURL = this.canvas.toDataURL();\n",
       "    this.cell_info[1]['text/html'] = '<img src=\"' + dataURL + '\" width=\"' + width + '\">';\n",
       "}\n",
       "\n",
       "mpl.figure.prototype.updated_canvas_event = function() {\n",
       "    // Tell IPython that the notebook contents must change.\n",
       "    IPython.notebook.set_dirty(true);\n",
       "    this.send_message(\"ack\", {});\n",
       "    var fig = this;\n",
       "    // Wait a second, then push the new image to the DOM so\n",
       "    // that it is saved nicely (might be nice to debounce this).\n",
       "    setTimeout(function () { fig.push_to_output() }, 1000);\n",
       "}\n",
       "\n",
       "mpl.figure.prototype._init_toolbar = function() {\n",
       "    var fig = this;\n",
       "\n",
       "    var nav_element = $('<div/>')\n",
       "    nav_element.attr('style', 'width: 100%');\n",
       "    this.root.append(nav_element);\n",
       "\n",
       "    // Define a callback function for later on.\n",
       "    function toolbar_event(event) {\n",
       "        return fig.toolbar_button_onclick(event['data']);\n",
       "    }\n",
       "    function toolbar_mouse_event(event) {\n",
       "        return fig.toolbar_button_onmouseover(event['data']);\n",
       "    }\n",
       "\n",
       "    for(var toolbar_ind in mpl.toolbar_items){\n",
       "        var name = mpl.toolbar_items[toolbar_ind][0];\n",
       "        var tooltip = mpl.toolbar_items[toolbar_ind][1];\n",
       "        var image = mpl.toolbar_items[toolbar_ind][2];\n",
       "        var method_name = mpl.toolbar_items[toolbar_ind][3];\n",
       "\n",
       "        if (!name) { continue; };\n",
       "\n",
       "        var button = $('<button class=\"btn btn-default\" href=\"#\" title=\"' + name + '\"><i class=\"fa ' + image + ' fa-lg\"></i></button>');\n",
       "        button.click(method_name, toolbar_event);\n",
       "        button.mouseover(tooltip, toolbar_mouse_event);\n",
       "        nav_element.append(button);\n",
       "    }\n",
       "\n",
       "    // Add the status bar.\n",
       "    var status_bar = $('<span class=\"mpl-message\" style=\"text-align:right; float: right;\"/>');\n",
       "    nav_element.append(status_bar);\n",
       "    this.message = status_bar[0];\n",
       "\n",
       "    // Add the close button to the window.\n",
       "    var buttongrp = $('<div class=\"btn-group inline pull-right\"></div>');\n",
       "    var button = $('<button class=\"btn btn-mini btn-primary\" href=\"#\" title=\"Stop Interaction\"><i class=\"fa fa-power-off icon-remove icon-large\"></i></button>');\n",
       "    button.click(function (evt) { fig.handle_close(fig, {}); } );\n",
       "    button.mouseover('Stop Interaction', toolbar_mouse_event);\n",
       "    buttongrp.append(button);\n",
       "    var titlebar = this.root.find($('.ui-dialog-titlebar'));\n",
       "    titlebar.prepend(buttongrp);\n",
       "}\n",
       "\n",
       "mpl.figure.prototype._root_extra_style = function(el){\n",
       "    var fig = this\n",
       "    el.on(\"remove\", function(){\n",
       "\tfig.close_ws(fig, {});\n",
       "    });\n",
       "}\n",
       "\n",
       "mpl.figure.prototype._canvas_extra_style = function(el){\n",
       "    // this is important to make the div 'focusable\n",
       "    el.attr('tabindex', 0)\n",
       "    // reach out to IPython and tell the keyboard manager to turn it's self\n",
       "    // off when our div gets focus\n",
       "\n",
       "    // location in version 3\n",
       "    if (IPython.notebook.keyboard_manager) {\n",
       "        IPython.notebook.keyboard_manager.register_events(el);\n",
       "    }\n",
       "    else {\n",
       "        // location in version 2\n",
       "        IPython.keyboard_manager.register_events(el);\n",
       "    }\n",
       "\n",
       "}\n",
       "\n",
       "mpl.figure.prototype._key_event_extra = function(event, name) {\n",
       "    var manager = IPython.notebook.keyboard_manager;\n",
       "    if (!manager)\n",
       "        manager = IPython.keyboard_manager;\n",
       "\n",
       "    // Check for shift+enter\n",
       "    if (event.shiftKey && event.which == 13) {\n",
       "        this.canvas_div.blur();\n",
       "        event.shiftKey = false;\n",
       "        // Send a \"J\" for go to next cell\n",
       "        event.which = 74;\n",
       "        event.keyCode = 74;\n",
       "        manager.command_mode();\n",
       "        manager.handle_keydown(event);\n",
       "    }\n",
       "}\n",
       "\n",
       "mpl.figure.prototype.handle_save = function(fig, msg) {\n",
       "    fig.ondownload(fig, null);\n",
       "}\n",
       "\n",
       "\n",
       "mpl.find_output_cell = function(html_output) {\n",
       "    // Return the cell and output element which can be found *uniquely* in the notebook.\n",
       "    // Note - this is a bit hacky, but it is done because the \"notebook_saving.Notebook\"\n",
       "    // IPython event is triggered only after the cells have been serialised, which for\n",
       "    // our purposes (turning an active figure into a static one), is too late.\n",
       "    var cells = IPython.notebook.get_cells();\n",
       "    var ncells = cells.length;\n",
       "    for (var i=0; i<ncells; i++) {\n",
       "        var cell = cells[i];\n",
       "        if (cell.cell_type === 'code'){\n",
       "            for (var j=0; j<cell.output_area.outputs.length; j++) {\n",
       "                var data = cell.output_area.outputs[j];\n",
       "                if (data.data) {\n",
       "                    // IPython >= 3 moved mimebundle to data attribute of output\n",
       "                    data = data.data;\n",
       "                }\n",
       "                if (data['text/html'] == html_output) {\n",
       "                    return [cell, data, j];\n",
       "                }\n",
       "            }\n",
       "        }\n",
       "    }\n",
       "}\n",
       "\n",
       "// Register the function which deals with the matplotlib target/channel.\n",
       "// The kernel may be null if the page has been refreshed.\n",
       "if (IPython.notebook.kernel != null) {\n",
       "    IPython.notebook.kernel.comm_manager.register_target('matplotlib', mpl.mpl_figure_comm);\n",
       "}\n"
      ],
      "text/plain": [
       "<IPython.core.display.Javascript object>"
      ]
     },
     "metadata": {},
     "output_type": "display_data"
    },
    {
     "data": {
      "text/html": [
       "<img src=\"data:image/png;base64,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\" width=\"640\">"
      ],
      "text/plain": [
       "<IPython.core.display.HTML object>"
      ]
     },
     "metadata": {},
     "output_type": "display_data"
    }
   ],
   "source": [
    "fig = plt.figure()\n",
    "ax = fig.gca(projection='3d')\n",
    "x = np.arange(-5, 5, 0.1)\n",
    "y = np.arange(-5, 5, 0.1)\n",
    "x, y = np.meshgrid(x, y)\n",
    "r = np.sqrt(x**2 + y**2)\n",
    "z = np.sin(r)/r\n",
    "surf = ax.plot_surface(x, y, z, linewidth=0, cmap=cm.coolwarm)\n",
    "fig.colorbar(surf, shrink=0.5, aspect=5)\n",
    "plt.show()"
   ]
  },
  {
   "cell_type": "markdown",
   "metadata": {
    "slideshow": {
     "slide_type": "slide"
    }
   },
   "source": [
    "## Useful Resources\n",
    "\n",
    "* [Python Packages Binaries for Windows](https://www.lfd.uci.edu/~gohlke/pythonlibs/)\n",
    "* [Data-science-notebooks](https://github.com/donnemartin/data-science-ipython-notebooks#deep-learning)"
   ]
  },
  {
   "cell_type": "markdown",
   "metadata": {
    "slideshow": {
     "slide_type": "slide"
    }
   },
   "source": [
    "# END"
   ]
  }
 ],
 "metadata": {
  "kernelspec": {
   "display_name": "Python 3",
   "language": "python",
   "name": "python3"
  },
  "language_info": {
   "codemirror_mode": {
    "name": "ipython",
    "version": 3
   },
   "file_extension": ".py",
   "mimetype": "text/x-python",
   "name": "python",
   "nbconvert_exporter": "python",
   "pygments_lexer": "ipython3",
   "version": "3.5.2"
  }
 },
 "nbformat": 4,
 "nbformat_minor": 2
}
