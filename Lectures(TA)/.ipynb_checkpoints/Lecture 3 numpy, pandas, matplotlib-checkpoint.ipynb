{
 "cells": [
  {
   "cell_type": "markdown",
   "metadata": {
    "slideshow": {
     "slide_type": "slide"
    }
   },
   "source": [
    "# Lecture 3. numpy, pandas, matplotlib\n",
    "\n",
    "<center>\n",
    "<img src=\"https://camo.githubusercontent.com/2eb0e1096ba504bf9e1446db83a6d1753c3af994/68747470733a2f2f6b6f7a696b6f772e66696c65732e776f726470726573732e636f6d2f323031362f30372f73637265656e73686f74312e706e673f773d31313430\" alt=\"Drawing\" style=\"width: 700px;\"/>\n",
    "</center>\n",
    "\n",
    "<font color='orange'>\n",
    "Seunghyeon Yu\n",
    "</font>"
   ]
  },
  {
   "cell_type": "markdown",
   "metadata": {
    "slideshow": {
     "slide_type": "slide"
    }
   },
   "source": [
    "# Overview\n",
    "\n",
    "* intro\n",
    "* numpy\n",
    "* pandas\n",
    "* matplotlib"
   ]
  },
  {
   "cell_type": "markdown",
   "metadata": {
    "slideshow": {
     "slide_type": "subslide"
    }
   },
   "source": [
    "## Why we use packages?\n",
    "> \"Stand on the shoulders of giants\"\n",
    "> -Issac Newton\n",
    "\n",
    "* Time Saving\n",
    "* Stability (by many open source contributors, [GitHub](https://github.com/))\n",
    "* Nice Documentations ([Read the Docs](https://readthedocs.org/))\n",
    "* Have Fun!"
   ]
  },
  {
   "cell_type": "markdown",
   "metadata": {
    "slideshow": {
     "slide_type": "subslide"
    }
   },
   "source": [
    "## Package Dependencies\n",
    "\n",
    "<center>\n",
    "<img src=\"https://qph.ec.quoracdn.net/main-qimg-fad2e6702b134e3853707daa53214314\" alt=\"Drawing\" style=\"width: 600px;\"/>"
   ]
  },
  {
   "cell_type": "markdown",
   "metadata": {
    "slideshow": {
     "slide_type": "subslide"
    }
   },
   "source": [
    "## Package Structure\n",
    "```\n",
    "game/\n",
    "    __init__.py\n",
    "    sound/\n",
    "        __init__.py\n",
    "        echo.py\n",
    "        wav.py\n",
    "    graphic/\n",
    "        __init__.py\n",
    "        screen.py\n",
    "        render.py\n",
    "    play/\n",
    "        __init__.py\n",
    "        run.py\n",
    "        test.py\n",
    "```\n",
    "* `__init__.py` : Required to make the directories as pakcages."
   ]
  },
  {
   "cell_type": "markdown",
   "metadata": {
    "collapsed": true,
    "slideshow": {
     "slide_type": "slide"
    }
   },
   "source": [
    "# NumPy\n",
    "\n",
    "<center>\n",
    "<img src=\"https://www.kdnuggets.com/wp-content/uploads/numpy-logo.jpg\" alt=\"Drawing\" style=\"width: 300px;\"/>\n",
    "</center>\n",
    "\n",
    "* Similar to Matlab\n",
    "* N-dimensional object\n",
    "* Mathematical functions\n",
    "* Fast calculation \n",
    "* Linear algebra, Fourier transform, random number generation, Einstein summation ..."
   ]
  },
  {
   "cell_type": "code",
   "execution_count": 1,
   "metadata": {
    "collapsed": true,
    "slideshow": {
     "slide_type": "subslide"
    }
   },
   "outputs": [],
   "source": [
    "import numpy as np"
   ]
  },
  {
   "cell_type": "markdown",
   "metadata": {
    "slideshow": {
     "slide_type": "subslide"
    }
   },
   "source": [
    "### Arrays\n",
    "**1D Array **"
   ]
  },
  {
   "cell_type": "code",
   "execution_count": 2,
   "metadata": {
    "slideshow": {
     "slide_type": "fragment"
    }
   },
   "outputs": [
    {
     "data": {
      "text/plain": [
       "(4,)"
      ]
     },
     "execution_count": 2,
     "metadata": {},
     "output_type": "execute_result"
    }
   ],
   "source": [
    "x = np.array([1, 2, 3, 4])\n",
    "x.shape"
   ]
  },
  {
   "cell_type": "code",
   "execution_count": 3,
   "metadata": {
    "slideshow": {
     "slide_type": "fragment"
    }
   },
   "outputs": [
    {
     "data": {
      "text/plain": [
       "array([1., 2., 3., 4.])"
      ]
     },
     "execution_count": 3,
     "metadata": {},
     "output_type": "execute_result"
    }
   ],
   "source": [
    "x = np.array([1, 2, 3, 4], dtype=np.float64)  # datatype to float64\n",
    "x"
   ]
  },
  {
   "cell_type": "markdown",
   "metadata": {
    "slideshow": {
     "slide_type": "subslide"
    }
   },
   "source": [
    "**2D Array**"
   ]
  },
  {
   "cell_type": "code",
   "execution_count": 4,
   "metadata": {
    "slideshow": {
     "slide_type": "fragment"
    }
   },
   "outputs": [
    {
     "data": {
      "text/plain": [
       "(2, 3)"
      ]
     },
     "execution_count": 4,
     "metadata": {},
     "output_type": "execute_result"
    }
   ],
   "source": [
    "X = np.array([[1,2,3],\n",
    "              [4,5,6]])\n",
    "X.shape"
   ]
  },
  {
   "cell_type": "markdown",
   "metadata": {
    "slideshow": {
     "slide_type": "subslide"
    }
   },
   "source": [
    "Numpy also provides many functions to create arrays:"
   ]
  },
  {
   "cell_type": "code",
   "execution_count": 5,
   "metadata": {
    "slideshow": {
     "slide_type": "fragment"
    }
   },
   "outputs": [
    {
     "data": {
      "text/plain": [
       "array([[0., 0.],\n",
       "       [0., 0.]])"
      ]
     },
     "execution_count": 5,
     "metadata": {},
     "output_type": "execute_result"
    }
   ],
   "source": [
    "np.zeros((2,2))  # Create an array of all zeros"
   ]
  },
  {
   "cell_type": "code",
   "execution_count": 6,
   "metadata": {
    "slideshow": {
     "slide_type": "fragment"
    }
   },
   "outputs": [
    {
     "data": {
      "text/plain": [
       "array([[1., 1.]])"
      ]
     },
     "execution_count": 6,
     "metadata": {},
     "output_type": "execute_result"
    }
   ],
   "source": [
    "np.ones((1,2))   # Create an array of all ones"
   ]
  },
  {
   "cell_type": "code",
   "execution_count": 7,
   "metadata": {
    "slideshow": {
     "slide_type": "fragment"
    }
   },
   "outputs": [
    {
     "data": {
      "text/plain": [
       "array([[7, 7],\n",
       "       [7, 7]])"
      ]
     },
     "execution_count": 7,
     "metadata": {},
     "output_type": "execute_result"
    }
   ],
   "source": [
    "np.full((2,2), 7) # Create a constant array"
   ]
  },
  {
   "cell_type": "code",
   "execution_count": 8,
   "metadata": {
    "scrolled": false,
    "slideshow": {
     "slide_type": "subslide"
    }
   },
   "outputs": [
    {
     "data": {
      "text/plain": [
       "array([[1., 0.],\n",
       "       [0., 1.]])"
      ]
     },
     "execution_count": 8,
     "metadata": {},
     "output_type": "execute_result"
    }
   ],
   "source": [
    "np.eye(2)         # Create a 2x2 identity matrix"
   ]
  },
  {
   "cell_type": "code",
   "execution_count": 9,
   "metadata": {
    "slideshow": {
     "slide_type": "fragment"
    }
   },
   "outputs": [
    {
     "data": {
      "text/plain": [
       "array([[0.87755923, 0.97742709],\n",
       "       [0.51798161, 0.10948523]])"
      ]
     },
     "execution_count": 9,
     "metadata": {},
     "output_type": "execute_result"
    }
   ],
   "source": [
    "np.random.random((2,2)) # Create an array filled with random values"
   ]
  },
  {
   "cell_type": "markdown",
   "metadata": {
    "slideshow": {
     "slide_type": "subslide"
    }
   },
   "source": [
    "### Array Indexing"
   ]
  },
  {
   "cell_type": "code",
   "execution_count": 10,
   "metadata": {
    "collapsed": true,
    "slideshow": {
     "slide_type": "fragment"
    }
   },
   "outputs": [],
   "source": [
    "A = np.array([[1, 2, 3, 4],  # ----> x-axis\n",
    "              [5, 6, 7, 8],  # |\n",
    "              [9,10,11,12]]) # v\n",
    "                             #   y-axis"
   ]
  },
  {
   "cell_type": "code",
   "execution_count": 11,
   "metadata": {
    "scrolled": true,
    "slideshow": {
     "slide_type": "fragment"
    }
   },
   "outputs": [
    {
     "data": {
      "text/plain": [
       "array([[2, 3],\n",
       "       [6, 7]])"
      ]
     },
     "execution_count": 11,
     "metadata": {},
     "output_type": "execute_result"
    }
   ],
   "source": [
    "A[:2, 1:3]      # a[y-axis, x-axis]"
   ]
  },
  {
   "cell_type": "code",
   "execution_count": 12,
   "metadata": {
    "slideshow": {
     "slide_type": "fragment"
    }
   },
   "outputs": [
    {
     "data": {
      "text/plain": [
       "4"
      ]
     },
     "execution_count": 12,
     "metadata": {},
     "output_type": "execute_result"
    }
   ],
   "source": [
    "A[0, 3]"
   ]
  },
  {
   "cell_type": "code",
   "execution_count": 13,
   "metadata": {
    "slideshow": {
     "slide_type": "fragment"
    }
   },
   "outputs": [
    {
     "data": {
      "text/plain": [
       "array([1, 2, 3, 4])"
      ]
     },
     "execution_count": 13,
     "metadata": {},
     "output_type": "execute_result"
    }
   ],
   "source": [
    "A[0, :]           # 0th row of a"
   ]
  },
  {
   "cell_type": "markdown",
   "metadata": {
    "collapsed": true,
    "slideshow": {
     "slide_type": "subslide"
    }
   },
   "source": [
    "### Array Math"
   ]
  },
  {
   "cell_type": "code",
   "execution_count": 14,
   "metadata": {
    "collapsed": true,
    "slideshow": {
     "slide_type": "fragment"
    }
   },
   "outputs": [],
   "source": [
    "X = np.array([[1, 2],\n",
    "              [3, 4]])\n",
    "Y = np.array([[5, 6],\n",
    "              [7, 8]])"
   ]
  },
  {
   "cell_type": "markdown",
   "metadata": {
    "slideshow": {
     "slide_type": "subslide"
    }
   },
   "source": [
    "** Elementwise Math **"
   ]
  },
  {
   "cell_type": "code",
   "execution_count": 15,
   "metadata": {
    "slideshow": {
     "slide_type": "fragment"
    }
   },
   "outputs": [
    {
     "data": {
      "text/plain": [
       "array([[ 6,  8],\n",
       "       [10, 12]])"
      ]
     },
     "execution_count": 15,
     "metadata": {},
     "output_type": "execute_result"
    }
   ],
   "source": [
    "X + Y"
   ]
  },
  {
   "cell_type": "code",
   "execution_count": 16,
   "metadata": {
    "slideshow": {
     "slide_type": "fragment"
    }
   },
   "outputs": [
    {
     "data": {
      "text/plain": [
       "array([[-4, -4],\n",
       "       [-4, -4]])"
      ]
     },
     "execution_count": 16,
     "metadata": {},
     "output_type": "execute_result"
    }
   ],
   "source": [
    "X - Y"
   ]
  },
  {
   "cell_type": "code",
   "execution_count": 17,
   "metadata": {
    "slideshow": {
     "slide_type": "fragment"
    }
   },
   "outputs": [
    {
     "data": {
      "text/plain": [
       "array([[ 5, 12],\n",
       "       [21, 32]])"
      ]
     },
     "execution_count": 17,
     "metadata": {},
     "output_type": "execute_result"
    }
   ],
   "source": [
    "X*Y"
   ]
  },
  {
   "cell_type": "code",
   "execution_count": 18,
   "metadata": {
    "slideshow": {
     "slide_type": "fragment"
    }
   },
   "outputs": [
    {
     "data": {
      "text/plain": [
       "array([[0.2       , 0.33333333],\n",
       "       [0.42857143, 0.5       ]])"
      ]
     },
     "execution_count": 18,
     "metadata": {},
     "output_type": "execute_result"
    }
   ],
   "source": [
    "X/Y"
   ]
  },
  {
   "cell_type": "code",
   "execution_count": 19,
   "metadata": {
    "slideshow": {
     "slide_type": "subslide"
    }
   },
   "outputs": [
    {
     "data": {
      "text/plain": [
       "array([[1.        , 1.41421356],\n",
       "       [1.73205081, 2.        ]])"
      ]
     },
     "execution_count": 19,
     "metadata": {},
     "output_type": "execute_result"
    }
   ],
   "source": [
    "np.sqrt(X)"
   ]
  },
  {
   "cell_type": "code",
   "execution_count": 20,
   "metadata": {
    "slideshow": {
     "slide_type": "fragment"
    }
   },
   "outputs": [
    {
     "data": {
      "text/plain": [
       "array([4, 6])"
      ]
     },
     "execution_count": 20,
     "metadata": {},
     "output_type": "execute_result"
    }
   ],
   "source": [
    "np.sum(X, axis=0)"
   ]
  },
  {
   "cell_type": "code",
   "execution_count": 21,
   "metadata": {
    "slideshow": {
     "slide_type": "fragment"
    }
   },
   "outputs": [
    {
     "data": {
      "text/plain": [
       "array([3, 7])"
      ]
     },
     "execution_count": 21,
     "metadata": {},
     "output_type": "execute_result"
    }
   ],
   "source": [
    "np.sum(X, axis=1)"
   ]
  },
  {
   "cell_type": "markdown",
   "metadata": {
    "slideshow": {
     "slide_type": "subslide"
    }
   },
   "source": [
    "**Matrix Operations**"
   ]
  },
  {
   "cell_type": "code",
   "execution_count": 22,
   "metadata": {
    "slideshow": {
     "slide_type": "fragment"
    }
   },
   "outputs": [
    {
     "data": {
      "text/plain": [
       "array([[19, 22],\n",
       "       [43, 50]])"
      ]
     },
     "execution_count": 22,
     "metadata": {},
     "output_type": "execute_result"
    }
   ],
   "source": [
    "X.dot(Y)"
   ]
  },
  {
   "cell_type": "code",
   "execution_count": 23,
   "metadata": {
    "slideshow": {
     "slide_type": "fragment"
    }
   },
   "outputs": [
    {
     "data": {
      "text/plain": [
       "array([[1, 3],\n",
       "       [2, 4]])"
      ]
     },
     "execution_count": 23,
     "metadata": {},
     "output_type": "execute_result"
    }
   ],
   "source": [
    "X.T"
   ]
  },
  {
   "cell_type": "code",
   "execution_count": 24,
   "metadata": {
    "slideshow": {
     "slide_type": "fragment"
    }
   },
   "outputs": [
    {
     "data": {
      "text/plain": [
       "array([[-2. ,  1. ],\n",
       "       [ 1.5, -0.5]])"
      ]
     },
     "execution_count": 24,
     "metadata": {},
     "output_type": "execute_result"
    }
   ],
   "source": [
    "np.linalg.inv(X)"
   ]
  },
  {
   "cell_type": "code",
   "execution_count": 25,
   "metadata": {
    "slideshow": {
     "slide_type": "subslide"
    }
   },
   "outputs": [
    {
     "data": {
      "text/plain": [
       "array([[ 5,  6,  7,  8],\n",
       "       [10, 12, 14, 16],\n",
       "       [15, 18, 21, 24],\n",
       "       [20, 24, 28, 32]])"
      ]
     },
     "execution_count": 25,
     "metadata": {},
     "output_type": "execute_result"
    }
   ],
   "source": [
    "np.outer(X, Y)"
   ]
  },
  {
   "cell_type": "code",
   "execution_count": 26,
   "metadata": {
    "slideshow": {
     "slide_type": "fragment"
    }
   },
   "outputs": [
    {
     "data": {
      "text/plain": [
       "array([1, 4])"
      ]
     },
     "execution_count": 26,
     "metadata": {},
     "output_type": "execute_result"
    }
   ],
   "source": [
    "X.diagonal()"
   ]
  },
  {
   "cell_type": "code",
   "execution_count": 27,
   "metadata": {
    "slideshow": {
     "slide_type": "fragment"
    }
   },
   "outputs": [
    {
     "data": {
      "text/plain": [
       "5"
      ]
     },
     "execution_count": 27,
     "metadata": {},
     "output_type": "execute_result"
    }
   ],
   "source": [
    "X.trace()"
   ]
  },
  {
   "cell_type": "markdown",
   "metadata": {
    "slideshow": {
     "slide_type": "subslide"
    }
   },
   "source": [
    "** [EX 1] Ordinary Least Square **\n",
    "$$\n",
    "    \\beta = (X'X)^{-1}X'y\n",
    "$$"
   ]
  },
  {
   "cell_type": "code",
   "execution_count": 28,
   "metadata": {
    "collapsed": true,
    "slideshow": {
     "slide_type": "fragment"
    }
   },
   "outputs": [],
   "source": [
    "X = np.array([[1, 2, 1],\n",
    "              [3, 4, 2],\n",
    "              [1, 2, 3],\n",
    "              [1, 0, 5]])\n",
    "y = np.array([2, 4, 2, 0])"
   ]
  },
  {
   "cell_type": "code",
   "execution_count": 29,
   "metadata": {
    "scrolled": true,
    "slideshow": {
     "slide_type": "fragment"
    }
   },
   "outputs": [
    {
     "data": {
      "text/plain": [
       "array([ 1.33226763e-15,  1.00000000e+00, -4.44089210e-16])"
      ]
     },
     "execution_count": 29,
     "metadata": {},
     "output_type": "execute_result"
    }
   ],
   "source": [
    "np.linalg.inv(X.T.dot(X)).dot(X.T.dot(y))"
   ]
  },
  {
   "cell_type": "markdown",
   "metadata": {
    "slideshow": {
     "slide_type": "subslide"
    }
   },
   "source": [
    "** Random Number Generation **"
   ]
  },
  {
   "cell_type": "code",
   "execution_count": 30,
   "metadata": {
    "slideshow": {
     "slide_type": "fragment"
    }
   },
   "outputs": [
    {
     "data": {
      "text/plain": [
       "array([0.48777459, 0.43201038, 0.22787883, 0.30523941, 0.40450449])"
      ]
     },
     "execution_count": 30,
     "metadata": {},
     "output_type": "execute_result"
    }
   ],
   "source": [
    "np.random.rand(5)          # 5 samples from the uniform random 0~1"
   ]
  },
  {
   "cell_type": "code",
   "execution_count": 31,
   "metadata": {
    "slideshow": {
     "slide_type": "fragment"
    }
   },
   "outputs": [
    {
     "data": {
      "text/plain": [
       "array([ 1.37078606, -0.65485544,  1.23501879,  0.90636749, -0.0737313 ])"
      ]
     },
     "execution_count": 31,
     "metadata": {},
     "output_type": "execute_result"
    }
   ],
   "source": [
    "np.random.randn(5)         # 5 samples from the normal distribution"
   ]
  },
  {
   "cell_type": "code",
   "execution_count": 32,
   "metadata": {
    "slideshow": {
     "slide_type": "subslide"
    }
   },
   "outputs": [
    {
     "data": {
      "text/plain": [
       "array([[ 2.46379073, -0.56779382,  4.12709351],\n",
       "       [-0.61488619,  0.73149713,  4.43378231],\n",
       "       [ 2.9310884 ,  3.88256845,  3.24892486],\n",
       "       [-2.07820402, -1.07742892,  1.71273775],\n",
       "       [ 1.15076091,  4.20242221,  5.29554779]])"
      ]
     },
     "execution_count": 32,
     "metadata": {},
     "output_type": "execute_result"
    }
   ],
   "source": [
    "u = np.array([1, 2, 3])    # mean vector\n",
    "S = np.array([[7, 1, 3],   # covariance matrix\n",
    "              [1, 5, 1],\n",
    "              [3, 1, 4]])\n",
    "\n",
    "np.random.multivariate_normal(mean=u, cov=S, size=5)"
   ]
  },
  {
   "cell_type": "markdown",
   "metadata": {
    "slideshow": {
     "slide_type": "slide"
    }
   },
   "source": [
    "# Pandas\n",
    "\n",
    "<center>\n",
    "<img src=\"https://pandas.pydata.org/_static/pandas_logo.png\" alt=\"Drawing\" style=\"width: 600px;\"/>\n",
    "</center>\n",
    "* Similar to R\n",
    "* DataFrame object\n",
    "* Apply functions\n",
    "* Data merge, join, concatenate ...\n",
    "* Data operations ..."
   ]
  },
  {
   "cell_type": "code",
   "execution_count": 33,
   "metadata": {
    "collapsed": true,
    "slideshow": {
     "slide_type": "subslide"
    }
   },
   "outputs": [],
   "source": [
    "import pandas as pd"
   ]
  },
  {
   "cell_type": "markdown",
   "metadata": {
    "slideshow": {
     "slide_type": "subslide"
    }
   },
   "source": [
    "## Series\n",
    "(= 1D Array + index (or key))"
   ]
  },
  {
   "cell_type": "code",
   "execution_count": 34,
   "metadata": {
    "slideshow": {
     "slide_type": "fragment"
    }
   },
   "outputs": [
    {
     "data": {
      "text/plain": [
       "0    1\n",
       "1    2\n",
       "2    3\n",
       "3    4\n",
       "4    5\n",
       "dtype: int64"
      ]
     },
     "execution_count": 34,
     "metadata": {},
     "output_type": "execute_result"
    }
   ],
   "source": [
    "x = pd.Series([1, 2, 3, 4, 5])\n",
    "x"
   ]
  },
  {
   "cell_type": "code",
   "execution_count": 35,
   "metadata": {
    "slideshow": {
     "slide_type": "subslide"
    }
   },
   "outputs": [
    {
     "data": {
      "text/plain": [
       "array([1, 2, 3, 4, 5], dtype=int64)"
      ]
     },
     "execution_count": 35,
     "metadata": {},
     "output_type": "execute_result"
    }
   ],
   "source": [
    "x.values          # pd.Series -> np.ndarray"
   ]
  },
  {
   "cell_type": "code",
   "execution_count": 36,
   "metadata": {
    "slideshow": {
     "slide_type": "fragment"
    }
   },
   "outputs": [
    {
     "data": {
      "text/plain": [
       "numpy.ndarray"
      ]
     },
     "execution_count": 36,
     "metadata": {},
     "output_type": "execute_result"
    }
   ],
   "source": [
    "type(x.values)"
   ]
  },
  {
   "cell_type": "markdown",
   "metadata": {
    "slideshow": {
     "slide_type": "subslide"
    }
   },
   "source": [
    "** Index **"
   ]
  },
  {
   "cell_type": "code",
   "execution_count": 37,
   "metadata": {
    "slideshow": {
     "slide_type": "fragment"
    }
   },
   "outputs": [
    {
     "data": {
      "text/plain": [
       "a    1\n",
       "b    2\n",
       "c    3\n",
       "d    4\n",
       "e    5\n",
       "dtype: int64"
      ]
     },
     "execution_count": 37,
     "metadata": {},
     "output_type": "execute_result"
    }
   ],
   "source": [
    "x.index = ['a', 'b', 'c', 'd', 'e']\n",
    "x"
   ]
  },
  {
   "cell_type": "code",
   "execution_count": 38,
   "metadata": {
    "slideshow": {
     "slide_type": "fragment"
    }
   },
   "outputs": [
    {
     "data": {
      "text/plain": [
       "a    1\n",
       "b    2\n",
       "c    3\n",
       "d    4\n",
       "e    5\n",
       "dtype: int64"
      ]
     },
     "execution_count": 38,
     "metadata": {},
     "output_type": "execute_result"
    }
   ],
   "source": [
    "pd.Series([1, 2, 3, 4, 5], index=['a', 'b', 'c', 'd', 'e'])"
   ]
  },
  {
   "cell_type": "code",
   "execution_count": 39,
   "metadata": {
    "slideshow": {
     "slide_type": "subslide"
    }
   },
   "outputs": [
    {
     "data": {
      "text/plain": [
       "a    1\n",
       "b    2\n",
       "c    3\n",
       "d    4\n",
       "e    5\n",
       "dtype: int64"
      ]
     },
     "execution_count": 39,
     "metadata": {},
     "output_type": "execute_result"
    }
   ],
   "source": [
    "pd.Series({'a':1, 'b':2, 'c':3, 'd':4, 'e':5})"
   ]
  },
  {
   "cell_type": "markdown",
   "metadata": {
    "slideshow": {
     "slide_type": "subslide"
    }
   },
   "source": [
    "** Indexing **"
   ]
  },
  {
   "cell_type": "code",
   "execution_count": 40,
   "metadata": {
    "slideshow": {
     "slide_type": "fragment"
    }
   },
   "outputs": [
    {
     "data": {
      "text/plain": [
       "a    1\n",
       "b    2\n",
       "c    3\n",
       "dtype: int64"
      ]
     },
     "execution_count": 40,
     "metadata": {},
     "output_type": "execute_result"
    }
   ],
   "source": [
    "x[0:3]"
   ]
  },
  {
   "cell_type": "code",
   "execution_count": 41,
   "metadata": {
    "slideshow": {
     "slide_type": "fragment"
    }
   },
   "outputs": [
    {
     "data": {
      "text/plain": [
       "1"
      ]
     },
     "execution_count": 41,
     "metadata": {},
     "output_type": "execute_result"
    }
   ],
   "source": [
    "x['a']"
   ]
  },
  {
   "cell_type": "code",
   "execution_count": 42,
   "metadata": {
    "slideshow": {
     "slide_type": "fragment"
    }
   },
   "outputs": [
    {
     "data": {
      "text/plain": [
       "a    1\n",
       "c    3\n",
       "d    4\n",
       "dtype: int64"
      ]
     },
     "execution_count": 42,
     "metadata": {},
     "output_type": "execute_result"
    }
   ],
   "source": [
    "x[['a','c','d']]"
   ]
  },
  {
   "cell_type": "code",
   "execution_count": 43,
   "metadata": {
    "slideshow": {
     "slide_type": "subslide"
    }
   },
   "outputs": [
    {
     "data": {
      "text/plain": [
       "c    3\n",
       "d    4\n",
       "e    5\n",
       "dtype: int64"
      ]
     },
     "execution_count": 43,
     "metadata": {},
     "output_type": "execute_result"
    }
   ],
   "source": [
    "x[x > 2]          # Selection"
   ]
  },
  {
   "cell_type": "code",
   "execution_count": 44,
   "metadata": {
    "slideshow": {
     "slide_type": "fragment"
    }
   },
   "outputs": [
    {
     "data": {
      "text/plain": [
       "d    4\n",
       "dtype: int64"
      ]
     },
     "execution_count": 44,
     "metadata": {},
     "output_type": "execute_result"
    }
   ],
   "source": [
    "x[(x > 2) & (x % 3 == 1)]      # Logical Selection"
   ]
  },
  {
   "cell_type": "markdown",
   "metadata": {
    "slideshow": {
     "slide_type": "subslide"
    }
   },
   "source": [
    "** Elementwise Math **"
   ]
  },
  {
   "cell_type": "code",
   "execution_count": 45,
   "metadata": {
    "slideshow": {
     "slide_type": "fragment"
    }
   },
   "outputs": [
    {
     "data": {
      "text/plain": [
       "a     2\n",
       "b     4\n",
       "c     6\n",
       "d     8\n",
       "e    10\n",
       "dtype: int64"
      ]
     },
     "execution_count": 45,
     "metadata": {},
     "output_type": "execute_result"
    }
   ],
   "source": [
    "x * 2"
   ]
  },
  {
   "cell_type": "code",
   "execution_count": 46,
   "metadata": {
    "slideshow": {
     "slide_type": "fragment"
    }
   },
   "outputs": [
    {
     "data": {
      "text/plain": [
       "a      2.718282\n",
       "b      7.389056\n",
       "c     20.085537\n",
       "d     54.598150\n",
       "e    148.413159\n",
       "dtype: float64"
      ]
     },
     "execution_count": 46,
     "metadata": {},
     "output_type": "execute_result"
    }
   ],
   "source": [
    "np.exp(x)"
   ]
  },
  {
   "cell_type": "markdown",
   "metadata": {
    "slideshow": {
     "slide_type": "subslide"
    }
   },
   "source": [
    "** Missing Value **"
   ]
  },
  {
   "cell_type": "code",
   "execution_count": 47,
   "metadata": {
    "slideshow": {
     "slide_type": "fragment"
    }
   },
   "outputs": [
    {
     "data": {
      "text/plain": [
       "True"
      ]
     },
     "execution_count": 47,
     "metadata": {},
     "output_type": "execute_result"
    }
   ],
   "source": [
    "pd.isnull(np.nan)"
   ]
  },
  {
   "cell_type": "code",
   "execution_count": 48,
   "metadata": {
    "slideshow": {
     "slide_type": "fragment"
    }
   },
   "outputs": [
    {
     "data": {
      "text/plain": [
       "0    False\n",
       "1    False\n",
       "2     True\n",
       "3    False\n",
       "4    False\n",
       "dtype: bool"
      ]
     },
     "execution_count": 48,
     "metadata": {},
     "output_type": "execute_result"
    }
   ],
   "source": [
    "x = pd.Series([1, 2, np.nan, 4, 5])\n",
    "pd.isnull(x)"
   ]
  },
  {
   "cell_type": "code",
   "execution_count": 49,
   "metadata": {
    "slideshow": {
     "slide_type": "subslide"
    }
   },
   "outputs": [
    {
     "data": {
      "text/plain": [
       "0    1.0\n",
       "1    2.0\n",
       "3    4.0\n",
       "4    5.0\n",
       "dtype: float64"
      ]
     },
     "execution_count": 49,
     "metadata": {},
     "output_type": "execute_result"
    }
   ],
   "source": [
    "x[~pd.isnull(x)]"
   ]
  },
  {
   "cell_type": "code",
   "execution_count": 50,
   "metadata": {
    "slideshow": {
     "slide_type": "fragment"
    }
   },
   "outputs": [
    {
     "data": {
      "text/plain": [
       "0      1.0\n",
       "1      2.0\n",
       "2    999.0\n",
       "3      4.0\n",
       "4      5.0\n",
       "dtype: float64"
      ]
     },
     "execution_count": 50,
     "metadata": {},
     "output_type": "execute_result"
    }
   ],
   "source": [
    "x.fillna(999)"
   ]
  },
  {
   "cell_type": "code",
   "execution_count": 51,
   "metadata": {
    "slideshow": {
     "slide_type": "fragment"
    }
   },
   "outputs": [
    {
     "data": {
      "text/plain": [
       "{1, 2, 3}"
      ]
     },
     "execution_count": 51,
     "metadata": {},
     "output_type": "execute_result"
    }
   ],
   "source": [
    "x = (1, 2, 3, 4)\n",
    "y = {1, 2, 3, 3, 3, 3}\n",
    "y"
   ]
  },
  {
   "cell_type": "markdown",
   "metadata": {
    "slideshow": {
     "slide_type": "subslide"
    }
   },
   "source": [
    "## DataFrame"
   ]
  },
  {
   "cell_type": "code",
   "execution_count": 52,
   "metadata": {
    "slideshow": {
     "slide_type": "fragment"
    }
   },
   "outputs": [
    {
     "data": {
      "text/html": [
       "<div>\n",
       "<style scoped>\n",
       "    .dataframe tbody tr th:only-of-type {\n",
       "        vertical-align: middle;\n",
       "    }\n",
       "\n",
       "    .dataframe tbody tr th {\n",
       "        vertical-align: top;\n",
       "    }\n",
       "\n",
       "    .dataframe thead th {\n",
       "        text-align: right;\n",
       "    }\n",
       "</style>\n",
       "<table border=\"1\" class=\"dataframe\">\n",
       "  <thead>\n",
       "    <tr style=\"text-align: right;\">\n",
       "      <th></th>\n",
       "      <th>popul</th>\n",
       "      <th>state</th>\n",
       "      <th>year</th>\n",
       "    </tr>\n",
       "  </thead>\n",
       "  <tbody>\n",
       "    <tr>\n",
       "      <th>0</th>\n",
       "      <td>5.0</td>\n",
       "      <td>VA</td>\n",
       "      <td>2012</td>\n",
       "    </tr>\n",
       "    <tr>\n",
       "      <th>1</th>\n",
       "      <td>5.1</td>\n",
       "      <td>VA</td>\n",
       "      <td>2013</td>\n",
       "    </tr>\n",
       "    <tr>\n",
       "      <th>2</th>\n",
       "      <td>5.2</td>\n",
       "      <td>VA</td>\n",
       "      <td>2014</td>\n",
       "    </tr>\n",
       "    <tr>\n",
       "      <th>3</th>\n",
       "      <td>4.0</td>\n",
       "      <td>MD</td>\n",
       "      <td>2014</td>\n",
       "    </tr>\n",
       "    <tr>\n",
       "      <th>4</th>\n",
       "      <td>4.1</td>\n",
       "      <td>MD</td>\n",
       "      <td>2015</td>\n",
       "    </tr>\n",
       "  </tbody>\n",
       "</table>\n",
       "</div>"
      ],
      "text/plain": [
       "   popul state  year\n",
       "0    5.0    VA  2012\n",
       "1    5.1    VA  2013\n",
       "2    5.2    VA  2014\n",
       "3    4.0    MD  2014\n",
       "4    4.1    MD  2015"
      ]
     },
     "execution_count": 52,
     "metadata": {},
     "output_type": "execute_result"
    }
   ],
   "source": [
    "data = {'state' : ['VA', 'VA', 'VA', 'MD', 'MD'],\n",
    "        'year' : [2012, 2013, 2014, 2014, 2015],\n",
    "        'popul' : [5.0, 5.1, 5.2, 4.0, 4.1]}\n",
    "df = pd.DataFrame(data)                     # dict -> pd.DataFrame\n",
    "df"
   ]
  },
  {
   "cell_type": "code",
   "execution_count": 53,
   "metadata": {
    "slideshow": {
     "slide_type": "subslide"
    }
   },
   "outputs": [
    {
     "data": {
      "text/html": [
       "<div>\n",
       "<style scoped>\n",
       "    .dataframe tbody tr th:only-of-type {\n",
       "        vertical-align: middle;\n",
       "    }\n",
       "\n",
       "    .dataframe tbody tr th {\n",
       "        vertical-align: top;\n",
       "    }\n",
       "\n",
       "    .dataframe thead th {\n",
       "        text-align: right;\n",
       "    }\n",
       "</style>\n",
       "<table border=\"1\" class=\"dataframe\">\n",
       "  <thead>\n",
       "    <tr style=\"text-align: right;\">\n",
       "      <th></th>\n",
       "      <th>popul</th>\n",
       "      <th>state</th>\n",
       "      <th>year</th>\n",
       "    </tr>\n",
       "  </thead>\n",
       "  <tbody>\n",
       "    <tr>\n",
       "      <th>0</th>\n",
       "      <td>5.0</td>\n",
       "      <td>VA</td>\n",
       "      <td>2012</td>\n",
       "    </tr>\n",
       "    <tr>\n",
       "      <th>1</th>\n",
       "      <td>5.1</td>\n",
       "      <td>VA</td>\n",
       "      <td>2013</td>\n",
       "    </tr>\n",
       "    <tr>\n",
       "      <th>2</th>\n",
       "      <td>5.2</td>\n",
       "      <td>VA</td>\n",
       "      <td>2014</td>\n",
       "    </tr>\n",
       "    <tr>\n",
       "      <th>3</th>\n",
       "      <td>4.0</td>\n",
       "      <td>MD</td>\n",
       "      <td>2014</td>\n",
       "    </tr>\n",
       "    <tr>\n",
       "      <th>4</th>\n",
       "      <td>4.1</td>\n",
       "      <td>MD</td>\n",
       "      <td>2015</td>\n",
       "    </tr>\n",
       "  </tbody>\n",
       "</table>\n",
       "</div>"
      ],
      "text/plain": [
       "   popul state  year\n",
       "0    5.0    VA  2012\n",
       "1    5.1    VA  2013\n",
       "2    5.2    VA  2014\n",
       "3    4.0    MD  2014\n",
       "4    4.1    MD  2015"
      ]
     },
     "execution_count": 53,
     "metadata": {},
     "output_type": "execute_result"
    }
   ],
   "source": [
    "pd.DataFrame([[5.0, 'VA', 2012],           # np.ndarray + columns - > pd.DataFrame\n",
    "              [5.1, 'VA', 2013],\n",
    "              [5.2, 'VA', 2014],\n",
    "              [4.0, 'MD', 2014],\n",
    "              [4.1, 'MD', 2015]],\n",
    "             columns = ['popul', 'state', 'year'])"
   ]
  },
  {
   "cell_type": "markdown",
   "metadata": {
    "slideshow": {
     "slide_type": "subslide"
    }
   },
   "source": [
    "** Retreiving **"
   ]
  },
  {
   "cell_type": "code",
   "execution_count": 54,
   "metadata": {
    "slideshow": {
     "slide_type": "fragment"
    }
   },
   "outputs": [
    {
     "data": {
      "text/plain": [
       "0    5.0\n",
       "1    5.1\n",
       "2    5.2\n",
       "3    4.0\n",
       "4    4.1\n",
       "Name: popul, dtype: float64"
      ]
     },
     "execution_count": 54,
     "metadata": {},
     "output_type": "execute_result"
    }
   ],
   "source": [
    "df['popul']"
   ]
  },
  {
   "cell_type": "markdown",
   "metadata": {
    "slideshow": {
     "slide_type": "subslide"
    }
   },
   "source": [
    "> **<font color='red'> Caution ! </font>** **Not Recommend**\n",
    "\n",
    "> attribute access using (**.**) can collide with other class methods. "
   ]
  },
  {
   "cell_type": "code",
   "execution_count": 55,
   "metadata": {
    "slideshow": {
     "slide_type": "fragment"
    }
   },
   "outputs": [
    {
     "data": {
      "text/plain": [
       "0    5.0\n",
       "1    5.1\n",
       "2    5.2\n",
       "3    4.0\n",
       "4    4.1\n",
       "Name: popul, dtype: float64"
      ]
     },
     "execution_count": 55,
     "metadata": {},
     "output_type": "execute_result"
    }
   ],
   "source": [
    "df.popul           # Not Recommend !"
   ]
  },
  {
   "cell_type": "code",
   "execution_count": 56,
   "metadata": {
    "slideshow": {
     "slide_type": "subslide"
    }
   },
   "outputs": [
    {
     "data": {
      "text/plain": [
       "popul       5\n",
       "state      VA\n",
       "year     2012\n",
       "Name: 0, dtype: object"
      ]
     },
     "execution_count": 56,
     "metadata": {},
     "output_type": "execute_result"
    }
   ],
   "source": [
    "df.iloc[0]           # 0-th row"
   ]
  },
  {
   "cell_type": "markdown",
   "metadata": {
    "slideshow": {
     "slide_type": "subslide"
    }
   },
   "source": [
    "** Add, Delete Columns **"
   ]
  },
  {
   "cell_type": "code",
   "execution_count": 57,
   "metadata": {
    "slideshow": {
     "slide_type": "fragment"
    }
   },
   "outputs": [
    {
     "data": {
      "text/html": [
       "<div>\n",
       "<style scoped>\n",
       "    .dataframe tbody tr th:only-of-type {\n",
       "        vertical-align: middle;\n",
       "    }\n",
       "\n",
       "    .dataframe tbody tr th {\n",
       "        vertical-align: top;\n",
       "    }\n",
       "\n",
       "    .dataframe thead th {\n",
       "        text-align: right;\n",
       "    }\n",
       "</style>\n",
       "<table border=\"1\" class=\"dataframe\">\n",
       "  <thead>\n",
       "    <tr style=\"text-align: right;\">\n",
       "      <th></th>\n",
       "      <th>popul</th>\n",
       "      <th>state</th>\n",
       "      <th>year</th>\n",
       "      <th>alt</th>\n",
       "    </tr>\n",
       "  </thead>\n",
       "  <tbody>\n",
       "    <tr>\n",
       "      <th>0</th>\n",
       "      <td>5.0</td>\n",
       "      <td>VA</td>\n",
       "      <td>2012</td>\n",
       "      <td>42.1</td>\n",
       "    </tr>\n",
       "    <tr>\n",
       "      <th>1</th>\n",
       "      <td>5.1</td>\n",
       "      <td>VA</td>\n",
       "      <td>2013</td>\n",
       "      <td>42.1</td>\n",
       "    </tr>\n",
       "    <tr>\n",
       "      <th>2</th>\n",
       "      <td>5.2</td>\n",
       "      <td>VA</td>\n",
       "      <td>2014</td>\n",
       "      <td>42.1</td>\n",
       "    </tr>\n",
       "    <tr>\n",
       "      <th>3</th>\n",
       "      <td>4.0</td>\n",
       "      <td>MD</td>\n",
       "      <td>2014</td>\n",
       "      <td>46.4</td>\n",
       "    </tr>\n",
       "    <tr>\n",
       "      <th>4</th>\n",
       "      <td>4.1</td>\n",
       "      <td>MD</td>\n",
       "      <td>2015</td>\n",
       "      <td>46.4</td>\n",
       "    </tr>\n",
       "  </tbody>\n",
       "</table>\n",
       "</div>"
      ],
      "text/plain": [
       "   popul state  year   alt\n",
       "0    5.0    VA  2012  42.1\n",
       "1    5.1    VA  2013  42.1\n",
       "2    5.2    VA  2014  42.1\n",
       "3    4.0    MD  2014  46.4\n",
       "4    4.1    MD  2015  46.4"
      ]
     },
     "execution_count": 57,
     "metadata": {},
     "output_type": "execute_result"
    }
   ],
   "source": [
    "df['alt'] = [42.1, 42.1, 42.1, 46.4, 46.4]\n",
    "df"
   ]
  },
  {
   "cell_type": "code",
   "execution_count": 58,
   "metadata": {
    "slideshow": {
     "slide_type": "fragment"
    }
   },
   "outputs": [
    {
     "data": {
      "text/html": [
       "<div>\n",
       "<style scoped>\n",
       "    .dataframe tbody tr th:only-of-type {\n",
       "        vertical-align: middle;\n",
       "    }\n",
       "\n",
       "    .dataframe tbody tr th {\n",
       "        vertical-align: top;\n",
       "    }\n",
       "\n",
       "    .dataframe thead th {\n",
       "        text-align: right;\n",
       "    }\n",
       "</style>\n",
       "<table border=\"1\" class=\"dataframe\">\n",
       "  <thead>\n",
       "    <tr style=\"text-align: right;\">\n",
       "      <th></th>\n",
       "      <th>popul</th>\n",
       "      <th>state</th>\n",
       "      <th>year</th>\n",
       "      <th>alt</th>\n",
       "      <th>delta</th>\n",
       "    </tr>\n",
       "  </thead>\n",
       "  <tbody>\n",
       "    <tr>\n",
       "      <th>0</th>\n",
       "      <td>5.0</td>\n",
       "      <td>VA</td>\n",
       "      <td>2012</td>\n",
       "      <td>42.1</td>\n",
       "      <td>37.1</td>\n",
       "    </tr>\n",
       "    <tr>\n",
       "      <th>1</th>\n",
       "      <td>5.1</td>\n",
       "      <td>VA</td>\n",
       "      <td>2013</td>\n",
       "      <td>42.1</td>\n",
       "      <td>37.0</td>\n",
       "    </tr>\n",
       "    <tr>\n",
       "      <th>2</th>\n",
       "      <td>5.2</td>\n",
       "      <td>VA</td>\n",
       "      <td>2014</td>\n",
       "      <td>42.1</td>\n",
       "      <td>36.9</td>\n",
       "    </tr>\n",
       "    <tr>\n",
       "      <th>3</th>\n",
       "      <td>4.0</td>\n",
       "      <td>MD</td>\n",
       "      <td>2014</td>\n",
       "      <td>46.4</td>\n",
       "      <td>42.4</td>\n",
       "    </tr>\n",
       "    <tr>\n",
       "      <th>4</th>\n",
       "      <td>4.1</td>\n",
       "      <td>MD</td>\n",
       "      <td>2015</td>\n",
       "      <td>46.4</td>\n",
       "      <td>42.3</td>\n",
       "    </tr>\n",
       "  </tbody>\n",
       "</table>\n",
       "</div>"
      ],
      "text/plain": [
       "   popul state  year   alt  delta\n",
       "0    5.0    VA  2012  42.1   37.1\n",
       "1    5.1    VA  2013  42.1   37.0\n",
       "2    5.2    VA  2014  42.1   36.9\n",
       "3    4.0    MD  2014  46.4   42.4\n",
       "4    4.1    MD  2015  46.4   42.3"
      ]
     },
     "execution_count": 58,
     "metadata": {},
     "output_type": "execute_result"
    }
   ],
   "source": [
    "df['delta'] = df['alt'] - df['popul']\n",
    "df"
   ]
  },
  {
   "cell_type": "code",
   "execution_count": 59,
   "metadata": {
    "slideshow": {
     "slide_type": "subslide"
    }
   },
   "outputs": [
    {
     "data": {
      "text/html": [
       "<div>\n",
       "<style scoped>\n",
       "    .dataframe tbody tr th:only-of-type {\n",
       "        vertical-align: middle;\n",
       "    }\n",
       "\n",
       "    .dataframe tbody tr th {\n",
       "        vertical-align: top;\n",
       "    }\n",
       "\n",
       "    .dataframe thead th {\n",
       "        text-align: right;\n",
       "    }\n",
       "</style>\n",
       "<table border=\"1\" class=\"dataframe\">\n",
       "  <thead>\n",
       "    <tr style=\"text-align: right;\">\n",
       "      <th></th>\n",
       "      <th>popul</th>\n",
       "      <th>state</th>\n",
       "      <th>year</th>\n",
       "      <th>delta</th>\n",
       "    </tr>\n",
       "  </thead>\n",
       "  <tbody>\n",
       "    <tr>\n",
       "      <th>0</th>\n",
       "      <td>5.0</td>\n",
       "      <td>VA</td>\n",
       "      <td>2012</td>\n",
       "      <td>37.1</td>\n",
       "    </tr>\n",
       "    <tr>\n",
       "      <th>1</th>\n",
       "      <td>5.1</td>\n",
       "      <td>VA</td>\n",
       "      <td>2013</td>\n",
       "      <td>37.0</td>\n",
       "    </tr>\n",
       "    <tr>\n",
       "      <th>2</th>\n",
       "      <td>5.2</td>\n",
       "      <td>VA</td>\n",
       "      <td>2014</td>\n",
       "      <td>36.9</td>\n",
       "    </tr>\n",
       "    <tr>\n",
       "      <th>3</th>\n",
       "      <td>4.0</td>\n",
       "      <td>MD</td>\n",
       "      <td>2014</td>\n",
       "      <td>42.4</td>\n",
       "    </tr>\n",
       "    <tr>\n",
       "      <th>4</th>\n",
       "      <td>4.1</td>\n",
       "      <td>MD</td>\n",
       "      <td>2015</td>\n",
       "      <td>42.3</td>\n",
       "    </tr>\n",
       "  </tbody>\n",
       "</table>\n",
       "</div>"
      ],
      "text/plain": [
       "   popul state  year  delta\n",
       "0    5.0    VA  2012   37.1\n",
       "1    5.1    VA  2013   37.0\n",
       "2    5.2    VA  2014   36.9\n",
       "3    4.0    MD  2014   42.4\n",
       "4    4.1    MD  2015   42.3"
      ]
     },
     "execution_count": 59,
     "metadata": {},
     "output_type": "execute_result"
    }
   ],
   "source": [
    "df = df.drop('alt', axis=1)\n",
    "df"
   ]
  },
  {
   "cell_type": "markdown",
   "metadata": {
    "slideshow": {
     "slide_type": "subslide"
    }
   },
   "source": [
    "** Add, Delete Rows **"
   ]
  },
  {
   "cell_type": "code",
   "execution_count": 60,
   "metadata": {
    "slideshow": {
     "slide_type": "fragment"
    }
   },
   "outputs": [
    {
     "data": {
      "text/html": [
       "<div>\n",
       "<style scoped>\n",
       "    .dataframe tbody tr th:only-of-type {\n",
       "        vertical-align: middle;\n",
       "    }\n",
       "\n",
       "    .dataframe tbody tr th {\n",
       "        vertical-align: top;\n",
       "    }\n",
       "\n",
       "    .dataframe thead th {\n",
       "        text-align: right;\n",
       "    }\n",
       "</style>\n",
       "<table border=\"1\" class=\"dataframe\">\n",
       "  <thead>\n",
       "    <tr style=\"text-align: right;\">\n",
       "      <th></th>\n",
       "      <th>popul</th>\n",
       "      <th>state</th>\n",
       "      <th>year</th>\n",
       "      <th>delta</th>\n",
       "    </tr>\n",
       "  </thead>\n",
       "  <tbody>\n",
       "    <tr>\n",
       "      <th>0</th>\n",
       "      <td>5.0</td>\n",
       "      <td>VA</td>\n",
       "      <td>2012</td>\n",
       "      <td>37.1</td>\n",
       "    </tr>\n",
       "    <tr>\n",
       "      <th>1</th>\n",
       "      <td>5.1</td>\n",
       "      <td>VA</td>\n",
       "      <td>2013</td>\n",
       "      <td>37.0</td>\n",
       "    </tr>\n",
       "    <tr>\n",
       "      <th>2</th>\n",
       "      <td>5.2</td>\n",
       "      <td>VA</td>\n",
       "      <td>2014</td>\n",
       "      <td>36.9</td>\n",
       "    </tr>\n",
       "    <tr>\n",
       "      <th>3</th>\n",
       "      <td>4.0</td>\n",
       "      <td>MD</td>\n",
       "      <td>2014</td>\n",
       "      <td>42.4</td>\n",
       "    </tr>\n",
       "    <tr>\n",
       "      <th>4</th>\n",
       "      <td>4.1</td>\n",
       "      <td>MD</td>\n",
       "      <td>2015</td>\n",
       "      <td>42.3</td>\n",
       "    </tr>\n",
       "    <tr>\n",
       "      <th>5</th>\n",
       "      <td>9.7</td>\n",
       "      <td>SE</td>\n",
       "      <td>2016</td>\n",
       "      <td>72.1</td>\n",
       "    </tr>\n",
       "  </tbody>\n",
       "</table>\n",
       "</div>"
      ],
      "text/plain": [
       "   popul state  year  delta\n",
       "0    5.0    VA  2012   37.1\n",
       "1    5.1    VA  2013   37.0\n",
       "2    5.2    VA  2014   36.9\n",
       "3    4.0    MD  2014   42.4\n",
       "4    4.1    MD  2015   42.3\n",
       "5    9.7    SE  2016   72.1"
      ]
     },
     "execution_count": 60,
     "metadata": {},
     "output_type": "execute_result"
    }
   ],
   "source": [
    "df = df.append({'popul':9.7, 'state':'SE', 'year':2016, 'delta':72.1},\n",
    "               ignore_index=True)\n",
    "df"
   ]
  },
  {
   "cell_type": "code",
   "execution_count": 61,
   "metadata": {
    "slideshow": {
     "slide_type": "subslide"
    }
   },
   "outputs": [
    {
     "data": {
      "text/html": [
       "<div>\n",
       "<style scoped>\n",
       "    .dataframe tbody tr th:only-of-type {\n",
       "        vertical-align: middle;\n",
       "    }\n",
       "\n",
       "    .dataframe tbody tr th {\n",
       "        vertical-align: top;\n",
       "    }\n",
       "\n",
       "    .dataframe thead th {\n",
       "        text-align: right;\n",
       "    }\n",
       "</style>\n",
       "<table border=\"1\" class=\"dataframe\">\n",
       "  <thead>\n",
       "    <tr style=\"text-align: right;\">\n",
       "      <th></th>\n",
       "      <th>popul</th>\n",
       "      <th>state</th>\n",
       "      <th>year</th>\n",
       "      <th>delta</th>\n",
       "    </tr>\n",
       "  </thead>\n",
       "  <tbody>\n",
       "    <tr>\n",
       "      <th>0</th>\n",
       "      <td>5.0</td>\n",
       "      <td>VA</td>\n",
       "      <td>2012</td>\n",
       "      <td>37.1</td>\n",
       "    </tr>\n",
       "    <tr>\n",
       "      <th>1</th>\n",
       "      <td>5.1</td>\n",
       "      <td>VA</td>\n",
       "      <td>2013</td>\n",
       "      <td>37.0</td>\n",
       "    </tr>\n",
       "    <tr>\n",
       "      <th>2</th>\n",
       "      <td>5.2</td>\n",
       "      <td>VA</td>\n",
       "      <td>2014</td>\n",
       "      <td>36.9</td>\n",
       "    </tr>\n",
       "    <tr>\n",
       "      <th>3</th>\n",
       "      <td>4.0</td>\n",
       "      <td>MD</td>\n",
       "      <td>2014</td>\n",
       "      <td>42.4</td>\n",
       "    </tr>\n",
       "    <tr>\n",
       "      <th>4</th>\n",
       "      <td>4.1</td>\n",
       "      <td>MD</td>\n",
       "      <td>2015</td>\n",
       "      <td>42.3</td>\n",
       "    </tr>\n",
       "  </tbody>\n",
       "</table>\n",
       "</div>"
      ],
      "text/plain": [
       "   popul state  year  delta\n",
       "0    5.0    VA  2012   37.1\n",
       "1    5.1    VA  2013   37.0\n",
       "2    5.2    VA  2014   36.9\n",
       "3    4.0    MD  2014   42.4\n",
       "4    4.1    MD  2015   42.3"
      ]
     },
     "execution_count": 61,
     "metadata": {},
     "output_type": "execute_result"
    }
   ],
   "source": [
    "df = df.drop(5, axis=0)\n",
    "df"
   ]
  },
  {
   "cell_type": "markdown",
   "metadata": {
    "slideshow": {
     "slide_type": "subslide"
    }
   },
   "source": [
    "** Set Index **"
   ]
  },
  {
   "cell_type": "code",
   "execution_count": 62,
   "metadata": {
    "slideshow": {
     "slide_type": "fragment"
    }
   },
   "outputs": [
    {
     "data": {
      "text/html": [
       "<div>\n",
       "<style scoped>\n",
       "    .dataframe tbody tr th:only-of-type {\n",
       "        vertical-align: middle;\n",
       "    }\n",
       "\n",
       "    .dataframe tbody tr th {\n",
       "        vertical-align: top;\n",
       "    }\n",
       "\n",
       "    .dataframe thead th {\n",
       "        text-align: right;\n",
       "    }\n",
       "</style>\n",
       "<table border=\"1\" class=\"dataframe\">\n",
       "  <thead>\n",
       "    <tr style=\"text-align: right;\">\n",
       "      <th></th>\n",
       "      <th>state</th>\n",
       "      <th>year</th>\n",
       "      <th>delta</th>\n",
       "    </tr>\n",
       "    <tr>\n",
       "      <th>popul</th>\n",
       "      <th></th>\n",
       "      <th></th>\n",
       "      <th></th>\n",
       "    </tr>\n",
       "  </thead>\n",
       "  <tbody>\n",
       "    <tr>\n",
       "      <th>5.0</th>\n",
       "      <td>VA</td>\n",
       "      <td>2012</td>\n",
       "      <td>37.1</td>\n",
       "    </tr>\n",
       "    <tr>\n",
       "      <th>5.1</th>\n",
       "      <td>VA</td>\n",
       "      <td>2013</td>\n",
       "      <td>37.0</td>\n",
       "    </tr>\n",
       "    <tr>\n",
       "      <th>5.2</th>\n",
       "      <td>VA</td>\n",
       "      <td>2014</td>\n",
       "      <td>36.9</td>\n",
       "    </tr>\n",
       "    <tr>\n",
       "      <th>4.0</th>\n",
       "      <td>MD</td>\n",
       "      <td>2014</td>\n",
       "      <td>42.4</td>\n",
       "    </tr>\n",
       "    <tr>\n",
       "      <th>4.1</th>\n",
       "      <td>MD</td>\n",
       "      <td>2015</td>\n",
       "      <td>42.3</td>\n",
       "    </tr>\n",
       "  </tbody>\n",
       "</table>\n",
       "</div>"
      ],
      "text/plain": [
       "      state  year  delta\n",
       "popul                   \n",
       "5.0      VA  2012   37.1\n",
       "5.1      VA  2013   37.0\n",
       "5.2      VA  2014   36.9\n",
       "4.0      MD  2014   42.4\n",
       "4.1      MD  2015   42.3"
      ]
     },
     "execution_count": 62,
     "metadata": {},
     "output_type": "execute_result"
    }
   ],
   "source": [
    "df = df.set_index('popul')\n",
    "df"
   ]
  },
  {
   "cell_type": "markdown",
   "metadata": {
    "slideshow": {
     "slide_type": "subslide"
    }
   },
   "source": [
    "**Transpose **"
   ]
  },
  {
   "cell_type": "code",
   "execution_count": 63,
   "metadata": {
    "slideshow": {
     "slide_type": "fragment"
    }
   },
   "outputs": [
    {
     "data": {
      "text/html": [
       "<div>\n",
       "<style scoped>\n",
       "    .dataframe tbody tr th:only-of-type {\n",
       "        vertical-align: middle;\n",
       "    }\n",
       "\n",
       "    .dataframe tbody tr th {\n",
       "        vertical-align: top;\n",
       "    }\n",
       "\n",
       "    .dataframe thead th {\n",
       "        text-align: right;\n",
       "    }\n",
       "</style>\n",
       "<table border=\"1\" class=\"dataframe\">\n",
       "  <thead>\n",
       "    <tr style=\"text-align: right;\">\n",
       "      <th>popul</th>\n",
       "      <th>5.0</th>\n",
       "      <th>5.1</th>\n",
       "      <th>5.2</th>\n",
       "      <th>4.0</th>\n",
       "      <th>4.1</th>\n",
       "    </tr>\n",
       "  </thead>\n",
       "  <tbody>\n",
       "    <tr>\n",
       "      <th>state</th>\n",
       "      <td>VA</td>\n",
       "      <td>VA</td>\n",
       "      <td>VA</td>\n",
       "      <td>MD</td>\n",
       "      <td>MD</td>\n",
       "    </tr>\n",
       "    <tr>\n",
       "      <th>year</th>\n",
       "      <td>2012</td>\n",
       "      <td>2013</td>\n",
       "      <td>2014</td>\n",
       "      <td>2014</td>\n",
       "      <td>2015</td>\n",
       "    </tr>\n",
       "    <tr>\n",
       "      <th>delta</th>\n",
       "      <td>37.1</td>\n",
       "      <td>37</td>\n",
       "      <td>36.9</td>\n",
       "      <td>42.4</td>\n",
       "      <td>42.3</td>\n",
       "    </tr>\n",
       "  </tbody>\n",
       "</table>\n",
       "</div>"
      ],
      "text/plain": [
       "popul   5.0   5.1   5.2   4.0   4.1\n",
       "state    VA    VA    VA    MD    MD\n",
       "year   2012  2013  2014  2014  2015\n",
       "delta  37.1    37  36.9  42.4  42.3"
      ]
     },
     "execution_count": 63,
     "metadata": {},
     "output_type": "execute_result"
    }
   ],
   "source": [
    "df.T"
   ]
  },
  {
   "cell_type": "code",
   "execution_count": 64,
   "metadata": {
    "slideshow": {
     "slide_type": "subslide"
    }
   },
   "outputs": [
    {
     "data": {
      "text/plain": [
       "array([['VA', 2012, 37.1],\n",
       "       ['VA', 2013, 37.0],\n",
       "       ['VA', 2014, 36.9],\n",
       "       ['MD', 2014, 42.4],\n",
       "       ['MD', 2015, 42.3]], dtype=object)"
      ]
     },
     "execution_count": 64,
     "metadata": {},
     "output_type": "execute_result"
    }
   ],
   "source": [
    "df.values"
   ]
  },
  {
   "cell_type": "markdown",
   "metadata": {
    "slideshow": {
     "slide_type": "subslide"
    }
   },
   "source": [
    "** Selection, Filtering **"
   ]
  },
  {
   "cell_type": "code",
   "execution_count": 65,
   "metadata": {
    "slideshow": {
     "slide_type": "fragment"
    }
   },
   "outputs": [
    {
     "data": {
      "text/html": [
       "<div>\n",
       "<style scoped>\n",
       "    .dataframe tbody tr th:only-of-type {\n",
       "        vertical-align: middle;\n",
       "    }\n",
       "\n",
       "    .dataframe tbody tr th {\n",
       "        vertical-align: top;\n",
       "    }\n",
       "\n",
       "    .dataframe thead th {\n",
       "        text-align: right;\n",
       "    }\n",
       "</style>\n",
       "<table border=\"1\" class=\"dataframe\">\n",
       "  <thead>\n",
       "    <tr style=\"text-align: right;\">\n",
       "      <th></th>\n",
       "      <th>state</th>\n",
       "      <th>year</th>\n",
       "      <th>delta</th>\n",
       "    </tr>\n",
       "    <tr>\n",
       "      <th>popul</th>\n",
       "      <th></th>\n",
       "      <th></th>\n",
       "      <th></th>\n",
       "    </tr>\n",
       "  </thead>\n",
       "  <tbody>\n",
       "    <tr>\n",
       "      <th>5.0</th>\n",
       "      <td>VA</td>\n",
       "      <td>2012</td>\n",
       "      <td>37.1</td>\n",
       "    </tr>\n",
       "    <tr>\n",
       "      <th>5.1</th>\n",
       "      <td>VA</td>\n",
       "      <td>2013</td>\n",
       "      <td>37.0</td>\n",
       "    </tr>\n",
       "    <tr>\n",
       "      <th>5.2</th>\n",
       "      <td>VA</td>\n",
       "      <td>2014</td>\n",
       "      <td>36.9</td>\n",
       "    </tr>\n",
       "  </tbody>\n",
       "</table>\n",
       "</div>"
      ],
      "text/plain": [
       "      state  year  delta\n",
       "popul                   \n",
       "5.0      VA  2012   37.1\n",
       "5.1      VA  2013   37.0\n",
       "5.2      VA  2014   36.9"
      ]
     },
     "execution_count": 65,
     "metadata": {},
     "output_type": "execute_result"
    }
   ],
   "source": [
    "df[df['state']=='VA']"
   ]
  },
  {
   "cell_type": "code",
   "execution_count": 66,
   "metadata": {
    "slideshow": {
     "slide_type": "fragment"
    }
   },
   "outputs": [
    {
     "data": {
      "text/html": [
       "<div>\n",
       "<style scoped>\n",
       "    .dataframe tbody tr th:only-of-type {\n",
       "        vertical-align: middle;\n",
       "    }\n",
       "\n",
       "    .dataframe tbody tr th {\n",
       "        vertical-align: top;\n",
       "    }\n",
       "\n",
       "    .dataframe thead th {\n",
       "        text-align: right;\n",
       "    }\n",
       "</style>\n",
       "<table border=\"1\" class=\"dataframe\">\n",
       "  <thead>\n",
       "    <tr style=\"text-align: right;\">\n",
       "      <th></th>\n",
       "      <th>state</th>\n",
       "      <th>year</th>\n",
       "      <th>delta</th>\n",
       "    </tr>\n",
       "    <tr>\n",
       "      <th>popul</th>\n",
       "      <th></th>\n",
       "      <th></th>\n",
       "      <th></th>\n",
       "    </tr>\n",
       "  </thead>\n",
       "  <tbody>\n",
       "    <tr>\n",
       "      <th>5.2</th>\n",
       "      <td>VA</td>\n",
       "      <td>2014</td>\n",
       "      <td>36.9</td>\n",
       "    </tr>\n",
       "  </tbody>\n",
       "</table>\n",
       "</div>"
      ],
      "text/plain": [
       "      state  year  delta\n",
       "popul                   \n",
       "5.2      VA  2014   36.9"
      ]
     },
     "execution_count": 66,
     "metadata": {},
     "output_type": "execute_result"
    }
   ],
   "source": [
    "mask = (df['state']=='VA') & (df['year'] > 2013)\n",
    "df[mask]"
   ]
  },
  {
   "cell_type": "markdown",
   "metadata": {
    "slideshow": {
     "slide_type": "subslide"
    }
   },
   "source": [
    "** Apply Functions **\n",
    "\n",
    "<center>\n",
    "<img src=\"https://i.stack.imgur.com/DL0iQ.jpg\" alt=\"Drawing\" style=\"width: 500px;\"/>"
   ]
  },
  {
   "cell_type": "code",
   "execution_count": 67,
   "metadata": {
    "slideshow": {
     "slide_type": "fragment"
    }
   },
   "outputs": [
    {
     "data": {
      "text/plain": [
       "year     2013.60\n",
       "delta      39.14\n",
       "dtype: float64"
      ]
     },
     "execution_count": 67,
     "metadata": {},
     "output_type": "execute_result"
    }
   ],
   "source": [
    "def my_func(col):\n",
    "    return np.mean(col)\n",
    "\n",
    "mask = [i for i in df.columns if i != 'state']\n",
    "df[mask].apply(my_func, axis=0)"
   ]
  },
  {
   "cell_type": "code",
   "execution_count": 68,
   "metadata": {
    "slideshow": {
     "slide_type": "fragment"
    }
   },
   "outputs": [
    {
     "data": {
      "text/plain": [
       "year     2013.60\n",
       "delta      39.14\n",
       "dtype: float64"
      ]
     },
     "execution_count": 68,
     "metadata": {},
     "output_type": "execute_result"
    }
   ],
   "source": [
    "df[mask].apply(lambda col: np.mean(col), axis=0)"
   ]
  },
  {
   "cell_type": "markdown",
   "metadata": {
    "slideshow": {
     "slide_type": "subslide"
    }
   },
   "source": [
    "** Elementwise Apply Function **"
   ]
  },
  {
   "cell_type": "code",
   "execution_count": 69,
   "metadata": {
    "slideshow": {
     "slide_type": "fragment"
    }
   },
   "outputs": [
    {
     "data": {
      "text/html": [
       "<div>\n",
       "<style scoped>\n",
       "    .dataframe tbody tr th:only-of-type {\n",
       "        vertical-align: middle;\n",
       "    }\n",
       "\n",
       "    .dataframe tbody tr th {\n",
       "        vertical-align: top;\n",
       "    }\n",
       "\n",
       "    .dataframe thead th {\n",
       "        text-align: right;\n",
       "    }\n",
       "</style>\n",
       "<table border=\"1\" class=\"dataframe\">\n",
       "  <thead>\n",
       "    <tr style=\"text-align: right;\">\n",
       "      <th></th>\n",
       "      <th>year</th>\n",
       "      <th>delta</th>\n",
       "    </tr>\n",
       "    <tr>\n",
       "      <th>popul</th>\n",
       "      <th></th>\n",
       "      <th></th>\n",
       "    </tr>\n",
       "  </thead>\n",
       "  <tbody>\n",
       "    <tr>\n",
       "      <th>5.0</th>\n",
       "      <td>203.2</td>\n",
       "      <td>5.71</td>\n",
       "    </tr>\n",
       "    <tr>\n",
       "      <th>5.1</th>\n",
       "      <td>203.3</td>\n",
       "      <td>5.70</td>\n",
       "    </tr>\n",
       "    <tr>\n",
       "      <th>5.2</th>\n",
       "      <td>203.4</td>\n",
       "      <td>5.69</td>\n",
       "    </tr>\n",
       "    <tr>\n",
       "      <th>4.0</th>\n",
       "      <td>203.4</td>\n",
       "      <td>6.24</td>\n",
       "    </tr>\n",
       "    <tr>\n",
       "      <th>4.1</th>\n",
       "      <td>203.5</td>\n",
       "      <td>6.23</td>\n",
       "    </tr>\n",
       "  </tbody>\n",
       "</table>\n",
       "</div>"
      ],
      "text/plain": [
       "        year  delta\n",
       "popul              \n",
       "5.0    203.2   5.71\n",
       "5.1    203.3   5.70\n",
       "5.2    203.4   5.69\n",
       "4.0    203.4   6.24\n",
       "4.1    203.5   6.23"
      ]
     },
     "execution_count": 69,
     "metadata": {},
     "output_type": "execute_result"
    }
   ],
   "source": [
    "df[mask].applymap(lambda x: x/10 + 2)"
   ]
  },
  {
   "cell_type": "markdown",
   "metadata": {
    "slideshow": {
     "slide_type": "subslide"
    }
   },
   "source": [
    "** Sorting **"
   ]
  },
  {
   "cell_type": "code",
   "execution_count": 70,
   "metadata": {
    "slideshow": {
     "slide_type": "fragment"
    }
   },
   "outputs": [
    {
     "data": {
      "text/html": [
       "<div>\n",
       "<style scoped>\n",
       "    .dataframe tbody tr th:only-of-type {\n",
       "        vertical-align: middle;\n",
       "    }\n",
       "\n",
       "    .dataframe tbody tr th {\n",
       "        vertical-align: top;\n",
       "    }\n",
       "\n",
       "    .dataframe thead th {\n",
       "        text-align: right;\n",
       "    }\n",
       "</style>\n",
       "<table border=\"1\" class=\"dataframe\">\n",
       "  <thead>\n",
       "    <tr style=\"text-align: right;\">\n",
       "      <th></th>\n",
       "      <th>state</th>\n",
       "      <th>year</th>\n",
       "      <th>delta</th>\n",
       "    </tr>\n",
       "    <tr>\n",
       "      <th>popul</th>\n",
       "      <th></th>\n",
       "      <th></th>\n",
       "      <th></th>\n",
       "    </tr>\n",
       "  </thead>\n",
       "  <tbody>\n",
       "    <tr>\n",
       "      <th>5.0</th>\n",
       "      <td>VA</td>\n",
       "      <td>2012</td>\n",
       "      <td>37.1</td>\n",
       "    </tr>\n",
       "    <tr>\n",
       "      <th>5.1</th>\n",
       "      <td>VA</td>\n",
       "      <td>2013</td>\n",
       "      <td>37.0</td>\n",
       "    </tr>\n",
       "    <tr>\n",
       "      <th>5.2</th>\n",
       "      <td>VA</td>\n",
       "      <td>2014</td>\n",
       "      <td>36.9</td>\n",
       "    </tr>\n",
       "    <tr>\n",
       "      <th>4.0</th>\n",
       "      <td>MD</td>\n",
       "      <td>2014</td>\n",
       "      <td>42.4</td>\n",
       "    </tr>\n",
       "    <tr>\n",
       "      <th>4.1</th>\n",
       "      <td>MD</td>\n",
       "      <td>2015</td>\n",
       "      <td>42.3</td>\n",
       "    </tr>\n",
       "  </tbody>\n",
       "</table>\n",
       "</div>"
      ],
      "text/plain": [
       "      state  year  delta\n",
       "popul                   \n",
       "5.0      VA  2012   37.1\n",
       "5.1      VA  2013   37.0\n",
       "5.2      VA  2014   36.9\n",
       "4.0      MD  2014   42.4\n",
       "4.1      MD  2015   42.3"
      ]
     },
     "execution_count": 70,
     "metadata": {},
     "output_type": "execute_result"
    }
   ],
   "source": [
    "df.sort_values(by=['year', 'delta'])"
   ]
  },
  {
   "cell_type": "markdown",
   "metadata": {
    "slideshow": {
     "slide_type": "subslide"
    }
   },
   "source": [
    "## Data Merge, Join\n",
    "\n",
    "<center>\n",
    "<img src=\"https://i.stack.imgur.com/hMKKt.jpg\" alt=\"Drawing\" style=\"width: 500px;\"/>\n",
    "</center>\n",
    "See [here](https://pandas.pydata.org/pandas-docs/stable/merging.html)."
   ]
  },
  {
   "cell_type": "markdown",
   "metadata": {
    "slideshow": {
     "slide_type": "subslide"
    }
   },
   "source": [
    "**Concatenate**\n",
    "<center>\n",
    "<img src=\"https://pandas.pydata.org/pandas-docs/stable/_images/merging_concat_basic.png\" alt=\"Drawing\" style=\"width: 400px;\"/>\n",
    "</center>"
   ]
  },
  {
   "cell_type": "code",
   "execution_count": 71,
   "metadata": {
    "collapsed": true,
    "slideshow": {
     "slide_type": "subslide"
    }
   },
   "outputs": [],
   "source": [
    "df1 = pd.DataFrame({'A': ['A0', 'A1', 'A2', 'A3'],\n",
    "                    'B': ['B0', 'B1', 'B2', 'B3'],\n",
    "                    'C': ['C0', 'C1', 'C2', 'C3'],\n",
    "                    'D': ['D0', 'D1', 'D2', 'D3']},\n",
    "                     index=[0, 1, 2, 3])\n",
    "df2 = pd.DataFrame({'A': ['A4', 'A5', 'A6', 'A7'],\n",
    "                    'B': ['B4', 'B5', 'B6', 'B7'],\n",
    "                    'C': ['C4', 'C5', 'C6', 'C7'],\n",
    "                    'D': ['D4', 'D5', 'D6', 'D7']},\n",
    "                    index=[4, 5, 6, 7])\n",
    "\n",
    "df3 = pd.DataFrame({'A': ['A8', 'A9', 'A10', 'A11'],     \n",
    "                    'B': ['B8', 'B9', 'B10', 'B11'],\n",
    "                    'C': ['C8', 'C9', 'C10', 'C11'],\n",
    "                    'D': ['D8', 'D9', 'D10', 'D11']},\n",
    "                   index=[8, 9, 10, 11])"
   ]
  },
  {
   "cell_type": "code",
   "execution_count": 72,
   "metadata": {
    "slideshow": {
     "slide_type": "subslide"
    }
   },
   "outputs": [
    {
     "data": {
      "text/html": [
       "<div>\n",
       "<style scoped>\n",
       "    .dataframe tbody tr th:only-of-type {\n",
       "        vertical-align: middle;\n",
       "    }\n",
       "\n",
       "    .dataframe tbody tr th {\n",
       "        vertical-align: top;\n",
       "    }\n",
       "\n",
       "    .dataframe thead th {\n",
       "        text-align: right;\n",
       "    }\n",
       "</style>\n",
       "<table border=\"1\" class=\"dataframe\">\n",
       "  <thead>\n",
       "    <tr style=\"text-align: right;\">\n",
       "      <th></th>\n",
       "      <th>A</th>\n",
       "      <th>B</th>\n",
       "      <th>C</th>\n",
       "      <th>D</th>\n",
       "    </tr>\n",
       "  </thead>\n",
       "  <tbody>\n",
       "    <tr>\n",
       "      <th>0</th>\n",
       "      <td>A0</td>\n",
       "      <td>B0</td>\n",
       "      <td>C0</td>\n",
       "      <td>D0</td>\n",
       "    </tr>\n",
       "    <tr>\n",
       "      <th>1</th>\n",
       "      <td>A1</td>\n",
       "      <td>B1</td>\n",
       "      <td>C1</td>\n",
       "      <td>D1</td>\n",
       "    </tr>\n",
       "    <tr>\n",
       "      <th>2</th>\n",
       "      <td>A2</td>\n",
       "      <td>B2</td>\n",
       "      <td>C2</td>\n",
       "      <td>D2</td>\n",
       "    </tr>\n",
       "    <tr>\n",
       "      <th>3</th>\n",
       "      <td>A3</td>\n",
       "      <td>B3</td>\n",
       "      <td>C3</td>\n",
       "      <td>D3</td>\n",
       "    </tr>\n",
       "    <tr>\n",
       "      <th>4</th>\n",
       "      <td>A4</td>\n",
       "      <td>B4</td>\n",
       "      <td>C4</td>\n",
       "      <td>D4</td>\n",
       "    </tr>\n",
       "    <tr>\n",
       "      <th>5</th>\n",
       "      <td>A5</td>\n",
       "      <td>B5</td>\n",
       "      <td>C5</td>\n",
       "      <td>D5</td>\n",
       "    </tr>\n",
       "    <tr>\n",
       "      <th>6</th>\n",
       "      <td>A6</td>\n",
       "      <td>B6</td>\n",
       "      <td>C6</td>\n",
       "      <td>D6</td>\n",
       "    </tr>\n",
       "    <tr>\n",
       "      <th>7</th>\n",
       "      <td>A7</td>\n",
       "      <td>B7</td>\n",
       "      <td>C7</td>\n",
       "      <td>D7</td>\n",
       "    </tr>\n",
       "    <tr>\n",
       "      <th>8</th>\n",
       "      <td>A8</td>\n",
       "      <td>B8</td>\n",
       "      <td>C8</td>\n",
       "      <td>D8</td>\n",
       "    </tr>\n",
       "    <tr>\n",
       "      <th>9</th>\n",
       "      <td>A9</td>\n",
       "      <td>B9</td>\n",
       "      <td>C9</td>\n",
       "      <td>D9</td>\n",
       "    </tr>\n",
       "    <tr>\n",
       "      <th>10</th>\n",
       "      <td>A10</td>\n",
       "      <td>B10</td>\n",
       "      <td>C10</td>\n",
       "      <td>D10</td>\n",
       "    </tr>\n",
       "    <tr>\n",
       "      <th>11</th>\n",
       "      <td>A11</td>\n",
       "      <td>B11</td>\n",
       "      <td>C11</td>\n",
       "      <td>D11</td>\n",
       "    </tr>\n",
       "  </tbody>\n",
       "</table>\n",
       "</div>"
      ],
      "text/plain": [
       "      A    B    C    D\n",
       "0    A0   B0   C0   D0\n",
       "1    A1   B1   C1   D1\n",
       "2    A2   B2   C2   D2\n",
       "3    A3   B3   C3   D3\n",
       "4    A4   B4   C4   D4\n",
       "5    A5   B5   C5   D5\n",
       "6    A6   B6   C6   D6\n",
       "7    A7   B7   C7   D7\n",
       "8    A8   B8   C8   D8\n",
       "9    A9   B9   C9   D9\n",
       "10  A10  B10  C10  D10\n",
       "11  A11  B11  C11  D11"
      ]
     },
     "execution_count": 72,
     "metadata": {},
     "output_type": "execute_result"
    }
   ],
   "source": [
    "pd.concat([df1, df2, df3])      # axis=0"
   ]
  },
  {
   "cell_type": "markdown",
   "metadata": {
    "slideshow": {
     "slide_type": "subslide"
    }
   },
   "source": [
    "**Outer Join**\n",
    "<center>\n",
    "<img src=\"https://pandas.pydata.org/pandas-docs/stable/_images/merging_concat_axis1.png\" alt=\"Drawing\" style=\"width: 600px;\"/>\n",
    "</center>"
   ]
  },
  {
   "cell_type": "code",
   "execution_count": 73,
   "metadata": {
    "collapsed": true,
    "slideshow": {
     "slide_type": "fragment"
    }
   },
   "outputs": [],
   "source": [
    "df4 = pd.DataFrame({'B': ['B2', 'B3', 'B6', 'B7'],\n",
    "                    'D': ['D2', 'D3', 'D6', 'D7'],\n",
    "                    'F': ['F2', 'F3', 'F6', 'F7']},\n",
    "                   index=[2, 3, 6, 7])"
   ]
  },
  {
   "cell_type": "code",
   "execution_count": 74,
   "metadata": {
    "slideshow": {
     "slide_type": "subslide"
    }
   },
   "outputs": [
    {
     "data": {
      "text/html": [
       "<div>\n",
       "<style scoped>\n",
       "    .dataframe tbody tr th:only-of-type {\n",
       "        vertical-align: middle;\n",
       "    }\n",
       "\n",
       "    .dataframe tbody tr th {\n",
       "        vertical-align: top;\n",
       "    }\n",
       "\n",
       "    .dataframe thead th {\n",
       "        text-align: right;\n",
       "    }\n",
       "</style>\n",
       "<table border=\"1\" class=\"dataframe\">\n",
       "  <thead>\n",
       "    <tr style=\"text-align: right;\">\n",
       "      <th></th>\n",
       "      <th>A</th>\n",
       "      <th>B</th>\n",
       "      <th>C</th>\n",
       "      <th>D</th>\n",
       "      <th>B</th>\n",
       "      <th>D</th>\n",
       "      <th>F</th>\n",
       "    </tr>\n",
       "  </thead>\n",
       "  <tbody>\n",
       "    <tr>\n",
       "      <th>0</th>\n",
       "      <td>A0</td>\n",
       "      <td>B0</td>\n",
       "      <td>C0</td>\n",
       "      <td>D0</td>\n",
       "      <td>NaN</td>\n",
       "      <td>NaN</td>\n",
       "      <td>NaN</td>\n",
       "    </tr>\n",
       "    <tr>\n",
       "      <th>1</th>\n",
       "      <td>A1</td>\n",
       "      <td>B1</td>\n",
       "      <td>C1</td>\n",
       "      <td>D1</td>\n",
       "      <td>NaN</td>\n",
       "      <td>NaN</td>\n",
       "      <td>NaN</td>\n",
       "    </tr>\n",
       "    <tr>\n",
       "      <th>2</th>\n",
       "      <td>A2</td>\n",
       "      <td>B2</td>\n",
       "      <td>C2</td>\n",
       "      <td>D2</td>\n",
       "      <td>B2</td>\n",
       "      <td>D2</td>\n",
       "      <td>F2</td>\n",
       "    </tr>\n",
       "    <tr>\n",
       "      <th>3</th>\n",
       "      <td>A3</td>\n",
       "      <td>B3</td>\n",
       "      <td>C3</td>\n",
       "      <td>D3</td>\n",
       "      <td>B3</td>\n",
       "      <td>D3</td>\n",
       "      <td>F3</td>\n",
       "    </tr>\n",
       "    <tr>\n",
       "      <th>6</th>\n",
       "      <td>NaN</td>\n",
       "      <td>NaN</td>\n",
       "      <td>NaN</td>\n",
       "      <td>NaN</td>\n",
       "      <td>B6</td>\n",
       "      <td>D6</td>\n",
       "      <td>F6</td>\n",
       "    </tr>\n",
       "    <tr>\n",
       "      <th>7</th>\n",
       "      <td>NaN</td>\n",
       "      <td>NaN</td>\n",
       "      <td>NaN</td>\n",
       "      <td>NaN</td>\n",
       "      <td>B7</td>\n",
       "      <td>D7</td>\n",
       "      <td>F7</td>\n",
       "    </tr>\n",
       "  </tbody>\n",
       "</table>\n",
       "</div>"
      ],
      "text/plain": [
       "     A    B    C    D    B    D    F\n",
       "0   A0   B0   C0   D0  NaN  NaN  NaN\n",
       "1   A1   B1   C1   D1  NaN  NaN  NaN\n",
       "2   A2   B2   C2   D2   B2   D2   F2\n",
       "3   A3   B3   C3   D3   B3   D3   F3\n",
       "6  NaN  NaN  NaN  NaN   B6   D6   F6\n",
       "7  NaN  NaN  NaN  NaN   B7   D7   F7"
      ]
     },
     "execution_count": 74,
     "metadata": {},
     "output_type": "execute_result"
    }
   ],
   "source": [
    "pd.concat([df1, df4], axis=1) "
   ]
  },
  {
   "cell_type": "markdown",
   "metadata": {
    "slideshow": {
     "slide_type": "subslide"
    }
   },
   "source": [
    "**Inner Join**\n",
    "<center>\n",
    "<img src=\"https://pandas.pydata.org/pandas-docs/stable/_images/merging_concat_axis1_inner.png\" alt=\"Drawing\" style=\"width: 600px;\"/>\n",
    "</center>"
   ]
  },
  {
   "cell_type": "code",
   "execution_count": 75,
   "metadata": {
    "slideshow": {
     "slide_type": "subslide"
    }
   },
   "outputs": [
    {
     "data": {
      "text/html": [
       "<div>\n",
       "<style scoped>\n",
       "    .dataframe tbody tr th:only-of-type {\n",
       "        vertical-align: middle;\n",
       "    }\n",
       "\n",
       "    .dataframe tbody tr th {\n",
       "        vertical-align: top;\n",
       "    }\n",
       "\n",
       "    .dataframe thead th {\n",
       "        text-align: right;\n",
       "    }\n",
       "</style>\n",
       "<table border=\"1\" class=\"dataframe\">\n",
       "  <thead>\n",
       "    <tr style=\"text-align: right;\">\n",
       "      <th></th>\n",
       "      <th>A</th>\n",
       "      <th>B</th>\n",
       "      <th>C</th>\n",
       "      <th>D</th>\n",
       "      <th>B</th>\n",
       "      <th>D</th>\n",
       "      <th>F</th>\n",
       "    </tr>\n",
       "  </thead>\n",
       "  <tbody>\n",
       "    <tr>\n",
       "      <th>2</th>\n",
       "      <td>A2</td>\n",
       "      <td>B2</td>\n",
       "      <td>C2</td>\n",
       "      <td>D2</td>\n",
       "      <td>B2</td>\n",
       "      <td>D2</td>\n",
       "      <td>F2</td>\n",
       "    </tr>\n",
       "    <tr>\n",
       "      <th>3</th>\n",
       "      <td>A3</td>\n",
       "      <td>B3</td>\n",
       "      <td>C3</td>\n",
       "      <td>D3</td>\n",
       "      <td>B3</td>\n",
       "      <td>D3</td>\n",
       "      <td>F3</td>\n",
       "    </tr>\n",
       "  </tbody>\n",
       "</table>\n",
       "</div>"
      ],
      "text/plain": [
       "    A   B   C   D   B   D   F\n",
       "2  A2  B2  C2  D2  B2  D2  F2\n",
       "3  A3  B3  C3  D3  B3  D3  F3"
      ]
     },
     "execution_count": 75,
     "metadata": {},
     "output_type": "execute_result"
    }
   ],
   "source": [
    "pd.concat([df1, df4], axis=1, join='inner') "
   ]
  },
  {
   "cell_type": "markdown",
   "metadata": {
    "slideshow": {
     "slide_type": "subslide"
    }
   },
   "source": [
    "**Left Join**\n",
    "<center>\n",
    "<img src=\"https://pandas.pydata.org/pandas-docs/stable/_images/merging_concat_axis1_join_axes.png\" alt=\"Drawing\" style=\"width: 600px;\"/>\n",
    "</center>"
   ]
  },
  {
   "cell_type": "code",
   "execution_count": 76,
   "metadata": {
    "slideshow": {
     "slide_type": "subslide"
    }
   },
   "outputs": [
    {
     "data": {
      "text/html": [
       "<div>\n",
       "<style scoped>\n",
       "    .dataframe tbody tr th:only-of-type {\n",
       "        vertical-align: middle;\n",
       "    }\n",
       "\n",
       "    .dataframe tbody tr th {\n",
       "        vertical-align: top;\n",
       "    }\n",
       "\n",
       "    .dataframe thead th {\n",
       "        text-align: right;\n",
       "    }\n",
       "</style>\n",
       "<table border=\"1\" class=\"dataframe\">\n",
       "  <thead>\n",
       "    <tr style=\"text-align: right;\">\n",
       "      <th></th>\n",
       "      <th>A</th>\n",
       "      <th>B</th>\n",
       "      <th>C</th>\n",
       "      <th>D</th>\n",
       "      <th>B</th>\n",
       "      <th>D</th>\n",
       "      <th>F</th>\n",
       "    </tr>\n",
       "  </thead>\n",
       "  <tbody>\n",
       "    <tr>\n",
       "      <th>0</th>\n",
       "      <td>A0</td>\n",
       "      <td>B0</td>\n",
       "      <td>C0</td>\n",
       "      <td>D0</td>\n",
       "      <td>NaN</td>\n",
       "      <td>NaN</td>\n",
       "      <td>NaN</td>\n",
       "    </tr>\n",
       "    <tr>\n",
       "      <th>1</th>\n",
       "      <td>A1</td>\n",
       "      <td>B1</td>\n",
       "      <td>C1</td>\n",
       "      <td>D1</td>\n",
       "      <td>NaN</td>\n",
       "      <td>NaN</td>\n",
       "      <td>NaN</td>\n",
       "    </tr>\n",
       "    <tr>\n",
       "      <th>2</th>\n",
       "      <td>A2</td>\n",
       "      <td>B2</td>\n",
       "      <td>C2</td>\n",
       "      <td>D2</td>\n",
       "      <td>B2</td>\n",
       "      <td>D2</td>\n",
       "      <td>F2</td>\n",
       "    </tr>\n",
       "    <tr>\n",
       "      <th>3</th>\n",
       "      <td>A3</td>\n",
       "      <td>B3</td>\n",
       "      <td>C3</td>\n",
       "      <td>D3</td>\n",
       "      <td>B3</td>\n",
       "      <td>D3</td>\n",
       "      <td>F3</td>\n",
       "    </tr>\n",
       "  </tbody>\n",
       "</table>\n",
       "</div>"
      ],
      "text/plain": [
       "    A   B   C   D    B    D    F\n",
       "0  A0  B0  C0  D0  NaN  NaN  NaN\n",
       "1  A1  B1  C1  D1  NaN  NaN  NaN\n",
       "2  A2  B2  C2  D2   B2   D2   F2\n",
       "3  A3  B3  C3  D3   B3   D3   F3"
      ]
     },
     "execution_count": 76,
     "metadata": {},
     "output_type": "execute_result"
    }
   ],
   "source": [
    "pd.concat([df1, df4], axis=1, join_axes=[df1.index]) "
   ]
  },
  {
   "cell_type": "markdown",
   "metadata": {
    "slideshow": {
     "slide_type": "subslide"
    }
   },
   "source": [
    "** More about SQL-like structures**\n",
    "\n",
    "| **Merge method** | **SQL Join Name**  | **Descriptions**                          |\n",
    "| :- | :- | :-\n",
    "|      `left`      |  `LEFT OUTER JOIN` |       Use keys from left frame only       |\n",
    "|      `right`     | `Right OUTER JOIN` |       Use keys from right frame only      |\n",
    "|      `outer`     |  `FULL OUTER JOIN` |     Use union of keys from both frames    |\n",
    "|      `inner`     |    `INNER JOIN`    | Use intersection of keys from both frames |\n",
    "\n",
    "For detail, see [here](https://pandas.pydata.org/pandas-docs/stable/merging.html)."
   ]
  },
  {
   "cell_type": "markdown",
   "metadata": {
    "slideshow": {
     "slide_type": "slide"
    }
   },
   "source": [
    "# Matplotlib\n",
    "<center>\n",
    "<img src=\"https://matplotlib.org/_static/logo2.png\" alt=\"Drawing\" style=\"width: 500px;\"/>\n",
    "</center>\n",
    "\n",
    "* 2D, 3D plotting\n",
    "* With jupyter, interactive mode"
   ]
  },
  {
   "cell_type": "code",
   "execution_count": 77,
   "metadata": {
    "collapsed": true,
    "slideshow": {
     "slide_type": "subslide"
    }
   },
   "outputs": [],
   "source": [
    "import matplotlib.pyplot as plt"
   ]
  },
  {
   "cell_type": "markdown",
   "metadata": {
    "slideshow": {
     "slide_type": "subslide"
    }
   },
   "source": [
    "### Basic Line Plot"
   ]
  },
  {
   "cell_type": "code",
   "execution_count": 78,
   "metadata": {
    "slideshow": {
     "slide_type": "fragment"
    }
   },
   "outputs": [
    {
     "data": {
      "image/png": "[encoded data removed]",
      "text/plain": [
       "<matplotlib.figure.Figure at 0x9fdb4e0>"
      ]
     },
     "metadata": {},
     "output_type": "display_data"
    }
   ],
   "source": [
    "x = np.array([0.1*i for i in range(100)])\n",
    "y = np.sin(x)\n",
    "plt.plot(x, y)\n",
    "plt.show()"
   ]
  },
  {
   "cell_type": "code",
   "execution_count": 79,
   "metadata": {
    "slideshow": {
     "slide_type": "subslide"
    }
   },
   "outputs": [
    {
     "data": {
      "image/png": "[encoded data removed]",
      "text/plain": [
       "<matplotlib.figure.Figure at 0x9fdb080>"
      ]
     },
     "metadata": {},
     "output_type": "display_data"
    }
   ],
   "source": [
    "plt.plot(x, y, 'r--')\n",
    "plt.title('x vs y')\n",
    "plt.xlabel('x')\n",
    "plt.ylabel('y')\n",
    "plt.show()"
   ]
  },
  {
   "cell_type": "markdown",
   "metadata": {
    "slideshow": {
     "slide_type": "subslide"
    }
   },
   "source": [
    "## Scatter Plot"
   ]
  },
  {
   "cell_type": "code",
   "execution_count": 80,
   "metadata": {
    "slideshow": {
     "slide_type": "fragment"
    }
   },
   "outputs": [
    {
     "data": {
      "image/png": "[encoded data removed]",
      "text/plain": [
       "<matplotlib.figure.Figure at 0xa09e748>"
      ]
     },
     "metadata": {},
     "output_type": "display_data"
    }
   ],
   "source": [
    "x = np.random.randn(100)\n",
    "y = np.random.randn(100)\n",
    "colors = np.random.randn(100)\n",
    "area = np.pi * (15*np.random.rand(100))**2\n",
    "plt.scatter(x, y, s=area, c=colors, alpha=0.5)\n",
    "plt.show()"
   ]
  },
  {
   "cell_type": "markdown",
   "metadata": {
    "slideshow": {
     "slide_type": "subslide"
    }
   },
   "source": [
    "## Bar Chart"
   ]
  },
  {
   "cell_type": "code",
   "execution_count": 81,
   "metadata": {
    "slideshow": {
     "slide_type": "fragment"
    }
   },
   "outputs": [
    {
     "data": {
      "image/png": "[encoded data removed]",
      "text/plain": [
       "<matplotlib.figure.Figure at 0xa15efd0>"
      ]
     },
     "metadata": {},
     "output_type": "display_data"
    }
   ],
   "source": [
    "x = [1, 2, 3, 4]\n",
    "y = [0.7, 0.3, 0.5, 0.2]\n",
    "plt.figure(figsize=(10,5))\n",
    "plt.bar(x, y, align='center', alpha=0.5)\n",
    "plt.xticks(x, ['Value', 'Momentum', 'Low PER', 'High B/M'])\n",
    "plt.ylabel('Sharpe Ratio')\n",
    "plt.show()"
   ]
  },
  {
   "cell_type": "markdown",
   "metadata": {
    "collapsed": true,
    "slideshow": {
     "slide_type": "subslide"
    }
   },
   "source": [
    "## Distribution Plot"
   ]
  },
  {
   "cell_type": "code",
   "execution_count": 82,
   "metadata": {
    "slideshow": {
     "slide_type": "fragment"
    }
   },
   "outputs": [
    {
     "data": {
      "image/png": "[encoded data removed]",
      "text/plain": [
       "<matplotlib.figure.Figure at 0xa0eee48>"
      ]
     },
     "metadata": {},
     "output_type": "display_data"
    }
   ],
   "source": [
    "x = 0.5 + np.random.randn(10000)\n",
    "plt.hist(x, alpha=0.5)\n",
    "plt.show()"
   ]
  },
  {
   "cell_type": "code",
   "execution_count": 83,
   "metadata": {
    "slideshow": {
     "slide_type": "subslide"
    }
   },
   "outputs": [
    {
     "data": {
      "image/png": "[encoded data removed]",
      "text/plain": [
       "<matplotlib.figure.Figure at 0xa10a550>"
      ]
     },
     "metadata": {},
     "output_type": "display_data"
    }
   ],
   "source": [
    "y = -0.5 + 0.2*np.random.randn(10000)\n",
    "plt.hist(x, alpha=0.5, color='b', label='x', normed=True, bins=30)\n",
    "plt.hist(y, alpha=0.5, color='r', label='y', normed=True, bins=10)\n",
    "plt.legend()\n",
    "plt.show()"
   ]
  },
  {
   "cell_type": "markdown",
   "metadata": {
    "collapsed": true,
    "slideshow": {
     "slide_type": "subslide"
    }
   },
   "source": [
    "## 3D Plot"
   ]
  },
  {
   "cell_type": "code",
   "execution_count": 84,
   "metadata": {
    "collapsed": true,
    "slideshow": {
     "slide_type": "fragment"
    }
   },
   "outputs": [],
   "source": [
    "from mpl_toolkits.mplot3d import Axes3D\n",
    "%matplotlib notebook"
   ]
  },
  {
   "cell_type": "markdown",
   "metadata": {
    "slideshow": {
     "slide_type": "subslide"
    }
   },
   "source": [
    "** 3D Line **"
   ]
  },
  {
   "cell_type": "code",
   "execution_count": 85,
   "metadata": {
    "slideshow": {
     "slide_type": "fragment"
    }
   },
   "outputs": [
    {
     "data": {
      "application/javascript": [
       "/* Put everything inside the global mpl namespace */\n",
       "window.mpl = {};\n",
       "\n",
       "mpl.get_websocket_type = function() {\n",
       "    if (typeof(WebSocket) !== 'undefined') {\n",
       "        return WebSocket;\n",
       "    } else if (typeof(MozWebSocket) !== 'undefined') {\n",
       "        return MozWebSocket;\n",
       "    } else {\n",
       "        alert('Your browser does not have WebSocket support.' +\n",
       "              'Please try Chrome, Safari or Firefox ≥ 6. ' +\n",
       "              'Firefox 4 and 5 are also supported but you ' +\n",
       "              'have to enable WebSockets in about:config.');\n",
       "    };\n",
       "}\n",
       "\n",
       "mpl.figure = function(figure_id, websocket, ondownload, parent_element) {\n",
       "    this.id = figure_id;\n",
       "\n",
       "    this.ws = websocket;\n",
       "\n",
       "    this.supports_binary = (this.ws.binaryType != undefined);\n",
       "\n",
       "    if (!this.supports_binary) {\n",
       "        var warnings = document.getElementById(\"mpl-warnings\");\n",
       "        if (warnings) {\n",
       "            warnings.style.display = 'block';\n",
       "            warnings.textContent = (\n",
       "                \"This browser does not support binary websocket messages. \" +\n",
       "                    \"Performance may be slow.\");\n",
       "        }\n",
       "    }\n",
       "\n",
       "    this.imageObj = new Image();\n",
       "\n",
       "    this.context = undefined;\n",
       "    this.message = undefined;\n",
       "    this.canvas = undefined;\n",
       "    this.rubberband_canvas = undefined;\n",
       "    this.rubberband_context = undefined;\n",
       "    this.format_dropdown = undefined;\n",
       "\n",
       "    this.image_mode = 'full';\n",
       "\n",
       "    this.root = $('<div/>');\n",
       "    this._root_extra_style(this.root)\n",
       "    this.root.attr('style', 'display: inline-block');\n",
       "\n",
       "    $(parent_element).append(this.root);\n",
       "\n",
       "    this._init_header(this);\n",
       "    this._init_canvas(this);\n",
       "    this._init_toolbar(this);\n",
       "\n",
       "    var fig = this;\n",
       "\n",
       "    this.waiting = false;\n",
       "\n",
       "    this.ws.onopen =  function () {\n",
       "            fig.send_message(\"supports_binary\", {value: fig.supports_binary});\n",
       "            fig.send_message(\"send_image_mode\", {});\n",
       "            fig.send_message(\"refresh\", {});\n",
       "        }\n",
       "\n",
       "    this.imageObj.onload = function() {\n",
       "            if (fig.image_mode == 'full') {\n",
       "                // Full images could contain transparency (where diff images\n",
       "                // almost always do), so we need to clear the canvas so that\n",
       "                // there is no ghosting.\n",
       "                fig.context.clearRect(0, 0, fig.canvas.width, fig.canvas.height);\n",
       "            }\n",
       "            fig.context.drawImage(fig.imageObj, 0, 0);\n",
       "        };\n",
       "\n",
       "    this.imageObj.onunload = function() {\n",
       "        this.ws.close();\n",
       "    }\n",
       "\n",
       "    this.ws.onmessage = this._make_on_message_function(this);\n",
       "\n",
       "    this.ondownload = ondownload;\n",
       "}\n",
       "\n",
       "mpl.figure.prototype._init_header = function() {\n",
       "    var titlebar = $(\n",
       "        '<div class=\"ui-dialog-titlebar ui-widget-header ui-corner-all ' +\n",
       "        'ui-helper-clearfix\"/>');\n",
       "    var titletext = $(\n",
       "        '<div class=\"ui-dialog-title\" style=\"width: 100%; ' +\n",
       "        'text-align: center; padding: 3px;\"/>');\n",
       "    titlebar.append(titletext)\n",
       "    this.root.append(titlebar);\n",
       "    this.header = titletext[0];\n",
       "}\n",
       "\n",
       "\n",
       "\n",
       "mpl.figure.prototype._canvas_extra_style = function(canvas_div) {\n",
       "\n",
       "}\n",
       "\n",
       "\n",
       "mpl.figure.prototype._root_extra_style = function(canvas_div) {\n",
       "\n",
       "}\n",
       "\n",
       "mpl.figure.prototype._init_canvas = function() {\n",
       "    var fig = this;\n",
       "\n",
       "    var canvas_div = $('<div/>');\n",
       "\n",
       "    canvas_div.attr('style', 'position: relative; clear: both; outline: 0');\n",
       "\n",
       "    function canvas_keyboard_event(event) {\n",
       "        return fig.key_event(event, event['data']);\n",
       "    }\n",
       "\n",
       "    canvas_div.keydown('key_press', canvas_keyboard_event);\n",
       "    canvas_div.keyup('key_release', canvas_keyboard_event);\n",
       "    this.canvas_div = canvas_div\n",
       "    this._canvas_extra_style(canvas_div)\n",
       "    this.root.append(canvas_div);\n",
       "\n",
       "    var canvas = $('<canvas/>');\n",
       "    canvas.addClass('mpl-canvas');\n",
       "    canvas.attr('style', \"left: 0; top: 0; z-index: 0; outline: 0\")\n",
       "\n",
       "    this.canvas = canvas[0];\n",
       "    this.context = canvas[0].getContext(\"2d\");\n",
       "\n",
       "    var rubberband = $('<canvas/>');\n",
       "    rubberband.attr('style', \"position: absolute; left: 0; top: 0; z-index: 1;\")\n",
       "\n",
       "    var pass_mouse_events = true;\n",
       "\n",
       "    canvas_div.resizable({\n",
       "        start: function(event, ui) {\n",
       "            pass_mouse_events = false;\n",
       "        },\n",
       "        resize: function(event, ui) {\n",
       "            fig.request_resize(ui.size.width, ui.size.height);\n",
       "        },\n",
       "        stop: function(event, ui) {\n",
       "            pass_mouse_events = true;\n",
       "            fig.request_resize(ui.size.width, ui.size.height);\n",
       "        },\n",
       "    });\n",
       "\n",
       "    function mouse_event_fn(event) {\n",
       "        if (pass_mouse_events)\n",
       "            return fig.mouse_event(event, event['data']);\n",
       "    }\n",
       "\n",
       "    rubberband.mousedown('button_press', mouse_event_fn);\n",
       "    rubberband.mouseup('button_release', mouse_event_fn);\n",
       "    // Throttle sequential mouse events to 1 every 20ms.\n",
       "    rubberband.mousemove('motion_notify', mouse_event_fn);\n",
       "\n",
       "    rubberband.mouseenter('figure_enter', mouse_event_fn);\n",
       "    rubberband.mouseleave('figure_leave', mouse_event_fn);\n",
       "\n",
       "    canvas_div.on(\"wheel\", function (event) {\n",
       "        event = event.originalEvent;\n",
       "        event['data'] = 'scroll'\n",
       "        if (event.deltaY < 0) {\n",
       "            event.step = 1;\n",
       "        } else {\n",
       "            event.step = -1;\n",
       "        }\n",
       "        mouse_event_fn(event);\n",
       "    });\n",
       "\n",
       "    canvas_div.append(canvas);\n",
       "    canvas_div.append(rubberband);\n",
       "\n",
       "    this.rubberband = rubberband;\n",
       "    this.rubberband_canvas = rubberband[0];\n",
       "    this.rubberband_context = rubberband[0].getContext(\"2d\");\n",
       "    this.rubberband_context.strokeStyle = \"#000000\";\n",
       "\n",
       "    this._resize_canvas = function(width, height) {\n",
       "        // Keep the size of the canvas, canvas container, and rubber band\n",
       "        // canvas in synch.\n",
       "        canvas_div.css('width', width)\n",
       "        canvas_div.css('height', height)\n",
       "\n",
       "        canvas.attr('width', width);\n",
       "        canvas.attr('height', height);\n",
       "\n",
       "        rubberband.attr('width', width);\n",
       "        rubberband.attr('height', height);\n",
       "    }\n",
       "\n",
       "    // Set the figure to an initial 600x600px, this will subsequently be updated\n",
       "    // upon first draw.\n",
       "    this._resize_canvas(600, 600);\n",
       "\n",
       "    // Disable right mouse context menu.\n",
       "    $(this.rubberband_canvas).bind(\"contextmenu\",function(e){\n",
       "        return false;\n",
       "    });\n",
       "\n",
       "    function set_focus () {\n",
       "        canvas.focus();\n",
       "        canvas_div.focus();\n",
       "    }\n",
       "\n",
       "    window.setTimeout(set_focus, 100);\n",
       "}\n",
       "\n",
       "mpl.figure.prototype._init_toolbar = function() {\n",
       "    var fig = this;\n",
       "\n",
       "    var nav_element = $('<div/>')\n",
       "    nav_element.attr('style', 'width: 100%');\n",
       "    this.root.append(nav_element);\n",
       "\n",
       "    // Define a callback function for later on.\n",
       "    function toolbar_event(event) {\n",
       "        return fig.toolbar_button_onclick(event['data']);\n",
       "    }\n",
       "    function toolbar_mouse_event(event) {\n",
       "        return fig.toolbar_button_onmouseover(event['data']);\n",
       "    }\n",
       "\n",
       "    for(var toolbar_ind in mpl.toolbar_items) {\n",
       "        var name = mpl.toolbar_items[toolbar_ind][0];\n",
       "        var tooltip = mpl.toolbar_items[toolbar_ind][1];\n",
       "        var image = mpl.toolbar_items[toolbar_ind][2];\n",
       "        var method_name = mpl.toolbar_items[toolbar_ind][3];\n",
       "\n",
       "        if (!name) {\n",
       "            // put a spacer in here.\n",
       "            continue;\n",
       "        }\n",
       "        var button = $('<button/>');\n",
       "        button.addClass('ui-button ui-widget ui-state-default ui-corner-all ' +\n",
       "                        'ui-button-icon-only');\n",
       "        button.attr('role', 'button');\n",
       "        button.attr('aria-disabled', 'false');\n",
       "        button.click(method_name, toolbar_event);\n",
       "        button.mouseover(tooltip, toolbar_mouse_event);\n",
       "\n",
       "        var icon_img = $('<span/>');\n",
       "        icon_img.addClass('ui-button-icon-primary ui-icon');\n",
       "        icon_img.addClass(image);\n",
       "        icon_img.addClass('ui-corner-all');\n",
       "\n",
       "        var tooltip_span = $('<span/>');\n",
       "        tooltip_span.addClass('ui-button-text');\n",
       "        tooltip_span.html(tooltip);\n",
       "\n",
       "        button.append(icon_img);\n",
       "        button.append(tooltip_span);\n",
       "\n",
       "        nav_element.append(button);\n",
       "    }\n",
       "\n",
       "    var fmt_picker_span = $('<span/>');\n",
       "\n",
       "    var fmt_picker = $('<select/>');\n",
       "    fmt_picker.addClass('mpl-toolbar-option ui-widget ui-widget-content');\n",
       "    fmt_picker_span.append(fmt_picker);\n",
       "    nav_element.append(fmt_picker_span);\n",
       "    this.format_dropdown = fmt_picker[0];\n",
       "\n",
       "    for (var ind in mpl.extensions) {\n",
       "        var fmt = mpl.extensions[ind];\n",
       "        var option = $(\n",
       "            '<option/>', {selected: fmt === mpl.default_extension}).html(fmt);\n",
       "        fmt_picker.append(option)\n",
       "    }\n",
       "\n",
       "    // Add hover states to the ui-buttons\n",
       "    $( \".ui-button\" ).hover(\n",
       "        function() { $(this).addClass(\"ui-state-hover\");},\n",
       "        function() { $(this).removeClass(\"ui-state-hover\");}\n",
       "    );\n",
       "\n",
       "    var status_bar = $('<span class=\"mpl-message\"/>');\n",
       "    nav_element.append(status_bar);\n",
       "    this.message = status_bar[0];\n",
       "}\n",
       "\n",
       "mpl.figure.prototype.request_resize = function(x_pixels, y_pixels) {\n",
       "    // Request matplotlib to resize the figure. Matplotlib will then trigger a resize in the client,\n",
       "    // which will in turn request a refresh of the image.\n",
       "    this.send_message('resize', {'width': x_pixels, 'height': y_pixels});\n",
       "}\n",
       "\n",
       "mpl.figure.prototype.send_message = function(type, properties) {\n",
       "    properties['type'] = type;\n",
       "    properties['figure_id'] = this.id;\n",
       "    this.ws.send(JSON.stringify(properties));\n",
       "}\n",
       "\n",
       "mpl.figure.prototype.send_draw_message = function() {\n",
       "    if (!this.waiting) {\n",
       "        this.waiting = true;\n",
       "        this.ws.send(JSON.stringify({type: \"draw\", figure_id: this.id}));\n",
       "    }\n",
       "}\n",
       "\n",
       "\n",
       "mpl.figure.prototype.handle_save = function(fig, msg) {\n",
       "    var format_dropdown = fig.format_dropdown;\n",
       "    var format = format_dropdown.options[format_dropdown.selectedIndex].value;\n",
       "    fig.ondownload(fig, format);\n",
       "}\n",
       "\n",
       "\n",
       "mpl.figure.prototype.handle_resize = function(fig, msg) {\n",
       "    var size = msg['size'];\n",
       "    if (size[0] != fig.canvas.width || size[1] != fig.canvas.height) {\n",
       "        fig._resize_canvas(size[0], size[1]);\n",
       "        fig.send_message(\"refresh\", {});\n",
       "    };\n",
       "}\n",
       "\n",
       "mpl.figure.prototype.handle_rubberband = function(fig, msg) {\n",
       "    var x0 = msg['x0'];\n",
       "    var y0 = fig.canvas.height - msg['y0'];\n",
       "    var x1 = msg['x1'];\n",
       "    var y1 = fig.canvas.height - msg['y1'];\n",
       "    x0 = Math.floor(x0) + 0.5;\n",
       "    y0 = Math.floor(y0) + 0.5;\n",
       "    x1 = Math.floor(x1) + 0.5;\n",
       "    y1 = Math.floor(y1) + 0.5;\n",
       "    var min_x = Math.min(x0, x1);\n",
       "    var min_y = Math.min(y0, y1);\n",
       "    var width = Math.abs(x1 - x0);\n",
       "    var height = Math.abs(y1 - y0);\n",
       "\n",
       "    fig.rubberband_context.clearRect(\n",
       "        0, 0, fig.canvas.width, fig.canvas.height);\n",
       "\n",
       "    fig.rubberband_context.strokeRect(min_x, min_y, width, height);\n",
       "}\n",
       "\n",
       "mpl.figure.prototype.handle_figure_label = function(fig, msg) {\n",
       "    // Updates the figure title.\n",
       "    fig.header.textContent = msg['label'];\n",
       "}\n",
       "\n",
       "mpl.figure.prototype.handle_cursor = function(fig, msg) {\n",
       "    var cursor = msg['cursor'];\n",
       "    switch(cursor)\n",
       "    {\n",
       "    case 0:\n",
       "        cursor = 'pointer';\n",
       "        break;\n",
       "    case 1:\n",
       "        cursor = 'default';\n",
       "        break;\n",
       "    case 2:\n",
       "        cursor = 'crosshair';\n",
       "        break;\n",
       "    case 3:\n",
       "        cursor = 'move';\n",
       "        break;\n",
       "    }\n",
       "    fig.rubberband_canvas.style.cursor = cursor;\n",
       "}\n",
       "\n",
       "mpl.figure.prototype.handle_message = function(fig, msg) {\n",
       "    fig.message.textContent = msg['message'];\n",
       "}\n",
       "\n",
       "mpl.figure.prototype.handle_draw = function(fig, msg) {\n",
       "    // Request the server to send over a new figure.\n",
       "    fig.send_draw_message();\n",
       "}\n",
       "\n",
       "mpl.figure.prototype.handle_image_mode = function(fig, msg) {\n",
       "    fig.image_mode = msg['mode'];\n",
       "}\n",
       "\n",
       "mpl.figure.prototype.updated_canvas_event = function() {\n",
       "    // Called whenever the canvas gets updated.\n",
       "    this.send_message(\"ack\", {});\n",
       "}\n",
       "\n",
       "// A function to construct a web socket function for onmessage handling.\n",
       "// Called in the figure constructor.\n",
       "mpl.figure.prototype._make_on_message_function = function(fig) {\n",
       "    return function socket_on_message(evt) {\n",
       "        if (evt.data instanceof Blob) {\n",
       "            /* FIXME: We get \"Resource interpreted as Image but\n",
       "             * transferred with MIME type text/plain:\" errors on\n",
       "             * Chrome.  But how to set the MIME type?  It doesn't seem\n",
       "             * to be part of the websocket stream */\n",
       "            evt.data.type = \"image/png\";\n",
       "\n",
       "            /* Free the memory for the previous frames */\n",
       "            if (fig.imageObj.src) {\n",
       "                (window.URL || window.webkitURL).revokeObjectURL(\n",
       "                    fig.imageObj.src);\n",
       "            }\n",
       "\n",
       "            fig.imageObj.src = (window.URL || window.webkitURL).createObjectURL(\n",
       "                evt.data);\n",
       "            fig.updated_canvas_event();\n",
       "            fig.waiting = false;\n",
       "            return;\n",
       "        }\n",
       "        else if (typeof evt.data === 'string' && evt.data.slice(0, 21) == \"data:image/png;base64\") {\n",
       "            fig.imageObj.src = evt.data;\n",
       "            fig.updated_canvas_event();\n",
       "            fig.waiting = false;\n",
       "            return;\n",
       "        }\n",
       "\n",
       "        var msg = JSON.parse(evt.data);\n",
       "        var msg_type = msg['type'];\n",
       "\n",
       "        // Call the  \"handle_{type}\" callback, which takes\n",
       "        // the figure and JSON message as its only arguments.\n",
       "        try {\n",
       "            var callback = fig[\"handle_\" + msg_type];\n",
       "        } catch (e) {\n",
       "            console.log(\"No handler for the '\" + msg_type + \"' message type: \", msg);\n",
       "            return;\n",
       "        }\n",
       "\n",
       "        if (callback) {\n",
       "            try {\n",
       "                // console.log(\"Handling '\" + msg_type + \"' message: \", msg);\n",
       "                callback(fig, msg);\n",
       "            } catch (e) {\n",
       "                console.log(\"Exception inside the 'handler_\" + msg_type + \"' callback:\", e, e.stack, msg);\n",
       "            }\n",
       "        }\n",
       "    };\n",
       "}\n",
       "\n",
       "// from http://stackoverflow.com/questions/1114465/getting-mouse-location-in-canvas\n",
       "mpl.findpos = function(e) {\n",
       "    //this section is from http://www.quirksmode.org/js/events_properties.html\n",
       "    var targ;\n",
       "    if (!e)\n",
       "        e = window.event;\n",
       "    if (e.target)\n",
       "        targ = e.target;\n",
       "    else if (e.srcElement)\n",
       "        targ = e.srcElement;\n",
       "    if (targ.nodeType == 3) // defeat Safari bug\n",
       "        targ = targ.parentNode;\n",
       "\n",
       "    // jQuery normalizes the pageX and pageY\n",
       "    // pageX,Y are the mouse positions relative to the document\n",
       "    // offset() returns the position of the element relative to the document\n",
       "    var x = e.pageX - $(targ).offset().left;\n",
       "    var y = e.pageY - $(targ).offset().top;\n",
       "\n",
       "    return {\"x\": x, \"y\": y};\n",
       "};\n",
       "\n",
       "/*\n",
       " * return a copy of an object with only non-object keys\n",
       " * we need this to avoid circular references\n",
       " * http://stackoverflow.com/a/24161582/3208463\n",
       " */\n",
       "function simpleKeys (original) {\n",
       "  return Object.keys(original).reduce(function (obj, key) {\n",
       "    if (typeof original[key] !== 'object')\n",
       "        obj[key] = original[key]\n",
       "    return obj;\n",
       "  }, {});\n",
       "}\n",
       "\n",
       "mpl.figure.prototype.mouse_event = function(event, name) {\n",
       "    var canvas_pos = mpl.findpos(event)\n",
       "\n",
       "    if (name === 'button_press')\n",
       "    {\n",
       "        this.canvas.focus();\n",
       "        this.canvas_div.focus();\n",
       "    }\n",
       "\n",
       "    var x = canvas_pos.x;\n",
       "    var y = canvas_pos.y;\n",
       "\n",
       "    this.send_message(name, {x: x, y: y, button: event.button,\n",
       "                             step: event.step,\n",
       "                             guiEvent: simpleKeys(event)});\n",
       "\n",
       "    /* This prevents the web browser from automatically changing to\n",
       "     * the text insertion cursor when the button is pressed.  We want\n",
       "     * to control all of the cursor setting manually through the\n",
       "     * 'cursor' event from matplotlib */\n",
       "    event.preventDefault();\n",
       "    return false;\n",
       "}\n",
       "\n",
       "mpl.figure.prototype._key_event_extra = function(event, name) {\n",
       "    // Handle any extra behaviour associated with a key event\n",
       "}\n",
       "\n",
       "mpl.figure.prototype.key_event = function(event, name) {\n",
       "\n",
       "    // Prevent repeat events\n",
       "    if (name == 'key_press')\n",
       "    {\n",
       "        if (event.which === this._key)\n",
       "            return;\n",
       "        else\n",
       "            this._key = event.which;\n",
       "    }\n",
       "    if (name == 'key_release')\n",
       "        this._key = null;\n",
       "\n",
       "    var value = '';\n",
       "    if (event.ctrlKey && event.which != 17)\n",
       "        value += \"ctrl+\";\n",
       "    if (event.altKey && event.which != 18)\n",
       "        value += \"alt+\";\n",
       "    if (event.shiftKey && event.which != 16)\n",
       "        value += \"shift+\";\n",
       "\n",
       "    value += 'k';\n",
       "    value += event.which.toString();\n",
       "\n",
       "    this._key_event_extra(event, name);\n",
       "\n",
       "    this.send_message(name, {key: value,\n",
       "                             guiEvent: simpleKeys(event)});\n",
       "    return false;\n",
       "}\n",
       "\n",
       "mpl.figure.prototype.toolbar_button_onclick = function(name) {\n",
       "    if (name == 'download') {\n",
       "        this.handle_save(this, null);\n",
       "    } else {\n",
       "        this.send_message(\"toolbar_button\", {name: name});\n",
       "    }\n",
       "};\n",
       "\n",
       "mpl.figure.prototype.toolbar_button_onmouseover = function(tooltip) {\n",
       "    this.message.textContent = tooltip;\n",
       "};\n",
       "mpl.toolbar_items = [[\"Home\", \"Reset original view\", \"fa fa-home icon-home\", \"home\"], [\"Back\", \"Back to  previous view\", \"fa fa-arrow-left icon-arrow-left\", \"back\"], [\"Forward\", \"Forward to next view\", \"fa fa-arrow-right icon-arrow-right\", \"forward\"], [\"\", \"\", \"\", \"\"], [\"Pan\", \"Pan axes with left mouse, zoom with right\", \"fa fa-arrows icon-move\", \"pan\"], [\"Zoom\", \"Zoom to rectangle\", \"fa fa-square-o icon-check-empty\", \"zoom\"], [\"\", \"\", \"\", \"\"], [\"Download\", \"Download plot\", \"fa fa-floppy-o icon-save\", \"download\"]];\n",
       "\n",
       "mpl.extensions = [\"eps\", \"jpeg\", \"pdf\", \"png\", \"ps\", \"raw\", \"svg\", \"tif\"];\n",
       "\n",
       "mpl.default_extension = \"png\";var comm_websocket_adapter = function(comm) {\n",
       "    // Create a \"websocket\"-like object which calls the given IPython comm\n",
       "    // object with the appropriate methods. Currently this is a non binary\n",
       "    // socket, so there is still some room for performance tuning.\n",
       "    var ws = {};\n",
       "\n",
       "    ws.close = function() {\n",
       "        comm.close()\n",
       "    };\n",
       "    ws.send = function(m) {\n",
       "        //console.log('sending', m);\n",
       "        comm.send(m);\n",
       "    };\n",
       "    // Register the callback with on_msg.\n",
       "    comm.on_msg(function(msg) {\n",
       "        //console.log('receiving', msg['content']['data'], msg);\n",
       "        // Pass the mpl event to the overriden (by mpl) onmessage function.\n",
       "        ws.onmessage(msg['content']['data'])\n",
       "    });\n",
       "    return ws;\n",
       "}\n",
       "\n",
       "mpl.mpl_figure_comm = function(comm, msg) {\n",
       "    // This is the function which gets called when the mpl process\n",
       "    // starts-up an IPython Comm through the \"matplotlib\" channel.\n",
       "\n",
       "    var id = msg.content.data.id;\n",
       "    // Get hold of the div created by the display call when the Comm\n",
       "    // socket was opened in Python.\n",
       "    var element = $(\"#\" + id);\n",
       "    var ws_proxy = comm_websocket_adapter(comm)\n",
       "\n",
       "    function ondownload(figure, format) {\n",
       "        window.open(figure.imageObj.src);\n",
       "    }\n",
       "\n",
       "    var fig = new mpl.figure(id, ws_proxy,\n",
       "                           ondownload,\n",
       "                           element.get(0));\n",
       "\n",
       "    // Call onopen now - mpl needs it, as it is assuming we've passed it a real\n",
       "    // web socket which is closed, not our websocket->open comm proxy.\n",
       "    ws_proxy.onopen();\n",
       "\n",
       "    fig.parent_element = element.get(0);\n",
       "    fig.cell_info = mpl.find_output_cell(\"<div id='\" + id + \"'></div>\");\n",
       "    if (!fig.cell_info) {\n",
       "        console.error(\"Failed to find cell for figure\", id, fig);\n",
       "        return;\n",
       "    }\n",
       "\n",
       "    var output_index = fig.cell_info[2]\n",
       "    var cell = fig.cell_info[0];\n",
       "\n",
       "};\n",
       "\n",
       "mpl.figure.prototype.handle_close = function(fig, msg) {\n",
       "    fig.root.unbind('remove')\n",
       "\n",
       "    // Update the output cell to use the data from the current canvas.\n",
       "    fig.push_to_output();\n",
       "    var dataURL = fig.canvas.toDataURL();\n",
       "    // Re-enable the keyboard manager in IPython - without this line, in FF,\n",
       "    // the notebook keyboard shortcuts fail.\n",
       "    IPython.keyboard_manager.enable()\n",
       "    $(fig.parent_element).html('<img src=\"' + dataURL + '\">');\n",
       "    fig.close_ws(fig, msg);\n",
       "}\n",
       "\n",
       "mpl.figure.prototype.close_ws = function(fig, msg){\n",
       "    fig.send_message('closing', msg);\n",
       "    // fig.ws.close()\n",
       "}\n",
       "\n",
       "mpl.figure.prototype.push_to_output = function(remove_interactive) {\n",
       "    // Turn the data on the canvas into data in the output cell.\n",
       "    var dataURL = this.canvas.toDataURL();\n",
       "    this.cell_info[1]['text/html'] = '<img src=\"' + dataURL + '\">';\n",
       "}\n",
       "\n",
       "mpl.figure.prototype.updated_canvas_event = function() {\n",
       "    // Tell IPython that the notebook contents must change.\n",
       "    IPython.notebook.set_dirty(true);\n",
       "    this.send_message(\"ack\", {});\n",
       "    var fig = this;\n",
       "    // Wait a second, then push the new image to the DOM so\n",
       "    // that it is saved nicely (might be nice to debounce this).\n",
       "    setTimeout(function () { fig.push_to_output() }, 1000);\n",
       "}\n",
       "\n",
       "mpl.figure.prototype._init_toolbar = function() {\n",
       "    var fig = this;\n",
       "\n",
       "    var nav_element = $('<div/>')\n",
       "    nav_element.attr('style', 'width: 100%');\n",
       "    this.root.append(nav_element);\n",
       "\n",
       "    // Define a callback function for later on.\n",
       "    function toolbar_event(event) {\n",
       "        return fig.toolbar_button_onclick(event['data']);\n",
       "    }\n",
       "    function toolbar_mouse_event(event) {\n",
       "        return fig.toolbar_button_onmouseover(event['data']);\n",
       "    }\n",
       "\n",
       "    for(var toolbar_ind in mpl.toolbar_items){\n",
       "        var name = mpl.toolbar_items[toolbar_ind][0];\n",
       "        var tooltip = mpl.toolbar_items[toolbar_ind][1];\n",
       "        var image = mpl.toolbar_items[toolbar_ind][2];\n",
       "        var method_name = mpl.toolbar_items[toolbar_ind][3];\n",
       "\n",
       "        if (!name) { continue; };\n",
       "\n",
       "        var button = $('<button class=\"btn btn-default\" href=\"#\" title=\"' + name + '\"><i class=\"fa ' + image + ' fa-lg\"></i></button>');\n",
       "        button.click(method_name, toolbar_event);\n",
       "        button.mouseover(tooltip, toolbar_mouse_event);\n",
       "        nav_element.append(button);\n",
       "    }\n",
       "\n",
       "    // Add the status bar.\n",
       "    var status_bar = $('<span class=\"mpl-message\" style=\"text-align:right; float: right;\"/>');\n",
       "    nav_element.append(status_bar);\n",
       "    this.message = status_bar[0];\n",
       "\n",
       "    // Add the close button to the window.\n",
       "    var buttongrp = $('<div class=\"btn-group inline pull-right\"></div>');\n",
       "    var button = $('<button class=\"btn btn-mini btn-primary\" href=\"#\" title=\"Stop Interaction\"><i class=\"fa fa-power-off icon-remove icon-large\"></i></button>');\n",
       "    button.click(function (evt) { fig.handle_close(fig, {}); } );\n",
       "    button.mouseover('Stop Interaction', toolbar_mouse_event);\n",
       "    buttongrp.append(button);\n",
       "    var titlebar = this.root.find($('.ui-dialog-titlebar'));\n",
       "    titlebar.prepend(buttongrp);\n",
       "}\n",
       "\n",
       "mpl.figure.prototype._root_extra_style = function(el){\n",
       "    var fig = this\n",
       "    el.on(\"remove\", function(){\n",
       "\tfig.close_ws(fig, {});\n",
       "    });\n",
       "}\n",
       "\n",
       "mpl.figure.prototype._canvas_extra_style = function(el){\n",
       "    // this is important to make the div 'focusable\n",
       "    el.attr('tabindex', 0)\n",
       "    // reach out to IPython and tell the keyboard manager to turn it's self\n",
       "    // off when our div gets focus\n",
       "\n",
       "    // location in version 3\n",
       "    if (IPython.notebook.keyboard_manager) {\n",
       "        IPython.notebook.keyboard_manager.register_events(el);\n",
       "    }\n",
       "    else {\n",
       "        // location in version 2\n",
       "        IPython.keyboard_manager.register_events(el);\n",
       "    }\n",
       "\n",
       "}\n",
       "\n",
       "mpl.figure.prototype._key_event_extra = function(event, name) {\n",
       "    var manager = IPython.notebook.keyboard_manager;\n",
       "    if (!manager)\n",
       "        manager = IPython.keyboard_manager;\n",
       "\n",
       "    // Check for shift+enter\n",
       "    if (event.shiftKey && event.which == 13) {\n",
       "        this.canvas_div.blur();\n",
       "        // select the cell after this one\n",
       "        var index = IPython.notebook.find_cell_index(this.cell_info[0]);\n",
       "        IPython.notebook.select(index + 1);\n",
       "    }\n",
       "}\n",
       "\n",
       "mpl.figure.prototype.handle_save = function(fig, msg) {\n",
       "    fig.ondownload(fig, null);\n",
       "}\n",
       "\n",
       "\n",
       "mpl.find_output_cell = function(html_output) {\n",
       "    // Return the cell and output element which can be found *uniquely* in the notebook.\n",
       "    // Note - this is a bit hacky, but it is done because the \"notebook_saving.Notebook\"\n",
       "    // IPython event is triggered only after the cells have been serialised, which for\n",
       "    // our purposes (turning an active figure into a static one), is too late.\n",
       "    var cells = IPython.notebook.get_cells();\n",
       "    var ncells = cells.length;\n",
       "    for (var i=0; i<ncells; i++) {\n",
       "        var cell = cells[i];\n",
       "        if (cell.cell_type === 'code'){\n",
       "            for (var j=0; j<cell.output_area.outputs.length; j++) {\n",
       "                var data = cell.output_area.outputs[j];\n",
       "                if (data.data) {\n",
       "                    // IPython >= 3 moved mimebundle to data attribute of output\n",
       "                    data = data.data;\n",
       "                }\n",
       "                if (data['text/html'] == html_output) {\n",
       "                    return [cell, data, j];\n",
       "                }\n",
       "            }\n",
       "        }\n",
       "    }\n",
       "}\n",
       "\n",
       "// Register the function which deals with the matplotlib target/channel.\n",
       "// The kernel may be null if the page has been refreshed.\n",
       "if (IPython.notebook.kernel != null) {\n",
       "    IPython.notebook.kernel.comm_manager.register_target('matplotlib', mpl.mpl_figure_comm);\n",
       "}\n"
      ],
      "text/plain": [
       "<IPython.core.display.Javascript object>"
      ]
     },
     "metadata": {},
     "output_type": "display_data"
    },
    {
     "data": {
      "text/html": [
       "<img src=\"data:image/png;base64,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\">"
      ],
      "text/plain": [
       "<IPython.core.display.HTML object>"
      ]
     },
     "metadata": {},
     "output_type": "display_data"
    },
    {
     "data": {
      "text/plain": [
       "[<mpl_toolkits.mplot3d.art3d.Line3D at 0xa2919b0>]"
      ]
     },
     "execution_count": 85,
     "metadata": {},
     "output_type": "execute_result"
    }
   ],
   "source": [
    "fig = plt.figure()\n",
    "ax = fig.gca(projection='3d')\n",
    "theta = np.linspace(-4 * np.pi, 4 * np.pi, 100)\n",
    "z = np.linspace(-2, 2, 100)\n",
    "r = z**2 + 1\n",
    "x = r * np.sin(theta)\n",
    "y = r * np.cos(theta)\n",
    "ax.plot(x, y, z)"
   ]
  },
  {
   "cell_type": "markdown",
   "metadata": {
    "slideshow": {
     "slide_type": "subslide"
    }
   },
   "source": [
    "** 3D Scatter **"
   ]
  },
  {
   "cell_type": "code",
   "execution_count": 86,
   "metadata": {
    "slideshow": {
     "slide_type": "fragment"
    }
   },
   "outputs": [
    {
     "data": {
      "application/javascript": [
       "/* Put everything inside the global mpl namespace */\n",
       "window.mpl = {};\n",
       "\n",
       "mpl.get_websocket_type = function() {\n",
       "    if (typeof(WebSocket) !== 'undefined') {\n",
       "        return WebSocket;\n",
       "    } else if (typeof(MozWebSocket) !== 'undefined') {\n",
       "        return MozWebSocket;\n",
       "    } else {\n",
       "        alert('Your browser does not have WebSocket support.' +\n",
       "              'Please try Chrome, Safari or Firefox ≥ 6. ' +\n",
       "              'Firefox 4 and 5 are also supported but you ' +\n",
       "              'have to enable WebSockets in about:config.');\n",
       "    };\n",
       "}\n",
       "\n",
       "mpl.figure = function(figure_id, websocket, ondownload, parent_element) {\n",
       "    this.id = figure_id;\n",
       "\n",
       "    this.ws = websocket;\n",
       "\n",
       "    this.supports_binary = (this.ws.binaryType != undefined);\n",
       "\n",
       "    if (!this.supports_binary) {\n",
       "        var warnings = document.getElementById(\"mpl-warnings\");\n",
       "        if (warnings) {\n",
       "            warnings.style.display = 'block';\n",
       "            warnings.textContent = (\n",
       "                \"This browser does not support binary websocket messages. \" +\n",
       "                    \"Performance may be slow.\");\n",
       "        }\n",
       "    }\n",
       "\n",
       "    this.imageObj = new Image();\n",
       "\n",
       "    this.context = undefined;\n",
       "    this.message = undefined;\n",
       "    this.canvas = undefined;\n",
       "    this.rubberband_canvas = undefined;\n",
       "    this.rubberband_context = undefined;\n",
       "    this.format_dropdown = undefined;\n",
       "\n",
       "    this.image_mode = 'full';\n",
       "\n",
       "    this.root = $('<div/>');\n",
       "    this._root_extra_style(this.root)\n",
       "    this.root.attr('style', 'display: inline-block');\n",
       "\n",
       "    $(parent_element).append(this.root);\n",
       "\n",
       "    this._init_header(this);\n",
       "    this._init_canvas(this);\n",
       "    this._init_toolbar(this);\n",
       "\n",
       "    var fig = this;\n",
       "\n",
       "    this.waiting = false;\n",
       "\n",
       "    this.ws.onopen =  function () {\n",
       "            fig.send_message(\"supports_binary\", {value: fig.supports_binary});\n",
       "            fig.send_message(\"send_image_mode\", {});\n",
       "            fig.send_message(\"refresh\", {});\n",
       "        }\n",
       "\n",
       "    this.imageObj.onload = function() {\n",
       "            if (fig.image_mode == 'full') {\n",
       "                // Full images could contain transparency (where diff images\n",
       "                // almost always do), so we need to clear the canvas so that\n",
       "                // there is no ghosting.\n",
       "                fig.context.clearRect(0, 0, fig.canvas.width, fig.canvas.height);\n",
       "            }\n",
       "            fig.context.drawImage(fig.imageObj, 0, 0);\n",
       "        };\n",
       "\n",
       "    this.imageObj.onunload = function() {\n",
       "        this.ws.close();\n",
       "    }\n",
       "\n",
       "    this.ws.onmessage = this._make_on_message_function(this);\n",
       "\n",
       "    this.ondownload = ondownload;\n",
       "}\n",
       "\n",
       "mpl.figure.prototype._init_header = function() {\n",
       "    var titlebar = $(\n",
       "        '<div class=\"ui-dialog-titlebar ui-widget-header ui-corner-all ' +\n",
       "        'ui-helper-clearfix\"/>');\n",
       "    var titletext = $(\n",
       "        '<div class=\"ui-dialog-title\" style=\"width: 100%; ' +\n",
       "        'text-align: center; padding: 3px;\"/>');\n",
       "    titlebar.append(titletext)\n",
       "    this.root.append(titlebar);\n",
       "    this.header = titletext[0];\n",
       "}\n",
       "\n",
       "\n",
       "\n",
       "mpl.figure.prototype._canvas_extra_style = function(canvas_div) {\n",
       "\n",
       "}\n",
       "\n",
       "\n",
       "mpl.figure.prototype._root_extra_style = function(canvas_div) {\n",
       "\n",
       "}\n",
       "\n",
       "mpl.figure.prototype._init_canvas = function() {\n",
       "    var fig = this;\n",
       "\n",
       "    var canvas_div = $('<div/>');\n",
       "\n",
       "    canvas_div.attr('style', 'position: relative; clear: both; outline: 0');\n",
       "\n",
       "    function canvas_keyboard_event(event) {\n",
       "        return fig.key_event(event, event['data']);\n",
       "    }\n",
       "\n",
       "    canvas_div.keydown('key_press', canvas_keyboard_event);\n",
       "    canvas_div.keyup('key_release', canvas_keyboard_event);\n",
       "    this.canvas_div = canvas_div\n",
       "    this._canvas_extra_style(canvas_div)\n",
       "    this.root.append(canvas_div);\n",
       "\n",
       "    var canvas = $('<canvas/>');\n",
       "    canvas.addClass('mpl-canvas');\n",
       "    canvas.attr('style', \"left: 0; top: 0; z-index: 0; outline: 0\")\n",
       "\n",
       "    this.canvas = canvas[0];\n",
       "    this.context = canvas[0].getContext(\"2d\");\n",
       "\n",
       "    var rubberband = $('<canvas/>');\n",
       "    rubberband.attr('style', \"position: absolute; left: 0; top: 0; z-index: 1;\")\n",
       "\n",
       "    var pass_mouse_events = true;\n",
       "\n",
       "    canvas_div.resizable({\n",
       "        start: function(event, ui) {\n",
       "            pass_mouse_events = false;\n",
       "        },\n",
       "        resize: function(event, ui) {\n",
       "            fig.request_resize(ui.size.width, ui.size.height);\n",
       "        },\n",
       "        stop: function(event, ui) {\n",
       "            pass_mouse_events = true;\n",
       "            fig.request_resize(ui.size.width, ui.size.height);\n",
       "        },\n",
       "    });\n",
       "\n",
       "    function mouse_event_fn(event) {\n",
       "        if (pass_mouse_events)\n",
       "            return fig.mouse_event(event, event['data']);\n",
       "    }\n",
       "\n",
       "    rubberband.mousedown('button_press', mouse_event_fn);\n",
       "    rubberband.mouseup('button_release', mouse_event_fn);\n",
       "    // Throttle sequential mouse events to 1 every 20ms.\n",
       "    rubberband.mousemove('motion_notify', mouse_event_fn);\n",
       "\n",
       "    rubberband.mouseenter('figure_enter', mouse_event_fn);\n",
       "    rubberband.mouseleave('figure_leave', mouse_event_fn);\n",
       "\n",
       "    canvas_div.on(\"wheel\", function (event) {\n",
       "        event = event.originalEvent;\n",
       "        event['data'] = 'scroll'\n",
       "        if (event.deltaY < 0) {\n",
       "            event.step = 1;\n",
       "        } else {\n",
       "            event.step = -1;\n",
       "        }\n",
       "        mouse_event_fn(event);\n",
       "    });\n",
       "\n",
       "    canvas_div.append(canvas);\n",
       "    canvas_div.append(rubberband);\n",
       "\n",
       "    this.rubberband = rubberband;\n",
       "    this.rubberband_canvas = rubberband[0];\n",
       "    this.rubberband_context = rubberband[0].getContext(\"2d\");\n",
       "    this.rubberband_context.strokeStyle = \"#000000\";\n",
       "\n",
       "    this._resize_canvas = function(width, height) {\n",
       "        // Keep the size of the canvas, canvas container, and rubber band\n",
       "        // canvas in synch.\n",
       "        canvas_div.css('width', width)\n",
       "        canvas_div.css('height', height)\n",
       "\n",
       "        canvas.attr('width', width);\n",
       "        canvas.attr('height', height);\n",
       "\n",
       "        rubberband.attr('width', width);\n",
       "        rubberband.attr('height', height);\n",
       "    }\n",
       "\n",
       "    // Set the figure to an initial 600x600px, this will subsequently be updated\n",
       "    // upon first draw.\n",
       "    this._resize_canvas(600, 600);\n",
       "\n",
       "    // Disable right mouse context menu.\n",
       "    $(this.rubberband_canvas).bind(\"contextmenu\",function(e){\n",
       "        return false;\n",
       "    });\n",
       "\n",
       "    function set_focus () {\n",
       "        canvas.focus();\n",
       "        canvas_div.focus();\n",
       "    }\n",
       "\n",
       "    window.setTimeout(set_focus, 100);\n",
       "}\n",
       "\n",
       "mpl.figure.prototype._init_toolbar = function() {\n",
       "    var fig = this;\n",
       "\n",
       "    var nav_element = $('<div/>')\n",
       "    nav_element.attr('style', 'width: 100%');\n",
       "    this.root.append(nav_element);\n",
       "\n",
       "    // Define a callback function for later on.\n",
       "    function toolbar_event(event) {\n",
       "        return fig.toolbar_button_onclick(event['data']);\n",
       "    }\n",
       "    function toolbar_mouse_event(event) {\n",
       "        return fig.toolbar_button_onmouseover(event['data']);\n",
       "    }\n",
       "\n",
       "    for(var toolbar_ind in mpl.toolbar_items) {\n",
       "        var name = mpl.toolbar_items[toolbar_ind][0];\n",
       "        var tooltip = mpl.toolbar_items[toolbar_ind][1];\n",
       "        var image = mpl.toolbar_items[toolbar_ind][2];\n",
       "        var method_name = mpl.toolbar_items[toolbar_ind][3];\n",
       "\n",
       "        if (!name) {\n",
       "            // put a spacer in here.\n",
       "            continue;\n",
       "        }\n",
       "        var button = $('<button/>');\n",
       "        button.addClass('ui-button ui-widget ui-state-default ui-corner-all ' +\n",
       "                        'ui-button-icon-only');\n",
       "        button.attr('role', 'button');\n",
       "        button.attr('aria-disabled', 'false');\n",
       "        button.click(method_name, toolbar_event);\n",
       "        button.mouseover(tooltip, toolbar_mouse_event);\n",
       "\n",
       "        var icon_img = $('<span/>');\n",
       "        icon_img.addClass('ui-button-icon-primary ui-icon');\n",
       "        icon_img.addClass(image);\n",
       "        icon_img.addClass('ui-corner-all');\n",
       "\n",
       "        var tooltip_span = $('<span/>');\n",
       "        tooltip_span.addClass('ui-button-text');\n",
       "        tooltip_span.html(tooltip);\n",
       "\n",
       "        button.append(icon_img);\n",
       "        button.append(tooltip_span);\n",
       "\n",
       "        nav_element.append(button);\n",
       "    }\n",
       "\n",
       "    var fmt_picker_span = $('<span/>');\n",
       "\n",
       "    var fmt_picker = $('<select/>');\n",
       "    fmt_picker.addClass('mpl-toolbar-option ui-widget ui-widget-content');\n",
       "    fmt_picker_span.append(fmt_picker);\n",
       "    nav_element.append(fmt_picker_span);\n",
       "    this.format_dropdown = fmt_picker[0];\n",
       "\n",
       "    for (var ind in mpl.extensions) {\n",
       "        var fmt = mpl.extensions[ind];\n",
       "        var option = $(\n",
       "            '<option/>', {selected: fmt === mpl.default_extension}).html(fmt);\n",
       "        fmt_picker.append(option)\n",
       "    }\n",
       "\n",
       "    // Add hover states to the ui-buttons\n",
       "    $( \".ui-button\" ).hover(\n",
       "        function() { $(this).addClass(\"ui-state-hover\");},\n",
       "        function() { $(this).removeClass(\"ui-state-hover\");}\n",
       "    );\n",
       "\n",
       "    var status_bar = $('<span class=\"mpl-message\"/>');\n",
       "    nav_element.append(status_bar);\n",
       "    this.message = status_bar[0];\n",
       "}\n",
       "\n",
       "mpl.figure.prototype.request_resize = function(x_pixels, y_pixels) {\n",
       "    // Request matplotlib to resize the figure. Matplotlib will then trigger a resize in the client,\n",
       "    // which will in turn request a refresh of the image.\n",
       "    this.send_message('resize', {'width': x_pixels, 'height': y_pixels});\n",
       "}\n",
       "\n",
       "mpl.figure.prototype.send_message = function(type, properties) {\n",
       "    properties['type'] = type;\n",
       "    properties['figure_id'] = this.id;\n",
       "    this.ws.send(JSON.stringify(properties));\n",
       "}\n",
       "\n",
       "mpl.figure.prototype.send_draw_message = function() {\n",
       "    if (!this.waiting) {\n",
       "        this.waiting = true;\n",
       "        this.ws.send(JSON.stringify({type: \"draw\", figure_id: this.id}));\n",
       "    }\n",
       "}\n",
       "\n",
       "\n",
       "mpl.figure.prototype.handle_save = function(fig, msg) {\n",
       "    var format_dropdown = fig.format_dropdown;\n",
       "    var format = format_dropdown.options[format_dropdown.selectedIndex].value;\n",
       "    fig.ondownload(fig, format);\n",
       "}\n",
       "\n",
       "\n",
       "mpl.figure.prototype.handle_resize = function(fig, msg) {\n",
       "    var size = msg['size'];\n",
       "    if (size[0] != fig.canvas.width || size[1] != fig.canvas.height) {\n",
       "        fig._resize_canvas(size[0], size[1]);\n",
       "        fig.send_message(\"refresh\", {});\n",
       "    };\n",
       "}\n",
       "\n",
       "mpl.figure.prototype.handle_rubberband = function(fig, msg) {\n",
       "    var x0 = msg['x0'];\n",
       "    var y0 = fig.canvas.height - msg['y0'];\n",
       "    var x1 = msg['x1'];\n",
       "    var y1 = fig.canvas.height - msg['y1'];\n",
       "    x0 = Math.floor(x0) + 0.5;\n",
       "    y0 = Math.floor(y0) + 0.5;\n",
       "    x1 = Math.floor(x1) + 0.5;\n",
       "    y1 = Math.floor(y1) + 0.5;\n",
       "    var min_x = Math.min(x0, x1);\n",
       "    var min_y = Math.min(y0, y1);\n",
       "    var width = Math.abs(x1 - x0);\n",
       "    var height = Math.abs(y1 - y0);\n",
       "\n",
       "    fig.rubberband_context.clearRect(\n",
       "        0, 0, fig.canvas.width, fig.canvas.height);\n",
       "\n",
       "    fig.rubberband_context.strokeRect(min_x, min_y, width, height);\n",
       "}\n",
       "\n",
       "mpl.figure.prototype.handle_figure_label = function(fig, msg) {\n",
       "    // Updates the figure title.\n",
       "    fig.header.textContent = msg['label'];\n",
       "}\n",
       "\n",
       "mpl.figure.prototype.handle_cursor = function(fig, msg) {\n",
       "    var cursor = msg['cursor'];\n",
       "    switch(cursor)\n",
       "    {\n",
       "    case 0:\n",
       "        cursor = 'pointer';\n",
       "        break;\n",
       "    case 1:\n",
       "        cursor = 'default';\n",
       "        break;\n",
       "    case 2:\n",
       "        cursor = 'crosshair';\n",
       "        break;\n",
       "    case 3:\n",
       "        cursor = 'move';\n",
       "        break;\n",
       "    }\n",
       "    fig.rubberband_canvas.style.cursor = cursor;\n",
       "}\n",
       "\n",
       "mpl.figure.prototype.handle_message = function(fig, msg) {\n",
       "    fig.message.textContent = msg['message'];\n",
       "}\n",
       "\n",
       "mpl.figure.prototype.handle_draw = function(fig, msg) {\n",
       "    // Request the server to send over a new figure.\n",
       "    fig.send_draw_message();\n",
       "}\n",
       "\n",
       "mpl.figure.prototype.handle_image_mode = function(fig, msg) {\n",
       "    fig.image_mode = msg['mode'];\n",
       "}\n",
       "\n",
       "mpl.figure.prototype.updated_canvas_event = function() {\n",
       "    // Called whenever the canvas gets updated.\n",
       "    this.send_message(\"ack\", {});\n",
       "}\n",
       "\n",
       "// A function to construct a web socket function for onmessage handling.\n",
       "// Called in the figure constructor.\n",
       "mpl.figure.prototype._make_on_message_function = function(fig) {\n",
       "    return function socket_on_message(evt) {\n",
       "        if (evt.data instanceof Blob) {\n",
       "            /* FIXME: We get \"Resource interpreted as Image but\n",
       "             * transferred with MIME type text/plain:\" errors on\n",
       "             * Chrome.  But how to set the MIME type?  It doesn't seem\n",
       "             * to be part of the websocket stream */\n",
       "            evt.data.type = \"image/png\";\n",
       "\n",
       "            /* Free the memory for the previous frames */\n",
       "            if (fig.imageObj.src) {\n",
       "                (window.URL || window.webkitURL).revokeObjectURL(\n",
       "                    fig.imageObj.src);\n",
       "            }\n",
       "\n",
       "            fig.imageObj.src = (window.URL || window.webkitURL).createObjectURL(\n",
       "                evt.data);\n",
       "            fig.updated_canvas_event();\n",
       "            fig.waiting = false;\n",
       "            return;\n",
       "        }\n",
       "        else if (typeof evt.data === 'string' && evt.data.slice(0, 21) == \"data:image/png;base64\") {\n",
       "            fig.imageObj.src = evt.data;\n",
       "            fig.updated_canvas_event();\n",
       "            fig.waiting = false;\n",
       "            return;\n",
       "        }\n",
       "\n",
       "        var msg = JSON.parse(evt.data);\n",
       "        var msg_type = msg['type'];\n",
       "\n",
       "        // Call the  \"handle_{type}\" callback, which takes\n",
       "        // the figure and JSON message as its only arguments.\n",
       "        try {\n",
       "            var callback = fig[\"handle_\" + msg_type];\n",
       "        } catch (e) {\n",
       "            console.log(\"No handler for the '\" + msg_type + \"' message type: \", msg);\n",
       "            return;\n",
       "        }\n",
       "\n",
       "        if (callback) {\n",
       "            try {\n",
       "                // console.log(\"Handling '\" + msg_type + \"' message: \", msg);\n",
       "                callback(fig, msg);\n",
       "            } catch (e) {\n",
       "                console.log(\"Exception inside the 'handler_\" + msg_type + \"' callback:\", e, e.stack, msg);\n",
       "            }\n",
       "        }\n",
       "    };\n",
       "}\n",
       "\n",
       "// from http://stackoverflow.com/questions/1114465/getting-mouse-location-in-canvas\n",
       "mpl.findpos = function(e) {\n",
       "    //this section is from http://www.quirksmode.org/js/events_properties.html\n",
       "    var targ;\n",
       "    if (!e)\n",
       "        e = window.event;\n",
       "    if (e.target)\n",
       "        targ = e.target;\n",
       "    else if (e.srcElement)\n",
       "        targ = e.srcElement;\n",
       "    if (targ.nodeType == 3) // defeat Safari bug\n",
       "        targ = targ.parentNode;\n",
       "\n",
       "    // jQuery normalizes the pageX and pageY\n",
       "    // pageX,Y are the mouse positions relative to the document\n",
       "    // offset() returns the position of the element relative to the document\n",
       "    var x = e.pageX - $(targ).offset().left;\n",
       "    var y = e.pageY - $(targ).offset().top;\n",
       "\n",
       "    return {\"x\": x, \"y\": y};\n",
       "};\n",
       "\n",
       "/*\n",
       " * return a copy of an object with only non-object keys\n",
       " * we need this to avoid circular references\n",
       " * http://stackoverflow.com/a/24161582/3208463\n",
       " */\n",
       "function simpleKeys (original) {\n",
       "  return Object.keys(original).reduce(function (obj, key) {\n",
       "    if (typeof original[key] !== 'object')\n",
       "        obj[key] = original[key]\n",
       "    return obj;\n",
       "  }, {});\n",
       "}\n",
       "\n",
       "mpl.figure.prototype.mouse_event = function(event, name) {\n",
       "    var canvas_pos = mpl.findpos(event)\n",
       "\n",
       "    if (name === 'button_press')\n",
       "    {\n",
       "        this.canvas.focus();\n",
       "        this.canvas_div.focus();\n",
       "    }\n",
       "\n",
       "    var x = canvas_pos.x;\n",
       "    var y = canvas_pos.y;\n",
       "\n",
       "    this.send_message(name, {x: x, y: y, button: event.button,\n",
       "                             step: event.step,\n",
       "                             guiEvent: simpleKeys(event)});\n",
       "\n",
       "    /* This prevents the web browser from automatically changing to\n",
       "     * the text insertion cursor when the button is pressed.  We want\n",
       "     * to control all of the cursor setting manually through the\n",
       "     * 'cursor' event from matplotlib */\n",
       "    event.preventDefault();\n",
       "    return false;\n",
       "}\n",
       "\n",
       "mpl.figure.prototype._key_event_extra = function(event, name) {\n",
       "    // Handle any extra behaviour associated with a key event\n",
       "}\n",
       "\n",
       "mpl.figure.prototype.key_event = function(event, name) {\n",
       "\n",
       "    // Prevent repeat events\n",
       "    if (name == 'key_press')\n",
       "    {\n",
       "        if (event.which === this._key)\n",
       "            return;\n",
       "        else\n",
       "            this._key = event.which;\n",
       "    }\n",
       "    if (name == 'key_release')\n",
       "        this._key = null;\n",
       "\n",
       "    var value = '';\n",
       "    if (event.ctrlKey && event.which != 17)\n",
       "        value += \"ctrl+\";\n",
       "    if (event.altKey && event.which != 18)\n",
       "        value += \"alt+\";\n",
       "    if (event.shiftKey && event.which != 16)\n",
       "        value += \"shift+\";\n",
       "\n",
       "    value += 'k';\n",
       "    value += event.which.toString();\n",
       "\n",
       "    this._key_event_extra(event, name);\n",
       "\n",
       "    this.send_message(name, {key: value,\n",
       "                             guiEvent: simpleKeys(event)});\n",
       "    return false;\n",
       "}\n",
       "\n",
       "mpl.figure.prototype.toolbar_button_onclick = function(name) {\n",
       "    if (name == 'download') {\n",
       "        this.handle_save(this, null);\n",
       "    } else {\n",
       "        this.send_message(\"toolbar_button\", {name: name});\n",
       "    }\n",
       "};\n",
       "\n",
       "mpl.figure.prototype.toolbar_button_onmouseover = function(tooltip) {\n",
       "    this.message.textContent = tooltip;\n",
       "};\n",
       "mpl.toolbar_items = [[\"Home\", \"Reset original view\", \"fa fa-home icon-home\", \"home\"], [\"Back\", \"Back to  previous view\", \"fa fa-arrow-left icon-arrow-left\", \"back\"], [\"Forward\", \"Forward to next view\", \"fa fa-arrow-right icon-arrow-right\", \"forward\"], [\"\", \"\", \"\", \"\"], [\"Pan\", \"Pan axes with left mouse, zoom with right\", \"fa fa-arrows icon-move\", \"pan\"], [\"Zoom\", \"Zoom to rectangle\", \"fa fa-square-o icon-check-empty\", \"zoom\"], [\"\", \"\", \"\", \"\"], [\"Download\", \"Download plot\", \"fa fa-floppy-o icon-save\", \"download\"]];\n",
       "\n",
       "mpl.extensions = [\"eps\", \"jpeg\", \"pdf\", \"png\", \"ps\", \"raw\", \"svg\", \"tif\"];\n",
       "\n",
       "mpl.default_extension = \"png\";var comm_websocket_adapter = function(comm) {\n",
       "    // Create a \"websocket\"-like object which calls the given IPython comm\n",
       "    // object with the appropriate methods. Currently this is a non binary\n",
       "    // socket, so there is still some room for performance tuning.\n",
       "    var ws = {};\n",
       "\n",
       "    ws.close = function() {\n",
       "        comm.close()\n",
       "    };\n",
       "    ws.send = function(m) {\n",
       "        //console.log('sending', m);\n",
       "        comm.send(m);\n",
       "    };\n",
       "    // Register the callback with on_msg.\n",
       "    comm.on_msg(function(msg) {\n",
       "        //console.log('receiving', msg['content']['data'], msg);\n",
       "        // Pass the mpl event to the overriden (by mpl) onmessage function.\n",
       "        ws.onmessage(msg['content']['data'])\n",
       "    });\n",
       "    return ws;\n",
       "}\n",
       "\n",
       "mpl.mpl_figure_comm = function(comm, msg) {\n",
       "    // This is the function which gets called when the mpl process\n",
       "    // starts-up an IPython Comm through the \"matplotlib\" channel.\n",
       "\n",
       "    var id = msg.content.data.id;\n",
       "    // Get hold of the div created by the display call when the Comm\n",
       "    // socket was opened in Python.\n",
       "    var element = $(\"#\" + id);\n",
       "    var ws_proxy = comm_websocket_adapter(comm)\n",
       "\n",
       "    function ondownload(figure, format) {\n",
       "        window.open(figure.imageObj.src);\n",
       "    }\n",
       "\n",
       "    var fig = new mpl.figure(id, ws_proxy,\n",
       "                           ondownload,\n",
       "                           element.get(0));\n",
       "\n",
       "    // Call onopen now - mpl needs it, as it is assuming we've passed it a real\n",
       "    // web socket which is closed, not our websocket->open comm proxy.\n",
       "    ws_proxy.onopen();\n",
       "\n",
       "    fig.parent_element = element.get(0);\n",
       "    fig.cell_info = mpl.find_output_cell(\"<div id='\" + id + \"'></div>\");\n",
       "    if (!fig.cell_info) {\n",
       "        console.error(\"Failed to find cell for figure\", id, fig);\n",
       "        return;\n",
       "    }\n",
       "\n",
       "    var output_index = fig.cell_info[2]\n",
       "    var cell = fig.cell_info[0];\n",
       "\n",
       "};\n",
       "\n",
       "mpl.figure.prototype.handle_close = function(fig, msg) {\n",
       "    fig.root.unbind('remove')\n",
       "\n",
       "    // Update the output cell to use the data from the current canvas.\n",
       "    fig.push_to_output();\n",
       "    var dataURL = fig.canvas.toDataURL();\n",
       "    // Re-enable the keyboard manager in IPython - without this line, in FF,\n",
       "    // the notebook keyboard shortcuts fail.\n",
       "    IPython.keyboard_manager.enable()\n",
       "    $(fig.parent_element).html('<img src=\"' + dataURL + '\">');\n",
       "    fig.close_ws(fig, msg);\n",
       "}\n",
       "\n",
       "mpl.figure.prototype.close_ws = function(fig, msg){\n",
       "    fig.send_message('closing', msg);\n",
       "    // fig.ws.close()\n",
       "}\n",
       "\n",
       "mpl.figure.prototype.push_to_output = function(remove_interactive) {\n",
       "    // Turn the data on the canvas into data in the output cell.\n",
       "    var dataURL = this.canvas.toDataURL();\n",
       "    this.cell_info[1]['text/html'] = '<img src=\"' + dataURL + '\">';\n",
       "}\n",
       "\n",
       "mpl.figure.prototype.updated_canvas_event = function() {\n",
       "    // Tell IPython that the notebook contents must change.\n",
       "    IPython.notebook.set_dirty(true);\n",
       "    this.send_message(\"ack\", {});\n",
       "    var fig = this;\n",
       "    // Wait a second, then push the new image to the DOM so\n",
       "    // that it is saved nicely (might be nice to debounce this).\n",
       "    setTimeout(function () { fig.push_to_output() }, 1000);\n",
       "}\n",
       "\n",
       "mpl.figure.prototype._init_toolbar = function() {\n",
       "    var fig = this;\n",
       "\n",
       "    var nav_element = $('<div/>')\n",
       "    nav_element.attr('style', 'width: 100%');\n",
       "    this.root.append(nav_element);\n",
       "\n",
       "    // Define a callback function for later on.\n",
       "    function toolbar_event(event) {\n",
       "        return fig.toolbar_button_onclick(event['data']);\n",
       "    }\n",
       "    function toolbar_mouse_event(event) {\n",
       "        return fig.toolbar_button_onmouseover(event['data']);\n",
       "    }\n",
       "\n",
       "    for(var toolbar_ind in mpl.toolbar_items){\n",
       "        var name = mpl.toolbar_items[toolbar_ind][0];\n",
       "        var tooltip = mpl.toolbar_items[toolbar_ind][1];\n",
       "        var image = mpl.toolbar_items[toolbar_ind][2];\n",
       "        var method_name = mpl.toolbar_items[toolbar_ind][3];\n",
       "\n",
       "        if (!name) { continue; };\n",
       "\n",
       "        var button = $('<button class=\"btn btn-default\" href=\"#\" title=\"' + name + '\"><i class=\"fa ' + image + ' fa-lg\"></i></button>');\n",
       "        button.click(method_name, toolbar_event);\n",
       "        button.mouseover(tooltip, toolbar_mouse_event);\n",
       "        nav_element.append(button);\n",
       "    }\n",
       "\n",
       "    // Add the status bar.\n",
       "    var status_bar = $('<span class=\"mpl-message\" style=\"text-align:right; float: right;\"/>');\n",
       "    nav_element.append(status_bar);\n",
       "    this.message = status_bar[0];\n",
       "\n",
       "    // Add the close button to the window.\n",
       "    var buttongrp = $('<div class=\"btn-group inline pull-right\"></div>');\n",
       "    var button = $('<button class=\"btn btn-mini btn-primary\" href=\"#\" title=\"Stop Interaction\"><i class=\"fa fa-power-off icon-remove icon-large\"></i></button>');\n",
       "    button.click(function (evt) { fig.handle_close(fig, {}); } );\n",
       "    button.mouseover('Stop Interaction', toolbar_mouse_event);\n",
       "    buttongrp.append(button);\n",
       "    var titlebar = this.root.find($('.ui-dialog-titlebar'));\n",
       "    titlebar.prepend(buttongrp);\n",
       "}\n",
       "\n",
       "mpl.figure.prototype._root_extra_style = function(el){\n",
       "    var fig = this\n",
       "    el.on(\"remove\", function(){\n",
       "\tfig.close_ws(fig, {});\n",
       "    });\n",
       "}\n",
       "\n",
       "mpl.figure.prototype._canvas_extra_style = function(el){\n",
       "    // this is important to make the div 'focusable\n",
       "    el.attr('tabindex', 0)\n",
       "    // reach out to IPython and tell the keyboard manager to turn it's self\n",
       "    // off when our div gets focus\n",
       "\n",
       "    // location in version 3\n",
       "    if (IPython.notebook.keyboard_manager) {\n",
       "        IPython.notebook.keyboard_manager.register_events(el);\n",
       "    }\n",
       "    else {\n",
       "        // location in version 2\n",
       "        IPython.keyboard_manager.register_events(el);\n",
       "    }\n",
       "\n",
       "}\n",
       "\n",
       "mpl.figure.prototype._key_event_extra = function(event, name) {\n",
       "    var manager = IPython.notebook.keyboard_manager;\n",
       "    if (!manager)\n",
       "        manager = IPython.keyboard_manager;\n",
       "\n",
       "    // Check for shift+enter\n",
       "    if (event.shiftKey && event.which == 13) {\n",
       "        this.canvas_div.blur();\n",
       "        // select the cell after this one\n",
       "        var index = IPython.notebook.find_cell_index(this.cell_info[0]);\n",
       "        IPython.notebook.select(index + 1);\n",
       "    }\n",
       "}\n",
       "\n",
       "mpl.figure.prototype.handle_save = function(fig, msg) {\n",
       "    fig.ondownload(fig, null);\n",
       "}\n",
       "\n",
       "\n",
       "mpl.find_output_cell = function(html_output) {\n",
       "    // Return the cell and output element which can be found *uniquely* in the notebook.\n",
       "    // Note - this is a bit hacky, but it is done because the \"notebook_saving.Notebook\"\n",
       "    // IPython event is triggered only after the cells have been serialised, which for\n",
       "    // our purposes (turning an active figure into a static one), is too late.\n",
       "    var cells = IPython.notebook.get_cells();\n",
       "    var ncells = cells.length;\n",
       "    for (var i=0; i<ncells; i++) {\n",
       "        var cell = cells[i];\n",
       "        if (cell.cell_type === 'code'){\n",
       "            for (var j=0; j<cell.output_area.outputs.length; j++) {\n",
       "                var data = cell.output_area.outputs[j];\n",
       "                if (data.data) {\n",
       "                    // IPython >= 3 moved mimebundle to data attribute of output\n",
       "                    data = data.data;\n",
       "                }\n",
       "                if (data['text/html'] == html_output) {\n",
       "                    return [cell, data, j];\n",
       "                }\n",
       "            }\n",
       "        }\n",
       "    }\n",
       "}\n",
       "\n",
       "// Register the function which deals with the matplotlib target/channel.\n",
       "// The kernel may be null if the page has been refreshed.\n",
       "if (IPython.notebook.kernel != null) {\n",
       "    IPython.notebook.kernel.comm_manager.register_target('matplotlib', mpl.mpl_figure_comm);\n",
       "}\n"
      ],
      "text/plain": [
       "<IPython.core.display.Javascript object>"
      ]
     },
     "metadata": {},
     "output_type": "display_data"
    },
    {
     "data": {
      "text/html": [
       "<img src=\"data:image/png;base64,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\">"
      ],
      "text/plain": [
       "<IPython.core.display.HTML object>"
      ]
     },
     "metadata": {},
     "output_type": "display_data"
    }
   ],
   "source": [
    "fig = plt.figure()\n",
    "ax = fig.add_subplot(111, projection='3d')\n",
    "x = np.random.randn(30)\n",
    "y = np.random.randn(30)\n",
    "z = 10*np.random.randn(30)\n",
    "ax.scatter(x, y, z, marker = '.')\n",
    "plt.show()"
   ]
  },
  {
   "cell_type": "markdown",
   "metadata": {
    "slideshow": {
     "slide_type": "subslide"
    }
   },
   "source": [
    "** 3D Surface **"
   ]
  },
  {
   "cell_type": "code",
   "execution_count": 87,
   "metadata": {
    "collapsed": true,
    "slideshow": {
     "slide_type": "fragment"
    }
   },
   "outputs": [],
   "source": [
    "from matplotlib import cm"
   ]
  },
  {
   "cell_type": "code",
   "execution_count": 88,
   "metadata": {
    "slideshow": {
     "slide_type": "subslide"
    }
   },
   "outputs": [
    {
     "data": {
      "application/javascript": [
       "/* Put everything inside the global mpl namespace */\n",
       "window.mpl = {};\n",
       "\n",
       "mpl.get_websocket_type = function() {\n",
       "    if (typeof(WebSocket) !== 'undefined') {\n",
       "        return WebSocket;\n",
       "    } else if (typeof(MozWebSocket) !== 'undefined') {\n",
       "        return MozWebSocket;\n",
       "    } else {\n",
       "        alert('Your browser does not have WebSocket support.' +\n",
       "              'Please try Chrome, Safari or Firefox ≥ 6. ' +\n",
       "              'Firefox 4 and 5 are also supported but you ' +\n",
       "              'have to enable WebSockets in about:config.');\n",
       "    };\n",
       "}\n",
       "\n",
       "mpl.figure = function(figure_id, websocket, ondownload, parent_element) {\n",
       "    this.id = figure_id;\n",
       "\n",
       "    this.ws = websocket;\n",
       "\n",
       "    this.supports_binary = (this.ws.binaryType != undefined);\n",
       "\n",
       "    if (!this.supports_binary) {\n",
       "        var warnings = document.getElementById(\"mpl-warnings\");\n",
       "        if (warnings) {\n",
       "            warnings.style.display = 'block';\n",
       "            warnings.textContent = (\n",
       "                \"This browser does not support binary websocket messages. \" +\n",
       "                    \"Performance may be slow.\");\n",
       "        }\n",
       "    }\n",
       "\n",
       "    this.imageObj = new Image();\n",
       "\n",
       "    this.context = undefined;\n",
       "    this.message = undefined;\n",
       "    this.canvas = undefined;\n",
       "    this.rubberband_canvas = undefined;\n",
       "    this.rubberband_context = undefined;\n",
       "    this.format_dropdown = undefined;\n",
       "\n",
       "    this.image_mode = 'full';\n",
       "\n",
       "    this.root = $('<div/>');\n",
       "    this._root_extra_style(this.root)\n",
       "    this.root.attr('style', 'display: inline-block');\n",
       "\n",
       "    $(parent_element).append(this.root);\n",
       "\n",
       "    this._init_header(this);\n",
       "    this._init_canvas(this);\n",
       "    this._init_toolbar(this);\n",
       "\n",
       "    var fig = this;\n",
       "\n",
       "    this.waiting = false;\n",
       "\n",
       "    this.ws.onopen =  function () {\n",
       "            fig.send_message(\"supports_binary\", {value: fig.supports_binary});\n",
       "            fig.send_message(\"send_image_mode\", {});\n",
       "            fig.send_message(\"refresh\", {});\n",
       "        }\n",
       "\n",
       "    this.imageObj.onload = function() {\n",
       "            if (fig.image_mode == 'full') {\n",
       "                // Full images could contain transparency (where diff images\n",
       "                // almost always do), so we need to clear the canvas so that\n",
       "                // there is no ghosting.\n",
       "                fig.context.clearRect(0, 0, fig.canvas.width, fig.canvas.height);\n",
       "            }\n",
       "            fig.context.drawImage(fig.imageObj, 0, 0);\n",
       "        };\n",
       "\n",
       "    this.imageObj.onunload = function() {\n",
       "        this.ws.close();\n",
       "    }\n",
       "\n",
       "    this.ws.onmessage = this._make_on_message_function(this);\n",
       "\n",
       "    this.ondownload = ondownload;\n",
       "}\n",
       "\n",
       "mpl.figure.prototype._init_header = function() {\n",
       "    var titlebar = $(\n",
       "        '<div class=\"ui-dialog-titlebar ui-widget-header ui-corner-all ' +\n",
       "        'ui-helper-clearfix\"/>');\n",
       "    var titletext = $(\n",
       "        '<div class=\"ui-dialog-title\" style=\"width: 100%; ' +\n",
       "        'text-align: center; padding: 3px;\"/>');\n",
       "    titlebar.append(titletext)\n",
       "    this.root.append(titlebar);\n",
       "    this.header = titletext[0];\n",
       "}\n",
       "\n",
       "\n",
       "\n",
       "mpl.figure.prototype._canvas_extra_style = function(canvas_div) {\n",
       "\n",
       "}\n",
       "\n",
       "\n",
       "mpl.figure.prototype._root_extra_style = function(canvas_div) {\n",
       "\n",
       "}\n",
       "\n",
       "mpl.figure.prototype._init_canvas = function() {\n",
       "    var fig = this;\n",
       "\n",
       "    var canvas_div = $('<div/>');\n",
       "\n",
       "    canvas_div.attr('style', 'position: relative; clear: both; outline: 0');\n",
       "\n",
       "    function canvas_keyboard_event(event) {\n",
       "        return fig.key_event(event, event['data']);\n",
       "    }\n",
       "\n",
       "    canvas_div.keydown('key_press', canvas_keyboard_event);\n",
       "    canvas_div.keyup('key_release', canvas_keyboard_event);\n",
       "    this.canvas_div = canvas_div\n",
       "    this._canvas_extra_style(canvas_div)\n",
       "    this.root.append(canvas_div);\n",
       "\n",
       "    var canvas = $('<canvas/>');\n",
       "    canvas.addClass('mpl-canvas');\n",
       "    canvas.attr('style', \"left: 0; top: 0; z-index: 0; outline: 0\")\n",
       "\n",
       "    this.canvas = canvas[0];\n",
       "    this.context = canvas[0].getContext(\"2d\");\n",
       "\n",
       "    var rubberband = $('<canvas/>');\n",
       "    rubberband.attr('style', \"position: absolute; left: 0; top: 0; z-index: 1;\")\n",
       "\n",
       "    var pass_mouse_events = true;\n",
       "\n",
       "    canvas_div.resizable({\n",
       "        start: function(event, ui) {\n",
       "            pass_mouse_events = false;\n",
       "        },\n",
       "        resize: function(event, ui) {\n",
       "            fig.request_resize(ui.size.width, ui.size.height);\n",
       "        },\n",
       "        stop: function(event, ui) {\n",
       "            pass_mouse_events = true;\n",
       "            fig.request_resize(ui.size.width, ui.size.height);\n",
       "        },\n",
       "    });\n",
       "\n",
       "    function mouse_event_fn(event) {\n",
       "        if (pass_mouse_events)\n",
       "            return fig.mouse_event(event, event['data']);\n",
       "    }\n",
       "\n",
       "    rubberband.mousedown('button_press', mouse_event_fn);\n",
       "    rubberband.mouseup('button_release', mouse_event_fn);\n",
       "    // Throttle sequential mouse events to 1 every 20ms.\n",
       "    rubberband.mousemove('motion_notify', mouse_event_fn);\n",
       "\n",
       "    rubberband.mouseenter('figure_enter', mouse_event_fn);\n",
       "    rubberband.mouseleave('figure_leave', mouse_event_fn);\n",
       "\n",
       "    canvas_div.on(\"wheel\", function (event) {\n",
       "        event = event.originalEvent;\n",
       "        event['data'] = 'scroll'\n",
       "        if (event.deltaY < 0) {\n",
       "            event.step = 1;\n",
       "        } else {\n",
       "            event.step = -1;\n",
       "        }\n",
       "        mouse_event_fn(event);\n",
       "    });\n",
       "\n",
       "    canvas_div.append(canvas);\n",
       "    canvas_div.append(rubberband);\n",
       "\n",
       "    this.rubberband = rubberband;\n",
       "    this.rubberband_canvas = rubberband[0];\n",
       "    this.rubberband_context = rubberband[0].getContext(\"2d\");\n",
       "    this.rubberband_context.strokeStyle = \"#000000\";\n",
       "\n",
       "    this._resize_canvas = function(width, height) {\n",
       "        // Keep the size of the canvas, canvas container, and rubber band\n",
       "        // canvas in synch.\n",
       "        canvas_div.css('width', width)\n",
       "        canvas_div.css('height', height)\n",
       "\n",
       "        canvas.attr('width', width);\n",
       "        canvas.attr('height', height);\n",
       "\n",
       "        rubberband.attr('width', width);\n",
       "        rubberband.attr('height', height);\n",
       "    }\n",
       "\n",
       "    // Set the figure to an initial 600x600px, this will subsequently be updated\n",
       "    // upon first draw.\n",
       "    this._resize_canvas(600, 600);\n",
       "\n",
       "    // Disable right mouse context menu.\n",
       "    $(this.rubberband_canvas).bind(\"contextmenu\",function(e){\n",
       "        return false;\n",
       "    });\n",
       "\n",
       "    function set_focus () {\n",
       "        canvas.focus();\n",
       "        canvas_div.focus();\n",
       "    }\n",
       "\n",
       "    window.setTimeout(set_focus, 100);\n",
       "}\n",
       "\n",
       "mpl.figure.prototype._init_toolbar = function() {\n",
       "    var fig = this;\n",
       "\n",
       "    var nav_element = $('<div/>')\n",
       "    nav_element.attr('style', 'width: 100%');\n",
       "    this.root.append(nav_element);\n",
       "\n",
       "    // Define a callback function for later on.\n",
       "    function toolbar_event(event) {\n",
       "        return fig.toolbar_button_onclick(event['data']);\n",
       "    }\n",
       "    function toolbar_mouse_event(event) {\n",
       "        return fig.toolbar_button_onmouseover(event['data']);\n",
       "    }\n",
       "\n",
       "    for(var toolbar_ind in mpl.toolbar_items) {\n",
       "        var name = mpl.toolbar_items[toolbar_ind][0];\n",
       "        var tooltip = mpl.toolbar_items[toolbar_ind][1];\n",
       "        var image = mpl.toolbar_items[toolbar_ind][2];\n",
       "        var method_name = mpl.toolbar_items[toolbar_ind][3];\n",
       "\n",
       "        if (!name) {\n",
       "            // put a spacer in here.\n",
       "            continue;\n",
       "        }\n",
       "        var button = $('<button/>');\n",
       "        button.addClass('ui-button ui-widget ui-state-default ui-corner-all ' +\n",
       "                        'ui-button-icon-only');\n",
       "        button.attr('role', 'button');\n",
       "        button.attr('aria-disabled', 'false');\n",
       "        button.click(method_name, toolbar_event);\n",
       "        button.mouseover(tooltip, toolbar_mouse_event);\n",
       "\n",
       "        var icon_img = $('<span/>');\n",
       "        icon_img.addClass('ui-button-icon-primary ui-icon');\n",
       "        icon_img.addClass(image);\n",
       "        icon_img.addClass('ui-corner-all');\n",
       "\n",
       "        var tooltip_span = $('<span/>');\n",
       "        tooltip_span.addClass('ui-button-text');\n",
       "        tooltip_span.html(tooltip);\n",
       "\n",
       "        button.append(icon_img);\n",
       "        button.append(tooltip_span);\n",
       "\n",
       "        nav_element.append(button);\n",
       "    }\n",
       "\n",
       "    var fmt_picker_span = $('<span/>');\n",
       "\n",
       "    var fmt_picker = $('<select/>');\n",
       "    fmt_picker.addClass('mpl-toolbar-option ui-widget ui-widget-content');\n",
       "    fmt_picker_span.append(fmt_picker);\n",
       "    nav_element.append(fmt_picker_span);\n",
       "    this.format_dropdown = fmt_picker[0];\n",
       "\n",
       "    for (var ind in mpl.extensions) {\n",
       "        var fmt = mpl.extensions[ind];\n",
       "        var option = $(\n",
       "            '<option/>', {selected: fmt === mpl.default_extension}).html(fmt);\n",
       "        fmt_picker.append(option)\n",
       "    }\n",
       "\n",
       "    // Add hover states to the ui-buttons\n",
       "    $( \".ui-button\" ).hover(\n",
       "        function() { $(this).addClass(\"ui-state-hover\");},\n",
       "        function() { $(this).removeClass(\"ui-state-hover\");}\n",
       "    );\n",
       "\n",
       "    var status_bar = $('<span class=\"mpl-message\"/>');\n",
       "    nav_element.append(status_bar);\n",
       "    this.message = status_bar[0];\n",
       "}\n",
       "\n",
       "mpl.figure.prototype.request_resize = function(x_pixels, y_pixels) {\n",
       "    // Request matplotlib to resize the figure. Matplotlib will then trigger a resize in the client,\n",
       "    // which will in turn request a refresh of the image.\n",
       "    this.send_message('resize', {'width': x_pixels, 'height': y_pixels});\n",
       "}\n",
       "\n",
       "mpl.figure.prototype.send_message = function(type, properties) {\n",
       "    properties['type'] = type;\n",
       "    properties['figure_id'] = this.id;\n",
       "    this.ws.send(JSON.stringify(properties));\n",
       "}\n",
       "\n",
       "mpl.figure.prototype.send_draw_message = function() {\n",
       "    if (!this.waiting) {\n",
       "        this.waiting = true;\n",
       "        this.ws.send(JSON.stringify({type: \"draw\", figure_id: this.id}));\n",
       "    }\n",
       "}\n",
       "\n",
       "\n",
       "mpl.figure.prototype.handle_save = function(fig, msg) {\n",
       "    var format_dropdown = fig.format_dropdown;\n",
       "    var format = format_dropdown.options[format_dropdown.selectedIndex].value;\n",
       "    fig.ondownload(fig, format);\n",
       "}\n",
       "\n",
       "\n",
       "mpl.figure.prototype.handle_resize = function(fig, msg) {\n",
       "    var size = msg['size'];\n",
       "    if (size[0] != fig.canvas.width || size[1] != fig.canvas.height) {\n",
       "        fig._resize_canvas(size[0], size[1]);\n",
       "        fig.send_message(\"refresh\", {});\n",
       "    };\n",
       "}\n",
       "\n",
       "mpl.figure.prototype.handle_rubberband = function(fig, msg) {\n",
       "    var x0 = msg['x0'];\n",
       "    var y0 = fig.canvas.height - msg['y0'];\n",
       "    var x1 = msg['x1'];\n",
       "    var y1 = fig.canvas.height - msg['y1'];\n",
       "    x0 = Math.floor(x0) + 0.5;\n",
       "    y0 = Math.floor(y0) + 0.5;\n",
       "    x1 = Math.floor(x1) + 0.5;\n",
       "    y1 = Math.floor(y1) + 0.5;\n",
       "    var min_x = Math.min(x0, x1);\n",
       "    var min_y = Math.min(y0, y1);\n",
       "    var width = Math.abs(x1 - x0);\n",
       "    var height = Math.abs(y1 - y0);\n",
       "\n",
       "    fig.rubberband_context.clearRect(\n",
       "        0, 0, fig.canvas.width, fig.canvas.height);\n",
       "\n",
       "    fig.rubberband_context.strokeRect(min_x, min_y, width, height);\n",
       "}\n",
       "\n",
       "mpl.figure.prototype.handle_figure_label = function(fig, msg) {\n",
       "    // Updates the figure title.\n",
       "    fig.header.textContent = msg['label'];\n",
       "}\n",
       "\n",
       "mpl.figure.prototype.handle_cursor = function(fig, msg) {\n",
       "    var cursor = msg['cursor'];\n",
       "    switch(cursor)\n",
       "    {\n",
       "    case 0:\n",
       "        cursor = 'pointer';\n",
       "        break;\n",
       "    case 1:\n",
       "        cursor = 'default';\n",
       "        break;\n",
       "    case 2:\n",
       "        cursor = 'crosshair';\n",
       "        break;\n",
       "    case 3:\n",
       "        cursor = 'move';\n",
       "        break;\n",
       "    }\n",
       "    fig.rubberband_canvas.style.cursor = cursor;\n",
       "}\n",
       "\n",
       "mpl.figure.prototype.handle_message = function(fig, msg) {\n",
       "    fig.message.textContent = msg['message'];\n",
       "}\n",
       "\n",
       "mpl.figure.prototype.handle_draw = function(fig, msg) {\n",
       "    // Request the server to send over a new figure.\n",
       "    fig.send_draw_message();\n",
       "}\n",
       "\n",
       "mpl.figure.prototype.handle_image_mode = function(fig, msg) {\n",
       "    fig.image_mode = msg['mode'];\n",
       "}\n",
       "\n",
       "mpl.figure.prototype.updated_canvas_event = function() {\n",
       "    // Called whenever the canvas gets updated.\n",
       "    this.send_message(\"ack\", {});\n",
       "}\n",
       "\n",
       "// A function to construct a web socket function for onmessage handling.\n",
       "// Called in the figure constructor.\n",
       "mpl.figure.prototype._make_on_message_function = function(fig) {\n",
       "    return function socket_on_message(evt) {\n",
       "        if (evt.data instanceof Blob) {\n",
       "            /* FIXME: We get \"Resource interpreted as Image but\n",
       "             * transferred with MIME type text/plain:\" errors on\n",
       "             * Chrome.  But how to set the MIME type?  It doesn't seem\n",
       "             * to be part of the websocket stream */\n",
       "            evt.data.type = \"image/png\";\n",
       "\n",
       "            /* Free the memory for the previous frames */\n",
       "            if (fig.imageObj.src) {\n",
       "                (window.URL || window.webkitURL).revokeObjectURL(\n",
       "                    fig.imageObj.src);\n",
       "            }\n",
       "\n",
       "            fig.imageObj.src = (window.URL || window.webkitURL).createObjectURL(\n",
       "                evt.data);\n",
       "            fig.updated_canvas_event();\n",
       "            fig.waiting = false;\n",
       "            return;\n",
       "        }\n",
       "        else if (typeof evt.data === 'string' && evt.data.slice(0, 21) == \"data:image/png;base64\") {\n",
       "            fig.imageObj.src = evt.data;\n",
       "            fig.updated_canvas_event();\n",
       "            fig.waiting = false;\n",
       "            return;\n",
       "        }\n",
       "\n",
       "        var msg = JSON.parse(evt.data);\n",
       "        var msg_type = msg['type'];\n",
       "\n",
       "        // Call the  \"handle_{type}\" callback, which takes\n",
       "        // the figure and JSON message as its only arguments.\n",
       "        try {\n",
       "            var callback = fig[\"handle_\" + msg_type];\n",
       "        } catch (e) {\n",
       "            console.log(\"No handler for the '\" + msg_type + \"' message type: \", msg);\n",
       "            return;\n",
       "        }\n",
       "\n",
       "        if (callback) {\n",
       "            try {\n",
       "                // console.log(\"Handling '\" + msg_type + \"' message: \", msg);\n",
       "                callback(fig, msg);\n",
       "            } catch (e) {\n",
       "                console.log(\"Exception inside the 'handler_\" + msg_type + \"' callback:\", e, e.stack, msg);\n",
       "            }\n",
       "        }\n",
       "    };\n",
       "}\n",
       "\n",
       "// from http://stackoverflow.com/questions/1114465/getting-mouse-location-in-canvas\n",
       "mpl.findpos = function(e) {\n",
       "    //this section is from http://www.quirksmode.org/js/events_properties.html\n",
       "    var targ;\n",
       "    if (!e)\n",
       "        e = window.event;\n",
       "    if (e.target)\n",
       "        targ = e.target;\n",
       "    else if (e.srcElement)\n",
       "        targ = e.srcElement;\n",
       "    if (targ.nodeType == 3) // defeat Safari bug\n",
       "        targ = targ.parentNode;\n",
       "\n",
       "    // jQuery normalizes the pageX and pageY\n",
       "    // pageX,Y are the mouse positions relative to the document\n",
       "    // offset() returns the position of the element relative to the document\n",
       "    var x = e.pageX - $(targ).offset().left;\n",
       "    var y = e.pageY - $(targ).offset().top;\n",
       "\n",
       "    return {\"x\": x, \"y\": y};\n",
       "};\n",
       "\n",
       "/*\n",
       " * return a copy of an object with only non-object keys\n",
       " * we need this to avoid circular references\n",
       " * http://stackoverflow.com/a/24161582/3208463\n",
       " */\n",
       "function simpleKeys (original) {\n",
       "  return Object.keys(original).reduce(function (obj, key) {\n",
       "    if (typeof original[key] !== 'object')\n",
       "        obj[key] = original[key]\n",
       "    return obj;\n",
       "  }, {});\n",
       "}\n",
       "\n",
       "mpl.figure.prototype.mouse_event = function(event, name) {\n",
       "    var canvas_pos = mpl.findpos(event)\n",
       "\n",
       "    if (name === 'button_press')\n",
       "    {\n",
       "        this.canvas.focus();\n",
       "        this.canvas_div.focus();\n",
       "    }\n",
       "\n",
       "    var x = canvas_pos.x;\n",
       "    var y = canvas_pos.y;\n",
       "\n",
       "    this.send_message(name, {x: x, y: y, button: event.button,\n",
       "                             step: event.step,\n",
       "                             guiEvent: simpleKeys(event)});\n",
       "\n",
       "    /* This prevents the web browser from automatically changing to\n",
       "     * the text insertion cursor when the button is pressed.  We want\n",
       "     * to control all of the cursor setting manually through the\n",
       "     * 'cursor' event from matplotlib */\n",
       "    event.preventDefault();\n",
       "    return false;\n",
       "}\n",
       "\n",
       "mpl.figure.prototype._key_event_extra = function(event, name) {\n",
       "    // Handle any extra behaviour associated with a key event\n",
       "}\n",
       "\n",
       "mpl.figure.prototype.key_event = function(event, name) {\n",
       "\n",
       "    // Prevent repeat events\n",
       "    if (name == 'key_press')\n",
       "    {\n",
       "        if (event.which === this._key)\n",
       "            return;\n",
       "        else\n",
       "            this._key = event.which;\n",
       "    }\n",
       "    if (name == 'key_release')\n",
       "        this._key = null;\n",
       "\n",
       "    var value = '';\n",
       "    if (event.ctrlKey && event.which != 17)\n",
       "        value += \"ctrl+\";\n",
       "    if (event.altKey && event.which != 18)\n",
       "        value += \"alt+\";\n",
       "    if (event.shiftKey && event.which != 16)\n",
       "        value += \"shift+\";\n",
       "\n",
       "    value += 'k';\n",
       "    value += event.which.toString();\n",
       "\n",
       "    this._key_event_extra(event, name);\n",
       "\n",
       "    this.send_message(name, {key: value,\n",
       "                             guiEvent: simpleKeys(event)});\n",
       "    return false;\n",
       "}\n",
       "\n",
       "mpl.figure.prototype.toolbar_button_onclick = function(name) {\n",
       "    if (name == 'download') {\n",
       "        this.handle_save(this, null);\n",
       "    } else {\n",
       "        this.send_message(\"toolbar_button\", {name: name});\n",
       "    }\n",
       "};\n",
       "\n",
       "mpl.figure.prototype.toolbar_button_onmouseover = function(tooltip) {\n",
       "    this.message.textContent = tooltip;\n",
       "};\n",
       "mpl.toolbar_items = [[\"Home\", \"Reset original view\", \"fa fa-home icon-home\", \"home\"], [\"Back\", \"Back to  previous view\", \"fa fa-arrow-left icon-arrow-left\", \"back\"], [\"Forward\", \"Forward to next view\", \"fa fa-arrow-right icon-arrow-right\", \"forward\"], [\"\", \"\", \"\", \"\"], [\"Pan\", \"Pan axes with left mouse, zoom with right\", \"fa fa-arrows icon-move\", \"pan\"], [\"Zoom\", \"Zoom to rectangle\", \"fa fa-square-o icon-check-empty\", \"zoom\"], [\"\", \"\", \"\", \"\"], [\"Download\", \"Download plot\", \"fa fa-floppy-o icon-save\", \"download\"]];\n",
       "\n",
       "mpl.extensions = [\"eps\", \"jpeg\", \"pdf\", \"png\", \"ps\", \"raw\", \"svg\", \"tif\"];\n",
       "\n",
       "mpl.default_extension = \"png\";var comm_websocket_adapter = function(comm) {\n",
       "    // Create a \"websocket\"-like object which calls the given IPython comm\n",
       "    // object with the appropriate methods. Currently this is a non binary\n",
       "    // socket, so there is still some room for performance tuning.\n",
       "    var ws = {};\n",
       "\n",
       "    ws.close = function() {\n",
       "        comm.close()\n",
       "    };\n",
       "    ws.send = function(m) {\n",
       "        //console.log('sending', m);\n",
       "        comm.send(m);\n",
       "    };\n",
       "    // Register the callback with on_msg.\n",
       "    comm.on_msg(function(msg) {\n",
       "        //console.log('receiving', msg['content']['data'], msg);\n",
       "        // Pass the mpl event to the overriden (by mpl) onmessage function.\n",
       "        ws.onmessage(msg['content']['data'])\n",
       "    });\n",
       "    return ws;\n",
       "}\n",
       "\n",
       "mpl.mpl_figure_comm = function(comm, msg) {\n",
       "    // This is the function which gets called when the mpl process\n",
       "    // starts-up an IPython Comm through the \"matplotlib\" channel.\n",
       "\n",
       "    var id = msg.content.data.id;\n",
       "    // Get hold of the div created by the display call when the Comm\n",
       "    // socket was opened in Python.\n",
       "    var element = $(\"#\" + id);\n",
       "    var ws_proxy = comm_websocket_adapter(comm)\n",
       "\n",
       "    function ondownload(figure, format) {\n",
       "        window.open(figure.imageObj.src);\n",
       "    }\n",
       "\n",
       "    var fig = new mpl.figure(id, ws_proxy,\n",
       "                           ondownload,\n",
       "                           element.get(0));\n",
       "\n",
       "    // Call onopen now - mpl needs it, as it is assuming we've passed it a real\n",
       "    // web socket which is closed, not our websocket->open comm proxy.\n",
       "    ws_proxy.onopen();\n",
       "\n",
       "    fig.parent_element = element.get(0);\n",
       "    fig.cell_info = mpl.find_output_cell(\"<div id='\" + id + \"'></div>\");\n",
       "    if (!fig.cell_info) {\n",
       "        console.error(\"Failed to find cell for figure\", id, fig);\n",
       "        return;\n",
       "    }\n",
       "\n",
       "    var output_index = fig.cell_info[2]\n",
       "    var cell = fig.cell_info[0];\n",
       "\n",
       "};\n",
       "\n",
       "mpl.figure.prototype.handle_close = function(fig, msg) {\n",
       "    fig.root.unbind('remove')\n",
       "\n",
       "    // Update the output cell to use the data from the current canvas.\n",
       "    fig.push_to_output();\n",
       "    var dataURL = fig.canvas.toDataURL();\n",
       "    // Re-enable the keyboard manager in IPython - without this line, in FF,\n",
       "    // the notebook keyboard shortcuts fail.\n",
       "    IPython.keyboard_manager.enable()\n",
       "    $(fig.parent_element).html('<img src=\"' + dataURL + '\">');\n",
       "    fig.close_ws(fig, msg);\n",
       "}\n",
       "\n",
       "mpl.figure.prototype.close_ws = function(fig, msg){\n",
       "    fig.send_message('closing', msg);\n",
       "    // fig.ws.close()\n",
       "}\n",
       "\n",
       "mpl.figure.prototype.push_to_output = function(remove_interactive) {\n",
       "    // Turn the data on the canvas into data in the output cell.\n",
       "    var dataURL = this.canvas.toDataURL();\n",
       "    this.cell_info[1]['text/html'] = '<img src=\"' + dataURL + '\">';\n",
       "}\n",
       "\n",
       "mpl.figure.prototype.updated_canvas_event = function() {\n",
       "    // Tell IPython that the notebook contents must change.\n",
       "    IPython.notebook.set_dirty(true);\n",
       "    this.send_message(\"ack\", {});\n",
       "    var fig = this;\n",
       "    // Wait a second, then push the new image to the DOM so\n",
       "    // that it is saved nicely (might be nice to debounce this).\n",
       "    setTimeout(function () { fig.push_to_output() }, 1000);\n",
       "}\n",
       "\n",
       "mpl.figure.prototype._init_toolbar = function() {\n",
       "    var fig = this;\n",
       "\n",
       "    var nav_element = $('<div/>')\n",
       "    nav_element.attr('style', 'width: 100%');\n",
       "    this.root.append(nav_element);\n",
       "\n",
       "    // Define a callback function for later on.\n",
       "    function toolbar_event(event) {\n",
       "        return fig.toolbar_button_onclick(event['data']);\n",
       "    }\n",
       "    function toolbar_mouse_event(event) {\n",
       "        return fig.toolbar_button_onmouseover(event['data']);\n",
       "    }\n",
       "\n",
       "    for(var toolbar_ind in mpl.toolbar_items){\n",
       "        var name = mpl.toolbar_items[toolbar_ind][0];\n",
       "        var tooltip = mpl.toolbar_items[toolbar_ind][1];\n",
       "        var image = mpl.toolbar_items[toolbar_ind][2];\n",
       "        var method_name = mpl.toolbar_items[toolbar_ind][3];\n",
       "\n",
       "        if (!name) { continue; };\n",
       "\n",
       "        var button = $('<button class=\"btn btn-default\" href=\"#\" title=\"' + name + '\"><i class=\"fa ' + image + ' fa-lg\"></i></button>');\n",
       "        button.click(method_name, toolbar_event);\n",
       "        button.mouseover(tooltip, toolbar_mouse_event);\n",
       "        nav_element.append(button);\n",
       "    }\n",
       "\n",
       "    // Add the status bar.\n",
       "    var status_bar = $('<span class=\"mpl-message\" style=\"text-align:right; float: right;\"/>');\n",
       "    nav_element.append(status_bar);\n",
       "    this.message = status_bar[0];\n",
       "\n",
       "    // Add the close button to the window.\n",
       "    var buttongrp = $('<div class=\"btn-group inline pull-right\"></div>');\n",
       "    var button = $('<button class=\"btn btn-mini btn-primary\" href=\"#\" title=\"Stop Interaction\"><i class=\"fa fa-power-off icon-remove icon-large\"></i></button>');\n",
       "    button.click(function (evt) { fig.handle_close(fig, {}); } );\n",
       "    button.mouseover('Stop Interaction', toolbar_mouse_event);\n",
       "    buttongrp.append(button);\n",
       "    var titlebar = this.root.find($('.ui-dialog-titlebar'));\n",
       "    titlebar.prepend(buttongrp);\n",
       "}\n",
       "\n",
       "mpl.figure.prototype._root_extra_style = function(el){\n",
       "    var fig = this\n",
       "    el.on(\"remove\", function(){\n",
       "\tfig.close_ws(fig, {});\n",
       "    });\n",
       "}\n",
       "\n",
       "mpl.figure.prototype._canvas_extra_style = function(el){\n",
       "    // this is important to make the div 'focusable\n",
       "    el.attr('tabindex', 0)\n",
       "    // reach out to IPython and tell the keyboard manager to turn it's self\n",
       "    // off when our div gets focus\n",
       "\n",
       "    // location in version 3\n",
       "    if (IPython.notebook.keyboard_manager) {\n",
       "        IPython.notebook.keyboard_manager.register_events(el);\n",
       "    }\n",
       "    else {\n",
       "        // location in version 2\n",
       "        IPython.keyboard_manager.register_events(el);\n",
       "    }\n",
       "\n",
       "}\n",
       "\n",
       "mpl.figure.prototype._key_event_extra = function(event, name) {\n",
       "    var manager = IPython.notebook.keyboard_manager;\n",
       "    if (!manager)\n",
       "        manager = IPython.keyboard_manager;\n",
       "\n",
       "    // Check for shift+enter\n",
       "    if (event.shiftKey && event.which == 13) {\n",
       "        this.canvas_div.blur();\n",
       "        // select the cell after this one\n",
       "        var index = IPython.notebook.find_cell_index(this.cell_info[0]);\n",
       "        IPython.notebook.select(index + 1);\n",
       "    }\n",
       "}\n",
       "\n",
       "mpl.figure.prototype.handle_save = function(fig, msg) {\n",
       "    fig.ondownload(fig, null);\n",
       "}\n",
       "\n",
       "\n",
       "mpl.find_output_cell = function(html_output) {\n",
       "    // Return the cell and output element which can be found *uniquely* in the notebook.\n",
       "    // Note - this is a bit hacky, but it is done because the \"notebook_saving.Notebook\"\n",
       "    // IPython event is triggered only after the cells have been serialised, which for\n",
       "    // our purposes (turning an active figure into a static one), is too late.\n",
       "    var cells = IPython.notebook.get_cells();\n",
       "    var ncells = cells.length;\n",
       "    for (var i=0; i<ncells; i++) {\n",
       "        var cell = cells[i];\n",
       "        if (cell.cell_type === 'code'){\n",
       "            for (var j=0; j<cell.output_area.outputs.length; j++) {\n",
       "                var data = cell.output_area.outputs[j];\n",
       "                if (data.data) {\n",
       "                    // IPython >= 3 moved mimebundle to data attribute of output\n",
       "                    data = data.data;\n",
       "                }\n",
       "                if (data['text/html'] == html_output) {\n",
       "                    return [cell, data, j];\n",
       "                }\n",
       "            }\n",
       "        }\n",
       "    }\n",
       "}\n",
       "\n",
       "// Register the function which deals with the matplotlib target/channel.\n",
       "// The kernel may be null if the page has been refreshed.\n",
       "if (IPython.notebook.kernel != null) {\n",
       "    IPython.notebook.kernel.comm_manager.register_target('matplotlib', mpl.mpl_figure_comm);\n",
       "}\n"
      ],
      "text/plain": [
       "<IPython.core.display.Javascript object>"
      ]
     },
     "metadata": {},
     "output_type": "display_data"
    },
    {
     "data": {
      "text/html": [
       "<img src=\"data:image/png;base64,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\">"
      ],
      "text/plain": [
       "<IPython.core.display.HTML object>"
      ]
     },
     "metadata": {},
     "output_type": "display_data"
    }
   ],
   "source": [
    "fig = plt.figure()\n",
    "ax = fig.gca(projection='3d')\n",
    "x = np.arange(-5, 5, 0.1)\n",
    "y = np.arange(-5, 5, 0.1)\n",
    "x, y = np.meshgrid(x, y)\n",
    "r = np.sqrt(x**2 + y**2)\n",
    "z = np.sin(r)/r\n",
    "surf = ax.plot_surface(x, y, z, linewidth=0, cmap=cm.coolwarm)\n",
    "fig.colorbar(surf, shrink=0.5, aspect=5)\n",
    "plt.show()"
   ]
  },
  {
   "cell_type": "markdown",
   "metadata": {
    "slideshow": {
     "slide_type": "slide"
    }
   },
   "source": [
    "## Useful Resources\n",
    "\n",
    "* [Python Packages Binaries for Windows](https://www.lfd.uci.edu/~gohlke/pythonlibs/)\n",
    "* [Data-science-notebooks](https://github.com/donnemartin/data-science-ipython-notebooks#deep-learning)"
   ]
  },
  {
   "cell_type": "markdown",
   "metadata": {
    "slideshow": {
     "slide_type": "slide"
    }
   },
   "source": [
    "# END"
   ]
  }
 ],
 "metadata": {
  "kernelspec": {
   "display_name": "Python 3",
   "language": "python",
   "name": "python3"
  },
  "language_info": {
   "codemirror_mode": {
    "name": "ipython",
    "version": 3
   },
   "file_extension": ".py",
   "mimetype": "text/x-python",
   "name": "python",
   "nbconvert_exporter": "python",
   "pygments_lexer": "ipython3",
   "version": "3.5.2"
  }
 },
 "nbformat": 4,
 "nbformat_minor": 2
}
