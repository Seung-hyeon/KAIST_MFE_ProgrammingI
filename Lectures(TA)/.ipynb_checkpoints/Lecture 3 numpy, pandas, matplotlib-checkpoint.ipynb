{
 "cells": [
  {
   "cell_type": "markdown",
   "metadata": {
    "slideshow": {
     "slide_type": "slide"
    }
   },
   "source": [
    "# Lecture 3. numpy, pandas, matplotlib\n",
    "\n",
    "<center>\n",
    "<img src=\"https://camo.githubusercontent.com/2eb0e1096ba504bf9e1446db83a6d1753c3af994/68747470733a2f2f6b6f7a696b6f772e66696c65732e776f726470726573732e636f6d2f323031362f30372f73637265656e73686f74312e706e673f773d31313430\" alt=\"Drawing\" style=\"width: 700px;\"/>\n",
    "</center>\n",
    "\n",
    "<font color='orange'>\n",
    "Seunghyeon Yu\n",
    "</font>"
   ]
  },
  {
   "cell_type": "markdown",
   "metadata": {
    "slideshow": {
     "slide_type": "slide"
    }
   },
   "source": [
    "# Overview\n",
    "\n",
    "* intro\n",
    "* numpy\n",
    "* pandas\n",
    "* matplotlib"
   ]
  },
  {
   "cell_type": "markdown",
   "metadata": {
    "slideshow": {
     "slide_type": "subslide"
    }
   },
   "source": [
    "## Why we use packages?\n",
    "> \"Stand on the shoulders of giants\"\n",
    "> -Issac Newton\n",
    "\n",
    "* Time Saving\n",
    "* Stability (by many open source contributors, [GitHub](https://github.com/))\n",
    "* Nice Documentations ([Read the Docs](https://readthedocs.org/))\n",
    "* Have Fun!"
   ]
  },
  {
   "cell_type": "markdown",
   "metadata": {
    "slideshow": {
     "slide_type": "subslide"
    }
   },
   "source": [
    "## Package Dependencies\n",
    "\n",
    "<center>\n",
    "<img src=\"https://qph.ec.quoracdn.net/main-qimg-fad2e6702b134e3853707daa53214314\" alt=\"Drawing\" style=\"width: 600px;\"/>"
   ]
  },
  {
   "cell_type": "markdown",
   "metadata": {
    "slideshow": {
     "slide_type": "subslide"
    }
   },
   "source": [
    "## Package Structure\n",
    "```\n",
    "game/\n",
    "    __init__.py\n",
    "    sound/\n",
    "        __init__.py\n",
    "        echo.py\n",
    "        wav.py\n",
    "    graphic/\n",
    "        __init__.py\n",
    "        screen.py\n",
    "        render.py\n",
    "    play/\n",
    "        __init__.py\n",
    "        run.py\n",
    "        test.py\n",
    "```\n",
    "* `__init__.py` : Required to make the directories as pakcages."
   ]
  },
  {
   "cell_type": "markdown",
   "metadata": {
    "collapsed": true,
    "slideshow": {
     "slide_type": "slide"
    }
   },
   "source": [
    "# NumPy\n",
    "\n",
    "<center>\n",
    "<img src=\"https://www.kdnuggets.com/wp-content/uploads/numpy-logo.jpg\" alt=\"Drawing\" style=\"width: 300px;\"/>\n",
    "</center>\n",
    "\n",
    "* Similar to Matlab\n",
    "* N-dimensional object\n",
    "* Mathematical functions\n",
    "* Fast calculation \n",
    "* Linear algebra, Fourier transform, random number generation, Einstein summation ..."
   ]
  },
  {
   "cell_type": "code",
   "execution_count": 112,
   "metadata": {
    "collapsed": true,
    "slideshow": {
     "slide_type": "subslide"
    }
   },
   "outputs": [],
   "source": [
    "import numpy as np"
   ]
  },
  {
   "cell_type": "markdown",
   "metadata": {
    "slideshow": {
     "slide_type": "subslide"
    }
   },
   "source": [
    "### Arrays\n",
    "**1D Array **"
   ]
  },
  {
   "cell_type": "code",
   "execution_count": 113,
   "metadata": {
    "slideshow": {
     "slide_type": "fragment"
    }
   },
   "outputs": [
    {
     "data": {
      "text/plain": [
       "(4,)"
      ]
     },
     "execution_count": 113,
     "metadata": {},
     "output_type": "execute_result"
    }
   ],
   "source": [
    "x = np.array([1, 2, 3, 4])\n",
    "x.shape"
   ]
  },
  {
   "cell_type": "code",
   "execution_count": 114,
   "metadata": {
    "slideshow": {
     "slide_type": "fragment"
    }
   },
   "outputs": [
    {
     "data": {
      "text/plain": [
       "array([1., 2., 3., 4.])"
      ]
     },
     "execution_count": 114,
     "metadata": {},
     "output_type": "execute_result"
    }
   ],
   "source": [
    "x = np.array([1, 2, 3, 4], dtype=np.float64)  # datatype to float64\n",
    "x"
   ]
  },
  {
   "cell_type": "markdown",
   "metadata": {
    "slideshow": {
     "slide_type": "subslide"
    }
   },
   "source": [
    "**2D Array**"
   ]
  },
  {
   "cell_type": "code",
   "execution_count": 115,
   "metadata": {
    "slideshow": {
     "slide_type": "fragment"
    }
   },
   "outputs": [
    {
     "data": {
      "text/plain": [
       "(2, 3)"
      ]
     },
     "execution_count": 115,
     "metadata": {},
     "output_type": "execute_result"
    }
   ],
   "source": [
    "X = np.array([[1,2,3],\n",
    "              [4,5,6]])\n",
    "X.shape"
   ]
  },
  {
   "cell_type": "markdown",
   "metadata": {
    "slideshow": {
     "slide_type": "subslide"
    }
   },
   "source": [
    "**reshape**"
   ]
  },
  {
   "cell_type": "code",
   "execution_count": 116,
   "metadata": {
    "slideshow": {
     "slide_type": "fragment"
    }
   },
   "outputs": [
    {
     "data": {
      "text/plain": [
       "array([1, 2, 3, 4, 5, 6])"
      ]
     },
     "execution_count": 116,
     "metadata": {},
     "output_type": "execute_result"
    }
   ],
   "source": [
    "X.reshape(6)"
   ]
  },
  {
   "cell_type": "code",
   "execution_count": 117,
   "metadata": {
    "slideshow": {
     "slide_type": "fragment"
    }
   },
   "outputs": [
    {
     "data": {
      "text/plain": [
       "array([[1],\n",
       "       [2],\n",
       "       [3],\n",
       "       [4],\n",
       "       [5],\n",
       "       [6]])"
      ]
     },
     "execution_count": 117,
     "metadata": {},
     "output_type": "execute_result"
    }
   ],
   "source": [
    "X.reshape(6,1)"
   ]
  },
  {
   "cell_type": "code",
   "execution_count": 119,
   "metadata": {
    "slideshow": {
     "slide_type": "subslide"
    }
   },
   "outputs": [
    {
     "data": {
      "text/plain": [
       "array([[1, 2, 3, 4, 5, 6]])"
      ]
     },
     "execution_count": 119,
     "metadata": {},
     "output_type": "execute_result"
    }
   ],
   "source": [
    "X.reshape(1,6)"
   ]
  },
  {
   "cell_type": "code",
   "execution_count": 120,
   "metadata": {
    "slideshow": {
     "slide_type": "fragment"
    }
   },
   "outputs": [
    {
     "data": {
      "text/plain": [
       "array([[1, 2, 3, 4, 5, 6]])"
      ]
     },
     "execution_count": 120,
     "metadata": {},
     "output_type": "execute_result"
    }
   ],
   "source": [
    "X.reshape(1,-1)"
   ]
  },
  {
   "cell_type": "markdown",
   "metadata": {
    "slideshow": {
     "slide_type": "subslide"
    }
   },
   "source": [
    "Numpy also provides many functions to create arrays:"
   ]
  },
  {
   "cell_type": "code",
   "execution_count": 5,
   "metadata": {
    "slideshow": {
     "slide_type": "fragment"
    }
   },
   "outputs": [
    {
     "data": {
      "text/plain": [
       "array([[0., 0.],\n",
       "       [0., 0.]])"
      ]
     },
     "execution_count": 5,
     "metadata": {},
     "output_type": "execute_result"
    }
   ],
   "source": [
    "np.zeros((2,2))  # Create an array of all zeros"
   ]
  },
  {
   "cell_type": "code",
   "execution_count": 6,
   "metadata": {
    "slideshow": {
     "slide_type": "fragment"
    }
   },
   "outputs": [
    {
     "data": {
      "text/plain": [
       "array([[1., 1.]])"
      ]
     },
     "execution_count": 6,
     "metadata": {},
     "output_type": "execute_result"
    }
   ],
   "source": [
    "np.ones((1,2))   # Create an array of all ones"
   ]
  },
  {
   "cell_type": "code",
   "execution_count": 7,
   "metadata": {
    "slideshow": {
     "slide_type": "fragment"
    }
   },
   "outputs": [
    {
     "data": {
      "text/plain": [
       "array([[7, 7],\n",
       "       [7, 7]])"
      ]
     },
     "execution_count": 7,
     "metadata": {},
     "output_type": "execute_result"
    }
   ],
   "source": [
    "np.full((2,2), 7) # Create a constant array"
   ]
  },
  {
   "cell_type": "code",
   "execution_count": 8,
   "metadata": {
    "scrolled": false,
    "slideshow": {
     "slide_type": "subslide"
    }
   },
   "outputs": [
    {
     "data": {
      "text/plain": [
       "array([[1., 0.],\n",
       "       [0., 1.]])"
      ]
     },
     "execution_count": 8,
     "metadata": {},
     "output_type": "execute_result"
    }
   ],
   "source": [
    "np.eye(2)         # Create a 2x2 identity matrix"
   ]
  },
  {
   "cell_type": "code",
   "execution_count": 9,
   "metadata": {
    "slideshow": {
     "slide_type": "fragment"
    }
   },
   "outputs": [
    {
     "data": {
      "text/plain": [
       "array([[0.44814261, 0.95492521],\n",
       "       [0.78544759, 0.17886784]])"
      ]
     },
     "execution_count": 9,
     "metadata": {},
     "output_type": "execute_result"
    }
   ],
   "source": [
    "np.random.random((2,2)) # Create an array filled with random values"
   ]
  },
  {
   "cell_type": "markdown",
   "metadata": {
    "slideshow": {
     "slide_type": "subslide"
    }
   },
   "source": [
    "### Array Indexing"
   ]
  },
  {
   "cell_type": "code",
   "execution_count": 10,
   "metadata": {
    "collapsed": true,
    "slideshow": {
     "slide_type": "fragment"
    }
   },
   "outputs": [],
   "source": [
    "A = np.array([[1, 2, 3, 4],  # ----> x-axis\n",
    "              [5, 6, 7, 8],  # |\n",
    "              [9,10,11,12]]) # v\n",
    "                             #   y-axis"
   ]
  },
  {
   "cell_type": "code",
   "execution_count": 11,
   "metadata": {
    "scrolled": true,
    "slideshow": {
     "slide_type": "fragment"
    }
   },
   "outputs": [
    {
     "data": {
      "text/plain": [
       "array([[2, 3],\n",
       "       [6, 7]])"
      ]
     },
     "execution_count": 11,
     "metadata": {},
     "output_type": "execute_result"
    }
   ],
   "source": [
    "A[:2, 1:3]      # a[y-axis, x-axis]"
   ]
  },
  {
   "cell_type": "code",
   "execution_count": 12,
   "metadata": {
    "slideshow": {
     "slide_type": "fragment"
    }
   },
   "outputs": [
    {
     "data": {
      "text/plain": [
       "4"
      ]
     },
     "execution_count": 12,
     "metadata": {},
     "output_type": "execute_result"
    }
   ],
   "source": [
    "A[0, 3]"
   ]
  },
  {
   "cell_type": "code",
   "execution_count": 13,
   "metadata": {
    "slideshow": {
     "slide_type": "fragment"
    }
   },
   "outputs": [
    {
     "data": {
      "text/plain": [
       "array([1, 2, 3, 4])"
      ]
     },
     "execution_count": 13,
     "metadata": {},
     "output_type": "execute_result"
    }
   ],
   "source": [
    "A[0, :]           # 0th row of a"
   ]
  },
  {
   "cell_type": "markdown",
   "metadata": {
    "collapsed": true,
    "slideshow": {
     "slide_type": "subslide"
    }
   },
   "source": [
    "### Array Math"
   ]
  },
  {
   "cell_type": "code",
   "execution_count": 14,
   "metadata": {
    "collapsed": true,
    "slideshow": {
     "slide_type": "fragment"
    }
   },
   "outputs": [],
   "source": [
    "X = np.array([[1, 2],\n",
    "              [3, 4]])\n",
    "Y = np.array([[5, 6],\n",
    "              [7, 8]])"
   ]
  },
  {
   "cell_type": "markdown",
   "metadata": {
    "slideshow": {
     "slide_type": "subslide"
    }
   },
   "source": [
    "** Elementwise Math **"
   ]
  },
  {
   "cell_type": "code",
   "execution_count": 15,
   "metadata": {
    "slideshow": {
     "slide_type": "fragment"
    }
   },
   "outputs": [
    {
     "data": {
      "text/plain": [
       "array([[ 6,  8],\n",
       "       [10, 12]])"
      ]
     },
     "execution_count": 15,
     "metadata": {},
     "output_type": "execute_result"
    }
   ],
   "source": [
    "X + Y"
   ]
  },
  {
   "cell_type": "code",
   "execution_count": 16,
   "metadata": {
    "slideshow": {
     "slide_type": "fragment"
    }
   },
   "outputs": [
    {
     "data": {
      "text/plain": [
       "array([[-4, -4],\n",
       "       [-4, -4]])"
      ]
     },
     "execution_count": 16,
     "metadata": {},
     "output_type": "execute_result"
    }
   ],
   "source": [
    "X - Y"
   ]
  },
  {
   "cell_type": "code",
   "execution_count": 17,
   "metadata": {
    "slideshow": {
     "slide_type": "fragment"
    }
   },
   "outputs": [
    {
     "data": {
      "text/plain": [
       "array([[ 5, 12],\n",
       "       [21, 32]])"
      ]
     },
     "execution_count": 17,
     "metadata": {},
     "output_type": "execute_result"
    }
   ],
   "source": [
    "X*Y"
   ]
  },
  {
   "cell_type": "code",
   "execution_count": 18,
   "metadata": {
    "slideshow": {
     "slide_type": "fragment"
    }
   },
   "outputs": [
    {
     "data": {
      "text/plain": [
       "array([[0.2       , 0.33333333],\n",
       "       [0.42857143, 0.5       ]])"
      ]
     },
     "execution_count": 18,
     "metadata": {},
     "output_type": "execute_result"
    }
   ],
   "source": [
    "X/Y"
   ]
  },
  {
   "cell_type": "code",
   "execution_count": 19,
   "metadata": {
    "slideshow": {
     "slide_type": "subslide"
    }
   },
   "outputs": [
    {
     "data": {
      "text/plain": [
       "array([[1.        , 1.41421356],\n",
       "       [1.73205081, 2.        ]])"
      ]
     },
     "execution_count": 19,
     "metadata": {},
     "output_type": "execute_result"
    }
   ],
   "source": [
    "np.sqrt(X)"
   ]
  },
  {
   "cell_type": "code",
   "execution_count": 20,
   "metadata": {
    "slideshow": {
     "slide_type": "fragment"
    }
   },
   "outputs": [
    {
     "data": {
      "text/plain": [
       "array([4, 6])"
      ]
     },
     "execution_count": 20,
     "metadata": {},
     "output_type": "execute_result"
    }
   ],
   "source": [
    "np.sum(X, axis=0)"
   ]
  },
  {
   "cell_type": "code",
   "execution_count": 21,
   "metadata": {
    "slideshow": {
     "slide_type": "fragment"
    }
   },
   "outputs": [
    {
     "data": {
      "text/plain": [
       "array([3, 7])"
      ]
     },
     "execution_count": 21,
     "metadata": {},
     "output_type": "execute_result"
    }
   ],
   "source": [
    "np.sum(X, axis=1)"
   ]
  },
  {
   "cell_type": "markdown",
   "metadata": {
    "slideshow": {
     "slide_type": "subslide"
    }
   },
   "source": [
    "**Matrix Operations**"
   ]
  },
  {
   "cell_type": "code",
   "execution_count": 22,
   "metadata": {
    "slideshow": {
     "slide_type": "fragment"
    }
   },
   "outputs": [
    {
     "data": {
      "text/plain": [
       "array([[19, 22],\n",
       "       [43, 50]])"
      ]
     },
     "execution_count": 22,
     "metadata": {},
     "output_type": "execute_result"
    }
   ],
   "source": [
    "X.dot(Y)"
   ]
  },
  {
   "cell_type": "code",
   "execution_count": 23,
   "metadata": {
    "slideshow": {
     "slide_type": "fragment"
    }
   },
   "outputs": [
    {
     "data": {
      "text/plain": [
       "array([[1, 3],\n",
       "       [2, 4]])"
      ]
     },
     "execution_count": 23,
     "metadata": {},
     "output_type": "execute_result"
    }
   ],
   "source": [
    "X.T"
   ]
  },
  {
   "cell_type": "code",
   "execution_count": 24,
   "metadata": {
    "slideshow": {
     "slide_type": "fragment"
    }
   },
   "outputs": [
    {
     "data": {
      "text/plain": [
       "array([[-2. ,  1. ],\n",
       "       [ 1.5, -0.5]])"
      ]
     },
     "execution_count": 24,
     "metadata": {},
     "output_type": "execute_result"
    }
   ],
   "source": [
    "np.linalg.inv(X)"
   ]
  },
  {
   "cell_type": "code",
   "execution_count": 25,
   "metadata": {
    "slideshow": {
     "slide_type": "subslide"
    }
   },
   "outputs": [
    {
     "data": {
      "text/plain": [
       "array([[ 5,  6,  7,  8],\n",
       "       [10, 12, 14, 16],\n",
       "       [15, 18, 21, 24],\n",
       "       [20, 24, 28, 32]])"
      ]
     },
     "execution_count": 25,
     "metadata": {},
     "output_type": "execute_result"
    }
   ],
   "source": [
    "np.outer(X, Y)"
   ]
  },
  {
   "cell_type": "code",
   "execution_count": 26,
   "metadata": {
    "slideshow": {
     "slide_type": "fragment"
    }
   },
   "outputs": [
    {
     "data": {
      "text/plain": [
       "array([1, 4])"
      ]
     },
     "execution_count": 26,
     "metadata": {},
     "output_type": "execute_result"
    }
   ],
   "source": [
    "X.diagonal()"
   ]
  },
  {
   "cell_type": "code",
   "execution_count": 27,
   "metadata": {
    "slideshow": {
     "slide_type": "fragment"
    }
   },
   "outputs": [
    {
     "data": {
      "text/plain": [
       "5"
      ]
     },
     "execution_count": 27,
     "metadata": {},
     "output_type": "execute_result"
    }
   ],
   "source": [
    "X.trace()"
   ]
  },
  {
   "cell_type": "markdown",
   "metadata": {
    "slideshow": {
     "slide_type": "subslide"
    }
   },
   "source": [
    "** [EX 1] Ordinary Least Square **\n",
    "$$\n",
    "    \\beta = (X'X)^{-1}X'y\n",
    "$$"
   ]
  },
  {
   "cell_type": "code",
   "execution_count": 28,
   "metadata": {
    "collapsed": true,
    "slideshow": {
     "slide_type": "fragment"
    }
   },
   "outputs": [],
   "source": [
    "X = np.array([[1, 2, 1],\n",
    "              [3, 4, 2],\n",
    "              [1, 2, 3],\n",
    "              [1, 0, 5]])\n",
    "y = np.array([2, 4, 2, 0])"
   ]
  },
  {
   "cell_type": "code",
   "execution_count": 29,
   "metadata": {
    "scrolled": true,
    "slideshow": {
     "slide_type": "fragment"
    }
   },
   "outputs": [
    {
     "data": {
      "text/plain": [
       "array([ 1.33226763e-15,  1.00000000e+00, -4.44089210e-16])"
      ]
     },
     "execution_count": 29,
     "metadata": {},
     "output_type": "execute_result"
    }
   ],
   "source": [
    "np.linalg.inv(X.T.dot(X)).dot(X.T.dot(y))"
   ]
  },
  {
   "cell_type": "markdown",
   "metadata": {
    "slideshow": {
     "slide_type": "subslide"
    }
   },
   "source": [
    "** Random Number Generation **"
   ]
  },
  {
   "cell_type": "code",
   "execution_count": 30,
   "metadata": {
    "slideshow": {
     "slide_type": "fragment"
    }
   },
   "outputs": [
    {
     "data": {
      "text/plain": [
       "array([0.19703591, 0.56543517, 0.67953026, 0.39219557, 0.73655463])"
      ]
     },
     "execution_count": 30,
     "metadata": {},
     "output_type": "execute_result"
    }
   ],
   "source": [
    "np.random.rand(5)          # 5 samples from the uniform random 0~1"
   ]
  },
  {
   "cell_type": "code",
   "execution_count": 31,
   "metadata": {
    "slideshow": {
     "slide_type": "fragment"
    }
   },
   "outputs": [
    {
     "data": {
      "text/plain": [
       "array([-0.68460038, -2.50579046,  0.69649121, -1.83839664,  0.42962872])"
      ]
     },
     "execution_count": 31,
     "metadata": {},
     "output_type": "execute_result"
    }
   ],
   "source": [
    "np.random.randn(5)         # 5 samples from the normal distribution"
   ]
  },
  {
   "cell_type": "code",
   "execution_count": 32,
   "metadata": {
    "slideshow": {
     "slide_type": "subslide"
    }
   },
   "outputs": [
    {
     "data": {
      "text/plain": [
       "array([[ 1.68888169, -1.16831632,  1.75242919],\n",
       "       [-1.48617794,  5.01277643,  3.52094753],\n",
       "       [ 0.64075269,  2.03574955,  7.64791088],\n",
       "       [ 4.78256327,  4.13775519,  7.816348  ],\n",
       "       [ 3.24701205,  0.66079141,  3.40898118]])"
      ]
     },
     "execution_count": 32,
     "metadata": {},
     "output_type": "execute_result"
    }
   ],
   "source": [
    "u = np.array([1, 2, 3])    # mean vector\n",
    "S = np.array([[7, 1, 3],   # covariance matrix\n",
    "              [1, 5, 1],\n",
    "              [3, 1, 4]])\n",
    "\n",
    "np.random.multivariate_normal(mean=u, cov=S, size=5)"
   ]
  },
  {
   "cell_type": "markdown",
   "metadata": {},
   "source": [
    "## Tensor Operation (Optional)"
   ]
  },
  {
   "cell_type": "markdown",
   "metadata": {},
   "source": [
    "** [About Tensors](https://www.tensorflow.org/versions/r0.12/resources/dims_types) ** \n",
    "\n",
    "| Rank | Math entity            | Python Example      | Tensor Notation\n",
    "|------|------------------------|---------------------|--------------------\n",
    "| 0    | Scalar (rank 0 Tensor) | `s = 483 `          |$T$             |\n",
    "| 1    | Vector (rank 1 Tensor) |` v = [1.1, 2.2, 3.3]` |$T_{i}$  |\n",
    "| 2    | Matrix (rank 2 Tensor) | `m = [[1, 2, 3], [4,5,6]]`     |$T_{ij}$       |\n",
    "| 3    | rank 3 Tensor          |` t = [[[1,2], [4,5]], [[6,7], [8,9]]]`|$T_{ijk}$    |\n",
    "| n    | rank n Tensor          | ....                |$T_{ijkl...}$        |"
   ]
  },
  {
   "cell_type": "markdown",
   "metadata": {},
   "source": [
    "### einsum (Einstein Summation Convention) \n"
   ]
  },
  {
   "cell_type": "code",
   "execution_count": 106,
   "metadata": {
    "collapsed": true
   },
   "outputs": [],
   "source": [
    "x, y = np.array([1,2,3,4]), np.array([1,2,1,2])"
   ]
  },
  {
   "cell_type": "markdown",
   "metadata": {},
   "source": [
    "** vector sum **"
   ]
  },
  {
   "cell_type": "code",
   "execution_count": 34,
   "metadata": {},
   "outputs": [
    {
     "data": {
      "text/plain": [
       "10"
      ]
     },
     "execution_count": 34,
     "metadata": {},
     "output_type": "execute_result"
    }
   ],
   "source": [
    "np.einsum('i->', x)"
   ]
  },
  {
   "cell_type": "markdown",
   "metadata": {},
   "source": [
    "** dot product **"
   ]
  },
  {
   "cell_type": "code",
   "execution_count": 35,
   "metadata": {},
   "outputs": [
    {
     "data": {
      "text/plain": [
       "array(16)"
      ]
     },
     "execution_count": 35,
     "metadata": {},
     "output_type": "execute_result"
    }
   ],
   "source": [
    "np.einsum('i,i -> ', x, y)"
   ]
  },
  {
   "cell_type": "markdown",
   "metadata": {},
   "source": [
    "** elementwise product **"
   ]
  },
  {
   "cell_type": "code",
   "execution_count": 36,
   "metadata": {},
   "outputs": [
    {
     "data": {
      "text/plain": [
       "array([1, 4, 3, 8])"
      ]
     },
     "execution_count": 36,
     "metadata": {},
     "output_type": "execute_result"
    }
   ],
   "source": [
    "np.einsum('i,i -> i', x, y)"
   ]
  },
  {
   "cell_type": "markdown",
   "metadata": {},
   "source": [
    "**outer product**"
   ]
  },
  {
   "cell_type": "code",
   "execution_count": 37,
   "metadata": {},
   "outputs": [
    {
     "data": {
      "text/plain": [
       "array([[1, 2, 1, 2],\n",
       "       [2, 4, 2, 4],\n",
       "       [3, 6, 3, 6],\n",
       "       [4, 8, 4, 8]])"
      ]
     },
     "execution_count": 37,
     "metadata": {},
     "output_type": "execute_result"
    }
   ],
   "source": [
    "np.einsum('i,j -> ij', x, y)"
   ]
  },
  {
   "cell_type": "code",
   "execution_count": 38,
   "metadata": {
    "collapsed": true
   },
   "outputs": [],
   "source": [
    "X = np.array([[0,1,1,1],\n",
    "             [2,3,1,4], \n",
    "             [1,2,1,4], \n",
    "             [5,2,1,2]])\n",
    "Y = np.array([[4,2,3,1],\n",
    "              [1,4,2,3],\n",
    "              [1,2,1,1],\n",
    "              [2,1,4,2]])"
   ]
  },
  {
   "cell_type": "markdown",
   "metadata": {},
   "source": [
    "$X\\vec{y}$"
   ]
  },
  {
   "cell_type": "code",
   "execution_count": 39,
   "metadata": {},
   "outputs": [
    {
     "data": {
      "text/plain": [
       "array([ 5, 17, 14, 14])"
      ]
     },
     "execution_count": 39,
     "metadata": {},
     "output_type": "execute_result"
    }
   ],
   "source": [
    "np.einsum('ij,j->i', X, y)"
   ]
  },
  {
   "cell_type": "markdown",
   "metadata": {},
   "source": [
    "$\\vec{y}^T X$"
   ]
  },
  {
   "cell_type": "code",
   "execution_count": 40,
   "metadata": {},
   "outputs": [
    {
     "data": {
      "text/plain": [
       "array([15, 13,  6, 17])"
      ]
     },
     "execution_count": 40,
     "metadata": {},
     "output_type": "execute_result"
    }
   ],
   "source": [
    "np.einsum('i,ij->j', y, X)"
   ]
  },
  {
   "cell_type": "markdown",
   "metadata": {},
   "source": [
    "$XY$"
   ]
  },
  {
   "cell_type": "code",
   "execution_count": 41,
   "metadata": {},
   "outputs": [
    {
     "data": {
      "text/plain": [
       "array([[ 4,  7,  7,  6],\n",
       "       [20, 22, 29, 20],\n",
       "       [15, 16, 24, 16],\n",
       "       [27, 22, 28, 16]])"
      ]
     },
     "execution_count": 41,
     "metadata": {},
     "output_type": "execute_result"
    }
   ],
   "source": [
    "np.einsum('ij,jk->ik', X, Y)"
   ]
  },
  {
   "cell_type": "markdown",
   "metadata": {},
   "source": [
    "** Tensor Vector Product **\n",
    "\n",
    "<center>\n",
    "<img src=\"https://i.stack.imgur.com/5QsMD.png\" alt=\"Drawing\" style=\"width: 600px;\"/>\n",
    "</center>\n",
    "\n",
    "For more detail, see [here](http://venus.unive.it/r.casarin/PhDEco/Mat/Algebra.pdf).\n",
    "\n",
    "$T_{ijk} y^i$"
   ]
  },
  {
   "cell_type": "code",
   "execution_count": 42,
   "metadata": {
    "collapsed": true
   },
   "outputs": [],
   "source": [
    "T = np.random.randn(4,4,4)"
   ]
  },
  {
   "cell_type": "code",
   "execution_count": 43,
   "metadata": {},
   "outputs": [
    {
     "data": {
      "text/plain": [
       "array([[-2.87604084, -4.09831023, -0.04751608,  4.57883231],\n",
       "       [ 2.3415835 , -1.90573662, -2.38000483, -0.78680481],\n",
       "       [-2.14782975, -0.18716877,  3.09049176,  0.13820697],\n",
       "       [-2.2700736 , -0.49579949, -0.69231654, -0.21575432]])"
      ]
     },
     "execution_count": 43,
     "metadata": {},
     "output_type": "execute_result"
    }
   ],
   "source": [
    "np.einsum('ijk,i->jk',T, y)"
   ]
  },
  {
   "cell_type": "markdown",
   "metadata": {
    "slideshow": {
     "slide_type": "slide"
    }
   },
   "source": [
    "# Pandas\n",
    "\n",
    "<center>\n",
    "<img src=\"https://pandas.pydata.org/_static/pandas_logo.png\" alt=\"Drawing\" style=\"width: 600px;\"/>\n",
    "</center>\n",
    "* Similar to R\n",
    "* DataFrame object\n",
    "* Apply functions\n",
    "* Data merge, join, concatenate ...\n",
    "* Data operations ..."
   ]
  },
  {
   "cell_type": "code",
   "execution_count": 44,
   "metadata": {
    "collapsed": true,
    "slideshow": {
     "slide_type": "subslide"
    }
   },
   "outputs": [],
   "source": [
    "import pandas as pd"
   ]
  },
  {
   "cell_type": "markdown",
   "metadata": {
    "slideshow": {
     "slide_type": "subslide"
    }
   },
   "source": [
    "## Series\n",
    "(= 1D Array + index (or key))"
   ]
  },
  {
   "cell_type": "code",
   "execution_count": 45,
   "metadata": {
    "slideshow": {
     "slide_type": "fragment"
    }
   },
   "outputs": [
    {
     "data": {
      "text/plain": [
       "0    1\n",
       "1    2\n",
       "2    3\n",
       "3    4\n",
       "4    5\n",
       "dtype: int64"
      ]
     },
     "execution_count": 45,
     "metadata": {},
     "output_type": "execute_result"
    }
   ],
   "source": [
    "x = pd.Series([1, 2, 3, 4, 5])\n",
    "x"
   ]
  },
  {
   "cell_type": "code",
   "execution_count": 46,
   "metadata": {
    "slideshow": {
     "slide_type": "subslide"
    }
   },
   "outputs": [
    {
     "data": {
      "text/plain": [
       "array([1, 2, 3, 4, 5], dtype=int64)"
      ]
     },
     "execution_count": 46,
     "metadata": {},
     "output_type": "execute_result"
    }
   ],
   "source": [
    "x.values          # pd.Series -> np.ndarray"
   ]
  },
  {
   "cell_type": "code",
   "execution_count": 47,
   "metadata": {
    "slideshow": {
     "slide_type": "fragment"
    }
   },
   "outputs": [
    {
     "data": {
      "text/plain": [
       "numpy.ndarray"
      ]
     },
     "execution_count": 47,
     "metadata": {},
     "output_type": "execute_result"
    }
   ],
   "source": [
    "type(x.values)"
   ]
  },
  {
   "cell_type": "markdown",
   "metadata": {
    "slideshow": {
     "slide_type": "subslide"
    }
   },
   "source": [
    "** Index **"
   ]
  },
  {
   "cell_type": "code",
   "execution_count": 48,
   "metadata": {
    "slideshow": {
     "slide_type": "fragment"
    }
   },
   "outputs": [
    {
     "data": {
      "text/plain": [
       "a    1\n",
       "b    2\n",
       "c    3\n",
       "d    4\n",
       "e    5\n",
       "dtype: int64"
      ]
     },
     "execution_count": 48,
     "metadata": {},
     "output_type": "execute_result"
    }
   ],
   "source": [
    "x.index = ['a', 'b', 'c', 'd', 'e']\n",
    "x"
   ]
  },
  {
   "cell_type": "code",
   "execution_count": 49,
   "metadata": {
    "slideshow": {
     "slide_type": "fragment"
    }
   },
   "outputs": [
    {
     "data": {
      "text/plain": [
       "a    1\n",
       "b    2\n",
       "c    3\n",
       "d    4\n",
       "e    5\n",
       "dtype: int64"
      ]
     },
     "execution_count": 49,
     "metadata": {},
     "output_type": "execute_result"
    }
   ],
   "source": [
    "pd.Series([1, 2, 3, 4, 5], index=['a', 'b', 'c', 'd', 'e'])"
   ]
  },
  {
   "cell_type": "code",
   "execution_count": 50,
   "metadata": {
    "slideshow": {
     "slide_type": "subslide"
    }
   },
   "outputs": [
    {
     "data": {
      "text/plain": [
       "a    1\n",
       "b    2\n",
       "c    3\n",
       "d    4\n",
       "e    5\n",
       "dtype: int64"
      ]
     },
     "execution_count": 50,
     "metadata": {},
     "output_type": "execute_result"
    }
   ],
   "source": [
    "pd.Series({'a':1, 'b':2, 'c':3, 'd':4, 'e':5})"
   ]
  },
  {
   "cell_type": "markdown",
   "metadata": {
    "slideshow": {
     "slide_type": "subslide"
    }
   },
   "source": [
    "** Indexing **"
   ]
  },
  {
   "cell_type": "code",
   "execution_count": 51,
   "metadata": {
    "slideshow": {
     "slide_type": "fragment"
    }
   },
   "outputs": [
    {
     "data": {
      "text/plain": [
       "a    1\n",
       "b    2\n",
       "c    3\n",
       "dtype: int64"
      ]
     },
     "execution_count": 51,
     "metadata": {},
     "output_type": "execute_result"
    }
   ],
   "source": [
    "x[0:3]"
   ]
  },
  {
   "cell_type": "code",
   "execution_count": 52,
   "metadata": {
    "slideshow": {
     "slide_type": "fragment"
    }
   },
   "outputs": [
    {
     "data": {
      "text/plain": [
       "1"
      ]
     },
     "execution_count": 52,
     "metadata": {},
     "output_type": "execute_result"
    }
   ],
   "source": [
    "x['a']"
   ]
  },
  {
   "cell_type": "code",
   "execution_count": 53,
   "metadata": {
    "slideshow": {
     "slide_type": "fragment"
    }
   },
   "outputs": [
    {
     "data": {
      "text/plain": [
       "a    1\n",
       "c    3\n",
       "d    4\n",
       "dtype: int64"
      ]
     },
     "execution_count": 53,
     "metadata": {},
     "output_type": "execute_result"
    }
   ],
   "source": [
    "x[['a','c','d']]"
   ]
  },
  {
   "cell_type": "code",
   "execution_count": 54,
   "metadata": {
    "slideshow": {
     "slide_type": "subslide"
    }
   },
   "outputs": [
    {
     "data": {
      "text/plain": [
       "c    3\n",
       "d    4\n",
       "e    5\n",
       "dtype: int64"
      ]
     },
     "execution_count": 54,
     "metadata": {},
     "output_type": "execute_result"
    }
   ],
   "source": [
    "x[x > 2]          # Selection"
   ]
  },
  {
   "cell_type": "code",
   "execution_count": 55,
   "metadata": {
    "slideshow": {
     "slide_type": "fragment"
    }
   },
   "outputs": [
    {
     "data": {
      "text/plain": [
       "d    4\n",
       "dtype: int64"
      ]
     },
     "execution_count": 55,
     "metadata": {},
     "output_type": "execute_result"
    }
   ],
   "source": [
    "x[(x > 2) & (x % 3 == 1)]      # Logical Selection"
   ]
  },
  {
   "cell_type": "markdown",
   "metadata": {
    "slideshow": {
     "slide_type": "subslide"
    }
   },
   "source": [
    "** Elementwise Math **"
   ]
  },
  {
   "cell_type": "code",
   "execution_count": 56,
   "metadata": {
    "slideshow": {
     "slide_type": "fragment"
    }
   },
   "outputs": [
    {
     "data": {
      "text/plain": [
       "a     2\n",
       "b     4\n",
       "c     6\n",
       "d     8\n",
       "e    10\n",
       "dtype: int64"
      ]
     },
     "execution_count": 56,
     "metadata": {},
     "output_type": "execute_result"
    }
   ],
   "source": [
    "x * 2"
   ]
  },
  {
   "cell_type": "code",
   "execution_count": 57,
   "metadata": {
    "slideshow": {
     "slide_type": "fragment"
    }
   },
   "outputs": [
    {
     "data": {
      "text/plain": [
       "a      2.718282\n",
       "b      7.389056\n",
       "c     20.085537\n",
       "d     54.598150\n",
       "e    148.413159\n",
       "dtype: float64"
      ]
     },
     "execution_count": 57,
     "metadata": {},
     "output_type": "execute_result"
    }
   ],
   "source": [
    "np.exp(x)"
   ]
  },
  {
   "cell_type": "markdown",
   "metadata": {
    "slideshow": {
     "slide_type": "subslide"
    }
   },
   "source": [
    "** Missing Value **"
   ]
  },
  {
   "cell_type": "code",
   "execution_count": 58,
   "metadata": {
    "slideshow": {
     "slide_type": "fragment"
    }
   },
   "outputs": [
    {
     "data": {
      "text/plain": [
       "True"
      ]
     },
     "execution_count": 58,
     "metadata": {},
     "output_type": "execute_result"
    }
   ],
   "source": [
    "pd.isnull(np.nan)"
   ]
  },
  {
   "cell_type": "code",
   "execution_count": 59,
   "metadata": {
    "slideshow": {
     "slide_type": "fragment"
    }
   },
   "outputs": [
    {
     "data": {
      "text/plain": [
       "0    False\n",
       "1    False\n",
       "2     True\n",
       "3    False\n",
       "4    False\n",
       "dtype: bool"
      ]
     },
     "execution_count": 59,
     "metadata": {},
     "output_type": "execute_result"
    }
   ],
   "source": [
    "x = pd.Series([1, 2, np.nan, 4, 5])\n",
    "pd.isnull(x)"
   ]
  },
  {
   "cell_type": "code",
   "execution_count": 60,
   "metadata": {
    "slideshow": {
     "slide_type": "subslide"
    }
   },
   "outputs": [
    {
     "data": {
      "text/plain": [
       "0    1.0\n",
       "1    2.0\n",
       "3    4.0\n",
       "4    5.0\n",
       "dtype: float64"
      ]
     },
     "execution_count": 60,
     "metadata": {},
     "output_type": "execute_result"
    }
   ],
   "source": [
    "x[~pd.isnull(x)]"
   ]
  },
  {
   "cell_type": "code",
   "execution_count": 61,
   "metadata": {
    "slideshow": {
     "slide_type": "fragment"
    }
   },
   "outputs": [
    {
     "data": {
      "text/plain": [
       "0      1.0\n",
       "1      2.0\n",
       "2    999.0\n",
       "3      4.0\n",
       "4      5.0\n",
       "dtype: float64"
      ]
     },
     "execution_count": 61,
     "metadata": {},
     "output_type": "execute_result"
    }
   ],
   "source": [
    "x.fillna(999)"
   ]
  },
  {
   "cell_type": "markdown",
   "metadata": {
    "slideshow": {
     "slide_type": "subslide"
    }
   },
   "source": [
    "## DataFrame"
   ]
  },
  {
   "cell_type": "code",
   "execution_count": 63,
   "metadata": {
    "slideshow": {
     "slide_type": "fragment"
    }
   },
   "outputs": [
    {
     "data": {
      "text/html": [
       "<div>\n",
       "<style scoped>\n",
       "    .dataframe tbody tr th:only-of-type {\n",
       "        vertical-align: middle;\n",
       "    }\n",
       "\n",
       "    .dataframe tbody tr th {\n",
       "        vertical-align: top;\n",
       "    }\n",
       "\n",
       "    .dataframe thead th {\n",
       "        text-align: right;\n",
       "    }\n",
       "</style>\n",
       "<table border=\"1\" class=\"dataframe\">\n",
       "  <thead>\n",
       "    <tr style=\"text-align: right;\">\n",
       "      <th></th>\n",
       "      <th>popul</th>\n",
       "      <th>state</th>\n",
       "      <th>year</th>\n",
       "    </tr>\n",
       "  </thead>\n",
       "  <tbody>\n",
       "    <tr>\n",
       "      <th>0</th>\n",
       "      <td>5.0</td>\n",
       "      <td>VA</td>\n",
       "      <td>2012</td>\n",
       "    </tr>\n",
       "    <tr>\n",
       "      <th>1</th>\n",
       "      <td>5.1</td>\n",
       "      <td>VA</td>\n",
       "      <td>2013</td>\n",
       "    </tr>\n",
       "    <tr>\n",
       "      <th>2</th>\n",
       "      <td>5.2</td>\n",
       "      <td>VA</td>\n",
       "      <td>2014</td>\n",
       "    </tr>\n",
       "    <tr>\n",
       "      <th>3</th>\n",
       "      <td>4.0</td>\n",
       "      <td>MD</td>\n",
       "      <td>2014</td>\n",
       "    </tr>\n",
       "    <tr>\n",
       "      <th>4</th>\n",
       "      <td>4.1</td>\n",
       "      <td>MD</td>\n",
       "      <td>2015</td>\n",
       "    </tr>\n",
       "  </tbody>\n",
       "</table>\n",
       "</div>"
      ],
      "text/plain": [
       "   popul state  year\n",
       "0    5.0    VA  2012\n",
       "1    5.1    VA  2013\n",
       "2    5.2    VA  2014\n",
       "3    4.0    MD  2014\n",
       "4    4.1    MD  2015"
      ]
     },
     "execution_count": 63,
     "metadata": {},
     "output_type": "execute_result"
    }
   ],
   "source": [
    "data = {'state' : ['VA', 'VA', 'VA', 'MD', 'MD'],\n",
    "        'year' : [2012, 2013, 2014, 2014, 2015],\n",
    "        'popul' : [5.0, 5.1, 5.2, 4.0, 4.1]}\n",
    "df = pd.DataFrame(data)                     # dict -> pd.DataFrame\n",
    "df"
   ]
  },
  {
   "cell_type": "code",
   "execution_count": 64,
   "metadata": {
    "slideshow": {
     "slide_type": "subslide"
    }
   },
   "outputs": [
    {
     "data": {
      "text/html": [
       "<div>\n",
       "<style scoped>\n",
       "    .dataframe tbody tr th:only-of-type {\n",
       "        vertical-align: middle;\n",
       "    }\n",
       "\n",
       "    .dataframe tbody tr th {\n",
       "        vertical-align: top;\n",
       "    }\n",
       "\n",
       "    .dataframe thead th {\n",
       "        text-align: right;\n",
       "    }\n",
       "</style>\n",
       "<table border=\"1\" class=\"dataframe\">\n",
       "  <thead>\n",
       "    <tr style=\"text-align: right;\">\n",
       "      <th></th>\n",
       "      <th>popul</th>\n",
       "      <th>state</th>\n",
       "      <th>year</th>\n",
       "    </tr>\n",
       "  </thead>\n",
       "  <tbody>\n",
       "    <tr>\n",
       "      <th>0</th>\n",
       "      <td>5.0</td>\n",
       "      <td>VA</td>\n",
       "      <td>2012</td>\n",
       "    </tr>\n",
       "    <tr>\n",
       "      <th>1</th>\n",
       "      <td>5.1</td>\n",
       "      <td>VA</td>\n",
       "      <td>2013</td>\n",
       "    </tr>\n",
       "    <tr>\n",
       "      <th>2</th>\n",
       "      <td>5.2</td>\n",
       "      <td>VA</td>\n",
       "      <td>2014</td>\n",
       "    </tr>\n",
       "    <tr>\n",
       "      <th>3</th>\n",
       "      <td>4.0</td>\n",
       "      <td>MD</td>\n",
       "      <td>2014</td>\n",
       "    </tr>\n",
       "    <tr>\n",
       "      <th>4</th>\n",
       "      <td>4.1</td>\n",
       "      <td>MD</td>\n",
       "      <td>2015</td>\n",
       "    </tr>\n",
       "  </tbody>\n",
       "</table>\n",
       "</div>"
      ],
      "text/plain": [
       "   popul state  year\n",
       "0    5.0    VA  2012\n",
       "1    5.1    VA  2013\n",
       "2    5.2    VA  2014\n",
       "3    4.0    MD  2014\n",
       "4    4.1    MD  2015"
      ]
     },
     "execution_count": 64,
     "metadata": {},
     "output_type": "execute_result"
    }
   ],
   "source": [
    "pd.DataFrame([[5.0, 'VA', 2012],           # np.ndarray + columns - > pd.DataFrame\n",
    "              [5.1, 'VA', 2013],\n",
    "              [5.2, 'VA', 2014],\n",
    "              [4.0, 'MD', 2014],\n",
    "              [4.1, 'MD', 2015]],\n",
    "             columns = ['popul', 'state', 'year'])"
   ]
  },
  {
   "cell_type": "markdown",
   "metadata": {
    "slideshow": {
     "slide_type": "subslide"
    }
   },
   "source": [
    "** Retreiving **"
   ]
  },
  {
   "cell_type": "code",
   "execution_count": 65,
   "metadata": {
    "slideshow": {
     "slide_type": "fragment"
    }
   },
   "outputs": [
    {
     "data": {
      "text/plain": [
       "0    5.0\n",
       "1    5.1\n",
       "2    5.2\n",
       "3    4.0\n",
       "4    4.1\n",
       "Name: popul, dtype: float64"
      ]
     },
     "execution_count": 65,
     "metadata": {},
     "output_type": "execute_result"
    }
   ],
   "source": [
    "df['popul']"
   ]
  },
  {
   "cell_type": "markdown",
   "metadata": {
    "slideshow": {
     "slide_type": "subslide"
    }
   },
   "source": [
    "> **<font color='red'> Caution ! </font>** **Not Recommend**\n",
    "\n",
    "> attribute access using (**.**) can collide with other class methods. "
   ]
  },
  {
   "cell_type": "code",
   "execution_count": 66,
   "metadata": {
    "slideshow": {
     "slide_type": "fragment"
    }
   },
   "outputs": [
    {
     "data": {
      "text/plain": [
       "0    5.0\n",
       "1    5.1\n",
       "2    5.2\n",
       "3    4.0\n",
       "4    4.1\n",
       "Name: popul, dtype: float64"
      ]
     },
     "execution_count": 66,
     "metadata": {},
     "output_type": "execute_result"
    }
   ],
   "source": [
    "df.popul           # Not Recommend !"
   ]
  },
  {
   "cell_type": "code",
   "execution_count": 67,
   "metadata": {
    "slideshow": {
     "slide_type": "subslide"
    }
   },
   "outputs": [
    {
     "data": {
      "text/plain": [
       "popul       5\n",
       "state      VA\n",
       "year     2012\n",
       "Name: 0, dtype: object"
      ]
     },
     "execution_count": 67,
     "metadata": {},
     "output_type": "execute_result"
    }
   ],
   "source": [
    "df.iloc[0]           # 0-th row"
   ]
  },
  {
   "cell_type": "markdown",
   "metadata": {
    "slideshow": {
     "slide_type": "subslide"
    }
   },
   "source": [
    "**Describe (Summary Statistics) **"
   ]
  },
  {
   "cell_type": "code",
   "execution_count": 68,
   "metadata": {
    "slideshow": {
     "slide_type": "fragment"
    }
   },
   "outputs": [
    {
     "data": {
      "text/html": [
       "<div>\n",
       "<style scoped>\n",
       "    .dataframe tbody tr th:only-of-type {\n",
       "        vertical-align: middle;\n",
       "    }\n",
       "\n",
       "    .dataframe tbody tr th {\n",
       "        vertical-align: top;\n",
       "    }\n",
       "\n",
       "    .dataframe thead th {\n",
       "        text-align: right;\n",
       "    }\n",
       "</style>\n",
       "<table border=\"1\" class=\"dataframe\">\n",
       "  <thead>\n",
       "    <tr style=\"text-align: right;\">\n",
       "      <th></th>\n",
       "      <th>popul</th>\n",
       "      <th>year</th>\n",
       "    </tr>\n",
       "  </thead>\n",
       "  <tbody>\n",
       "    <tr>\n",
       "      <th>count</th>\n",
       "      <td>5.000000</td>\n",
       "      <td>5.000000</td>\n",
       "    </tr>\n",
       "    <tr>\n",
       "      <th>mean</th>\n",
       "      <td>4.680000</td>\n",
       "      <td>2013.600000</td>\n",
       "    </tr>\n",
       "    <tr>\n",
       "      <th>std</th>\n",
       "      <td>0.580517</td>\n",
       "      <td>1.140175</td>\n",
       "    </tr>\n",
       "    <tr>\n",
       "      <th>min</th>\n",
       "      <td>4.000000</td>\n",
       "      <td>2012.000000</td>\n",
       "    </tr>\n",
       "    <tr>\n",
       "      <th>25%</th>\n",
       "      <td>4.100000</td>\n",
       "      <td>2013.000000</td>\n",
       "    </tr>\n",
       "    <tr>\n",
       "      <th>50%</th>\n",
       "      <td>5.000000</td>\n",
       "      <td>2014.000000</td>\n",
       "    </tr>\n",
       "    <tr>\n",
       "      <th>75%</th>\n",
       "      <td>5.100000</td>\n",
       "      <td>2014.000000</td>\n",
       "    </tr>\n",
       "    <tr>\n",
       "      <th>max</th>\n",
       "      <td>5.200000</td>\n",
       "      <td>2015.000000</td>\n",
       "    </tr>\n",
       "  </tbody>\n",
       "</table>\n",
       "</div>"
      ],
      "text/plain": [
       "          popul         year\n",
       "count  5.000000     5.000000\n",
       "mean   4.680000  2013.600000\n",
       "std    0.580517     1.140175\n",
       "min    4.000000  2012.000000\n",
       "25%    4.100000  2013.000000\n",
       "50%    5.000000  2014.000000\n",
       "75%    5.100000  2014.000000\n",
       "max    5.200000  2015.000000"
      ]
     },
     "execution_count": 68,
     "metadata": {},
     "output_type": "execute_result"
    }
   ],
   "source": [
    "df.describe()"
   ]
  },
  {
   "cell_type": "markdown",
   "metadata": {
    "slideshow": {
     "slide_type": "subslide"
    }
   },
   "source": [
    "** Add, Delete Columns **"
   ]
  },
  {
   "cell_type": "code",
   "execution_count": 69,
   "metadata": {
    "slideshow": {
     "slide_type": "fragment"
    }
   },
   "outputs": [
    {
     "data": {
      "text/html": [
       "<div>\n",
       "<style scoped>\n",
       "    .dataframe tbody tr th:only-of-type {\n",
       "        vertical-align: middle;\n",
       "    }\n",
       "\n",
       "    .dataframe tbody tr th {\n",
       "        vertical-align: top;\n",
       "    }\n",
       "\n",
       "    .dataframe thead th {\n",
       "        text-align: right;\n",
       "    }\n",
       "</style>\n",
       "<table border=\"1\" class=\"dataframe\">\n",
       "  <thead>\n",
       "    <tr style=\"text-align: right;\">\n",
       "      <th></th>\n",
       "      <th>popul</th>\n",
       "      <th>state</th>\n",
       "      <th>year</th>\n",
       "      <th>alt</th>\n",
       "    </tr>\n",
       "  </thead>\n",
       "  <tbody>\n",
       "    <tr>\n",
       "      <th>0</th>\n",
       "      <td>5.0</td>\n",
       "      <td>VA</td>\n",
       "      <td>2012</td>\n",
       "      <td>42.1</td>\n",
       "    </tr>\n",
       "    <tr>\n",
       "      <th>1</th>\n",
       "      <td>5.1</td>\n",
       "      <td>VA</td>\n",
       "      <td>2013</td>\n",
       "      <td>42.1</td>\n",
       "    </tr>\n",
       "    <tr>\n",
       "      <th>2</th>\n",
       "      <td>5.2</td>\n",
       "      <td>VA</td>\n",
       "      <td>2014</td>\n",
       "      <td>42.1</td>\n",
       "    </tr>\n",
       "    <tr>\n",
       "      <th>3</th>\n",
       "      <td>4.0</td>\n",
       "      <td>MD</td>\n",
       "      <td>2014</td>\n",
       "      <td>46.4</td>\n",
       "    </tr>\n",
       "    <tr>\n",
       "      <th>4</th>\n",
       "      <td>4.1</td>\n",
       "      <td>MD</td>\n",
       "      <td>2015</td>\n",
       "      <td>46.4</td>\n",
       "    </tr>\n",
       "  </tbody>\n",
       "</table>\n",
       "</div>"
      ],
      "text/plain": [
       "   popul state  year   alt\n",
       "0    5.0    VA  2012  42.1\n",
       "1    5.1    VA  2013  42.1\n",
       "2    5.2    VA  2014  42.1\n",
       "3    4.0    MD  2014  46.4\n",
       "4    4.1    MD  2015  46.4"
      ]
     },
     "execution_count": 69,
     "metadata": {},
     "output_type": "execute_result"
    }
   ],
   "source": [
    "df['alt'] = [42.1, 42.1, 42.1, 46.4, 46.4]\n",
    "df"
   ]
  },
  {
   "cell_type": "code",
   "execution_count": 70,
   "metadata": {
    "slideshow": {
     "slide_type": "fragment"
    }
   },
   "outputs": [
    {
     "data": {
      "text/html": [
       "<div>\n",
       "<style scoped>\n",
       "    .dataframe tbody tr th:only-of-type {\n",
       "        vertical-align: middle;\n",
       "    }\n",
       "\n",
       "    .dataframe tbody tr th {\n",
       "        vertical-align: top;\n",
       "    }\n",
       "\n",
       "    .dataframe thead th {\n",
       "        text-align: right;\n",
       "    }\n",
       "</style>\n",
       "<table border=\"1\" class=\"dataframe\">\n",
       "  <thead>\n",
       "    <tr style=\"text-align: right;\">\n",
       "      <th></th>\n",
       "      <th>popul</th>\n",
       "      <th>state</th>\n",
       "      <th>year</th>\n",
       "      <th>alt</th>\n",
       "      <th>delta</th>\n",
       "    </tr>\n",
       "  </thead>\n",
       "  <tbody>\n",
       "    <tr>\n",
       "      <th>0</th>\n",
       "      <td>5.0</td>\n",
       "      <td>VA</td>\n",
       "      <td>2012</td>\n",
       "      <td>42.1</td>\n",
       "      <td>37.1</td>\n",
       "    </tr>\n",
       "    <tr>\n",
       "      <th>1</th>\n",
       "      <td>5.1</td>\n",
       "      <td>VA</td>\n",
       "      <td>2013</td>\n",
       "      <td>42.1</td>\n",
       "      <td>37.0</td>\n",
       "    </tr>\n",
       "    <tr>\n",
       "      <th>2</th>\n",
       "      <td>5.2</td>\n",
       "      <td>VA</td>\n",
       "      <td>2014</td>\n",
       "      <td>42.1</td>\n",
       "      <td>36.9</td>\n",
       "    </tr>\n",
       "    <tr>\n",
       "      <th>3</th>\n",
       "      <td>4.0</td>\n",
       "      <td>MD</td>\n",
       "      <td>2014</td>\n",
       "      <td>46.4</td>\n",
       "      <td>42.4</td>\n",
       "    </tr>\n",
       "    <tr>\n",
       "      <th>4</th>\n",
       "      <td>4.1</td>\n",
       "      <td>MD</td>\n",
       "      <td>2015</td>\n",
       "      <td>46.4</td>\n",
       "      <td>42.3</td>\n",
       "    </tr>\n",
       "  </tbody>\n",
       "</table>\n",
       "</div>"
      ],
      "text/plain": [
       "   popul state  year   alt  delta\n",
       "0    5.0    VA  2012  42.1   37.1\n",
       "1    5.1    VA  2013  42.1   37.0\n",
       "2    5.2    VA  2014  42.1   36.9\n",
       "3    4.0    MD  2014  46.4   42.4\n",
       "4    4.1    MD  2015  46.4   42.3"
      ]
     },
     "execution_count": 70,
     "metadata": {},
     "output_type": "execute_result"
    }
   ],
   "source": [
    "df['delta'] = df['alt'] - df['popul']\n",
    "df"
   ]
  },
  {
   "cell_type": "code",
   "execution_count": 71,
   "metadata": {
    "slideshow": {
     "slide_type": "subslide"
    }
   },
   "outputs": [
    {
     "data": {
      "text/html": [
       "<div>\n",
       "<style scoped>\n",
       "    .dataframe tbody tr th:only-of-type {\n",
       "        vertical-align: middle;\n",
       "    }\n",
       "\n",
       "    .dataframe tbody tr th {\n",
       "        vertical-align: top;\n",
       "    }\n",
       "\n",
       "    .dataframe thead th {\n",
       "        text-align: right;\n",
       "    }\n",
       "</style>\n",
       "<table border=\"1\" class=\"dataframe\">\n",
       "  <thead>\n",
       "    <tr style=\"text-align: right;\">\n",
       "      <th></th>\n",
       "      <th>popul</th>\n",
       "      <th>state</th>\n",
       "      <th>year</th>\n",
       "      <th>delta</th>\n",
       "    </tr>\n",
       "  </thead>\n",
       "  <tbody>\n",
       "    <tr>\n",
       "      <th>0</th>\n",
       "      <td>5.0</td>\n",
       "      <td>VA</td>\n",
       "      <td>2012</td>\n",
       "      <td>37.1</td>\n",
       "    </tr>\n",
       "    <tr>\n",
       "      <th>1</th>\n",
       "      <td>5.1</td>\n",
       "      <td>VA</td>\n",
       "      <td>2013</td>\n",
       "      <td>37.0</td>\n",
       "    </tr>\n",
       "    <tr>\n",
       "      <th>2</th>\n",
       "      <td>5.2</td>\n",
       "      <td>VA</td>\n",
       "      <td>2014</td>\n",
       "      <td>36.9</td>\n",
       "    </tr>\n",
       "    <tr>\n",
       "      <th>3</th>\n",
       "      <td>4.0</td>\n",
       "      <td>MD</td>\n",
       "      <td>2014</td>\n",
       "      <td>42.4</td>\n",
       "    </tr>\n",
       "    <tr>\n",
       "      <th>4</th>\n",
       "      <td>4.1</td>\n",
       "      <td>MD</td>\n",
       "      <td>2015</td>\n",
       "      <td>42.3</td>\n",
       "    </tr>\n",
       "  </tbody>\n",
       "</table>\n",
       "</div>"
      ],
      "text/plain": [
       "   popul state  year  delta\n",
       "0    5.0    VA  2012   37.1\n",
       "1    5.1    VA  2013   37.0\n",
       "2    5.2    VA  2014   36.9\n",
       "3    4.0    MD  2014   42.4\n",
       "4    4.1    MD  2015   42.3"
      ]
     },
     "execution_count": 71,
     "metadata": {},
     "output_type": "execute_result"
    }
   ],
   "source": [
    "df = df.drop('alt', axis=1)\n",
    "df"
   ]
  },
  {
   "cell_type": "markdown",
   "metadata": {
    "slideshow": {
     "slide_type": "subslide"
    }
   },
   "source": [
    "** Add, Delete Rows **"
   ]
  },
  {
   "cell_type": "code",
   "execution_count": 72,
   "metadata": {
    "slideshow": {
     "slide_type": "fragment"
    }
   },
   "outputs": [
    {
     "data": {
      "text/html": [
       "<div>\n",
       "<style scoped>\n",
       "    .dataframe tbody tr th:only-of-type {\n",
       "        vertical-align: middle;\n",
       "    }\n",
       "\n",
       "    .dataframe tbody tr th {\n",
       "        vertical-align: top;\n",
       "    }\n",
       "\n",
       "    .dataframe thead th {\n",
       "        text-align: right;\n",
       "    }\n",
       "</style>\n",
       "<table border=\"1\" class=\"dataframe\">\n",
       "  <thead>\n",
       "    <tr style=\"text-align: right;\">\n",
       "      <th></th>\n",
       "      <th>popul</th>\n",
       "      <th>state</th>\n",
       "      <th>year</th>\n",
       "      <th>delta</th>\n",
       "    </tr>\n",
       "  </thead>\n",
       "  <tbody>\n",
       "    <tr>\n",
       "      <th>0</th>\n",
       "      <td>5.0</td>\n",
       "      <td>VA</td>\n",
       "      <td>2012</td>\n",
       "      <td>37.1</td>\n",
       "    </tr>\n",
       "    <tr>\n",
       "      <th>1</th>\n",
       "      <td>5.1</td>\n",
       "      <td>VA</td>\n",
       "      <td>2013</td>\n",
       "      <td>37.0</td>\n",
       "    </tr>\n",
       "    <tr>\n",
       "      <th>2</th>\n",
       "      <td>5.2</td>\n",
       "      <td>VA</td>\n",
       "      <td>2014</td>\n",
       "      <td>36.9</td>\n",
       "    </tr>\n",
       "    <tr>\n",
       "      <th>3</th>\n",
       "      <td>4.0</td>\n",
       "      <td>MD</td>\n",
       "      <td>2014</td>\n",
       "      <td>42.4</td>\n",
       "    </tr>\n",
       "    <tr>\n",
       "      <th>4</th>\n",
       "      <td>4.1</td>\n",
       "      <td>MD</td>\n",
       "      <td>2015</td>\n",
       "      <td>42.3</td>\n",
       "    </tr>\n",
       "    <tr>\n",
       "      <th>5</th>\n",
       "      <td>9.7</td>\n",
       "      <td>SE</td>\n",
       "      <td>2016</td>\n",
       "      <td>72.1</td>\n",
       "    </tr>\n",
       "  </tbody>\n",
       "</table>\n",
       "</div>"
      ],
      "text/plain": [
       "   popul state  year  delta\n",
       "0    5.0    VA  2012   37.1\n",
       "1    5.1    VA  2013   37.0\n",
       "2    5.2    VA  2014   36.9\n",
       "3    4.0    MD  2014   42.4\n",
       "4    4.1    MD  2015   42.3\n",
       "5    9.7    SE  2016   72.1"
      ]
     },
     "execution_count": 72,
     "metadata": {},
     "output_type": "execute_result"
    }
   ],
   "source": [
    "df = df.append({'popul':9.7, 'state':'SE', 'year':2016, 'delta':72.1},\n",
    "               ignore_index=True)\n",
    "df"
   ]
  },
  {
   "cell_type": "code",
   "execution_count": 73,
   "metadata": {
    "slideshow": {
     "slide_type": "subslide"
    }
   },
   "outputs": [
    {
     "data": {
      "text/html": [
       "<div>\n",
       "<style scoped>\n",
       "    .dataframe tbody tr th:only-of-type {\n",
       "        vertical-align: middle;\n",
       "    }\n",
       "\n",
       "    .dataframe tbody tr th {\n",
       "        vertical-align: top;\n",
       "    }\n",
       "\n",
       "    .dataframe thead th {\n",
       "        text-align: right;\n",
       "    }\n",
       "</style>\n",
       "<table border=\"1\" class=\"dataframe\">\n",
       "  <thead>\n",
       "    <tr style=\"text-align: right;\">\n",
       "      <th></th>\n",
       "      <th>popul</th>\n",
       "      <th>state</th>\n",
       "      <th>year</th>\n",
       "      <th>delta</th>\n",
       "    </tr>\n",
       "  </thead>\n",
       "  <tbody>\n",
       "    <tr>\n",
       "      <th>0</th>\n",
       "      <td>5.0</td>\n",
       "      <td>VA</td>\n",
       "      <td>2012</td>\n",
       "      <td>37.1</td>\n",
       "    </tr>\n",
       "    <tr>\n",
       "      <th>1</th>\n",
       "      <td>5.1</td>\n",
       "      <td>VA</td>\n",
       "      <td>2013</td>\n",
       "      <td>37.0</td>\n",
       "    </tr>\n",
       "    <tr>\n",
       "      <th>2</th>\n",
       "      <td>5.2</td>\n",
       "      <td>VA</td>\n",
       "      <td>2014</td>\n",
       "      <td>36.9</td>\n",
       "    </tr>\n",
       "    <tr>\n",
       "      <th>3</th>\n",
       "      <td>4.0</td>\n",
       "      <td>MD</td>\n",
       "      <td>2014</td>\n",
       "      <td>42.4</td>\n",
       "    </tr>\n",
       "    <tr>\n",
       "      <th>4</th>\n",
       "      <td>4.1</td>\n",
       "      <td>MD</td>\n",
       "      <td>2015</td>\n",
       "      <td>42.3</td>\n",
       "    </tr>\n",
       "  </tbody>\n",
       "</table>\n",
       "</div>"
      ],
      "text/plain": [
       "   popul state  year  delta\n",
       "0    5.0    VA  2012   37.1\n",
       "1    5.1    VA  2013   37.0\n",
       "2    5.2    VA  2014   36.9\n",
       "3    4.0    MD  2014   42.4\n",
       "4    4.1    MD  2015   42.3"
      ]
     },
     "execution_count": 73,
     "metadata": {},
     "output_type": "execute_result"
    }
   ],
   "source": [
    "df = df.drop(5, axis=0)\n",
    "df"
   ]
  },
  {
   "cell_type": "markdown",
   "metadata": {
    "slideshow": {
     "slide_type": "subslide"
    }
   },
   "source": [
    "** Set Index **"
   ]
  },
  {
   "cell_type": "code",
   "execution_count": 74,
   "metadata": {
    "slideshow": {
     "slide_type": "fragment"
    }
   },
   "outputs": [
    {
     "data": {
      "text/html": [
       "<div>\n",
       "<style scoped>\n",
       "    .dataframe tbody tr th:only-of-type {\n",
       "        vertical-align: middle;\n",
       "    }\n",
       "\n",
       "    .dataframe tbody tr th {\n",
       "        vertical-align: top;\n",
       "    }\n",
       "\n",
       "    .dataframe thead th {\n",
       "        text-align: right;\n",
       "    }\n",
       "</style>\n",
       "<table border=\"1\" class=\"dataframe\">\n",
       "  <thead>\n",
       "    <tr style=\"text-align: right;\">\n",
       "      <th></th>\n",
       "      <th>state</th>\n",
       "      <th>year</th>\n",
       "      <th>delta</th>\n",
       "    </tr>\n",
       "    <tr>\n",
       "      <th>popul</th>\n",
       "      <th></th>\n",
       "      <th></th>\n",
       "      <th></th>\n",
       "    </tr>\n",
       "  </thead>\n",
       "  <tbody>\n",
       "    <tr>\n",
       "      <th>5.0</th>\n",
       "      <td>VA</td>\n",
       "      <td>2012</td>\n",
       "      <td>37.1</td>\n",
       "    </tr>\n",
       "    <tr>\n",
       "      <th>5.1</th>\n",
       "      <td>VA</td>\n",
       "      <td>2013</td>\n",
       "      <td>37.0</td>\n",
       "    </tr>\n",
       "    <tr>\n",
       "      <th>5.2</th>\n",
       "      <td>VA</td>\n",
       "      <td>2014</td>\n",
       "      <td>36.9</td>\n",
       "    </tr>\n",
       "    <tr>\n",
       "      <th>4.0</th>\n",
       "      <td>MD</td>\n",
       "      <td>2014</td>\n",
       "      <td>42.4</td>\n",
       "    </tr>\n",
       "    <tr>\n",
       "      <th>4.1</th>\n",
       "      <td>MD</td>\n",
       "      <td>2015</td>\n",
       "      <td>42.3</td>\n",
       "    </tr>\n",
       "  </tbody>\n",
       "</table>\n",
       "</div>"
      ],
      "text/plain": [
       "      state  year  delta\n",
       "popul                   \n",
       "5.0      VA  2012   37.1\n",
       "5.1      VA  2013   37.0\n",
       "5.2      VA  2014   36.9\n",
       "4.0      MD  2014   42.4\n",
       "4.1      MD  2015   42.3"
      ]
     },
     "execution_count": 74,
     "metadata": {},
     "output_type": "execute_result"
    }
   ],
   "source": [
    "df = df.set_index('popul')\n",
    "df"
   ]
  },
  {
   "cell_type": "markdown",
   "metadata": {
    "slideshow": {
     "slide_type": "subslide"
    }
   },
   "source": [
    "**Transpose **"
   ]
  },
  {
   "cell_type": "code",
   "execution_count": 75,
   "metadata": {
    "slideshow": {
     "slide_type": "fragment"
    }
   },
   "outputs": [
    {
     "data": {
      "text/html": [
       "<div>\n",
       "<style scoped>\n",
       "    .dataframe tbody tr th:only-of-type {\n",
       "        vertical-align: middle;\n",
       "    }\n",
       "\n",
       "    .dataframe tbody tr th {\n",
       "        vertical-align: top;\n",
       "    }\n",
       "\n",
       "    .dataframe thead th {\n",
       "        text-align: right;\n",
       "    }\n",
       "</style>\n",
       "<table border=\"1\" class=\"dataframe\">\n",
       "  <thead>\n",
       "    <tr style=\"text-align: right;\">\n",
       "      <th>popul</th>\n",
       "      <th>5.0</th>\n",
       "      <th>5.1</th>\n",
       "      <th>5.2</th>\n",
       "      <th>4.0</th>\n",
       "      <th>4.1</th>\n",
       "    </tr>\n",
       "  </thead>\n",
       "  <tbody>\n",
       "    <tr>\n",
       "      <th>state</th>\n",
       "      <td>VA</td>\n",
       "      <td>VA</td>\n",
       "      <td>VA</td>\n",
       "      <td>MD</td>\n",
       "      <td>MD</td>\n",
       "    </tr>\n",
       "    <tr>\n",
       "      <th>year</th>\n",
       "      <td>2012</td>\n",
       "      <td>2013</td>\n",
       "      <td>2014</td>\n",
       "      <td>2014</td>\n",
       "      <td>2015</td>\n",
       "    </tr>\n",
       "    <tr>\n",
       "      <th>delta</th>\n",
       "      <td>37.1</td>\n",
       "      <td>37</td>\n",
       "      <td>36.9</td>\n",
       "      <td>42.4</td>\n",
       "      <td>42.3</td>\n",
       "    </tr>\n",
       "  </tbody>\n",
       "</table>\n",
       "</div>"
      ],
      "text/plain": [
       "popul   5.0   5.1   5.2   4.0   4.1\n",
       "state    VA    VA    VA    MD    MD\n",
       "year   2012  2013  2014  2014  2015\n",
       "delta  37.1    37  36.9  42.4  42.3"
      ]
     },
     "execution_count": 75,
     "metadata": {},
     "output_type": "execute_result"
    }
   ],
   "source": [
    "df.T"
   ]
  },
  {
   "cell_type": "code",
   "execution_count": 76,
   "metadata": {
    "slideshow": {
     "slide_type": "subslide"
    }
   },
   "outputs": [
    {
     "data": {
      "text/plain": [
       "array([['VA', 2012, 37.1],\n",
       "       ['VA', 2013, 37.0],\n",
       "       ['VA', 2014, 36.9],\n",
       "       ['MD', 2014, 42.4],\n",
       "       ['MD', 2015, 42.3]], dtype=object)"
      ]
     },
     "execution_count": 76,
     "metadata": {},
     "output_type": "execute_result"
    }
   ],
   "source": [
    "df.values"
   ]
  },
  {
   "cell_type": "markdown",
   "metadata": {
    "slideshow": {
     "slide_type": "subslide"
    }
   },
   "source": [
    "** Selection, Filtering **"
   ]
  },
  {
   "cell_type": "code",
   "execution_count": 77,
   "metadata": {
    "slideshow": {
     "slide_type": "fragment"
    }
   },
   "outputs": [
    {
     "data": {
      "text/html": [
       "<div>\n",
       "<style scoped>\n",
       "    .dataframe tbody tr th:only-of-type {\n",
       "        vertical-align: middle;\n",
       "    }\n",
       "\n",
       "    .dataframe tbody tr th {\n",
       "        vertical-align: top;\n",
       "    }\n",
       "\n",
       "    .dataframe thead th {\n",
       "        text-align: right;\n",
       "    }\n",
       "</style>\n",
       "<table border=\"1\" class=\"dataframe\">\n",
       "  <thead>\n",
       "    <tr style=\"text-align: right;\">\n",
       "      <th></th>\n",
       "      <th>state</th>\n",
       "      <th>year</th>\n",
       "      <th>delta</th>\n",
       "    </tr>\n",
       "    <tr>\n",
       "      <th>popul</th>\n",
       "      <th></th>\n",
       "      <th></th>\n",
       "      <th></th>\n",
       "    </tr>\n",
       "  </thead>\n",
       "  <tbody>\n",
       "    <tr>\n",
       "      <th>5.0</th>\n",
       "      <td>VA</td>\n",
       "      <td>2012</td>\n",
       "      <td>37.1</td>\n",
       "    </tr>\n",
       "    <tr>\n",
       "      <th>5.1</th>\n",
       "      <td>VA</td>\n",
       "      <td>2013</td>\n",
       "      <td>37.0</td>\n",
       "    </tr>\n",
       "    <tr>\n",
       "      <th>5.2</th>\n",
       "      <td>VA</td>\n",
       "      <td>2014</td>\n",
       "      <td>36.9</td>\n",
       "    </tr>\n",
       "  </tbody>\n",
       "</table>\n",
       "</div>"
      ],
      "text/plain": [
       "      state  year  delta\n",
       "popul                   \n",
       "5.0      VA  2012   37.1\n",
       "5.1      VA  2013   37.0\n",
       "5.2      VA  2014   36.9"
      ]
     },
     "execution_count": 77,
     "metadata": {},
     "output_type": "execute_result"
    }
   ],
   "source": [
    "df[df['state']=='VA']"
   ]
  },
  {
   "cell_type": "code",
   "execution_count": 78,
   "metadata": {
    "slideshow": {
     "slide_type": "fragment"
    }
   },
   "outputs": [
    {
     "data": {
      "text/html": [
       "<div>\n",
       "<style scoped>\n",
       "    .dataframe tbody tr th:only-of-type {\n",
       "        vertical-align: middle;\n",
       "    }\n",
       "\n",
       "    .dataframe tbody tr th {\n",
       "        vertical-align: top;\n",
       "    }\n",
       "\n",
       "    .dataframe thead th {\n",
       "        text-align: right;\n",
       "    }\n",
       "</style>\n",
       "<table border=\"1\" class=\"dataframe\">\n",
       "  <thead>\n",
       "    <tr style=\"text-align: right;\">\n",
       "      <th></th>\n",
       "      <th>state</th>\n",
       "      <th>year</th>\n",
       "      <th>delta</th>\n",
       "    </tr>\n",
       "    <tr>\n",
       "      <th>popul</th>\n",
       "      <th></th>\n",
       "      <th></th>\n",
       "      <th></th>\n",
       "    </tr>\n",
       "  </thead>\n",
       "  <tbody>\n",
       "    <tr>\n",
       "      <th>5.2</th>\n",
       "      <td>VA</td>\n",
       "      <td>2014</td>\n",
       "      <td>36.9</td>\n",
       "    </tr>\n",
       "  </tbody>\n",
       "</table>\n",
       "</div>"
      ],
      "text/plain": [
       "      state  year  delta\n",
       "popul                   \n",
       "5.2      VA  2014   36.9"
      ]
     },
     "execution_count": 78,
     "metadata": {},
     "output_type": "execute_result"
    }
   ],
   "source": [
    "mask = (df['state']=='VA') & (df['year'] > 2013)\n",
    "df[mask]"
   ]
  },
  {
   "cell_type": "markdown",
   "metadata": {
    "slideshow": {
     "slide_type": "subslide"
    }
   },
   "source": [
    "** Apply Functions **\n",
    "\n",
    "<center>\n",
    "<img src=\"https://i.stack.imgur.com/DL0iQ.jpg\" alt=\"Drawing\" style=\"width: 500px;\"/>"
   ]
  },
  {
   "cell_type": "code",
   "execution_count": 79,
   "metadata": {
    "slideshow": {
     "slide_type": "fragment"
    }
   },
   "outputs": [
    {
     "data": {
      "text/plain": [
       "year     2013.60\n",
       "delta      39.14\n",
       "dtype: float64"
      ]
     },
     "execution_count": 79,
     "metadata": {},
     "output_type": "execute_result"
    }
   ],
   "source": [
    "def my_func(col):\n",
    "    return np.mean(col)\n",
    "\n",
    "mask = [i for i in df.columns if i != 'state']\n",
    "df[mask].apply(my_func, axis=0)"
   ]
  },
  {
   "cell_type": "code",
   "execution_count": 80,
   "metadata": {
    "slideshow": {
     "slide_type": "fragment"
    }
   },
   "outputs": [
    {
     "data": {
      "text/plain": [
       "year     2013.60\n",
       "delta      39.14\n",
       "dtype: float64"
      ]
     },
     "execution_count": 80,
     "metadata": {},
     "output_type": "execute_result"
    }
   ],
   "source": [
    "df[mask].apply(lambda col: np.mean(col), axis=0)"
   ]
  },
  {
   "cell_type": "markdown",
   "metadata": {
    "slideshow": {
     "slide_type": "subslide"
    }
   },
   "source": [
    "** Elementwise Apply Function **"
   ]
  },
  {
   "cell_type": "code",
   "execution_count": 81,
   "metadata": {
    "slideshow": {
     "slide_type": "fragment"
    }
   },
   "outputs": [
    {
     "data": {
      "text/html": [
       "<div>\n",
       "<style scoped>\n",
       "    .dataframe tbody tr th:only-of-type {\n",
       "        vertical-align: middle;\n",
       "    }\n",
       "\n",
       "    .dataframe tbody tr th {\n",
       "        vertical-align: top;\n",
       "    }\n",
       "\n",
       "    .dataframe thead th {\n",
       "        text-align: right;\n",
       "    }\n",
       "</style>\n",
       "<table border=\"1\" class=\"dataframe\">\n",
       "  <thead>\n",
       "    <tr style=\"text-align: right;\">\n",
       "      <th></th>\n",
       "      <th>year</th>\n",
       "      <th>delta</th>\n",
       "    </tr>\n",
       "    <tr>\n",
       "      <th>popul</th>\n",
       "      <th></th>\n",
       "      <th></th>\n",
       "    </tr>\n",
       "  </thead>\n",
       "  <tbody>\n",
       "    <tr>\n",
       "      <th>5.0</th>\n",
       "      <td>203.2</td>\n",
       "      <td>5.71</td>\n",
       "    </tr>\n",
       "    <tr>\n",
       "      <th>5.1</th>\n",
       "      <td>203.3</td>\n",
       "      <td>5.70</td>\n",
       "    </tr>\n",
       "    <tr>\n",
       "      <th>5.2</th>\n",
       "      <td>203.4</td>\n",
       "      <td>5.69</td>\n",
       "    </tr>\n",
       "    <tr>\n",
       "      <th>4.0</th>\n",
       "      <td>203.4</td>\n",
       "      <td>6.24</td>\n",
       "    </tr>\n",
       "    <tr>\n",
       "      <th>4.1</th>\n",
       "      <td>203.5</td>\n",
       "      <td>6.23</td>\n",
       "    </tr>\n",
       "  </tbody>\n",
       "</table>\n",
       "</div>"
      ],
      "text/plain": [
       "        year  delta\n",
       "popul              \n",
       "5.0    203.2   5.71\n",
       "5.1    203.3   5.70\n",
       "5.2    203.4   5.69\n",
       "4.0    203.4   6.24\n",
       "4.1    203.5   6.23"
      ]
     },
     "execution_count": 81,
     "metadata": {},
     "output_type": "execute_result"
    }
   ],
   "source": [
    "df[mask].applymap(lambda x: x/10 + 2)"
   ]
  },
  {
   "cell_type": "markdown",
   "metadata": {
    "slideshow": {
     "slide_type": "subslide"
    }
   },
   "source": [
    "** Sorting **"
   ]
  },
  {
   "cell_type": "code",
   "execution_count": 82,
   "metadata": {
    "slideshow": {
     "slide_type": "fragment"
    }
   },
   "outputs": [
    {
     "data": {
      "text/html": [
       "<div>\n",
       "<style scoped>\n",
       "    .dataframe tbody tr th:only-of-type {\n",
       "        vertical-align: middle;\n",
       "    }\n",
       "\n",
       "    .dataframe tbody tr th {\n",
       "        vertical-align: top;\n",
       "    }\n",
       "\n",
       "    .dataframe thead th {\n",
       "        text-align: right;\n",
       "    }\n",
       "</style>\n",
       "<table border=\"1\" class=\"dataframe\">\n",
       "  <thead>\n",
       "    <tr style=\"text-align: right;\">\n",
       "      <th></th>\n",
       "      <th>state</th>\n",
       "      <th>year</th>\n",
       "      <th>delta</th>\n",
       "    </tr>\n",
       "    <tr>\n",
       "      <th>popul</th>\n",
       "      <th></th>\n",
       "      <th></th>\n",
       "      <th></th>\n",
       "    </tr>\n",
       "  </thead>\n",
       "  <tbody>\n",
       "    <tr>\n",
       "      <th>5.0</th>\n",
       "      <td>VA</td>\n",
       "      <td>2012</td>\n",
       "      <td>37.1</td>\n",
       "    </tr>\n",
       "    <tr>\n",
       "      <th>5.1</th>\n",
       "      <td>VA</td>\n",
       "      <td>2013</td>\n",
       "      <td>37.0</td>\n",
       "    </tr>\n",
       "    <tr>\n",
       "      <th>5.2</th>\n",
       "      <td>VA</td>\n",
       "      <td>2014</td>\n",
       "      <td>36.9</td>\n",
       "    </tr>\n",
       "    <tr>\n",
       "      <th>4.0</th>\n",
       "      <td>MD</td>\n",
       "      <td>2014</td>\n",
       "      <td>42.4</td>\n",
       "    </tr>\n",
       "    <tr>\n",
       "      <th>4.1</th>\n",
       "      <td>MD</td>\n",
       "      <td>2015</td>\n",
       "      <td>42.3</td>\n",
       "    </tr>\n",
       "  </tbody>\n",
       "</table>\n",
       "</div>"
      ],
      "text/plain": [
       "      state  year  delta\n",
       "popul                   \n",
       "5.0      VA  2012   37.1\n",
       "5.1      VA  2013   37.0\n",
       "5.2      VA  2014   36.9\n",
       "4.0      MD  2014   42.4\n",
       "4.1      MD  2015   42.3"
      ]
     },
     "execution_count": 82,
     "metadata": {},
     "output_type": "execute_result"
    }
   ],
   "source": [
    "df.sort_values(by=['year', 'delta'])"
   ]
  },
  {
   "cell_type": "markdown",
   "metadata": {
    "slideshow": {
     "slide_type": "subslide"
    }
   },
   "source": [
    "## Data Merge, Join\n",
    "\n",
    "<center>\n",
    "<img src=\"https://i.stack.imgur.com/hMKKt.jpg\" alt=\"Drawing\" style=\"width: 500px;\"/>\n",
    "</center>\n",
    "See [here](https://pandas.pydata.org/pandas-docs/stable/merging.html)."
   ]
  },
  {
   "cell_type": "markdown",
   "metadata": {
    "slideshow": {
     "slide_type": "subslide"
    }
   },
   "source": [
    "**Concatenate**\n",
    "<center>\n",
    "<img src=\"https://pandas.pydata.org/pandas-docs/stable/_images/merging_concat_basic.png\" alt=\"Drawing\" style=\"width: 400px;\"/>\n",
    "</center>"
   ]
  },
  {
   "cell_type": "code",
   "execution_count": 83,
   "metadata": {
    "collapsed": true,
    "slideshow": {
     "slide_type": "subslide"
    }
   },
   "outputs": [],
   "source": [
    "df1 = pd.DataFrame({'A': ['A0', 'A1', 'A2', 'A3'],\n",
    "                    'B': ['B0', 'B1', 'B2', 'B3'],\n",
    "                    'C': ['C0', 'C1', 'C2', 'C3'],\n",
    "                    'D': ['D0', 'D1', 'D2', 'D3']},\n",
    "                     index=[0, 1, 2, 3])\n",
    "df2 = pd.DataFrame({'A': ['A4', 'A5', 'A6', 'A7'],\n",
    "                    'B': ['B4', 'B5', 'B6', 'B7'],\n",
    "                    'C': ['C4', 'C5', 'C6', 'C7'],\n",
    "                    'D': ['D4', 'D5', 'D6', 'D7']},\n",
    "                    index=[4, 5, 6, 7])\n",
    "\n",
    "df3 = pd.DataFrame({'A': ['A8', 'A9', 'A10', 'A11'],     \n",
    "                    'B': ['B8', 'B9', 'B10', 'B11'],\n",
    "                    'C': ['C8', 'C9', 'C10', 'C11'],\n",
    "                    'D': ['D8', 'D9', 'D10', 'D11']},\n",
    "                   index=[8, 9, 10, 11])"
   ]
  },
  {
   "cell_type": "code",
   "execution_count": 84,
   "metadata": {
    "slideshow": {
     "slide_type": "subslide"
    }
   },
   "outputs": [
    {
     "data": {
      "text/html": [
       "<div>\n",
       "<style scoped>\n",
       "    .dataframe tbody tr th:only-of-type {\n",
       "        vertical-align: middle;\n",
       "    }\n",
       "\n",
       "    .dataframe tbody tr th {\n",
       "        vertical-align: top;\n",
       "    }\n",
       "\n",
       "    .dataframe thead th {\n",
       "        text-align: right;\n",
       "    }\n",
       "</style>\n",
       "<table border=\"1\" class=\"dataframe\">\n",
       "  <thead>\n",
       "    <tr style=\"text-align: right;\">\n",
       "      <th></th>\n",
       "      <th>A</th>\n",
       "      <th>B</th>\n",
       "      <th>C</th>\n",
       "      <th>D</th>\n",
       "    </tr>\n",
       "  </thead>\n",
       "  <tbody>\n",
       "    <tr>\n",
       "      <th>0</th>\n",
       "      <td>A0</td>\n",
       "      <td>B0</td>\n",
       "      <td>C0</td>\n",
       "      <td>D0</td>\n",
       "    </tr>\n",
       "    <tr>\n",
       "      <th>1</th>\n",
       "      <td>A1</td>\n",
       "      <td>B1</td>\n",
       "      <td>C1</td>\n",
       "      <td>D1</td>\n",
       "    </tr>\n",
       "    <tr>\n",
       "      <th>2</th>\n",
       "      <td>A2</td>\n",
       "      <td>B2</td>\n",
       "      <td>C2</td>\n",
       "      <td>D2</td>\n",
       "    </tr>\n",
       "    <tr>\n",
       "      <th>3</th>\n",
       "      <td>A3</td>\n",
       "      <td>B3</td>\n",
       "      <td>C3</td>\n",
       "      <td>D3</td>\n",
       "    </tr>\n",
       "    <tr>\n",
       "      <th>4</th>\n",
       "      <td>A4</td>\n",
       "      <td>B4</td>\n",
       "      <td>C4</td>\n",
       "      <td>D4</td>\n",
       "    </tr>\n",
       "    <tr>\n",
       "      <th>5</th>\n",
       "      <td>A5</td>\n",
       "      <td>B5</td>\n",
       "      <td>C5</td>\n",
       "      <td>D5</td>\n",
       "    </tr>\n",
       "    <tr>\n",
       "      <th>6</th>\n",
       "      <td>A6</td>\n",
       "      <td>B6</td>\n",
       "      <td>C6</td>\n",
       "      <td>D6</td>\n",
       "    </tr>\n",
       "    <tr>\n",
       "      <th>7</th>\n",
       "      <td>A7</td>\n",
       "      <td>B7</td>\n",
       "      <td>C7</td>\n",
       "      <td>D7</td>\n",
       "    </tr>\n",
       "    <tr>\n",
       "      <th>8</th>\n",
       "      <td>A8</td>\n",
       "      <td>B8</td>\n",
       "      <td>C8</td>\n",
       "      <td>D8</td>\n",
       "    </tr>\n",
       "    <tr>\n",
       "      <th>9</th>\n",
       "      <td>A9</td>\n",
       "      <td>B9</td>\n",
       "      <td>C9</td>\n",
       "      <td>D9</td>\n",
       "    </tr>\n",
       "    <tr>\n",
       "      <th>10</th>\n",
       "      <td>A10</td>\n",
       "      <td>B10</td>\n",
       "      <td>C10</td>\n",
       "      <td>D10</td>\n",
       "    </tr>\n",
       "    <tr>\n",
       "      <th>11</th>\n",
       "      <td>A11</td>\n",
       "      <td>B11</td>\n",
       "      <td>C11</td>\n",
       "      <td>D11</td>\n",
       "    </tr>\n",
       "  </tbody>\n",
       "</table>\n",
       "</div>"
      ],
      "text/plain": [
       "      A    B    C    D\n",
       "0    A0   B0   C0   D0\n",
       "1    A1   B1   C1   D1\n",
       "2    A2   B2   C2   D2\n",
       "3    A3   B3   C3   D3\n",
       "4    A4   B4   C4   D4\n",
       "5    A5   B5   C5   D5\n",
       "6    A6   B6   C6   D6\n",
       "7    A7   B7   C7   D7\n",
       "8    A8   B8   C8   D8\n",
       "9    A9   B9   C9   D9\n",
       "10  A10  B10  C10  D10\n",
       "11  A11  B11  C11  D11"
      ]
     },
     "execution_count": 84,
     "metadata": {},
     "output_type": "execute_result"
    }
   ],
   "source": [
    "pd.concat([df1, df2, df3])      # axis=0"
   ]
  },
  {
   "cell_type": "markdown",
   "metadata": {
    "slideshow": {
     "slide_type": "subslide"
    }
   },
   "source": [
    "**Outer Join**\n",
    "<center>\n",
    "<img src=\"https://pandas.pydata.org/pandas-docs/stable/_images/merging_concat_axis1.png\" alt=\"Drawing\" style=\"width: 600px;\"/>\n",
    "</center>"
   ]
  },
  {
   "cell_type": "code",
   "execution_count": 85,
   "metadata": {
    "collapsed": true,
    "slideshow": {
     "slide_type": "fragment"
    }
   },
   "outputs": [],
   "source": [
    "df4 = pd.DataFrame({'B': ['B2', 'B3', 'B6', 'B7'],\n",
    "                    'D': ['D2', 'D3', 'D6', 'D7'],\n",
    "                    'F': ['F2', 'F3', 'F6', 'F7']},\n",
    "                   index=[2, 3, 6, 7])"
   ]
  },
  {
   "cell_type": "code",
   "execution_count": 86,
   "metadata": {
    "slideshow": {
     "slide_type": "subslide"
    }
   },
   "outputs": [
    {
     "data": {
      "text/html": [
       "<div>\n",
       "<style scoped>\n",
       "    .dataframe tbody tr th:only-of-type {\n",
       "        vertical-align: middle;\n",
       "    }\n",
       "\n",
       "    .dataframe tbody tr th {\n",
       "        vertical-align: top;\n",
       "    }\n",
       "\n",
       "    .dataframe thead th {\n",
       "        text-align: right;\n",
       "    }\n",
       "</style>\n",
       "<table border=\"1\" class=\"dataframe\">\n",
       "  <thead>\n",
       "    <tr style=\"text-align: right;\">\n",
       "      <th></th>\n",
       "      <th>A</th>\n",
       "      <th>B</th>\n",
       "      <th>C</th>\n",
       "      <th>D</th>\n",
       "      <th>B</th>\n",
       "      <th>D</th>\n",
       "      <th>F</th>\n",
       "    </tr>\n",
       "  </thead>\n",
       "  <tbody>\n",
       "    <tr>\n",
       "      <th>0</th>\n",
       "      <td>A0</td>\n",
       "      <td>B0</td>\n",
       "      <td>C0</td>\n",
       "      <td>D0</td>\n",
       "      <td>NaN</td>\n",
       "      <td>NaN</td>\n",
       "      <td>NaN</td>\n",
       "    </tr>\n",
       "    <tr>\n",
       "      <th>1</th>\n",
       "      <td>A1</td>\n",
       "      <td>B1</td>\n",
       "      <td>C1</td>\n",
       "      <td>D1</td>\n",
       "      <td>NaN</td>\n",
       "      <td>NaN</td>\n",
       "      <td>NaN</td>\n",
       "    </tr>\n",
       "    <tr>\n",
       "      <th>2</th>\n",
       "      <td>A2</td>\n",
       "      <td>B2</td>\n",
       "      <td>C2</td>\n",
       "      <td>D2</td>\n",
       "      <td>B2</td>\n",
       "      <td>D2</td>\n",
       "      <td>F2</td>\n",
       "    </tr>\n",
       "    <tr>\n",
       "      <th>3</th>\n",
       "      <td>A3</td>\n",
       "      <td>B3</td>\n",
       "      <td>C3</td>\n",
       "      <td>D3</td>\n",
       "      <td>B3</td>\n",
       "      <td>D3</td>\n",
       "      <td>F3</td>\n",
       "    </tr>\n",
       "    <tr>\n",
       "      <th>6</th>\n",
       "      <td>NaN</td>\n",
       "      <td>NaN</td>\n",
       "      <td>NaN</td>\n",
       "      <td>NaN</td>\n",
       "      <td>B6</td>\n",
       "      <td>D6</td>\n",
       "      <td>F6</td>\n",
       "    </tr>\n",
       "    <tr>\n",
       "      <th>7</th>\n",
       "      <td>NaN</td>\n",
       "      <td>NaN</td>\n",
       "      <td>NaN</td>\n",
       "      <td>NaN</td>\n",
       "      <td>B7</td>\n",
       "      <td>D7</td>\n",
       "      <td>F7</td>\n",
       "    </tr>\n",
       "  </tbody>\n",
       "</table>\n",
       "</div>"
      ],
      "text/plain": [
       "     A    B    C    D    B    D    F\n",
       "0   A0   B0   C0   D0  NaN  NaN  NaN\n",
       "1   A1   B1   C1   D1  NaN  NaN  NaN\n",
       "2   A2   B2   C2   D2   B2   D2   F2\n",
       "3   A3   B3   C3   D3   B3   D3   F3\n",
       "6  NaN  NaN  NaN  NaN   B6   D6   F6\n",
       "7  NaN  NaN  NaN  NaN   B7   D7   F7"
      ]
     },
     "execution_count": 86,
     "metadata": {},
     "output_type": "execute_result"
    }
   ],
   "source": [
    "pd.concat([df1, df4], axis=1) "
   ]
  },
  {
   "cell_type": "markdown",
   "metadata": {
    "slideshow": {
     "slide_type": "subslide"
    }
   },
   "source": [
    "**Inner Join**\n",
    "<center>\n",
    "<img src=\"https://pandas.pydata.org/pandas-docs/stable/_images/merging_concat_axis1_inner.png\" alt=\"Drawing\" style=\"width: 600px;\"/>\n",
    "</center>"
   ]
  },
  {
   "cell_type": "code",
   "execution_count": 87,
   "metadata": {
    "slideshow": {
     "slide_type": "subslide"
    }
   },
   "outputs": [
    {
     "data": {
      "text/html": [
       "<div>\n",
       "<style scoped>\n",
       "    .dataframe tbody tr th:only-of-type {\n",
       "        vertical-align: middle;\n",
       "    }\n",
       "\n",
       "    .dataframe tbody tr th {\n",
       "        vertical-align: top;\n",
       "    }\n",
       "\n",
       "    .dataframe thead th {\n",
       "        text-align: right;\n",
       "    }\n",
       "</style>\n",
       "<table border=\"1\" class=\"dataframe\">\n",
       "  <thead>\n",
       "    <tr style=\"text-align: right;\">\n",
       "      <th></th>\n",
       "      <th>A</th>\n",
       "      <th>B</th>\n",
       "      <th>C</th>\n",
       "      <th>D</th>\n",
       "      <th>B</th>\n",
       "      <th>D</th>\n",
       "      <th>F</th>\n",
       "    </tr>\n",
       "  </thead>\n",
       "  <tbody>\n",
       "    <tr>\n",
       "      <th>2</th>\n",
       "      <td>A2</td>\n",
       "      <td>B2</td>\n",
       "      <td>C2</td>\n",
       "      <td>D2</td>\n",
       "      <td>B2</td>\n",
       "      <td>D2</td>\n",
       "      <td>F2</td>\n",
       "    </tr>\n",
       "    <tr>\n",
       "      <th>3</th>\n",
       "      <td>A3</td>\n",
       "      <td>B3</td>\n",
       "      <td>C3</td>\n",
       "      <td>D3</td>\n",
       "      <td>B3</td>\n",
       "      <td>D3</td>\n",
       "      <td>F3</td>\n",
       "    </tr>\n",
       "  </tbody>\n",
       "</table>\n",
       "</div>"
      ],
      "text/plain": [
       "    A   B   C   D   B   D   F\n",
       "2  A2  B2  C2  D2  B2  D2  F2\n",
       "3  A3  B3  C3  D3  B3  D3  F3"
      ]
     },
     "execution_count": 87,
     "metadata": {},
     "output_type": "execute_result"
    }
   ],
   "source": [
    "pd.concat([df1, df4], axis=1, join='inner') "
   ]
  },
  {
   "cell_type": "markdown",
   "metadata": {
    "slideshow": {
     "slide_type": "subslide"
    }
   },
   "source": [
    "**Left Join**\n",
    "<center>\n",
    "<img src=\"https://pandas.pydata.org/pandas-docs/stable/_images/merging_concat_axis1_join_axes.png\" alt=\"Drawing\" style=\"width: 600px;\"/>\n",
    "</center>"
   ]
  },
  {
   "cell_type": "code",
   "execution_count": 88,
   "metadata": {
    "slideshow": {
     "slide_type": "subslide"
    }
   },
   "outputs": [
    {
     "data": {
      "text/html": [
       "<div>\n",
       "<style scoped>\n",
       "    .dataframe tbody tr th:only-of-type {\n",
       "        vertical-align: middle;\n",
       "    }\n",
       "\n",
       "    .dataframe tbody tr th {\n",
       "        vertical-align: top;\n",
       "    }\n",
       "\n",
       "    .dataframe thead th {\n",
       "        text-align: right;\n",
       "    }\n",
       "</style>\n",
       "<table border=\"1\" class=\"dataframe\">\n",
       "  <thead>\n",
       "    <tr style=\"text-align: right;\">\n",
       "      <th></th>\n",
       "      <th>A</th>\n",
       "      <th>B</th>\n",
       "      <th>C</th>\n",
       "      <th>D</th>\n",
       "      <th>B</th>\n",
       "      <th>D</th>\n",
       "      <th>F</th>\n",
       "    </tr>\n",
       "  </thead>\n",
       "  <tbody>\n",
       "    <tr>\n",
       "      <th>0</th>\n",
       "      <td>A0</td>\n",
       "      <td>B0</td>\n",
       "      <td>C0</td>\n",
       "      <td>D0</td>\n",
       "      <td>NaN</td>\n",
       "      <td>NaN</td>\n",
       "      <td>NaN</td>\n",
       "    </tr>\n",
       "    <tr>\n",
       "      <th>1</th>\n",
       "      <td>A1</td>\n",
       "      <td>B1</td>\n",
       "      <td>C1</td>\n",
       "      <td>D1</td>\n",
       "      <td>NaN</td>\n",
       "      <td>NaN</td>\n",
       "      <td>NaN</td>\n",
       "    </tr>\n",
       "    <tr>\n",
       "      <th>2</th>\n",
       "      <td>A2</td>\n",
       "      <td>B2</td>\n",
       "      <td>C2</td>\n",
       "      <td>D2</td>\n",
       "      <td>B2</td>\n",
       "      <td>D2</td>\n",
       "      <td>F2</td>\n",
       "    </tr>\n",
       "    <tr>\n",
       "      <th>3</th>\n",
       "      <td>A3</td>\n",
       "      <td>B3</td>\n",
       "      <td>C3</td>\n",
       "      <td>D3</td>\n",
       "      <td>B3</td>\n",
       "      <td>D3</td>\n",
       "      <td>F3</td>\n",
       "    </tr>\n",
       "  </tbody>\n",
       "</table>\n",
       "</div>"
      ],
      "text/plain": [
       "    A   B   C   D    B    D    F\n",
       "0  A0  B0  C0  D0  NaN  NaN  NaN\n",
       "1  A1  B1  C1  D1  NaN  NaN  NaN\n",
       "2  A2  B2  C2  D2   B2   D2   F2\n",
       "3  A3  B3  C3  D3   B3   D3   F3"
      ]
     },
     "execution_count": 88,
     "metadata": {},
     "output_type": "execute_result"
    }
   ],
   "source": [
    "pd.concat([df1, df4], axis=1, join_axes=[df1.index]) "
   ]
  },
  {
   "cell_type": "markdown",
   "metadata": {
    "slideshow": {
     "slide_type": "subslide"
    }
   },
   "source": [
    "** More about SQL-like structures**\n",
    "\n",
    "| **Merge method** | **SQL Join Name**  | **Descriptions**                          |\n",
    "| :- | :- | :-\n",
    "|      `left`      |  `LEFT OUTER JOIN` |       Use keys from left frame only       |\n",
    "|      `right`     | `Right OUTER JOIN` |       Use keys from right frame only      |\n",
    "|      `outer`     |  `FULL OUTER JOIN` |     Use union of keys from both frames    |\n",
    "|      `inner`     |    `INNER JOIN`    | Use intersection of keys from both frames |\n",
    "\n",
    "For detail, see [here](https://pandas.pydata.org/pandas-docs/stable/merging.html)."
   ]
  },
  {
   "cell_type": "markdown",
   "metadata": {},
   "source": [
    "**groupby**"
   ]
  },
  {
   "cell_type": "code",
   "execution_count": null,
   "metadata": {
    "collapsed": true
   },
   "outputs": [],
   "source": [
    "df.g"
   ]
  },
  {
   "cell_type": "markdown",
   "metadata": {
    "slideshow": {
     "slide_type": "slide"
    }
   },
   "source": [
    "# Matplotlib\n",
    "<center>\n",
    "<img src=\"https://matplotlib.org/_static/logo2.png\" alt=\"Drawing\" style=\"width: 500px;\"/>\n",
    "</center>\n",
    "\n",
    "* 2D, 3D plotting\n",
    "* With jupyter, interactive mode"
   ]
  },
  {
   "cell_type": "code",
   "execution_count": 89,
   "metadata": {
    "collapsed": true,
    "slideshow": {
     "slide_type": "subslide"
    }
   },
   "outputs": [],
   "source": [
    "import matplotlib.pyplot as plt"
   ]
  },
  {
   "cell_type": "markdown",
   "metadata": {
    "slideshow": {
     "slide_type": "subslide"
    }
   },
   "source": [
    "### Basic Line Plot"
   ]
  },
  {
   "cell_type": "code",
   "execution_count": 90,
   "metadata": {
    "slideshow": {
     "slide_type": "fragment"
    }
   },
   "outputs": [
    {
     "data": {
      "image/png": "[encoded data removed]",
      "text/plain": [
       "<matplotlib.figure.Figure at 0x9eb0dd8>"
      ]
     },
     "metadata": {},
     "output_type": "display_data"
    }
   ],
   "source": [
    "x = np.array([0.1*i for i in range(100)])\n",
    "y = np.sin(x)\n",
    "plt.plot(x, y)\n",
    "plt.show()"
   ]
  },
  {
   "cell_type": "code",
   "execution_count": 91,
   "metadata": {
    "slideshow": {
     "slide_type": "subslide"
    }
   },
   "outputs": [
    {
     "data": {
      "image/png": "[encoded data removed]",
      "text/plain": [
       "<matplotlib.figure.Figure at 0x9eb0e10>"
      ]
     },
     "metadata": {},
     "output_type": "display_data"
    }
   ],
   "source": [
    "plt.plot(x, y, 'r--')\n",
    "plt.title('x vs y')\n",
    "plt.xlabel('x')\n",
    "plt.ylabel('y')\n",
    "plt.show()"
   ]
  },
  {
   "cell_type": "markdown",
   "metadata": {
    "slideshow": {
     "slide_type": "subslide"
    }
   },
   "source": [
    "## Scatter Plot"
   ]
  },
  {
   "cell_type": "code",
   "execution_count": 92,
   "metadata": {
    "slideshow": {
     "slide_type": "fragment"
    }
   },
   "outputs": [
    {
     "data": {
      "image/png": "[encoded data removed]",
      "text/plain": [
       "<matplotlib.figure.Figure at 0x9f3dd68>"
      ]
     },
     "metadata": {},
     "output_type": "display_data"
    }
   ],
   "source": [
    "x = np.random.randn(100)\n",
    "y = np.random.randn(100)\n",
    "colors = np.random.randn(100)\n",
    "area = np.pi * (15*np.random.rand(100))**2\n",
    "plt.scatter(x, y, s=area, c=colors, alpha=0.5)\n",
    "plt.show()"
   ]
  },
  {
   "cell_type": "markdown",
   "metadata": {
    "slideshow": {
     "slide_type": "subslide"
    }
   },
   "source": [
    "## Bar Chart"
   ]
  },
  {
   "cell_type": "code",
   "execution_count": 93,
   "metadata": {
    "slideshow": {
     "slide_type": "fragment"
    }
   },
   "outputs": [
    {
     "data": {
      "image/png": "[encoded data removed]",
      "text/plain": [
       "<matplotlib.figure.Figure at 0x9fc5c88>"
      ]
     },
     "metadata": {},
     "output_type": "display_data"
    }
   ],
   "source": [
    "x = [1, 2, 3, 4]\n",
    "y = [0.7, 0.3, 0.5, 0.2]\n",
    "plt.figure(figsize=(10,5))\n",
    "plt.bar(x, y, align='center', alpha=0.5)\n",
    "plt.xticks(x, ['Value', 'Momentum', 'Low PER', 'High B/M'])\n",
    "plt.ylabel('Sharpe Ratio')\n",
    "plt.show()"
   ]
  },
  {
   "cell_type": "markdown",
   "metadata": {
    "collapsed": true,
    "slideshow": {
     "slide_type": "subslide"
    }
   },
   "source": [
    "## Distribution Plot"
   ]
  },
  {
   "cell_type": "code",
   "execution_count": 94,
   "metadata": {
    "slideshow": {
     "slide_type": "fragment"
    }
   },
   "outputs": [
    {
     "data": {
      "image/png": "[encoded data removed]",
      "text/plain": [
       "<matplotlib.figure.Figure at 0x9eb09e8>"
      ]
     },
     "metadata": {},
     "output_type": "display_data"
    }
   ],
   "source": [
    "x = 0.5 + np.random.randn(10000)\n",
    "plt.hist(x, alpha=0.5)\n",
    "plt.show()"
   ]
  },
  {
   "cell_type": "code",
   "execution_count": 95,
   "metadata": {
    "slideshow": {
     "slide_type": "subslide"
    }
   },
   "outputs": [
    {
     "data": {
      "image/png": "[encoded data removed]",
      "text/plain": [
       "<matplotlib.figure.Figure at 0x9eb0b70>"
      ]
     },
     "metadata": {},
     "output_type": "display_data"
    }
   ],
   "source": [
    "y = -0.5 + 0.2*np.random.randn(10000)\n",
    "plt.hist(x, alpha=0.5, color='b', label='x', normed=True, bins=30)\n",
    "plt.hist(y, alpha=0.5, color='r', label='y', normed=True, bins=10)\n",
    "plt.legend()\n",
    "plt.show()"
   ]
  },
  {
   "cell_type": "markdown",
   "metadata": {
    "collapsed": true,
    "slideshow": {
     "slide_type": "subslide"
    }
   },
   "source": [
    "## 3D Plot"
   ]
  },
  {
   "cell_type": "code",
   "execution_count": 96,
   "metadata": {
    "collapsed": true,
    "slideshow": {
     "slide_type": "fragment"
    }
   },
   "outputs": [],
   "source": [
    "from mpl_toolkits.mplot3d import Axes3D\n",
    "%matplotlib notebook"
   ]
  },
  {
   "cell_type": "markdown",
   "metadata": {
    "slideshow": {
     "slide_type": "subslide"
    }
   },
   "source": [
    "** 3D Line **"
   ]
  },
  {
   "cell_type": "code",
   "execution_count": 97,
   "metadata": {
    "slideshow": {
     "slide_type": "fragment"
    }
   },
   "outputs": [
    {
     "data": {
      "application/javascript": [
       "/* Put everything inside the global mpl namespace */\n",
       "window.mpl = {};\n",
       "\n",
       "\n",
       "mpl.get_websocket_type = function() {\n",
       "    if (typeof(WebSocket) !== 'undefined') {\n",
       "        return WebSocket;\n",
       "    } else if (typeof(MozWebSocket) !== 'undefined') {\n",
       "        return MozWebSocket;\n",
       "    } else {\n",
       "        alert('Your browser does not have WebSocket support.' +\n",
       "              'Please try Chrome, Safari or Firefox ≥ 6. ' +\n",
       "              'Firefox 4 and 5 are also supported but you ' +\n",
       "              'have to enable WebSockets in about:config.');\n",
       "    };\n",
       "}\n",
       "\n",
       "mpl.figure = function(figure_id, websocket, ondownload, parent_element) {\n",
       "    this.id = figure_id;\n",
       "\n",
       "    this.ws = websocket;\n",
       "\n",
       "    this.supports_binary = (this.ws.binaryType != undefined);\n",
       "\n",
       "    if (!this.supports_binary) {\n",
       "        var warnings = document.getElementById(\"mpl-warnings\");\n",
       "        if (warnings) {\n",
       "            warnings.style.display = 'block';\n",
       "            warnings.textContent = (\n",
       "                \"This browser does not support binary websocket messages. \" +\n",
       "                    \"Performance may be slow.\");\n",
       "        }\n",
       "    }\n",
       "\n",
       "    this.imageObj = new Image();\n",
       "\n",
       "    this.context = undefined;\n",
       "    this.message = undefined;\n",
       "    this.canvas = undefined;\n",
       "    this.rubberband_canvas = undefined;\n",
       "    this.rubberband_context = undefined;\n",
       "    this.format_dropdown = undefined;\n",
       "\n",
       "    this.image_mode = 'full';\n",
       "\n",
       "    this.root = $('<div/>');\n",
       "    this._root_extra_style(this.root)\n",
       "    this.root.attr('style', 'display: inline-block');\n",
       "\n",
       "    $(parent_element).append(this.root);\n",
       "\n",
       "    this._init_header(this);\n",
       "    this._init_canvas(this);\n",
       "    this._init_toolbar(this);\n",
       "\n",
       "    var fig = this;\n",
       "\n",
       "    this.waiting = false;\n",
       "\n",
       "    this.ws.onopen =  function () {\n",
       "            fig.send_message(\"supports_binary\", {value: fig.supports_binary});\n",
       "            fig.send_message(\"send_image_mode\", {});\n",
       "            if (mpl.ratio != 1) {\n",
       "                fig.send_message(\"set_dpi_ratio\", {'dpi_ratio': mpl.ratio});\n",
       "            }\n",
       "            fig.send_message(\"refresh\", {});\n",
       "        }\n",
       "\n",
       "    this.imageObj.onload = function() {\n",
       "            if (fig.image_mode == 'full') {\n",
       "                // Full images could contain transparency (where diff images\n",
       "                // almost always do), so we need to clear the canvas so that\n",
       "                // there is no ghosting.\n",
       "                fig.context.clearRect(0, 0, fig.canvas.width, fig.canvas.height);\n",
       "            }\n",
       "            fig.context.drawImage(fig.imageObj, 0, 0);\n",
       "        };\n",
       "\n",
       "    this.imageObj.onunload = function() {\n",
       "        fig.ws.close();\n",
       "    }\n",
       "\n",
       "    this.ws.onmessage = this._make_on_message_function(this);\n",
       "\n",
       "    this.ondownload = ondownload;\n",
       "}\n",
       "\n",
       "mpl.figure.prototype._init_header = function() {\n",
       "    var titlebar = $(\n",
       "        '<div class=\"ui-dialog-titlebar ui-widget-header ui-corner-all ' +\n",
       "        'ui-helper-clearfix\"/>');\n",
       "    var titletext = $(\n",
       "        '<div class=\"ui-dialog-title\" style=\"width: 100%; ' +\n",
       "        'text-align: center; padding: 3px;\"/>');\n",
       "    titlebar.append(titletext)\n",
       "    this.root.append(titlebar);\n",
       "    this.header = titletext[0];\n",
       "}\n",
       "\n",
       "\n",
       "\n",
       "mpl.figure.prototype._canvas_extra_style = function(canvas_div) {\n",
       "\n",
       "}\n",
       "\n",
       "\n",
       "mpl.figure.prototype._root_extra_style = function(canvas_div) {\n",
       "\n",
       "}\n",
       "\n",
       "mpl.figure.prototype._init_canvas = function() {\n",
       "    var fig = this;\n",
       "\n",
       "    var canvas_div = $('<div/>');\n",
       "\n",
       "    canvas_div.attr('style', 'position: relative; clear: both; outline: 0');\n",
       "\n",
       "    function canvas_keyboard_event(event) {\n",
       "        return fig.key_event(event, event['data']);\n",
       "    }\n",
       "\n",
       "    canvas_div.keydown('key_press', canvas_keyboard_event);\n",
       "    canvas_div.keyup('key_release', canvas_keyboard_event);\n",
       "    this.canvas_div = canvas_div\n",
       "    this._canvas_extra_style(canvas_div)\n",
       "    this.root.append(canvas_div);\n",
       "\n",
       "    var canvas = $('<canvas/>');\n",
       "    canvas.addClass('mpl-canvas');\n",
       "    canvas.attr('style', \"left: 0; top: 0; z-index: 0; outline: 0\")\n",
       "\n",
       "    this.canvas = canvas[0];\n",
       "    this.context = canvas[0].getContext(\"2d\");\n",
       "\n",
       "    var backingStore = this.context.backingStorePixelRatio ||\n",
       "\tthis.context.webkitBackingStorePixelRatio ||\n",
       "\tthis.context.mozBackingStorePixelRatio ||\n",
       "\tthis.context.msBackingStorePixelRatio ||\n",
       "\tthis.context.oBackingStorePixelRatio ||\n",
       "\tthis.context.backingStorePixelRatio || 1;\n",
       "\n",
       "    mpl.ratio = (window.devicePixelRatio || 1) / backingStore;\n",
       "\n",
       "    var rubberband = $('<canvas/>');\n",
       "    rubberband.attr('style', \"position: absolute; left: 0; top: 0; z-index: 1;\")\n",
       "\n",
       "    var pass_mouse_events = true;\n",
       "\n",
       "    canvas_div.resizable({\n",
       "        start: function(event, ui) {\n",
       "            pass_mouse_events = false;\n",
       "        },\n",
       "        resize: function(event, ui) {\n",
       "            fig.request_resize(ui.size.width, ui.size.height);\n",
       "        },\n",
       "        stop: function(event, ui) {\n",
       "            pass_mouse_events = true;\n",
       "            fig.request_resize(ui.size.width, ui.size.height);\n",
       "        },\n",
       "    });\n",
       "\n",
       "    function mouse_event_fn(event) {\n",
       "        if (pass_mouse_events)\n",
       "            return fig.mouse_event(event, event['data']);\n",
       "    }\n",
       "\n",
       "    rubberband.mousedown('button_press', mouse_event_fn);\n",
       "    rubberband.mouseup('button_release', mouse_event_fn);\n",
       "    // Throttle sequential mouse events to 1 every 20ms.\n",
       "    rubberband.mousemove('motion_notify', mouse_event_fn);\n",
       "\n",
       "    rubberband.mouseenter('figure_enter', mouse_event_fn);\n",
       "    rubberband.mouseleave('figure_leave', mouse_event_fn);\n",
       "\n",
       "    canvas_div.on(\"wheel\", function (event) {\n",
       "        event = event.originalEvent;\n",
       "        event['data'] = 'scroll'\n",
       "        if (event.deltaY < 0) {\n",
       "            event.step = 1;\n",
       "        } else {\n",
       "            event.step = -1;\n",
       "        }\n",
       "        mouse_event_fn(event);\n",
       "    });\n",
       "\n",
       "    canvas_div.append(canvas);\n",
       "    canvas_div.append(rubberband);\n",
       "\n",
       "    this.rubberband = rubberband;\n",
       "    this.rubberband_canvas = rubberband[0];\n",
       "    this.rubberband_context = rubberband[0].getContext(\"2d\");\n",
       "    this.rubberband_context.strokeStyle = \"#000000\";\n",
       "\n",
       "    this._resize_canvas = function(width, height) {\n",
       "        // Keep the size of the canvas, canvas container, and rubber band\n",
       "        // canvas in synch.\n",
       "        canvas_div.css('width', width)\n",
       "        canvas_div.css('height', height)\n",
       "\n",
       "        canvas.attr('width', width * mpl.ratio);\n",
       "        canvas.attr('height', height * mpl.ratio);\n",
       "        canvas.attr('style', 'width: ' + width + 'px; height: ' + height + 'px;');\n",
       "\n",
       "        rubberband.attr('width', width);\n",
       "        rubberband.attr('height', height);\n",
       "    }\n",
       "\n",
       "    // Set the figure to an initial 600x600px, this will subsequently be updated\n",
       "    // upon first draw.\n",
       "    this._resize_canvas(600, 600);\n",
       "\n",
       "    // Disable right mouse context menu.\n",
       "    $(this.rubberband_canvas).bind(\"contextmenu\",function(e){\n",
       "        return false;\n",
       "    });\n",
       "\n",
       "    function set_focus () {\n",
       "        canvas.focus();\n",
       "        canvas_div.focus();\n",
       "    }\n",
       "\n",
       "    window.setTimeout(set_focus, 100);\n",
       "}\n",
       "\n",
       "mpl.figure.prototype._init_toolbar = function() {\n",
       "    var fig = this;\n",
       "\n",
       "    var nav_element = $('<div/>')\n",
       "    nav_element.attr('style', 'width: 100%');\n",
       "    this.root.append(nav_element);\n",
       "\n",
       "    // Define a callback function for later on.\n",
       "    function toolbar_event(event) {\n",
       "        return fig.toolbar_button_onclick(event['data']);\n",
       "    }\n",
       "    function toolbar_mouse_event(event) {\n",
       "        return fig.toolbar_button_onmouseover(event['data']);\n",
       "    }\n",
       "\n",
       "    for(var toolbar_ind in mpl.toolbar_items) {\n",
       "        var name = mpl.toolbar_items[toolbar_ind][0];\n",
       "        var tooltip = mpl.toolbar_items[toolbar_ind][1];\n",
       "        var image = mpl.toolbar_items[toolbar_ind][2];\n",
       "        var method_name = mpl.toolbar_items[toolbar_ind][3];\n",
       "\n",
       "        if (!name) {\n",
       "            // put a spacer in here.\n",
       "            continue;\n",
       "        }\n",
       "        var button = $('<button/>');\n",
       "        button.addClass('ui-button ui-widget ui-state-default ui-corner-all ' +\n",
       "                        'ui-button-icon-only');\n",
       "        button.attr('role', 'button');\n",
       "        button.attr('aria-disabled', 'false');\n",
       "        button.click(method_name, toolbar_event);\n",
       "        button.mouseover(tooltip, toolbar_mouse_event);\n",
       "\n",
       "        var icon_img = $('<span/>');\n",
       "        icon_img.addClass('ui-button-icon-primary ui-icon');\n",
       "        icon_img.addClass(image);\n",
       "        icon_img.addClass('ui-corner-all');\n",
       "\n",
       "        var tooltip_span = $('<span/>');\n",
       "        tooltip_span.addClass('ui-button-text');\n",
       "        tooltip_span.html(tooltip);\n",
       "\n",
       "        button.append(icon_img);\n",
       "        button.append(tooltip_span);\n",
       "\n",
       "        nav_element.append(button);\n",
       "    }\n",
       "\n",
       "    var fmt_picker_span = $('<span/>');\n",
       "\n",
       "    var fmt_picker = $('<select/>');\n",
       "    fmt_picker.addClass('mpl-toolbar-option ui-widget ui-widget-content');\n",
       "    fmt_picker_span.append(fmt_picker);\n",
       "    nav_element.append(fmt_picker_span);\n",
       "    this.format_dropdown = fmt_picker[0];\n",
       "\n",
       "    for (var ind in mpl.extensions) {\n",
       "        var fmt = mpl.extensions[ind];\n",
       "        var option = $(\n",
       "            '<option/>', {selected: fmt === mpl.default_extension}).html(fmt);\n",
       "        fmt_picker.append(option)\n",
       "    }\n",
       "\n",
       "    // Add hover states to the ui-buttons\n",
       "    $( \".ui-button\" ).hover(\n",
       "        function() { $(this).addClass(\"ui-state-hover\");},\n",
       "        function() { $(this).removeClass(\"ui-state-hover\");}\n",
       "    );\n",
       "\n",
       "    var status_bar = $('<span class=\"mpl-message\"/>');\n",
       "    nav_element.append(status_bar);\n",
       "    this.message = status_bar[0];\n",
       "}\n",
       "\n",
       "mpl.figure.prototype.request_resize = function(x_pixels, y_pixels) {\n",
       "    // Request matplotlib to resize the figure. Matplotlib will then trigger a resize in the client,\n",
       "    // which will in turn request a refresh of the image.\n",
       "    this.send_message('resize', {'width': x_pixels, 'height': y_pixels});\n",
       "}\n",
       "\n",
       "mpl.figure.prototype.send_message = function(type, properties) {\n",
       "    properties['type'] = type;\n",
       "    properties['figure_id'] = this.id;\n",
       "    this.ws.send(JSON.stringify(properties));\n",
       "}\n",
       "\n",
       "mpl.figure.prototype.send_draw_message = function() {\n",
       "    if (!this.waiting) {\n",
       "        this.waiting = true;\n",
       "        this.ws.send(JSON.stringify({type: \"draw\", figure_id: this.id}));\n",
       "    }\n",
       "}\n",
       "\n",
       "\n",
       "mpl.figure.prototype.handle_save = function(fig, msg) {\n",
       "    var format_dropdown = fig.format_dropdown;\n",
       "    var format = format_dropdown.options[format_dropdown.selectedIndex].value;\n",
       "    fig.ondownload(fig, format);\n",
       "}\n",
       "\n",
       "\n",
       "mpl.figure.prototype.handle_resize = function(fig, msg) {\n",
       "    var size = msg['size'];\n",
       "    if (size[0] != fig.canvas.width || size[1] != fig.canvas.height) {\n",
       "        fig._resize_canvas(size[0], size[1]);\n",
       "        fig.send_message(\"refresh\", {});\n",
       "    };\n",
       "}\n",
       "\n",
       "mpl.figure.prototype.handle_rubberband = function(fig, msg) {\n",
       "    var x0 = msg['x0'] / mpl.ratio;\n",
       "    var y0 = (fig.canvas.height - msg['y0']) / mpl.ratio;\n",
       "    var x1 = msg['x1'] / mpl.ratio;\n",
       "    var y1 = (fig.canvas.height - msg['y1']) / mpl.ratio;\n",
       "    x0 = Math.floor(x0) + 0.5;\n",
       "    y0 = Math.floor(y0) + 0.5;\n",
       "    x1 = Math.floor(x1) + 0.5;\n",
       "    y1 = Math.floor(y1) + 0.5;\n",
       "    var min_x = Math.min(x0, x1);\n",
       "    var min_y = Math.min(y0, y1);\n",
       "    var width = Math.abs(x1 - x0);\n",
       "    var height = Math.abs(y1 - y0);\n",
       "\n",
       "    fig.rubberband_context.clearRect(\n",
       "        0, 0, fig.canvas.width, fig.canvas.height);\n",
       "\n",
       "    fig.rubberband_context.strokeRect(min_x, min_y, width, height);\n",
       "}\n",
       "\n",
       "mpl.figure.prototype.handle_figure_label = function(fig, msg) {\n",
       "    // Updates the figure title.\n",
       "    fig.header.textContent = msg['label'];\n",
       "}\n",
       "\n",
       "mpl.figure.prototype.handle_cursor = function(fig, msg) {\n",
       "    var cursor = msg['cursor'];\n",
       "    switch(cursor)\n",
       "    {\n",
       "    case 0:\n",
       "        cursor = 'pointer';\n",
       "        break;\n",
       "    case 1:\n",
       "        cursor = 'default';\n",
       "        break;\n",
       "    case 2:\n",
       "        cursor = 'crosshair';\n",
       "        break;\n",
       "    case 3:\n",
       "        cursor = 'move';\n",
       "        break;\n",
       "    }\n",
       "    fig.rubberband_canvas.style.cursor = cursor;\n",
       "}\n",
       "\n",
       "mpl.figure.prototype.handle_message = function(fig, msg) {\n",
       "    fig.message.textContent = msg['message'];\n",
       "}\n",
       "\n",
       "mpl.figure.prototype.handle_draw = function(fig, msg) {\n",
       "    // Request the server to send over a new figure.\n",
       "    fig.send_draw_message();\n",
       "}\n",
       "\n",
       "mpl.figure.prototype.handle_image_mode = function(fig, msg) {\n",
       "    fig.image_mode = msg['mode'];\n",
       "}\n",
       "\n",
       "mpl.figure.prototype.updated_canvas_event = function() {\n",
       "    // Called whenever the canvas gets updated.\n",
       "    this.send_message(\"ack\", {});\n",
       "}\n",
       "\n",
       "// A function to construct a web socket function for onmessage handling.\n",
       "// Called in the figure constructor.\n",
       "mpl.figure.prototype._make_on_message_function = function(fig) {\n",
       "    return function socket_on_message(evt) {\n",
       "        if (evt.data instanceof Blob) {\n",
       "            /* FIXME: We get \"Resource interpreted as Image but\n",
       "             * transferred with MIME type text/plain:\" errors on\n",
       "             * Chrome.  But how to set the MIME type?  It doesn't seem\n",
       "             * to be part of the websocket stream */\n",
       "            evt.data.type = \"image/png\";\n",
       "\n",
       "            /* Free the memory for the previous frames */\n",
       "            if (fig.imageObj.src) {\n",
       "                (window.URL || window.webkitURL).revokeObjectURL(\n",
       "                    fig.imageObj.src);\n",
       "            }\n",
       "\n",
       "            fig.imageObj.src = (window.URL || window.webkitURL).createObjectURL(\n",
       "                evt.data);\n",
       "            fig.updated_canvas_event();\n",
       "            fig.waiting = false;\n",
       "            return;\n",
       "        }\n",
       "        else if (typeof evt.data === 'string' && evt.data.slice(0, 21) == \"data:image/png;base64\") {\n",
       "            fig.imageObj.src = evt.data;\n",
       "            fig.updated_canvas_event();\n",
       "            fig.waiting = false;\n",
       "            return;\n",
       "        }\n",
       "\n",
       "        var msg = JSON.parse(evt.data);\n",
       "        var msg_type = msg['type'];\n",
       "\n",
       "        // Call the  \"handle_{type}\" callback, which takes\n",
       "        // the figure and JSON message as its only arguments.\n",
       "        try {\n",
       "            var callback = fig[\"handle_\" + msg_type];\n",
       "        } catch (e) {\n",
       "            console.log(\"No handler for the '\" + msg_type + \"' message type: \", msg);\n",
       "            return;\n",
       "        }\n",
       "\n",
       "        if (callback) {\n",
       "            try {\n",
       "                // console.log(\"Handling '\" + msg_type + \"' message: \", msg);\n",
       "                callback(fig, msg);\n",
       "            } catch (e) {\n",
       "                console.log(\"Exception inside the 'handler_\" + msg_type + \"' callback:\", e, e.stack, msg);\n",
       "            }\n",
       "        }\n",
       "    };\n",
       "}\n",
       "\n",
       "// from http://stackoverflow.com/questions/1114465/getting-mouse-location-in-canvas\n",
       "mpl.findpos = function(e) {\n",
       "    //this section is from http://www.quirksmode.org/js/events_properties.html\n",
       "    var targ;\n",
       "    if (!e)\n",
       "        e = window.event;\n",
       "    if (e.target)\n",
       "        targ = e.target;\n",
       "    else if (e.srcElement)\n",
       "        targ = e.srcElement;\n",
       "    if (targ.nodeType == 3) // defeat Safari bug\n",
       "        targ = targ.parentNode;\n",
       "\n",
       "    // jQuery normalizes the pageX and pageY\n",
       "    // pageX,Y are the mouse positions relative to the document\n",
       "    // offset() returns the position of the element relative to the document\n",
       "    var x = e.pageX - $(targ).offset().left;\n",
       "    var y = e.pageY - $(targ).offset().top;\n",
       "\n",
       "    return {\"x\": x, \"y\": y};\n",
       "};\n",
       "\n",
       "/*\n",
       " * return a copy of an object with only non-object keys\n",
       " * we need this to avoid circular references\n",
       " * http://stackoverflow.com/a/24161582/3208463\n",
       " */\n",
       "function simpleKeys (original) {\n",
       "  return Object.keys(original).reduce(function (obj, key) {\n",
       "    if (typeof original[key] !== 'object')\n",
       "        obj[key] = original[key]\n",
       "    return obj;\n",
       "  }, {});\n",
       "}\n",
       "\n",
       "mpl.figure.prototype.mouse_event = function(event, name) {\n",
       "    var canvas_pos = mpl.findpos(event)\n",
       "\n",
       "    if (name === 'button_press')\n",
       "    {\n",
       "        this.canvas.focus();\n",
       "        this.canvas_div.focus();\n",
       "    }\n",
       "\n",
       "    var x = canvas_pos.x * mpl.ratio;\n",
       "    var y = canvas_pos.y * mpl.ratio;\n",
       "\n",
       "    this.send_message(name, {x: x, y: y, button: event.button,\n",
       "                             step: event.step,\n",
       "                             guiEvent: simpleKeys(event)});\n",
       "\n",
       "    /* This prevents the web browser from automatically changing to\n",
       "     * the text insertion cursor when the button is pressed.  We want\n",
       "     * to control all of the cursor setting manually through the\n",
       "     * 'cursor' event from matplotlib */\n",
       "    event.preventDefault();\n",
       "    return false;\n",
       "}\n",
       "\n",
       "mpl.figure.prototype._key_event_extra = function(event, name) {\n",
       "    // Handle any extra behaviour associated with a key event\n",
       "}\n",
       "\n",
       "mpl.figure.prototype.key_event = function(event, name) {\n",
       "\n",
       "    // Prevent repeat events\n",
       "    if (name == 'key_press')\n",
       "    {\n",
       "        if (event.which === this._key)\n",
       "            return;\n",
       "        else\n",
       "            this._key = event.which;\n",
       "    }\n",
       "    if (name == 'key_release')\n",
       "        this._key = null;\n",
       "\n",
       "    var value = '';\n",
       "    if (event.ctrlKey && event.which != 17)\n",
       "        value += \"ctrl+\";\n",
       "    if (event.altKey && event.which != 18)\n",
       "        value += \"alt+\";\n",
       "    if (event.shiftKey && event.which != 16)\n",
       "        value += \"shift+\";\n",
       "\n",
       "    value += 'k';\n",
       "    value += event.which.toString();\n",
       "\n",
       "    this._key_event_extra(event, name);\n",
       "\n",
       "    this.send_message(name, {key: value,\n",
       "                             guiEvent: simpleKeys(event)});\n",
       "    return false;\n",
       "}\n",
       "\n",
       "mpl.figure.prototype.toolbar_button_onclick = function(name) {\n",
       "    if (name == 'download') {\n",
       "        this.handle_save(this, null);\n",
       "    } else {\n",
       "        this.send_message(\"toolbar_button\", {name: name});\n",
       "    }\n",
       "};\n",
       "\n",
       "mpl.figure.prototype.toolbar_button_onmouseover = function(tooltip) {\n",
       "    this.message.textContent = tooltip;\n",
       "};\n",
       "mpl.toolbar_items = [[\"Home\", \"Reset original view\", \"fa fa-home icon-home\", \"home\"], [\"Back\", \"Back to  previous view\", \"fa fa-arrow-left icon-arrow-left\", \"back\"], [\"Forward\", \"Forward to next view\", \"fa fa-arrow-right icon-arrow-right\", \"forward\"], [\"\", \"\", \"\", \"\"], [\"Pan\", \"Pan axes with left mouse, zoom with right\", \"fa fa-arrows icon-move\", \"pan\"], [\"Zoom\", \"Zoom to rectangle\", \"fa fa-square-o icon-check-empty\", \"zoom\"], [\"\", \"\", \"\", \"\"], [\"Download\", \"Download plot\", \"fa fa-floppy-o icon-save\", \"download\"]];\n",
       "\n",
       "mpl.extensions = [\"eps\", \"jpeg\", \"pdf\", \"png\", \"ps\", \"raw\", \"svg\", \"tif\"];\n",
       "\n",
       "mpl.default_extension = \"png\";var comm_websocket_adapter = function(comm) {\n",
       "    // Create a \"websocket\"-like object which calls the given IPython comm\n",
       "    // object with the appropriate methods. Currently this is a non binary\n",
       "    // socket, so there is still some room for performance tuning.\n",
       "    var ws = {};\n",
       "\n",
       "    ws.close = function() {\n",
       "        comm.close()\n",
       "    };\n",
       "    ws.send = function(m) {\n",
       "        //console.log('sending', m);\n",
       "        comm.send(m);\n",
       "    };\n",
       "    // Register the callback with on_msg.\n",
       "    comm.on_msg(function(msg) {\n",
       "        //console.log('receiving', msg['content']['data'], msg);\n",
       "        // Pass the mpl event to the overriden (by mpl) onmessage function.\n",
       "        ws.onmessage(msg['content']['data'])\n",
       "    });\n",
       "    return ws;\n",
       "}\n",
       "\n",
       "mpl.mpl_figure_comm = function(comm, msg) {\n",
       "    // This is the function which gets called when the mpl process\n",
       "    // starts-up an IPython Comm through the \"matplotlib\" channel.\n",
       "\n",
       "    var id = msg.content.data.id;\n",
       "    // Get hold of the div created by the display call when the Comm\n",
       "    // socket was opened in Python.\n",
       "    var element = $(\"#\" + id);\n",
       "    var ws_proxy = comm_websocket_adapter(comm)\n",
       "\n",
       "    function ondownload(figure, format) {\n",
       "        window.open(figure.imageObj.src);\n",
       "    }\n",
       "\n",
       "    var fig = new mpl.figure(id, ws_proxy,\n",
       "                           ondownload,\n",
       "                           element.get(0));\n",
       "\n",
       "    // Call onopen now - mpl needs it, as it is assuming we've passed it a real\n",
       "    // web socket which is closed, not our websocket->open comm proxy.\n",
       "    ws_proxy.onopen();\n",
       "\n",
       "    fig.parent_element = element.get(0);\n",
       "    fig.cell_info = mpl.find_output_cell(\"<div id='\" + id + \"'></div>\");\n",
       "    if (!fig.cell_info) {\n",
       "        console.error(\"Failed to find cell for figure\", id, fig);\n",
       "        return;\n",
       "    }\n",
       "\n",
       "    var output_index = fig.cell_info[2]\n",
       "    var cell = fig.cell_info[0];\n",
       "\n",
       "};\n",
       "\n",
       "mpl.figure.prototype.handle_close = function(fig, msg) {\n",
       "    var width = fig.canvas.width/mpl.ratio\n",
       "    fig.root.unbind('remove')\n",
       "\n",
       "    // Update the output cell to use the data from the current canvas.\n",
       "    fig.push_to_output();\n",
       "    var dataURL = fig.canvas.toDataURL();\n",
       "    // Re-enable the keyboard manager in IPython - without this line, in FF,\n",
       "    // the notebook keyboard shortcuts fail.\n",
       "    IPython.keyboard_manager.enable()\n",
       "    $(fig.parent_element).html('<img src=\"' + dataURL + '\" width=\"' + width + '\">');\n",
       "    fig.close_ws(fig, msg);\n",
       "}\n",
       "\n",
       "mpl.figure.prototype.close_ws = function(fig, msg){\n",
       "    fig.send_message('closing', msg);\n",
       "    // fig.ws.close()\n",
       "}\n",
       "\n",
       "mpl.figure.prototype.push_to_output = function(remove_interactive) {\n",
       "    // Turn the data on the canvas into data in the output cell.\n",
       "    var width = this.canvas.width/mpl.ratio\n",
       "    var dataURL = this.canvas.toDataURL();\n",
       "    this.cell_info[1]['text/html'] = '<img src=\"' + dataURL + '\" width=\"' + width + '\">';\n",
       "}\n",
       "\n",
       "mpl.figure.prototype.updated_canvas_event = function() {\n",
       "    // Tell IPython that the notebook contents must change.\n",
       "    IPython.notebook.set_dirty(true);\n",
       "    this.send_message(\"ack\", {});\n",
       "    var fig = this;\n",
       "    // Wait a second, then push the new image to the DOM so\n",
       "    // that it is saved nicely (might be nice to debounce this).\n",
       "    setTimeout(function () { fig.push_to_output() }, 1000);\n",
       "}\n",
       "\n",
       "mpl.figure.prototype._init_toolbar = function() {\n",
       "    var fig = this;\n",
       "\n",
       "    var nav_element = $('<div/>')\n",
       "    nav_element.attr('style', 'width: 100%');\n",
       "    this.root.append(nav_element);\n",
       "\n",
       "    // Define a callback function for later on.\n",
       "    function toolbar_event(event) {\n",
       "        return fig.toolbar_button_onclick(event['data']);\n",
       "    }\n",
       "    function toolbar_mouse_event(event) {\n",
       "        return fig.toolbar_button_onmouseover(event['data']);\n",
       "    }\n",
       "\n",
       "    for(var toolbar_ind in mpl.toolbar_items){\n",
       "        var name = mpl.toolbar_items[toolbar_ind][0];\n",
       "        var tooltip = mpl.toolbar_items[toolbar_ind][1];\n",
       "        var image = mpl.toolbar_items[toolbar_ind][2];\n",
       "        var method_name = mpl.toolbar_items[toolbar_ind][3];\n",
       "\n",
       "        if (!name) { continue; };\n",
       "\n",
       "        var button = $('<button class=\"btn btn-default\" href=\"#\" title=\"' + name + '\"><i class=\"fa ' + image + ' fa-lg\"></i></button>');\n",
       "        button.click(method_name, toolbar_event);\n",
       "        button.mouseover(tooltip, toolbar_mouse_event);\n",
       "        nav_element.append(button);\n",
       "    }\n",
       "\n",
       "    // Add the status bar.\n",
       "    var status_bar = $('<span class=\"mpl-message\" style=\"text-align:right; float: right;\"/>');\n",
       "    nav_element.append(status_bar);\n",
       "    this.message = status_bar[0];\n",
       "\n",
       "    // Add the close button to the window.\n",
       "    var buttongrp = $('<div class=\"btn-group inline pull-right\"></div>');\n",
       "    var button = $('<button class=\"btn btn-mini btn-primary\" href=\"#\" title=\"Stop Interaction\"><i class=\"fa fa-power-off icon-remove icon-large\"></i></button>');\n",
       "    button.click(function (evt) { fig.handle_close(fig, {}); } );\n",
       "    button.mouseover('Stop Interaction', toolbar_mouse_event);\n",
       "    buttongrp.append(button);\n",
       "    var titlebar = this.root.find($('.ui-dialog-titlebar'));\n",
       "    titlebar.prepend(buttongrp);\n",
       "}\n",
       "\n",
       "mpl.figure.prototype._root_extra_style = function(el){\n",
       "    var fig = this\n",
       "    el.on(\"remove\", function(){\n",
       "\tfig.close_ws(fig, {});\n",
       "    });\n",
       "}\n",
       "\n",
       "mpl.figure.prototype._canvas_extra_style = function(el){\n",
       "    // this is important to make the div 'focusable\n",
       "    el.attr('tabindex', 0)\n",
       "    // reach out to IPython and tell the keyboard manager to turn it's self\n",
       "    // off when our div gets focus\n",
       "\n",
       "    // location in version 3\n",
       "    if (IPython.notebook.keyboard_manager) {\n",
       "        IPython.notebook.keyboard_manager.register_events(el);\n",
       "    }\n",
       "    else {\n",
       "        // location in version 2\n",
       "        IPython.keyboard_manager.register_events(el);\n",
       "    }\n",
       "\n",
       "}\n",
       "\n",
       "mpl.figure.prototype._key_event_extra = function(event, name) {\n",
       "    var manager = IPython.notebook.keyboard_manager;\n",
       "    if (!manager)\n",
       "        manager = IPython.keyboard_manager;\n",
       "\n",
       "    // Check for shift+enter\n",
       "    if (event.shiftKey && event.which == 13) {\n",
       "        this.canvas_div.blur();\n",
       "        event.shiftKey = false;\n",
       "        // Send a \"J\" for go to next cell\n",
       "        event.which = 74;\n",
       "        event.keyCode = 74;\n",
       "        manager.command_mode();\n",
       "        manager.handle_keydown(event);\n",
       "    }\n",
       "}\n",
       "\n",
       "mpl.figure.prototype.handle_save = function(fig, msg) {\n",
       "    fig.ondownload(fig, null);\n",
       "}\n",
       "\n",
       "\n",
       "mpl.find_output_cell = function(html_output) {\n",
       "    // Return the cell and output element which can be found *uniquely* in the notebook.\n",
       "    // Note - this is a bit hacky, but it is done because the \"notebook_saving.Notebook\"\n",
       "    // IPython event is triggered only after the cells have been serialised, which for\n",
       "    // our purposes (turning an active figure into a static one), is too late.\n",
       "    var cells = IPython.notebook.get_cells();\n",
       "    var ncells = cells.length;\n",
       "    for (var i=0; i<ncells; i++) {\n",
       "        var cell = cells[i];\n",
       "        if (cell.cell_type === 'code'){\n",
       "            for (var j=0; j<cell.output_area.outputs.length; j++) {\n",
       "                var data = cell.output_area.outputs[j];\n",
       "                if (data.data) {\n",
       "                    // IPython >= 3 moved mimebundle to data attribute of output\n",
       "                    data = data.data;\n",
       "                }\n",
       "                if (data['text/html'] == html_output) {\n",
       "                    return [cell, data, j];\n",
       "                }\n",
       "            }\n",
       "        }\n",
       "    }\n",
       "}\n",
       "\n",
       "// Register the function which deals with the matplotlib target/channel.\n",
       "// The kernel may be null if the page has been refreshed.\n",
       "if (IPython.notebook.kernel != null) {\n",
       "    IPython.notebook.kernel.comm_manager.register_target('matplotlib', mpl.mpl_figure_comm);\n",
       "}\n"
      ],
      "text/plain": [
       "<IPython.core.display.Javascript object>"
      ]
     },
     "metadata": {},
     "output_type": "display_data"
    },
    {
     "data": {
      "text/html": [
       "<img src=\"data:image/png;base64,iVBORw0KGgoAAAANSUhEUgAAAsAAAAIQCAYAAACPEdjAAAAgAElEQVR4XuydB7heRbX+V3LSewKkkEaA0EIKIaHFANJV0EsRRURR7rUi3KuXv10UQRTBiv0ictV7QVHgglEIoUgoCaTQCSFAGiEh5aT35P/8JpnDZGd/326z5zs535rnOc9p+5vyzuy931nzrrVaiRZFQBFQBBQBRUARUAQUAUWgjhBoVUdj1aEqAoqAIqAIKAKKgCKgCCgCogRYF4EioAgoAoqAIqAIKAKKQF0hoAS4rqZbB6sIKAKKgCKgCCgCioAioARY14AioAgoAoqAIqAIKAKKQF0hoAS4rqZbB6sIKAKKgCKgCCgCioAioARY14AioAgoAoqAIqAIKAKKQF0hoAS4rqZbB6sIKAKKgCKgCCgCioAioARY14AioAgoAoqAIqAIKAKKQF0hoAS4rqZbB6sIKAKKgCKgCCgCioAioARY14AioAgoAoqAIqAIKAKKQF0hoAS4rqZbB6sIKAKKgCKgCCgCioAioARY14AioAgoAoqAIqAIKAKKQF0hoAS4rqZbB6sIKAKKgCKgCCgCioAioARY14AioAgoAoqAIqAIKAKKQF0hoAS4rqZbB6sIKAKKgCKgCCgCioAioARY14AioAgoAoqAIqAIKAKKQF0hoAS4rqZbB6sIKAKKgCKgCCgCioAioARY14AioAgoAoqAIqAIKAKKQF0hoAS4rqZbB6sIKAKKgCKgCCgCioAioARY14AioAgoAoqAIqAIKAKKQF0hoAS4rqZbB6sIKAKKgCKgCCgCioAioARY14AioAgoAoqAIqAIKAKKQF0hoAS4rqZbB6sIKAKKgCKgCCgCioAioARY14AioAgoAoqAIqAIKAKKQF0hoAS4rqZbB6sIKAKKgCKgCCgCioAioARY14AioAgoAoqAIqAIKAKKQF0hoAS4rqZbB6sIKAKKgCKgCCgCioAioARY14AioAgoAoqAIqAIKAKKQF0hoAS4rqZbB6sIKAKKgCKgCCgCioAioARY14AioAgoAoqAIqAIKAKKQF0hoAS4rqZbB6sIKAKKgCKgCCgCioAioARY14AioAgoAoqAIqAIKAKKQF0hoAS4rqZbB6sIKAKKgCKgCCgCioAioARY14AioAgoAoqAIqAIKAKKQF0hoAS4rqZbB6sIKAKKgCKgCCgCioAioARY14AioAgoAoqAIqAIKAKKQF0hoAS4rqZbB6sIKAKKgCKgCCgCioAioARY14AioAgoAoqAIqAIKAKKQF0hoAS4rqZbB6sIKAKKgCKgCCgCioAioARY14AioAgoAoqAIqAIKAKKQF0hoAS4rqZbB6sIKAKKgCKgCCgCioAioARY14AioAgoAoqAIqAIKAKKQF0hoAS4rqZbB6sIKAKKgCKgCCgCioAioARY14AioAgoAoqAIqAIKAKKQF0hoAS4rqZbB6sIKAKKgCKgCCgCioAioARY14AioAgoAoqAIqAIKAKKQF0hoAS4rqZbB6sIKAKKgCKgCCgCioAioARY14AioAgoAoqAIqAIKAKKQF0hoAS4rqZbB6sIKAKKgCKgCCgCioAioARY14AioAgoAoqAIqAIKAKKQF0hoAS4rqZbB6sIKAKKgCKgCCgCioAioARY14AioAgoAoqAIqAIKAKKQF0hoAS4rqZbB6sIKAKKgCKgCCgCioAioARY14AioAgoAoqAIqAIKAKKQF0hoAS4rqZbB6sIKAKKgCKgCCgCioAioARY14AioAgoAoqAIqAIKAKKQF0hoAS4rqZbB6sIKAKKgCKgCCgCioAioARY14AioAgoAoqAIqAIKAKKQF0hoAS4rqZbB6sIKAKKgCKgCCgCioAioARY14AioAgoAoqAIqAIKAKKQF0hoAS4rqZbB6sIKAKKgCKgCCgCioAioARY14AioAgoAoqAIqAIKAKKQF0hoAS45Onevn379pKb0OoVAUVAEVAEFAFFQBGIRaBVq1bK9WKQUVBKvmGUAJcMsFavCCgCioAioAgoAhURUAIcD40S4JJvGiXAJQOs1SsCioAioAgoAoqAEuCMa0AJcEbAsl6uBDgrYnq9IqAIKAKKgCKgCPhCQC3AagH2tZYy1aMEOBNcerEioAgoAoqAIqAIeERACbASYI/LKX1VSoDTY6VXKgKKgCKgCCgCioBfBJQAKwH2u6JS1qYEOCVQepkioAgoAoqAIqAIeEdACbASYO+LKk2FSoDToKTXKAKKgCKgCCgCikAZCCgBVgJcxrpKrFMJcCJEeoEioAgoAoqAIqAIlISAEmAlwCUtrerVKgGuCezaqCKgCCgCioAioAiIiBJgJcA1uRGUANcEdm1UEVAEFAFFQBFQBJQAV1wDGge45NtDCXDJAGv1ioAioAgoAoqAIlCZ6Gkq5FhslACXfNMoAS4ZYK1eEVAEFAFFQBFQBJQAZ1wDSoAzApb1ciXAWRHT6xUBRUARUAQUAUXAFwKqAY5HUgmwrxVWoR4lwCUDrNUrAoqAIqAIKAKKgFqAM64BJcAZAct6uRLgrIjp9YqAIqAIKAKKgCLgCwG1AKsF2NdaylSPEuBMcOnFioAioAgoAoqAIuARASXASoA9Lqf0VSkBTo+VXqkIKAKKgCKgCCgCfhFQAqwE2O+KSlmbEuCUQOllioAioAgoAoqAIuAdASXASoC9L6o0FSoBToOSXqMIKAKKgCKgCCgCZSCgBFgJcBnrKrFOJcCJEOkFioAioAgoAoqAIlASAkqAlQCXtLSqV6sEuCawa6OKgCKgCCgCioAioKmQK64BDYNW8u2hBLhkgLV6RUARUAQUAUVAEahM9DQVciw2SoBLvmmUAJcMsFavCCgCioAioAgoAkqAM64BJcAZAct6uRLgrIjp9YqAIqAIKAKKgCLgCwHVAMcjqQTY1wqrUI8S4JIB1uoVAUVAEVAEFAFFQC3AGdeAEuCMgGW9XAlwVsT0ekXAHwLbtm2TzZs3m6+2bdtK69atm75UFucPZ61JEVAEmi8CagFWC3BNVqcS4JrAro3WOQLbt2+XLVu2mK+tW7fKhg0bDPGF9PLFzw0NDebL/mz/X+fQ6fAVAUWghSGgBFgJcE2WtBLgmsCujdYpAhBfCC/EF+svZNdagSG4/N/9sjBZ8mtJsSXGLmmuU0h12IqAIrCHI6AEWAlwTZawEuCawK6N1hkCccTXWnshxJs2bTLW3mjhcxS+Q5Tt7/zNfj6OFKu1uM4WmA5XEdiDEVACrAS4JstXCXBNYNdG6wQBS1ytxZffXXKK9vfVV1+VjRs3SteuXc1X586dY8mwC1nUUszv1DF//nw58MADpU2bNiqhqJM1psNUBPZ0BJQAKwGuyRpWAlwT2LXRFo6AJagQXGu5dYkvf5s3b57MmTPHOL9BeteuXSvr1q0zyPB7ly5dDCHmO1/t2rWritqaNWtk6tSpMm7cOEN+rbXYWor5Xsla3MKnQ4enCCgCzRgBJcBKgGuyPJUA1wR2bbQFIwC5tc5tkFCXgPL7okWLZPbs2UYLjLW2b9++5mfIKZ+DCK9evVogtHznd+ps3779bqS4Y8eOpn4K102ZMkXGjx9vSDXFkmBLwtNIKOiH7XMLniYdmiKgCDQTBJQAKwGuyVJUAlwT2LXRFogA5BKLL2Q2SnwZ7rJly2TWrFmGqO63334yZMgQI1WA9PK5OA0wn4O8Yhm2hNh+53N8xlqKIb2vvfaasQBDlquVOAkF12sUiha4MHVIikAzR0AJsBLgmixRJcA1gV0bbUEIVHNwY5hYcSG+EOABAwbIAQccIB06dGhCIIkAx0FlNb8uKV61apXRAUNi4yQU1ipcCfokUqwSiha0aHUoikAzQkAJsBLgmixHJcA1gV0bbQEIuMQ3qrdleOvXr5dXXnlFFi5cKL1795aDDjrIWGujpVoUiCww0d7jjz8uw4cPN3GFXQkF/YN0u7pi9MVYiqsl3KgmoVixYoWRWvTs2XM3hzuVUGSZOb1WEahvBJQAKwGuyR2gBLgmsGujezACbmQHyCslLrLD3LlzpVu3bnLwwQcbklip+CbAUQkEEgpkFxBi12KM5RkJRpQUd+rUyYynWgGDZ5991pDq/ffffzeHOzeRRzRm8R489dp1RUARKAEBJcBKgEtYVslVKgFOxkivUARAICmkWTSyA8QXy29SSmNfBBir72OPPSbHHXfcLhKLuNljLK6V2BJjK6GwkSfcKBSQZbdYAjx06FDzZ5VQ6H2iCCgCeRBQAqwEOM+6KfwZJcCFIdQK6gCBrJEd0PomWVEtbL4IMOT10UcfTUWAK00Zzng2AoUlxTjgQW6JOOFaixcsWCBYi5F2VCpJUSjAiC/Itf1Zo1DUwQ2lQ1QEHASUACsBrskNoQS4JrBro3sIAtWIL0OoFNkhy/AgwBDPtIS5Ut2WAB977LGGrPoq9M9KKFxyzN/pc/fu3ZviFWMxhhQnWb2TrMUqofA1e1qPItD8EVACrAS4JqtUCXBNYNdGmzkCWSM7EM83KfRYpSH7IsCkU548ebIcc8wxhoSWWcDn6aefNkQXq7C1FtMHyGuchKJSmDfbzyRSTBtEt0B37OqKi24cysRJ61YEFIFkBJQAKwFOXiUlXKEEuARQtco9FgGX+D711FPSr18/6d+/f5NFk0gLJLF44403pE+fPoL+NS6yQxYAfEkgQhJgxhfVAPM3+hAnoeB/kPKow11SdjtXQoG8A111r169DLyQb5VQZFlpeq0i0DwRUAKsBLgmK1MJcE1g10abGQJxkR3Iqgb5HTx4sJEovPrqq5I2skOW4fkiwPTxkUcekaOPPtpYSssucQQ4rk3GF41Awe/ISyDA1tHOfnez27n1/fOf/5TDDjtM9tprL/PnqMXYkmJLjOPSPidJM8rGTOtXBBSB3RFQAqwEuCb3hRLgmsCujTYTBKpFdiCmLlZeSBPkl5i3aSM7ZBkeRBD9bpJEIKnO5kqA4/oN7jjXRa3FNiNeVEIBoUfecfjhhzcR4Gi9SRIK5tE621kJhXW4S8JW/68IKALlIaAEWAlweaurSs1KgGsCuzbaDBCIOrhZLSlECTKFNdVqWtH4ZonskGV49MO2k+Vz0WuJ64uV9Kijjiosy0jTj+eee87onm0YtDSfqXYNmMdJKJCd2DkhnjIWYDf9c1Kd/B+MLUG216uEouiM6ecVAT8IKAFWAuxnJWWsRQlwRsD08j0egbSRHUgtjN509OjRxnJYVvFFgJEaPPzww0EJMBKGamHQfGAGsUcyMWPGDJNQBCsxv0NoIeBRCQVOcmmy21lCDP4uKVYJhY9Z0zoUgfQIKAFWApx+tXi8UgmwRzC1qmaNAIQHMgVRhPTYdL2WLEF4X375ZRPaDGsvob8gXL4snJXA8U2Ax44da0hh2QULcAgCbMfx0EMPyYgRI8ymBMziJBRudjvX4Q4JRVK0iKiEYurUqXLAAQcYi3OUFEdjFpeNtdavCLRkBJQAKwGuyfpWAlwT2LXRgAi4kR1sVAFLfulGpcgO06ZNM0SybAunLw0w9UASx4wZY1Iwl11qSYDjxsbcoqWO6orJeMd8Q4KjUSiqWfaRkxx66KGGALvk2LUWaxSKsleZ1l8PCCgBVgJck3WuBLgmsGujARCwxBeLL19Ri29SZAeO3IlIcMghh5TaWyXA6eB1LcDpPrHjKiuZsLGK+Y51n/WBXCIqoUBWwVqBAA8bNmw3pzu7iVIJRZZZ0GsVgcoIKAFWAlyT+0MJcE1g10ZLRKBaZAeahXASzozIDvYIv3fv3rvpRmfOnGk0plgByyy+JBCM+8EHH5QjjzzSZGcru4S2ADO2UaNGGVlK0QLmkOCotZiNEtE+sBQ3NjbKwIEDpW/fviaGcVYJRfS0wc1upxKKojOon29JCCgBVgJck/WsBLgmsGujJSBgLXJW58vv0cgOixYtMjpfCFBSZIdnnnnGhCbDClhm8UWA6eMDDzygBDjnZLFekEtYUvz6668bMmzTVLsSCqzG/J7kHFkpNBtdZG1abXE0PJsr0ck5HP2YIrDHIKAEWAlwTRarEuCawK6NekYgKbLD0qVLDfHF6jdkyBDZb7/9EskLiR4gIsSeLbP4JsBErejRo0eZXTZ1P//884Yglq2RtgPxaQFOA45tD6IbTeSBAx7kFolMnISiWv2VJBRsziDFZB90rcVu2mdN5JFm5vSaPQ0BJcBKgGuyZpUA1wR2bdQTAjayA1Zffo6L7DBr1ixZvny5ieyA1RdZQ5rCET/klMgDZRafBDgkSYQAY7kkOUiIgnU7FLlnPNXaQyoRlVBAkvk7sppoIg8kFEnklfXGhoI16sYstmtaJRQhVpm2UQsElAArAa7FuuNBu70mDWujikABBNzIDnEhzSpFdsjS5AsvvGCOv0eOHJnlY5mvtQTYx7E3jmL014dONmkgLZkA59FT8xnWXVRXbJOcRCNQYFl2s//FpZZWCUXSKtT/twQElAArAa7JOlYCXBPYtdGcCCSFNEuK7JCl2RdffNGE1cLxqqxCf+fMmSNINCBE7nE61sCsJW+khKztcH09EGAfIeVYQ24ECn5GQkHBMmzn/K233jI/J1nUXQmFzXBn589uotxUzyqhyLO69TMhEVACrAQ45HpraksJcE1g10YzIpAU2YGj53nz5iVGdsjSLNIJjrk5dvddIC7z58+XV155xRx7E2kA66HVmsaF6IIccbxe7SidTHDDhw83ySLKLiEJcB6LbJHxlx1TmfUaJcUkYqEwx1FdMVrjJAlFJWuxSiiKrAT9bAgElAArAQ6xznZrQwlwTWDXRlMikER8+b+N7MDPZO5C65sUsipN8zjNcZxNWDFfhT5i6YNcczSO3rN///4mQ50lKjZElyVI9kjdhuiCHNkvjtVdcgQBxmmP5A1ll5ZMgG1a6VBZ9Zir6dOnG4swDowuOeaUACtunIQiaZ1Xk1DQ5sqVK81mCdJtNcY2OkUS4S57fWn99YOAEmAlwDVZ7UqAawK7NpoCgTIiO6RotukSrLMrVqwQSJCPAtmA+FInUSj2339/Y/1lnJAcSiXS4epLLSHmuyVH1mL4xhtvmE0ApDqJHBUdU0smwGxISIRx1FFHGeIZokCAIaOsDVuYdzZK7pxDjjktYK24Egq7BpKkM1ZCQci3xx9/3GQOZBNl1x/1Qrjtl41ZbIlxCCy0jfpCQAmwEuCarHglwDWBXRutgkAS8eWo2EZ2IFEBhC9tZIcswKPNXbZsmSFBRYrrkIfUgbBhEBdb8jrBQWRcfSkkCS0xBbJiNcWWGEHkXKerImPis0UJsIm7u2WbrNu0VdZv3irrN23b8T368+Ztsm7jFnnxldekx969ZVurNrIu5pqt27ZLhzatpWO7BunYtrV0bNvQ9HMnfja/t5YObXZ8N7/v/Jv9udPOv7dttV0ef3SyHHPM0QbHEIXU23vvvbcMHjw4sTkIelRCwe9WOhONQkHGu+jminUJAR43bpy5f1RCkQi7XlASAkqAlQCXtLSqV6sEuCawa6MxCFgHN0gcel60rG5khGhkB4hkmeTktddek8WLF8sxxxyTa74gKWSbI6FCt27dTErluPi8eQlwXKceeeSRplBvrtUQpytrMbRH6WkthrTD3Cxds0lWrN+yk6BulZdffV02b2slPfbuI+s37ySvhsw6pNYQ2m2yftPWHaTVuW7D5m3SnEPQtJbtOwl0mwqEOYZkt2twSPhOIm4IeYN069BG+narHILvqaeeEjISDho0KNd6Yx0xz1FrMeuQcHVRCQWNTJ06Vd7xjncYCURcSROFwrUUW4c7HxFNcoGgH9ojEVACrAS4JgtXCXBNYNdGHQSikR3QyBIT9eSTTzZX2UgJkGJS/EJ8Q4T5griiLz722GMzzRdEZMGCBcbBDeJBf/v06VNR3uCTAE+ePNlEEdhnn3126TMkyMathSDxxe+us13bjp1l9bZ2smJzG1mydqssaFwvC1ZskAWNG2Rh4wZjrQ1VWolIB6y4O8kjFt0t69fK3j26SpeO7Q0hbbLq7ryuoXUr2eAQ7h3WZJeMb3v7/8aCvFU2bQ1HwUcP7Ca3fKRyRBHI6L777ms07L6KsbJv2LCbtZi/QVL5P2uTDZrdEKXJbmc3RdWiUKiEwtcstvx6lAArAa7JKlcCXBPYtdGdVkVX7gAoHN0jO5gxY4acdNJJ3iM7ZAEewk2kBo6I05SogxvSDKx5SVpc3wQYwo0lMVq2bd8uS1ZvaiK281esl9eXrpH5y9fLolWbpHFjNoILSW3X0Eq6dGizi9zAlRa40gPzsytPcOQHnRyiyzVIGdwj+7Kc0rZs276DFO+0XFsJxsq1G2XGs8/L4P2HytZWDYkSDWvhxqptiTd/c+n1uP17yi8vGF5xKU2ZMsWQX/TbZRc2lZxu4OgJAWYzZDdE6IFdCUWa6COWEEctxvy9UhQK11pc9ni1/uaNgBJgJcA1WaFKgGsCe103mhTZAQL85JNPCrpFrrWREpKIpG9QIb9z5841R8RJxdUlo+HEwa3SsfJuxHTbNuPo5OPYeNLDk6VT70GyrnUnY7ndYcFd32TF3ZzC4gmx3adLG+ndqbX0arddurfZLD3bbpXenRqkb49Oslf3LrJXj66yctlbRjt66KGHJsFT+P9lEeBKHcNC+thjj8lxxx1n1mGeYjTaWyDEO0hx61atqkognnjiCbNhwgocouCUie74ne98p1l7YBwnobDRR6ISCohy0j0ZJcS0OXv2bBNZxTrVqYQixGw37zaUACsBrskKVQJcE9jrttGog5t9gVprH/pfMrDxIob44hGfdCRbFpjIGNDwHn/88RWbgCjxQl+4cKGxpCE/cB3c0vQtiwUYR6/Fqze+TWx3ShQM2W3cICvW7YgmkVS6tG+QgT06yoCeHWRAjx1f/fnes6Ps2729tG1o3VSFdbaz0gnrfIUDHsU9PsdaGM1wltSXNP8PTYCjDmJp+lj0Ggj3kCFDpF+/fkWrSvV5opHMnDnTEOBKxUYfiTrcMfeuo6VLjqs5Wtr7e/z48WZzqxKKVFPV4i9SAqwEuCaLXAlwTWCvu0azRHaASL755pty6qmneo1akBV0QopBbk844YTdPoqmFic5viB9OLjl1SVHw6BBDF5btl7mLF3bpMHdYc1dL2+s3Cgc2yeVhlYifbu/TW53EN2OMtCQ3A7GIatonFd02uDAuK3jlets58Yq5uciG5nQYcksAa7mIJY0B1n//+ijj5qIJkQKCVE4aWEO49Z3UvucWERJMRIKChvAOAkF/1uyZImRXcSdqmSNQqESiqRZ2nP+rwRYCXBNVqsS4JrAXjeN8lKDvGDBg+jZY35LvuIiO/AZnLnQAKeVEZQBKCScdMiuhYy+WQc3LGDobSEsRcjkxs1b5NkFjTJ9/kqZPn+VzJi/UhrXb0kcUveObXZab9+25K5cOEdGHzxYhh8wQNq0RsxQXsFSz7hdCUQ0PJfrbGe1pW4ij7TzG5oAQ+SRJIQkwKz5SvrtMmYRZ9OXXnpJsMb6KNzj1tHSJcfc98wzpJj1glwICUSR7Hb0NyqhiKZ8LnJP+sBD60iPgBJgJcDpV4vHK5UAewRTq2pCIBrZgX+4Glcb2QGNLaHB3MgOkA+SEJx44om59Zc+pgInIWLdQsQpNoMbsgcsdWh9kzSQcf0g7u3TC1bKU3NXyFNzG83P6ESjBQJrZAn2q+dOmUKPjubvWHGjhbiuyEZCHKOzOaAkaYBtZjsrobDWYkuMopbiuJi1oQkwRA6nNMhhUmIJH2uNOghhx0lCNIKHr/qj9VSzxvpqk+cA97MlxFidraXYZrdzrcVp5DM2kYdKKHzNUu3rUQKsBLgmq1AJcE1gb7GNug5uWIQobgYp/kZ0BZJM4EBlQ3a51hr0hQ8++KDR3mbV0/oEFoLw7LPPmkQYJN7g5Y2TEuQ3reWS/ixfu0mmz2s0ZHfavEZ5YdHqWBlDr05t5chB3WX0wO5yxMBucnCfLpmtuCEdqdIS4Lg5scTIjVnLz9GYtZYcQ0KxkB59dJjEFBA2wpKxBotIN7KsRzZ9hx12mEmGEaJwwoHGHUe/UIXTE0ILjhgxYjcJRVysaqstTrMJqSSh4JmD9piTGu5baylWCUWoWU9uRwmwEuDkVVLCFUqASwC1DqtMiuzA/62mNimyA9bhSZMmmePnUGlo46aM/kKAbazUNIk3uJaYuU/Na5TpcxvN9zlv7dBGRsugXh1lzKAecuSgHjK8XycZ3CvZqz5pae0pBLgSKXZj1lpybB2usBgT3g3NsY1Zm8cCn4Qh/7cEGH2sz+x51dp+6KGHDDEkHXKIwvpmM5o30UuePnLiAxlFAhEtbqxqazHGWsy8s1mORqGIOymI1sn9yDoiyQhE386lK8WKS/vsIyJLHnzq9TNKgJUA12TtKwGuCewtqtE0kR2woGLhwcs9KbIDFpuJEyeaFxYRBkIXXsQkwcA6xtiwAFciJdu2bZfZb62Vaca6u0PS8OaqHdER3NKqlcghfbrImME9ZfRO0ttnZ1YwXtI4FVGK6hZDxpItYgHOMqdg09jYaBy2mAd043yBFUfm0cx2Piy2kCZC8YUkwJx6jBo1KrczZRZMuRZrLCS4aKrvLO3iNMpcHnHEEak+ZrPbuZpie1IAcXXTfNsIJNFNkQ33hqSK/1kJhY1AYX+39x/rKkqK+V1Jcaopy3WREmAlwLkWTtEPKQEuimD9fj5LZIeBAwca6QCWnKTCC+nee+81lqm41MFJn8/7f2O9XbjQRH7gZUdCAqQaZ5xxRlOVm7Zsk+cXrdohZ5iL41qjrIxxWGvXprWM6N/NWHhHD+4howf2kK4xml0q9kmAOban3yGSKYQiwGDEqQAaWdYEshjX2c5ait1EDpYYWQlFFskK7eGohdXQkqa8ayrt51gDEODRo0cHW/PEuUYGMXbs2LTdLHwd9xNkduTIkbnrsmH5oqTYZrdzN0Vsjn8IwH8AACAASURBVFgrbJ6qhXuz92FURuGSYshzpZjFuQejH7Qb/3I9dvdQnBWUkidOCXDJALfA6m1kB14s/JwmsgMvpSwFAsyLOdRxMMeyWKmxLJLEAgc3iNVDjz4hex00RqbNW2ksvE8vWGWSG0QL5BbtLnKGIwf3lOH7dpX2bRtSDdk3AfadTrfSIEISYKzAaIAtAY7rU7UoBGy8XFIMMap2hB5NEpFqIgtcxGYSCcSYMWOCnXpUkyMUGErVj7K5RNJy+OGHe2+CTRKk2CXGdlNEY2ir3TXAmkg6cUkKzRZnLYYolyXN8Q5aM6lQLcDxE6EEuOQFqgS4ZIBbUPVJkR0gKcgGbGQHHNzyWnCRQHBMWrZDEC9LiC8E2Fqpn1m0Tia+uESmvLpMZi1ZK9tl98fQPl3byZhBPWXM4B7ma2jvLtKQM+yYTwLMsT0RIEipW3ZpbgQ4brzRI3RrLbbOdtEIFFiXITWWANsIIGVjGTrRB+PJKkfwgQFh15gTnP1CFNqyGR1xgrME2Z1/NwoF859EXpMkFJYAR63FKqGoPONKgJUAh3ge7NaGEuCawL5HNeoS37hYvmkiO2QdME5ww4cPN05PZRSsUK+88orRQUKyu/fbT+6bvVLumLlI5i1fv1uTQ/buZKy7hvAO6mEypiVZj9L2G3yxXllretrPxV0HAeZFD5kvu0CA6XMIMpPGApx2vPSZ4/JoZjvagLxAiLAOEvaOUwhOL5JIUdq2K10XOswb/fAhR8g6bmJHgyXh3kKVqLOfnf+ohMLNbuc63PFzGl151FpMCEVOsNiQ8qxQCYUS4KxrXi3AWRHLeL0S4IyA1dHlPiM7ZIUNPSTxZX1nxYKsWwe3dh06yaI2fWTi7FXy6KvLZbuTYO2AfTrL0YO6SofVC+Uj7x4n/Xp2yTqE1Nf7JMDoVtk0EK6t7BLSmgc5IVPascceaxIolFFow5Ki5cuXG2ctinW2c63FaUlR2n5ajXOoMG/0iw0gjqlEnghV0OKixyaiSqiS1tmPOXDD8rEWwIf7kzUXdbhjHNU2wejxkSPx5ZJju6asRTguCkXZG65Q2KdtRy3A8UgpAU67gnJepwQ4J3At+GP2YW0zuPG7G8uXoVvNLC8Iq5lNYyVJC9vDDz8sQ4cONS8PH4UxYAkiDevcVdvlhQ3d5cFXV8uqDW9nXEPH+57D+8i5R+wrw/t3M3pgYrPiPJPGeS9vP5UAJyMXggC7vYAAP/PMMyYUX9RSbEmRTfnrEuOszna2TZ8W7mQ0d1zBvUC7ZehxK/UBTMHtwAMPTNvNwtcV0TpbXXk07TN/JzZxlBRbCQ2dfuyxx0zUm2hSmrQSCp6nrpyiJUsolAArAS58o+epQAlwHtRa7mfKiuyQFTE8/nl5+NCyksDiyWdekofmrpPpK9rJ3MbNTd0hPNmxQ3rJOUfsK6ceuo90cBzXOCbHMYlQWGVZHemIJcBgX9TyM23aNCPpwImv7NLSLMAuXqwZrJXMfbS4znaWHLvxaqMRKNI4W7HWIEyE/sM5L0QJOX92PDNmzDB+AdzboQp+CUT1IMScj8L9yuY4KqFwJTScEBBhwz7D0sSSTnK4u+mmm4x++oorrvAxjGZVhxJgJcA1WZBKgGsCe7Nr1JIwXu5xkR2weuHBTRYnZAlYZ7NGdsgyaI670bEWOcpfsXKV/HnyC3Lf7FXyQmNr2epIHNDwnj2qn/nq3yP+SD1URjpeamSdw6JUVG86ffp0ozsk1nLZJSSBCk0QOeFAr0omuDTFOttFM9tZS6EbqxiCzIbKPT6HUJHGety4caWeNrhjqYUeN+QGzY41lNQDAuzOP/e0LViG4yQUSWvLJcWf+tSnzPMBItzSihJgJcA1WdNKgGsCe7Np1HVwg3QSuQELon05+4zskGXQkAGIdh5L0QsLV8jvHn5JHnh1jaze/LaKqkPb1nLGYX3knCP6ydjBPaV1QtQGxv7AAw+UmpGOo3acybAmWalJlCxlIcVKgLOsssrXQoCZl/Hjx+euMGoptOSIdYVF0HW0YvND1kEkF3llFFk7ipMWx+zc86FKSCdNOyaivCDnGjZsWKhhmnvZJjZhrqMSCjZMzHM0NF90Y+R2+IILLjCGhx/+8IeFx/HnP/9Z/vjHPwobEp5BxGj/9Kc/LZ/85CcTT6FuueUWufbaa40vBVKWK6+8Ut7//vcX6pMSYCXAhRZQ3g8rAc6L3J79ubiQZuhureNZGZEdsiBGRjOIOA/mNGXV+s1y9zOL5Lapc2XW0l0zsR0xsLvR9b5rWB/pUiEZRVwbvDTvv/9+Y5XjReWzYFHnxbx48WIj88Biy0uRo3R7rM53G9w/jhTHHauGPGIOaQEObSElAgTjK0KAK60XThaiumLmmRKdZ35Pc3yeZ21CuJFbQKpClZCZCu2YamHprhbVg2cv97/dEFlyjBOe3RhFN0cQ4zPPPNNIcq666qrC00U8bWRSZ599tvTp08eQdUjtv//7v8v3v//9ivXffvvthux+6UtfktNOO03uvPNO+elPfyr/+Mc/zO95ixJgJcB5106hzykBLgTfHvdhN7IDJJdiHdwgwBBOrL/IHbiWHT5ZxYpqU7MCRTSD7t27V305k4b48deWy1+mv2Hi9m5yNA77dGknZ4/aV84+op/sv3e2JBy2r2WkZOYlhyYR6wlSBcJB8bLj73Ea4KhnOi9NXp7RyATWkoSTUSiNJQQejEKEQQtNgDm+xkkMi2yIsmLFCmHzgkMpmyBIEd8p9vjctRZiMS5ann76abP20m4yi7bH59E5M0bf0V2q9a0WRN86babVdNtY4NEoFKyLD3/4w2aTzEkQJ2KQVPTMe+21V+4pYYO3zz777PL5z3/+8/KLX/zCRD+p5PSLgYTwlH/605+aPnv66aebuNlPPPFE7v4oAVYCnHvxFPmgEuAi6O05n00T0gwCzHVYL8qI7JAFLY7yeeDHHc/OX75O/jpzkdwx8w1ZtPJta2+b1iInHbyPnDe6v4w7oJe0aWidpcndrgULXymZqYuA/OgROXaG+PICgshmdYKLpgHmpWnJEhYkrHpEz7CEyWd0DhekkEfLoQkwlnnmCut/iBKXepnNRdTRykplmOOotTgpLFd0HCFPC2zbZPMjBFpZ8b3j5qoWRJ/7EWs3JwhFNiusexyCeR4iW4BY41yHjAYfCSzCv//9770sUer5yEc+YqLlRCNX0ACJU3gv/PWvfzWWY1uQRHzsYx8zfgx5ExcpAVYC7GURZ61ECXBWxPa869NGdsDzvWfPniYDWygdYiU0Z86caawQWBwoW7dtl3uefVNun75Qpr6+Iz6rLUN6tJH3jxkkZ48eIL06t/M6QRztEZsVXPIWcEVPyjE3FnUc+1yLelYCHNcPS5Y4trf6bZsG1rUgWlJc5KVs2w9JgLF6Y2EKpZGFZGCpx4IXoqRNvew627kyCjcsl2sprqYpDakXtxgSVpATg7xEKc9c1GKccRuaPH23n+EZwcYB/e95551n5Dk8I1k3l156aZGqmz77iU98Qv7yl78YIhsnu5kwYYK85z3vMc8yN5EJuu6jjjrKEPW8JyZKgJUAe1nEWStRApwVsT3n+iTiG43swO/owUIeiVZCk6N8HsI4rjyzcKV88+6X5PlFq5su79Rmu7xjQHv56PEHyZgD+pY2Kffdd58ceeSRuY4bIaC8qGyaZchv3MbCBwG2ALjWrrhwXdaC6Ab279atm7EmZt30KAH2t+w46obQEHM6a7HOdtEIFK6m1MYq5rtN9xsyaYodE2EFSbyB/CdUqYXjXZH5jMOFOeZU57bbbjMk1HdhLZBkBoe2r33ta7HV4zSHHMNGArIXcVKCjvyuu+6S9773vbm6pgRYCXCuhVP0Q0qAiyLY/D7vOrjFpS6uFNmBhyBkKGSWpkroEYN1zcat8o9F7eXWpxY0ZWk7tKfIiQPbyvvHHSL9+/YpHfyJEycai3gWixXEg5fCvHnzDHG2Ot9KnfVJgJMSDcQ52kGK+TsWd5co8XO1BCAtmQDzkkenDSkIUWzijRNPPNFLc66m1LUUcwrB6QPyIo7XIaIcpZfpbGcHZCMjsKFE3x+q1MLxzkcUERcfZE/MVRErayW8Oe3glAudMRuUSqdDlgBzPYYSW/AX4Z3xf//3f3LWWWflmlYlwEqAcy2coh9SAlwUwebz+bjIDm72ICyCZEXiaBcNIQ8tq0NlFGgCsQy6x1u1GB3j+MXfp8nvZq6UlRt3BO/t3VHkg0NbyXuPOiioU96kSZOM00cazSIk0up8saZanW8ShiEJcFxfqh2r21BNLjG2iR1aMgFGB8kGBm/5EKVa4g2f7btOlWg6OWVhQ0yBFLu6Yn72IZWx/ef5g5/B2LFjvUdVqYZRLRzvfEtosCgTtYFTgpEjR3pbEkgo2HSxMUKfXc2xTiUQ3mBPXZGmQk4NVb4LlQDnw605fapaZAf6yf95oSdFdnBlB7Ua35y31sq3/vaSTHlthekCjm2n9d8m//qO/eTgA/c3DmQhC3GAkWG4Fo+49vGqhhDipILUAata2sgZPgmwL493N1STa0HEEmVTwNp4tmg62VC5iR18z5Evp6K0/Vq4cKEsWLDAWMZClKyJN3z0iVjbhN9jc2ed7dzQXKwB5jWa2S6rs53tK+QbCyaYlplEJ4oNbabdjPrAlTp8rx82Y6SsZtPiK8kNpJcIDrwXWAtJ2SPVCc7X6khfjxLg9FjlulIJcC7YmsWH0kR24MVKOCf0vUmRHZAdYA1Eoxe6bNi8VX7xz9fkpkfnyuad4cwO6b5NPnvsPnL8EYcGSw8bHTdHgkSiiPOK5lqIAzpfLHg4t0F+s1rNfBJg5hALbRmxXd3EDjj5ECkBEszf2ZhE5RPVHLCyrq/QBBjyy6YR554QJXTYNcZE4hvWa9zmzpXKuJEosOJCgKOW4jRzbUODISspM7V43D0cWncMYWVOx4wZ42X5kLQE3HjO+NBPs5E955xzBKdEvtI+83FKxgJ96623No3rjDPOMKHTNAyal6nepRIlwP4x3aVGJcAlA1xS9VEHN2tttFY4jrYgvmgLsUZWcsByu4d3Ly8pYkyGLA+/vFSumjBLFqxYb5rt1na7fPCgNnLsgPbBvPArjZcjW8gkDihugfih80XygIwEkpzXquWbAENQQui4WV/W4u1aECHH1gErSopxwMpjKW7pBDh02DXWclbLqOts554KROfakmPrbGfvGxvKLlQkD9q1uuPRo0eb+NihCtZSSCH+Az4K5JJEEzx3sm6w49on49uvf/1rue6663ZL9sKJDr4gl1xyiRDiDLJsC6HYPvCBD8iXv/xlOfXUU43j249//GNNhOFjkmPqUAJcErC2WiXAJQPsufqskR0gb2mJGYSGFxtOKiHKmys3yHf+8bLc+8IS0xw3+8kDG+Q/zzhEtm1cZ6InhDqCrjRerCNYznEQoYA/1h3IL8fDWESKBKS3L2leMljX0somKvU3ZHpb1gsvZI5m3RLngMW6giwzvjhSnDRuCPbUqVPl+OOPDyKDYWODjhO9aojiWzOaps9s7pi7IuuXubaZ7dxNkJ1rnj12vtEbk5Ut1ByCQa10xzwfIPz4D/goOON+9KMfNWHPku6VNO0ho8AfJK6QFQ5d8MUXX2wIMHPsFv72ne98pykV8je/+U1NhZwG9BzXKAHOAVqWjygBzoJW7a61CSp4oGeJ7JClx3PmzDFHbGUf+27Zuk1+P2W+/OTBV2Xdph3Z6PbrKvLFkwbJiaMONA94PPDxxA/lhV8JJxxD0MZBgG16XMgqGwv+lseaGW3LnduiL7fmQIArYQlZdtM821TPjDku1bOLRWgC7PsIO+k+DO10R3/KDEnGXEd1xciwKFiGbeg9n3Gp4zCmH9zDODPSbqjiO004ySewuqIt9vHMCYVD2nY0CkQ8UkqA066gnNcpAc4JXKCPFY3skKWbHNthiSqTdM6Y3yhX3v2SzFq8xnStY8N2+djoXvKp00ZI+3Zvp3eFgPCVN7B6lnFXuxYPcixkHOsjJ8FygkXYxzGkbdcnAcbCBnEMEcmjkgU4C/Y2KoFLjLGc8ZKHFFtijMY4pPUQ6xgnEKFOQ3w7TSXNQS2kAWyuiVPN5tGSY5usxTrbWWsx814tBF/S+Oz/Q2cQtO363oj+7ne/kxtvvNH4GygBTjv7e/51SoBLnkMlwCUDnLN6S3yx+PJlw5nZh180soPVqRaxIEI4OfotI/1r47rNcsP9r8ifpi1sQmT8oPbyzfeNkAF77x4TFCckwrVxXFqrYq1HfMdRCJ1vWVYkiKAPCcSeRoDj5hYLe9RSbK2H7pG6e7Tue41wAsGGB+1oiBLa6Y5TJCzAOGlhjQ1R4mIdR+NSW2LM320IPvd0IGu0kdDacYtjUjzurHj/9Kc/NSmIidXeEotagONnVQlwyatdCXDJAGesPm1kB0JuYd3AGolVMi51ZcamzfEaMgifpJPx3DFzkVx332xZsW6z6VK/zq3l6+8aKicPH1ixi8gfGKOvxABZsODliwUQLGwGJkKhlVl8EWAcGSk2hXSZffZhAU7bPxyKSGmLM6clSZBi5iea6hliXDRcXmgCHFpzzCYDfTtyJwhmiJI2OYQbgs+VUdBn5jUagSLqbOeOxXdK4rQ4EVMdp7shQ4ak/UjV66699loTqgx9bkssSoCVANdkXSsBrgnsuzXKQ989CufnuMgOkEKCohNyi5TFWdPXVhst8gcIVJ50rHH1vrZ0rXz1rhdk2ryV5t9tW4tcPLaPfO7Uw6R924aqwOMVzzHiSSedFGyCwJzQRWCMNRarOpsCssCVnR7aFwH2rT2sBn5IAoxFmJS2J5xwQtNmjzlyCRLX2CN1m+rZdbjLIlvx7cWftIhDSy5qEZO3SKQL19nOTflsne0sKbbfOSnAKOA7JXHSPNr/+06//JWvfMVsysm21hKLEmAlwDVZ10qAawL7Lo1mjexAiKsyjuIhfyRSOPnkkwuDMn/5Ojn/11Nl+fodIXSOGtBJrj5npAzeq3OqunE4Qy94yimnpLq+6EVYiiCPWBqtzhdrEy+ynj17GstjmWVPJMAE0IeARKNAlIFTWkuePVLnejd+LX+P6kwhx5U2kMhvqCNUSMDQFudaxOQtI720dax0N0JWQ84zkvnlnmYefZwMpF3bhC3DSBENn5j289HrPve5z5lwZH/4wx/yVtGsP6cEWAlwTRaoEuCawG4atRZfHmz8HNX58nDnGB5tLsdpaFDLjGWJk8q0adNMvMkiZcHiZXLRfz8tb6zZJh3atJJr33eovGt4v0zOG776kjQOiABEDg1m3759Tfxcd3MBHrw4y46r64sAh0xPDG5kk/IV6qnaXKUlwHF1xKV6xorI33G0ioZl42/cd5Aqn2lnq40vtMW5Fs5hoRz9eJ5aQsxGmtBh9nlrTwZcGYXPUzQ7x9WSjCQ9k+L+T0gy/BB+/vOf5/l4s/+MEmAlwDVZpEqAw8NuHdx4IXAsi4XRkl96w9Eux11YobBaQb5ItlC296/N5kN6zDxt8VJ9YdbLcuWkxTJ7VWtp3UrkFx8aJScetHdmkDm6nDJliknVmacvSQ2CMVY3MOZlSNQE5iFa0J1ynMrmo8ziiwAjS6CusjXLYLGnEOC4eYtL9QwptpnOrKYeyz8EGVJcxjq0fQttca6Fcxg6Z2QQvrKjpbkfrdUZrTNjjoZmc53t3AgUWZ3ton1BX01CCeRTPsq5555rkmp873vf81Fds6tDCbAS4JosSiXA4WCPhjSDXPHQteSK/0OKCaLOz2hQ+/fvX+qL1x09BADLBbKDLE5EWFx4gb/22uvyp7ntZPLCHbKHb7znYLnwqMqObtWQx2qD0wfW6CKRLaJtgCsvYSylvPzYXHBMWYnczJw505Cfsp3KIK3gWNSZMaQuNyQBZj1gjUefXhYRdTOdceqCddue0rBRZaNExAQbuzZN+t+0TxfueZz60qakTVtvpetCx1WmH6FlHrRZLbpGdBNkybF1trPzbIlx2iyG1EuEDWQXcZvqPHOHIeDd7363fO1rX8vz8Wb/GSXASoBrskiVAJcPe6XIDoTK4cUKucJDuozIDllGh4WE9Kg4nqU5FoRA8oLh5Q1hfmxVD7n5yR1Z3T5+3GD54ulDszS/y7V5yXgSqUbnC5nCO5uvJKKPDpk5wppTZuGla1PKFmknJCkN2VYIAuzibseGvhkiHA3LxlxFIxJAlNKSpOgch8SStotISvKuz9BWbvqZNaEJz2rmO+pciRwtmrDFxqmObtDLyD533HHHyb/927/JZZddlhf+Zv05JcBKgGuyQJUAlwd7Ukiz5557zjgR8cAsK7JDltHx4Mdygac91q1KhXGhrYOw82IgQsL0FW3ly3fuCMF1+mG95UfvHy6t0UDkLFnJeLVmGBeWUbJt9evXz1h9q43PrYtNCi+4sh29wNFannJCZj4WkkiFbCs0Aa5mSY9GJLDkmDnEgh/NalctTJed65CWe9q0YeXKtKhH13FoKzft+9JWR7MYQpCtsx0SqaimGCc4X9nnWG+cDJByGC1wSyxKgJUA12RdKwEuB/Y0kR0Ias6xZ5zzVTm9ql4rVq1JkyaZ7GuVYoNiOYL4EtSeFMGQ32kLVsu//n6GbN66XUYN6C63XDxaOiSEOUsaHy+Xhx9+2MQBRo+Xp7Cx4AXIF+PB0p7ViZBNCi+gshy9bEIT67zmHrNbi2IWCUhIklELAhwqLF4eZ0I2s1FLcTRMlz1OhzS585qnvTz3hP1MXFKKIvWl+Wxokk+fyrwfbMIW11psY1PTNhkked5YcpzmVC0OR54RnFb95je/kXPOOScN1HvcNUqAlQDXZNEqAfYLexLxdSM7oC3lq8zUw1lGB2GcOHGi6U/37rtmZ8OKCuFBo+wS9leWrJEP3vSUrN6wRQb27Ch/+rex0qtzuyzNxl4LcSDoO0k5soZ844WB8wsvXAoaa/qcRztKZjU2BmVEA8AKR9xlXqC84LBKY/m2JArM7bGr1Z4mkeIyX/hxFj02KmVtDtz2rMWyORPguIUctRwyt8yrTfVsCTESqBBSG9tHoqywueO0J1QJmaTFjik06eYZyukYzw1Om6zjnRtxxLUWp3Gu5LM4QU+YMCFYWMhQa8K2owRYCXDoNWfaUwLsB3bXwY0HVjSkWTSyA6QMayoPS47KmkNhDPfee68cffTRTc4bWDmsFZWXtRstYemajXL+b56UhY0bpEfHtnLrv46RIXuni/ObNF7avf/++01aZtpNW1xS6SNLHi9tyLjPeLCuJAMHPCQZ6EmjGmB+Z424VkVLiqOhu7AosuZChu8KSbZDE+AyE4owr24yB362qZ6j8gl+L+oYGXfv8NxhjOPHj097axW+jsQ2rPOyI6q4Ha0F6Y7KddwwfG5satfZznW4i+rI7SkhUXGIZlG0cN9ef/31gkyDTRDPdL4nFeKjE50oWtgE5z2lUwJcHfX8IsKk2dT/KwH2sAaikR2o0g1pVi2yAw4ahAaC5DWXggWYcDsc3+HghtWXFzAkzbWirt+0VS763TR5duEqadvQSn730dEyZvDuYcTyjouXxn333RdrjY6rk4cw1h4sv0TOIIJG0Ycy7UASqBtMihbGhCc8JDUqyUjrBBe1KEKQ7TE7L1HaYM3htGdJcdF+V/p8SAIcOqNXaOJEAhrmjagBdsOD9ZDCPLobHtZOkvNm0pwXycqWVHel/zNG7knuzVAFYof0oOw43u540ljXrbOdnWtLjF0dOWuedQheF1xwQRNZLYrdXXfdJZdeeqkxdPDM5JmRlgCPHTtWvvCFL+zSBerJc7rmVqIW4PhZVQJcdLUnfF4twPkAdh3csO5SOK62DwL+byM7YLXjiJsdtGvNQU4AGeKYv7kUNMBkMOIFSb/R+KL1dfWKW7dtl8tue0buf+kt0+0bzjtczhze1+sQ4qzRcQ24FmpkG1gzovKNIh3jBcFL6sgjj8xdDWNxUyzHhV5LS4DjOuGSYtJZM2+81Jgzlzgho8gbpSCu3ZZMgDnCBj/WU4gSRw6rpXpmHqOkOEuqZzaKnOwQXSBUIaIK5L3stOLueGrRJvc6zw18KbIWqyOHEGMAuOGGG8ymnrXIphYLMJtxvpBlVfLVqNaufTZwDU51+KKkJcBnnnmm3HjjjVmHlXi9EmAlwImLpIwLlABnQzUpsgO1cQSGU0tSZAfICi/aULrGpJFC9Ii9ywPSOrjFOW585++z5JYn5pvq/uPkA+RTxw9JqjrX/3kBQDyxRkeLdR7jRcPLgWNVMiUVtURE28ECznzmDd7PiwwrDk5HbIB4+cdZ74oQYLfP1uudRBjWumRlFLxco1EKipDilkyAQx/XE20EUpuUchtS7OrErZSC+wHrKvOZJssZEVE4gQopvyLuORZujAGhyowZM4wjWsg2fad8xhn4/PPPlyuvvFJYl+DIM+WrX/2qXHXVVYWgVAJcCL7SP6wW4JIhVgKcHuCog5u1ilrShVYLQgaxTRPZAQsxD+hTTz01fSdKuBKLIWQGyQMECe1sJSvNfz8xT675+w7nsvNG7ytXv/dQ76TTDhENMFYOHEDcYo8GIQLWQl2GTpI2sdBzpJlVe4fOE0whGfQfgs5RdqXimwDHSTaspdjVFbukOOpol7SZCEmAQ0ctgGhgUQ11dF7EUslzKY4UV0v1XC1BRAmPGFMllsbevXubE6ZQpRZtgi0kGLmAj0JWubPPPttIsexzjp+5d7NGtYn2JysBxhjAe457g5NLMtP5cIJVC3D8SlEC7OMOqlKHEuBkgLNEdsDCAdlJcwxfdrrfpJFButCk2jBh9BvNKxpaLMDRsmT1RnnnDybLlm3bZdwBveRXF46Stg2tk5rJ/f8HHnjApPTFsktxNxgDBgww2ji8qMssBO/HYQidW5qCJQ5dN5ZjrOeEXkuTDtUXF3D8ngAAIABJREFUAc6abasIKW7JBDi0dpSMg2xA2Hz6KK7jlasztameOYVgzXHPh0j1zJimTp1qsi5y74YqOI7RHs+0UCXrPZjUr3vuuUc++9nPmo140qY0qa4iBJgkHDwH2cDwXLzmmmuMVA4jTtF1qwRYCXDWtevleiXAlWG0aVB5aaSN7ADZSfuQKiPbWZpFYR3zIGn0FSsXIXv4Gc9grDRxD7R/PL9YLv/Ts9LQupU88f+Ol24d26ZpLvc1JOXgBY0FFUssHshYPNBlQhZCFF5mWHPShKrDSsnRJNYZjrJ5UaSN4csasw4wRcYFRpwsFNEs049o9AlrKXZ1p2zguLaMEHFRDEJbgEM7bIWQB7ipf/E/QJ7DPQ8RxqIXjSyCpCLtsyzNmuXZwj0BCQ5VHnvsMSN/4PkWqviOxHLrrbfK1VdfbYwVPucDPLJYgKP48VzkWXzhhRfKz3/+80LwKgFWAlxoAeX9sBLg3ZFLG9kBAknBEomFIevDCYsmx1tkYyrbkmlHGU25jKXXlQ88+eSTRqcXp0W87r7ZctOjc+Wwfl3ljk+ls4jmXZd8Du1br169jAXWhk+CnGfFuUgfIJSQhWrOQhBeNN9IXwYOHGjWQ9ag982JAMfhFU3yAEGG/DIXnHa45Mmno53tSxrP+iLzHP1sWk2urzanTZtmTgriTl58teHWY7XihPdj/UKG3U1PNESXnV9iVee9/yCjbKyRh4UqkydPNht8nhuhiu/YwyTAuPnmm4VNme9ShADTl/e85z1mw42lvUhRAqwEuMj6yf1ZJcBvQ5c1sgMP8yiBzDIRNtkDsTir6UOz1FnpWqzNPJh5WEHSILhxJA1LFH2Ji9V50c1PydTXG+UDY/rLVWcd6qNbFeuA8EAK7AYjGomi1MadytHw8hXn0Q1p5SgQMgEJRO6Q1zLtiwDTV7zQ8zrtZcGV9YQmEOLG+rKkmA1VNPpEEeJEn2pBgLkPQkUsCK1VrWaltCG63AxnzK2NUx21FKfd8DzyyCPGYhjV9GdZc1mvZRNNGvM4R9qsdaW93ncIvR/84AcmPjsbCN+lKAF+97vfbe5NJcC+Z2ZHfaoBLgfXplqVAJtkIEbigNXDxlF1Q5oBVtrIDlmmy2Zew7qYlzgltQfJtg5uvHiwhlQLnYMWEWJMyB23EPpszLUPybpNW+Wa9x0q540uR1OHMw/WVGv1tZETksZZ1v9xaIHgugkDWC9Ye+knhZd60QgUeyIBjiNRrqXYWhSttKMIKQ5NgIs4peVZi5y8YBllcxqiZE1jzZqPy2rnxqCOngJE5T+hySh9Jpvk6NGjCzuLZZkT9OOc6PmKd/zNb37ThCmDBPsuRQgwkUTY9F900UWFQ6OpBTh+ZpUA+17xkfrqnQBnieyAjoyHWtbUvJWmMG2s2zxLAEKFZgwLpbXoprGC2GO2qGfvy4vXyFk/f8J05e7PHCMH9emSp1sVP4N1yep8kT1AKvHEh1iGDGEU7SAPeciCTRkLqcPCw4aIEwD65iMCBfMFBmk1w5WAxAEPcu7LA73aJKfVOlpS7B6xu6TYjT5RyVLMyQUhA0PFzPbtlJZ0s4R21vJ1TF8p1bNN4e2SYkg+0UmQWIUoPNvxI+A0pCwDQ9w4fK8dEk+ggb/99tu9wIb0jrTKlJ/97GfmuYuVmcJzDkPJySefbHwuMJ5Q/vd//1f+9re/ybve9S6j4ea9cu2115p+cVJX9BmtBFgJsJfFnbWSeiXAZUV2yIp/pVBfWeux19v4uK4+mQdWWt0eJAMiFnVsun36QvnqXS9Kp3YN8tSXTzSOcD4K82AzzmF5tk5v9BevcUh7qGPouPHg6IGlFys9pIG+Yqmjn5A1X8WXBdh3CCYfBDiujkqkGK03JxRRUowFOCQBDh0/NrSDWIhUz24Kb3TGFIwHVjPOHLM597GBjFtjPMeQXRC5oGyJmdu+bz33Jz/5SRPj+be//a2Xxw2GkUqEFYv5iSeeaL64ji8K6/NLX/qSMUqQlhxnZOLXE4fYR2prJcBKgL0s7qyV1BsBtpEdkDvws01bbAmitZxy7M1Dh5s7S2SHrPjzwOEYyYdjCCQBsoaMAOtkNPNcmr7Zz3Ns6JZv3P2i3PbUQjlqvx7y+4+NSVNV4jVY9XgRQ4YgudGoCegieVn6OkpM7FDMBRBgjh9ZHxBe5goLte/ikwBjtc4atzjPeNJagNPUbY/Yo9EnsDBCirkXWddIc7AqFtUUJ/UJLTzzzD0UopCAhrZCRSsInemOe/zRRx81Eg9rNcYSyX0VzWrH/PogxcQ3RzfL5tVHWvS068B3uLcPfehD5vn4ox/9KG0X9rjrlAArAa7Joq1HAsyDkWLJLz+7ocH4PW9kh6yTSBQIyGqR2Jg4q1jdrHVwyxtVAssxO/zoEfrZv5wiLyxaLZeMGyz/77ShWYe5y/W2vxBgSC8P9ziHPKxwEJ1Q6Wijg0KHDPnl5U08YuYorSU9K0BYwm2osayfda8nYgVW4LRxi4u05ZMAx/WDe9Jaiok3anXhWPYgxVFnLJ+kGCsepw+hCDDkkPvAx0Y4zZyGjnMM6SUiA5nnrIQMI4TraIfFGFLMvMeR4rgMitXGyoYJaQn6/SxpotPgV+0a35uZs846y4zh29/+dtGuNdvPKwFWAlyTxVlvBBiQIcCWyPCwtaHB+HvRyA5ZJxELRaXEE0l18VJBo4XuEys11uo8ueHdduISP2zYvFVGf+chwRHux+cPlzOG7UhMkbXQX0gTkQrS9LeSQ17WdrNez4sTyzTrAj0c30877bSs1WS6HgIMPkU1wCEJMGsF0hIiDjDklzkhGkdcSLYoKbYSiryxbH0fYycthtDhukLHOU5rjeUkJEqKuR95TrPBiW56qhFb1ia6Y3StPizKSXNo/+872gVyhA9+8INyxRVXpO3CHnedEmAlwDVZtPVIgCEaPFDLiOyQdRKxUEAGs+hceUngoAAB4aVgZRpZ2467Pi7u7fR5jXLBTU+Zyx/8j3fIvj06ZGoKcgdJh6xjmbY636RKiMUKISSMUYiCRQqCju4N6x+WZ8gWZGhPIcDIH9hgYGkru7D+kCwQS7bsYgmwG43Dtulail0JRRFSHDosmW/SlDQfoaNcYNlFR8oGJmuMbJvqmbm15Jjv/J0NTpQU2/o5yULKQpz1sk5u4nDG8W7EiBFepFKsbZz4cIRDC9xSixJgJcA1Wdv1SIDJYIVDE97yviM7ZJ1EyBUPcMKTJRUehmhS6Ts/lyHTiAv79bvH58m1/3hZ9u7STib/5/hMLxNLXNh00F9kBGmtnDhcQPZ5mZRZXPkLliIbq5SXJl7OWJFOP/30MrtgXuY+LMCsDzYx9USA4yYmDSl2He2iluLQYcmQQqFvTpM228dCDO3kB2FFG+vLGhuX6hmLL39nk211xDx/yOKYVxKWFWsbeo1MjPgvFC3Ux/Po+uuvF7TALbUoAVYCXJO1XW8E2D6gODrDEunjIVVk4jjm5+GMc1W1AhFD58uLBA9etIlZNXFp+okFEYLNsZstX7j9Wbnn2cXyzoP3ll9+KJ21j5cR/cUxjyQWWLiz6vAIN4YFtkwLI1Yi2gFX+giuLkHn/1iuIMBlWpF8aYAhwFiw06RuTrMeql0T0gJMcg/WZVxCkrTjsKQ46mjnWootKWZsSJNCxeUNHSM3tMaZ0zbaLNMa66Z65vnDMxP5BAWrcNRSzHPX9z3NKRKbGZxQi8rR6DdjYh0ShuzMM89Mu9T3uOuUACsBrsmirTcCDMiQHcij74dfngmsFHfX1sUDnBc/TkBYT8ngVqZHM+1geSXEjS2n/vhRmbd8vVx+0v7ymRP2rzpMV5eMfpZNRt4QRJUiUuTBOfoZNIngCuHnBYMFPs5KxIsbpxYkEGkt13n654sAc6oBeauWujlP/+I+s6cR4Lgx2KxnbsgufrZZz6JpnvNqipMwJxoMG71QMXJDSzw4dWOzDwEOVbgXkDQRezg6vxBVNuRuyD1+LupIaaNdsAH1ESaREzDWBKQ6Tv4TCsuy21ECrAS47DUWW389EmBebhCO5lAqWTldhzGbGAILRtkFhy+OR0899dSmpo6/4RFZvGqj/Ns7Bst/nhofAQI80Z6i87WRG9Ik3qg2HiJSQEB9pvV1E4TwwuPYudopAC9OPPRPOeWUUizudvy+JBBKgIvfIZBirP4QD0iStRhb0hS1JPogxQ888EDQjGW+Q3UloR46kx/9qeQQWm3TY+NQR7PapTWW+I48wQkUkXJ4Jpd5EpY0f2X/XwmwEuCy15gS4J0I8CKDCDWHghUSkoVmjAIRQsOJ5cLGIcaSGqpgqcExzz3y/969s+W3j82Vnp3aysOff4e0b9vQ1B1eJlbnC65W55v2hVFtXGDAi9NHTFv6yTG6TQCAxTdNghBOC/DQJzNSVglHljljPZIsIKuDULQNLPhsQsaNG5el+VzXhrQAhxwXYEQTU0RJUyVSbCUUWY7XfetG00xm6MQb1ZwY0/Q3zzVsyLnn02ygXc24ay22GQvZLCeleqaPrAus60jIfJwY4TxMCEbutaLZ1vJgGOozSoCVAIdaa7u0U48W4OZEgCF5WF0heVjvIMSQYKQOHM37eIhmWVhxR/7zl6+TU3/ymGzfLvK9c4bJv4zsZ6rkRQGhRGuHdhYNrU9dMslIID5FHbrcfvISIdRd2n7ivc7xI0e3ZTnSgDmJCfhuQz25Dlpp+8qc8MLHch6KANNnjpjLLqEJcJpYri4pdnXFUUtxEilm84MGmNjbIU55mCvCL3IvhEq8EfJkwq5FtPA8m6JJfbKs1WjIPZ4l/C0u1TNSL+4Hn1IPTgiJ6c07ouiJWpZxh75WCbAS4NBrzrSnBLgmsDc1irWXL6yLPFx5KfGVhfT4HEEli+cn/jBDHp69TEYO6Ca//8hIQ7KIGNGnTx+j87XB7X32JS4kW5b6o3pkvKmz9hOrLOQEi45v7TX9s+mVISIkQaA9S6aYC5sUwJIovmONqhTX1IezWFqM2aBwRBuCAFs9ZwhibwkiG6WsiSmSSLG7sYHssqmCAPt0nEozf8h62GRz/4YoIcPz2fGUlajFZrJzLcU2tjzPCH7mhIn5LZrqmdM45GiQ7qKnQyHmOW8bSoCVAOddO4U+V48EmBcOVppaF6yLWAsgPFh7kQ/4JllZx1iJ8D388lL5xB9nmur+36jtcmifziY8TxlpgW2fOf6DBGf1/MeCDjmHpEMw6Gfe8FK8zIjrefzxx2cmz5Wwd+MiM99Wh8yL1c1OyDpFU8j6sKSY37mGFysvWEuoIMVYpUIeNYcmwKGc+5g3n5nZIMXcV9UcsZAecf8jd8oin8h6f9vrQ8cd5n4MlaLbjpHNJfdUiDji+JUwv4wRay33tU31bO9VK6GotoGNzuf9998vF110kbn/Q58G5l1beT6nBFgJcJ51U/gzSoALQ5i5Ah6WWCcgdzwc2d2jMW0Ohb7gkY7HsY3ewAv8jUVvyvm3PC9LN4iccVB3+dGHxpQeRQMnFnCCfKYtaIaRZUBcsXARxqrIi4MXKA5KLh5p+xJ3HUeyHGvSPwgP/YPQWic4lwDHfR5SbImUJcX2RcuLlZMEjmHRlGPtLjL2pHG2dAJcpoXUJcVY0VnrWPWZ32jILjY5/M2Hrt7Oaeiwa1n0uEnrLu3/uc/AmQ1mqOI63sWlerZh2eJIcdyp3x133CFf/OIXDbH2Mf/4BxBTGA046bAxDvA9TeFzN954o5HqDR8+XL7//e/vEi4zTR2VrlECrAS4yPrJ/dl6JMCQDUho6GIjJUDqeKEhHaCQ8YwoA82h8NDG6sBRMxYLyBSEku/T1/WSm2c0Svs2reWfXxgvPTq1LbXLxLQlFJobk7hSg5BArkUrCqmEXPo4MozikXfAEF76x5gIZ8cRqdu/tAQ4rn36CCmGEGN9Yq4okF9rdbKWYkixjxcp9YckwOBGeyHCuzG2kKmJ3dBZEDZ3g4MMhvmNI8VFNOmhw66FXCv2HiGcI6TSPmfz3rtZPpdE9KuleubetPcr9zLym7/97W/yk5/8xDw7fNy3d911l1x66aVGV2z9TdIQYMjvV77yFfnOd75jNNW/+c1v5M477zTJTSDDRYsSYCXARddQrs8rAc4FW6YP8VKDmPHA4WWGZclmRIuLupCpcs8X09d7773XPOToMxYNHsS8RDZsb5ATbpgsG7dsky+eNlQ+Pm6w59Z3rQ49K3GSq1nHwZOXK189evQwCUV8OhLxwpo4caIhXpDIrMVG9cDyUi3sWhEC7PYJCzgvfhwHo5ZiiBZWRlc6wZjyhvEKSWpCJvgAz5ASAeQRON2x6YyS2qh8wlr9o5Zi19EuaY3aqBPc49wzIUpZetxqfcewAKnkeRuq5LknrNTJlchceeWVZhOGRpv5+o//+A/zTOYrr5wLDHjO2FOhiy++2ESsSCLAPDfoxyc+8Qm57rrrDJT0GeJLls5bb721MLxKgJUAF15EeSpQApwHtfSf4XgTCyovLiIlRCMQ8Hc8snF0qOTYlL614lfyYMMCjLUBosQRmRuc/8t3PC9/nblIBvXqKPd+7jhp3bpV8UYr1ICeFY20G5PYXuqmheZv9JOHtA8ridsdXhj33XefyayWNWsg1liOYTltYANRLeyaTwLMC42Us9FiPdotieK7zYLmOtlZ56wkLPO87PMultAEOGRqYk4vOJJG657m1MIlxW70ibSkmLWGrp3wYHk2dXnmED0+pyA+rIVp2w+d7pl+sdFlQ1N0nNyr06dPl9/+9rdGj47B5OmnnzZ1ExcYIwXPvCIlLQHmtIDESPTHdXj91re+JTfccIM5cUp6ViT1UwmwEuCkNVLK/+uRAPMCQdtZZuGlhsUXvRTEhyP5uMxAaMKwNpUZZivNOMGEvnLUxouK9MU8YKMPtmcXrpLzfj3VVPnrD4+SE4bunab6XNdgzcRCQUxit/DAhVjy8mdDQdSMsjYP1iLOkWHaLF3MPZseCDwvKyxQSTGEXVlOkZcJGmOs5nEEODoJ0dTAbmxbe+TuEuMoOWvpBJj4qyFCT/lInmBJcTTNsyXFbvQJrKIQbl/petPc3DxXOK0B01CF1MtYS3mWhSo2zrgv3fFXv/pVc7p19913G/zAkXGdd955hZ1y0xLgn//85/LZz37WOPW577A///nPcv755wvOyhD0IkUJsBLgIusn92eVAOeGLvaDWNTwVicGJceLkMhqlkPrdOYzykDWEblWagglOjYe4JVCQL3/11PlmYWr5MSD9pZfXTgqa3Opr6dfvKhtUg6wsuHXCBuGjtZHutGkDmFtIUZrUsQLyAYvK+Y/qxzDlwUYAszRbxrddNy4q1kXOZ53CTFtQbiKxFlNwt7+P3QYrZBOYhx9P/nkk2bT4nMjx1xCWqLRJ2wSIDZ0rFOrOy2iKU6aRzasFCRKoUrobHeMy7fu+LLLLjPGmj/+8Y/eYUtLgK+55hr59re/bQwjbuGkkNM5LNNIIYoUJcBKgIusn9yfVQKcG7pdPuiGtsLax5F37969E4+GfDlZ5RkFDzSs1JALrNQQSvSgHP+S1ILQbHHlzplvyBfveEFatRKZePk4GdizY57mEz9j5SFogAmjhI4Q6xUv0bTW2MRGUlyABpijv0raOzfLHD/nkWP4IsBoyn0G4gceS6Rc6QTOWVZPCC55E3ekgN9cEpoAIxHgpZ606Unb/2rX+c4eVq0t5pKNJfIANpE2PBukGALsZjuz0Sd8jBFZDicIPGNClTTJTHz3xbfu+GMf+5gJjfeLX/zCd1clCwG++uqrzVpxC8/F0047zWy4i0o+lAArAfa+wNNUWI8EGFywJvoolvxwNIX1N2vorTxH7EX77VoqeclB2FxnGJwvOLrnK65s3LxVTvjBZFmxbrNcMHaAfPPMYlq0SuOxSTkgvb7TLGfBEEvHyJEjzYsoWugj1i2soVmzzLl1NWcCHIcV/cUaz7jZjGBlzJO4I+08hCbAIaMkIOnhWBsZVBH5S1oso053UUsxhJy59EmKfRPDNGMNGcnD9se37hipAxsxQo75LmkJsJVAsG7cOPUqgfA9I7vXV56HTfl93yNaqFcCzLESD/4ixYYIw6JiHdyStJ5x7SVZGIv00f1s1HEMKzUyh+hLF8sJf6+We/6H978iv3zkdVP9JeMGyxWnHuj15Y0ukuNECBZhzbAc5cHWB3bEAUa76GbNgpBjkUbqggWUTYSNm5ynTV8EmLWIswpOK2WXaKpZxgBxci3FSYk70vbRja+a9jNFroMAY/UPESWhDKt9tbGn0RynJcXW8p/kvMepBNcisQpVQjoy2jHhs8BzgmeWj3LGGWcIX1//+td9VLdLHWkJsDrBeYc+dYVKgFNDle9CJcDZcWMnjPULqxTHiDi4ZU2x67YKwaqmuc3ew90/wUsWBw0ICi8hCHslvSHaOZx/kEFUKus3bZVLb3tGJr+yzFxy7hH7ylVnHSJtGloX6i7EEk9qkoRgWYQAo40MofWt1HFeAMgu2BTYTQQWf/CD+CJ1KVp8EeCQ1sQoAY7DIClxh6sprpa4IzQB5p4kmUjWyB951kFR3XbWNvNqjqNSGKstZu268ok4UsymDDkJz51QJaQV344JnwVOzpCU+SiExrvkkkvk8ssv91FdLgJsw6B96lOfku9+97umDu5rLNNIHzQMmvepaapQCXB52JqalQCnBxhyZh3c4qQD6Wva9cokzW3eevkcZB2yRoSHtOmWOY5FC5ik19tEPOA7npcJzy02XTzlkH3kB+cdLu3bNmTuMi9XSA6aZILXW1mGzyxsmTu18wPoQcGCOL5u9Ilqm4isbfmKAtHcCLDFwZCnTVtlzcat0rhuo7y1YrUsaVwty1etk+Wr18nqDZtlw7bWsrVVW9nauq1skgZp37atdOnYTjq0aS1bNq6TjevWyAGDB0r7tq1NMpaObRvM9w5tG8w1HZy/d2nfID07tc11KmHj5IYiwEQ7qRS6Lus6SnO9T81xEim2ZJgwdkmnSmn6nvaaWoR6o2+ELPOVQRBskV594xvfELTAPgpOkRMmTDBV/exnPzOnWD/4wQ/M7xgakHnhc4EBAkOELTYRxrXXXmucXv/rv/5L/vrXv2oiDB+TUqUOJcAlA1yvBBi9Lg/JNIXrcMLigQA5gwz5jDnLQ5Mjs0qa2zR9jF7jknWsWEnRKNzPo2ND65XGY3vrtu1y9YRZ8j9PLjBVHLVfT/nFBSOlS4c2qbuNdRpiydEsLw/CFhGsvZYOgm7niQiABRpLnU0K4tsi7YsA+yQ3SRNoLcCHjxgl81esl9eXrZfXl/N9ncxv3CCrNmyRNXxt2iprN26RbcUUR0nd2e3/nds1mHjVg3t1lEE9d37v1VH269WxahbD0OSJeNEvvPBCppTfmcFwPmBlMmVpjiFu3Mtu9AmbndCNJGId7pLkE3nGyrMDw0LIUG/006fsAhw5rfvVr34l5557bh4YdvsM92wlaRsWc6LH8MV1fNlCX2wqZBIkYfklKQZryEdRJ7h4FJUA+1hdVepQAlwZHG56YrliQUUzjCQAkmoz6fiamilTppidtw99nLWkItGgn+h8s5J1HFY43k8bs5M2b3zoVbnxodcMJMP6dZXffPgI2atLu6oQuemBsU6zsXBDMRVJQuFjbhgXGx+0yPSLI7+y4sL6IsD2eJuXmM91ChaLV28y5HauIbnr5cWFy2Teio2ybMP23OQWCy7W2q7t20jn9g3SpX0b83vn9m1k85Ytsmb9Jlm3YbOs2bBRNmzeJpu2iWze1kq2bm9lfja/b83OrLt1aLODGEOQe+78Djneq6N0bNNK2PQQ+s5nVsFKa9I+Y0iEEaKEllwwJpL9IAvgPnKJMeuezXY0+kRRvb+bXtr3ZrXSHHGPcFo0atQoL1FqqI/3AjGAibbQkosSYCXANVnfSoDjYceShmYW6yQWSchv0YdypQnGcQIrLVriIoUXG33G+kJ/6XeeuKIQPqvxytKfP0yZL9+eMMt8ZL+9OslvP3KE9O+xe4g06sa6gJyEFx+W5kpay3/84x8mb33IsGf0HysZVjmODMGQzUmZAfV9E+AiMWUb122Wp+atlJcWr9lJdneQ3vWbq5+YkBSwf48Osl+vToZc9urctonQWmIb/d42pWacjQgSGY6EIVDcn9bZbtPmLSINbaR9p67SrmNnaduxs2xp3UEWrdksc5etl7kr1su85etTj2Fk/64yoHWjfPD4w2X4oL1zySiy3DdY1DhdQu8ZooS2ODOmOGkAa96NU2yjT/ggxVmz6/nAneeaz40T8jWMF+iKeQa25KIEWAlwTdZ3vRJgjshsQHgXeDc2LsfdWCWLOLilmdQskoO4+njYY6XmRUpGHoh0kaD2yBHAwU17mWYcXHP3M2/Kl+54XrZs2y59urWXmy46Qob27mI+7sbL5SWHdRonwmqhn0hDjBazLMtrdFxYjtAhQ7asVRpNNNarMh14wMZmJywSCgsnR5wYsxDgNRu3yPR5K2XK3EaZ+nqjzFq8VqrZVCG2yAj2brdNerTZKOOGDzUbnoE9O0haQpt2PdnryDaFjh2rrFvcxB2WGPPdDeHlxiheuXG7IcRRYjx/xQbZuGV3gt+/e3s5fuhecsKBvWTM4B5Gc+y7MC42g8cdd5zvqmPrw+LMRnn8+PFB2qMRsl2y0a0US9t2JC0ptnNaySiR19GvCCDcv4ReO+aYY7y8M5gnDBlsxNPI0Yr0vdafVQKsBLgma1AJ8A7YIcRk8eILqySa2VBWR1LXQnoOP/zwTGvADcWFhzV99nFkCwHkBQLxzFMenr1ULrvtGXNk3b1jG/n1hUfIAT1aG52vGzIOPXVSmTRpktGb+Yi0UK0tXrxkwMMSx4aHqBw2BBYWGCwx1cLCJY0j6f++CTCZBSvhu37zVpm5YJUhu3w9v2i1RFUEWHMP2Kd/+tyQAAAgAElEQVSzDNkLzWwnIw2A9A7eq5MgH6DgKIM1Me86ScLE/X8lAhxXRzXHLI7b3cgT3C/gtG37dlmyeqPMXLBaHn55qTw4a4ms3bKrAq9j29Zy7JCecsLQXjL+gF6yT9f2WYZQ8VocxDgROfbYY73Ul1RJaIsz/SmSWMSSYjfNs03E4sonXFIc0hnU4h2Nr5w0D0n/Z1OEnILTj0pJiZLq2FP+rwRYCXBN1mq9E2Aerlj70Mxy1I3FNy42bpmTww4fpzyOd9MUq02lzzZiAlqxIpZDt108g/FMx4Ekb5k+r1E++ceZxhGqfUMr+fhBW+SEg3sbq28Wi7obgixvX5I+x1gh51h/mX+s6C6WaLSxXFULC5fURtL/fRHguBivm7duk2cWrjZkFysvaazjdLMH9e4sR+3XQ44e3EOOHNRduiY4MjZXAhyHdZRE2eN2cGc9QoQtgeL05NHHHpeugw+XKfPXysOvLJeXl6zdrdph/brIhWP7y5mHJ2d8rDb/oUO8hSbcNqoG0QN8xVVOIsUQY0gwz1Tmtiz5mjuv9vSl2uYz6Tng/p/YydSFMYIINC25KAFWAlyT9V2vBJgjUl4ESAc47reaWZ+OQ2knlD7w8ExjSYOscXyJtYGICWU45WGNApsiFileUI88M0eu+NtcWblJpE3rVvL9c4fJuw/vmxYWc50NQeYrrqbbuBsiDhzBM84j/cknnzSnAfy/rOKbAB997Dh55LVVctczb8pTc1fKhpjjfay6kF1I75hB3aVX5+pOi9GxhyTAWOeXLFkiY8aM8TYFNnGHK51gA2ET5LCpZN4hxqu3tpFHX200ZHjK6427yCVG9u8mXz7tABm2b9dcfcPCR0zxIhvOLA2HJtyhomrQjo0+wVrBf4ONrNUUu1KYMkixb6szESXe9773mY15Hl+OLGui1tcqAVYCXJM1WK8EmOMlYm9CfCC/ZYTiSTuhaSyuPNghyujCCJlWiaylbbPadZANvvJ6pbsW1c59BsvX718s81asl1atRL7x7kPkQ0cNSN1NtINID7DK+iq8EJG6sAZ4KaKv43ul4stJsVr/fRHgFxYsk1/e96zMaGwnjeu37NLkvt3by9H79ZCxkN7BPYxGu0jZ0wlw3NjZGONMiiwJAsx9h8YeIoUVDuLUrlMXeblR5M7nV8ijr64w1SCW+JeRfeSyE4fI3gnRT6LtZpF3FJkv+9nQhNuGJMORq0i2xCxjR1fNc5VNvBuSDcs/v/MMIDqEG32iKCn2Hc+ZeL0kn6DeWhhmsuBd9FolwEqAi66hXJ+vVwLMrpoHYagHcrXJweKKBSjOCQZpBA9yyAaOYOh8yz4Ow0JEmxy/ZSnWGQ/ri0vSl67ZKJf8foa89OYaU92Hjxognz1x/1QWR98xkukbFnSIThonPPpLFivWCdeXVSAJvLRtRq0sLzw0vRNfXCp/mblIps9ftUsXIbzvOmwfOXpIDxkQE5GjyHjYJLEhS3NyUaQdPluGBbhSnzgRImwXURmYD+bGhu6yOlROD5ijOes7ym0vb5FFa7aa6gjh9unxg+WCMfumdggMObbQWNJeLUKS8TwFVxzSosW1FFvrPydwbEKLkGKeLfhP5DUcRPt52223yVVXXWWe/b7kbUXvw7I+rwRYCXBZa6tqvfVKgN2wUzUB3mkUiwwWSdcr2ybfQOeLdRrii0UqRIGIoYlNG+TcTbqBxg+LatQZb/WGLfLp/5kpT85tNEMg5uslxw2Wi48dZGK+ViqPP/64iRRRNAIDmx2IL05b1IXVP40THv0iSgcvRuagjAKJtBpkiLm1NmKVtse2EPDoS5ANxe0zF8mE55bI6o07CBilW9vtcu7o/nLe6P4mzm1ZJSRxC2ltTuPMxMbUkqfljavkzhdXyoTXt8nGbTsc5/p3bZDPjesn7zy0r1k71QhMmpTSPucwdHtp8PQ5PurKalV3SbHd5ERJsSuhiHt2+NZWk23tpptuMieVLb0oAVYCXJM1rgS4JrDv0qjVIpO8gGID42M5QeqANTWLRbDoiGj/6aefllNOOaVqVVhMbN/TJN3YsHmr/OKfr8ktj89riim7V+d28unj95MPjBkg7WJCTBVNEmLJORsMImVAzrNa0HFGYRNCZAifBWIAKcdyRIxh5DhgyovXxrnlu9UAmogFHbvIk0u2y72zV8uLi9c1dYeoDe84oJecddhe0rD4RTl+/A7rZZmlpRLgvDFkFy5fIz+YNEfue3llE+yfPGSrjNinYRcnO4gUc2NJMWuT6Ch5wg7mmV+kP+hVQ7UX55iZp99ZPuOD5FtSHI0+4VqKXVKM4cCnlpsUxcRBxwjQ0osSYCXANVnj9UqAXc1lTYB3GoUAkX2N4zp0vlgpa6lNRnOG7vX000+vCA0vUKyWWMFIEoFVNa2jxlurNxoifNtTC028YGMx69FBLj/pADlzeF9pgM3tLHkd0EzmssWLDcGkQHwJpZbnKDFrZryk9WQ1yMhMSAACsYaU2/Tc0c0O8UWXrVgpf3hyofzpuVWy4W1jr+zVsZWcdmBX+ZcRfeTAffcyBBrZCHIaPOHLLC2VABclbE8vXCVfv3uWvLZsvQzq2V5+c84QWb92dZPFmE0ZUQkseYJwM8dESQhRWHdsstJGnSnap1rE5IXkQ1wJI+azVCPFNtIEm1mrLU57yhTXx29961tGi37vvff6HEKzrEsJsBLgmixMJcA1gX2XRiFqHLNDzgi3hdY0q5XS5yiwRhH7lvSbUTLmJopAmkBf8xKtecvXyU8efFXuefZN2b4z88JBfbrI508+QE48aEcGLpJQ8DIhPFnawgvXxhzGgQ6Cnpacx7XBESTEknjERYvNwhXVIFN/JQL82Ksr5Nr7XjHphylE1Dj+gB5y6gGdZWjXrbJ2zQ5yZZM/MEdsoNCM2zi3Rfsd9/mQBBiLHhuzEHpjS4CLhLN6/o3VcsHNM0xCkc+fNEQ+duxAAyHzjMbYWhX5zmaSv1v9txunuIzwXciq6IOP9ZxmXfmOjpCmzZBjtNFEIN2sHU6LrHzChthzne3SkuIrrrjCnAb+5S9/STPkPfoaJcBKgGuygJUA1wR206hNvsDDGvLCyz2UzrfaqCFTWBGRQNiHNX1Fh0miCPSoWFR9JQp56c3V8sNJc+Shl5c2dWv0oO7yhVOGSsPy11LrbyGQ9A9ihrU3a8zhSpjkTQ3t1gfhwBrNZseGXHPJTRwBfnPVBrlu4qsy8aW3cTm7QqQBPs/Ll9BPrCfmCMsif+dnG+cWcsXmyoekJjQBJjpDCCupr3iu37hnltzx9GLp3K5B7vn02IrRIXCcYu7YULrH7dHwXZYYpyVQldYzp0xYoYcNGxbk4ce8cYpiJV4hGuVeAz/fsqVqfWceseST0MgNsWe14jbEXlpSTAQIyPTNN9/sBTL6d9lll5msfDwTLrjgAvnud79rnq/VCvNGiudowcjgyy9CCbASYC+LPGsl9UqAwQlLWS0KpMTqfHlgQog4ljzppJNqGo7NYgFxIgYlTnBYpWzkBF6aWGLJSpRHSpCE9VNzV8j1E1+RGfPf1lCO7ttOLhrZXd59XOUkIeCJ9o4XO+QAcu5zI0GiEuYpz3Gqu3GAhPJCjgu55hJgQvb+95QF8utH39ZKH9q3i3z1jAOFmLPVipuOFct8VE/shvRKcrJLmq+WSoB9HdkvXbNJzvrlk7Jm41Z534g+cvVZ8VFEXOJkMc+SuIN1leWEA+LCegtFDu2pR9aoMknrr9r/2bTyLCgzckscIeRvldIWV4s77ZJiovBQx2c/+1kTAvLHP/5xESjMZznVg5gjz/j6179unumf//zn5YwzzpA//OEPiQSYZ//111+/y3U8D/Oe/kUbVAKsBLjwIs9TQT0TYMiCDXqfB7s8n+HlinUCqwgPI6IRYP0l4cMJJ5yQuBvP02bWz2CtpD8kHbBHz7avZRzJuv0zWaNeXio/vP+VpuxbKILPHNFXLn/n/jKwV6ddhsPxKgQVoofDIP30Yd10G7GJR7I6DXFkb7P88SImmUeljYMlwI+8sky+N/FVmbt8h9yBtMOXn7ifnHtEv1200ZXmFCs4Fp5KMVdtSK9KTnYuKeblVm2jg6c9Fm2fySkqjQtHMazbISzAYIMGHstX0bV0yxML5PpJr5ph3f6vo+XgPrtn9Eprka1GoLDoudKJalZ+1iTj8mW9S3q++A4PltQe/0c7y/odOnRomsu9XINUCoNBljZ59ts4xfaePOecc8zzjPTrSOIuueQSczrI8yevNO573/teU0g16qT8z//8j1x44YXmGVWJtHMd9wHt3nPPPV5wiqtECbAS4NIWV7WKlQDvFJ+WjD5km6NpQp5xPI8l1cYghpTcf//9Ju5oNHxYyd2KrZ7oBBx51VKTvHXbdqMNvv7el2TJ2h1eX20bWsn5R/aXTx8/RLq3b2ViboJnUS1yEsZZMvVRFxsIPkOEDKz7vBCTNg6LGtfLtye8JJNmLTPdgfSfMwrSP0R6dmqb1MWm/ycR4LiKWJv25WuPa6nHddSyxNhNGBOaAIeKlOBTs4oW+IM3zzCw33ThCJN1L1qKWGQhUNbKb+cumrjDDaUH8YWoMY9ZdPWpF2DMhdwHbGDi4pwXqbfaZ4ncwrjR/4cqvtpkPtmAEQOYwr3InLEBgow+8MADmYeEcYUQlXfddVfTZzkBxQn3mmuukS984QsV61QCnBlubx942x3cW5VakYuAEuByCbA9AkfiYGPJ4pwUmQPj6UsUCB5StSpYITl+s0eyWIiKxt8tOpZnnntB/jarUe6es0WWrd1kquvQppWc2G+7nHlgBzlyxGEmvFmZhY0LpCjJ0ulqurGYcMTMCyapvLZ0rXz0d9Nl8eodkpxh/brIV08/UIYnyB3i6rVZt0irm9daFOeoZZ3ssKpZPTFEH1xCpPANGSrMJwG+asJs+fOMRUIWvgmfOSrWiu/bIlstcQdrgg0PR+5szPhehpzJXZuhUy/TNs6zWDo5EQpVfLbJPch9dfnll8unP/1pwSiBjhrp3Jlnnpl5SBhdPv7xjxvNr1vQgZMtj5jDlQoEmLHxfGPDxenSt7/97cyJkqp1Wi3A8egoAc681LN9oJ4JsPW6z4ZYuqt5gHH0Z483k7Sz9913nznmipLjdK0Vv4rjZSxRWI+QZdBvHsBlk8uknlvr6yGHj5RfPviy/PfUN5rCgHXv2EY+ftxgee+IfrJvj/JCfuFYBz5jx46t2F0kLRAZrCrIHdLqpOe8tVY+ess0eWv1JunQprX85ylD5Lwj9k0ld4jrDC8orPdFCHBcvdbJzloZrbMW15blZOf2I2TsWizNZP9Dk1+krN24RU76yRRZt2mrfO6E/eQT7xgUW10IvaqbuINTE9YJX2iH3QgFWE2TEndkxSRrUoqs9cddT/jEvn37mhjqocrUqVONzMlH2nbuN2QJ1113nZEpFC2c5kBav/SlL+1SFVnrIMd//etfKzZx5ZVXmo0EGyZ8LdACEyee5wzk2UdRAqwE2Mc6ylyHEuBtmTFL+gDkAN0oL1KrnU3y3OZYi904uq+QxT2u58HNQw4d28SJE43Tl09nsjzjgnyipeWlzMO32z77yoOL28qt0xbJJrzFdpYjBnaXM4b1kTMO6y19u/slw5AvLC9YPqIFwgtJp2+8bMHPlQlUG/PsJWuM5RfLdqe2DXLjB4bJkQO7FdKdWgIMWS9bTkNUEI63WTdWQuHTyS5KgMuI6xo3P2x2OM5Omwmx0hz/efoiuervs03YuvsuPUr26RqfmCS0JIGQi5w0sUlzo07wM9ZhnlXWym/JcZIevNo6D5nFz/aDMI7IjyCkoQoJKzgxQ5JVtECAua/++Mc/yllnnVW0OiNnuvrqq+WLX/ziLnUhu2OjkCXUGppl3lWccE2YMKFw36hACbASYC8LKWslSoD9EWDIkNX58lDB6ssRY5rCbhryFOqBDVHCwQ1yx0sOa4N7XF8rQu5ixZEblji8yG3CCNvHNxo3yC//+Zrc89ybstZJA8znjxzUQ941rLecPqyP9K5AOtLMib2G43ecvZCo2ELfsGwx38wxL4Q0cgf7eUK/XXzLdFmxbrN0atcgv7lwlIzYt7M5ZizieMXncWAMQYDjLHtRJzssxmyyrKUxi5NdrQiwj7Bd27Zvlw/+doa8+OYaOfWQveUH51bOIsjRNmsIJ84QpdJRvU0OFNWDRxN3WHKcNtNgSPmKxY8wjuAZ0qCA86mvlPU8nzl94172ET2jiAQibk0SoeL22283z0UfRQmwEmAf6yhzHfVMgHmw86ApWqgDKwc6X46DeQhmlQ5MnjzZWCz4KrPYDGlYLSFLHNdjsYjqAHnwQuBDEfLomCG9SDIgT1hUeQnEaRU3bt4qj8xZJn9/bok8MOstc9xsS6tWImMH9zCW4dMP6y17d8mXGpiNAhZe68SDhRC5A31j04LlN4uO8oVFq+Rjt8yQxvWbpUv7Bvmvi46QUQO6V0yEkWU9WAKMXjku3FqWupKuTXu0ndfJzm0/ZPYyThywyuI4lKcsWrlBvn7PyzLl9Ubz8V9dMFyO279nxao4Tkabi/QoRMkiD7B68Kj0hWce96UbeQJiHHf6wSkOJwMjRowIMTzTBmSUTb2NeBCiYZ6ZjDHrsz+ub+jQea5gAMgafSauviJOcHH1feYznzFWYyXA5a4s1QCXiy9hwMr1Aiu5/0WqL0qAo2TSEsYsZMj2nyM7rBXEfSyrRDOk0VYlaQYvEI7zQmroGDcvSsg5+mk2Axy9Qj45qksqGyDDryyTCc8tlgdnvSXrN79t3Se78tj9esq7h/WR0w7rLb06t0uqrun/xLuF7GFVpW849XA8yXynlTvYyp5duEo+/t/TZdWGLSbE2U0XHSEjBnQ34fgqZYJL3dGdmcYefPBBoyfPYpHO0oa9Ni0Bjtad1snOTfwQmgCjy81qeWNc//fsYvnufXNM7F/KmYf3lmvee7C0ZjdWofiKHpB2DotqVRknTlluNjueLTZxhyufYA45ZbIJItL2seh1Pslomr6Y8I0e7zt02kgM2Dz42BgRBg0NMIYa62dy6623mmQYSWHQouNHAkHfyCToKzSaWoDjV5kS4DR3X4Fr6pkAY8WABOcp7NDR+fIdIlmNTKapH6sMurwsMSTT1Ms1vHx4kEJY0mZIe+yxx4xGMJQXNXPBUSkvS3DAesOLlBcBfx8/fnza4Zrr1m/aKg/PXmrIMN83OGS4oXUrORoyfHgfOeXQfaRnp+pk2EodeMlByHn458mCt3ztJjnjp4/JyvVbBAe+mz8yWobtuyOxxZ5IgJkbNMDVnAPTTlqck51NJ2vDBVIX68JXJrtKfcuTuAEd97cmzJYHX94Rxq5rhzbyldMPkPcM6514OmA1uWVuft2xlqGPtYk7rKWY73wxr8hf0KCyabSbmiyJO9KuIXudbzKapn0f0Vfcdni34MiK74EPK7ZNhIFRw02Ecfrpp++SCIOYw7fcckvTexFDCE5vZ599tnkXYIy44YYbhA0i//MVAUYJsBLgNPeZ92uUAGcjwBx7o/vECoh0ACtgUirJNJPGS9CGSUtzfZprrE4V8oteD/KQNsrElClTjANc2XE0bbQMHvj8jCQD/bS1ovPABe+8x9HghDf+22R42S7OczgoHbN/rx1k+JB9pHvHXWPussHBQofFC/ywSuex8NOPHz8wR37+8GvSsW1r+d9Lxsqh/bo2TaMvAkyF6LdJGFF2SD0IMPPj6yUYXdM28QOWRu437j02SuAPCbZ6Yr77DOcF6WA9pt103f/SUuPshp6bgtzhW+85SPp2Sye58Rk+K81zgc0t9zX3WZmF+cNaaCPhoG236YDdyCFsdJlPX6TYNxlNgxH+H+iOiYrg432AlZ5U9Kz5tFrrpH4S3vJzn/ucILfjfsH6i2XY7e/FF19sCLA9GObdcemll5qoD0iDmDekYESG8HnfKwFWApy0fkv5vxLgdATYdRrjYY3ON48VsNIk4gjDCwBnKh+FhxUaWh7MWJWxvmRxrirTIm3Hh4UPokFfsX7xUo5KMt58800zjqIe+U1tbtwiD85aKn9/frH8c/ZS2bz1bQUQiTaO20mGx+/fQxbNe9VYoJlnpBlF+rBmwxZ55w8nG+nDxccOki+fcdAu08wLx0pyssxT3FrhKJYIHj7XZ1w7ZRNgt02rI8X6HtWj+nCyc9tKm7mMufzufa/I3c8uMR9nY/OFk/eX80fvrqmvdk+T9ICTmbL1/7YPECA27rQZorhZ2WziDtdSDClmUxPNZsfvee4FNx14WifkojgwBowGbJqSkt6kaWvSpEkm/Bk45cEgTRvN6RolwEqAa7Ie65kAY6FAd1mtQEw45mX3TOHFEec0VnTyOFKCAI0cObJQVa6GFv0untBZdap0AOcLXkBYZH0XxommE+cyjvfYTLjH3FEywgv05JNP9t0NWb1hi0ya9Zb847nFMnnOsl3IcJtWIsP2ai1njhooB+3dVtYuelVOLhAX9r8mvy7fn/iKyWY36d/HSZ9uu4ZqUwJcfXqrOVL5cLKLrjlOHeJ051u2bZcpr62QCS+8JQ/MWtqk9T1iQDe5+qyDZVCvjpnXaRantMyVx3zAZ7SCNP1JcvLjeRDNZseJC8QPY4OrKeY5kXQCw2cJScb8+bKeJo3TZ/ps2rrzzjvliiuuMO+epPEm9W1P+L8SYCXANVmnSoArE2B0U1go2YVbna+vY7roZHNMiBWBo+s8hZcI+llIJZY/SGWROLC8tLBkYHHzVexmgrGCI31MskKhx0Qecuqpp/rqRmw9K9dvlntmzJM7p82T55ZtkW3bd3U/6NAgMmpQT5OdbUT/7jKifzfp0+3/s3ceYHpUZft/tmbTNj2BNEJogpBGaKEHiCAIggJiEKTIH0FRkA9UFESkfBSVroI0AWmCgkDoCgp8lFACgVASAum9bfpu/tfvbJ7N2cnMO+3MvIHMua69dpN33pkz55yZc5/73M/9tIk0OeFUMfL3/5U5S1aaVM4XHbqtbx1YjMGQpWV88goAKgcDHMVJIEmQnd0h7DqwQFMAjKXZm1MWyWPvzpKn3psj89ZKHfgOC5of7D1Ajt+lb+LkJWmD0uI+GFgubr/99pHlUHHP7z0+icZZE3fYTLEy/Sp/UWDsTdwBmKZNCWIM819Pe2/6fVfe0Xq+O+64Q373u98Z+VcBgF310ufvPEUQXMZ9VgDg9QEwDAKML6tvbMBgfQl+yrJEyTbmd30bVAKcFFSmfWliA8W5ifR1UZjIiDZGU0tUM8EYURYTeLLCkBGskVVhsmWiwe0Bdr9Xv4HywqRFMubdmfLapwtaBdDZdejRobYFEAOM+fFqiDn+7lemyIWPvi84UYz54QjZrJu/N7QrAAzAod9c2DGVavM8ATD9AwBKOh7DguwUTKEnBkAReNll4CB5fPxsGTN+tsxY1JymWsu2vTrIQV/uYfymo2p9g9oyi6C0Uv2Wl0RG6+BK4wzTbwNib+IO7UPefewakcI37WIy6jsnSeBkqXPfcMMNgksDi4eNoRQMsH8vFwA449G/MQNgNX7XJoZFZeLjh4nQmxwiy66AuQVwx0ktCZhEH8ukgH42KqiMch+AVSYctKRpioJLnBSweUNSESdIBBYegDBq1Cjnkxn9T3AVix1kIn5Bgqsbm+TVD6bKk6+9L6s79ZW3py6UD2c1SGOTv3vgZl3byg5rGWIA8da9OshhN/6fTJm/TA7evpf89sjgBYVLAJwHw/d5AsB+Y9gOstPkD5PmLpWxcypl7JwKmbW89fQzoGvbFtC7ecAiJsmz4jKDWNj1y+GQwAKWhaWLFMHe+yPGwWvHprI2FoC2T3GWcgjvrkFYP4R9TnAaUhUWsxtDKQBwAYDLMs4LALzSMJ1EswOEYA+8TgR5dAwAEY9GcrOHFV761BXwlhVDnVaSQZsCkKhnXAcK+/4B90RXExHtcjuTSROQz/nRSWPxE8QWeVloLNbGz1gsePqOm7pQ3p66SD6dtyys2+Rbw/vIMTv1lS17tJfqqsr1jncFgJ9//nkTTBnV8SO04gEHfN4BMLeFQ8gHsxpk7GeLZMz4WfL+zIZWd9uljcjQbk2yU88K2XaTDsZbWUFVmvTA9kXycmXgmnkmStF7zJPhtmM2ANzKGMdJ3JHkeeBdzPPgly49yfnOO+88I2lz5bObpA55fqcAwAUAznO8tVxrYwfAZLKBRUV/65pFjdOhCsDZtgsqTF6AZOQSBIPAWGYV6Z9UkkHdYW0BlwTkAS6Jbk+6Fcl2NFHrI0eOTBTM521LQCb3htwBRhrJSJi8BX0fEd7IMIKkJfOXrpR3pi2Wt6cslHHTAMaLjObXr+AWgP/vDr3rZVBfpBOdpG1js10UfWzbeyWJhAcAo9124R9aagwz6fPj0g4p6HospNIkUzALsgXLDdj9YGaDTJi1RCbMbDD/5y2d6iplWHeR747cQYb0rZfVq1YZltFmGhlHaORthpG/kwSc5unKUA6LsDwBPn3JO51nXDXccRJ3IKNI4uLA+wT3EDIwuihnnHGGcfC5++67XZxugz9HAYALAFyWQboxA2AmsSeffNL4YWIVluUWWVjn8vIMcjvgBa7epExgaJJJUpFW51uqTshAmEh23XXXsKq3fO5lpmHS07Ypemy2AVkYhAHVUhVVZoigRia4OGlSkZqwTR1HhmGut3CFPDB2qlz/70mhbdi+eo1s1rlWenaolY41jdK+YqW0r1glXdtUSJ9u7aVv907SeS37GMY85hXl75r1KtVIcQAw6bA/mt1gAC5AF8AL8G2w0mR7r9WlXY3stWVX+eqXe0jfmqUyfdrUQDYvLMjOmx44bOcir/7insthEZYnwOceIRMApKXeXV5NOEwxi20WoEi07D4k6C6sD3lfsvB3kbaYezjxxBONhv+Pf/xj6KsmpYwAACAASURBVLvji3BAAYALAFyWcbwxA2AanJdekhW/687CCxc/UG+wl+2Vi8aXALKwl7GLusE0A3AwPQ8rTBpMOLAu+G66ZKYB1QTtENGd1NNTA/Bg8DQALw4jzfdgsXCiiBK4Z7fXx7Mb5KvXvWT+64kzRgiaYiQTSCdemzRHPp67Qiwr4sCmrqoQ6VTLzxrpWlchvTrWSu/O7aRf944yoGcn6dOlvXTvUGucCPICVOUGwICYmYtXNANdC+xOnrdMgvK7E4g4oFs72aZne9m6V3vZpmcH2aZXeyGgUReUSaQdcYLsvJns8mLsGVyuEzaEvRv4PM/743pJ+o/vaeIOm+mPmrijlE1flDbyHnPUUUcZp44rrrgiydc/d98pAHABgMsyaDd2AAwjollvytIBay/qZRntrfowr9ws6h01BbGdcANmGt2dS2aadsAUHm00wCFOgS1nYgLMY7eG3CFOAJ5eS2UYeBHHXSxNnrtURl3zojnVYz/YTbbo0d5speP7zOS62eZbyNLaLkY+MXleg0xfsExmLVklMxetkFmLo4FjrSfgrmvbKulY1Sh9u3WQzXp2Mg4FvTq2kU3qa81vQHKNj/44TrvqsS4BMFZj+DKTJnrBslUtv0k2sWDpKpk8fbYsXNEoFbXtWz4n81opVpd0xFv3BOS2NyAXsLtFj3ZSV1NV8nbR4xPUlDbFs1+QHbIgbyY7pC+AnawlK9x0OTxyseXD3zwruZa3M3necWXYcccdkwzrVt9BO8xzaktg/BJ3ECfAotpVIqODDjrIkCGkLd4YSgGACwBclnFeAOANAwDbWlekB9g+AbYAbaQkzrvgSMHEHKRJxpIKOQFAAY1v0oQbYffFBPTUU08ZJpptySiFBQ31on4wtjDSadqQCQ9WNYkOeeqCZTLyd/811X7olOFSsWh6oP4YwA7gV5YZp4l5DSuNBdfMxSsN2wkwnrH2t/m/RSuE5AxRC74GgODu7WultrpSqqsqhHTQ/OBpW13Z/H/Nf6/7t/l77f8BoGsqK6RhyWJZsmiBbLH55uvOY75b2Xy+ygoD9pasANQCbpuB7cLlq2TB0ubf5t/LVpkMeTFuo9Xtck8koDBg12J1Af9JFmOu9Zx2Zeljv0x2gCdb+40WNUzqErXP7eNcZywLq0M5XCcIHgOwpnWwCbo3b+IO+pOFDcUrf4mSuMPvOiz4TzjhBPnxj38c1sRfiM8LAFwA4LIM5I0dAAM4YGrKXVTrCssJuEwbPJb2foI0ybQVejcmGSZpgq2iAtMkdWICfeKJJ4yer3PnzqGnYCFBAB56vDh+w6VOzOTGNm4SHTIAda+rXjCnP2dopWzVtTowQM0LgENvlm3bNYDkVS3gGFD8+viPZEVVO5m7rNGwyfOWNcmq8g/xKLfT6pgObaqkU1218VaublopHWpE+m3STTq3rTE/ndpWG+C7VY/20q62NKsb5+IAYDT3LhjEKNd99tlnzVhlsafg2GWQnV0Hzo8t2d577x1bzhPlXrzHcE9o+GHT0yTmiXNt13KEKNd+8803jTSNe1QJBe9xFjZ2Jjveld7EHd7z884DvP/iF78wWuCNoRQAuADAZRnnBQAuPwAG/MJWwvziTACoTBs8lnYw+WVgAxTgmMGkRoBbFimh/eoNAGYCLZXYwU6vDNsLc55UM+ytAxMZ27iAhrgSikVLGmS/q1+WRSvXyAFbdJCrR+8UCDySAGC/9vJG3TOhzlrQIBNnzJfJsxfK1HkNRl6xqrFJpLJKqmtqpbKan2qpqKyWRqmQ1Y1rZHVT09rfa8yxMM38/yp+N62R5StWyvKVq6Sqps264/WYxqYWbTOuF4DYzm2bwSzAtVOd59+ez+vrqltJNXg+WHy5zEwY9Iy43EIPew79GFLXQXZ2HZBakZhi3333TcSOh92P93OAPLsn2IMFpTuPe86w49m54llyJUcIux6f+2W7C0rcwQ6PnXjFy/bT/yyISIZx5JFHRrl8yWMIIMVVgn6gD4455hi57LLLIr3Lbr/9drn00ktNhlFImQsuuMBJnbwVLgBwAYBTD/QkJ9jYATAvSgBdOQrXVTYVZgDWkkQYeI2Wu9jWXwB0gC+gGL9cXoR5BOJpGyCBILraTyNpAqFmzjQLCLa7kTuEpVeO27ZMZLB0e+65Z+RJXJlyUuq+NK+d3P3echOgNuaHu0n/rv6Z4LICwH73S7vBbKu2kd+w5/w/k2QUKzai7dHLBnmfci4C/JBDpC15AmAmezSdSdOSx7nXqL68aYLs7Prwjhk7dqyR8+RRNOgOCVMaF5c4dWUHSLNixvlemmMJYIa86NevX8nT0B7ebHbK9jMW/vGPf5idh/PPP19Ih3zggQemqZaZU9CX895GT8zO3llnnWXOe+edd5Y89wMPPGDA7k9/+lPjgPP3v/9drr32WhkzZoz5t8tSAOACALscT5HPVQDg/AGwDdroKE28gSUbPpJZJzCIMjjU+WDzzTc3QWQEsAAu4waiRblW2DEEwZEC1wts0TMy2QHWqSc+znFdGsKuzedxA/EIDKReAFqY6PquPeSAq1+UuQ0r5Yghm8qlh3/Z97KuAHDSzGIsyADBNihm8WNv4yowBsygEw+zm4rSvlGOyRMAu7a0KnV/aXx5owbZ0WfshrBABNi//fbbgdr+KH0R5xgWWSTCQNOaxCM5zrX0WNK4s4OGtWVeJWmyD2X7AcXU+6KLLjKLed5tzAMsHJgT+MFvO26gJBnlfv3rX5t3uH4Xb+HRo0ebdxTv9KDCZ7x377vvvpZDCMxjF4H7dVkKAFwAYJfjKfK5CgCcLwAGXMCm8hIBtPGjbGoQ0IvcmY4O5KXMC5MXMUBHWdUkAUUuqoQNGnXAr5kCUINZBagwSfBZlturgJSnn37aGOuX0jHC7tiBgUzA2re3vjhZLnviQ8MCP/6D3WQzn1S6rgAwkxOMDxKVtAXwbwNi/lbGCkADO6468LgOGXHqxjNDKTVhxzlfqWOzDqKyr+1aIhAUZKfb7vQRCzRY+yyC7LztyoLqlVdeMTaGee0avfXWW2ahjowgr0K2SnbGYIHTFna0kG/85je/McG8aLZh7U8//XQB0MYpyLaInYBZ1sJ7il3Giy++WH7yk5/4no53K4TCgw8+KIcffnjLMUgiCM6DSY4LxkvVuwDABQCOM66dHbuxA2DAFJNG1gWggLMDW8YAOSzDvBpVdKb8P+mNy1U0iAxWFSAcZ9s/qzoTRAOYBNDx4rXBEKxw1sAcpg12PkieQjvRr2jtAOIAQq+MhfTJ+1/9X5MdLogFdgmAcebIYhzZ+lQkECzkKHYCAWWJASGuGPk8ATCLK54DrLuyLnkkpuAauohBxsS9UVxlsivVRlwXeQABpHG8t9O0O2CReAF80/MqLr2OWYARBMc7BVtJCvMUuzFxd+B4PxJIh+bXLgBs3mc333yzbxM99thjcvDBB5t3LbtYWgDjMNHoiWH1XZUCABcA2NVYinWeAgBnC4DtJBEEUPEyCZI4kDEJ5i5MRxargyMebPsOE0QGe8JW+oYAgHnZAubQszGBw5pTP1fgKqyJ1IkC1szrZQoAZCuRLUsWL/RdECC/7cXJculaFviek4bLoL6ttd6uADBpm5k4yRaYZdGMW0yItlcqoEe9UpmwbT2xbsXHrdcXFQDnnZhCLRbRmdoJH9iCB2TBCsfNZFeqL1lI45BA0F1eBZAGyZDXe5T3A+QFoNWF1zHtBWNO/6R1zmCRg6wCHa9dAK+AYxhev3LXXXfJsccea2ROuvPGcThsQEbAKB966KHOurQAwAUAdjaY4pyoAMDZAWDAGlviTHK8NAAlpVgQACcsZ57MBS9vgAyR02xRqmduEv/dOOMu6rFqowRAh9WBXc1S7hBUL68TBfWB0UcDCziPkvYZFvgr175ovHtJ0nDLcUNlUJ91IPjzCoD9Us56t+KZzHkO1CrKBsVRHE9YZGiQY9Sxk/S4PG208k5MAaAhyA/2zy6uguy8bY7cAm0rW/F5lbwWgHo/rq3eIEIOOeQQIy9Ku8gHACOlOPfcc1s1P3IugO3f/va3kgAYCYYt6+Cdx0L/4Ycflq997WvOurQAwAUAdjaY4pxoYwfAMLSAGZeFwA+AL7ZhsBBRk0TAXMAgcHweBfYSZg32x5siuBTrmUfduIbKHbAhY2FAQEbWcoege0MCAWsGCNckG4A5AHmcoMX3ZyyW428fa7Kb4XN7y3HDZPBaJpiJ1MWkh+YSUK7bp1n1lzLAfgDY75oAYK+emHsGAHuTQHj1onlG9jPJM+YYb1mXvIPE4mTvSxJk520v3oG8C9lJyqt4bQCzvq5rGcvjjz8up5xyiglYTCsbKSQQWfd+tudP75+Tbf0+92cvALA7AGx70QKUkDvE2cJCuwa7CZuYZbH1yABLrudnUaSgLw7Ac1FvewEBG470gYCLPINavPdBEBztBPhlW5e6IMVIMkEBgr97+1ghlS8g+M/fGSZD+nUyW9AuADALKfp1QwPA3jaNY8UG0w4bZusRXYw1v3Og5aYfsI/KuuSdmS1tmuewIDtdyKi3LYtYGHUYx7wKkqk8M2i6ZvHvvfdeufDCC83uUtoFfxEEl9eoy+Y6BQDOpl1bzrqxA2AmYSa7NEVlBEyc6j+ZJDiL6GW2rLIy+9dgLRguWDeuUyq5RN6uFLZ3LpHL1A8NKUE0BJXlaWtkjweAKW1B+7EYoF5pk2xMmLlEjr/tdQOC2xsQPFQG9e7oDADnoYFkOx23kKgMcJRnLMiKje/iOsF2rG3FlhYglBsAq0tCXpnZskjzbAfZeTPZ0Wcw/+oUkocVGkGzsPel3m1RxmLUY1w7XRCYxg/SkbTjG9cINMA8p0pk3HPPPSYZRhQbNAJBOV4L/sEQEoUNWtTRke64AgCna7/QbxcAOB0A5mWAjICXIKwgQWxJdVvvvvuuYQEHDRoU2m9xD4C15IUHWwGQRJoRxl5iPwaT4sJOK6y+dpY5rgmA05d/Xsy4Xx3RcdNusNKw0bDAaSclvc4HgODbXzepjAHBf/r2YPlyr7aJx4+eN6opf1ifhH0epCcN+17cz5EojRs3zjwbACjbis2WTvC3Cyu2PDOJ5e2SkEeSDz+nEJ6ZLILsvGNJM+uRxCRK6vS4Y9HveNfZ9X73u98JLgwuQKYmwuDdZSfCwM/XToRx0kknCRZntiPS/fffL0cffbT87Gc/kwMOOMAEvl199dVFIgwXgybiOQoAHLGhkh5WAOBkABiNIIwvOkj0lgQGpM10hFYOgErWM1fFridb4tQzKguDtQ+gPks3AU0DzVZpUJY5oqJhrPPwgNV2p900PTWWYkgfslgMfDgLJnisSZJRU1UhJ+/WT07evb/UVlcmHgIAYHYgqHeWJS8AzD2wOEQXzALEBliqKYZ59LNiYys+bKHnbaM8k264Bk9h/Z2nxzF1UcYZ/TxyD2WIvZkH7dTA7PrE7TO9b9cBaWHtyeeuA/1gbFn0I7tyUZinfvjDHwrBdexcwf7CDNtp3b/73e8aAMyzZRf+75JLLmlJhfyrX/2qSIXsolMinqMAwBEbKulhGzsApt3YootamGRhUfAK5UUNKHPFNCBNYMW+0047Ra1O4HHUk20v9HfU08+bNuwimLvDFGcBpOx2hLmjfkF6aTJXwarjXZl1YQJg0qYv0GNzTeqX5WLgo1lL5KS/vCEzFjWPw4Hd28mvvrqVDO2XLCX266+/bjTTLCiyLHkCYLaDWbixgPMrjCdXVmx5Wq7lnZo4T4cL+qkU4+wiyM47FlwHpEV5fli8AzJd+eKec845Jr17kEVZlDp93o4pXCD8e6wAwBmP5AIARwPAACONaIZl0IQVrrbD6Way7/DiS6upZNueSZytY+oJg5ukntiyIUUg2Mtl0VTB1E9Z1VL1A/zQ/llH5cPGwTTCStNuMOZaLwJraIesAssWL18tVz71gdzz2rSWpj5q2Kby4303N5ZpcQrsEXq/jQkA+7VPUiu2PB0n8k5NnKfDBX0Sl3GOG2TnfW+wc4MLBEF3Uez14jxXQce6Xgh+//vfN7sdt912m4vqfS7OUQDgAgCXZaAWAFhM4JF368fuDPS9AEomK7RUyAKySOsJ88hPUibBlhPA2mKnlkYTiZ0WgSSubNm8soKo9QOQAJazyswVxdOX7UPaNAs2XMcaC6v/mzhHLhrzsUycs9T8d88OtfLzr2wp+32pe+T3Q16ZsFxP/KVuMIwBjto4UazY0MvnJblxvX0e1g556pupC4wz76U0i9dSQXZ20g7+5lnGBxjbtTTvvrB2tD+fMmWKkcKREMZFIQEFi9drrrnGxek+F+coAHABgMsyUAsAHAyAvdnR0B9mmYSBlygMTVzTeIAT7DFsC24JpeQEcQYZW+nIEoK2naOey5ZjcD6NCI/6/Sy00VybRQ8gjvMzWSJ3CIoch1WCSc+SVaWdAGiNayrkzy9+Jje9+KmsamzW5I3cupucO2oL6d2pLrTZ3njjDSPLcc3cey+cJwAmCA6NvWsnED8rNnSqFJ51O8iOfyfVpgZ1mgZZkvkrj5KnvIP7yQJw2xpw1RRrJjtkMgDmgQMHmnch75ssyAq7r5B5sJBB5+yiHHbYYSZRycUXX+zidJ+LcxQAuADAZRmoBQAWwxoAPrTYdmG8UPPylET+wBb8yJEjI40F6on+TIN2vO4JkU5S4iAXwWew5jC4TEpJ5Rjo65jgXE0w3LKy+rB9MNEw+2FZ+rKQg2jzM/5YwFAfBV1zVlXLJU9OkrGfLTKHVVWIHLBtDzlu5z6yQ5/6wJ7LCwATGEidR4wYkXaohX4/KwDsd2GuRWERoUF2sJiMDztYi34ClCeRF+l1804UYQcThja6gwPyAtyayY4xyS4a/cQzzv+zcHEVZOfXJMSDcC1XO1S8/7/xjW+sl77YQXdssKcoAHABgMsyOAsA3BoAA9h4aTPhAYzY8nbN+gR1NGwQ29ejRo0KHQsE/FBPmIesZBkEn3HvSRICIHeA/YElJJAO8Jt0S5JtVIChi+BA2HJAGz8EihHEGMXTl23VHj16GGbJdWHMAUxYiFEnjZYHFNe1bSuvzquVe8YvkyUr1y3ShvStl+/s3EdGbtNdqitbh0qwcAGcZVFX+96/yADYyzbTN94sdvwfYzqNFRuL3jwTRbiSkkR9BvIG3LakJIsgO7/7dpk4BcC+yy67GNeG0047LWozf+6PKwBwAYDLMogLANwMgAEdADYmdQAbW61R7cJcdZwajOPRGMQq2dnmCHQCwGUly0jiS8ykAwPDpE69krhPeNvTVXCgeg1TR9otTrIS9NC0t8tsdLDiTJ5oCDVlNnXD8cI7ec+ev1D+NXm5/Ht6pcxevg7w9q6vldE795UjhmwiHdo0B8uRUAXG64sEgFmMsVBxpUcv9cxGuZYrK7Y8FxHcc5R7c/U+4zyw6dht5dFvXC/MkSFtkJ1f27hkuRlXvDMvu+wyQQu8sZQCABcAuCxjvQDAYnS3yAjQjAGMYHTKUdjmx3ps//33X0+3pnpVQDqsLPWEkUyz/Rp2j3G1t5psA/bX66IQdq1Sn6OxQx+ddKvdDr4L8hoOq5/LbHS29phFFtrjLl26GNCLBjgokQoLtQULF8pz78+Sv70zX8bPbWypNkYRX9myoxy946bSuGCGAcAuwbpf++QJ3vIEbkmvlcSKLU8dNX2Y1+6Ajpe8r5ekPeME2fmRIi5Zdd4NLIb/8pe/yKGHHhr2WvrCfF4A4AIAl2UwFwC42aydycvOPlaOzkB2QRrPffbZp1VSDYAxOlpsugA1SB6SZpuLc18sDLjm8OHDS34N0AYwB6TGTbYRpT5J3TGUjeY+AIQAzSCv4bB6EBCInzKBkGkKGeVg1v20x9SXyTiq5Oa9GYvl9pc+lSfenyur16kjpHe7NTKke4Xss1UXGdSvq1nYwca7XiwFAeCGFatl6sIVsnDZKlm6slEa+FnB79VrfzcKoX111ZXSprpS6mr4XWX+3bV9jQzo1k76dK5rJe1ICkqT9BUMOn3tYgERZsVGX6Mf5RnLw7YLiRWLrawDJLXd83Ik0etNnTpV+EnjyFAqyA5pjO08wfuE59nVjgvvAPqHLJxxg6GTjPUN5TsFAC4AcFnGYgGAxaR/RBta7gL4efbZZ42FD4BF7bk+++wzs11PkJudvSfr+hLcgS4ZTZpfsZNGsD3N1p2rpCD29ZjQqEucSHnkJExMsL+A1qReyFoPAstoe/ogSWFiQ8rBfeA0QVt5tcdxAbDWY/biFXLP69PlvrHTZMGy1a2q161OZPsuTQYQD+nTUbp07mQmcEBxUokP/T5z8Qp546NpMm7iNGnTrY9MXbBcpqz9mb90VZImavUddM39utSZpCB7b9VNejfOlG717XPZSs+atbSt2JDlsCiiAIBtPXEWDgZ5JUnRzswrK6FeTzPPhS3a4w5QDbLzy2THIob3NSnj6b80mezQmUMi0G4ug37j3m/exxcAuADAeY85c70CAIsBv3YO9LJ0hIhhoZ988kmTCIMXLfpQQApgCf1p3gXpAVuKWPJ4CwATVprJG7kD23auGUa9JnWAYYYZDyssGmg3Fg2AXsBvUqBnXyuNIwZsL2CcBQ7SlaCdhqQAWOu5qrFJXp28QO578QMZO3O1zF9u0cIi0rG2Uob0rJRtO66SrTo2Sn37ZjZLATETt9/OwqLlq+WdaYvNz7hpi2TctMUytyE6yG1XWyXt+Wmz9ndtlRkry1c1yYrVjbJ8ddPav5tkwdJVhh32ljZVInv0bye/PmKI1MdMDBI2Zryf5+WiwXUZp4xvdifsIDvbwcClFdurr75qxh/Pax4F7Typ4rNKIOO9BxaZvJtcppMPaifV6bM7ATPMHML7kLHNs2T3G4vdKO9HdtFYZLNrlZduOo9xEHaNAgAXADhsjGTyeQGANxwADMvwxBNPGDYB5pIXIJrVqFvirgcIkzPplO3EHHbglkuAWaruUezhaDsmD4Cyrat11SZJ0jEDxqmPBrmFOWGkBcB6r2gSa2prZUX7TeTZD+bKMxPmyCdzl7VqChjWgV1rZWCnSunbdrX0ql4mPdtWSMeOHWRpZTt5f2GlTFzQJO/NWiqTPN+1T9S+WmTzHh2lb5c6I1vou/aHv7u0qxHAb2VF9ISey1c1yuR5y+QTfuYulbenLpb/fjxP1tohy6htu8tVR2znqlt9z5OnTCCIsWRRDgi2QbHXik19buNYseFmAhjl2c2jvPzyy+YdBjuaR8k71TP3RMZMZGncY9ogO94XuN0QzEeMR1blsccek/POO884CTEezjrrrEiuE34gvlevXiZ4PE0pAHABgNOMn8TfLQBwM/MKWClnYVsU5pLtfrbIBw0a1EoHXI662Yk5bG9kJlxYabRqeRS2idFlEhzoVwAKqpHOatFANDsv/yiWcEFBbmFtpQCY60Rhi4LO5xeUQ2a5Zz+YI89NmCtvT2tO9BC39K6vkUF96mVQ306yQ+96qV+zRKZ/Osmknc2yzFmyUr598ysyvaGZ0f7H/xtupBFZlTx1q3GSKLiwYgOQYu0IK5tHIaiXZxKQlEdxaUkWtb5kiWSnKQiwRgmyY8EDS8w7d7/99jM2nLxnsygAduRkxx13nHGaoI8uuOAC+eMf/ygnn3xyyUvyXsKi7dvf/nbLcRAOw4YNS1XVAgD7N1906iBV82+8Xy4AcHkBsG0bxgsQ5pdt8rwYk1Ijn1U9DAEvNwAmVnHYw7F9micrjbcn2kWvPzKTBppatj2ZfGi3rDTSgEr6ioVJqVIqyC3sLeMKACO3wJ82KIPfrMUr5KVJ8+VP//lUPp2/PKxa5vOdN6mS3nWrpGvtGunTqY0M7Fkv7WorjQ81ANj1eDALrvnLDXv9zIS58tbU5mQgMMsPfm9HwyxnVfLUyabZsi9lxca7RJM/wBSrLpWMhtjjIYPIo7zwwgu5JRLiflxakkVtn3/961/mvRCURdJ7Hr8guzvuuENuueUW8x7jvXbOOeeY2At0wEkDd4Pqf9BBBwne4+wGaDnllFPkn//8p9mtKvUsA4CvuOIKOfvss6M2T6TjCgBcAOBIA8X1QQUALh8A1ixpsL8KLGETiNDOSzNXajyhTWTrnxc2jBEsRx6R6t46oaHlZW37I7NFyGSnvpkECWZZWADAwAVle4oS5BZWP5cAmPSvXscK2uqtqYvlr69NlWcnzDXa2zSlQ41ItzZrhEC7Hu1rpEuHOuncoa0JVuNvfInbt6mWDmu1v2h7V6xukpVrf1Y08vca8+85DSsN4P1s/jKZwu8Fy2TJitaBqb07Vsvt3x0mm9Rnw4xpW+QZuEVCFmQOQ4YMSdMVLd8Ns2JjEcvimvdLVF1qmorhasOuSV4xDC4tyaLcN88Ujg0AVRYaSQvSCXa57r33XrnnnnsMa86/+X80wbfffruTREDMNWiT8Rk+88wzW6qr7kNhwXcFAE7aw8m+VzDAydot8rcKAGwCAU2AUl5FfWn9km7A0AA20ZSVq9AeSDHwAeYFjKVQVHYjizpjxca2HQww/QTwBQBnlQHP7x64Jv3mF1wTNcgtrG1cAWDAOsFsCoABnY+/O0v++to0GT9jSatqfHnTDrLv1t1kn626ydY911mlYWFGsNuEmQ1rHR6WGZeH6QtXyOomvzC1sLtL9nnHumrZZ6uuMrBmkeyxZTf50lZbJDtRjG/lGSjmOo2u323aulQAN4sjFnP8tlMEp3EGCWpewCHgPi+5FAt2YihcWNhFGTK07fPPP2/ekbDsacudd94pV155pUkkxLsOEMx4JDWyC9aedwMBl48//rgceOCBLdVFZgaJgP9wqQQcAGAWM7yTaWdICRhhZDVpSsEA+7deAYDTjKoI3y0AcH4AGICD5o9Jj4mHLXsva5BFxrEIw6DlENgoXpK4UMASEQQH8HS9xR2nTpog1lkN8QAAIABJREFUBJacCRwGAw2y663BUnUiOAX2zNa6xQ1yC7tnlwCY/uq06QC5d+x0+dsb01vZow3o2laO3rG3HPCl7tKrvk1YtVp9DviduWiFTFmwTMZPniXjP50la9p3l3lLVxrGFg/gJeanUVZq5FqEK3RuWy39urQ1wXQE0vE39dy+d0epqaqUPJ0ZABzKkkaoeqpDADroPXfYYYdU54n6ZWVkAWve1M5svasVmwbYpbFiYzwjD8CSLK/kQnmOE9ocRhUNLU45LuRXN954o9x9990mYUkWhboS1AyhgNuQFoA8sqmrr75azjjjjMBLH3/88XLIIYcYTTds+0UXXWS+B1BPs8gpAHABgLMY76HnLABwPgBY0/DyooGZg+X1C3RylXAhtOM9B6jnMFHpTP7Ukf8LykwX9/xpjkeKwQuWF60LT98kdSG4BiDOVmfSILew69rBmGmC4J54eZzc916DvDZ9pShZC5Ow91Zd5ZjhfWTXzTvHcmYIqjfuHAC4oCA4bNlIhLFo2SqZvWCxNCxZIiuXNcjypUukceVyqa2ukq6dOkiXTvXGPxqQFCSxyRPY5GndlXfQVhAjy5hGv+5nxQZYtvXESCeiLIhds6Nhzw+f5ylf4XosipFn4d3O+yltufzyy00yJFjlqAU2lndkWEFaR/sAgAmGtP3dFQBfc801JsgtaoFxhxS45JJLjG45aSkAcAGAk46dVN8rAHBz87GSz6IwqbB9TkKJKGl4Wfmr928W9fGe07YP4wVuew5Td17E++67b1m0v7blGvUGaOXJ+tptBdBD6sD2IQw5+m10esgwooCBKH2ZlgFGtnD985PlntemtXjp4pn7jSGbyFE7bip9O7eNUo3IxyBDwa80iQuEHRmvoItJ2GYgNeMWco48rcnytApjZ4H7ZlxlXeLqVcOs2GCJtY/8rNjoY2IaYBq9SV+yutc8+457YOwCKvEod/Ee+MUvfmEWlY8++mjkJrrtttvkhBNOCD2eRaRaRCaVQPhdhLGLzhv9ctJSAOACACcdO6m+VwDg5ubjZc0E4aowebBdT5Q3W0PIHaJoxNhWoh55bIlqimVe4ppi2X6JsyiAMcIyJ68JjPZXDTLggIkVNwOYcc2Q56qP4pyHSQldNG1Cf/LSd90mSQFwY9MaefDNGXLNvya1SB26t62UH+y7hXx1+57StiYbxwQAMAym7RMdp03tY70MJKwW7BoFrSHPJ4ALB4Osg7fytApDZ0+/s/DMuvBOgl3EZzbpQjLIig1gZacI5m+uR0wDC6S8gmdtT96s25PzsyiGtIAkcFF+9KMfGUnMX//6VxenW+8caYPg/CrF2GW+KgCw+y4rNMDu27TVGQsA7BYAmzSxM2eaADIKEbzopaJuaZcKtnI1FGCcYO6QO1A3ZAV++jUmu2eeeSZX5tUG5erpC0B4+umnc62H3dZMcrAntAcveiQiUfszTp8lAcBvTlkolzzxsby3NritTXWlHLpVWzlkizYybPD2cS4f+1iXANjv4gAoTT2LFp324f80eEsZSMCWi2x/Woc8QRS7CYwlFshZlywkCaWs2Fi8EjjK4ppFY5oUwVHbBsaZBXPWrjBaH3b26MM4adpL3ctJJ51k5EB/+tOfot5y7OOwQSNbHuNcy6mnnioPP/xwqA2a92KAfzTeuEqksUYrGGD/biwAcOzhHe8LBQB2B4BJyACABTCht4Kt8kstW6qHAKawX65z2XNN1a7CrFIvVu7du3cPrI6mZibAI43FT5QRyeRMcCBBgkxeLBwUlOdZD7uudlplJiXqMWLEiCi3k+iYOAAYbe0lT3wk/3h7Zsu19t+mu5y9/0BpmPWpAetZb6tnDYDtRmQHgOhzFh/sWPCM8BuADChmrNipZ2E4k25Jw1ry/ObhxY1ns59lXaIBFPKlvCQJasXG+GDhAmOvKYJVS8xv3in0m8vFZN62azj58N5KIgPy666jjjrKPLc4QWRVNBHGd7/7XRk9erSJ8zj//PPXS4ShBAQkCIU6sau59957m3c0u5UXX3yx6UPV6CetcwGACwCcdOyk+l4BgJubD8DAiztJAbyxRc7LHiNzwFvS7XFeMATM2QEKSerk/Q5AAXDOyh9Ghgk+CkAgNTNbplnaoDFRKhMGKPdmVNIU0bRJmkjjqO3I9TQJiGrmaD9SQ7ua6PzqEhUAk8jiB/e+K+/NbLY0IyvauQdsISMGNmfmyyuwKm8AzGINHb1d6CukEgqIAcX8G1DltfiKmjI4z2QRefrWwsZybyzissoyZvcNfcLCBXmAzear5pvteNuKTRn9pGw+YwHXCawKWbDmUZBFkTzC1fv6q1/9qhxwwAEGkGZZSIX885//vFUq5NNPP73VJYlv4Ic2pTzyyCMm2A0Chfch72nY5N/85jepF4sFAC4AcJbjPfDcBQBODoDtADJe5Gxjps3fjizBJdCywbmXWY0y4J566inj45n2vvyuhdYNUA7gB5ADzIMY8yeffNI4MGRtqA9TpUFu9kKBPmGB40LvGtTuUVwgJsxcIqff+47MXNzsW33aXpvJySP6GaswLewiAC6ipG2OMgaCjtkQALBf3RjzXosv2E+CPJUlVrDFc+steabvJcU2YBSLv6wLYxt9M2M4KciMU0d2wnBvIUDMrzBGg6zY7AA7+izKTlo5bNd4X/McuNqxI84BqzE7SUWcNv+8HlsA4AIAl2XsFgA4GQCG3QC8sRL2CyBL2pkwCmyppdWUKYuJFpnJIyk4f/bZZ41UwoUJu7aJ7YfMRMf5wwIE0QCThS0LIE69tE4w+bDM1IngKy2wPLDzaful1LgIA8DPfzRP/ueh94y1GFrfSw7dRkZt22O9UwKAYfuyDqTcUAGwt0HCUgYDsBRw0eewpHnpSAGIjP08Eje4tuwKe8fF1cdGsWLTfvKzYmMXj9TLsLH2sxtWzzSfp0ll7TdOYa9hZtECb0ylAMAFAC7LeC8AcHOzwxqxTRdWYJIAGDCCgELkDi63E3XrPU1Usa1FRocMuxqFQfG7dzR1sFP4Frsodta0Un7I3msBxNHGEbTnuth1oj/9gtymTZtm+h39W1alFAC++9Wp8r9PfWx8fbu2r5Frj/yyDOpT71uVvJIrwNyzHZolK6436NrflbbmObEZSBhSZEEAMXYaeL4Bxy6fb2+HEUTENXhOsy4s1knywRhO+j6IU0cXC6RSVmxezTd1Q9+al8SD6/GsMW4GDRoUp2l8j2Xc8a697rrr5Mgjj0x9vs/TCQoAXADgsozXAgBHA8C8nAC9gCAsfWBUs9iOhzUhoAAdWNxiB5Khl6SOSbXIem2iqtFd9uvXL251Wh3PwgGwBMPNuWDY4hjHo0MDMLsMTLKD3Mh6R52CtoZdLExKNaBav7GlSp/BdPEDk3X3a9Pksic/Nl/fskc7ue6o7aVP57rA07mclEvVGQDMDgPbtlkX1wDYr75q8YUsgT6AReeZYkzYjhNRt+SjtEmeCT5sTa7LwLOg++SZYdfEdeBokBUb7xM+433FLg4a8DjvmCj95T3GpY8z7wAWXQ8++GCrNMVJ6vV5+04BgAsAXJYxWwDgcAAMQ4jcgZU+K3QAXJQAsiQdyrUwcyfHetRJyrZeU0slVzZAbAfD/hIMkaR4PX1hcZMEqJCQg23iPn36JKlGq+/Y8hAmSOoUFlyHtR0R+yNHjkx9fe8JGFecm77n/jRJBBrpGcur5Mq3KmRVk8jQ3u3kd9/cTrp1bFeyDkhoYDeRjGRZvmgAWNuKsaYJYegD23WCdmX8IFuwGUgWKlGfV7tPSPBBgGnS5ytO/7r2rA27NrsmLOjslLth30nyuUpceEY1VTr9BMvPQsbuJ9dWbC5dPNBEI/HinYvzzsZUCgBcAOCyjPcCADc3O1ttsD124YXECp8XOcAEhjBrQ3e2KeOkH0bXBzifO3eu2UZNYr1WauABxnkpJ9mi5V6YIPjNwqF///6JFw6umOigILewh4/tXJjB/fbbL+zQyJ8zQRNYx66C6o41KAswtXjpchl9+1syad4K6VJXIT8d3CR1lessv5SV9E7qgADa/IsEgNm6hx1LuxMRpXNKWWnplrztOgFTjKTAG2AXJdAsD2Zb75nshaSuDQpKi9I2cY5BN0+KXlxk8ig43LCgQD6m7iC2xMXPHYQ+S2PFRnsCsrEMS1t4hyNXwxkkawvDtHV1/f0CABcA2PWYinS+AgCvD4AVmLCVDLhASpCEtYzUAZ6DoqYf1kxzgB2kGNQxi8APJmiAVpwoddt5As2uC510WiY6LMgtrK/SSFP8zg2AYnEAw0j7qMYaMEUBAF/xzCS585Wpghn6TaN3kJ0362wsvmxGkn+zG6G+qkzoAAHGEe4dWZY8GeA8ATByGzSdUa3/YOxtQEz/8HyiHbYD7HiXeLW3ed5X3KC0tGOHxR3XxL0ljwKABDwG6fR5L2liFT8rtiSJVVxKWAioY9EKa57HQi+PPol6jQIAFwA46lhxelwBgJubUwOQeGHDqDKpoTmF+U2ytZm0kzT9cKm0v7CR1BGWA+CL3CGrOvKChyEBpIUV6qN1A5QldZ7wuw72TYBpGJK4BUAI2KRtg4Lcws7J5MpiAGlKmgIwgvEFHKBnpj4whbQdnzHuGIsvf7JATr+/OZvgcTv3lp/sN9CXPUfzyKSuAIzfTPSMB5h7BWB+4CvNffDdLyoAJv03i4cwWUxQ+/mxj2zJ0yf0gw202FXgHYMGPeviIigtTh1dOiREuW6S8RhkxaaLF2X1WWD6BQ66ZPBhkwko5X2VdeKhKO2Z5zEFAC4AcJ7jreVaBQBubgqYNCYjJglW3zCeWQdQ+HU4IAjvXQJHePnaBVYP4AtI10xzfj6mLgcSNk20A5rIUsWuWxZSjFdeecUwcnG2GuMEuYW1mWqzDzzwwLBDAz+n3wDiFE34AVhS8MtvyopVq+XgG18zXr/b9Gwnt43eXmqrm31+AVH2j1eLzjkA2Gx3A+AAxAq+NDGEArCoiSGCbigJ4EjaePQ/LHkeQDEtAPa7Ry/7SL+w2KGwc8MiVsFWVu8d11nLwvoyLy261sNF0F2YFZutJ0b6AIPPfOHCJQfpG4kweG/l4dIR1n95fl4A4AIA5zneCgDsaW0mJAAwjBxAoVzFL+sZoBg2BbkDoAZmNcw311X92VKkTkGesrCV1I3JLsu6kVGKfkGHHVY0KJDFAgsE9HRRt7ODzg0rAwsdJzhRzwXQwS0BPSQR6oB4neDoWwW+Cmxf/WS+HH/Hm+brD5y8o2zds51hhRUs6/F6fr4HENbfpJMGAA8bNswcouDLZomZZGGe7S36uO4GX1QAjOUebZel7Ik+hH2EQeRZ1kxpWQZuMf4YG3kFWOXlR63PgeusbHreICs2nmH6i3cLuzk8P8SIJN2NGzNmjJx88skmGDarIOuwd2e5Pi8AcAGAyzL2Cga4udmZkJSRKUtHWBe1kz4AMgByvIQB5wQCJX3BJrkvrs1E7acnBWTBaAKmkkoLotYpqhRDmWgkC3FSPofVA80gOmTs6aKyM4wpQAdtiIwEIA77ajO+/K3gVevwu2c+lpv++6n079pWxvxg11ZVUyDs/W0fRPARkyh9pqDY/lyj5m3dKjIKCmykMsT8LhUgpHKhPGzQ8mKAaRsYYHSreWxD22mX6VOvxlu9ie20zupNHPc9kBVADHp2WPRxT2G7R2HPXtTPsanECcJVVrZS17Ut83hm0O7bi0pbOhGV0b///vvlggsuMBrguH0btY021OMKAFwA4LKMzQIAb3gAmAkY8AbAAAAra5i13MFvAOKCwRa6Hchiu2Pg7JCHXISEATCWQZOpHbgIc+fN5Jb24YrrzmG7TdA+9CGTGgCLuvJjSxns+n3zpldl/PQl8u2d+sgvDgpnvBUMw/QCAGDjCYy0Axe9LLG3PbzuBoBj+pkxZwNiJnYdh3kGVeFGgvzBhQ1eqbGQdzrdsLTLQZ63yt4rgw9ADns/ABCRCeTlykBKcRZ3UeIH0j6ffN+78+HinKXOwbNMwCQLTd45gGDbdYJ3RhxG/89//rP86U9/MqRCVgAYed2tt95qrDbZUTz99NNN4o0ohfs5++yz5YEHHjDvBiwhr732WvNuS1sKAFwA4LRjKNH3CwC8YQFgXpgAYMCMSgrKKcnACQM2kUmTFz7s4gcffNCK0Uw08GJ+CXkKk8L222+/3jc1yI0JCHmIXya3mJdb73AWAVix8dIvZW/lBeKwvmgFw1hfveDchpWy51X/Nf+87ugdZOQ23SNVHTcJmGb6isUTukSvbMKWToRpibkok5wtm9AJHcYL4AW4AVCRHjqrCVtvPi8AzEIAGzTGex7PHal7AYhRU3zTh+pNrGCLfuH/tV/stM52v+TtyoB8imclimwp0iAPOShvzbEuloLGis3oa1/5WbHRRyQuAkw+8sgjwm5HVuWss84SpBZ4Mz/00EMyevToyAD4kEMOMTZzV111lXn+zz//fAP4Cd5jpyhNKQBwAYDTjJ/E3y0A8LqmY8IvZ1FGjQkOEIfuNmtgEXa/6HthFWFUYSZ4gaunb55149qAEzvlKOwYOkO2DGEGce2I4r0ads9+n0expwuyNovC+uo1Hxk3Q8596D2prqyQl/5nD2nfprpkdTk3zB4LFYBPUPY/BcOqOVY9sX3yMJbYTh/MvQK2kQ2pB67NFEfd9o3aF19UAKxJNwBASQv9Ytt70TfqTWzb4+liRrXhSa8X9XsuPXKjXJOFOePRb5Ec5ftxj+FaLIoBk1EzbvpZsV100UVCsDHJUJiDfvvb38rOO++cSdp3xorqi7keoDYKA8zzx30++uijJlCPwnuXxTbA/dRTT43bfK2OLwBwAYBTDaCkXy4A8LqW44XmDTBK2q5xvsdkhV4OoImkgImKqPAkySfiXDfKsRp8x4vbladvlOt6j7G1yFkEuYXViT5iuxOPUS/bYVubodEGhNrWZgo2vVpfv2te+9xEufGFybJVz/byj1N3LlktWGm2mVmUwLIRiR51UcJESPEC4jgssbpawHLbemLOSRvZgBh2Mk1gDwGIPBsuou1LNSrjHFAKAMkj0LRU0o2wMVnqc80mqJ7RAGTujT4AbIfZe6W5tn7XpUdulPrkrTmGqHjppZdk9913T5UgCWYeII0GmJ0u3jX0F9ICxuFdd92ViSNRHACMNvmaa64xwbX2O4akIzwnMNdpSgGACwCcZvwk/m4BgMsHgDU5A1t3TEiwrDA2cRwPEnd8yBcVZLKNCaBBA5yGpUpbT7TIAD3AJaDPznyXBlhFrZf6M7Pdb7M9pazNbK1v1Do+MHaanP/PCVJfVy0vn7Onb/V03KDhY+ucLXQXGQrtwDpbPmFXQqUT3A99wMKENtHCuKGfbOmEBnJ5M6XFqXNeAJhdBWQJu+yySyaJZbwdGjfpRtTx6j2OfgEgAqxYmNA/9BPFm9aZ8R11IVWqPrzHeGe40IhGuW+XaYmjXI8FKHIFxn+Y/jrK+U477TSzQLnllltMBlLODat9ySWXRPl67GPiAOCjjjrKML48h3ZBQ/zEE0+YHag0pQDABQBOM34Sf7cAwOUBwIAHgBwTLlv3NntHwBfgALBXjmIHcAGw0Niy0i9nYSJAbwoQZQKHdcwi813QPcKoYY+FUT2Awc/ajElQtb6lgtxKtaNtgfbi/+whndvWtDoc4MK44foAX1j5rEoYS0yAJhMfDJgNjL31sQO5FBjDRnozpbH4C1oo5AWAk2xrp2l/9P5Dhw7N1HJN6+eVCKj1mp1ZUAMfbb9bnrckkpY8s9xxj3lLLhjLgHzejS4WDN/5zndMoGcUSUKaMaffjQOA1f0G/bBdfvGLX8gNN9xgmOE0pQDABQBOM34Sf7cAwOuajolaJ/3EDRryRba3WN1jjxXkoMA2GCXIezerunHvtqcvjLQmCNlvv/2yumzoeQHgBF/QP+j74mz1h5484gEANuzpSFAC8+NnbWYzqFHkDn6Xnrlohez7+xfNR389cZgM7tvJ/A1YAWyi90UfjuQhCSiJeLuBh3GP1IVtW6Lukep402R7wbBfsg4WWTbwspN12NIJ9VX9IgLgvC3XeO8wjlk8BhXNjKYLFRhjlbTYDD6LwLBdjbx023oveUsuwlIvx33Wvv71rxvJw6WXXhr5q/QTc0lYIXGSd8clLgBmgf/444+3utR5550nf/jDH8xuUJpSAOACAKcZP4m/WwDgfACw7Q7A5MEk5M30pjUp5b2buKNDvqiMNBOk7TfM/8NyjBo1KqtLB56XusBasfWmbQUALUfRDH2AM0BBXGuzqHUGFO146fOyfHWT/O/h28rXdtikRWrAOdgVwOKsXIV7Z6uZhZwy0HaQX1CyDl0Q+PkScy+lknXQ5gTcEejIpB3VhzlJGwEAsSYjWUTayPaw6+dtucZ7RcdQWN308yAnA/pTpRNBmQXxOAZ4sWDLo+QtuXCdWnr//fcXQPDPfvazyM112223yQknnBB6PIsDr5d7HABcSCBCmziTAyoyOWtx0pYWKADwusHAJAzQcV3YHmLbmskVuQMTeaktM0AfQMP23nVdJz0fdbKzlAHsbD2bpgBOkgEtaZ29QW4w0TCEGPmXAwDr4gUGjcl+8ODBsazN4rbD1//winwwq0GO2XFTOWJAo2F4sDWzM8jFPWfa43V3gB0CWF/Ab5DjRlwtMXXzY4kB2cpE0veMC54bL/Aqlawj7n1zTYAb4wyJRpYlb8s1VxpZ3pO23y19xO4MOxJ2ZkGux/uO8ZJHyStZit6Ly8x6jG1cFtDU8pNHiQOAiyC4PHpk/WsUADjjdi8AcHYA2E4YAYABXEax6SIojuAqAnGyKmqfBdhGSwvI9Mt8lSQDWpo6E1nNYoH7x2IHJwzAEVv/bLujwc2zcP8EAlIvJnm2KPFnjmNtFre+v33mY7n5v59KdYXIr0fUyr7Dt880K1kTgWsrGmXxitWyeLn1s/bfcxY1yCdTZ8qSFY1S065eVkqVOa5hZaNUVVZIm+pKqa2qNL/N32t/23/XVFZIbVWF1FQ1/9af7h1qpU+nNtKrvo3UVFW2SulstxuglGAqxqpKJwBeaHa9wMtO1hG37V1F9ke5bt4Bd0irAPVeyUqUupY6RjMLKiimX1iwshBi251UwSqfSOsGUqoeODIA6vJinPFEnzZtmnknpC20IbuCBLyhBc6jxAHAaoOGBOLAAw801eOdzPu5sEHLrrcKAJxd25ozFwDYPQDmxc/LAY/aUuAyqGsBelmynRpIpfZZgPMgRppjiIoPSwCRdpjaEhGAOIDctqGiPdDAYkOWR1HNLTpXtTYjYh8PVbI+xbE2i1NfFk1jx42XHz81XxavqpB9t+4m139rUJxTtDqWes5YtEImzV0qk+YsNb8/mbtUSLixeHmjAbJLVqyWNYmv4OaLVRUim9S3kb6d6wwg7tOZv9tK3y510q9LW3nvrdfNZEtf2EWzb9maVcaSN6VzVGcDtMnojVloRVmsprn7vAPu8gwSow+weEOvr4wxiwsWs94AuzhuIKXaG+kK4D4vxpl3AxIxFzt1PKfEhNx+++1y2GGHpRlWJb/L3EJwIgXXCep+0kknmX9/85vfbPkuu4DHH3+8kJ1OC57BSCnsRBg8d0UijMy6SwoAnF3bFgDY07aAHl7WaQqSARhMJmYClYjqjRshDLOAxZVtL5WmTvpd7k0TRwAkothnlfK/dVEnzsFLFJZVdaV+QW44QKBhzMONIsjajCA4JljaDh2qBnu5aAcmQNgkZeQ/auohv3nyE3Pqm0YPlt236FryMstWNRpgy8/EOfbvZcJnSUrbapG2VSJdOtRJ5/ZtjDVbhzbV0rGuWjq24e8qaVojsmJ1k6xc3SQrGpta/jb/XvvT8nfj2uPWHr98VZNhnaOUdtUifTrVyoDuHaV/17ayY/9OMnyzztK2pqrV1zVZh23DxrhiQvfasPkFEbLgg+3ac889Mw8yzFNvTCPhLkMb5OEv7hfgp24gtmc07yQAsA2K+TuJzttFUpEoY1GPcZl5jnELU847Jst3XCnNsNcDHADM8Vpg+DUVMou3IhVynNGS7NgCACdrt8jfKhjgdU2VBgAzmQFeYCoBvYDfpAySa7BnWMAZM4zWFyAAuxo1kMpr/xV5YEU40A5yC8vkRsAJW7hZulGEWZvBfsD4KIsFEwxbzU8aFgvWEXAPMEDnCyMPI3v0za/Lu9MXy8Du7eSh/7eTyQ43a/FKmTinQT6Zu0wmzm2QT+YslYlzl8r0heFZDHt0qJXNu7WTAd3bySYd2zQD2bVgVv9uV1Mhs6d+KrOnT5F+ffuYcezC4zRoODSsWC1TFiyXz+YvMz9T5jf/PWVB89+rQdgBBTnF4D4dZdcBnWXXzTvLdpt0lJrq1oCYr9KvNiBmIgdwwArbmlVYY1jKvABwnnIL2gEnFUAWW99Zlyj6Zk3rbANipBMUTeus/ROFwcdSjkAvJEp5FJeZ57hvFv6ws8OHD8+j+hvUNQoXCP/uKABwxsO0AMDpALCtpeUlDbgEGKUp+KuSGpOo4LQFRgtGGmYaTS1R2WH2RfY11f2AoKAg14q4dbSD3GB60L6FAXLaBAYLP0rXhfoQ0AIIRSOJ1RqgVmUOmi2NdtPtXKzZmLj54f8085mC4ig2UZwfhwukHUzaODzYzgOvf7pAvnPbGy232762yuhuSxVA4YBu7QzQNT/dm3/zf4DcUkWDNalXnEWS6/7gfCwo3x0/XiZOnydtuvWRVbX1Bih/Om+ZTJi5RD6es3S9y3aqq5bh/etllwGdZcTALkY64TfWbWcDBV8sQhiLPMMEoHL/gMWki9gobZKn3IL6vPbaa0YewFZ71iWpvplnDTBog2Jl8PGJthcsdt/k7ahB+yVx1Qhqd94/BAwCql1rtLPuaxfnLwBwAYBdjKPY5ygA8Lom4yXKizsVUO4oAAAgAElEQVRqAQQBLpnIeGkxscSVO/hdy4XzAveCjIIfJnIm9Kj56u06AYbI9ENAngtmJSjILazNAWewI7hRuCx20g/YV9gx+jBqkJud+UxBMYsOwBSTtc0S2xM2IIuxQ3vAsmrgzuR5y+TlSfPNzyufLJAFy/zHY7f2tYYZBtjav3t3qjOBaXGKSmOQ3qjbRJasb6m66W4FjhuM16CEJ7MWr5CXJs6XFyfOk5cmzZc5S1aud1q0xAd8qZt8Z6fe0rV9baRkHSy0kKLQf4AxFkS2L3GUhU3Uts9TbkGd8kxM4VLeod7EtvOE9o0CYhhjFsh5pbCmPZFt8Uzz/KYtAF+Y35kzZ+amYU5bZ5ffLwBwAYBdjqfI5yoAcHwAzJYqLywAA1v3vADTbIF7Oyut8wIaVsAVkwSsItnC0gDzJ5980gR/pUmFDCCH7USDzKQFsLGD3MIGLOCS4CRXdmx20B0glfoAuDSTW5ogNxZRMFg2S0xfcH7AFOMHKQVsXPd+W8jYqUsM4AXQEbBWqgzr10mu/9YO0smTIS6s/YI+V/9nmFIWSS4WOUnrAtCBVaNO7Fbg+hBl3NJXH81uaAHEr05eIMtWNbVUo66mUo4e2ssA4S7tmjPrqR+x15eYZw+mlGBL24ZNUwfTTl4mMqldmutUumHtnmdiiizlHbrotBOp2GmdeZ5VU+zSIs/bvuzS8Q5jrKYtjDk0tSzIs/afTlvXLL5fAOACAGcxrkLPWQDg6ACYFy+gF/DLpJcVYEjqvMCEjc4XFkGzzLlg8p555hmTlS5pdDXgAU9QJsUoPsh+gzbtosA+p21tRiAg2jtKVNY39KHyHMB5ATtsc340eapMmN8oExZUyAeLKmTG0vXZ2na1VbLTZuhau5gfgr7OeuBd+feHzdmWjhiyqVx4yDaxmV67WoB0xrFmJGQSTxJ4FLct/I5XSQxjtxTrG/VaKxub5O0pi+SZCXPkvtentQQBGiA8bFM5bqdNDRC2g344N+AWZh6t9z777LOefML2v9UtetpRg7iUKQYgR2lLrgUr63etqPca57g8bcLyBvfaliyaeH/yjNsWeXaQnasMii4Tb6BfPvroo03d40jU4vT/hnxsAYALAFyW8VkA4HXNzoTIS9OvqHUYL3aVO2T1ooIJ44WIC0QU2YJqSdV2rVSWuSSDDPsvgGtcf03dWsd6B5BZKnlCWL1o9//85z8mCC7pBOa1NlMXDBesb1D9G5vWyCuT5spjYyfKa58tkc+WVMg6brL5W1iAbd5xjWzdqUkG9aqTwf06S/euXQxbzNYuLOWqxib5+T/ek0ffmWW+M2rbHnL54dsZz924hW1+mFYWR4wVP//nuOdMejzPG3VR32cWbi6fq/lLV8qtL30md70ytQUIt62plG8N7y0n7tpP6uuqTECcLn4IYsXeavfdd1/Pk9gvWQeLOm9KZ9oCZtCWTrBg9rLZvFMAUUT9R2G6k7axfg+bMBY6Xiu5tOf1+74y6XmBewXcMPcsPuhPv7TOdvCjLZ9IMuZcJt545JFH5Ec/+pEQ7JvHWMiiz9OcswDABQBOM34Sf7cAwKUBsDJl+PoC4pA7JN3yjNpJAEfscJiEYZNKFZtdTWq7FlYv7IWwTsLdImqBhUaGETXILey8bA1SD8BCErmJWpsxMQL6evTo0RLkxqTIj9qauZiA0Kg++MZ0ufe1KTJzSWsdL5zvtpt2kF0HNDO8w/p3lrrqCsMS27IJwBUgFSDFtm6HjvVy/cuz5f43Zpjm2m3zLnLxYV+STeqjZSxT6Q6OIGidNclIWNtn9bk6k7DlG1cSE7dOfkB4s65t5a8n7iid29WY3QkYaLTmaMEBiSqDsa8VltKZRRZspO06oUykDYh5rulvnBnY+s6jsIDkHZF0JydOHRnH3Fte4D7KYkKDH+0AO94rfrIW3jFh7wGXjPpdd90ll19+uWCtFnbdOP3weTm2AMAFAC7LWC0AcOtmhzWgMPnBBhGMw8tQo8Lz6KQogWcAc/X0BZjD0CYBhlHuB+aI4Kgo0eMACRg9WEYAFj9RtoPD6pHUjzjM2oxJkaLAJqwepT4noxo63ntfnyrPTZgjjZaDF2ALsLvbwC6y82ZdDOgKK4xFW0sMq9bY2CRPzmgjj33S7AYBm3naXgPkuF37mUxqQYUFCQCPoB3XOwRh9+H9XFlfxohqfZMwcHGvy/EA4dte+sywwlis7bxZZ7lo/03k4w/XD7pzldJZ+1GZYgAyzzgLacY1On3YyChWX0nuWb+Tp08uCwkSJMAA51GSXk+9ie0AO/6P58T2jWbB4pWTuVxQ/OEPf5A777zTuP9sjKUAwAUALsu4LwDw+gCYlyHsJRMVbBC6srwmaK3NU089JUOHDl0v8EwtuwDmuoWNy0OWheAzAumwUAsqaYPcwuof1484jrVZWsaFrGoPvTld7h87TT6bv7zlVuqqRA7+cg85drcBsk2vDmG3GPo5bcyYhF176K2Zcuc7DbJ0bR6JPh0q5Qe79ZA9t9nEMMa66LDBJosRmN+8x7J9YwBx224uTiBkaAPFOOCBsdPk/H9OMN/YtWeT/PIrzW0TNhZ0t0DBcRKWWPsR/TU/LFztZB3KFAPAksp9/JoCKdOgQYOMK0zWhR0X+pmEInkUFlMs8NJej/5UWYuCYl2wqDex9g+Ba67a84orrjCyN7JuboylAMAFAC7LuC8A8LpmZ2KCtUCzqpnSspY7BHX6s88+a1hnW69ne/qqZVceYIZAHdwBuKZfcRHkFjb448hCwqzNNPgpTSY3zoFN2X1jp8lT781ulbChf4c18vXtu8uxe20rHerCmd6wew/6HOB9+RMfyCPvzG45ZHj3Jvn6gDXSu2sHA57oGyQGeBuHyWmS1iPK95SJR+OYN+vrVz8A00WPvCNPT2n+9H8O2EJO2C2+P24alljdWtD6e/WqdrIOWzqhmvAobe49Js9EESx08LdGxpVHyfJ66k2sgJhnigULhWeKBYWyxUl34X75y1+aoNTHHnssj+ba4K5RAOACAJdlUBYAeF2zA2qIAAd0hiVmyLqz2K4EKGCzxgtYPX2xImPLNEpwnKs6EqgDU4fMwi4ug9zC6grQwI5tt912CwzaytLaTOu3YOkq+ftbsL3TZdLcdckY0PDu2H2NHDCwrRy82w4meC2vQsKM3zz+gUyY2WAu2b62Ur42oEJ27rpCaqub/WzZ0lUtsQIqF9KUKPeo8gvAAfKLcgJxxiy7JzCv/fpvJle/vkz+9eFcwVf5hZ+4AWtRWGIWX2zbA3r8WEuvXhXQBTOp/tJBCSGC+oN3GwB4xx13zCXokfYlmJDnNY+CdzM2i7vuumselzN2ZeyMIT9Txtj2JlZAHNUR5MwzzzS7O/fee28u9d/QLlIA4AIAl2VMFgC4dbOj/1JdaFk6ZO1FVXcLe8dWInUC+BLAErZN67reGMwDXri+Ft3KhoGOksnNRZ3GjBljjO79tnCztDYzC6PPFsq9r0+TJ8bPFmy2tGzVo63s1qNJdqhfLoO23coECubdP9RldVOT3PXKFLn2uUmydK0Hbu/6WjlqeB85+EtdpXJVQ4ueWNPNMjlrog5+u97tsFnfDUF+AeDEjk8DM1kI3PLip3Ll0x9L38518uQZ2YA1myVWtwnAEgFPyFl22mmnVgGYXm9iHWu0p81CNmvCGw3DbwNiv2QdUVITu3hG9RzET2AZSQKdPApBygRV0pZ5FG+iD/oVUOxN60xf0h+2ntjPm/jkk082x9x0002ZVB9J3a233mrSfEOmnH766XLdddeFXotFjJ/0jX5lAeCqFAC4AMCuxlKs8xQAeMMEwC+++KIBvcge0CAjP3Dh6RtrcKw9eNy4cWaCZhs9qyC3KPXy00VnaW3GpDZm/Gy58flPTKIFLW2qK+Wg7XrInr0rpGbRNOnWratZHLgGkFHaRI/Rfvlkxnx5em69/GvSkpavkx551LY95ZjhvWVov05mXAGe1HGC3+pn62WJk0pskDqwcNsQWF/GCAGjgCQCOXmWlP0+7+H35KE3Z8heW3aVP3x7cJwmL3nsvIaVJijRL/00CxCeKQAtVnwsPvy0xEHJOvTCQQkh1NXAlk7wf+hLAS557E7kDUgBaixwSNiTR1EGGPY+SKfNuLOD6/gb4Mx7XAExcjukbmeccYZ5h1x11VWZVP+ss84SCAQY8oceekhGjx4dCwBfcsklxtFDC4tniA9XpQDABQB2NZZinacAwBsWANZgMnWfYMuynFvGtA4BgUzWTNRJM7nFGpQBB3sTcmRpbTZl/jL59WMfyH8+ntdSG1IOH71jH9l383YyZeIHRgcIgEmbaS9N22hyFu0XTXk9fvpi40bxz3EzW2VF27pne/nW8D7ytR16Sfs21ebSGvhjA2JAmgIpO51zGMgHSGsyFpgjfpKC6DTtot/lnmB91f7OznTXsGK1HP3n12XinKXy3V37yTmj/DXuSepx5VMfyR3/N0V2HtBZRm7TXfbdurtsUt/GbNOjjcWGD8Cj4MmPJfYm6rBt+oJYYk3WYduw8X8sRABfLKaRUcFKZimByRuQwmoCMIcMGZKku2J/J6nPse0IwjmOPPJI45jDeEB6d8opp5hFyuDBg41syVVhfOlzSLDnIYccEgsA33///fLNb37TVXXWO08BgAsAnNngKnXiAgC3bh0mC1bu5ShM1oBN2Dy2yQAeAJpyF6x5eEkz6SbN5ObiHtAwAhqQQACy0P0xoZOYBFZFE1qk8fQl4QQ2WbC+y1c3Sx12GdBZTt97cxnSp4NMmjSpJUgST1WXk1TcNtJgPyZS6oJe3Cu/WLx8tfzj7Rlyz2tTDdDTQra5Qwf1kqOG9ZFtejUn27CLAikbFPN/AGCbJWZxphOrsr60SbmD7hgDgCKAmPp32zsok+YslR/eN66lTa4/egfZd5vucbsg8PhDbvi/Vu3NgZvVV8qXOzfJYcMHyB5fjuY44U3S4geK1cLPb6GhixsWiwBv2F/GDUVTOqt8wi9ZR9IGyRuQsgBkQUrGyjzK/PnzBWmYzYomuS7EAn7JP/3pT82ChB0/dk54ho499li5+eabk5y25HcKAOy8STM74fp5QjO71MZ54gIAlx8A28k2ADGATBhglR2Ua2TaQW4wSCNGjMjMazjKPWLjBFOC/pj6ALIAY7p9zMKFv5N6+qLz/dWjE+TDWc1yB9LlnjtqS8OW6uJEtdiwaOUq3CNbzEz6MJosClgwlSp859XJC+Se16bJ0++3dq2Amdx9i64yYmBX41Pcue36zhWqcbQBsaZtBUgxVmy5TjlZX4KJ3nnnHSPrYAHp7Svu/2d/f08aVjZKZYXImSMHyokj+jvVbhMsSerqZybMlv98NFeWr7ZMoUWkd6c62XebboYZJu11KQ9n7VeNTdBxruPeBsVBLLFu2e+xxx4GaHm1xAAxr/ctwDgpSwzY5prYhOVReF/SLnkRBraDR9r7o/+Qbpx77rnyve99z+iIsVjjmfrKV76S9vTrfT8JAOYZQmJCcPhhhx0m//u//+vUTq9ggP27uQDAzod/6xMWALh8AFi9au0EBbpFCxPMBM5WWDkKbB51AMhQJyazvAJa/O6X6xMYCAiA8VU/W5sh43tJrM0WLlslv31movHx1fKNoZvKT/bbQjrUVhigSUAPyUDKqcWmboBMtvT5remp4wbdzV68Qv72xnRj4TZjUXPiFy28cLfv3VH22KKrAcWD+tZLdaV/gg3GJ1v6sKxaBw3KsoPrYB3zAMTqAkJwGbIU5CkqMSAlNQuAh9+eIX9/qzmTHkD/qm9sJ7sNzMYXV4MAp82cLUva95Zx8yrkuQ/mypwlrdOtd2xTLXtt1dVIJfbcspt0WCtNifLcR7VhY1cJUIXlmjeWgGcI9tRO6cwigkLf2VpivwAuv3ribsH9s0jNo2jWSa9TTVbXdmm7Rvuzg3PNNdfIUUcdlVWVW84bBwDj5nHRRRcZIM4zTRDdxRdfbBIckQralU91AYALAJz5wPe7QAGAW7cKEzgr76wLGkte2qz2/ZJtwGhwDBrgPAsTIVtwAGDN5AbbiNwABjjvwuRAoAgglIKmlPbybg0nYX05x2PvzpLLnvhQ5jY0pytG5/urg7eR4Zt1NrIP2gLAALPEBFCuotpwwB0sDOAuTI8bVldA4TvTFsmLE+fLfz+eJ29NWSSNa1ozlR3aVJkMdrDD6Fn7d21rADHglzFqp1UGBAPMbZaYhQssIiDK/nEtHdGFAdeDEQcA07/vTFssj70z0/TzbAt4brdpB7n6yB2kT+doaaTD2tL7uerTdadCE36QLXDc1EXy7IQ58uwHc+Tj2etkKZyjurLCSG6QY8AOb9opXv38WGIdOzzH2JLxrERJ6cz7x9YSawCXDYhhif2Cc3luaP+8GFmCCnkeWBznUVy6XNBOm266qTzwwANy0EEHRao+/QI4DSu8L73exHEAsN/5H330UaMhxrLNFWAvAHABgMPGciafFwA4XwCs9kdoSTUQxm/7GqAzd+5cY/uVR7GBJpMaEb46aTNxAkLZPs2z2NZmMDuwjUwU6H7Va9Xe8o1Tt0/nEeQ2wYA/Sm1VpZy612ZmK1waVxuNMYsAJgsmkaRbwXHqFHQsQATWFxaPdiBYJi7rG6Uei5avMsk9CPwDEE9dsC6rnX4fR4l+nWqla/VK6duxSnbZtr8M6t9D+nWt82WKYQGZrO0fngF8rL0scZJ7suUgaMN79N9SpixabdjeR9+ZKfSzXbbq2d5IWo7dua/U1VRFaZZYx3BvsJ8AJMYOi8hS7PfkeUtN2mwA8djPFkpT6/WHANRHbt1dRm7Tw1erHVY5FrTIQWB0YRnZyg5ynLAD6/zq7JfSmefQmyGNf7O4Bxjnxciix+W9RXvnUXgX8X4YPnx46suxmGRRyw5XVJLhtttukxNOOCH02vjaewMD0wJgxg9tfdpppxkphItSAOACALsYR7HPUQDg/AAwjCITgzIjePoGFbaVWeHnYSQflskN9hcGdu+99449vpJ8IcjajO03JgoAcFKtLx6+t774qfzhhcmyYm2Q24iBXeSXX91a+ndpa9ocAMOiBPaqnA4cgAvGAQFFjBVYX9fMaVD/mAXRvGUGCL84cZ68PGmBLFsVHBwKMN68WzvZskd72cL8tJMeHdpIfV211Letlk51NVJbXdli7WezxAB7wJKXJQ60l2paY8D5e9Pmy8vjP5HJ81fIwjV1MmXhKlm8Yv06orc9ePuecvD2vWRrBympg9qM5wiwSdux9R93x2D+0pVGN/zchLlmEeJtb9UNA4jZoQjTDatXN4CU+uhCO4qWmHsMY4k5D4szWzqhyTr4LtcDbAGWsh63JOvh3cD18igQGIxh0tWnLWhrqTcsdh6SERcAmPciXsIFAE7b+6W/X2iAs21fXtYeziHjC27gp+elzorcZbFlBbx8yPAW5umL5pSXbNrc9qXuA6kHwSp26me/VJ5MpDCQI0eOdNksvueC9eZa9AMsNCy5MlZESxN9rUAJbTKTa1Qd2ltTFsovHnm/Zdu5W3uC3LYy4Ej7iPPTP/jF5qFbDWpQQAXtoF6xbOmXs0yfOUv+9fp7MnN5paxq112mLm403siT5y5bTzYRVM+2NZVSX1ezFhADjGsMQO5QWynSuFKWLF0ui5Yul4blq2Rl4xpZU1EtTZXV0lRRJavXVMjKJjGLFjS0ungJulavjm1kvy91N6B3SN/6TBhzvTZjlWeVHz/HiST9tmJ1o7w8cb6RSTw7Ya6Q9toutBt64WbdcNdWumE72x1jmXdOGLseVUscxhJrsg4WzDy3vEtVF+5N6ezy+SJdOzsj6PTzKC6D/FjkEizIbxb3WZe0APiRRx6RQw89VFxaoxUMsH+vFwA446ehAMCtG9glALZT8wLU4jCKMJFoLPfZZ59MRoAd5OYXKW9fFOaaLcYDDjggk7pw0paAoQBrM51MNYED7At/08ZINWDb9MfPzum1yQvke3e91QKcjhzWW87ab6ABYEg8mNC0j/JMM+1tUNu+iwm93FZr6lDCeGRyBlDZwAVGffLcpQYMfzR7qXxsfscDxkkHFZMDGl502wO7N7PO/ObfnXycLJJep9T30B7D+rKA4jliwea6RNUNI5MYvmmtzPyk2UEGSzDGdNKiMiMFx37SiSCWmMUqC1TAFm1ka4nRafM9Ozsaf/stvqPWnaxkLFpZgORReDez0HCRDILxg/SBxXfcXYOo9wrJwSKBgnSB2JKTTjrJ/Nv294WYOf744+XPf/6z+ezss882fUUANHUj8O3SSy810paXXnoplMiJWr8CABcAOOpYcXpcAYBbNycvecBY2sLLDLkDE2MS71wA6ttvvy37779/2qq0+r7NRqNtBdCE6VvZouPlmYUlj+2E4WdtZmt9vYwRn6FtBAzrj9o52YD40yUiJ/7lLWN7heXXlUdsJ8P6dzbbt/QREzRAk8kzjClz2hmek6kUhYmVQK4swFSc+isbz6TIRA+DF7UQYLd4xWpZtGy14LKxaPlqQWO8sNW/132O53JddaW0qamUuuqqtb/X/bumYo0sXbxAli5eaJw5etY1SY82a6Rrp+bFj3oTR3UpiHofQccxbtmlQS7D1jvgN+ttfq0LumE0w2iHvbrhqoo1MmqL9nLOwYOkV6fS1nhx2yAOS8yCmfHrx2iyqPLasGmyDt3dARDbHtNhdUU/S3BsXjsl7M640jiT9ZPgN95dYTuDYe0Q9HkpzbDXRg8AzPEUgPANN9xgCAIWLth0Hn744XLhhRemWlx561kA4AIAJx3bqb5XAGC3AJiXGJMik2Pfvn0TM3gKOkeNGuUElPGSI3CDumkay6j6VoAZq33q4nLbUhM5cK9MXl5rs7gJLdTOyQbEH81aIte8WyUNqyukU5tKue7wLWT7zXqYICW0tUzSLFDSOiqkeQg1MJL+AYQTyR5V1pHmukHfBYwwTjTRCIFFYYukLOqh59TdARaF6phCX6v2lPFJnxOkRbvZiTr423XdWUSycOKajJ1yLpzQDT/1znR55I3JMm52o5GJUJCbfGeXfnLiiH5GdpJV8WOJWVjCagJ+NWAzLFkH7wJbS8w5WIzyjlLpBKA4KFkHaZ5ZNOblzw05wU4R4zFteeKJJ+TEE08048nl+zVtvfL8fgGACwCc53hruVYBgN0AYCZkAAPuAbykYYTstKtxO9cl6FQ9qXrHAszjMJ1MRv/5z39kv/32cwLMbMcJJjfYRQJ1+H+bZUpibWa3M+mMj711rMxaslLa11TIz3ZpJ53WLDbXoNA/uErAIDKZxWmTuP0ZdLzuFFAnxgxsYjkLrK96qsZlfbOotwaOeu3E/K4FMLWD69TLViUyCozTZDwLCizL4t7DzmnvnjCGB2z5JbnnjZly60ufmd0OChKfk3fvL6N37ittM3C9sOtoO3Iwjlkc8Ex5w0yipnSm/2zpBMwxLLsNiDVZB0ly0NHiBJJHwV2BNmcXLW3B/uyXv/ylkWKV4x2Utv4uvl8A4AIAuxhHsc9RAOD1mwwmKU5RmyqApp+nb5xz6bEKOgk8S7q1GjXILax+sDPPP/+80SOnZUq91mZsqVEU/MZlfYPqTrKHY297Qz6bv8ywYX88ZgepXznHBPzB+jJ5qXwC4GQzh3yWJgtWWHvyufYNk96GkGDDZn3RUkaRxkS5z6TH2IFcgAx+4rJjMOvKKiowtiUyCohhGcNYYtv3WJ/xcoIV6oPXLgsEdgwYQ1ofWOGb/vOp3P3qVEGjTenRoVa+v9cAIcFLmHtEkj6jXVk4sZuDWwkLS61PFC2xBtfZQXZecM1zagNi3pEUFs/8zQ4SjHMeMhiSiuDMwrOSttxyyy1y4403mv4s55hKex9pvl8A4AIApxk/ib9bAODkANi261KbqrCUtFE7ipc9rAbWY0nOGSfILaxOLAiee+45k0UqaYBYkLWZi4QW3vqThva4298wwVgkFrj8kM2lw5LPWuznvCyrTqwqnVDmEGBka4nTBOnYdVSWlckOljXNTkFY30X5XOsDwKQ+WQXiRKkLxwCi0FgCSl2y0LZERmUTCqJY8NjSCXuhp/VBn4lNVVTpUNT7jXsc9UFiwKKNQDf16/aeZ8ai5XLj85/Ig2/MaHHq6NelTn6wz+bGHaOywk2MudaHhTr1AZCWKvYujwbWeQPsorDEvFN0EYucifZgYcBvb4Cda20tlozspOkCPm4f2seTAe7vf/97S5BamnN9Xr9bAOACAJdl7BYAeP1mh80Ic4dTgMmLGu1ZKU/fJB0LA/b000/L7rvvHmvCTRLkFla/pHXR85ayNkub0MJb94YVq+XEv7wp46YtlsoKkTN3qZf+FfMMUwNzF8b0cT5lDhUQA5aYWAFFNiAGeMRhbDgH9lDoj+PUJ6x/kn5Ov2qaZ3V4iNI+Sa8X9j3anfrAiudVH66pSTqUJaafWOwAiHkX8P8bQn/xrBCMhFZc6xOFFf9k7lK59l+T5PF3Z7V0wdY928uP9h0o+2zdLdYYtvvQdiyJUx+/caCgmP6wQbF9bBBLTB8h0dp1113NLoE3pbM3WQf9mlby5DLojtTCuCs8++yzYY/IF/bzAgAXALgsg7sAwPEAMEbvuvUY1UUhSccyCRAcwUs9CiOXJsgtrH5MIE8++WTkuuj5mJiwCwLwAWjYqoWJyYL15Zp4p55699vyf58sMFU4bpsK2bt/G6OtjeNg4G0P6osMxA6us1P8KijmGkFME6lxNTtWudMqc3/Kam4orC9tC+tLW5eTFde+JsUzQFMBmdp2qUsBfe5qRyDs+eNzDSzjmaJ9kmjFx09fLFc/N1Fe+GheyyWH9q2XH48cKDsN6BKlGi3HMP5hoXkfwoonqU+pC0ZJ1qEsMYt+ACRkgbdPNFmHLZ3geBZ6yvqrpjhO4CmSsDD7yKgN+tOf/tS8I9lrQOQAACAASURBVGGBN9ZSAOACAJdl7BcAeP1mhwHSF7B+anv68sLk5Re09eiqIwGd+DWGTS5pg9yi1BcwvtNOO0UKMoljbaaTWJQ6lDpmVWOT/Pj+d+S5D+aaw44Y0CQn7N6cxjgKSxb3+priV0FxkCcxEy2OCgCqDSGtsq093lBYTdJ+o81mO1kXSXH7w9XxjF0SElAn9KQayOVliWlH3RFQ6QTvA9djzbZbw+GA904coObXLnhi//7ZicZCTcseW3Q1QHi7TTuGNiWe0JAASHcA40ljFEIv5DkgyIaN3TieMcgC2kaZ4qC+0GdXmWJkFJqeW0Exv5Fy+J2DPkGeRophF/IlMqpR7rjjjrhN8oU5vgDABQAuy2AuAHA4ACZSX7Ny5Wl7xJYYE0yQt6WrILcoAw85xuDBg0O9aWGEaKtS1mZcL63Dg7fOP/v7ePnH2zPNfx++ZY387NAhmS9Q7DoEeRJzDCAYcAegiuNtGqVf4hxDn8BCU8rJsmqdAR6wiCw4XbFpcdrDeyysJmMXtxRkTUHPHQBIkzuobIJ/M6btdM6wxGnAIdp7+ov3j+v3Dvfw/Idz5ffPTZQJMxtamuIr2/WQM/YZKJt3b7deU/K+weUGJwxv4F2adk/6XXsxx0KXQECvlth+1wQF2PHs0n+2dMJO1mFnsKM/OR4APHz4cCdeuMcdd5yx0rv++uuTNsXn/nsFAC4AcFkGcQGAgwGwvYXPy5VkCWnZlzid/O9//9tMNH7ZjWwNclYZqOy6EgQHKADE+ZVS1ma25ME18KUub02eI8fcPq4Z/G7XSS46YohzJi5OvzFuYMjoIxwnmDRhENnG1q10W0uc9ZiytbUbCusLy0rgkrKsWbdBqf5TC0PkOvQLi4O48gZAvJcl1hTAdqKOqLpx3B0A42hVkRgkDT4NG7dkmUMbfM1zk4xjilmwVVTI14dsIqftNUA27VRn/o97GzdunBm/BLqVOxAQwEp9eNaojzKxcZJ1KLvrx/Jqsg6VTgCOlfXn3ukf+gVWPi3rf8QRR5idvssuuyysu76wnxcAuADAZRncBQD2B8Do/5gQ2eYsV2Q8gR0AFttqJ4sgtygDDzBOEJlf1LNKMGBNNOsd53Rtbeatp+qer3zqY3lmWoX07FArz/x4hFQR/VaGQn1gx9QLmnFjAwUmUHUfUOYQkMRWq26ju/Yk1t0LmmNDYH01dTA7BaVY1ry6T+27CNRkgRvXIzuonowFFjza3/y2deO2ltgG/4wHtvPRhCa1f0vSdkiIHnxzunGNmLW4ORNmbVWlfGt4bzloswqZPeUTsxDn+S5noCT1UgkGnr9hGfiiaIk5Z1BKZ21L1YbTj+yksLjV77GosTPYxbWKJMX8oYceKj//+c+TdN0X4jsFAC4AcFkGcgGA12/2t956y0Siw74CPtOu8JN2LPnt2YZlIlSTeSZHXrhecJX0GlG/BxgnkA0mXEue1mbeerJ9zvbw4oal8qvXq2TeskY5eUR/OWv/LaLektPj2K4G+BLsRuY02ips3ChIsoPrXHkSa9+wkKPPGMvlBC7eJAlhwMVp5wScTHdRsBmEzQuz70pbJ9We2qBYHQoAULDOaMVpK1jNKMGvaevk/f7yVY1y16tT5ab/TDbpqyld24jc8I2tZNCWfV1fLtb5GNM8YwBgFiu293GcE6VliVnYEHQ3YsQIs6ixpRPqIGJricN8ptEuf//735cf/OAHcW4j0rG02VVXXSWPPvqoeV+yCGdsXXDBBSaxUVjhfs4//3yTGplxu8suu8jVV19tko64LAUALgCwy/EU+VwFAF6/qXjQKXFX8pEbPeKBr776qtnaw2JNtYlpXvwRL+t7GKmQMbcnkIuSp7WZXSEmr0mTJpkf2mVuTU85/f73zCEPf39n2bJHaQ/SNG3g910N+GO3AACVNjgyyJPY9qkNcyCwWV/qk1d2rKC2VV04ixYYRDtJguv+iHI+O8kGixVNwR3luy6PUYcCFkBkkVT/aZxEbIaYvs9bIjLxs+ly/TPvy9NTRFY1ifTr0lbuOH6o9Kpv47IJIp+LtkHyoIsD2sRliZKsQ1liAC+Z4Pbdd99WFnLUjbHuTelMPZUlVn9iTdbBd1h8/eY3vxG0wK4LYJ1djeOPP15gmhlHgNl7771XHn74YTnkkENKXhJQTnAeIJrn5PLLL5c333zT9EWQHC7JPRQAuADAScZN6u8UAHj9JmTVzCRZ7jJ27FgBEPHyhwlmyziuNtHVPWD8jt4N1iVPazO7/gAFZTHINgUA/p8H35VH35kl2/fuKPedPNzV7UY6D32jQUrIQ9gtiOMLHOUiXp9a2oCxyQTq1ZbaPrEbQnY5Jne28tm10JTX5V5U0n4E3tFPAI809nhR+i/sGMYQ9eEZV3s8W0tsu4vYiTrS+tgG1cuWYJAN8NNVHeWH970jq5vWyIBubeX244dKjw75gWDbBYN3IM+966QWfm1RiiVG5oRLCLZrdmCd346PJuuwbdjUZx5QOXToUBkzZoxceOGFcswxx4QNl9ifq6e57VZBm2oAH7EdQUXtK0nUcdppp5nDGKfsSJ588slONcsFAC4AcOzB7eILBQDeMAEwQRastCnY7RBMVc4CG80WOgACEK7gQaOuXSe0sO/VjvZWqyyYjCUrVsueV/1XVqxukp8fuJUcu3M+W7Q2sIPRAbhkFaTk7XN1IFANMb9VW8pnTMJMULA+eQCFoDGpWnX0ki61tUmfAcan2q3RNuWWhHAfyB0IlmSLnOfJb3Gg7iK2bMKWySgoZhym7W9lWbkm9VEJxjMTZsuZ979rQPAWPdrJ7ccNla7ta5N2ReTvsf3OAhNZEYt/v2DgyCdzcCBgUnefWOwic+KZs0uUlM7IpbD9+/3vf2+YZGQdFGRtu+22m7FzGzlypDl/VuWkk04yyUMgM4LKrbfeKieeeKLZ7bN3kU444QQhFTQssKtSAOACALsaS7HOUwDg9ZuLCYCXbzkKk5taDbFtxrY6ALichW09JBC0CcBBt4zV3UEDTbJweGDyAyQwsXi38//2xnT55SPvm3TH/zpzRC6TMm3BpAwgoS1cBU0l7V9l7KZMmdJisQaQoU80lbOCJACWa4bar94K7FSrntfiIKgNXSSRSNo/ft9TOzHaiZ0DgE6cfrFlMsos8izS3zZLrNvsYXW39dma0t0ruRgzfpac/bd3pWmNyDa92sut3xkqndvVhJ068ecs7ABYgHr0plnrs8MqCmsLU097A1RpJ29KZ/23FxDbaZ29LDFBoUiCbrnlFiOd4D1L7AfSg7PPPjusWok+p57cA3KkUsk3zjnnHCN/YJza5YorrpDzzjvP7E6GxTlErWABgAsAHHWsOD2uAMAbBgD2C3JDF8gLctiwYU77POrJbGsz2F9YAMC4sr52lqw4E3iU6zPhaAIJAAJaTW8Q1/G3vyGvTl4g+27dXa7/1g5RTpv4GO0fUtFqIhQARjmLZk9jQmNxoAlT+DeTqc0S054w93bWOteexFyDxRvBZUmAneu2VJcQ+owdFFjEvLW03ntSCQbAAZbVhZbV29+ANFhG7Pe8WmLvM0SfEV+Abhx5QSl99j/HzZRzHxovcJ7bbdpBbvnOEKmvcwuC6TNNRLKhMPW0DWCc5wcwXuq5j6IltllinhV2SGBi+a2Fd2tWQasEsZ155pnGy3ivvfYKfOy+973vyQsvvNDCUOuBN998s/AZ48zF+OW8BQAuALDr93+k8xUAuPwAWBMCAHbtIDcmbl6+ZGDLu3itzaiHBmzYTIerTG56f2olxoTABA5T4feSnbpgmRxwzcvma78/8ssyatuemTUR/QLrC5NI/7AV6xrwx6k8kyPb+Tg8UBfqVGr7W4NzbECsnsQ2Ywg4TgoQkezQRiqPyTpLYlh72YF3ADsCdsrZZzwz+B4D7rIGdvS3lyXWADubJaZOLDIBdDgDRGHqH3pzupz3cPOW/aA+9XLzsYOlQ5vqsO6I9DmgHTAOsGJBF5SIJNLJHBxkg3F1UonLeHpZYiUPVDqBzG3//fc3QZAsPqIU2gcnjLCCFMobM4Kd5ahRo+RHP/qRCWgrVQC5yCTYgbPLTTfdJKeccopZZLvygy4AcAGAw8ZzJp8XAHj9ZuXlBDOSdWErFCDDpKgBHrYOkP/nRYcuLK9iW5vZgXe8BAEVTJSqNXUNKFT+geYszErsD89/Itf8a5LU11XL82ftLrXVlc6bSBlw+gj2Gwax3EFcTH6ABPrJZn3j3nxQ4ga2mu3gurBgK84DiGKc5ulbG3S/9BlbtjDRLJxYQJW7z9Bos33O85NH0hq/ttFgKLXcQ5sNONOdHd0ZCLPs4tz3vT5NfvVos3Z0WL9O8sfRg6R9bToQzDNPGykYL/fuip/kIe4zFnS8guLXX39dRo8ebXZqGK+2xWSpa+HigA43rKAvtuVzb7/9tmF8v/KVr8g999wTuiAsJBBhLZz95+VxtM/+vjaYKxQAuDwAWBkzrh40KeJFTLDEHnvskct4KWVtBnsFI60AiQmTyGIXulINKvvwww+NXRDtEab5++r1L8snc5fJ0Tv2lgsO3sZ5+8CQAjQBLWjlys0gAmDoA8ZDFNY3boPYllwacKXBVrZsAlCpW7OAKNqIf7vazo9bb/t4lWDwbG0IqXoZ1zB77GbwrADG06RGTtM2+l3AONv5jGt2DljE6s4ALDH/ti332CHwW0Dc9coUuXjMh+a0O2/WWW789iBpW1MVu4p2cCJSJ5wn4rKssS8a8oU4kock1+aekRGce+658q1vfUtuuOGG0PddkuvY32ERzzzCIh7XiSjjkCA4guWIwyiC4NL2QLLvFwA4WbtF/lYBgPMFwHaQG8FkaCWDtF5MnrBr++yzT+T+THKgnfKZSQjwwJa6Brnxm5c2UgA7kxlblrauFKAEgI0zgXFO2GW206IGlVGfYZc+b9wfLjnsS/L1wdG2DqO0DfcJyGTCQDfK9nm5rOe0vsr6smPA4gA7ujwKY9WWTdjb6PQB/2Y7HyCVlV4x6n0ySQPGNxQJhqbDpl4bggsG/QVLD9MYBMYZX7Z2nHEHww8AtqUyqh2/7aVP5fKnPjZdNGJgF6PDb1MdHQQDwhWMs4BSDXvUPnd9nAvJQ1ideGZ++MMfyj//+U/BXgyA6XonzVsHdkSwbGNhgwQiqm5XbdCuu+46OfXUU81pIQaYtwobtLCedvN5AYDdtGPgWQoA7N80gDuXxQ5yg93khR+mnyJAggkiSsaeJHXV7WIAKIyAWh+pTq2UtZnqDAFIMCZMlrwcAUJ2Wl/+9tOncm40rEnlBUf86VV5f8YS+d7u/eXM/dxkf2NyAkQB/DaENL02O4Y+ECCVVKObZHx4vwMLzaQIE83fTNz8Vk9ilU6wCMp6Ute62b61TMxIZ+IswFy0i/ccupPCM4VkKGw3I4s62OcExGpwYhwwzjMOY2xbsKl2XFniRyeukpteaU4LvNeWXeWao3aIJEfi3cazpv7Q5V5kZil50L5AI3/ssccaMoFEFHgAZ11YZCCh4z175513rqerxnJNiwauPvPMMy3/hxvFX/7yF5MIA3LkyiuvFKQbyFWKRBhZ955IAYAzbuMCAPs3sJqVu2j+oCC3sHMzkfKyIWjBdVE7L67BtiP6TYCDsr68pG37nijXZ6K10/rCJnE+tePSrXSNPAdoJpUX/PTv4+Xht2fKPlt1kxuOSZeW0w5QQvdMnaJsEUZpk6THlIv1DaqvDcbVi5nFDgy+15NYM5kpIA5aBCVtG/0ebcRErMGZ5UgdbN+DnX4aML4hbOfbrhM4GKQNTuQZ97LEj0xqlDFTmpnf3fq3lysO20Y6d+rouxChjZA6YdtH+9BOeS2WgsZb1pIHxufdd98tP/7xj+Wggw4y8oe8xipxJLzbg4oG4/E5fcEP7hBaeFf7pUIePHhw2se31feLIDj/5vz/7Z0H3BXF+f0fmoCiCDYUe4uSKKiIqMGSWBNNNBr+yS+ILWKNxhZLVLAborFEJdZE0RAramKPJRqVasFeUCwo2DCogNL+n+/A4HC99727987e3RfOfD58XuDduzt7ZvbumWfOcx4R4KjT7NsnEwHOjgCXJpSxnZ4mIYcXPL6QEOBYUS2f2MVLyEdfiFD5qG9Ma7PQnomXjK9iBuLggJk8255cP+1L8Jon37EL/j3eui7bzh48svYkQTAmMsMXPVFf/D3zbCEZL0LUFyz8Ag7yU02CAY5+EeQ9akNPYk+K60ly4ny+IEEWeuhaxp/IKLs1YMROSt7lp3mewYhoPQuWrGQqXId7v/Ch8faPcVMcdNt2mWN7r2MLWbDxXQM2JGIhtSAy3igS2BT585Zrtbo8VJsrBBrw873xxhsN/1zkD7G+y6tduzn9XgRYBDiX+SoCnA0B9kluvCBIfqmlkhsvFmxokEDE2Pr2RIZtTaKcvBghnqHWFzRiW5txTgiwdy8gyspLEKLEC4J789FhfrK9Wu0l8djrn9ghw8a5wRt9Qh9bKqUVU5hUVhSi6a3nIAqQ8VrmTMwvEYgmBAESxXYncybtPIztSUzEmagvuwd5OSqEGHtpEwvKongN+/LKfH+AUSMWdeAw6O7X7Jan37fllmpjt/f/jpNO+D88b+HClwVCI6Uypc9FIyQPJA3vs88+7ntu2LBhttVWW8V8PBepc4kAiwDnMqFFgMvDDgnh5Z22oR1GU0u9eL8NWmuJUsghSQskwaWJHJf2uZK1WUh8s7I2g+j6LU+iLOjMQjzAy0cMIcmQdMgvJDgkxaXEa9LUGfaDi55ytzrsgE2t+6odEw9VpQISiU8Q+cAw6lsr0YzcJSdt8NZdMfXQzDPmdRglTuJJzOfYNicplF0DiF3eMhXvW8u9VCsiEXt8Kp3Pa2vzsIB7+p3PrN/fnnFde+ioLW3lju3cQtd/H0LEebb9wtfnC4QJdmkXWLXgyvWJRCcpbFHL+Zmrd955px122GFOf4uGtlGJq7X0twifEQEWAc5lHooAxyHApUlulQo4pBlkSDgJCdjX1KrdC63NfDQoSZJbmn5WOpYoOC8/XnRcm+zzao0XZug0wd8h8Nx/SIh5eW11/hM2dcYsO32379jPN12l2qndeYjKkHznixHUujiperGEB/ioPBGpokQ0wQeceGlDfrMmmt6T2GuJ/Zh7yz1+QuyIkEM08y5EwtDSH6QzPqG1HklHwqnS5GHMbezWcI7JS1s7feZs63Xe4zZ77ly7+Offsy26tnWyEHaUkDyESb/M9zC5jr+zEATPkBDXIo+qBJSXfzG3s5I8cF+nnnqqDRkyxAYNGmQnnXRS7g4pMeZX1ucQARYBznqOlT2/CHD9BNi7B/hKYXy5ptW0lusFL4QHHnjARRF4KaRpSazNsor6+mv7KDhJGLXaZIX+tF5H7Mv6Xvh8C3v1k1nWt8eKNnD3bk1ijmcthIUG0cxboxnqWIsS9S1K9bRwzLFwghzRSqUySYo2pHlmkhwbEk0cJ9jlqSbXSXLeeo7h+weiCW4QzbTfFfVcu/Sze14x2l6d/IX1/d6y9v1lPnHVzVi0VHv+K/lQ+4TKkBTXsmj1ibcssghOZCELYeG47777ugU2jgs/+MEPorwHYo5PUc8lAiwCnMvcFAEuDzuRSK9bqzQw9Sa5JRnw+++/33r27JnYI7OatZlPckvr8JCkr/7aRKKQbPCiqWb1luS84THhFvofH37H7n9zuq23zBw7auMWC0WIeWHy0g0lGCTdNeW7nLYvtR7vF0xsoRch8Q5MsTdDXkCUnQVCPZKbWnEJP0dUmHkEAWbM0I2HOwMsNmmlUpkso9Wh60TeRJN7D3edWERBNGshhzHGy5/jlDtfstufm2zrd5xrQ/pumLi8b7k+8HyEUWJ2ACDK7AaFhLhatcJGSB4IVOCNi9MGCW/sUqglR0AEWAQ4+WyJeKQIcG0EOExyyzLRBAkEL9skEYtq1mZe+kDEKkaEOkSOayN3IErLFixkM+vI2LDRE+3Me1+zTu1b2/B95yXdcH1elDS2pXmJeglGEZLKvHtBUezWSJjy45a0EEnEr5+yp/IV5iBzlfyyw6INXjrB/4WexJD5GFvoPDfeLYCIJsmAeRNNH9FkvrOIol95N/py+QPj7MZX59hSS7SykSf0sZYt4hk5QX5ZPIa2ezzf7AyEhJhFkS/kQ1EbJA++YEvs7yTm3Nlnn+18co8//ng788wzc58bec+DWq4vAiwCXMu8qfszIsDlISRSypdbaeMLF1N5IlMYg5cmddU9ICUnwJMRC6OmIgrVrM3CghaxXwA+OYlEN148LAaIyDSijXn7M+t/3bykm8eO2dqW77CE+zukDrkD+mcIEdFExpJ+hTriapGjmPdQxKgvc5i5TESNaH2jxq0Srn5HhRLgLKBYSFXbOvfnYh56T2KfYMeiLPQk9hZsSc/JuTkHyYCcO2YyYD1zi3lNn5jbLBDyHrfQcm1mhy527AMfudu7+7AtbK3ls/0u4FkvjRJzbRY+PPMsFLIqi43Ea//993fyk+uuu85+/OMfRw8s1DNPmtNnRYBFgHOZryLAyQiwJ3psy/LlGiPJLcmAY4MG0UZXXK5VszarpaBFkn5xDKQAosl2NC8Zb6uW9PP1Hjd1xkzb6o//tTlzzQ7YcjU7bsd1XXKSr2wHGScy5MmRr1jHT16coaaUBD1f4rXefoWfD63EiOKzTZ3lNn2SvkMKIL7sYkAymV+xdwSS9CM8hqg9pA4SzLMVQ6MdbqFDiv3OQGlCZSW5hy8dnIejQjn8mEs+ibMoVe/AmHHje8glui63vPX6w+OuTPl5e2xoP9m4S9qpUNfxzB8SAVmQe5kXC2CeudIocZqFUNgpvk/4Xt5vv/3cQo2qboyHWu0IiACLANc+e+r4pAhwdQLso3f8JBrLl16jCAOFMNjeLP2C5Yue8pZsqbOdTnQKZ4RSh4cs5A4hqcMpIG2Bjzqm67c+evZ9r9mNoya6/z9xy2VslRZTXOUjX9mu0rUgwGHVOm+/VlrGuR5bJhYG3rO2KNFDL91hrhA9rNVdJNYYhvKCrJMBeWb8Frofe8gRBDgcd7BBD02Ej4VdI5/3Sriy2CTSyOKlCIU26OfHH3/s5jcBAWRafiHxf9eOtWffm2r9eq1qJ++yXqypUvU8ocuDlzzwPe2fdR8p9vpxFrwhKab/1b7XmUMXXXSRnX766c7mjOIWeZdxrgpMMzhABFgEOJdpKgJcHnZIHl+cnmQSvYPENDo5aPTo0c4+DKmFb3lam4WV0yC+4FLtpZHlxP5q1mzre+Uoe/3jGdahjdmw/Ta2dVZeLvUlvf2ad5rwtkwQRPD30okk48/cQXvI3ClK1BeiB6kjqplkgZAawBo+QEEWiqPkJS+AMNGHMLmOvtCIDkLIGT9IUj0LoRqgWfAR+khEk50nouJF8D8OI9Hl5tI5971uN4x6z3qsuoz9/YDN6rn9xJ8NXR7AiKBApQaJDYt0sBji+YDIlkaJQ8kY2vQBAwbYE088YVdeeaX17ds31+++xOA0gwNFgEWAc5mmIsDlYefLbsyYMS6immWSW7VBf/rpp12EhcSbPK3NfMQZi5+iVE7zeuwX3/nILni+tU2fNdd6rt7Rru3fw1q3bFkN2iZ/Hybc+Ggh+EOAQx1xaTUrokuQOrSjRYn6smBCqgKpI3rIln6eLSR1YInkIe8omi9Gwo4KyZLoapFMhAuhMEqM/jbrhR+kDDkPUXt2nohqZn3NavOCeU0kmp9EfctJVe4aN8lOvONla9u6pY06oY+1aVXfs1itTzyf9IlFCi4MaTXRobNMGCUG6/PPP9/tvkH0r776aufGc8stt7jvY7V4CIgAiwDHm00pziQCXB4sIkPo7dBI5pnx/dxzz7nr86Lx2lZIDMShUQUtvIeuXwzwEsizhXZrvOxYoPxnwpd2/O3zfH4P7bOG/Wb7taN2MYwW+igxcyRMsmLHADsxv1uQt9aXRQtaSJLK0PmmSSqLCl5wMhYRPkGxKKQuLK8MGQ+rdoX+tH4hxMIr1JQmLd+dBlNP6phfEM28pSr0HUkIY8dCgO+gSvP7rY+n2Y8vH+lu99aDelq3lZdOc+uJjy0neYiV5MuOEN97uDs8/vjjLgLP840chpLGeLNToRPCrVY/AiLAIsD1z6IaziACXB40vlx5WefdIMB8ERMNgsB4bSv9856+WRW04JoQKEidz8rPczHAWHjbLjApTeA67Z+v2K3PfGAYL13dr7ttuXbnTIeP+QFRIfGOP4wHUaNGetNWukH6hT6TBqlLUoUvU7CC6mnevYCdjTyb9z+G3KQpr0z0M5RNhOW7wyhxLQugsECKr1ZYa7JWLGzD4h9IsaolTZKcuuXg/9pcM7tgr+/art9dMVZXFpwnjeSh1ouzA3DEEUfYvffeaxdffLFtvfXWNmLECCMv48knn7RNNtnElTlWqx8BEWAR4PpnUQ1nEAEuJgH20Q1ezpDO3r17OylEo6K+3k2BbUUirES58mx+2xwdK9Ew+lRKoCjF+otrxtrrH35pyy21hA0/ePMF1mhZ9N2PEVpfooYkTIXJdZAkIkm+vKvXEme5fQ6Boj9okHHloE95L1rAgHmM/rgo1dPCSDTb2fU4mFTyJGZ3IiTE1TyJQ8s1Fi15+1bzzCDpQV4ACU5a/OOih9+0K//7trVp1cLuPaK3rdKxXdTHr17JQ5LOsHjs16+fW9DefPPN1r179299jGctVsQ5SZ8W5WNEgEWAc5nfIsDFI8De2oytWUgTL59evXo58svf+eKlZeHw4HW16A6LkizlC3xAKIlANVVq+o2PvrT/d/UYmz5zjm25Vie7ql/3qGb8frYwNmh9kUGQDEjSTak+k/GCQIRuExBkIoOhjjiW/RoRK/pE5B4ClbdUBax8JBps2DbPs0yvHzvcC8AJPTd9ih2J9uMeRomreRJ72S5IkQAAIABJREFUeQG7B/Qpb020X3BilwcRR8+eJBFw8tSvbNdLR9iMWXNs/y1Xs+N3/CZ5t94XXJaSB983rkFU95hjjrHdd9/drrrqqtw18/Xi1hw+LwIsApzLPBUBrgw7ZLCRrZy1GRngvBwhwF7ykAXx5YufCJ33OSbCmrfu0HsvI8OAONEnoqfV2vBnP7Df3/WKO+yo7deyg/vE8+gMo74QTG8/V61P/vcQoZAQQ5AZz5AQc69porahLV3WVmJJ7zOMRBdpK5+59N5777nEJqLRjYrgNeVJDFYsqOgTC7y8E92IaKP1ZRGcNjp+6j9fsdue+cCWadfa7v9Nb+vYvk3SKdPkcSzqiMqiv2dx15TLQ60XZDEL8cXXl+S3ww8/vGHzo9Y+LyqfEwEWAc5lLosAV4adbVIITyNaJWszXBfefPNNR/48MYr9gvQRVohZVlWT0mLIy4iXMNHwtEU2GLOT7nzZ7ho32Vq2MPtb/02s5xr1Szh81JefRH0hm/WOBS/2MFLoXQeICoekuJL9mk/gYgzzdCsJx9f7H0P6SpPK0s6DWMczj/xWPhHWvDXRLGapxAch5+8QcYindxnx0gkWoY0i6WDN/AMnrkmCV5pF8OsffmF7XjHaFaY5bod17ICtVo8yfI2QPCCt6t+/v3P++Mc//uEkZ2qNQ0AEWAS4cbMtuJIIcL4EGJLNly9RKZJLvGbTyx14cbMN6atYsUUa+tIm2ZasdIdcA4KN2wVkK2mENcuJGvaJ+6RPSbx3S/v05dez7OdXjbEJn0y3lZZua7cf3NM6LTmvVHLaFvaplqhvmusRDWSswyixL9YQjjv6UtwdGDv0x0Sia0m6StO3aseGOKXZNq923np+7/sE0SRqyMKlnmemnr74z4Z9wlKQKCuJbuU8ifl/yHDoT5tF/8M+UXbd9ynN/R46bJz95/VPbOWObe2ew7ewtq1bpfn4t44N+4RGG9eQ2AmBXGP48OGuqMU222zjShoXQTpUF3DN8MMiwCLAuUxbEeB8CLC38kpqbQYxCiOFECQiR76sqydHSckiUToirEQQednxIq43mlnvBA4jrDH69MqkL1xS3Nez59hqndrZ4D27WfdVO6bqZljuOVbUN00HvP1aSIghSn6ssFxDE83CKDY5SNNPItDoalmw5YFTub6it6ZPLCjoE3M870ZUnD7xLLNoYRehUmPhw7j75z4rT+LQUaFanyr1deRbU2z/oc+6X8cogcy9gxNuLyyCm8Kp1jFlLH7/+987ne8ZZ5xhJ5xwQkOj7bX2e1H8nAiwCHAu81oEuDLsfAn7hLOYg+MlB8gearU2Ky3UgDaO/qKRJZrrCTGRwpDYhjZLkCeIZt4JN75yGlKP2BHWO5+bZOgSZ82Za61atLBDt1nDBvRZo2qhDIgnEVYih3gw51EFsHTOhbZd3mEAwskfWmkZ50ZEhP1Cjl0KSDiSh6SLsJjPVOm50M2zuCTBDclDEu14lv3h3D75jr7gqJC2T/6ZDxfC3pOYZ96PP+OQVDYBwURby3cAfUpbRIL7mjN3rltovvD+57ZBlw7O+7dlC8wIa2vc37hx42oubJHkqrik7Lvvvm7n7e9//7ttu+22uQcAkvR7UT1GBFgEOJe5LQLcOALsE6h8UhdkIZa1mY8U+iIN/AwdByDERAgnTJjgIse+jHEuky64KOSNSA99reSmUG8fx02car8b/pK98+l0d6pNV+tof9hzQ+u6bPmEOl+ilyh5jEh0vf3n8+BDxJ6IIFvBoW2XL+0aRon5P+ZWqCOObb9G5BDiS7JUUbTjoeUai0sSy/Le2YC4+oIkMZPveOa97Z4nxaEncUiKSxdDfJYFJ5Xv8Pgm+S4paS6dz/e+ONmOvW1eEZqrf9XdtlqnNv/tRkke7rvvPjvooIOsR48ejvxmEV2O8cwvTucQARYBzmW+iwBXhp2XKUQiRgutzSB6nsBkaW3GyxEiTJQHkkKEGDIAGSaq6StY5bF1XhqJBpMsI5Zogs+97w27/dkP3HB2aNvKTv3R+rb7Rt9sQRc16kuyFEQTuQuLpmpROm/D5RdDEGMfKQx1xPUkWPloJpFDIqxpkqViPE/lzuETuIpkuYaEhqQyFgtEWLNOvuM7K5RMeC9q5ownxPwd7TgLvXr9hr+eNcd2u3ykvffZDNt6bWwHe9Q0vI2QPHCNM8880y666CI78cQTbdCgQancVmq6MX0oEQIiwCLAiSZK7INEgLMlwOWszSANkBRPfvmZhbUZd4bMgsghpIDIIQ1CBDmClPvKZSExSmPBVct89H61kAKkBUgxGtXuf+lDG/ivV23qjFnukrtttJKduuv61mrOvBK9YFKUqC/4sI0P2SytepcGrzBS6KPERLd9gpWPEiexX2M+k7RJdcCY0cw091N6bGgDV2sCVz3XL/fZUK5CkiI61iyS16r12y+GvJaY7wPmVbgQ9kl2tSyEh4581869/w1XffHWAT1twy7pyx6HkgcWCbF9mcGIReR+++3nnvHrr7/edt1119x3BqqN3eL0exFgEeBc5rsIcHYEuJK1GS8lXtreYo2XUextWqIdePryxe/LGJe+4CAz4bY5f6df3oLLk+JYGmGux7Yr+rs8/WonTZ1hJ93xso2c8Jkb/JU6tLZfrvW19VyjdteJ2A+vr8SXVYTVJ1j58WdRwnwkkhsuhsKxh6igF+U4or55VwcEc/T0RFiJZhbFBg5sIVosXNL66MaeR/58oQyD7wN0wownf7zDTGi9BymupuX+bNpM+9FlI+2z6TPtpxt3sXP32DBV9xsleXj88ccd+aWwDxZnuO2oFQsBEWAR4FxmpAhwZdghbGwppm2efJJgwcuGyCtR1TDim1XUl/NCntgyR1LAFicvuyQttODy2+fcv98+raeUL0QLUsD5ICpExfJsJO5c9dibdulj79jsueb8ggd8fw07bNs1qybIZdnvcOHSyEp8pWMPMfJJlZAhxg1C5yOsWe8SVMOYeU7hFuY5RJx5HmuhVu3aTf2e54ZFAtHerKKZafvH4oCkskoyDL7nQus9P/bek9jvELA48gv1UROm2Il3vGyTpn5lS7RqafccsUWqkseNkDxwXxdccIGdddZZdsQRR9jgwYMzlVmlHRcd/w0CIsAiwLk8DyLA8QhwWmuz2FFfNL8QAiLPVLki0lFrYguocD9oGMPEOrSkEI3QaSJ8MZaiyUsIvSF+w97LswjkicUJiUlTbGm75qVZNuHTGa7r3bsuY3/Ys5ut3rl6xbnYD6yXqxCpJ8KadOESux/h2LOYYuwgLDSIXZhYl8ZxIFY/6QvSkCIl37GAYHeDJFNs6UgKrOfZi4UViwSwQvPPwjOJzr7Ueg9CzPcA83LJDsvYv942G/7y50aJoNYtW9jAH69ve22ySuIue8kD3wMU28hC8sBibcCAATZixAi7+uqrba+99oq+y5b4hnVgVQREgEWAq06SLA4QAY5DgGNYm9U6vl5vCKGDjPKiy+Kl4rWkISEmusSLLCTEnhSRfEfUl8/RpyIYzPtx4iXs3RSmz5xjgx98w24e+74bgiWXaGWn7Lqe29aNvUgpN8YsEnyJXhYtLF5q0WPWOn/KfY4xY5GA3pdxY/z4Py+Z8BpySB7jHZLiLLWu3rbLR1iLkHwXyjDqTSqLNYbMKRbDEGDmOaS8nrlM9PjZtybb6fe/bW99Nm8x1KX9XDu4e1vbeLV5CbX8IWpc6TqNkDzQr1GjRrmqbpD+W265xS1G1IqNgAiwCHAuM1QEuDLsRHV85KvSUf5LHaIAESByF8vaLMmE8CWD2cLki37VVVet60WX5JrhMbwYQ0LsbZggKESLqQiGw0M1PWHa66Y93i8SGCe29MtVvXvo1Y/s1LtedZpG2q7fXdFO+9H61rF9m7SXS3w8hJItc1pRdLWh5RoaVmQP5UhN6Djgk6zC4ixJSFFSoHgWx48f7/TjRYqworEnwsqcKooMw5d9BjMirPXuJCAXunHURLvg3+NdURlav15d7cDNV7AZX3xTtZDvAiLM4WIIXTGLpEZIHrjfIUOGuOIWePxefPHFVR1Tks4/HZctAiLAIsDZzrAKZxcBrp0AJ7E28wlu9URfyvWQL3u2piEFRDogmWmN9bOYcGyZ+6gvpBeCDvksTaxLshUbq3/lor6VxuPDz7+yk+982Z58c4q7fJdl2tpBW69hP+m+ki21ROtYXXLJhp7QZVXmtZbO1lNAgnvCXSKMEkOKvGTG7xI0JZkp12fOySKBc0Eyi7CTEPoNs/BE6x/7GU87fmHUHmcVHFbqlRvxPPz+zpftifnPwwodlrBzfrqhbV3i9VvJaQTyS0CA7wEftc8ieZIdHcoZP/DAA3b55Ze7CHDe45F2/Bbn40WARYBzmf8iwOkJcN7WZmHxCCJ0OCrk/WVPhIdt/Pfff38h1wmfXBV60kIefJGGMLEu9gOQJOpbdnExd64NHfme/emh8TaTDDkzW6Zda9t7k5Xt/3qtmirZp9z5vQ0cmBWF0IXJd7EKSIA/i4/QacRrScMoIdHTcpKPkNCRNAmha+TCqdJ89G4Y/J5Et3ojrDHmfeg8AU4xSps/+PJHdtq/XrH/TZ+XCLzjBivY6bt9x5ZdMtmOCH1C/4+UhkWQ91X3SbV+DpRWq0yLBwl+/fr1cwT75ptvdmNS5MaCjoAFVoKjR4+2nj17Frm7DembCLAIcEMmWulFRIArw84LmKhT2MpZm/H70OGBf2dhbQbxpnITiTYrrbSSs1gqAiEgGYltYKJNEDoITaXmfUlD2QQY+4xzT4ghyPWQ+nAbv1ZpyOsffmFX/vdtu/+lj1wpZRrllHfYcHnrv8Vq1mPVZVL1MfSrzdMGrnRs0NVSjY/xQ4ZBtD6rxlj7Qg3MgXIWXBAjxp4+cUxTMoys+lnuvMxdJBiQOggm/ao3whqj/ywwsIKLlVT2xVez7Jz7Xrc7npvkuocm/ve7rGd7dE++0PaEnO9LT8hDT2K/KOI5hbiGZbxZUCTRwHO+6667zo499ljbY4897IorrijEYqTamJ5wwgmu3+y2iADPQ0sEWAS42nOTye9FgJMR4DytzeghRABpASSYFwra2rxbGDWstSiCjxKGhJiooXcb8ITYawmr3TPnIwqN1pfPQMjrlYbgGzxs9ES7+en3F0TD6MdGqyxt+2yxmu3UbQVnBdVUI+rjSz43uvhHpX6FDh0k3xH5TUI8qo1Bmt+XWnBBjLz1IHOAfrGdX2+UME2fyh2Lnh0ZBoSd8StC+dyQkMeS0Tz9zmfO3ozKbrRNVl3Gztuzm63WKbkriq/Ix1yq5vIAAfYLIsae3S1a6EnMgqjU4o6dhKOPPtpuvfVW+9Of/mSHHHJIIVw3qs0zEhOJ+GLPRp9FgEWAm5ozFJhRyxABEeCmweUL2ie6EG31iUq8fPhDVI8/WWl9IQPeIYAEN6KZRYg6Eb2oxWs4yVSGbISEuLRqGaS43La5j/ryWTLfYycETp852/45brJdP/Jde/PjaQtuZcWll7Bf9uxqfTdbxTotucRCt+iTJIkaFmkbHyIHoYOAskhAR553oy8Ub2FrGKyY55AiHyX0W+aMf9IFUYx7YoeDxQu7Ejz/9S6oYvSJSDrjB3kkoZMdoXrazNlzbMhjE9yOB5sd2Jvhif3rrVdP7IvNXH/33Xfd4rPWinyVPIn57iXBbZNNNnHfgeeee66T11DYolevXvXcekM/u9NOO7lFwW677Wbbb7+9CPB89BUBLj8NRYAzfjxFgCsDTISTFTrbeETHKExAUkcod+DvWZUx9tICIim85Hjx59148UJ8SXbDrovIb9Z+p2HVsnDbnK1ST4YhSSSVQYzAiohhVo0xJ0kOIvz4G58uuEzb1i1t941Wsn22WNXWW7GDS/yBOHnNXxG02vQdCQ1YFUmGEToXlLphMLahjtg7jYTb5vw9tv1aaE/XyKIk1eYt30eQX4g4etd6CfmET6bZCcNfsuffnxd9XXO59vaHPbrZRl2TFdDhM+UkD9XuI8nvvScxOuKBAwfa2LFj3Q4Pi6Pvf//7tt1229lWW21lvXv3zlS6k6Sv1Y4hWn344Ye7gMbTTz8tAhwAJgIsAlzt+cnk9yLAlWHlyxdtHZHE0NqMFyO/yyrqC8kkEkaUFYLJy7fRW9OlqHC/RMLpFy9cooZ5ebCCv982hQzwd/pHlIjtci+baIT12psff2k3jHrP7nxukuEn7Nsmq7S3LZadZlut1dG+993v5m4DR788IWf7mG38eqOGMb6Qwm18CDnJQdV2OLz9mt8lYPzZhWE+hlHiesafRQvPPteCkBdh8RkW2/CSlVoXn7PmzLEnxk+xO577wB5+9eMFyZ7/b7NV7Pgd13W636QtjeQh6TlLj2MRdNJJJ9m1115rJ598sm266ab21FNP2ZNPPumCFERU8fwtauPZY24PGjTIDjjgAHv00UdFgEWAq05XRYCrQlTfASLATeMHGfVyB098s4r6hiSTlzckM8uEpKQzJ6wwRyQcy6daX7xJr1ntOLDC5B9CzuIEQuAjhRAjX8Y3LNCRpY4U7+Dbnn7fbhz1nk36/JvEyTU6t3cR4Z927xLVRq0aPuHvvS4arIpUNpjxIpJJRLceXS3EkHOEUeIwsbJcKd9K+HnnELBCZ0+/YkeW04ydP5btfrCCSEHIa7WCe/3DL+3O5z6wu56fbB9/8c087bxkGzvrJxvYdusnL1EeQ/KQBAt2LPbZZx+3AB82bJj16dNnoeRTxpqxZ/Fb1AZpf/DBB23kyJHuu1MEeOGRUgRYEeBcnl0R4OoEGOKbtdYXMoCTAhn5RSSZWVaYSzvxQ6zQA5ZWufLbpqGOmM94k/4wsa4ep4lSkskL+sWXX7FXv2hnj3/Y2sa9/8WCQ5Zu29r23nRl+7/NV7Wuy7ZLe8s1Hw85IHmSSHkWuuhaO8buBv1igQehqydaW9oHn1gJKfJzwFcsLJVNhDsrYMUzSBldonWVCoDUes+1fg65EVIaX2inNCGs2nlZnN3zwmTn6vDCfJmD/8zGXZdx7g4/+t6Ktky7ZPZmfDYryUPpM3XPPfe4ksYkjt1www2F2LWohnfp73EO4dkbPny4k2vQ/vvf/9ruu+9ujzzyiLu3vHbT0t5LVseLAIsAZzW3mjyvCHBleNBJUkd+yy23tC222MJFGmNHPnlZo29DF8YLLmv9atJJRsQJMgCBKEcyk54n5nFh1DctIYcAh4Q49KP1hDip/VLpPYXEad11111QFGHcxKnOT/j+lz5cYKPWsoXZtustZ33WXc62XLuTrd6pfSortTR4+qIkSFZ8hcI0n8/iWCQFaMhZLIAVkftYi5Cm+uujhD5K7O3XfBlnZBckcEEu0dVmUUo8LZ6hBjmtN7OTOLzxqQ1/bpI98to3Egf6QNLmTzbq4nYl1llhqbTdck4YeO8mcXlIffL5H4Bgn3766XbJJZc4ycNpp51WVRpT67Wy/pyP9la6Du+WESNGZN2NQp9fBFgEOJcJKgJcGXa0ZVjt8BPyhe6MFfzWW2/tfvLyrOflDQkjCobeEJKJlVE954sxgfwWsC/tXBRCjjMEWBEhD0lmrfccEiKIsbdf8hFCn1xXbfsbkslCwUtWykVyJk/9yoaNmWg3jZ24kI0afScavNXanW2rtTvZFmt1smUjlF0Oq5QVKXnLl31mEQkhz7OARKgjJ6mKBR/NF2nw45+lbKapuct3AxpkiCCEPGn1NLyrhz87yf75/GT75MtvJA7Y9O2wwfIu2rvl2p2tFSuxlK1RkgekTfvtt5+TNw0dOtRwTsj7ezElVAsdzrx/9tlnF/o//s275S9/+Yttvvnm7t2yODcRYBHgXOa/CHDTsPvtVFbo//nPf+zxxx93Oi4iitjZkIkMISZKjHVTki9q5BRsixFh5jNst8bcAq51IrFNDMkkwsOWXVEIOdFCooZE5dBFZxGdgxCFGlL+zjiVlnD228+hB3JSNwxs1O5+frJLOhr19mc27evZCw0VlOR7qyztCAqEuMdqHav6C5eOtSeZzENIZlNFSWqdJ2k/B44UcOFPLL/atH0odzzzHV0t5JeFHs9gOAdC2YzXETfCfg1CznxH50u/qi3CPps20+6eL3F48YN5Tg6+dUfi0KOL7dJtRetYx+KqUZIHoqX777+/+/5B74u8aVFs0gAvPKoiwCLAuTznIsDpYIcQE40cM2aMPfbYY+4P2ciQRsgZkWFPisvZXqHFJLpKBBLiS+JGEtKcrpfpjvaRHWQYRL5I/KnXWildD8ofDc5EV70NXaO2y+mNT6wiOuylE0RWiQiCDZnvEBOic7WQzK9nz7Fx7021p9781FmqPf/+VOe/Grb2bVrZ5mt0dBFiSPG6KyxZca7QXxZULKy8X3TeziHcSynJLEIBF/pFlJG5BbFloVCuomJpGWd2aohel+4SVHOtSPoseHkI+uhqem18e//7xqd257hJbkHlKxVyLSdx2LiLi/auvXx6iUNpfxsheWABOnjwYOfve9RRR9l5551XlfgnxbWIx4kAiwAnmZfp92mSnFXHLEBABLj+yUB05JlnnllAiElw8NpZL5lgiws9G/6P6IqLUsY4lGHQJ0q8FoGQe8s1CGdWUd80I88iASLA4oUoIeSSlzYR4dBpAglELfj9b/pMGzXhM3tyPiF+d8q8LfmwQWy2XKuzbbVOJ/dz+Q7zim5AzIhksmAAK3YV8m6h8wSLKiKZaZO3sriHUIMMySxNoGzqmjznYdUyb79WWrWslt0cJDjoamnsLFVyf3lt8hdO1/uv5yfZJ1/OXNBdPKh/+J36JA6l9+7zE5Ai8L3Agj2LRRV+57/+9a9dUOGaa66xPffcs6ZnKIv5onM2BgFFgMvjLAKc8fwTAY4PMMQI/R7RYSQTDz30kCMpaB632WYb22GHHVyUmK3z2El1Se+GiOE777zjooZstRZFhgGJY/uXTHwSfxoZ9W0KOy8t4BgvLShNrPNOAyEhZsxrGeP3pkx3kWEI8Yi3ptjUGbO+1b31V1zKvrd8a+tiU2yLtZe3HhtV3y5POj/qOS5MCqwWyaznOmk/6/1qGQ8i9/VaDIa7BF46AUmGAHsNMT+R7FRaFIW6Wkgmi1AfUf7y61n26qQv7MUPvrCXJ31uJFWGFQi5/x6r4uKwsu3y3RVSuThUw85LHngO2RHCESN2496Rk+27777Ocu7mm292+n61xQ8BEWAR4FxmvQhwdrDzUjz++OOdefuvfvUrl+hAQh2kmIxzXnjoh/kDIYaE1kKW0t4BZBxbJbZ4eeEWpUKZL6+cd6GNEE8WM2+++WYiaQHEL3SaKK1Y5klR2i3z2XPmGtpOyPBTb06xZ97930Jb3vR3iVYtbJPVOtrW66Af7mwbdOlgLVs0Pn6AXIW55cuGF8HeKax+V2uJ3iTPmLffC3XE4aLI64i92wgkE6xI7Fx9nfXtM+vgxpk/L33wub318TQrUcW4bqy0dFv7ycYrOeK71vLxKx56yQPfRUSjsxhDFg+XXnqpc3egMMRFF11UiDyIJOOsY+IjIAIsAhx/ViU4owhwApBqPOSyyy6zyy+/fIGVmj8NL0oSgtCBQYaRTLzxxhsuEus1xBBiIo1pyVJTXeWlg6k8hA7tMYS7nPaxxtut+WM+YshWqI/6NmIhUK3DEAGkBWybIy1IW3yAz3ky5Es4M/aliXVpxsDNnXfft7tHv2ZvTlvCXp/ayt785NtyiU5LtnEJdWt0XtIoxrHmcvN+rtyxXU0OANWwYm4xh9lVqLdKWbVrpfk9UXpIJmOJDKPR1e/Y0Sgt4zxtltnHs9vZG598bROntbTJXy9h73z2VcXbWm6pNtZt5aWtW5elbfM1lnVuIbW4OFTDrVGSB/A49NBD3c4YLggEB2qRDVW7H/2++SAgAiwCnMtsFQHODnaih5CgatpH/+LxSXWQYhJ0SLbBXcJHiHv06OESQ2p5WUAAIAI++a7RRKASykR9udciRX1D1wKi40TJq2XiJ5lFnJdx8FFiiADzgy3yUDZRKQGRsUMewkIhtILDZu2pt+Yl0xEhDu2vSvvVplULW61T+wXEeI3l2tuakOTl2tuKS7etKWrsywYT0WTR1rlz5yRwZH6M90EGXyQPtWhz6+0kDg1Ec11Ud9Ln9uL7n9t7n82oTHaXbOWI7kardrRuKy9j3115aZfUVsszn6bvjB3PIXMrK8kD/cH+i6pufCdSupiFpZoQEAEWAc7lKRABzgX2Ji8KIeblHRJiEmRICMM03RNiKgjxImnq5QjpIuJL5BcyhyYzTcQxK3Q8meM+ixT19fIQIocQgSzLqzLOXC+UTYQlfH2BDgiclxYw3pDMStvSnPO1D790uuHxH31pEz6ZZm9/Ot0+CsreVhrTdq1bOiJM1Hj1IGrMv4lCls6z0D2kSGWDWXiSrDhx4kSns8cLOWsCCaYsPDzZffkDtLuf2/v/q0x2uyzT1rp16WDrLtfWui45x1Zs85W1mDHVJTOWVi1kvLPaFWmU5OFvf/ubHXfccbb33nvbkCFD6tZgZ/XdpPM2HgERYBHgxs86Mwo8lJOZ5dIXXbQ8AgwRJInIMH8gxrhJII/ARN0TYshxaNyPPRsRRj4PmSuKBZWP+hKRa4rMNXI+gBHb92zj46IAXo1eKHjP6ZAQo9OG+LCQIbLKYqGWxDoSqt75dLpN+GS6vf3ptPl/n0eOp0z7xk2gEuYd2rb6Jmrcub117biEzZryvrWf9YVtttEGhXAPoe8+Gs28T1NAoqm5hmXd1OmzjJLCuHX8b/os95N/E+F946NpLklt0tTKMoYuS7exldvOtHU6L2HbdV/Huq/e2ZZbap6LR9iYAyy+QtkE94T7QmkZ53rlUY2SPND/3/72t64UMFrfgw46KDMy38jvDF0rHgIiwCLA8WZTijOJAKcAqyCH8uIiwerJJ59Ls/HKAAAgAElEQVR0xTnQEJNcR+SLRLtevXq58sp33XWXe+H0798/yhZ+vbcfRn2TFo+o95pJPk+iEvIQXtTooouQFEi/vWsBZI5oMP0sJUM+sa4ee6qpM2ba259MtwmfTnM/IcXvfDrNkeXPv/q2+0Qpph3bt15IRoF/cbs2La1d6/k/5/+9bZuWxu+w7HI/3b9bWtv5x9WTtOfJHJHfStFoiGwpgfVklp/lCC7/X1qwpNqcQmKCdKHbyh1sw5U6WLsZH9mUSe/ZmmuuWZPzC/KEkBATseV+iQr7XQIkNNWkVmG/mVMUvcla8oCsAskDz/5NN91km222WTX49PvFEAERYBHgXKa9CHAusEe9qI8cYil0/fXXuxcNW764TJBw5SPEaarVRe2gmZN08DLkJY3ur14Lqhj9C8s+QyB8NbAY567nHKEGGdcCZCs+2heSIZ9Yx7WICoc64hiaZbfzMG2mI8REjd/66Et74Z0P7Z0pM+yTr1rajFlxN48o1+uIs/vTypBkfPNz/t/nE+Z5xHkekW7dYq5N+XiyTfl8mrXvuJzNbtXWPpsfpf3fjPnR2mmzjEp8MRpVhJdp18Yg/lRXW61TuwVJahuu3GGBHRnRe+wQ+Uk0OpY22mvJQ1LMvEA77p0m+FnJfq0RkgfmDt9DRx55pO24447OCQeyriYEyiEgAiwCnMuTIQKcC+zRL4pu8He/+52zFjr44IPtjDPOcAlTpdXqIHmh9VrW0U4iPxjpI3soUtSXbWYiYJCIopR9ZlJQmATnCfrHWFWTrRD1D4szcD/8H9HBkBDXmwAGaYLMQWy8DzK64rfna4y91vjTL7+2GbPm2IyZc2zGrNnzfro/s8taekV/EFKcMCSyy7b/htBCapedT275O0R33u/n/X3pdq2rJgsy35lfyBYqVZpL0dUmD2VMmDchIYZ0swji+j5KzKKTMstEyXnusypswdzlu4jFOJXdjj76aEkeYg32InoeEWAR4FymtghwLrBHvyhRof333995am677bbfOn9Yrc5br+E/ipuAJ8R9+vRJVRmr2k0UNepLlTkWB5BEyEkRyj6HW/jYrUF+a9EgMw9KE+tKo4MQolAr3tQ4hh66pYUaqo1/+HvOM3P2XBeF/WrWnHk/Z87/6f49x74qIczfHPvt30Gop3wxzb6Y/pXNbdnG5rSYJ7foOD8yu+yS8wlru3lRWvfv+X+f9+/W1qFtdSKb5h45NkzA49nKq5BLaL/GTgFzwqd7oHGnXDYLpBg7BSFGJNwiuUJaMWzYMOdvXrSG+8SNN95oY8eOdR7M6OqxZSNwkFWiYdEwKFp/RIBFgHOZkyLAucCe+0V5URNpREPsk+uIWq2++uoLJBMQY14OaV8KEC6ivhBNMvD5k/YcWQAUVigLbcSyuFaac4bRaCzXkD3Eci3wxRnCxDquV+oyQHSw9JpEEZkjkKc8PHQrYYgWmmg098ECJq0/c5qxSXOsT8Dj2ULyQPS1CI18AezHaJBf8GPXwO8UhFFidgpqmXvMs3/96192yCGHuByEoUOHZuqgUg+uvXv3dgsTSi5jB/nII4+4SDWJen/84x/rObU+WyMCIsAiwDVOnfo+JgJcH36LyqeJHLI1CiFGNkFiHa4IRP0ozgEZJkJcrVodkR+2fn0lsCJofRkj7wlbJL9h+uUdMdBroo0mMpt1Ky3hzPY5SXShZAKSxHxAW0y/6pVQxLontvCJ3hPFpl+1RMlj9cWfB/Ln+1UkOzivcWcxCtHD2cQnS/qdgrBQCwtENPqhjrjcwqgUPz43cOBAo/DPqaeeaqeccsqC68TGOsb5+I4qlRYdc8wxzpoNPNIkE8boj85hLLoaX7ayGQAvUDIeJBHgjAFupqd3FcfeemshQhxWq/OE2Fer46VC1Tv+v0hR3zAaXSQNctgvouw4BOT1DoDAeCLEljARQxqLBYiTd5qIvV2e5tHAtYAkShYy6623XlSpTpp+lB4b9ovofdeuXXMbx7BvaV0efCJtqCMOF0aeFBMtDh1HcJvZb7/9bPz48XbDDTfYDjvsUIj7TzumRKyRbrCQYdGv1lgERIAVAW7sjJt/NRHgXGBvdhf10SQvmSBK7KvVEVkiykS0kG3QRhUeqAaiLx4BcSNaSP+K0CCZ2K5BJNgqL0qUHJkEkgfkKmwRhzpSIoalJZwbFSmDlPl+FQkvb1MHXhtvvHHF4iSNnnMsYCicw4Kqnn6xMPIJlt5xhDkxaNAgZ7cI2b/qqqucPAa9L7ri5toGDBhgt912m1tg1WMp2FzvP+9+iwCLAOcyB0WAc4G92V8UQvz666+7xBFIMS9BtszZkkYDSPIL0WAKdVSrVhcbDKJf9I1KYBC5WnTMsfvE+dBcEkVHWoLWGh1yEV62YbVASAwR1rBf/B5SFeqIwRi5RmkJ55hRbL8LQWIVZAu3jiLg5YumMMfQaxP5LUq/mPNe8oBcqd5iGeFzwPwl4nvFFVfYo48+6qQoEGLmMfIonncScPl3c2pjxoxxJeeRcSDfUGs8AiLAIsCNn3WqBJcL5ovCRYn+4u8JAaLEKQb3ROp8pTp+Uq0OYgAJRkfMSxJyXMmfNAYukDSiqzTkGfSvCA0bMaKYkAii0bE8Yeu9t9B2jX6RJFWtedutkBBDhLx+1Ntu4bJRKyFGpxwm4GVZkrra/Ya/JyrK/OLeWfRhJ1aEFkoxIL4xEynD+yNCeuCBB9ozzzxj11xzjSO7FOQhZ4A/lGfHZaG5NBJ1qaDJwg9Sn6fMp7lglkU/RYBFgLOYV1XPqQhwVYh0QBkEIDx4Dh9xxBFlk0YgSWTFP/HEEy6pDkIcVquDEBMl5ifShFqJku8axBIdItHVclHMvAYxtBGDLBEtLMJLNkyQqsd2DVx9+d6QEJNER/TRa0chxUlLOEOyIJlILljEFCUBD+kKpByijxSjEQmLSeZtLMlDU9dijCG66H0h1xS5QFNf2li4FGW8qmGHvGO77bZzbiKQ96K4iVTr96L4exFgEeBc5rUIcC6wL3YXDavVeR3xiBEj3MsHMuElExBiopBpCHEYXSUqV5QXmS+xTJQVnTQJZUVoRDFx6kAjnVXiFtcICTEkDa0sSVReNsHfwy16FjFs35OIlHdiYDhOzF1kGCSFeulKEWz9Sl0eYksePAZIYP785z/baaedZgcddJBdeOGFzd4pge+dnXfe2UmlnnrqKSeVUssPARFgEeBcZp8IcC6wL/YX5eUNSUJ/5wkxESbIbNJqdWHJYDK30YgWJboKiYPMQfaQFjQqYazaxIL0hlFM5CiNaGzRE3GDFPuEKuaAT6wjaoi+lP8rkoduKMVgHKtV5msEllyjUZIHxgpvX+QBaH9/+ctfplqcNgqPNNcBu5/97GcLqmSSKKiWLwIiwCLAucxAEeBcYNdFyyCANRiG/Z4Qsy3pq9V5yQSRYqJw6IsxrSd7m23yImlEfXQVQo4cI000O6uJ4RPw3n333UIkBrJ4YbEDwfrggw9cKV8asgLkEl5HnGeVPqz9kGL4ioFF2doPJQ9ZumLwjO2zzz5Os4+ul12MRaGRuHvllVfa4MGDXV5C2Fh8F8UtZlHAOuk9iACLACedK1GPEwGOCqdOFhEBX60ODbHXEVM4ArILcdpkk03sggsusB49ehSi0lxYbANS3qjoajXIIUxEfYl80S/IZRFamFDG9j3R4FA2we8hnaGOOMsESo8J5JytcRYLWPqhdS3CIqaRkgcS3E444QTr27ev8/dmEbCoNDy333777bK3Q1U4dMFqjUVABFgEuLEzbv7VRIBzgV0XrQEBSAlbsDhQEBFGYgBJIbkMC6ak1epquHSTH4FY0hcimUUqAhLadaE/hmQWQSICmF6KAcEtl1DmNeMhIaY0M/0PCTGkOaYe15dZJsmTxUJR3DoaJXlgsXTkkUfaXXfdZZdccon9+te/LgT5j/3M6nzFQkAEWAQ4lxkpAhwf9rFjxzq7L7ZvcUJQqx8BSC92attss41dffXVLhM9rFaHywSSCUgySXD4eiKX4A8EK6Yfang3vkgDEUIIE4ldRWhoV9m+R2YA8S1KdSuiq94LOa1HM6Q0JMQ8W9jslSbW1erJiyUW8pUilVlmLnnJA39Hr5pV4RTuvV+/fs6qD5cHil2oCYFGICACLALciHn2rWuIAMeFHVJGdJKMcV7QIsBx8AVXqszttttuFSNSfos4lEzwUocg9e7de4HTBNIJIon1bGtD5LBdYyu1SLZroO2lGMgFIOV56mjD0Ufn+/zzz7vkxxjRVTTjYelekuxoaDjDAh3Vot4QPoo6EMFHt73aaqvVNTfizPh59nK+sAWyHzS4WSzkuA6V3I466ijbZZddnL9vUfyzY2Gp8xQbARFgEeBcZqgIcFzYr732Wjv33HPt5z//udtCFAGOi2+as/FihwwSHSaxjggxJWIhhETokUwQIca8n634pISYMUVTS0QyafGINP2u9dhQilE0GzHvioGkgEQjKgbGbhBZX7rXE2P+D/1qSIjDZDaiq5ByFjREV4uSAMVYQsrRvGdZ2AJZyXHHHWc33nijSwpD/hBTUhJ7jHW+RRMBEWAR4FxmtghwPNh56RJBggRj73X++eeLAMeDt+4zQYh9tTpfsc5Xq4MEe0JMZahyyVZeU8sWPnZYEJMsiFwtNwrxg8gVTYpBlBb5Co4KjXbFgNSyWAllE/SHBRCEmPH0SZWQ8iyiq7WMZaMkD8xjXB7A5x//+IfbuVITAnkgIAIsApzHvOMlMDeXCy+CF6UqGtvi9957rw0aNEgEuOBj7KvV4T/sI8SjRo1yGkhkEj6xDmIAgTv00EOtf//+rgQ0iXdJI8ZZwuB10BRqQBdNYYtaNbCx+8liA1IOsUSHnbeTAFiR5Pbxxx+7ioHopGksYsIIMRrbPMaW/hEpJ/KbteSBJDfmM1r5oUOHJiqBHXt+6HxCwCMgAiwCnMvTIAIcB3b8a3mZPPPMMy4yKAIcB9dGnsU7D0CCMf4nSkyVKIgShSywT2KRgw45bbW6LO6D7WukGGhriWAWxQs5rJxWNH00kXJkMJ6U8zOMEIMlC4jSEs5ZLypCyUNW1fmYg+ivTz31VBsyZIj7jjrppJMKs2DK4hnROZsHAiLAIsC5zFQR4PKw86IkKaZaw/aKCBKG6myd40tLEwGuhlzxf0+kkCpY//znP22nnXYyts8p38zcgHASGfayCVwWGhU1hGDiWIC0oGiV5kJSXqTKaWBGwiLb/l27dnVyjHKkFoIYJtbhokErdZqolliXZnYj04CU08csXR6wDNx3331twoQJTvP7gx/8oGFzNg0eOnbxQ0AEWAQ4l1kvAlwe9r/97W+2//77Vx0TIr5sWR522GEu+uttsM477zy79NJLXXlXkm5iV5GCaN9www3ObQJihlk/FY4OP/xwvdSqjlr1A5BBQEZY3IAzZI7mq9V5pwlfrY6ks9CLmGp1WRDiUFO73nrrFcaxAGzQ0+K6QSIZeMWe89VHrfwRkFoi5X7hgidy0sY8CAkxf0db7Es4+4p1tZS6bqTk4cEHH3SevrhvQH5ZBKgJgaIgIAIsApzLXBQBrh92or2nn356xRNRUQlCHLOddtpp7iUM0YCkPfTQQ/aHP/zBzjrrLDv55JNjXmqxPRcLGo9vJRAgSPjt+vLNyCaIzkKAfflmiPG6665bd3Y9ZaG5VlE0tR4TMKAQCPrVIrlP0D9fcIPEN3TI9VrCQX5JUgtlE8gXKOEc6oi5TlMLoEZJHrjOOeec4/IRcHvg+6EoyX6L7ReLbvxbCIgAiwDn8liIANcPO1uK/AkbEWTM5EmIgwwRoc26/epXv7LRo0fba6+9lvWldP4KCPgyul5DDCEm4YqkOU+IsV7D0zWp3VToOYxHLWQ6a01q0gEObcQgmEUpBAJmJAbyXKYtuJH03jmOKC664ZAQY4/HopTosI8QkwDoCXGjJA9E5A844AAnr+D7qCkP7TT3rGOFQGwERIBFgGPPqUTnEwFOBFPqg/LQAOPhiV4VWYRaMRDwLg2hZCKsVufLN1eqVueLR/jSvFS5K0ILyyxD7kn8LEpkMdQhs+VPwmKjGriQNBkSYpwnwIYIMYseHEWw0WN3IQvM6APSHCRcLJiwOCNXoYiNxTrfWywUsR6k1Dm7ZfVG6ot4r+pTZQREgEWAc3k+RICzgb1RBJgtTl64bMETAR44cKAdffTR2dyUzlo3AtWq1XkdcY8ePezPf/6zk7ZACLIqHlHLDUHGkWKgqS1SmWXuhcIn9A0dMuS3Fm1uLZg09Rk0yEgxWJiyoKFBhEsT62KQYSLfF154oZ1xxhkugRPpQxEwKIcPemrGiAg9zhSM3THHHOOq0aG7V1t8EBABFgHOZbaLAOcCe5SLktFOIpRvp5xyip155plRzq2TNAYBCDERwbB883PPPec8cyFOe+65pytWgMNImmp1WfUeZwwIZixNbax+QvyIJpJ0WjQdcqnkAexYPBAl5g9OE8yD0sS6tEVW0IiTCEv098orr7S+fftmkogZa8zIWYCo487ho/R///vf3UKeZEpkQmqLBwIiwCLAucx0EeBcYP/WRdPYrvmIDpE4Cg3wgoVAESk8/vjjm0zIK8bdqheVELj77rvd1jXa0e22284gw2PHjnWa3yTV6rJC1mubsdLCDxlNe1INc1Z98uf1MhEcMpCSIDUoSps4caJziUHyUKnaHNhCgr1sgsgoOztIAkoT6yrdF3OkX79+Lqp8yy23uIIoRW/bbrutu78777xzQVf5TuMezj77bDv22GOLfgvqXyQERIBFgCNNpXSnEQFOh1dWR6exXWN7vFzDGg3HCaJg6DJjNDL8OS/EjKgML2ZIBlKLH/7whzEuoXPMR+Df//632/7FxYMtYbxmq1Wr84l1/IQ4ZGG95gkmEWm2rDt37lyYMfOV0+gTmtqY/rz13CTPDT7NJKKlLWzhxzzUEYM9OwAQRuQdROL5HmC8r7rqKjvxxBNd5BTZDMS5OTQKt5CkV+qQwzhSVOjqq69uDrehPkZAQARYBDjCNEp/ChHg9JgV9RM4D2y//fauelnv3r2jdJPoMtW8MNCnBDAEwztcUE6VzHK1OAgQCSTiSxnmSs0nWY0cOdLpvon883cSvyCnOEygI4YQE3WshxB7vTIWZ2xRE8EsCsH0NmJYzkEwmaP13GucEZx3Fi95YDzxkoaw1tN8hUJPiHF1wNOX8+LnS1Ll7373O7coTSubqKdf9X6WuYRkC/IeNuYw5Pj222+v9xL6fDNBQARYBDiXqSoCnAvsmVwUj0/8galgl8bsv6nOEMlie5Yted94IbMdzwv4kUceyeRedNJkCDAWRAfHjBnjyDDZ9E8++aTTmKKh9El1kIo01eqQExDxJ9KYNoKZrOe1H4X1GiSQlmXltFp6SESayG9Tkodazlv6mYcffth5+qIfh0iif0ZbTOR07733dglwRW/0m3tg1ypszFl2sG677bai34L6FwkBEWAR4EhTKd1pRIDT4VWEoyE3P/rRj5zmD09YyAovxEsuucQOPPBAGzJkSObd5Dok2xAdVCsWAswHIsm+OAfjhAsByWGhFzHZ9+WipkQaqZxWtIIbkH3kPZA9FnhFsl5joYjWl8VnlhFpMMAhAacXdl+QPyB9QTfMwocFEItVIsJFb5JAFH2EGtc/EWAR4MbNtuBKIsC5wF7XRUkUIcIDsSHJhsgPRJj/69+/f+ZFEtjaRafHi/6OO+6o61704ewRYLwgtKHTRLlqdRRs+f3vf++ix1QNw2GkKAU3fEQaIg/xXWWVVbIHLuEVYkseKl0WP2ESw/D1/eMf/2hHHHFEYRIRE0K10GFKgqsFtUXzMyLAIsC5zGwR4Fxgb9YXvfjii10ECs3xNtts06zvZXHsvHd08BpiFlJYUZFIBtHEdm2//fZzRLMIBJjoJm4nbJmTgFmkJK9GSR7Q+TIuyJEgwLE0/nnOf2zQ0AAz93yBF+6NYhiyQctzZBp/bRFgEeDGz7p5pTzn5nJhXTQ3BGqxXPOdhTTttNNOdtRRR9ngwYMzuYcHH3zQ/vrXv7rkLsrZHn744XbppZdmci2d1ByhGjBggCvZvemmm9qIESNcYhWEGMkEmkw0xOhtYxRrSIo5X02UMh4/frxLcitSRLqRkofhw4fbYYcd5hab11133QKymBTHoh7nC2FgqxcWwth5551VCKOog5ZRv0SARYAzmlpNn1YEOBfYc71orZZrJB7xEuYFBWnKKuuealD33Xefi3Lx8sfeSQQ4mylz7bXXOunMueee66L6ePtCPIlshhFiX12NMfFOE5BlorJZzANkPsg2iHgit0EvWpTWKMkDGFDchqIWFIwgWawo3suxxgI9929+8xsn51pyySVd9JfIsEohx0K4eZxHBFgEOJeZKgKcC+zN7qJE4SA+OAtATrO0W2KL3r/oiQ6R7CMCnM2UgWAyttWs13AbIMEKUgxZIckOX9pevXotiBBvvvnmUarVofOF/EKIsHYrEhkKJQ88C1nZwr3zzjtOz0/hkWHDhhl62SwWGtnMKp1VCKRDQARYBDjdjIl0tAhwJCAX4dOQMMU2OLZnEKB6fU3TQCUCnAatxhxLhJjta4iwt14Lq9Uhm+jTp48r34xeNylxY+EDGUcTWrRqc42UPNx///120EEHWffu3Y3SwLGK2jRmdugqQiA9AiLAIsDpZ02ET4gARwBxET4FBRbwFoWYYL9U6i+cdTKOCHDxJ1dYrc4T4lGjRhmkkWpl3ouYn5Wq1THPSHTzBT18UlQR7r5RkgeKe+CL+6c//cnJHU4//fSGaq6LgLX6sHgiIAIsApzLzBcBzgX2ZnNRkpDWWmutiv3NOodSBLjZTJUFHS2tVkekmOqE2Hjh4uCT6ny1OhK7OIZEL/S+bdu2LcxNe8lD1pXw2GXBeQP3g+uvv9523XXXxJHzwoCljgiBGhEQARYBrnHq1PcxEeD68NOnqyNQj+uECHB1fJvDESR0IZPwXsS+Wh3OE3hZ9+3b10U88fdNKpnI8r4bKXlAWw35ZaFJcikFStSEwOKEgAiwCHAu810EOBfYF6uL1uo6AUixCTBZ50ceeaRL6EKfStb5eeedV6hEq8VhcuAostdee9mnn37qtMJIJsJqdUSJ0RFXqlaXJUZffvmlK7UMCcb6LSvNO+dH7oAXLlZ/FLfIMrk0S8x0biFQDwIiwCLA9cyfmj8rAlwzdPpgAxCISYC97yikKvQd3WWXXeQ72oCx9Jcg+rvjjju6ct6U8l122WUtrFbH4oQ/lBVebbXVFtIQ4wWcpRUY13z55Zed1263bt0yc3mA7OO9jDQEDPbee+9CRL4bOA10KSGwAAERYBHgXB4HEeBcYNdFEyIQkwDjL4qfKi4DaDppZNnjM6zKUwkHJMJhM2bMcP7Ov/jFLyqSPgjxG2+84aoNekLMuJGEiXYYSz5vyxejWl0oeVh//fUd8c5KikG0e99997VOnTrZzTffbFxPTQgszgiIAIsA5zL/RYBzgV0XbQIBiM7o0aPdESRGbbbZZnbggQe6fxMpq7XhpUq08c4771xwCrSpOBOcffbZduyxx9Z6an0uYwR8VTivIYYUx6pWF0oeSNJjPmTRIPV/+ctf7OSTT3YEmJLieB2rCYHFHQERYBHgXJ4BEeBcYNdFm0CgKc1wPa4TVBM74IADnOY3bDgPYPV29dVXa1yaCQK+Wh2E2BfnCKvVeaeJatXqGiV5oOAIizk8fi+77DJHgLOKMDeTIVQ3hcACBESARYBzeRxEgHOBXRfNAQGqdpFwdOKJJy50dbbSIce33357Dr3SJWMgACH21eq8F3FT1eqI+g4cONB++MMfumpzWUoe8Dfu16+f8/RF8kCUWU0ICIFvEBABFgHO5XkQAc4Fdl00BwQgwBQaoMhA2IgWUm3rtttuy6FXumQWCECIsd9DKgEhxmcYGzairkT8P/74Y/v666+dBhwXiiyisfRh6NChdswxx9hPf/pTu+KKKzJzlMgCQ51TCDQKARFgEeBGzbWFriMCnAvsumgOCEgCkQPoBbkkZJSor6+0xoLn888/N6q8Ua3OJ9bxE514vYSYa0F8ifhidXbooYdm6l4RE2YSAi+44AK7++67XXIoFeqIWvuIecxr6VxCAAREgEWAc3kSRIBzgV0XzQGBvJLgcDM4//zzbcSIEfbCCy/YBhts4H6qNQ4BCPAhhxxif/3rXx25w3eXBMiRI0e6CDGR4qaq1aUhxK+++qrts88+jnDfdNNN1qtXr8bdaIQrsShYddVVnU4Zuzp2TtDlcy933XWX7bbbbhGuolMIgW8QEAEWAc7leRABzgV2XTQHBLBBQwOMywQ+rzQqb1EMI0sbNFwnjjjiCLfVTiEO73mbAwSL9SUpNLHddtvZ5ptvXhaHStXqWLAgk/GJdZWq1UGykdEw1lwH0ti5c+dmhzkRYJL2sGnzjXvr2bOnk3A88sgjze6e1OFiIyACLAKcywwVAc4Fdl00BwR8IQy8hcNCGDvvvHOmhTAgvL54AyVvx4wZowhwDuOf9pJs/ZNIh8sEEWJ0xGiH11577YW8iJlP6IlPOukku+aaa5yl3nHHHddsJA9JccGKEAyIcKsJgZgIiACLAMecT4nPJQKcGCoduAggQAT2N7/5jXuR48FK9JfIcPv27RtydyLADYE5k4uwkMFqzRNiX62OiDDFPShjzI7CNttsU7eGOJMbqOOk3DvJg9/5znfsjjvuqONM+qgQ+DYCIsAiwLk8FyLAucCuiy6mCIgALzoD76vV3XfffXbppZfaww8/7LSzi2KjaMfRRx/tKvNB8NWEQEwERIBFgGPOp8TnEgFODJUOFAJ1IyACXDeEOkENCGAJR9GPam2ttdaytm3bLnQYEe+ddtrJjjrqKBs8eHC1U+j3QiA1AiLAIsCpJ02MD4gAx5BhajgAAAqySURBVEBR5xACyRAQAU6Gk46Ki0BT1RXDKz3zzDPOFs63cePGuYgvOnnkHWncMOLegc62KCMgAiwCnMv8FgHOBXZddDFFoBEE+JZbbrEbb7zRFX749NNPbZ111nE+tAcffPAil5i1mE6jhtz2+PHjjSqJG264oSHzQOOsJgSyQEAEWAQ4i3lV9ZwiwFUh0gFCIBoCjSDAvXv3tjXWWMP23HNPW2mllZxt1bnnnmu//e1vDSswNSFQDYFJkyY52zdsz5BA8FNNCGSFgAiwCHBWc6vJ84oA5wK7LrqYItAIAvzRRx/ZCiussBDCVCUbMmSIYQVXqvFcTIdCt10BgenTp9uWW25pRIBvuOEGt4gKGwssNSEQEwERYBHgmPMp8blEgBNDpQOFQE0ITJs2ze655x732csuu8wRC8rj0qhOV0pWa7pIlQ8NHTrU+vfvb++//76tvPLKWVxC51xEEJgwYYKRDFepURRDTQjEREAEWAQ45nxKfC4R4MRQ6UAhUBMCTREK5AlUDcu6DRgwwFUp+/DDD61Vq1ZZX07nFwJCQAgkRkAEWAQ48WSJeaAIcEw0dS4hUDwEqDzHlvbAgQPtlFNOKV4H1SMhIAQWawREgEWAc3kARIBzgV0XFQINQYBkpi222MIVaKCIQZs2bRpyXV1ECAgBIZAUARFgEeCkcyXqcSLAUeHUyYRAYRCg+AHyCsr0Uvp5ueWWy6xv999/v51zzjn20ksv2dSpU61r1662xx57uKhzx44dM7uuTiwEhEDzR0AEWAQ4l1ksApwL7LqoEMgUAUgvxQtef/11e+qpp5wtWpZt2LBhRtGEXr16WadOneyFF16wQYMG2aabbmoPPPBAlpfWuYWAEGjmCIgAiwDnMoVFgHOBXRcVApkhMGvWLPvZz35mjz32mPuz8cYbZ3atpk581VVXGcl3EydOtFVWWSWXPuiiQkAIFB8BEWAR4FxmqQhwLrDrokIgMwSo+HbllVfa4MGDrU+fPgtdp1u3bg0ranD77bfbXnvtZbhgZB2BzgxMnVgICIHMERABFgHOfJKVu4AIcC6w66JCIDME1lxzTXv77bfLnj9r27XZs2fbzJkznRb4gAMOsNVXX93uuuuuzO5VJxYCQqD5IyACLAKcyywWAc4Fdl1UCCySCOA2geSBtssuu9itt95qSy211CJ5r7opISAE4iAgAiwCHGcmpTyLCHBKwHS4EBACFREgEe6LL76wF1980c4880xbd9117cEHH1TxDc0ZISAEKiIgAiwCnMvjIQKcC+y6qBBY5BEYO3as9ezZ02655Rbbe++9M79fiPcGG2zgItCjR49211YTAkKg+AiIAIsA5zJLRYBzgV0XFQKLPALogdu2bWtnnXWWnXjiiZnf7wknnGDXXXedTZ48WQQ4c7R1ASEQDwERYBHgeLMpxZlEgFOApUOFgBBIjADFN3ChuOmmm6xv376JP1fLga+88oqL+F5wwQV2yCGHiADXAqI+IwRyQkAEWAQ4l6knApwL7LqoEFikEMB3GAKK53D79u3tueeeczZsK620kiOjSyyxRKb3u9NOO7lr77bbbrb99tuLAGeKtk4uBOIiIAIsAhx3RiU8mwhwQqB0mBAQAhUROO+881ykd/z48TZnzhzDig1SfNxxx2XuO4zTxOGHH+6q3j399NMiwJqnQqCZISACLAKcy5QVAc4Fdl1UCAiBCAhMmzbNJb5Rdhnf4UcffVQEOAKuOoUQaCQCIsAiwI2cbwuuJQKcC+y6qBAQAhEQOPnkk53N2siRI61ly5YiwBEw1SmEQKMREAEWAW70nHPXEwHOBXZdVAgIgToRoNrd+uuvb8OHD7etttrKnY3Eu913392oeIcmuUOHDnVeRR8XAkIgawREgEWAs55jOr8QEAJCYFFCYDsze6SJGxppZr0XpRvWvQgBIbD4INBi8blV3akQEAJCQAikQGBZM+tRcjz/vtDMDjGz0Wb2dIrz6VAhIASEQGEQEAEuzFCoI0JACAiBwiPgo8Kbm9mYwvdWHRQCQkAIVEBABFhTQwgIASEgBJIiIAKcFCkdJwSEQKEREAEu9PCoc0JACAgBISAEhIAQEAKxERABjo2ozicEhIAQEAJCQAgIASFQaAREgAs9POqcEBACQkAICAEhIASEQGwERIBjI6rzCQEhIASEgBAQAkJACBQaARHgQg+POicEhIAQEAJCQAgIASEQGwER4NiI6nxCQAgIASEgBISAEBAChUZABLjQw6POCQEhIASEgBAQAkJACMRGQAQ4NqI6nxAQAkJACAgBISAEhEChERABLvTwqHNCQAgIASEgBISAEBACsREQAY6NqM4nBISAEBACQkAICAEhUGgERIALPTzqnBAQAkJACAgBISAEhEBsBESAYyOq8wkBISAEhIAQEAJCQAgUGgER4EIPjzonBISAEBACQkAICAEhEBsBEeDYiOp8QkAICAEhIASEgBAQAoVGQAS40MOjzgkBISAEhIAQEAJCQAjERkAEODaiOp8QEAJCQAgIASEgBIRAoREQAS708KhzQkAICAEhIASEgBAQArEREAGOjajOJwSEgBAQAkJACAgBIVBoBESACz086pwQEAJCQAgIASEgBIRAbAREgGMjqvMJASEgBISAEBACQkAIFBoBEeBCD486JwSEgBAQAkJACAgBIRAbARHg2IjqfEJACAgBISAEhIAQEAKFRkAEuNDDo84JASEgBISAEBACQkAIxEZABDg2ojqfEBACQkAICAEhIASEQKEREAEu9PCoc0JACAgBISAEhIAQEAKxERABjo2ozicEhIAQEAJCQAgIASFQaAREgAs9POqcEBACQkAICAEhIASEQGwERIBjI6rzCQEhIASEgBAQAkJACBQaARHgQg+POicEhIAQEAJCQAgIASEQGwER4NiI6nxCQAgIASEgBISAEBAChUZABLjQw6POCQEhIASEgBAQAkJACMRGQAQ4NqI6nxAQAkJACAgBISAEhEChERABLvTwqHNCQAgIASEgBISAEBACsREQAY6NqM4nBISAEBACQkAICAEhUGgERIALPTzqnBAQAkJACAgBISAEhEBsBESAYyOq8wkBISAEhIAQEAJCQAgUGgER4EIPjzonBISAEBACQkAICAEhEBsBEeDYiOp8QkAICAEhIASEgBAQAoVGQAS40MOjzgkBISAEhIAQEAJCQAjERkAEODaiOp8QEAJCQAgIASEgBIRAoREQAS708KhzQkAICAEhIASEgBAQArEREAGOjajOJwSEgBAQAkJACAgBIVBoBESACz086pwQEAJCQAgIASEgBIRAbAREgGMjqvMJASEgBISAEBACQkAIFBoBEeBCD486JwSEgBAQAkJACAgBIRAbARHg2IjqfEJACAgBISAEhIAQEAKFRkAEuNDDo84JASEgBISAEBACQkAIxEZABDg2ojqfEBACQkAICAEhIASEQKEREAEu9PCoc0JACAgBISAEhIAQEAKxERABjo2ozicEhIAQEAJCQAgIASFQaAREgAs9POqcEBACQkAICAEhIASEQGwERIBjI6rzCQEhIASEgBAQAkJACBQaARHgQg+POicEhIAQEAJCQAgIASEQGwER4NiI6nxCQAgIASEgBISAEBAChUbg/wNL2OATp74p/AAAAABJRU5ErkJggg==\" width=\"639.9999861283738\">"
      ],
      "text/plain": [
       "<IPython.core.display.HTML object>"
      ]
     },
     "metadata": {},
     "output_type": "display_data"
    },
    {
     "data": {
      "text/plain": [
       "[<mpl_toolkits.mplot3d.art3d.Line3D at 0x9f82978>]"
      ]
     },
     "execution_count": 97,
     "metadata": {},
     "output_type": "execute_result"
    }
   ],
   "source": [
    "fig = plt.figure()\n",
    "ax = fig.gca(projection='3d')\n",
    "theta = np.linspace(-4 * np.pi, 4 * np.pi, 100)\n",
    "z = np.linspace(-2, 2, 100)\n",
    "r = z**2 + 1\n",
    "x = r * np.sin(theta)\n",
    "y = r * np.cos(theta)\n",
    "ax.plot(x, y, z)"
   ]
  },
  {
   "cell_type": "markdown",
   "metadata": {
    "slideshow": {
     "slide_type": "subslide"
    }
   },
   "source": [
    "** 3D Scatter **"
   ]
  },
  {
   "cell_type": "code",
   "execution_count": 98,
   "metadata": {
    "slideshow": {
     "slide_type": "fragment"
    }
   },
   "outputs": [
    {
     "data": {
      "application/javascript": [
       "/* Put everything inside the global mpl namespace */\n",
       "window.mpl = {};\n",
       "\n",
       "\n",
       "mpl.get_websocket_type = function() {\n",
       "    if (typeof(WebSocket) !== 'undefined') {\n",
       "        return WebSocket;\n",
       "    } else if (typeof(MozWebSocket) !== 'undefined') {\n",
       "        return MozWebSocket;\n",
       "    } else {\n",
       "        alert('Your browser does not have WebSocket support.' +\n",
       "              'Please try Chrome, Safari or Firefox ≥ 6. ' +\n",
       "              'Firefox 4 and 5 are also supported but you ' +\n",
       "              'have to enable WebSockets in about:config.');\n",
       "    };\n",
       "}\n",
       "\n",
       "mpl.figure = function(figure_id, websocket, ondownload, parent_element) {\n",
       "    this.id = figure_id;\n",
       "\n",
       "    this.ws = websocket;\n",
       "\n",
       "    this.supports_binary = (this.ws.binaryType != undefined);\n",
       "\n",
       "    if (!this.supports_binary) {\n",
       "        var warnings = document.getElementById(\"mpl-warnings\");\n",
       "        if (warnings) {\n",
       "            warnings.style.display = 'block';\n",
       "            warnings.textContent = (\n",
       "                \"This browser does not support binary websocket messages. \" +\n",
       "                    \"Performance may be slow.\");\n",
       "        }\n",
       "    }\n",
       "\n",
       "    this.imageObj = new Image();\n",
       "\n",
       "    this.context = undefined;\n",
       "    this.message = undefined;\n",
       "    this.canvas = undefined;\n",
       "    this.rubberband_canvas = undefined;\n",
       "    this.rubberband_context = undefined;\n",
       "    this.format_dropdown = undefined;\n",
       "\n",
       "    this.image_mode = 'full';\n",
       "\n",
       "    this.root = $('<div/>');\n",
       "    this._root_extra_style(this.root)\n",
       "    this.root.attr('style', 'display: inline-block');\n",
       "\n",
       "    $(parent_element).append(this.root);\n",
       "\n",
       "    this._init_header(this);\n",
       "    this._init_canvas(this);\n",
       "    this._init_toolbar(this);\n",
       "\n",
       "    var fig = this;\n",
       "\n",
       "    this.waiting = false;\n",
       "\n",
       "    this.ws.onopen =  function () {\n",
       "            fig.send_message(\"supports_binary\", {value: fig.supports_binary});\n",
       "            fig.send_message(\"send_image_mode\", {});\n",
       "            if (mpl.ratio != 1) {\n",
       "                fig.send_message(\"set_dpi_ratio\", {'dpi_ratio': mpl.ratio});\n",
       "            }\n",
       "            fig.send_message(\"refresh\", {});\n",
       "        }\n",
       "\n",
       "    this.imageObj.onload = function() {\n",
       "            if (fig.image_mode == 'full') {\n",
       "                // Full images could contain transparency (where diff images\n",
       "                // almost always do), so we need to clear the canvas so that\n",
       "                // there is no ghosting.\n",
       "                fig.context.clearRect(0, 0, fig.canvas.width, fig.canvas.height);\n",
       "            }\n",
       "            fig.context.drawImage(fig.imageObj, 0, 0);\n",
       "        };\n",
       "\n",
       "    this.imageObj.onunload = function() {\n",
       "        fig.ws.close();\n",
       "    }\n",
       "\n",
       "    this.ws.onmessage = this._make_on_message_function(this);\n",
       "\n",
       "    this.ondownload = ondownload;\n",
       "}\n",
       "\n",
       "mpl.figure.prototype._init_header = function() {\n",
       "    var titlebar = $(\n",
       "        '<div class=\"ui-dialog-titlebar ui-widget-header ui-corner-all ' +\n",
       "        'ui-helper-clearfix\"/>');\n",
       "    var titletext = $(\n",
       "        '<div class=\"ui-dialog-title\" style=\"width: 100%; ' +\n",
       "        'text-align: center; padding: 3px;\"/>');\n",
       "    titlebar.append(titletext)\n",
       "    this.root.append(titlebar);\n",
       "    this.header = titletext[0];\n",
       "}\n",
       "\n",
       "\n",
       "\n",
       "mpl.figure.prototype._canvas_extra_style = function(canvas_div) {\n",
       "\n",
       "}\n",
       "\n",
       "\n",
       "mpl.figure.prototype._root_extra_style = function(canvas_div) {\n",
       "\n",
       "}\n",
       "\n",
       "mpl.figure.prototype._init_canvas = function() {\n",
       "    var fig = this;\n",
       "\n",
       "    var canvas_div = $('<div/>');\n",
       "\n",
       "    canvas_div.attr('style', 'position: relative; clear: both; outline: 0');\n",
       "\n",
       "    function canvas_keyboard_event(event) {\n",
       "        return fig.key_event(event, event['data']);\n",
       "    }\n",
       "\n",
       "    canvas_div.keydown('key_press', canvas_keyboard_event);\n",
       "    canvas_div.keyup('key_release', canvas_keyboard_event);\n",
       "    this.canvas_div = canvas_div\n",
       "    this._canvas_extra_style(canvas_div)\n",
       "    this.root.append(canvas_div);\n",
       "\n",
       "    var canvas = $('<canvas/>');\n",
       "    canvas.addClass('mpl-canvas');\n",
       "    canvas.attr('style', \"left: 0; top: 0; z-index: 0; outline: 0\")\n",
       "\n",
       "    this.canvas = canvas[0];\n",
       "    this.context = canvas[0].getContext(\"2d\");\n",
       "\n",
       "    var backingStore = this.context.backingStorePixelRatio ||\n",
       "\tthis.context.webkitBackingStorePixelRatio ||\n",
       "\tthis.context.mozBackingStorePixelRatio ||\n",
       "\tthis.context.msBackingStorePixelRatio ||\n",
       "\tthis.context.oBackingStorePixelRatio ||\n",
       "\tthis.context.backingStorePixelRatio || 1;\n",
       "\n",
       "    mpl.ratio = (window.devicePixelRatio || 1) / backingStore;\n",
       "\n",
       "    var rubberband = $('<canvas/>');\n",
       "    rubberband.attr('style', \"position: absolute; left: 0; top: 0; z-index: 1;\")\n",
       "\n",
       "    var pass_mouse_events = true;\n",
       "\n",
       "    canvas_div.resizable({\n",
       "        start: function(event, ui) {\n",
       "            pass_mouse_events = false;\n",
       "        },\n",
       "        resize: function(event, ui) {\n",
       "            fig.request_resize(ui.size.width, ui.size.height);\n",
       "        },\n",
       "        stop: function(event, ui) {\n",
       "            pass_mouse_events = true;\n",
       "            fig.request_resize(ui.size.width, ui.size.height);\n",
       "        },\n",
       "    });\n",
       "\n",
       "    function mouse_event_fn(event) {\n",
       "        if (pass_mouse_events)\n",
       "            return fig.mouse_event(event, event['data']);\n",
       "    }\n",
       "\n",
       "    rubberband.mousedown('button_press', mouse_event_fn);\n",
       "    rubberband.mouseup('button_release', mouse_event_fn);\n",
       "    // Throttle sequential mouse events to 1 every 20ms.\n",
       "    rubberband.mousemove('motion_notify', mouse_event_fn);\n",
       "\n",
       "    rubberband.mouseenter('figure_enter', mouse_event_fn);\n",
       "    rubberband.mouseleave('figure_leave', mouse_event_fn);\n",
       "\n",
       "    canvas_div.on(\"wheel\", function (event) {\n",
       "        event = event.originalEvent;\n",
       "        event['data'] = 'scroll'\n",
       "        if (event.deltaY < 0) {\n",
       "            event.step = 1;\n",
       "        } else {\n",
       "            event.step = -1;\n",
       "        }\n",
       "        mouse_event_fn(event);\n",
       "    });\n",
       "\n",
       "    canvas_div.append(canvas);\n",
       "    canvas_div.append(rubberband);\n",
       "\n",
       "    this.rubberband = rubberband;\n",
       "    this.rubberband_canvas = rubberband[0];\n",
       "    this.rubberband_context = rubberband[0].getContext(\"2d\");\n",
       "    this.rubberband_context.strokeStyle = \"#000000\";\n",
       "\n",
       "    this._resize_canvas = function(width, height) {\n",
       "        // Keep the size of the canvas, canvas container, and rubber band\n",
       "        // canvas in synch.\n",
       "        canvas_div.css('width', width)\n",
       "        canvas_div.css('height', height)\n",
       "\n",
       "        canvas.attr('width', width * mpl.ratio);\n",
       "        canvas.attr('height', height * mpl.ratio);\n",
       "        canvas.attr('style', 'width: ' + width + 'px; height: ' + height + 'px;');\n",
       "\n",
       "        rubberband.attr('width', width);\n",
       "        rubberband.attr('height', height);\n",
       "    }\n",
       "\n",
       "    // Set the figure to an initial 600x600px, this will subsequently be updated\n",
       "    // upon first draw.\n",
       "    this._resize_canvas(600, 600);\n",
       "\n",
       "    // Disable right mouse context menu.\n",
       "    $(this.rubberband_canvas).bind(\"contextmenu\",function(e){\n",
       "        return false;\n",
       "    });\n",
       "\n",
       "    function set_focus () {\n",
       "        canvas.focus();\n",
       "        canvas_div.focus();\n",
       "    }\n",
       "\n",
       "    window.setTimeout(set_focus, 100);\n",
       "}\n",
       "\n",
       "mpl.figure.prototype._init_toolbar = function() {\n",
       "    var fig = this;\n",
       "\n",
       "    var nav_element = $('<div/>')\n",
       "    nav_element.attr('style', 'width: 100%');\n",
       "    this.root.append(nav_element);\n",
       "\n",
       "    // Define a callback function for later on.\n",
       "    function toolbar_event(event) {\n",
       "        return fig.toolbar_button_onclick(event['data']);\n",
       "    }\n",
       "    function toolbar_mouse_event(event) {\n",
       "        return fig.toolbar_button_onmouseover(event['data']);\n",
       "    }\n",
       "\n",
       "    for(var toolbar_ind in mpl.toolbar_items) {\n",
       "        var name = mpl.toolbar_items[toolbar_ind][0];\n",
       "        var tooltip = mpl.toolbar_items[toolbar_ind][1];\n",
       "        var image = mpl.toolbar_items[toolbar_ind][2];\n",
       "        var method_name = mpl.toolbar_items[toolbar_ind][3];\n",
       "\n",
       "        if (!name) {\n",
       "            // put a spacer in here.\n",
       "            continue;\n",
       "        }\n",
       "        var button = $('<button/>');\n",
       "        button.addClass('ui-button ui-widget ui-state-default ui-corner-all ' +\n",
       "                        'ui-button-icon-only');\n",
       "        button.attr('role', 'button');\n",
       "        button.attr('aria-disabled', 'false');\n",
       "        button.click(method_name, toolbar_event);\n",
       "        button.mouseover(tooltip, toolbar_mouse_event);\n",
       "\n",
       "        var icon_img = $('<span/>');\n",
       "        icon_img.addClass('ui-button-icon-primary ui-icon');\n",
       "        icon_img.addClass(image);\n",
       "        icon_img.addClass('ui-corner-all');\n",
       "\n",
       "        var tooltip_span = $('<span/>');\n",
       "        tooltip_span.addClass('ui-button-text');\n",
       "        tooltip_span.html(tooltip);\n",
       "\n",
       "        button.append(icon_img);\n",
       "        button.append(tooltip_span);\n",
       "\n",
       "        nav_element.append(button);\n",
       "    }\n",
       "\n",
       "    var fmt_picker_span = $('<span/>');\n",
       "\n",
       "    var fmt_picker = $('<select/>');\n",
       "    fmt_picker.addClass('mpl-toolbar-option ui-widget ui-widget-content');\n",
       "    fmt_picker_span.append(fmt_picker);\n",
       "    nav_element.append(fmt_picker_span);\n",
       "    this.format_dropdown = fmt_picker[0];\n",
       "\n",
       "    for (var ind in mpl.extensions) {\n",
       "        var fmt = mpl.extensions[ind];\n",
       "        var option = $(\n",
       "            '<option/>', {selected: fmt === mpl.default_extension}).html(fmt);\n",
       "        fmt_picker.append(option)\n",
       "    }\n",
       "\n",
       "    // Add hover states to the ui-buttons\n",
       "    $( \".ui-button\" ).hover(\n",
       "        function() { $(this).addClass(\"ui-state-hover\");},\n",
       "        function() { $(this).removeClass(\"ui-state-hover\");}\n",
       "    );\n",
       "\n",
       "    var status_bar = $('<span class=\"mpl-message\"/>');\n",
       "    nav_element.append(status_bar);\n",
       "    this.message = status_bar[0];\n",
       "}\n",
       "\n",
       "mpl.figure.prototype.request_resize = function(x_pixels, y_pixels) {\n",
       "    // Request matplotlib to resize the figure. Matplotlib will then trigger a resize in the client,\n",
       "    // which will in turn request a refresh of the image.\n",
       "    this.send_message('resize', {'width': x_pixels, 'height': y_pixels});\n",
       "}\n",
       "\n",
       "mpl.figure.prototype.send_message = function(type, properties) {\n",
       "    properties['type'] = type;\n",
       "    properties['figure_id'] = this.id;\n",
       "    this.ws.send(JSON.stringify(properties));\n",
       "}\n",
       "\n",
       "mpl.figure.prototype.send_draw_message = function() {\n",
       "    if (!this.waiting) {\n",
       "        this.waiting = true;\n",
       "        this.ws.send(JSON.stringify({type: \"draw\", figure_id: this.id}));\n",
       "    }\n",
       "}\n",
       "\n",
       "\n",
       "mpl.figure.prototype.handle_save = function(fig, msg) {\n",
       "    var format_dropdown = fig.format_dropdown;\n",
       "    var format = format_dropdown.options[format_dropdown.selectedIndex].value;\n",
       "    fig.ondownload(fig, format);\n",
       "}\n",
       "\n",
       "\n",
       "mpl.figure.prototype.handle_resize = function(fig, msg) {\n",
       "    var size = msg['size'];\n",
       "    if (size[0] != fig.canvas.width || size[1] != fig.canvas.height) {\n",
       "        fig._resize_canvas(size[0], size[1]);\n",
       "        fig.send_message(\"refresh\", {});\n",
       "    };\n",
       "}\n",
       "\n",
       "mpl.figure.prototype.handle_rubberband = function(fig, msg) {\n",
       "    var x0 = msg['x0'] / mpl.ratio;\n",
       "    var y0 = (fig.canvas.height - msg['y0']) / mpl.ratio;\n",
       "    var x1 = msg['x1'] / mpl.ratio;\n",
       "    var y1 = (fig.canvas.height - msg['y1']) / mpl.ratio;\n",
       "    x0 = Math.floor(x0) + 0.5;\n",
       "    y0 = Math.floor(y0) + 0.5;\n",
       "    x1 = Math.floor(x1) + 0.5;\n",
       "    y1 = Math.floor(y1) + 0.5;\n",
       "    var min_x = Math.min(x0, x1);\n",
       "    var min_y = Math.min(y0, y1);\n",
       "    var width = Math.abs(x1 - x0);\n",
       "    var height = Math.abs(y1 - y0);\n",
       "\n",
       "    fig.rubberband_context.clearRect(\n",
       "        0, 0, fig.canvas.width, fig.canvas.height);\n",
       "\n",
       "    fig.rubberband_context.strokeRect(min_x, min_y, width, height);\n",
       "}\n",
       "\n",
       "mpl.figure.prototype.handle_figure_label = function(fig, msg) {\n",
       "    // Updates the figure title.\n",
       "    fig.header.textContent = msg['label'];\n",
       "}\n",
       "\n",
       "mpl.figure.prototype.handle_cursor = function(fig, msg) {\n",
       "    var cursor = msg['cursor'];\n",
       "    switch(cursor)\n",
       "    {\n",
       "    case 0:\n",
       "        cursor = 'pointer';\n",
       "        break;\n",
       "    case 1:\n",
       "        cursor = 'default';\n",
       "        break;\n",
       "    case 2:\n",
       "        cursor = 'crosshair';\n",
       "        break;\n",
       "    case 3:\n",
       "        cursor = 'move';\n",
       "        break;\n",
       "    }\n",
       "    fig.rubberband_canvas.style.cursor = cursor;\n",
       "}\n",
       "\n",
       "mpl.figure.prototype.handle_message = function(fig, msg) {\n",
       "    fig.message.textContent = msg['message'];\n",
       "}\n",
       "\n",
       "mpl.figure.prototype.handle_draw = function(fig, msg) {\n",
       "    // Request the server to send over a new figure.\n",
       "    fig.send_draw_message();\n",
       "}\n",
       "\n",
       "mpl.figure.prototype.handle_image_mode = function(fig, msg) {\n",
       "    fig.image_mode = msg['mode'];\n",
       "}\n",
       "\n",
       "mpl.figure.prototype.updated_canvas_event = function() {\n",
       "    // Called whenever the canvas gets updated.\n",
       "    this.send_message(\"ack\", {});\n",
       "}\n",
       "\n",
       "// A function to construct a web socket function for onmessage handling.\n",
       "// Called in the figure constructor.\n",
       "mpl.figure.prototype._make_on_message_function = function(fig) {\n",
       "    return function socket_on_message(evt) {\n",
       "        if (evt.data instanceof Blob) {\n",
       "            /* FIXME: We get \"Resource interpreted as Image but\n",
       "             * transferred with MIME type text/plain:\" errors on\n",
       "             * Chrome.  But how to set the MIME type?  It doesn't seem\n",
       "             * to be part of the websocket stream */\n",
       "            evt.data.type = \"image/png\";\n",
       "\n",
       "            /* Free the memory for the previous frames */\n",
       "            if (fig.imageObj.src) {\n",
       "                (window.URL || window.webkitURL).revokeObjectURL(\n",
       "                    fig.imageObj.src);\n",
       "            }\n",
       "\n",
       "            fig.imageObj.src = (window.URL || window.webkitURL).createObjectURL(\n",
       "                evt.data);\n",
       "            fig.updated_canvas_event();\n",
       "            fig.waiting = false;\n",
       "            return;\n",
       "        }\n",
       "        else if (typeof evt.data === 'string' && evt.data.slice(0, 21) == \"data:image/png;base64\") {\n",
       "            fig.imageObj.src = evt.data;\n",
       "            fig.updated_canvas_event();\n",
       "            fig.waiting = false;\n",
       "            return;\n",
       "        }\n",
       "\n",
       "        var msg = JSON.parse(evt.data);\n",
       "        var msg_type = msg['type'];\n",
       "\n",
       "        // Call the  \"handle_{type}\" callback, which takes\n",
       "        // the figure and JSON message as its only arguments.\n",
       "        try {\n",
       "            var callback = fig[\"handle_\" + msg_type];\n",
       "        } catch (e) {\n",
       "            console.log(\"No handler for the '\" + msg_type + \"' message type: \", msg);\n",
       "            return;\n",
       "        }\n",
       "\n",
       "        if (callback) {\n",
       "            try {\n",
       "                // console.log(\"Handling '\" + msg_type + \"' message: \", msg);\n",
       "                callback(fig, msg);\n",
       "            } catch (e) {\n",
       "                console.log(\"Exception inside the 'handler_\" + msg_type + \"' callback:\", e, e.stack, msg);\n",
       "            }\n",
       "        }\n",
       "    };\n",
       "}\n",
       "\n",
       "// from http://stackoverflow.com/questions/1114465/getting-mouse-location-in-canvas\n",
       "mpl.findpos = function(e) {\n",
       "    //this section is from http://www.quirksmode.org/js/events_properties.html\n",
       "    var targ;\n",
       "    if (!e)\n",
       "        e = window.event;\n",
       "    if (e.target)\n",
       "        targ = e.target;\n",
       "    else if (e.srcElement)\n",
       "        targ = e.srcElement;\n",
       "    if (targ.nodeType == 3) // defeat Safari bug\n",
       "        targ = targ.parentNode;\n",
       "\n",
       "    // jQuery normalizes the pageX and pageY\n",
       "    // pageX,Y are the mouse positions relative to the document\n",
       "    // offset() returns the position of the element relative to the document\n",
       "    var x = e.pageX - $(targ).offset().left;\n",
       "    var y = e.pageY - $(targ).offset().top;\n",
       "\n",
       "    return {\"x\": x, \"y\": y};\n",
       "};\n",
       "\n",
       "/*\n",
       " * return a copy of an object with only non-object keys\n",
       " * we need this to avoid circular references\n",
       " * http://stackoverflow.com/a/24161582/3208463\n",
       " */\n",
       "function simpleKeys (original) {\n",
       "  return Object.keys(original).reduce(function (obj, key) {\n",
       "    if (typeof original[key] !== 'object')\n",
       "        obj[key] = original[key]\n",
       "    return obj;\n",
       "  }, {});\n",
       "}\n",
       "\n",
       "mpl.figure.prototype.mouse_event = function(event, name) {\n",
       "    var canvas_pos = mpl.findpos(event)\n",
       "\n",
       "    if (name === 'button_press')\n",
       "    {\n",
       "        this.canvas.focus();\n",
       "        this.canvas_div.focus();\n",
       "    }\n",
       "\n",
       "    var x = canvas_pos.x * mpl.ratio;\n",
       "    var y = canvas_pos.y * mpl.ratio;\n",
       "\n",
       "    this.send_message(name, {x: x, y: y, button: event.button,\n",
       "                             step: event.step,\n",
       "                             guiEvent: simpleKeys(event)});\n",
       "\n",
       "    /* This prevents the web browser from automatically changing to\n",
       "     * the text insertion cursor when the button is pressed.  We want\n",
       "     * to control all of the cursor setting manually through the\n",
       "     * 'cursor' event from matplotlib */\n",
       "    event.preventDefault();\n",
       "    return false;\n",
       "}\n",
       "\n",
       "mpl.figure.prototype._key_event_extra = function(event, name) {\n",
       "    // Handle any extra behaviour associated with a key event\n",
       "}\n",
       "\n",
       "mpl.figure.prototype.key_event = function(event, name) {\n",
       "\n",
       "    // Prevent repeat events\n",
       "    if (name == 'key_press')\n",
       "    {\n",
       "        if (event.which === this._key)\n",
       "            return;\n",
       "        else\n",
       "            this._key = event.which;\n",
       "    }\n",
       "    if (name == 'key_release')\n",
       "        this._key = null;\n",
       "\n",
       "    var value = '';\n",
       "    if (event.ctrlKey && event.which != 17)\n",
       "        value += \"ctrl+\";\n",
       "    if (event.altKey && event.which != 18)\n",
       "        value += \"alt+\";\n",
       "    if (event.shiftKey && event.which != 16)\n",
       "        value += \"shift+\";\n",
       "\n",
       "    value += 'k';\n",
       "    value += event.which.toString();\n",
       "\n",
       "    this._key_event_extra(event, name);\n",
       "\n",
       "    this.send_message(name, {key: value,\n",
       "                             guiEvent: simpleKeys(event)});\n",
       "    return false;\n",
       "}\n",
       "\n",
       "mpl.figure.prototype.toolbar_button_onclick = function(name) {\n",
       "    if (name == 'download') {\n",
       "        this.handle_save(this, null);\n",
       "    } else {\n",
       "        this.send_message(\"toolbar_button\", {name: name});\n",
       "    }\n",
       "};\n",
       "\n",
       "mpl.figure.prototype.toolbar_button_onmouseover = function(tooltip) {\n",
       "    this.message.textContent = tooltip;\n",
       "};\n",
       "mpl.toolbar_items = [[\"Home\", \"Reset original view\", \"fa fa-home icon-home\", \"home\"], [\"Back\", \"Back to  previous view\", \"fa fa-arrow-left icon-arrow-left\", \"back\"], [\"Forward\", \"Forward to next view\", \"fa fa-arrow-right icon-arrow-right\", \"forward\"], [\"\", \"\", \"\", \"\"], [\"Pan\", \"Pan axes with left mouse, zoom with right\", \"fa fa-arrows icon-move\", \"pan\"], [\"Zoom\", \"Zoom to rectangle\", \"fa fa-square-o icon-check-empty\", \"zoom\"], [\"\", \"\", \"\", \"\"], [\"Download\", \"Download plot\", \"fa fa-floppy-o icon-save\", \"download\"]];\n",
       "\n",
       "mpl.extensions = [\"eps\", \"jpeg\", \"pdf\", \"png\", \"ps\", \"raw\", \"svg\", \"tif\"];\n",
       "\n",
       "mpl.default_extension = \"png\";var comm_websocket_adapter = function(comm) {\n",
       "    // Create a \"websocket\"-like object which calls the given IPython comm\n",
       "    // object with the appropriate methods. Currently this is a non binary\n",
       "    // socket, so there is still some room for performance tuning.\n",
       "    var ws = {};\n",
       "\n",
       "    ws.close = function() {\n",
       "        comm.close()\n",
       "    };\n",
       "    ws.send = function(m) {\n",
       "        //console.log('sending', m);\n",
       "        comm.send(m);\n",
       "    };\n",
       "    // Register the callback with on_msg.\n",
       "    comm.on_msg(function(msg) {\n",
       "        //console.log('receiving', msg['content']['data'], msg);\n",
       "        // Pass the mpl event to the overriden (by mpl) onmessage function.\n",
       "        ws.onmessage(msg['content']['data'])\n",
       "    });\n",
       "    return ws;\n",
       "}\n",
       "\n",
       "mpl.mpl_figure_comm = function(comm, msg) {\n",
       "    // This is the function which gets called when the mpl process\n",
       "    // starts-up an IPython Comm through the \"matplotlib\" channel.\n",
       "\n",
       "    var id = msg.content.data.id;\n",
       "    // Get hold of the div created by the display call when the Comm\n",
       "    // socket was opened in Python.\n",
       "    var element = $(\"#\" + id);\n",
       "    var ws_proxy = comm_websocket_adapter(comm)\n",
       "\n",
       "    function ondownload(figure, format) {\n",
       "        window.open(figure.imageObj.src);\n",
       "    }\n",
       "\n",
       "    var fig = new mpl.figure(id, ws_proxy,\n",
       "                           ondownload,\n",
       "                           element.get(0));\n",
       "\n",
       "    // Call onopen now - mpl needs it, as it is assuming we've passed it a real\n",
       "    // web socket which is closed, not our websocket->open comm proxy.\n",
       "    ws_proxy.onopen();\n",
       "\n",
       "    fig.parent_element = element.get(0);\n",
       "    fig.cell_info = mpl.find_output_cell(\"<div id='\" + id + \"'></div>\");\n",
       "    if (!fig.cell_info) {\n",
       "        console.error(\"Failed to find cell for figure\", id, fig);\n",
       "        return;\n",
       "    }\n",
       "\n",
       "    var output_index = fig.cell_info[2]\n",
       "    var cell = fig.cell_info[0];\n",
       "\n",
       "};\n",
       "\n",
       "mpl.figure.prototype.handle_close = function(fig, msg) {\n",
       "    var width = fig.canvas.width/mpl.ratio\n",
       "    fig.root.unbind('remove')\n",
       "\n",
       "    // Update the output cell to use the data from the current canvas.\n",
       "    fig.push_to_output();\n",
       "    var dataURL = fig.canvas.toDataURL();\n",
       "    // Re-enable the keyboard manager in IPython - without this line, in FF,\n",
       "    // the notebook keyboard shortcuts fail.\n",
       "    IPython.keyboard_manager.enable()\n",
       "    $(fig.parent_element).html('<img src=\"' + dataURL + '\" width=\"' + width + '\">');\n",
       "    fig.close_ws(fig, msg);\n",
       "}\n",
       "\n",
       "mpl.figure.prototype.close_ws = function(fig, msg){\n",
       "    fig.send_message('closing', msg);\n",
       "    // fig.ws.close()\n",
       "}\n",
       "\n",
       "mpl.figure.prototype.push_to_output = function(remove_interactive) {\n",
       "    // Turn the data on the canvas into data in the output cell.\n",
       "    var width = this.canvas.width/mpl.ratio\n",
       "    var dataURL = this.canvas.toDataURL();\n",
       "    this.cell_info[1]['text/html'] = '<img src=\"' + dataURL + '\" width=\"' + width + '\">';\n",
       "}\n",
       "\n",
       "mpl.figure.prototype.updated_canvas_event = function() {\n",
       "    // Tell IPython that the notebook contents must change.\n",
       "    IPython.notebook.set_dirty(true);\n",
       "    this.send_message(\"ack\", {});\n",
       "    var fig = this;\n",
       "    // Wait a second, then push the new image to the DOM so\n",
       "    // that it is saved nicely (might be nice to debounce this).\n",
       "    setTimeout(function () { fig.push_to_output() }, 1000);\n",
       "}\n",
       "\n",
       "mpl.figure.prototype._init_toolbar = function() {\n",
       "    var fig = this;\n",
       "\n",
       "    var nav_element = $('<div/>')\n",
       "    nav_element.attr('style', 'width: 100%');\n",
       "    this.root.append(nav_element);\n",
       "\n",
       "    // Define a callback function for later on.\n",
       "    function toolbar_event(event) {\n",
       "        return fig.toolbar_button_onclick(event['data']);\n",
       "    }\n",
       "    function toolbar_mouse_event(event) {\n",
       "        return fig.toolbar_button_onmouseover(event['data']);\n",
       "    }\n",
       "\n",
       "    for(var toolbar_ind in mpl.toolbar_items){\n",
       "        var name = mpl.toolbar_items[toolbar_ind][0];\n",
       "        var tooltip = mpl.toolbar_items[toolbar_ind][1];\n",
       "        var image = mpl.toolbar_items[toolbar_ind][2];\n",
       "        var method_name = mpl.toolbar_items[toolbar_ind][3];\n",
       "\n",
       "        if (!name) { continue; };\n",
       "\n",
       "        var button = $('<button class=\"btn btn-default\" href=\"#\" title=\"' + name + '\"><i class=\"fa ' + image + ' fa-lg\"></i></button>');\n",
       "        button.click(method_name, toolbar_event);\n",
       "        button.mouseover(tooltip, toolbar_mouse_event);\n",
       "        nav_element.append(button);\n",
       "    }\n",
       "\n",
       "    // Add the status bar.\n",
       "    var status_bar = $('<span class=\"mpl-message\" style=\"text-align:right; float: right;\"/>');\n",
       "    nav_element.append(status_bar);\n",
       "    this.message = status_bar[0];\n",
       "\n",
       "    // Add the close button to the window.\n",
       "    var buttongrp = $('<div class=\"btn-group inline pull-right\"></div>');\n",
       "    var button = $('<button class=\"btn btn-mini btn-primary\" href=\"#\" title=\"Stop Interaction\"><i class=\"fa fa-power-off icon-remove icon-large\"></i></button>');\n",
       "    button.click(function (evt) { fig.handle_close(fig, {}); } );\n",
       "    button.mouseover('Stop Interaction', toolbar_mouse_event);\n",
       "    buttongrp.append(button);\n",
       "    var titlebar = this.root.find($('.ui-dialog-titlebar'));\n",
       "    titlebar.prepend(buttongrp);\n",
       "}\n",
       "\n",
       "mpl.figure.prototype._root_extra_style = function(el){\n",
       "    var fig = this\n",
       "    el.on(\"remove\", function(){\n",
       "\tfig.close_ws(fig, {});\n",
       "    });\n",
       "}\n",
       "\n",
       "mpl.figure.prototype._canvas_extra_style = function(el){\n",
       "    // this is important to make the div 'focusable\n",
       "    el.attr('tabindex', 0)\n",
       "    // reach out to IPython and tell the keyboard manager to turn it's self\n",
       "    // off when our div gets focus\n",
       "\n",
       "    // location in version 3\n",
       "    if (IPython.notebook.keyboard_manager) {\n",
       "        IPython.notebook.keyboard_manager.register_events(el);\n",
       "    }\n",
       "    else {\n",
       "        // location in version 2\n",
       "        IPython.keyboard_manager.register_events(el);\n",
       "    }\n",
       "\n",
       "}\n",
       "\n",
       "mpl.figure.prototype._key_event_extra = function(event, name) {\n",
       "    var manager = IPython.notebook.keyboard_manager;\n",
       "    if (!manager)\n",
       "        manager = IPython.keyboard_manager;\n",
       "\n",
       "    // Check for shift+enter\n",
       "    if (event.shiftKey && event.which == 13) {\n",
       "        this.canvas_div.blur();\n",
       "        event.shiftKey = false;\n",
       "        // Send a \"J\" for go to next cell\n",
       "        event.which = 74;\n",
       "        event.keyCode = 74;\n",
       "        manager.command_mode();\n",
       "        manager.handle_keydown(event);\n",
       "    }\n",
       "}\n",
       "\n",
       "mpl.figure.prototype.handle_save = function(fig, msg) {\n",
       "    fig.ondownload(fig, null);\n",
       "}\n",
       "\n",
       "\n",
       "mpl.find_output_cell = function(html_output) {\n",
       "    // Return the cell and output element which can be found *uniquely* in the notebook.\n",
       "    // Note - this is a bit hacky, but it is done because the \"notebook_saving.Notebook\"\n",
       "    // IPython event is triggered only after the cells have been serialised, which for\n",
       "    // our purposes (turning an active figure into a static one), is too late.\n",
       "    var cells = IPython.notebook.get_cells();\n",
       "    var ncells = cells.length;\n",
       "    for (var i=0; i<ncells; i++) {\n",
       "        var cell = cells[i];\n",
       "        if (cell.cell_type === 'code'){\n",
       "            for (var j=0; j<cell.output_area.outputs.length; j++) {\n",
       "                var data = cell.output_area.outputs[j];\n",
       "                if (data.data) {\n",
       "                    // IPython >= 3 moved mimebundle to data attribute of output\n",
       "                    data = data.data;\n",
       "                }\n",
       "                if (data['text/html'] == html_output) {\n",
       "                    return [cell, data, j];\n",
       "                }\n",
       "            }\n",
       "        }\n",
       "    }\n",
       "}\n",
       "\n",
       "// Register the function which deals with the matplotlib target/channel.\n",
       "// The kernel may be null if the page has been refreshed.\n",
       "if (IPython.notebook.kernel != null) {\n",
       "    IPython.notebook.kernel.comm_manager.register_target('matplotlib', mpl.mpl_figure_comm);\n",
       "}\n"
      ],
      "text/plain": [
       "<IPython.core.display.Javascript object>"
      ]
     },
     "metadata": {},
     "output_type": "display_data"
    },
    {
     "data": {
      "text/html": [
       "<img src=\"data:image/png;base64,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\" width=\"639.9999861283738\">"
      ],
      "text/plain": [
       "<IPython.core.display.HTML object>"
      ]
     },
     "metadata": {},
     "output_type": "display_data"
    }
   ],
   "source": [
    "fig = plt.figure()\n",
    "ax = fig.add_subplot(111, projection='3d')\n",
    "x = np.random.randn(30)\n",
    "y = np.random.randn(30)\n",
    "z = 10*np.random.randn(30)\n",
    "ax.scatter(x, y, z, marker = '.')\n",
    "plt.show()"
   ]
  },
  {
   "cell_type": "markdown",
   "metadata": {
    "slideshow": {
     "slide_type": "subslide"
    }
   },
   "source": [
    "** 3D Surface **"
   ]
  },
  {
   "cell_type": "code",
   "execution_count": 99,
   "metadata": {
    "collapsed": true,
    "slideshow": {
     "slide_type": "fragment"
    }
   },
   "outputs": [],
   "source": [
    "from matplotlib import cm"
   ]
  },
  {
   "cell_type": "code",
   "execution_count": 100,
   "metadata": {
    "slideshow": {
     "slide_type": "subslide"
    }
   },
   "outputs": [
    {
     "data": {
      "application/javascript": [
       "/* Put everything inside the global mpl namespace */\n",
       "window.mpl = {};\n",
       "\n",
       "\n",
       "mpl.get_websocket_type = function() {\n",
       "    if (typeof(WebSocket) !== 'undefined') {\n",
       "        return WebSocket;\n",
       "    } else if (typeof(MozWebSocket) !== 'undefined') {\n",
       "        return MozWebSocket;\n",
       "    } else {\n",
       "        alert('Your browser does not have WebSocket support.' +\n",
       "              'Please try Chrome, Safari or Firefox ≥ 6. ' +\n",
       "              'Firefox 4 and 5 are also supported but you ' +\n",
       "              'have to enable WebSockets in about:config.');\n",
       "    };\n",
       "}\n",
       "\n",
       "mpl.figure = function(figure_id, websocket, ondownload, parent_element) {\n",
       "    this.id = figure_id;\n",
       "\n",
       "    this.ws = websocket;\n",
       "\n",
       "    this.supports_binary = (this.ws.binaryType != undefined);\n",
       "\n",
       "    if (!this.supports_binary) {\n",
       "        var warnings = document.getElementById(\"mpl-warnings\");\n",
       "        if (warnings) {\n",
       "            warnings.style.display = 'block';\n",
       "            warnings.textContent = (\n",
       "                \"This browser does not support binary websocket messages. \" +\n",
       "                    \"Performance may be slow.\");\n",
       "        }\n",
       "    }\n",
       "\n",
       "    this.imageObj = new Image();\n",
       "\n",
       "    this.context = undefined;\n",
       "    this.message = undefined;\n",
       "    this.canvas = undefined;\n",
       "    this.rubberband_canvas = undefined;\n",
       "    this.rubberband_context = undefined;\n",
       "    this.format_dropdown = undefined;\n",
       "\n",
       "    this.image_mode = 'full';\n",
       "\n",
       "    this.root = $('<div/>');\n",
       "    this._root_extra_style(this.root)\n",
       "    this.root.attr('style', 'display: inline-block');\n",
       "\n",
       "    $(parent_element).append(this.root);\n",
       "\n",
       "    this._init_header(this);\n",
       "    this._init_canvas(this);\n",
       "    this._init_toolbar(this);\n",
       "\n",
       "    var fig = this;\n",
       "\n",
       "    this.waiting = false;\n",
       "\n",
       "    this.ws.onopen =  function () {\n",
       "            fig.send_message(\"supports_binary\", {value: fig.supports_binary});\n",
       "            fig.send_message(\"send_image_mode\", {});\n",
       "            if (mpl.ratio != 1) {\n",
       "                fig.send_message(\"set_dpi_ratio\", {'dpi_ratio': mpl.ratio});\n",
       "            }\n",
       "            fig.send_message(\"refresh\", {});\n",
       "        }\n",
       "\n",
       "    this.imageObj.onload = function() {\n",
       "            if (fig.image_mode == 'full') {\n",
       "                // Full images could contain transparency (where diff images\n",
       "                // almost always do), so we need to clear the canvas so that\n",
       "                // there is no ghosting.\n",
       "                fig.context.clearRect(0, 0, fig.canvas.width, fig.canvas.height);\n",
       "            }\n",
       "            fig.context.drawImage(fig.imageObj, 0, 0);\n",
       "        };\n",
       "\n",
       "    this.imageObj.onunload = function() {\n",
       "        fig.ws.close();\n",
       "    }\n",
       "\n",
       "    this.ws.onmessage = this._make_on_message_function(this);\n",
       "\n",
       "    this.ondownload = ondownload;\n",
       "}\n",
       "\n",
       "mpl.figure.prototype._init_header = function() {\n",
       "    var titlebar = $(\n",
       "        '<div class=\"ui-dialog-titlebar ui-widget-header ui-corner-all ' +\n",
       "        'ui-helper-clearfix\"/>');\n",
       "    var titletext = $(\n",
       "        '<div class=\"ui-dialog-title\" style=\"width: 100%; ' +\n",
       "        'text-align: center; padding: 3px;\"/>');\n",
       "    titlebar.append(titletext)\n",
       "    this.root.append(titlebar);\n",
       "    this.header = titletext[0];\n",
       "}\n",
       "\n",
       "\n",
       "\n",
       "mpl.figure.prototype._canvas_extra_style = function(canvas_div) {\n",
       "\n",
       "}\n",
       "\n",
       "\n",
       "mpl.figure.prototype._root_extra_style = function(canvas_div) {\n",
       "\n",
       "}\n",
       "\n",
       "mpl.figure.prototype._init_canvas = function() {\n",
       "    var fig = this;\n",
       "\n",
       "    var canvas_div = $('<div/>');\n",
       "\n",
       "    canvas_div.attr('style', 'position: relative; clear: both; outline: 0');\n",
       "\n",
       "    function canvas_keyboard_event(event) {\n",
       "        return fig.key_event(event, event['data']);\n",
       "    }\n",
       "\n",
       "    canvas_div.keydown('key_press', canvas_keyboard_event);\n",
       "    canvas_div.keyup('key_release', canvas_keyboard_event);\n",
       "    this.canvas_div = canvas_div\n",
       "    this._canvas_extra_style(canvas_div)\n",
       "    this.root.append(canvas_div);\n",
       "\n",
       "    var canvas = $('<canvas/>');\n",
       "    canvas.addClass('mpl-canvas');\n",
       "    canvas.attr('style', \"left: 0; top: 0; z-index: 0; outline: 0\")\n",
       "\n",
       "    this.canvas = canvas[0];\n",
       "    this.context = canvas[0].getContext(\"2d\");\n",
       "\n",
       "    var backingStore = this.context.backingStorePixelRatio ||\n",
       "\tthis.context.webkitBackingStorePixelRatio ||\n",
       "\tthis.context.mozBackingStorePixelRatio ||\n",
       "\tthis.context.msBackingStorePixelRatio ||\n",
       "\tthis.context.oBackingStorePixelRatio ||\n",
       "\tthis.context.backingStorePixelRatio || 1;\n",
       "\n",
       "    mpl.ratio = (window.devicePixelRatio || 1) / backingStore;\n",
       "\n",
       "    var rubberband = $('<canvas/>');\n",
       "    rubberband.attr('style', \"position: absolute; left: 0; top: 0; z-index: 1;\")\n",
       "\n",
       "    var pass_mouse_events = true;\n",
       "\n",
       "    canvas_div.resizable({\n",
       "        start: function(event, ui) {\n",
       "            pass_mouse_events = false;\n",
       "        },\n",
       "        resize: function(event, ui) {\n",
       "            fig.request_resize(ui.size.width, ui.size.height);\n",
       "        },\n",
       "        stop: function(event, ui) {\n",
       "            pass_mouse_events = true;\n",
       "            fig.request_resize(ui.size.width, ui.size.height);\n",
       "        },\n",
       "    });\n",
       "\n",
       "    function mouse_event_fn(event) {\n",
       "        if (pass_mouse_events)\n",
       "            return fig.mouse_event(event, event['data']);\n",
       "    }\n",
       "\n",
       "    rubberband.mousedown('button_press', mouse_event_fn);\n",
       "    rubberband.mouseup('button_release', mouse_event_fn);\n",
       "    // Throttle sequential mouse events to 1 every 20ms.\n",
       "    rubberband.mousemove('motion_notify', mouse_event_fn);\n",
       "\n",
       "    rubberband.mouseenter('figure_enter', mouse_event_fn);\n",
       "    rubberband.mouseleave('figure_leave', mouse_event_fn);\n",
       "\n",
       "    canvas_div.on(\"wheel\", function (event) {\n",
       "        event = event.originalEvent;\n",
       "        event['data'] = 'scroll'\n",
       "        if (event.deltaY < 0) {\n",
       "            event.step = 1;\n",
       "        } else {\n",
       "            event.step = -1;\n",
       "        }\n",
       "        mouse_event_fn(event);\n",
       "    });\n",
       "\n",
       "    canvas_div.append(canvas);\n",
       "    canvas_div.append(rubberband);\n",
       "\n",
       "    this.rubberband = rubberband;\n",
       "    this.rubberband_canvas = rubberband[0];\n",
       "    this.rubberband_context = rubberband[0].getContext(\"2d\");\n",
       "    this.rubberband_context.strokeStyle = \"#000000\";\n",
       "\n",
       "    this._resize_canvas = function(width, height) {\n",
       "        // Keep the size of the canvas, canvas container, and rubber band\n",
       "        // canvas in synch.\n",
       "        canvas_div.css('width', width)\n",
       "        canvas_div.css('height', height)\n",
       "\n",
       "        canvas.attr('width', width * mpl.ratio);\n",
       "        canvas.attr('height', height * mpl.ratio);\n",
       "        canvas.attr('style', 'width: ' + width + 'px; height: ' + height + 'px;');\n",
       "\n",
       "        rubberband.attr('width', width);\n",
       "        rubberband.attr('height', height);\n",
       "    }\n",
       "\n",
       "    // Set the figure to an initial 600x600px, this will subsequently be updated\n",
       "    // upon first draw.\n",
       "    this._resize_canvas(600, 600);\n",
       "\n",
       "    // Disable right mouse context menu.\n",
       "    $(this.rubberband_canvas).bind(\"contextmenu\",function(e){\n",
       "        return false;\n",
       "    });\n",
       "\n",
       "    function set_focus () {\n",
       "        canvas.focus();\n",
       "        canvas_div.focus();\n",
       "    }\n",
       "\n",
       "    window.setTimeout(set_focus, 100);\n",
       "}\n",
       "\n",
       "mpl.figure.prototype._init_toolbar = function() {\n",
       "    var fig = this;\n",
       "\n",
       "    var nav_element = $('<div/>')\n",
       "    nav_element.attr('style', 'width: 100%');\n",
       "    this.root.append(nav_element);\n",
       "\n",
       "    // Define a callback function for later on.\n",
       "    function toolbar_event(event) {\n",
       "        return fig.toolbar_button_onclick(event['data']);\n",
       "    }\n",
       "    function toolbar_mouse_event(event) {\n",
       "        return fig.toolbar_button_onmouseover(event['data']);\n",
       "    }\n",
       "\n",
       "    for(var toolbar_ind in mpl.toolbar_items) {\n",
       "        var name = mpl.toolbar_items[toolbar_ind][0];\n",
       "        var tooltip = mpl.toolbar_items[toolbar_ind][1];\n",
       "        var image = mpl.toolbar_items[toolbar_ind][2];\n",
       "        var method_name = mpl.toolbar_items[toolbar_ind][3];\n",
       "\n",
       "        if (!name) {\n",
       "            // put a spacer in here.\n",
       "            continue;\n",
       "        }\n",
       "        var button = $('<button/>');\n",
       "        button.addClass('ui-button ui-widget ui-state-default ui-corner-all ' +\n",
       "                        'ui-button-icon-only');\n",
       "        button.attr('role', 'button');\n",
       "        button.attr('aria-disabled', 'false');\n",
       "        button.click(method_name, toolbar_event);\n",
       "        button.mouseover(tooltip, toolbar_mouse_event);\n",
       "\n",
       "        var icon_img = $('<span/>');\n",
       "        icon_img.addClass('ui-button-icon-primary ui-icon');\n",
       "        icon_img.addClass(image);\n",
       "        icon_img.addClass('ui-corner-all');\n",
       "\n",
       "        var tooltip_span = $('<span/>');\n",
       "        tooltip_span.addClass('ui-button-text');\n",
       "        tooltip_span.html(tooltip);\n",
       "\n",
       "        button.append(icon_img);\n",
       "        button.append(tooltip_span);\n",
       "\n",
       "        nav_element.append(button);\n",
       "    }\n",
       "\n",
       "    var fmt_picker_span = $('<span/>');\n",
       "\n",
       "    var fmt_picker = $('<select/>');\n",
       "    fmt_picker.addClass('mpl-toolbar-option ui-widget ui-widget-content');\n",
       "    fmt_picker_span.append(fmt_picker);\n",
       "    nav_element.append(fmt_picker_span);\n",
       "    this.format_dropdown = fmt_picker[0];\n",
       "\n",
       "    for (var ind in mpl.extensions) {\n",
       "        var fmt = mpl.extensions[ind];\n",
       "        var option = $(\n",
       "            '<option/>', {selected: fmt === mpl.default_extension}).html(fmt);\n",
       "        fmt_picker.append(option)\n",
       "    }\n",
       "\n",
       "    // Add hover states to the ui-buttons\n",
       "    $( \".ui-button\" ).hover(\n",
       "        function() { $(this).addClass(\"ui-state-hover\");},\n",
       "        function() { $(this).removeClass(\"ui-state-hover\");}\n",
       "    );\n",
       "\n",
       "    var status_bar = $('<span class=\"mpl-message\"/>');\n",
       "    nav_element.append(status_bar);\n",
       "    this.message = status_bar[0];\n",
       "}\n",
       "\n",
       "mpl.figure.prototype.request_resize = function(x_pixels, y_pixels) {\n",
       "    // Request matplotlib to resize the figure. Matplotlib will then trigger a resize in the client,\n",
       "    // which will in turn request a refresh of the image.\n",
       "    this.send_message('resize', {'width': x_pixels, 'height': y_pixels});\n",
       "}\n",
       "\n",
       "mpl.figure.prototype.send_message = function(type, properties) {\n",
       "    properties['type'] = type;\n",
       "    properties['figure_id'] = this.id;\n",
       "    this.ws.send(JSON.stringify(properties));\n",
       "}\n",
       "\n",
       "mpl.figure.prototype.send_draw_message = function() {\n",
       "    if (!this.waiting) {\n",
       "        this.waiting = true;\n",
       "        this.ws.send(JSON.stringify({type: \"draw\", figure_id: this.id}));\n",
       "    }\n",
       "}\n",
       "\n",
       "\n",
       "mpl.figure.prototype.handle_save = function(fig, msg) {\n",
       "    var format_dropdown = fig.format_dropdown;\n",
       "    var format = format_dropdown.options[format_dropdown.selectedIndex].value;\n",
       "    fig.ondownload(fig, format);\n",
       "}\n",
       "\n",
       "\n",
       "mpl.figure.prototype.handle_resize = function(fig, msg) {\n",
       "    var size = msg['size'];\n",
       "    if (size[0] != fig.canvas.width || size[1] != fig.canvas.height) {\n",
       "        fig._resize_canvas(size[0], size[1]);\n",
       "        fig.send_message(\"refresh\", {});\n",
       "    };\n",
       "}\n",
       "\n",
       "mpl.figure.prototype.handle_rubberband = function(fig, msg) {\n",
       "    var x0 = msg['x0'] / mpl.ratio;\n",
       "    var y0 = (fig.canvas.height - msg['y0']) / mpl.ratio;\n",
       "    var x1 = msg['x1'] / mpl.ratio;\n",
       "    var y1 = (fig.canvas.height - msg['y1']) / mpl.ratio;\n",
       "    x0 = Math.floor(x0) + 0.5;\n",
       "    y0 = Math.floor(y0) + 0.5;\n",
       "    x1 = Math.floor(x1) + 0.5;\n",
       "    y1 = Math.floor(y1) + 0.5;\n",
       "    var min_x = Math.min(x0, x1);\n",
       "    var min_y = Math.min(y0, y1);\n",
       "    var width = Math.abs(x1 - x0);\n",
       "    var height = Math.abs(y1 - y0);\n",
       "\n",
       "    fig.rubberband_context.clearRect(\n",
       "        0, 0, fig.canvas.width, fig.canvas.height);\n",
       "\n",
       "    fig.rubberband_context.strokeRect(min_x, min_y, width, height);\n",
       "}\n",
       "\n",
       "mpl.figure.prototype.handle_figure_label = function(fig, msg) {\n",
       "    // Updates the figure title.\n",
       "    fig.header.textContent = msg['label'];\n",
       "}\n",
       "\n",
       "mpl.figure.prototype.handle_cursor = function(fig, msg) {\n",
       "    var cursor = msg['cursor'];\n",
       "    switch(cursor)\n",
       "    {\n",
       "    case 0:\n",
       "        cursor = 'pointer';\n",
       "        break;\n",
       "    case 1:\n",
       "        cursor = 'default';\n",
       "        break;\n",
       "    case 2:\n",
       "        cursor = 'crosshair';\n",
       "        break;\n",
       "    case 3:\n",
       "        cursor = 'move';\n",
       "        break;\n",
       "    }\n",
       "    fig.rubberband_canvas.style.cursor = cursor;\n",
       "}\n",
       "\n",
       "mpl.figure.prototype.handle_message = function(fig, msg) {\n",
       "    fig.message.textContent = msg['message'];\n",
       "}\n",
       "\n",
       "mpl.figure.prototype.handle_draw = function(fig, msg) {\n",
       "    // Request the server to send over a new figure.\n",
       "    fig.send_draw_message();\n",
       "}\n",
       "\n",
       "mpl.figure.prototype.handle_image_mode = function(fig, msg) {\n",
       "    fig.image_mode = msg['mode'];\n",
       "}\n",
       "\n",
       "mpl.figure.prototype.updated_canvas_event = function() {\n",
       "    // Called whenever the canvas gets updated.\n",
       "    this.send_message(\"ack\", {});\n",
       "}\n",
       "\n",
       "// A function to construct a web socket function for onmessage handling.\n",
       "// Called in the figure constructor.\n",
       "mpl.figure.prototype._make_on_message_function = function(fig) {\n",
       "    return function socket_on_message(evt) {\n",
       "        if (evt.data instanceof Blob) {\n",
       "            /* FIXME: We get \"Resource interpreted as Image but\n",
       "             * transferred with MIME type text/plain:\" errors on\n",
       "             * Chrome.  But how to set the MIME type?  It doesn't seem\n",
       "             * to be part of the websocket stream */\n",
       "            evt.data.type = \"image/png\";\n",
       "\n",
       "            /* Free the memory for the previous frames */\n",
       "            if (fig.imageObj.src) {\n",
       "                (window.URL || window.webkitURL).revokeObjectURL(\n",
       "                    fig.imageObj.src);\n",
       "            }\n",
       "\n",
       "            fig.imageObj.src = (window.URL || window.webkitURL).createObjectURL(\n",
       "                evt.data);\n",
       "            fig.updated_canvas_event();\n",
       "            fig.waiting = false;\n",
       "            return;\n",
       "        }\n",
       "        else if (typeof evt.data === 'string' && evt.data.slice(0, 21) == \"data:image/png;base64\") {\n",
       "            fig.imageObj.src = evt.data;\n",
       "            fig.updated_canvas_event();\n",
       "            fig.waiting = false;\n",
       "            return;\n",
       "        }\n",
       "\n",
       "        var msg = JSON.parse(evt.data);\n",
       "        var msg_type = msg['type'];\n",
       "\n",
       "        // Call the  \"handle_{type}\" callback, which takes\n",
       "        // the figure and JSON message as its only arguments.\n",
       "        try {\n",
       "            var callback = fig[\"handle_\" + msg_type];\n",
       "        } catch (e) {\n",
       "            console.log(\"No handler for the '\" + msg_type + \"' message type: \", msg);\n",
       "            return;\n",
       "        }\n",
       "\n",
       "        if (callback) {\n",
       "            try {\n",
       "                // console.log(\"Handling '\" + msg_type + \"' message: \", msg);\n",
       "                callback(fig, msg);\n",
       "            } catch (e) {\n",
       "                console.log(\"Exception inside the 'handler_\" + msg_type + \"' callback:\", e, e.stack, msg);\n",
       "            }\n",
       "        }\n",
       "    };\n",
       "}\n",
       "\n",
       "// from http://stackoverflow.com/questions/1114465/getting-mouse-location-in-canvas\n",
       "mpl.findpos = function(e) {\n",
       "    //this section is from http://www.quirksmode.org/js/events_properties.html\n",
       "    var targ;\n",
       "    if (!e)\n",
       "        e = window.event;\n",
       "    if (e.target)\n",
       "        targ = e.target;\n",
       "    else if (e.srcElement)\n",
       "        targ = e.srcElement;\n",
       "    if (targ.nodeType == 3) // defeat Safari bug\n",
       "        targ = targ.parentNode;\n",
       "\n",
       "    // jQuery normalizes the pageX and pageY\n",
       "    // pageX,Y are the mouse positions relative to the document\n",
       "    // offset() returns the position of the element relative to the document\n",
       "    var x = e.pageX - $(targ).offset().left;\n",
       "    var y = e.pageY - $(targ).offset().top;\n",
       "\n",
       "    return {\"x\": x, \"y\": y};\n",
       "};\n",
       "\n",
       "/*\n",
       " * return a copy of an object with only non-object keys\n",
       " * we need this to avoid circular references\n",
       " * http://stackoverflow.com/a/24161582/3208463\n",
       " */\n",
       "function simpleKeys (original) {\n",
       "  return Object.keys(original).reduce(function (obj, key) {\n",
       "    if (typeof original[key] !== 'object')\n",
       "        obj[key] = original[key]\n",
       "    return obj;\n",
       "  }, {});\n",
       "}\n",
       "\n",
       "mpl.figure.prototype.mouse_event = function(event, name) {\n",
       "    var canvas_pos = mpl.findpos(event)\n",
       "\n",
       "    if (name === 'button_press')\n",
       "    {\n",
       "        this.canvas.focus();\n",
       "        this.canvas_div.focus();\n",
       "    }\n",
       "\n",
       "    var x = canvas_pos.x * mpl.ratio;\n",
       "    var y = canvas_pos.y * mpl.ratio;\n",
       "\n",
       "    this.send_message(name, {x: x, y: y, button: event.button,\n",
       "                             step: event.step,\n",
       "                             guiEvent: simpleKeys(event)});\n",
       "\n",
       "    /* This prevents the web browser from automatically changing to\n",
       "     * the text insertion cursor when the button is pressed.  We want\n",
       "     * to control all of the cursor setting manually through the\n",
       "     * 'cursor' event from matplotlib */\n",
       "    event.preventDefault();\n",
       "    return false;\n",
       "}\n",
       "\n",
       "mpl.figure.prototype._key_event_extra = function(event, name) {\n",
       "    // Handle any extra behaviour associated with a key event\n",
       "}\n",
       "\n",
       "mpl.figure.prototype.key_event = function(event, name) {\n",
       "\n",
       "    // Prevent repeat events\n",
       "    if (name == 'key_press')\n",
       "    {\n",
       "        if (event.which === this._key)\n",
       "            return;\n",
       "        else\n",
       "            this._key = event.which;\n",
       "    }\n",
       "    if (name == 'key_release')\n",
       "        this._key = null;\n",
       "\n",
       "    var value = '';\n",
       "    if (event.ctrlKey && event.which != 17)\n",
       "        value += \"ctrl+\";\n",
       "    if (event.altKey && event.which != 18)\n",
       "        value += \"alt+\";\n",
       "    if (event.shiftKey && event.which != 16)\n",
       "        value += \"shift+\";\n",
       "\n",
       "    value += 'k';\n",
       "    value += event.which.toString();\n",
       "\n",
       "    this._key_event_extra(event, name);\n",
       "\n",
       "    this.send_message(name, {key: value,\n",
       "                             guiEvent: simpleKeys(event)});\n",
       "    return false;\n",
       "}\n",
       "\n",
       "mpl.figure.prototype.toolbar_button_onclick = function(name) {\n",
       "    if (name == 'download') {\n",
       "        this.handle_save(this, null);\n",
       "    } else {\n",
       "        this.send_message(\"toolbar_button\", {name: name});\n",
       "    }\n",
       "};\n",
       "\n",
       "mpl.figure.prototype.toolbar_button_onmouseover = function(tooltip) {\n",
       "    this.message.textContent = tooltip;\n",
       "};\n",
       "mpl.toolbar_items = [[\"Home\", \"Reset original view\", \"fa fa-home icon-home\", \"home\"], [\"Back\", \"Back to  previous view\", \"fa fa-arrow-left icon-arrow-left\", \"back\"], [\"Forward\", \"Forward to next view\", \"fa fa-arrow-right icon-arrow-right\", \"forward\"], [\"\", \"\", \"\", \"\"], [\"Pan\", \"Pan axes with left mouse, zoom with right\", \"fa fa-arrows icon-move\", \"pan\"], [\"Zoom\", \"Zoom to rectangle\", \"fa fa-square-o icon-check-empty\", \"zoom\"], [\"\", \"\", \"\", \"\"], [\"Download\", \"Download plot\", \"fa fa-floppy-o icon-save\", \"download\"]];\n",
       "\n",
       "mpl.extensions = [\"eps\", \"jpeg\", \"pdf\", \"png\", \"ps\", \"raw\", \"svg\", \"tif\"];\n",
       "\n",
       "mpl.default_extension = \"png\";var comm_websocket_adapter = function(comm) {\n",
       "    // Create a \"websocket\"-like object which calls the given IPython comm\n",
       "    // object with the appropriate methods. Currently this is a non binary\n",
       "    // socket, so there is still some room for performance tuning.\n",
       "    var ws = {};\n",
       "\n",
       "    ws.close = function() {\n",
       "        comm.close()\n",
       "    };\n",
       "    ws.send = function(m) {\n",
       "        //console.log('sending', m);\n",
       "        comm.send(m);\n",
       "    };\n",
       "    // Register the callback with on_msg.\n",
       "    comm.on_msg(function(msg) {\n",
       "        //console.log('receiving', msg['content']['data'], msg);\n",
       "        // Pass the mpl event to the overriden (by mpl) onmessage function.\n",
       "        ws.onmessage(msg['content']['data'])\n",
       "    });\n",
       "    return ws;\n",
       "}\n",
       "\n",
       "mpl.mpl_figure_comm = function(comm, msg) {\n",
       "    // This is the function which gets called when the mpl process\n",
       "    // starts-up an IPython Comm through the \"matplotlib\" channel.\n",
       "\n",
       "    var id = msg.content.data.id;\n",
       "    // Get hold of the div created by the display call when the Comm\n",
       "    // socket was opened in Python.\n",
       "    var element = $(\"#\" + id);\n",
       "    var ws_proxy = comm_websocket_adapter(comm)\n",
       "\n",
       "    function ondownload(figure, format) {\n",
       "        window.open(figure.imageObj.src);\n",
       "    }\n",
       "\n",
       "    var fig = new mpl.figure(id, ws_proxy,\n",
       "                           ondownload,\n",
       "                           element.get(0));\n",
       "\n",
       "    // Call onopen now - mpl needs it, as it is assuming we've passed it a real\n",
       "    // web socket which is closed, not our websocket->open comm proxy.\n",
       "    ws_proxy.onopen();\n",
       "\n",
       "    fig.parent_element = element.get(0);\n",
       "    fig.cell_info = mpl.find_output_cell(\"<div id='\" + id + \"'></div>\");\n",
       "    if (!fig.cell_info) {\n",
       "        console.error(\"Failed to find cell for figure\", id, fig);\n",
       "        return;\n",
       "    }\n",
       "\n",
       "    var output_index = fig.cell_info[2]\n",
       "    var cell = fig.cell_info[0];\n",
       "\n",
       "};\n",
       "\n",
       "mpl.figure.prototype.handle_close = function(fig, msg) {\n",
       "    var width = fig.canvas.width/mpl.ratio\n",
       "    fig.root.unbind('remove')\n",
       "\n",
       "    // Update the output cell to use the data from the current canvas.\n",
       "    fig.push_to_output();\n",
       "    var dataURL = fig.canvas.toDataURL();\n",
       "    // Re-enable the keyboard manager in IPython - without this line, in FF,\n",
       "    // the notebook keyboard shortcuts fail.\n",
       "    IPython.keyboard_manager.enable()\n",
       "    $(fig.parent_element).html('<img src=\"' + dataURL + '\" width=\"' + width + '\">');\n",
       "    fig.close_ws(fig, msg);\n",
       "}\n",
       "\n",
       "mpl.figure.prototype.close_ws = function(fig, msg){\n",
       "    fig.send_message('closing', msg);\n",
       "    // fig.ws.close()\n",
       "}\n",
       "\n",
       "mpl.figure.prototype.push_to_output = function(remove_interactive) {\n",
       "    // Turn the data on the canvas into data in the output cell.\n",
       "    var width = this.canvas.width/mpl.ratio\n",
       "    var dataURL = this.canvas.toDataURL();\n",
       "    this.cell_info[1]['text/html'] = '<img src=\"' + dataURL + '\" width=\"' + width + '\">';\n",
       "}\n",
       "\n",
       "mpl.figure.prototype.updated_canvas_event = function() {\n",
       "    // Tell IPython that the notebook contents must change.\n",
       "    IPython.notebook.set_dirty(true);\n",
       "    this.send_message(\"ack\", {});\n",
       "    var fig = this;\n",
       "    // Wait a second, then push the new image to the DOM so\n",
       "    // that it is saved nicely (might be nice to debounce this).\n",
       "    setTimeout(function () { fig.push_to_output() }, 1000);\n",
       "}\n",
       "\n",
       "mpl.figure.prototype._init_toolbar = function() {\n",
       "    var fig = this;\n",
       "\n",
       "    var nav_element = $('<div/>')\n",
       "    nav_element.attr('style', 'width: 100%');\n",
       "    this.root.append(nav_element);\n",
       "\n",
       "    // Define a callback function for later on.\n",
       "    function toolbar_event(event) {\n",
       "        return fig.toolbar_button_onclick(event['data']);\n",
       "    }\n",
       "    function toolbar_mouse_event(event) {\n",
       "        return fig.toolbar_button_onmouseover(event['data']);\n",
       "    }\n",
       "\n",
       "    for(var toolbar_ind in mpl.toolbar_items){\n",
       "        var name = mpl.toolbar_items[toolbar_ind][0];\n",
       "        var tooltip = mpl.toolbar_items[toolbar_ind][1];\n",
       "        var image = mpl.toolbar_items[toolbar_ind][2];\n",
       "        var method_name = mpl.toolbar_items[toolbar_ind][3];\n",
       "\n",
       "        if (!name) { continue; };\n",
       "\n",
       "        var button = $('<button class=\"btn btn-default\" href=\"#\" title=\"' + name + '\"><i class=\"fa ' + image + ' fa-lg\"></i></button>');\n",
       "        button.click(method_name, toolbar_event);\n",
       "        button.mouseover(tooltip, toolbar_mouse_event);\n",
       "        nav_element.append(button);\n",
       "    }\n",
       "\n",
       "    // Add the status bar.\n",
       "    var status_bar = $('<span class=\"mpl-message\" style=\"text-align:right; float: right;\"/>');\n",
       "    nav_element.append(status_bar);\n",
       "    this.message = status_bar[0];\n",
       "\n",
       "    // Add the close button to the window.\n",
       "    var buttongrp = $('<div class=\"btn-group inline pull-right\"></div>');\n",
       "    var button = $('<button class=\"btn btn-mini btn-primary\" href=\"#\" title=\"Stop Interaction\"><i class=\"fa fa-power-off icon-remove icon-large\"></i></button>');\n",
       "    button.click(function (evt) { fig.handle_close(fig, {}); } );\n",
       "    button.mouseover('Stop Interaction', toolbar_mouse_event);\n",
       "    buttongrp.append(button);\n",
       "    var titlebar = this.root.find($('.ui-dialog-titlebar'));\n",
       "    titlebar.prepend(buttongrp);\n",
       "}\n",
       "\n",
       "mpl.figure.prototype._root_extra_style = function(el){\n",
       "    var fig = this\n",
       "    el.on(\"remove\", function(){\n",
       "\tfig.close_ws(fig, {});\n",
       "    });\n",
       "}\n",
       "\n",
       "mpl.figure.prototype._canvas_extra_style = function(el){\n",
       "    // this is important to make the div 'focusable\n",
       "    el.attr('tabindex', 0)\n",
       "    // reach out to IPython and tell the keyboard manager to turn it's self\n",
       "    // off when our div gets focus\n",
       "\n",
       "    // location in version 3\n",
       "    if (IPython.notebook.keyboard_manager) {\n",
       "        IPython.notebook.keyboard_manager.register_events(el);\n",
       "    }\n",
       "    else {\n",
       "        // location in version 2\n",
       "        IPython.keyboard_manager.register_events(el);\n",
       "    }\n",
       "\n",
       "}\n",
       "\n",
       "mpl.figure.prototype._key_event_extra = function(event, name) {\n",
       "    var manager = IPython.notebook.keyboard_manager;\n",
       "    if (!manager)\n",
       "        manager = IPython.keyboard_manager;\n",
       "\n",
       "    // Check for shift+enter\n",
       "    if (event.shiftKey && event.which == 13) {\n",
       "        this.canvas_div.blur();\n",
       "        event.shiftKey = false;\n",
       "        // Send a \"J\" for go to next cell\n",
       "        event.which = 74;\n",
       "        event.keyCode = 74;\n",
       "        manager.command_mode();\n",
       "        manager.handle_keydown(event);\n",
       "    }\n",
       "}\n",
       "\n",
       "mpl.figure.prototype.handle_save = function(fig, msg) {\n",
       "    fig.ondownload(fig, null);\n",
       "}\n",
       "\n",
       "\n",
       "mpl.find_output_cell = function(html_output) {\n",
       "    // Return the cell and output element which can be found *uniquely* in the notebook.\n",
       "    // Note - this is a bit hacky, but it is done because the \"notebook_saving.Notebook\"\n",
       "    // IPython event is triggered only after the cells have been serialised, which for\n",
       "    // our purposes (turning an active figure into a static one), is too late.\n",
       "    var cells = IPython.notebook.get_cells();\n",
       "    var ncells = cells.length;\n",
       "    for (var i=0; i<ncells; i++) {\n",
       "        var cell = cells[i];\n",
       "        if (cell.cell_type === 'code'){\n",
       "            for (var j=0; j<cell.output_area.outputs.length; j++) {\n",
       "                var data = cell.output_area.outputs[j];\n",
       "                if (data.data) {\n",
       "                    // IPython >= 3 moved mimebundle to data attribute of output\n",
       "                    data = data.data;\n",
       "                }\n",
       "                if (data['text/html'] == html_output) {\n",
       "                    return [cell, data, j];\n",
       "                }\n",
       "            }\n",
       "        }\n",
       "    }\n",
       "}\n",
       "\n",
       "// Register the function which deals with the matplotlib target/channel.\n",
       "// The kernel may be null if the page has been refreshed.\n",
       "if (IPython.notebook.kernel != null) {\n",
       "    IPython.notebook.kernel.comm_manager.register_target('matplotlib', mpl.mpl_figure_comm);\n",
       "}\n"
      ],
      "text/plain": [
       "<IPython.core.display.Javascript object>"
      ]
     },
     "metadata": {},
     "output_type": "display_data"
    },
    {
     "data": {
      "text/html": [
       "<img src=\"data:image/png;base64,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\" width=\"639.9999861283738\">"
      ],
      "text/plain": [
       "<IPython.core.display.HTML object>"
      ]
     },
     "metadata": {},
     "output_type": "display_data"
    }
   ],
   "source": [
    "fig = plt.figure()\n",
    "ax = fig.gca(projection='3d')\n",
    "x = np.arange(-5, 5, 0.1)\n",
    "y = np.arange(-5, 5, 0.1)\n",
    "x, y = np.meshgrid(x, y)\n",
    "r = np.sqrt(x**2 + y**2)\n",
    "z = np.sin(r)/r\n",
    "surf = ax.plot_surface(x, y, z, linewidth=0, cmap=cm.coolwarm)\n",
    "fig.colorbar(surf, shrink=0.5, aspect=5)\n",
    "plt.show()"
   ]
  },
  {
   "cell_type": "markdown",
   "metadata": {
    "slideshow": {
     "slide_type": "slide"
    }
   },
   "source": [
    "## Useful Resources\n",
    "\n",
    "* [Python Packages Binaries for Windows](https://www.lfd.uci.edu/~gohlke/pythonlibs/)\n",
    "* [Data-science-notebooks](https://github.com/donnemartin/data-science-ipython-notebooks#deep-learning)"
   ]
  },
  {
   "cell_type": "markdown",
   "metadata": {
    "slideshow": {
     "slide_type": "slide"
    }
   },
   "source": [
    "# END"
   ]
  }
 ],
 "metadata": {
  "kernelspec": {
   "display_name": "Python 3",
   "language": "python",
   "name": "python3"
  },
  "language_info": {
   "codemirror_mode": {
    "name": "ipython",
    "version": 3
   },
   "file_extension": ".py",
   "mimetype": "text/x-python",
   "name": "python",
   "nbconvert_exporter": "python",
   "pygments_lexer": "ipython3",
   "version": "3.5.2"
  }
 },
 "nbformat": 4,
 "nbformat_minor": 2
}
