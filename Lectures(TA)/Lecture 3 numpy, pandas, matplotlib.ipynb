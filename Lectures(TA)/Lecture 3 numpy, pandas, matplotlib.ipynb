{
 "cells": [
  {
   "cell_type": "markdown",
   "metadata": {
    "slideshow": {
     "slide_type": "slide"
    }
   },
   "source": [
    "# Lecture 3. numpy, pandas, matplotlib\n",
    "\n",
    "<center>\n",
    "<img src=\"https://camo.githubusercontent.com/2eb0e1096ba504bf9e1446db83a6d1753c3af994/68747470733a2f2f6b6f7a696b6f772e66696c65732e776f726470726573732e636f6d2f323031362f30372f73637265656e73686f74312e706e673f773d31313430\" alt=\"Drawing\" style=\"width: 700px;\"/>\n",
    "</center>\n",
    "\n",
    "<font color='orange'>\n",
    "Seunghyeon Yu\n",
    "</font>"
   ]
  },
  {
   "cell_type": "markdown",
   "metadata": {
    "slideshow": {
     "slide_type": "slide"
    }
   },
   "source": [
    "# Overview\n",
    "\n",
    "* intro\n",
    "* numpy\n",
    "* pandas\n",
    "* matplotlib"
   ]
  },
  {
   "cell_type": "markdown",
   "metadata": {
    "slideshow": {
     "slide_type": "subslide"
    }
   },
   "source": [
    "## Why we use packages?\n",
    "> \"Stand on the shoulders of giants\"\n",
    "> -Issac Newton\n",
    "\n",
    "* Time Saving\n",
    "* Stability (by many open source contributors, [GitHub](https://github.com/))\n",
    "* Nice Documentations ([Read the Docs](https://readthedocs.org/))\n",
    "* Have Fun!"
   ]
  },
  {
   "cell_type": "markdown",
   "metadata": {
    "slideshow": {
     "slide_type": "subslide"
    }
   },
   "source": [
    "## Package Dependencies\n",
    "\n",
    "<center>\n",
    "<img src=\"https://qph.ec.quoracdn.net/main-qimg-fad2e6702b134e3853707daa53214314\" alt=\"Drawing\" style=\"width: 600px;\"/>"
   ]
  },
  {
   "cell_type": "markdown",
   "metadata": {
    "slideshow": {
     "slide_type": "subslide"
    }
   },
   "source": [
    "## Package Structure\n",
    "```\n",
    "game/\n",
    "    __init__.py\n",
    "    sound/\n",
    "        __init__.py\n",
    "        echo.py\n",
    "        wav.py\n",
    "    graphic/\n",
    "        __init__.py\n",
    "        screen.py\n",
    "        render.py\n",
    "    play/\n",
    "        __init__.py\n",
    "        run.py\n",
    "        test.py\n",
    "```\n",
    "* `__init__.py` : Required to make the directories as pakcages."
   ]
  },
  {
   "cell_type": "markdown",
   "metadata": {
    "collapsed": true,
    "slideshow": {
     "slide_type": "slide"
    }
   },
   "source": [
    "# NumPy\n",
    "\n",
    "<center>\n",
    "<img src=\"https://www.kdnuggets.com/wp-content/uploads/numpy-logo.jpg\" alt=\"Drawing\" style=\"width: 300px;\"/>\n",
    "</center>\n",
    "\n",
    "* Similar to Matlab\n",
    "* N-dimensional object\n",
    "* Mathematical functions\n",
    "* Fast calculation \n",
    "* Linear algebra, Fourier transform, random number generation, Einstein summation ..."
   ]
  },
  {
   "cell_type": "code",
   "execution_count": 112,
   "metadata": {
    "collapsed": true,
    "slideshow": {
     "slide_type": "subslide"
    }
   },
   "outputs": [],
   "source": [
    "import numpy as np"
   ]
  },
  {
   "cell_type": "markdown",
   "metadata": {
    "slideshow": {
     "slide_type": "subslide"
    }
   },
   "source": [
    "### Arrays\n",
    "**1D Array **"
   ]
  },
  {
   "cell_type": "code",
   "execution_count": 113,
   "metadata": {
    "slideshow": {
     "slide_type": "fragment"
    }
   },
   "outputs": [
    {
     "data": {
      "text/plain": [
       "(4,)"
      ]
     },
     "execution_count": 113,
     "metadata": {},
     "output_type": "execute_result"
    }
   ],
   "source": [
    "x = np.array([1, 2, 3, 4])\n",
    "x.shape"
   ]
  },
  {
   "cell_type": "code",
   "execution_count": 114,
   "metadata": {
    "slideshow": {
     "slide_type": "fragment"
    }
   },
   "outputs": [
    {
     "data": {
      "text/plain": [
       "array([1., 2., 3., 4.])"
      ]
     },
     "execution_count": 114,
     "metadata": {},
     "output_type": "execute_result"
    }
   ],
   "source": [
    "x = np.array([1, 2, 3, 4], dtype=np.float64)  # datatype to float64\n",
    "x"
   ]
  },
  {
   "cell_type": "markdown",
   "metadata": {
    "slideshow": {
     "slide_type": "subslide"
    }
   },
   "source": [
    "**2D Array**"
   ]
  },
  {
   "cell_type": "code",
   "execution_count": 115,
   "metadata": {
    "slideshow": {
     "slide_type": "fragment"
    }
   },
   "outputs": [
    {
     "data": {
      "text/plain": [
       "(2, 3)"
      ]
     },
     "execution_count": 115,
     "metadata": {},
     "output_type": "execute_result"
    }
   ],
   "source": [
    "X = np.array([[1,2,3],\n",
    "              [4,5,6]])\n",
    "X.shape"
   ]
  },
  {
   "cell_type": "markdown",
   "metadata": {
    "slideshow": {
     "slide_type": "subslide"
    }
   },
   "source": [
    "**reshape**"
   ]
  },
  {
   "cell_type": "code",
   "execution_count": 116,
   "metadata": {
    "slideshow": {
     "slide_type": "fragment"
    }
   },
   "outputs": [
    {
     "data": {
      "text/plain": [
       "array([1, 2, 3, 4, 5, 6])"
      ]
     },
     "execution_count": 116,
     "metadata": {},
     "output_type": "execute_result"
    }
   ],
   "source": [
    "X.reshape(6)"
   ]
  },
  {
   "cell_type": "code",
   "execution_count": 117,
   "metadata": {
    "slideshow": {
     "slide_type": "fragment"
    }
   },
   "outputs": [
    {
     "data": {
      "text/plain": [
       "array([[1],\n",
       "       [2],\n",
       "       [3],\n",
       "       [4],\n",
       "       [5],\n",
       "       [6]])"
      ]
     },
     "execution_count": 117,
     "metadata": {},
     "output_type": "execute_result"
    }
   ],
   "source": [
    "X.reshape(6,1)"
   ]
  },
  {
   "cell_type": "code",
   "execution_count": 119,
   "metadata": {
    "slideshow": {
     "slide_type": "subslide"
    }
   },
   "outputs": [
    {
     "data": {
      "text/plain": [
       "array([[1, 2, 3, 4, 5, 6]])"
      ]
     },
     "execution_count": 119,
     "metadata": {},
     "output_type": "execute_result"
    }
   ],
   "source": [
    "X.reshape(1,6)"
   ]
  },
  {
   "cell_type": "code",
   "execution_count": 120,
   "metadata": {
    "slideshow": {
     "slide_type": "fragment"
    }
   },
   "outputs": [
    {
     "data": {
      "text/plain": [
       "array([[1, 2, 3, 4, 5, 6]])"
      ]
     },
     "execution_count": 120,
     "metadata": {},
     "output_type": "execute_result"
    }
   ],
   "source": [
    "X.reshape(1,-1)"
   ]
  },
  {
   "cell_type": "markdown",
   "metadata": {
    "slideshow": {
     "slide_type": "subslide"
    }
   },
   "source": [
    "Numpy also provides many functions to create arrays:"
   ]
  },
  {
   "cell_type": "code",
   "execution_count": 5,
   "metadata": {
    "slideshow": {
     "slide_type": "fragment"
    }
   },
   "outputs": [
    {
     "data": {
      "text/plain": [
       "array([[0., 0.],\n",
       "       [0., 0.]])"
      ]
     },
     "execution_count": 5,
     "metadata": {},
     "output_type": "execute_result"
    }
   ],
   "source": [
    "np.zeros((2,2))  # Create an array of all zeros"
   ]
  },
  {
   "cell_type": "code",
   "execution_count": 6,
   "metadata": {
    "slideshow": {
     "slide_type": "fragment"
    }
   },
   "outputs": [
    {
     "data": {
      "text/plain": [
       "array([[1., 1.]])"
      ]
     },
     "execution_count": 6,
     "metadata": {},
     "output_type": "execute_result"
    }
   ],
   "source": [
    "np.ones((1,2))   # Create an array of all ones"
   ]
  },
  {
   "cell_type": "code",
   "execution_count": 7,
   "metadata": {
    "slideshow": {
     "slide_type": "fragment"
    }
   },
   "outputs": [
    {
     "data": {
      "text/plain": [
       "array([[7, 7],\n",
       "       [7, 7]])"
      ]
     },
     "execution_count": 7,
     "metadata": {},
     "output_type": "execute_result"
    }
   ],
   "source": [
    "np.full((2,2), 7) # Create a constant array"
   ]
  },
  {
   "cell_type": "code",
   "execution_count": 8,
   "metadata": {
    "scrolled": false,
    "slideshow": {
     "slide_type": "subslide"
    }
   },
   "outputs": [
    {
     "data": {
      "text/plain": [
       "array([[1., 0.],\n",
       "       [0., 1.]])"
      ]
     },
     "execution_count": 8,
     "metadata": {},
     "output_type": "execute_result"
    }
   ],
   "source": [
    "np.eye(2)         # Create a 2x2 identity matrix"
   ]
  },
  {
   "cell_type": "code",
   "execution_count": 9,
   "metadata": {
    "slideshow": {
     "slide_type": "fragment"
    }
   },
   "outputs": [
    {
     "data": {
      "text/plain": [
       "array([[0.44814261, 0.95492521],\n",
       "       [0.78544759, 0.17886784]])"
      ]
     },
     "execution_count": 9,
     "metadata": {},
     "output_type": "execute_result"
    }
   ],
   "source": [
    "np.random.random((2,2)) # Create an array filled with random values"
   ]
  },
  {
   "cell_type": "markdown",
   "metadata": {
    "slideshow": {
     "slide_type": "subslide"
    }
   },
   "source": [
    "### Array Indexing"
   ]
  },
  {
   "cell_type": "code",
   "execution_count": 10,
   "metadata": {
    "collapsed": true,
    "slideshow": {
     "slide_type": "fragment"
    }
   },
   "outputs": [],
   "source": [
    "A = np.array([[1, 2, 3, 4],  # ----> x-axis\n",
    "              [5, 6, 7, 8],  # |\n",
    "              [9,10,11,12]]) # v\n",
    "                             #   y-axis"
   ]
  },
  {
   "cell_type": "code",
   "execution_count": 11,
   "metadata": {
    "scrolled": true,
    "slideshow": {
     "slide_type": "fragment"
    }
   },
   "outputs": [
    {
     "data": {
      "text/plain": [
       "array([[2, 3],\n",
       "       [6, 7]])"
      ]
     },
     "execution_count": 11,
     "metadata": {},
     "output_type": "execute_result"
    }
   ],
   "source": [
    "A[:2, 1:3]      # a[y-axis, x-axis]"
   ]
  },
  {
   "cell_type": "code",
   "execution_count": 12,
   "metadata": {
    "slideshow": {
     "slide_type": "fragment"
    }
   },
   "outputs": [
    {
     "data": {
      "text/plain": [
       "4"
      ]
     },
     "execution_count": 12,
     "metadata": {},
     "output_type": "execute_result"
    }
   ],
   "source": [
    "A[0, 3]"
   ]
  },
  {
   "cell_type": "code",
   "execution_count": 13,
   "metadata": {
    "slideshow": {
     "slide_type": "fragment"
    }
   },
   "outputs": [
    {
     "data": {
      "text/plain": [
       "array([1, 2, 3, 4])"
      ]
     },
     "execution_count": 13,
     "metadata": {},
     "output_type": "execute_result"
    }
   ],
   "source": [
    "A[0, :]           # 0th row of a"
   ]
  },
  {
   "cell_type": "markdown",
   "metadata": {
    "collapsed": true,
    "slideshow": {
     "slide_type": "subslide"
    }
   },
   "source": [
    "### Array Math"
   ]
  },
  {
   "cell_type": "code",
   "execution_count": 14,
   "metadata": {
    "collapsed": true,
    "slideshow": {
     "slide_type": "fragment"
    }
   },
   "outputs": [],
   "source": [
    "X = np.array([[1, 2],\n",
    "              [3, 4]])\n",
    "Y = np.array([[5, 6],\n",
    "              [7, 8]])"
   ]
  },
  {
   "cell_type": "markdown",
   "metadata": {
    "slideshow": {
     "slide_type": "subslide"
    }
   },
   "source": [
    "** Elementwise Math **"
   ]
  },
  {
   "cell_type": "code",
   "execution_count": 15,
   "metadata": {
    "slideshow": {
     "slide_type": "fragment"
    }
   },
   "outputs": [
    {
     "data": {
      "text/plain": [
       "array([[ 6,  8],\n",
       "       [10, 12]])"
      ]
     },
     "execution_count": 15,
     "metadata": {},
     "output_type": "execute_result"
    }
   ],
   "source": [
    "X + Y"
   ]
  },
  {
   "cell_type": "code",
   "execution_count": 16,
   "metadata": {
    "slideshow": {
     "slide_type": "fragment"
    }
   },
   "outputs": [
    {
     "data": {
      "text/plain": [
       "array([[-4, -4],\n",
       "       [-4, -4]])"
      ]
     },
     "execution_count": 16,
     "metadata": {},
     "output_type": "execute_result"
    }
   ],
   "source": [
    "X - Y"
   ]
  },
  {
   "cell_type": "code",
   "execution_count": 17,
   "metadata": {
    "slideshow": {
     "slide_type": "fragment"
    }
   },
   "outputs": [
    {
     "data": {
      "text/plain": [
       "array([[ 5, 12],\n",
       "       [21, 32]])"
      ]
     },
     "execution_count": 17,
     "metadata": {},
     "output_type": "execute_result"
    }
   ],
   "source": [
    "X*Y"
   ]
  },
  {
   "cell_type": "code",
   "execution_count": 18,
   "metadata": {
    "slideshow": {
     "slide_type": "fragment"
    }
   },
   "outputs": [
    {
     "data": {
      "text/plain": [
       "array([[0.2       , 0.33333333],\n",
       "       [0.42857143, 0.5       ]])"
      ]
     },
     "execution_count": 18,
     "metadata": {},
     "output_type": "execute_result"
    }
   ],
   "source": [
    "X/Y"
   ]
  },
  {
   "cell_type": "code",
   "execution_count": 19,
   "metadata": {
    "slideshow": {
     "slide_type": "subslide"
    }
   },
   "outputs": [
    {
     "data": {
      "text/plain": [
       "array([[1.        , 1.41421356],\n",
       "       [1.73205081, 2.        ]])"
      ]
     },
     "execution_count": 19,
     "metadata": {},
     "output_type": "execute_result"
    }
   ],
   "source": [
    "np.sqrt(X)"
   ]
  },
  {
   "cell_type": "code",
   "execution_count": 20,
   "metadata": {
    "slideshow": {
     "slide_type": "fragment"
    }
   },
   "outputs": [
    {
     "data": {
      "text/plain": [
       "array([4, 6])"
      ]
     },
     "execution_count": 20,
     "metadata": {},
     "output_type": "execute_result"
    }
   ],
   "source": [
    "np.sum(X, axis=0)"
   ]
  },
  {
   "cell_type": "code",
   "execution_count": 21,
   "metadata": {
    "slideshow": {
     "slide_type": "fragment"
    }
   },
   "outputs": [
    {
     "data": {
      "text/plain": [
       "array([3, 7])"
      ]
     },
     "execution_count": 21,
     "metadata": {},
     "output_type": "execute_result"
    }
   ],
   "source": [
    "np.sum(X, axis=1)"
   ]
  },
  {
   "cell_type": "markdown",
   "metadata": {
    "slideshow": {
     "slide_type": "subslide"
    }
   },
   "source": [
    "**Matrix Operations**"
   ]
  },
  {
   "cell_type": "code",
   "execution_count": 22,
   "metadata": {
    "slideshow": {
     "slide_type": "fragment"
    }
   },
   "outputs": [
    {
     "data": {
      "text/plain": [
       "array([[19, 22],\n",
       "       [43, 50]])"
      ]
     },
     "execution_count": 22,
     "metadata": {},
     "output_type": "execute_result"
    }
   ],
   "source": [
    "X.dot(Y)"
   ]
  },
  {
   "cell_type": "code",
   "execution_count": 23,
   "metadata": {
    "slideshow": {
     "slide_type": "fragment"
    }
   },
   "outputs": [
    {
     "data": {
      "text/plain": [
       "array([[1, 3],\n",
       "       [2, 4]])"
      ]
     },
     "execution_count": 23,
     "metadata": {},
     "output_type": "execute_result"
    }
   ],
   "source": [
    "X.T"
   ]
  },
  {
   "cell_type": "code",
   "execution_count": 24,
   "metadata": {
    "slideshow": {
     "slide_type": "fragment"
    }
   },
   "outputs": [
    {
     "data": {
      "text/plain": [
       "array([[-2. ,  1. ],\n",
       "       [ 1.5, -0.5]])"
      ]
     },
     "execution_count": 24,
     "metadata": {},
     "output_type": "execute_result"
    }
   ],
   "source": [
    "np.linalg.inv(X)"
   ]
  },
  {
   "cell_type": "code",
   "execution_count": 25,
   "metadata": {
    "slideshow": {
     "slide_type": "subslide"
    }
   },
   "outputs": [
    {
     "data": {
      "text/plain": [
       "array([[ 5,  6,  7,  8],\n",
       "       [10, 12, 14, 16],\n",
       "       [15, 18, 21, 24],\n",
       "       [20, 24, 28, 32]])"
      ]
     },
     "execution_count": 25,
     "metadata": {},
     "output_type": "execute_result"
    }
   ],
   "source": [
    "np.outer(X, Y)"
   ]
  },
  {
   "cell_type": "code",
   "execution_count": 26,
   "metadata": {
    "slideshow": {
     "slide_type": "fragment"
    }
   },
   "outputs": [
    {
     "data": {
      "text/plain": [
       "array([1, 4])"
      ]
     },
     "execution_count": 26,
     "metadata": {},
     "output_type": "execute_result"
    }
   ],
   "source": [
    "X.diagonal()"
   ]
  },
  {
   "cell_type": "code",
   "execution_count": 27,
   "metadata": {
    "slideshow": {
     "slide_type": "fragment"
    }
   },
   "outputs": [
    {
     "data": {
      "text/plain": [
       "5"
      ]
     },
     "execution_count": 27,
     "metadata": {},
     "output_type": "execute_result"
    }
   ],
   "source": [
    "X.trace()"
   ]
  },
  {
   "cell_type": "markdown",
   "metadata": {
    "slideshow": {
     "slide_type": "subslide"
    }
   },
   "source": [
    "** [EX 1] Ordinary Least Square **\n",
    "$$\n",
    "    \\beta = (X'X)^{-1}X'y\n",
    "$$"
   ]
  },
  {
   "cell_type": "code",
   "execution_count": 28,
   "metadata": {
    "collapsed": true,
    "slideshow": {
     "slide_type": "fragment"
    }
   },
   "outputs": [],
   "source": [
    "X = np.array([[1, 2, 1],\n",
    "              [3, 4, 2],\n",
    "              [1, 2, 3],\n",
    "              [1, 0, 5]])\n",
    "y = np.array([2, 4, 2, 0])"
   ]
  },
  {
   "cell_type": "code",
   "execution_count": 29,
   "metadata": {
    "scrolled": true,
    "slideshow": {
     "slide_type": "fragment"
    }
   },
   "outputs": [
    {
     "data": {
      "text/plain": [
       "array([ 1.33226763e-15,  1.00000000e+00, -4.44089210e-16])"
      ]
     },
     "execution_count": 29,
     "metadata": {},
     "output_type": "execute_result"
    }
   ],
   "source": [
    "np.linalg.inv(X.T.dot(X)).dot(X.T.dot(y))"
   ]
  },
  {
   "cell_type": "markdown",
   "metadata": {
    "slideshow": {
     "slide_type": "subslide"
    }
   },
   "source": [
    "** Random Number Generation **"
   ]
  },
  {
   "cell_type": "code",
   "execution_count": 30,
   "metadata": {
    "slideshow": {
     "slide_type": "fragment"
    }
   },
   "outputs": [
    {
     "data": {
      "text/plain": [
       "array([0.19703591, 0.56543517, 0.67953026, 0.39219557, 0.73655463])"
      ]
     },
     "execution_count": 30,
     "metadata": {},
     "output_type": "execute_result"
    }
   ],
   "source": [
    "np.random.rand(5)          # 5 samples from the uniform random 0~1"
   ]
  },
  {
   "cell_type": "code",
   "execution_count": 31,
   "metadata": {
    "slideshow": {
     "slide_type": "fragment"
    }
   },
   "outputs": [
    {
     "data": {
      "text/plain": [
       "array([-0.68460038, -2.50579046,  0.69649121, -1.83839664,  0.42962872])"
      ]
     },
     "execution_count": 31,
     "metadata": {},
     "output_type": "execute_result"
    }
   ],
   "source": [
    "np.random.randn(5)         # 5 samples from the normal distribution"
   ]
  },
  {
   "cell_type": "code",
   "execution_count": 32,
   "metadata": {
    "slideshow": {
     "slide_type": "subslide"
    }
   },
   "outputs": [
    {
     "data": {
      "text/plain": [
       "array([[ 1.68888169, -1.16831632,  1.75242919],\n",
       "       [-1.48617794,  5.01277643,  3.52094753],\n",
       "       [ 0.64075269,  2.03574955,  7.64791088],\n",
       "       [ 4.78256327,  4.13775519,  7.816348  ],\n",
       "       [ 3.24701205,  0.66079141,  3.40898118]])"
      ]
     },
     "execution_count": 32,
     "metadata": {},
     "output_type": "execute_result"
    }
   ],
   "source": [
    "u = np.array([1, 2, 3])    # mean vector\n",
    "S = np.array([[7, 1, 3],   # covariance matrix\n",
    "              [1, 5, 1],\n",
    "              [3, 1, 4]])\n",
    "\n",
    "np.random.multivariate_normal(mean=u, cov=S, size=5)"
   ]
  },
  {
   "cell_type": "markdown",
   "metadata": {},
   "source": [
    "## Tensor Operation (Optional)"
   ]
  },
  {
   "cell_type": "markdown",
   "metadata": {},
   "source": [
    "** [About Tensors](https://www.tensorflow.org/versions/r0.12/resources/dims_types) ** \n",
    "\n",
    "| Rank | Math entity            | Python Example      | Tensor Notation\n",
    "|------|------------------------|---------------------|--------------------\n",
    "| 0    | Scalar (rank 0 Tensor) | `s = 483 `          |$T$             |\n",
    "| 1    | Vector (rank 1 Tensor) |` v = [1.1, 2.2, 3.3]` |$T_{i}$  |\n",
    "| 2    | Matrix (rank 2 Tensor) | `m = [[1, 2, 3], [4,5,6]]`     |$T_{ij}$       |\n",
    "| 3    | rank 3 Tensor          |` t = [[[1,2], [4,5]], [[6,7], [8,9]]]`|$T_{ijk}$    |\n",
    "| n    | rank n Tensor          | ....                |$T_{ijkl...}$        |"
   ]
  },
  {
   "cell_type": "markdown",
   "metadata": {},
   "source": [
    "### einsum (Einstein Summation Convention) \n"
   ]
  },
  {
   "cell_type": "code",
   "execution_count": 106,
   "metadata": {
    "collapsed": true
   },
   "outputs": [],
   "source": [
    "x, y = np.array([1,2,3,4]), np.array([1,2,1,2])"
   ]
  },
  {
   "cell_type": "markdown",
   "metadata": {},
   "source": [
    "** vector sum **"
   ]
  },
  {
   "cell_type": "code",
   "execution_count": 34,
   "metadata": {},
   "outputs": [
    {
     "data": {
      "text/plain": [
       "10"
      ]
     },
     "execution_count": 34,
     "metadata": {},
     "output_type": "execute_result"
    }
   ],
   "source": [
    "np.einsum('i->', x)"
   ]
  },
  {
   "cell_type": "markdown",
   "metadata": {},
   "source": [
    "** dot product **"
   ]
  },
  {
   "cell_type": "code",
   "execution_count": 35,
   "metadata": {},
   "outputs": [
    {
     "data": {
      "text/plain": [
       "array(16)"
      ]
     },
     "execution_count": 35,
     "metadata": {},
     "output_type": "execute_result"
    }
   ],
   "source": [
    "np.einsum('i,i -> ', x, y)"
   ]
  },
  {
   "cell_type": "markdown",
   "metadata": {},
   "source": [
    "** elementwise product **"
   ]
  },
  {
   "cell_type": "code",
   "execution_count": 36,
   "metadata": {},
   "outputs": [
    {
     "data": {
      "text/plain": [
       "array([1, 4, 3, 8])"
      ]
     },
     "execution_count": 36,
     "metadata": {},
     "output_type": "execute_result"
    }
   ],
   "source": [
    "np.einsum('i,i -> i', x, y)"
   ]
  },
  {
   "cell_type": "markdown",
   "metadata": {},
   "source": [
    "**outer product**"
   ]
  },
  {
   "cell_type": "code",
   "execution_count": 37,
   "metadata": {},
   "outputs": [
    {
     "data": {
      "text/plain": [
       "array([[1, 2, 1, 2],\n",
       "       [2, 4, 2, 4],\n",
       "       [3, 6, 3, 6],\n",
       "       [4, 8, 4, 8]])"
      ]
     },
     "execution_count": 37,
     "metadata": {},
     "output_type": "execute_result"
    }
   ],
   "source": [
    "np.einsum('i,j -> ij', x, y)"
   ]
  },
  {
   "cell_type": "code",
   "execution_count": 38,
   "metadata": {
    "collapsed": true
   },
   "outputs": [],
   "source": [
    "X = np.array([[0,1,1,1],\n",
    "             [2,3,1,4], \n",
    "             [1,2,1,4], \n",
    "             [5,2,1,2]])\n",
    "Y = np.array([[4,2,3,1],\n",
    "              [1,4,2,3],\n",
    "              [1,2,1,1],\n",
    "              [2,1,4,2]])"
   ]
  },
  {
   "cell_type": "markdown",
   "metadata": {},
   "source": [
    "$X\\vec{y}$"
   ]
  },
  {
   "cell_type": "code",
   "execution_count": 39,
   "metadata": {},
   "outputs": [
    {
     "data": {
      "text/plain": [
       "array([ 5, 17, 14, 14])"
      ]
     },
     "execution_count": 39,
     "metadata": {},
     "output_type": "execute_result"
    }
   ],
   "source": [
    "np.einsum('ij,j->i', X, y)"
   ]
  },
  {
   "cell_type": "markdown",
   "metadata": {},
   "source": [
    "$\\vec{y}^T X$"
   ]
  },
  {
   "cell_type": "code",
   "execution_count": 40,
   "metadata": {},
   "outputs": [
    {
     "data": {
      "text/plain": [
       "array([15, 13,  6, 17])"
      ]
     },
     "execution_count": 40,
     "metadata": {},
     "output_type": "execute_result"
    }
   ],
   "source": [
    "np.einsum('i,ij->j', y, X)"
   ]
  },
  {
   "cell_type": "markdown",
   "metadata": {},
   "source": [
    "$XY$"
   ]
  },
  {
   "cell_type": "code",
   "execution_count": 41,
   "metadata": {},
   "outputs": [
    {
     "data": {
      "text/plain": [
       "array([[ 4,  7,  7,  6],\n",
       "       [20, 22, 29, 20],\n",
       "       [15, 16, 24, 16],\n",
       "       [27, 22, 28, 16]])"
      ]
     },
     "execution_count": 41,
     "metadata": {},
     "output_type": "execute_result"
    }
   ],
   "source": [
    "np.einsum('ij,jk->ik', X, Y)"
   ]
  },
  {
   "cell_type": "markdown",
   "metadata": {},
   "source": [
    "** Tensor Vector Product **\n",
    "\n",
    "<center>\n",
    "<img src=\"https://i.stack.imgur.com/5QsMD.png\" alt=\"Drawing\" style=\"width: 600px;\"/>\n",
    "</center>\n",
    "\n",
    "For more detail, see [here](http://venus.unive.it/r.casarin/PhDEco/Mat/Algebra.pdf).\n",
    "\n",
    "$T_{ijk} y^i$"
   ]
  },
  {
   "cell_type": "code",
   "execution_count": 42,
   "metadata": {
    "collapsed": true
   },
   "outputs": [],
   "source": [
    "T = np.random.randn(4,4,4)"
   ]
  },
  {
   "cell_type": "code",
   "execution_count": 43,
   "metadata": {},
   "outputs": [
    {
     "data": {
      "text/plain": [
       "array([[-2.87604084, -4.09831023, -0.04751608,  4.57883231],\n",
       "       [ 2.3415835 , -1.90573662, -2.38000483, -0.78680481],\n",
       "       [-2.14782975, -0.18716877,  3.09049176,  0.13820697],\n",
       "       [-2.2700736 , -0.49579949, -0.69231654, -0.21575432]])"
      ]
     },
     "execution_count": 43,
     "metadata": {},
     "output_type": "execute_result"
    }
   ],
   "source": [
    "np.einsum('ijk,i->jk',T, y)"
   ]
  },
  {
   "cell_type": "markdown",
   "metadata": {
    "slideshow": {
     "slide_type": "slide"
    }
   },
   "source": [
    "# Pandas\n",
    "\n",
    "<center>\n",
    "<img src=\"https://pandas.pydata.org/_static/pandas_logo.png\" alt=\"Drawing\" style=\"width: 600px;\"/>\n",
    "</center>\n",
    "* Similar to R\n",
    "* DataFrame object\n",
    "* Apply functions\n",
    "* Data merge, join, concatenate ...\n",
    "* Data operations ..."
   ]
  },
  {
   "cell_type": "code",
   "execution_count": 44,
   "metadata": {
    "collapsed": true,
    "slideshow": {
     "slide_type": "subslide"
    }
   },
   "outputs": [],
   "source": [
    "import pandas as pd"
   ]
  },
  {
   "cell_type": "markdown",
   "metadata": {
    "slideshow": {
     "slide_type": "subslide"
    }
   },
   "source": [
    "## Series\n",
    "(= 1D Array + index (or key))"
   ]
  },
  {
   "cell_type": "code",
   "execution_count": 45,
   "metadata": {
    "slideshow": {
     "slide_type": "fragment"
    }
   },
   "outputs": [
    {
     "data": {
      "text/plain": [
       "0    1\n",
       "1    2\n",
       "2    3\n",
       "3    4\n",
       "4    5\n",
       "dtype: int64"
      ]
     },
     "execution_count": 45,
     "metadata": {},
     "output_type": "execute_result"
    }
   ],
   "source": [
    "x = pd.Series([1, 2, 3, 4, 5])\n",
    "x"
   ]
  },
  {
   "cell_type": "code",
   "execution_count": 46,
   "metadata": {
    "slideshow": {
     "slide_type": "subslide"
    }
   },
   "outputs": [
    {
     "data": {
      "text/plain": [
       "array([1, 2, 3, 4, 5], dtype=int64)"
      ]
     },
     "execution_count": 46,
     "metadata": {},
     "output_type": "execute_result"
    }
   ],
   "source": [
    "x.values          # pd.Series -> np.ndarray"
   ]
  },
  {
   "cell_type": "code",
   "execution_count": 47,
   "metadata": {
    "slideshow": {
     "slide_type": "fragment"
    }
   },
   "outputs": [
    {
     "data": {
      "text/plain": [
       "numpy.ndarray"
      ]
     },
     "execution_count": 47,
     "metadata": {},
     "output_type": "execute_result"
    }
   ],
   "source": [
    "type(x.values)"
   ]
  },
  {
   "cell_type": "markdown",
   "metadata": {
    "slideshow": {
     "slide_type": "subslide"
    }
   },
   "source": [
    "** Index **"
   ]
  },
  {
   "cell_type": "code",
   "execution_count": 48,
   "metadata": {
    "slideshow": {
     "slide_type": "fragment"
    }
   },
   "outputs": [
    {
     "data": {
      "text/plain": [
       "a    1\n",
       "b    2\n",
       "c    3\n",
       "d    4\n",
       "e    5\n",
       "dtype: int64"
      ]
     },
     "execution_count": 48,
     "metadata": {},
     "output_type": "execute_result"
    }
   ],
   "source": [
    "x.index = ['a', 'b', 'c', 'd', 'e']\n",
    "x"
   ]
  },
  {
   "cell_type": "code",
   "execution_count": 49,
   "metadata": {
    "slideshow": {
     "slide_type": "fragment"
    }
   },
   "outputs": [
    {
     "data": {
      "text/plain": [
       "a    1\n",
       "b    2\n",
       "c    3\n",
       "d    4\n",
       "e    5\n",
       "dtype: int64"
      ]
     },
     "execution_count": 49,
     "metadata": {},
     "output_type": "execute_result"
    }
   ],
   "source": [
    "pd.Series([1, 2, 3, 4, 5], index=['a', 'b', 'c', 'd', 'e'])"
   ]
  },
  {
   "cell_type": "code",
   "execution_count": 50,
   "metadata": {
    "slideshow": {
     "slide_type": "subslide"
    }
   },
   "outputs": [
    {
     "data": {
      "text/plain": [
       "a    1\n",
       "b    2\n",
       "c    3\n",
       "d    4\n",
       "e    5\n",
       "dtype: int64"
      ]
     },
     "execution_count": 50,
     "metadata": {},
     "output_type": "execute_result"
    }
   ],
   "source": [
    "pd.Series({'a':1, 'b':2, 'c':3, 'd':4, 'e':5})"
   ]
  },
  {
   "cell_type": "markdown",
   "metadata": {
    "slideshow": {
     "slide_type": "subslide"
    }
   },
   "source": [
    "** Indexing **"
   ]
  },
  {
   "cell_type": "code",
   "execution_count": 51,
   "metadata": {
    "slideshow": {
     "slide_type": "fragment"
    }
   },
   "outputs": [
    {
     "data": {
      "text/plain": [
       "a    1\n",
       "b    2\n",
       "c    3\n",
       "dtype: int64"
      ]
     },
     "execution_count": 51,
     "metadata": {},
     "output_type": "execute_result"
    }
   ],
   "source": [
    "x[0:3]"
   ]
  },
  {
   "cell_type": "code",
   "execution_count": 52,
   "metadata": {
    "slideshow": {
     "slide_type": "fragment"
    }
   },
   "outputs": [
    {
     "data": {
      "text/plain": [
       "1"
      ]
     },
     "execution_count": 52,
     "metadata": {},
     "output_type": "execute_result"
    }
   ],
   "source": [
    "x['a']"
   ]
  },
  {
   "cell_type": "code",
   "execution_count": 53,
   "metadata": {
    "slideshow": {
     "slide_type": "fragment"
    }
   },
   "outputs": [
    {
     "data": {
      "text/plain": [
       "a    1\n",
       "c    3\n",
       "d    4\n",
       "dtype: int64"
      ]
     },
     "execution_count": 53,
     "metadata": {},
     "output_type": "execute_result"
    }
   ],
   "source": [
    "x[['a','c','d']]"
   ]
  },
  {
   "cell_type": "code",
   "execution_count": 54,
   "metadata": {
    "slideshow": {
     "slide_type": "subslide"
    }
   },
   "outputs": [
    {
     "data": {
      "text/plain": [
       "c    3\n",
       "d    4\n",
       "e    5\n",
       "dtype: int64"
      ]
     },
     "execution_count": 54,
     "metadata": {},
     "output_type": "execute_result"
    }
   ],
   "source": [
    "x[x > 2]          # Selection"
   ]
  },
  {
   "cell_type": "code",
   "execution_count": 55,
   "metadata": {
    "slideshow": {
     "slide_type": "fragment"
    }
   },
   "outputs": [
    {
     "data": {
      "text/plain": [
       "d    4\n",
       "dtype: int64"
      ]
     },
     "execution_count": 55,
     "metadata": {},
     "output_type": "execute_result"
    }
   ],
   "source": [
    "x[(x > 2) & (x % 3 == 1)]      # Logical Selection"
   ]
  },
  {
   "cell_type": "markdown",
   "metadata": {
    "slideshow": {
     "slide_type": "subslide"
    }
   },
   "source": [
    "** Elementwise Math **"
   ]
  },
  {
   "cell_type": "code",
   "execution_count": 56,
   "metadata": {
    "slideshow": {
     "slide_type": "fragment"
    }
   },
   "outputs": [
    {
     "data": {
      "text/plain": [
       "a     2\n",
       "b     4\n",
       "c     6\n",
       "d     8\n",
       "e    10\n",
       "dtype: int64"
      ]
     },
     "execution_count": 56,
     "metadata": {},
     "output_type": "execute_result"
    }
   ],
   "source": [
    "x * 2"
   ]
  },
  {
   "cell_type": "code",
   "execution_count": 57,
   "metadata": {
    "slideshow": {
     "slide_type": "fragment"
    }
   },
   "outputs": [
    {
     "data": {
      "text/plain": [
       "a      2.718282\n",
       "b      7.389056\n",
       "c     20.085537\n",
       "d     54.598150\n",
       "e    148.413159\n",
       "dtype: float64"
      ]
     },
     "execution_count": 57,
     "metadata": {},
     "output_type": "execute_result"
    }
   ],
   "source": [
    "np.exp(x)"
   ]
  },
  {
   "cell_type": "markdown",
   "metadata": {
    "slideshow": {
     "slide_type": "subslide"
    }
   },
   "source": [
    "** Missing Value **"
   ]
  },
  {
   "cell_type": "code",
   "execution_count": 58,
   "metadata": {
    "slideshow": {
     "slide_type": "fragment"
    }
   },
   "outputs": [
    {
     "data": {
      "text/plain": [
       "True"
      ]
     },
     "execution_count": 58,
     "metadata": {},
     "output_type": "execute_result"
    }
   ],
   "source": [
    "pd.isnull(np.nan)"
   ]
  },
  {
   "cell_type": "code",
   "execution_count": 59,
   "metadata": {
    "slideshow": {
     "slide_type": "fragment"
    }
   },
   "outputs": [
    {
     "data": {
      "text/plain": [
       "0    False\n",
       "1    False\n",
       "2     True\n",
       "3    False\n",
       "4    False\n",
       "dtype: bool"
      ]
     },
     "execution_count": 59,
     "metadata": {},
     "output_type": "execute_result"
    }
   ],
   "source": [
    "x = pd.Series([1, 2, np.nan, 4, 5])\n",
    "pd.isnull(x)"
   ]
  },
  {
   "cell_type": "code",
   "execution_count": 60,
   "metadata": {
    "slideshow": {
     "slide_type": "subslide"
    }
   },
   "outputs": [
    {
     "data": {
      "text/plain": [
       "0    1.0\n",
       "1    2.0\n",
       "3    4.0\n",
       "4    5.0\n",
       "dtype: float64"
      ]
     },
     "execution_count": 60,
     "metadata": {},
     "output_type": "execute_result"
    }
   ],
   "source": [
    "x[~pd.isnull(x)]"
   ]
  },
  {
   "cell_type": "code",
   "execution_count": 61,
   "metadata": {
    "slideshow": {
     "slide_type": "fragment"
    }
   },
   "outputs": [
    {
     "data": {
      "text/plain": [
       "0      1.0\n",
       "1      2.0\n",
       "2    999.0\n",
       "3      4.0\n",
       "4      5.0\n",
       "dtype: float64"
      ]
     },
     "execution_count": 61,
     "metadata": {},
     "output_type": "execute_result"
    }
   ],
   "source": [
    "x.fillna(999)"
   ]
  },
  {
   "cell_type": "markdown",
   "metadata": {
    "slideshow": {
     "slide_type": "subslide"
    }
   },
   "source": [
    "## DataFrame"
   ]
  },
  {
   "cell_type": "code",
   "execution_count": 63,
   "metadata": {
    "slideshow": {
     "slide_type": "fragment"
    }
   },
   "outputs": [
    {
     "data": {
      "text/html": [
       "<div>\n",
       "<style scoped>\n",
       "    .dataframe tbody tr th:only-of-type {\n",
       "        vertical-align: middle;\n",
       "    }\n",
       "\n",
       "    .dataframe tbody tr th {\n",
       "        vertical-align: top;\n",
       "    }\n",
       "\n",
       "    .dataframe thead th {\n",
       "        text-align: right;\n",
       "    }\n",
       "</style>\n",
       "<table border=\"1\" class=\"dataframe\">\n",
       "  <thead>\n",
       "    <tr style=\"text-align: right;\">\n",
       "      <th></th>\n",
       "      <th>popul</th>\n",
       "      <th>state</th>\n",
       "      <th>year</th>\n",
       "    </tr>\n",
       "  </thead>\n",
       "  <tbody>\n",
       "    <tr>\n",
       "      <th>0</th>\n",
       "      <td>5.0</td>\n",
       "      <td>VA</td>\n",
       "      <td>2012</td>\n",
       "    </tr>\n",
       "    <tr>\n",
       "      <th>1</th>\n",
       "      <td>5.1</td>\n",
       "      <td>VA</td>\n",
       "      <td>2013</td>\n",
       "    </tr>\n",
       "    <tr>\n",
       "      <th>2</th>\n",
       "      <td>5.2</td>\n",
       "      <td>VA</td>\n",
       "      <td>2014</td>\n",
       "    </tr>\n",
       "    <tr>\n",
       "      <th>3</th>\n",
       "      <td>4.0</td>\n",
       "      <td>MD</td>\n",
       "      <td>2014</td>\n",
       "    </tr>\n",
       "    <tr>\n",
       "      <th>4</th>\n",
       "      <td>4.1</td>\n",
       "      <td>MD</td>\n",
       "      <td>2015</td>\n",
       "    </tr>\n",
       "  </tbody>\n",
       "</table>\n",
       "</div>"
      ],
      "text/plain": [
       "   popul state  year\n",
       "0    5.0    VA  2012\n",
       "1    5.1    VA  2013\n",
       "2    5.2    VA  2014\n",
       "3    4.0    MD  2014\n",
       "4    4.1    MD  2015"
      ]
     },
     "execution_count": 63,
     "metadata": {},
     "output_type": "execute_result"
    }
   ],
   "source": [
    "data = {'state' : ['VA', 'VA', 'VA', 'MD', 'MD'],\n",
    "        'year' : [2012, 2013, 2014, 2014, 2015],\n",
    "        'popul' : [5.0, 5.1, 5.2, 4.0, 4.1]}\n",
    "df = pd.DataFrame(data)                     # dict -> pd.DataFrame\n",
    "df"
   ]
  },
  {
   "cell_type": "code",
   "execution_count": 64,
   "metadata": {
    "slideshow": {
     "slide_type": "subslide"
    }
   },
   "outputs": [
    {
     "data": {
      "text/html": [
       "<div>\n",
       "<style scoped>\n",
       "    .dataframe tbody tr th:only-of-type {\n",
       "        vertical-align: middle;\n",
       "    }\n",
       "\n",
       "    .dataframe tbody tr th {\n",
       "        vertical-align: top;\n",
       "    }\n",
       "\n",
       "    .dataframe thead th {\n",
       "        text-align: right;\n",
       "    }\n",
       "</style>\n",
       "<table border=\"1\" class=\"dataframe\">\n",
       "  <thead>\n",
       "    <tr style=\"text-align: right;\">\n",
       "      <th></th>\n",
       "      <th>popul</th>\n",
       "      <th>state</th>\n",
       "      <th>year</th>\n",
       "    </tr>\n",
       "  </thead>\n",
       "  <tbody>\n",
       "    <tr>\n",
       "      <th>0</th>\n",
       "      <td>5.0</td>\n",
       "      <td>VA</td>\n",
       "      <td>2012</td>\n",
       "    </tr>\n",
       "    <tr>\n",
       "      <th>1</th>\n",
       "      <td>5.1</td>\n",
       "      <td>VA</td>\n",
       "      <td>2013</td>\n",
       "    </tr>\n",
       "    <tr>\n",
       "      <th>2</th>\n",
       "      <td>5.2</td>\n",
       "      <td>VA</td>\n",
       "      <td>2014</td>\n",
       "    </tr>\n",
       "    <tr>\n",
       "      <th>3</th>\n",
       "      <td>4.0</td>\n",
       "      <td>MD</td>\n",
       "      <td>2014</td>\n",
       "    </tr>\n",
       "    <tr>\n",
       "      <th>4</th>\n",
       "      <td>4.1</td>\n",
       "      <td>MD</td>\n",
       "      <td>2015</td>\n",
       "    </tr>\n",
       "  </tbody>\n",
       "</table>\n",
       "</div>"
      ],
      "text/plain": [
       "   popul state  year\n",
       "0    5.0    VA  2012\n",
       "1    5.1    VA  2013\n",
       "2    5.2    VA  2014\n",
       "3    4.0    MD  2014\n",
       "4    4.1    MD  2015"
      ]
     },
     "execution_count": 64,
     "metadata": {},
     "output_type": "execute_result"
    }
   ],
   "source": [
    "pd.DataFrame([[5.0, 'VA', 2012],           # np.ndarray + columns - > pd.DataFrame\n",
    "              [5.1, 'VA', 2013],\n",
    "              [5.2, 'VA', 2014],\n",
    "              [4.0, 'MD', 2014],\n",
    "              [4.1, 'MD', 2015]],\n",
    "             columns = ['popul', 'state', 'year'])"
   ]
  },
  {
   "cell_type": "markdown",
   "metadata": {
    "slideshow": {
     "slide_type": "subslide"
    }
   },
   "source": [
    "** Retreiving **"
   ]
  },
  {
   "cell_type": "code",
   "execution_count": 65,
   "metadata": {
    "slideshow": {
     "slide_type": "fragment"
    }
   },
   "outputs": [
    {
     "data": {
      "text/plain": [
       "0    5.0\n",
       "1    5.1\n",
       "2    5.2\n",
       "3    4.0\n",
       "4    4.1\n",
       "Name: popul, dtype: float64"
      ]
     },
     "execution_count": 65,
     "metadata": {},
     "output_type": "execute_result"
    }
   ],
   "source": [
    "df['popul']"
   ]
  },
  {
   "cell_type": "markdown",
   "metadata": {
    "slideshow": {
     "slide_type": "subslide"
    }
   },
   "source": [
    "> **<font color='red'> Caution ! </font>** **Not Recommend**\n",
    "\n",
    "> attribute access using (**.**) can collide with other class methods. "
   ]
  },
  {
   "cell_type": "code",
   "execution_count": 66,
   "metadata": {
    "slideshow": {
     "slide_type": "fragment"
    }
   },
   "outputs": [
    {
     "data": {
      "text/plain": [
       "0    5.0\n",
       "1    5.1\n",
       "2    5.2\n",
       "3    4.0\n",
       "4    4.1\n",
       "Name: popul, dtype: float64"
      ]
     },
     "execution_count": 66,
     "metadata": {},
     "output_type": "execute_result"
    }
   ],
   "source": [
    "df.popul           # Not Recommend !"
   ]
  },
  {
   "cell_type": "code",
   "execution_count": 67,
   "metadata": {
    "slideshow": {
     "slide_type": "subslide"
    }
   },
   "outputs": [
    {
     "data": {
      "text/plain": [
       "popul       5\n",
       "state      VA\n",
       "year     2012\n",
       "Name: 0, dtype: object"
      ]
     },
     "execution_count": 67,
     "metadata": {},
     "output_type": "execute_result"
    }
   ],
   "source": [
    "df.iloc[0]           # 0-th row"
   ]
  },
  {
   "cell_type": "markdown",
   "metadata": {
    "slideshow": {
     "slide_type": "subslide"
    }
   },
   "source": [
    "**Describe (Summary Statistics) **"
   ]
  },
  {
   "cell_type": "code",
   "execution_count": 68,
   "metadata": {
    "slideshow": {
     "slide_type": "fragment"
    }
   },
   "outputs": [
    {
     "data": {
      "text/html": [
       "<div>\n",
       "<style scoped>\n",
       "    .dataframe tbody tr th:only-of-type {\n",
       "        vertical-align: middle;\n",
       "    }\n",
       "\n",
       "    .dataframe tbody tr th {\n",
       "        vertical-align: top;\n",
       "    }\n",
       "\n",
       "    .dataframe thead th {\n",
       "        text-align: right;\n",
       "    }\n",
       "</style>\n",
       "<table border=\"1\" class=\"dataframe\">\n",
       "  <thead>\n",
       "    <tr style=\"text-align: right;\">\n",
       "      <th></th>\n",
       "      <th>popul</th>\n",
       "      <th>year</th>\n",
       "    </tr>\n",
       "  </thead>\n",
       "  <tbody>\n",
       "    <tr>\n",
       "      <th>count</th>\n",
       "      <td>5.000000</td>\n",
       "      <td>5.000000</td>\n",
       "    </tr>\n",
       "    <tr>\n",
       "      <th>mean</th>\n",
       "      <td>4.680000</td>\n",
       "      <td>2013.600000</td>\n",
       "    </tr>\n",
       "    <tr>\n",
       "      <th>std</th>\n",
       "      <td>0.580517</td>\n",
       "      <td>1.140175</td>\n",
       "    </tr>\n",
       "    <tr>\n",
       "      <th>min</th>\n",
       "      <td>4.000000</td>\n",
       "      <td>2012.000000</td>\n",
       "    </tr>\n",
       "    <tr>\n",
       "      <th>25%</th>\n",
       "      <td>4.100000</td>\n",
       "      <td>2013.000000</td>\n",
       "    </tr>\n",
       "    <tr>\n",
       "      <th>50%</th>\n",
       "      <td>5.000000</td>\n",
       "      <td>2014.000000</td>\n",
       "    </tr>\n",
       "    <tr>\n",
       "      <th>75%</th>\n",
       "      <td>5.100000</td>\n",
       "      <td>2014.000000</td>\n",
       "    </tr>\n",
       "    <tr>\n",
       "      <th>max</th>\n",
       "      <td>5.200000</td>\n",
       "      <td>2015.000000</td>\n",
       "    </tr>\n",
       "  </tbody>\n",
       "</table>\n",
       "</div>"
      ],
      "text/plain": [
       "          popul         year\n",
       "count  5.000000     5.000000\n",
       "mean   4.680000  2013.600000\n",
       "std    0.580517     1.140175\n",
       "min    4.000000  2012.000000\n",
       "25%    4.100000  2013.000000\n",
       "50%    5.000000  2014.000000\n",
       "75%    5.100000  2014.000000\n",
       "max    5.200000  2015.000000"
      ]
     },
     "execution_count": 68,
     "metadata": {},
     "output_type": "execute_result"
    }
   ],
   "source": [
    "df.describe()"
   ]
  },
  {
   "cell_type": "markdown",
   "metadata": {
    "slideshow": {
     "slide_type": "subslide"
    }
   },
   "source": [
    "** Add, Delete Columns **"
   ]
  },
  {
   "cell_type": "code",
   "execution_count": 69,
   "metadata": {
    "slideshow": {
     "slide_type": "fragment"
    }
   },
   "outputs": [
    {
     "data": {
      "text/html": [
       "<div>\n",
       "<style scoped>\n",
       "    .dataframe tbody tr th:only-of-type {\n",
       "        vertical-align: middle;\n",
       "    }\n",
       "\n",
       "    .dataframe tbody tr th {\n",
       "        vertical-align: top;\n",
       "    }\n",
       "\n",
       "    .dataframe thead th {\n",
       "        text-align: right;\n",
       "    }\n",
       "</style>\n",
       "<table border=\"1\" class=\"dataframe\">\n",
       "  <thead>\n",
       "    <tr style=\"text-align: right;\">\n",
       "      <th></th>\n",
       "      <th>popul</th>\n",
       "      <th>state</th>\n",
       "      <th>year</th>\n",
       "      <th>alt</th>\n",
       "    </tr>\n",
       "  </thead>\n",
       "  <tbody>\n",
       "    <tr>\n",
       "      <th>0</th>\n",
       "      <td>5.0</td>\n",
       "      <td>VA</td>\n",
       "      <td>2012</td>\n",
       "      <td>42.1</td>\n",
       "    </tr>\n",
       "    <tr>\n",
       "      <th>1</th>\n",
       "      <td>5.1</td>\n",
       "      <td>VA</td>\n",
       "      <td>2013</td>\n",
       "      <td>42.1</td>\n",
       "    </tr>\n",
       "    <tr>\n",
       "      <th>2</th>\n",
       "      <td>5.2</td>\n",
       "      <td>VA</td>\n",
       "      <td>2014</td>\n",
       "      <td>42.1</td>\n",
       "    </tr>\n",
       "    <tr>\n",
       "      <th>3</th>\n",
       "      <td>4.0</td>\n",
       "      <td>MD</td>\n",
       "      <td>2014</td>\n",
       "      <td>46.4</td>\n",
       "    </tr>\n",
       "    <tr>\n",
       "      <th>4</th>\n",
       "      <td>4.1</td>\n",
       "      <td>MD</td>\n",
       "      <td>2015</td>\n",
       "      <td>46.4</td>\n",
       "    </tr>\n",
       "  </tbody>\n",
       "</table>\n",
       "</div>"
      ],
      "text/plain": [
       "   popul state  year   alt\n",
       "0    5.0    VA  2012  42.1\n",
       "1    5.1    VA  2013  42.1\n",
       "2    5.2    VA  2014  42.1\n",
       "3    4.0    MD  2014  46.4\n",
       "4    4.1    MD  2015  46.4"
      ]
     },
     "execution_count": 69,
     "metadata": {},
     "output_type": "execute_result"
    }
   ],
   "source": [
    "df['alt'] = [42.1, 42.1, 42.1, 46.4, 46.4]\n",
    "df"
   ]
  },
  {
   "cell_type": "code",
   "execution_count": 70,
   "metadata": {
    "slideshow": {
     "slide_type": "fragment"
    }
   },
   "outputs": [
    {
     "data": {
      "text/html": [
       "<div>\n",
       "<style scoped>\n",
       "    .dataframe tbody tr th:only-of-type {\n",
       "        vertical-align: middle;\n",
       "    }\n",
       "\n",
       "    .dataframe tbody tr th {\n",
       "        vertical-align: top;\n",
       "    }\n",
       "\n",
       "    .dataframe thead th {\n",
       "        text-align: right;\n",
       "    }\n",
       "</style>\n",
       "<table border=\"1\" class=\"dataframe\">\n",
       "  <thead>\n",
       "    <tr style=\"text-align: right;\">\n",
       "      <th></th>\n",
       "      <th>popul</th>\n",
       "      <th>state</th>\n",
       "      <th>year</th>\n",
       "      <th>alt</th>\n",
       "      <th>delta</th>\n",
       "    </tr>\n",
       "  </thead>\n",
       "  <tbody>\n",
       "    <tr>\n",
       "      <th>0</th>\n",
       "      <td>5.0</td>\n",
       "      <td>VA</td>\n",
       "      <td>2012</td>\n",
       "      <td>42.1</td>\n",
       "      <td>37.1</td>\n",
       "    </tr>\n",
       "    <tr>\n",
       "      <th>1</th>\n",
       "      <td>5.1</td>\n",
       "      <td>VA</td>\n",
       "      <td>2013</td>\n",
       "      <td>42.1</td>\n",
       "      <td>37.0</td>\n",
       "    </tr>\n",
       "    <tr>\n",
       "      <th>2</th>\n",
       "      <td>5.2</td>\n",
       "      <td>VA</td>\n",
       "      <td>2014</td>\n",
       "      <td>42.1</td>\n",
       "      <td>36.9</td>\n",
       "    </tr>\n",
       "    <tr>\n",
       "      <th>3</th>\n",
       "      <td>4.0</td>\n",
       "      <td>MD</td>\n",
       "      <td>2014</td>\n",
       "      <td>46.4</td>\n",
       "      <td>42.4</td>\n",
       "    </tr>\n",
       "    <tr>\n",
       "      <th>4</th>\n",
       "      <td>4.1</td>\n",
       "      <td>MD</td>\n",
       "      <td>2015</td>\n",
       "      <td>46.4</td>\n",
       "      <td>42.3</td>\n",
       "    </tr>\n",
       "  </tbody>\n",
       "</table>\n",
       "</div>"
      ],
      "text/plain": [
       "   popul state  year   alt  delta\n",
       "0    5.0    VA  2012  42.1   37.1\n",
       "1    5.1    VA  2013  42.1   37.0\n",
       "2    5.2    VA  2014  42.1   36.9\n",
       "3    4.0    MD  2014  46.4   42.4\n",
       "4    4.1    MD  2015  46.4   42.3"
      ]
     },
     "execution_count": 70,
     "metadata": {},
     "output_type": "execute_result"
    }
   ],
   "source": [
    "df['delta'] = df['alt'] - df['popul']\n",
    "df"
   ]
  },
  {
   "cell_type": "code",
   "execution_count": 71,
   "metadata": {
    "slideshow": {
     "slide_type": "subslide"
    }
   },
   "outputs": [
    {
     "data": {
      "text/html": [
       "<div>\n",
       "<style scoped>\n",
       "    .dataframe tbody tr th:only-of-type {\n",
       "        vertical-align: middle;\n",
       "    }\n",
       "\n",
       "    .dataframe tbody tr th {\n",
       "        vertical-align: top;\n",
       "    }\n",
       "\n",
       "    .dataframe thead th {\n",
       "        text-align: right;\n",
       "    }\n",
       "</style>\n",
       "<table border=\"1\" class=\"dataframe\">\n",
       "  <thead>\n",
       "    <tr style=\"text-align: right;\">\n",
       "      <th></th>\n",
       "      <th>popul</th>\n",
       "      <th>state</th>\n",
       "      <th>year</th>\n",
       "      <th>delta</th>\n",
       "    </tr>\n",
       "  </thead>\n",
       "  <tbody>\n",
       "    <tr>\n",
       "      <th>0</th>\n",
       "      <td>5.0</td>\n",
       "      <td>VA</td>\n",
       "      <td>2012</td>\n",
       "      <td>37.1</td>\n",
       "    </tr>\n",
       "    <tr>\n",
       "      <th>1</th>\n",
       "      <td>5.1</td>\n",
       "      <td>VA</td>\n",
       "      <td>2013</td>\n",
       "      <td>37.0</td>\n",
       "    </tr>\n",
       "    <tr>\n",
       "      <th>2</th>\n",
       "      <td>5.2</td>\n",
       "      <td>VA</td>\n",
       "      <td>2014</td>\n",
       "      <td>36.9</td>\n",
       "    </tr>\n",
       "    <tr>\n",
       "      <th>3</th>\n",
       "      <td>4.0</td>\n",
       "      <td>MD</td>\n",
       "      <td>2014</td>\n",
       "      <td>42.4</td>\n",
       "    </tr>\n",
       "    <tr>\n",
       "      <th>4</th>\n",
       "      <td>4.1</td>\n",
       "      <td>MD</td>\n",
       "      <td>2015</td>\n",
       "      <td>42.3</td>\n",
       "    </tr>\n",
       "  </tbody>\n",
       "</table>\n",
       "</div>"
      ],
      "text/plain": [
       "   popul state  year  delta\n",
       "0    5.0    VA  2012   37.1\n",
       "1    5.1    VA  2013   37.0\n",
       "2    5.2    VA  2014   36.9\n",
       "3    4.0    MD  2014   42.4\n",
       "4    4.1    MD  2015   42.3"
      ]
     },
     "execution_count": 71,
     "metadata": {},
     "output_type": "execute_result"
    }
   ],
   "source": [
    "df = df.drop('alt', axis=1)\n",
    "df"
   ]
  },
  {
   "cell_type": "markdown",
   "metadata": {
    "slideshow": {
     "slide_type": "subslide"
    }
   },
   "source": [
    "** Add, Delete Rows **"
   ]
  },
  {
   "cell_type": "code",
   "execution_count": 72,
   "metadata": {
    "slideshow": {
     "slide_type": "fragment"
    }
   },
   "outputs": [
    {
     "data": {
      "text/html": [
       "<div>\n",
       "<style scoped>\n",
       "    .dataframe tbody tr th:only-of-type {\n",
       "        vertical-align: middle;\n",
       "    }\n",
       "\n",
       "    .dataframe tbody tr th {\n",
       "        vertical-align: top;\n",
       "    }\n",
       "\n",
       "    .dataframe thead th {\n",
       "        text-align: right;\n",
       "    }\n",
       "</style>\n",
       "<table border=\"1\" class=\"dataframe\">\n",
       "  <thead>\n",
       "    <tr style=\"text-align: right;\">\n",
       "      <th></th>\n",
       "      <th>popul</th>\n",
       "      <th>state</th>\n",
       "      <th>year</th>\n",
       "      <th>delta</th>\n",
       "    </tr>\n",
       "  </thead>\n",
       "  <tbody>\n",
       "    <tr>\n",
       "      <th>0</th>\n",
       "      <td>5.0</td>\n",
       "      <td>VA</td>\n",
       "      <td>2012</td>\n",
       "      <td>37.1</td>\n",
       "    </tr>\n",
       "    <tr>\n",
       "      <th>1</th>\n",
       "      <td>5.1</td>\n",
       "      <td>VA</td>\n",
       "      <td>2013</td>\n",
       "      <td>37.0</td>\n",
       "    </tr>\n",
       "    <tr>\n",
       "      <th>2</th>\n",
       "      <td>5.2</td>\n",
       "      <td>VA</td>\n",
       "      <td>2014</td>\n",
       "      <td>36.9</td>\n",
       "    </tr>\n",
       "    <tr>\n",
       "      <th>3</th>\n",
       "      <td>4.0</td>\n",
       "      <td>MD</td>\n",
       "      <td>2014</td>\n",
       "      <td>42.4</td>\n",
       "    </tr>\n",
       "    <tr>\n",
       "      <th>4</th>\n",
       "      <td>4.1</td>\n",
       "      <td>MD</td>\n",
       "      <td>2015</td>\n",
       "      <td>42.3</td>\n",
       "    </tr>\n",
       "    <tr>\n",
       "      <th>5</th>\n",
       "      <td>9.7</td>\n",
       "      <td>SE</td>\n",
       "      <td>2016</td>\n",
       "      <td>72.1</td>\n",
       "    </tr>\n",
       "  </tbody>\n",
       "</table>\n",
       "</div>"
      ],
      "text/plain": [
       "   popul state  year  delta\n",
       "0    5.0    VA  2012   37.1\n",
       "1    5.1    VA  2013   37.0\n",
       "2    5.2    VA  2014   36.9\n",
       "3    4.0    MD  2014   42.4\n",
       "4    4.1    MD  2015   42.3\n",
       "5    9.7    SE  2016   72.1"
      ]
     },
     "execution_count": 72,
     "metadata": {},
     "output_type": "execute_result"
    }
   ],
   "source": [
    "df = df.append({'popul':9.7, 'state':'SE', 'year':2016, 'delta':72.1},\n",
    "               ignore_index=True)\n",
    "df"
   ]
  },
  {
   "cell_type": "code",
   "execution_count": 73,
   "metadata": {
    "slideshow": {
     "slide_type": "subslide"
    }
   },
   "outputs": [
    {
     "data": {
      "text/html": [
       "<div>\n",
       "<style scoped>\n",
       "    .dataframe tbody tr th:only-of-type {\n",
       "        vertical-align: middle;\n",
       "    }\n",
       "\n",
       "    .dataframe tbody tr th {\n",
       "        vertical-align: top;\n",
       "    }\n",
       "\n",
       "    .dataframe thead th {\n",
       "        text-align: right;\n",
       "    }\n",
       "</style>\n",
       "<table border=\"1\" class=\"dataframe\">\n",
       "  <thead>\n",
       "    <tr style=\"text-align: right;\">\n",
       "      <th></th>\n",
       "      <th>popul</th>\n",
       "      <th>state</th>\n",
       "      <th>year</th>\n",
       "      <th>delta</th>\n",
       "    </tr>\n",
       "  </thead>\n",
       "  <tbody>\n",
       "    <tr>\n",
       "      <th>0</th>\n",
       "      <td>5.0</td>\n",
       "      <td>VA</td>\n",
       "      <td>2012</td>\n",
       "      <td>37.1</td>\n",
       "    </tr>\n",
       "    <tr>\n",
       "      <th>1</th>\n",
       "      <td>5.1</td>\n",
       "      <td>VA</td>\n",
       "      <td>2013</td>\n",
       "      <td>37.0</td>\n",
       "    </tr>\n",
       "    <tr>\n",
       "      <th>2</th>\n",
       "      <td>5.2</td>\n",
       "      <td>VA</td>\n",
       "      <td>2014</td>\n",
       "      <td>36.9</td>\n",
       "    </tr>\n",
       "    <tr>\n",
       "      <th>3</th>\n",
       "      <td>4.0</td>\n",
       "      <td>MD</td>\n",
       "      <td>2014</td>\n",
       "      <td>42.4</td>\n",
       "    </tr>\n",
       "    <tr>\n",
       "      <th>4</th>\n",
       "      <td>4.1</td>\n",
       "      <td>MD</td>\n",
       "      <td>2015</td>\n",
       "      <td>42.3</td>\n",
       "    </tr>\n",
       "  </tbody>\n",
       "</table>\n",
       "</div>"
      ],
      "text/plain": [
       "   popul state  year  delta\n",
       "0    5.0    VA  2012   37.1\n",
       "1    5.1    VA  2013   37.0\n",
       "2    5.2    VA  2014   36.9\n",
       "3    4.0    MD  2014   42.4\n",
       "4    4.1    MD  2015   42.3"
      ]
     },
     "execution_count": 73,
     "metadata": {},
     "output_type": "execute_result"
    }
   ],
   "source": [
    "df = df.drop(5, axis=0)\n",
    "df"
   ]
  },
  {
   "cell_type": "markdown",
   "metadata": {
    "slideshow": {
     "slide_type": "subslide"
    }
   },
   "source": [
    "** Set Index **"
   ]
  },
  {
   "cell_type": "code",
   "execution_count": 74,
   "metadata": {
    "slideshow": {
     "slide_type": "fragment"
    }
   },
   "outputs": [
    {
     "data": {
      "text/html": [
       "<div>\n",
       "<style scoped>\n",
       "    .dataframe tbody tr th:only-of-type {\n",
       "        vertical-align: middle;\n",
       "    }\n",
       "\n",
       "    .dataframe tbody tr th {\n",
       "        vertical-align: top;\n",
       "    }\n",
       "\n",
       "    .dataframe thead th {\n",
       "        text-align: right;\n",
       "    }\n",
       "</style>\n",
       "<table border=\"1\" class=\"dataframe\">\n",
       "  <thead>\n",
       "    <tr style=\"text-align: right;\">\n",
       "      <th></th>\n",
       "      <th>state</th>\n",
       "      <th>year</th>\n",
       "      <th>delta</th>\n",
       "    </tr>\n",
       "    <tr>\n",
       "      <th>popul</th>\n",
       "      <th></th>\n",
       "      <th></th>\n",
       "      <th></th>\n",
       "    </tr>\n",
       "  </thead>\n",
       "  <tbody>\n",
       "    <tr>\n",
       "      <th>5.0</th>\n",
       "      <td>VA</td>\n",
       "      <td>2012</td>\n",
       "      <td>37.1</td>\n",
       "    </tr>\n",
       "    <tr>\n",
       "      <th>5.1</th>\n",
       "      <td>VA</td>\n",
       "      <td>2013</td>\n",
       "      <td>37.0</td>\n",
       "    </tr>\n",
       "    <tr>\n",
       "      <th>5.2</th>\n",
       "      <td>VA</td>\n",
       "      <td>2014</td>\n",
       "      <td>36.9</td>\n",
       "    </tr>\n",
       "    <tr>\n",
       "      <th>4.0</th>\n",
       "      <td>MD</td>\n",
       "      <td>2014</td>\n",
       "      <td>42.4</td>\n",
       "    </tr>\n",
       "    <tr>\n",
       "      <th>4.1</th>\n",
       "      <td>MD</td>\n",
       "      <td>2015</td>\n",
       "      <td>42.3</td>\n",
       "    </tr>\n",
       "  </tbody>\n",
       "</table>\n",
       "</div>"
      ],
      "text/plain": [
       "      state  year  delta\n",
       "popul                   \n",
       "5.0      VA  2012   37.1\n",
       "5.1      VA  2013   37.0\n",
       "5.2      VA  2014   36.9\n",
       "4.0      MD  2014   42.4\n",
       "4.1      MD  2015   42.3"
      ]
     },
     "execution_count": 74,
     "metadata": {},
     "output_type": "execute_result"
    }
   ],
   "source": [
    "df = df.set_index('popul')\n",
    "df"
   ]
  },
  {
   "cell_type": "markdown",
   "metadata": {
    "slideshow": {
     "slide_type": "subslide"
    }
   },
   "source": [
    "**Transpose **"
   ]
  },
  {
   "cell_type": "code",
   "execution_count": 75,
   "metadata": {
    "slideshow": {
     "slide_type": "fragment"
    }
   },
   "outputs": [
    {
     "data": {
      "text/html": [
       "<div>\n",
       "<style scoped>\n",
       "    .dataframe tbody tr th:only-of-type {\n",
       "        vertical-align: middle;\n",
       "    }\n",
       "\n",
       "    .dataframe tbody tr th {\n",
       "        vertical-align: top;\n",
       "    }\n",
       "\n",
       "    .dataframe thead th {\n",
       "        text-align: right;\n",
       "    }\n",
       "</style>\n",
       "<table border=\"1\" class=\"dataframe\">\n",
       "  <thead>\n",
       "    <tr style=\"text-align: right;\">\n",
       "      <th>popul</th>\n",
       "      <th>5.0</th>\n",
       "      <th>5.1</th>\n",
       "      <th>5.2</th>\n",
       "      <th>4.0</th>\n",
       "      <th>4.1</th>\n",
       "    </tr>\n",
       "  </thead>\n",
       "  <tbody>\n",
       "    <tr>\n",
       "      <th>state</th>\n",
       "      <td>VA</td>\n",
       "      <td>VA</td>\n",
       "      <td>VA</td>\n",
       "      <td>MD</td>\n",
       "      <td>MD</td>\n",
       "    </tr>\n",
       "    <tr>\n",
       "      <th>year</th>\n",
       "      <td>2012</td>\n",
       "      <td>2013</td>\n",
       "      <td>2014</td>\n",
       "      <td>2014</td>\n",
       "      <td>2015</td>\n",
       "    </tr>\n",
       "    <tr>\n",
       "      <th>delta</th>\n",
       "      <td>37.1</td>\n",
       "      <td>37</td>\n",
       "      <td>36.9</td>\n",
       "      <td>42.4</td>\n",
       "      <td>42.3</td>\n",
       "    </tr>\n",
       "  </tbody>\n",
       "</table>\n",
       "</div>"
      ],
      "text/plain": [
       "popul   5.0   5.1   5.2   4.0   4.1\n",
       "state    VA    VA    VA    MD    MD\n",
       "year   2012  2013  2014  2014  2015\n",
       "delta  37.1    37  36.9  42.4  42.3"
      ]
     },
     "execution_count": 75,
     "metadata": {},
     "output_type": "execute_result"
    }
   ],
   "source": [
    "df.T"
   ]
  },
  {
   "cell_type": "code",
   "execution_count": 76,
   "metadata": {
    "slideshow": {
     "slide_type": "subslide"
    }
   },
   "outputs": [
    {
     "data": {
      "text/plain": [
       "array([['VA', 2012, 37.1],\n",
       "       ['VA', 2013, 37.0],\n",
       "       ['VA', 2014, 36.9],\n",
       "       ['MD', 2014, 42.4],\n",
       "       ['MD', 2015, 42.3]], dtype=object)"
      ]
     },
     "execution_count": 76,
     "metadata": {},
     "output_type": "execute_result"
    }
   ],
   "source": [
    "df.values"
   ]
  },
  {
   "cell_type": "markdown",
   "metadata": {
    "slideshow": {
     "slide_type": "subslide"
    }
   },
   "source": [
    "** Selection, Filtering **"
   ]
  },
  {
   "cell_type": "code",
   "execution_count": 77,
   "metadata": {
    "slideshow": {
     "slide_type": "fragment"
    }
   },
   "outputs": [
    {
     "data": {
      "text/html": [
       "<div>\n",
       "<style scoped>\n",
       "    .dataframe tbody tr th:only-of-type {\n",
       "        vertical-align: middle;\n",
       "    }\n",
       "\n",
       "    .dataframe tbody tr th {\n",
       "        vertical-align: top;\n",
       "    }\n",
       "\n",
       "    .dataframe thead th {\n",
       "        text-align: right;\n",
       "    }\n",
       "</style>\n",
       "<table border=\"1\" class=\"dataframe\">\n",
       "  <thead>\n",
       "    <tr style=\"text-align: right;\">\n",
       "      <th></th>\n",
       "      <th>state</th>\n",
       "      <th>year</th>\n",
       "      <th>delta</th>\n",
       "    </tr>\n",
       "    <tr>\n",
       "      <th>popul</th>\n",
       "      <th></th>\n",
       "      <th></th>\n",
       "      <th></th>\n",
       "    </tr>\n",
       "  </thead>\n",
       "  <tbody>\n",
       "    <tr>\n",
       "      <th>5.0</th>\n",
       "      <td>VA</td>\n",
       "      <td>2012</td>\n",
       "      <td>37.1</td>\n",
       "    </tr>\n",
       "    <tr>\n",
       "      <th>5.1</th>\n",
       "      <td>VA</td>\n",
       "      <td>2013</td>\n",
       "      <td>37.0</td>\n",
       "    </tr>\n",
       "    <tr>\n",
       "      <th>5.2</th>\n",
       "      <td>VA</td>\n",
       "      <td>2014</td>\n",
       "      <td>36.9</td>\n",
       "    </tr>\n",
       "  </tbody>\n",
       "</table>\n",
       "</div>"
      ],
      "text/plain": [
       "      state  year  delta\n",
       "popul                   \n",
       "5.0      VA  2012   37.1\n",
       "5.1      VA  2013   37.0\n",
       "5.2      VA  2014   36.9"
      ]
     },
     "execution_count": 77,
     "metadata": {},
     "output_type": "execute_result"
    }
   ],
   "source": [
    "df[df['state']=='VA']"
   ]
  },
  {
   "cell_type": "code",
   "execution_count": 78,
   "metadata": {
    "slideshow": {
     "slide_type": "fragment"
    }
   },
   "outputs": [
    {
     "data": {
      "text/html": [
       "<div>\n",
       "<style scoped>\n",
       "    .dataframe tbody tr th:only-of-type {\n",
       "        vertical-align: middle;\n",
       "    }\n",
       "\n",
       "    .dataframe tbody tr th {\n",
       "        vertical-align: top;\n",
       "    }\n",
       "\n",
       "    .dataframe thead th {\n",
       "        text-align: right;\n",
       "    }\n",
       "</style>\n",
       "<table border=\"1\" class=\"dataframe\">\n",
       "  <thead>\n",
       "    <tr style=\"text-align: right;\">\n",
       "      <th></th>\n",
       "      <th>state</th>\n",
       "      <th>year</th>\n",
       "      <th>delta</th>\n",
       "    </tr>\n",
       "    <tr>\n",
       "      <th>popul</th>\n",
       "      <th></th>\n",
       "      <th></th>\n",
       "      <th></th>\n",
       "    </tr>\n",
       "  </thead>\n",
       "  <tbody>\n",
       "    <tr>\n",
       "      <th>5.2</th>\n",
       "      <td>VA</td>\n",
       "      <td>2014</td>\n",
       "      <td>36.9</td>\n",
       "    </tr>\n",
       "  </tbody>\n",
       "</table>\n",
       "</div>"
      ],
      "text/plain": [
       "      state  year  delta\n",
       "popul                   \n",
       "5.2      VA  2014   36.9"
      ]
     },
     "execution_count": 78,
     "metadata": {},
     "output_type": "execute_result"
    }
   ],
   "source": [
    "mask = (df['state']=='VA') & (df['year'] > 2013)\n",
    "df[mask]"
   ]
  },
  {
   "cell_type": "markdown",
   "metadata": {
    "slideshow": {
     "slide_type": "subslide"
    }
   },
   "source": [
    "** Apply Functions **\n",
    "\n",
    "<center>\n",
    "<img src=\"https://i.stack.imgur.com/DL0iQ.jpg\" alt=\"Drawing\" style=\"width: 500px;\"/>"
   ]
  },
  {
   "cell_type": "code",
   "execution_count": 79,
   "metadata": {
    "slideshow": {
     "slide_type": "fragment"
    }
   },
   "outputs": [
    {
     "data": {
      "text/plain": [
       "year     2013.60\n",
       "delta      39.14\n",
       "dtype: float64"
      ]
     },
     "execution_count": 79,
     "metadata": {},
     "output_type": "execute_result"
    }
   ],
   "source": [
    "def my_func(col):\n",
    "    return np.mean(col)\n",
    "\n",
    "mask = [i for i in df.columns if i != 'state']\n",
    "df[mask].apply(my_func, axis=0)"
   ]
  },
  {
   "cell_type": "code",
   "execution_count": 80,
   "metadata": {
    "slideshow": {
     "slide_type": "fragment"
    }
   },
   "outputs": [
    {
     "data": {
      "text/plain": [
       "year     2013.60\n",
       "delta      39.14\n",
       "dtype: float64"
      ]
     },
     "execution_count": 80,
     "metadata": {},
     "output_type": "execute_result"
    }
   ],
   "source": [
    "df[mask].apply(lambda col: np.mean(col), axis=0)"
   ]
  },
  {
   "cell_type": "markdown",
   "metadata": {
    "slideshow": {
     "slide_type": "subslide"
    }
   },
   "source": [
    "** Elementwise Apply Function **"
   ]
  },
  {
   "cell_type": "code",
   "execution_count": 81,
   "metadata": {
    "slideshow": {
     "slide_type": "fragment"
    }
   },
   "outputs": [
    {
     "data": {
      "text/html": [
       "<div>\n",
       "<style scoped>\n",
       "    .dataframe tbody tr th:only-of-type {\n",
       "        vertical-align: middle;\n",
       "    }\n",
       "\n",
       "    .dataframe tbody tr th {\n",
       "        vertical-align: top;\n",
       "    }\n",
       "\n",
       "    .dataframe thead th {\n",
       "        text-align: right;\n",
       "    }\n",
       "</style>\n",
       "<table border=\"1\" class=\"dataframe\">\n",
       "  <thead>\n",
       "    <tr style=\"text-align: right;\">\n",
       "      <th></th>\n",
       "      <th>year</th>\n",
       "      <th>delta</th>\n",
       "    </tr>\n",
       "    <tr>\n",
       "      <th>popul</th>\n",
       "      <th></th>\n",
       "      <th></th>\n",
       "    </tr>\n",
       "  </thead>\n",
       "  <tbody>\n",
       "    <tr>\n",
       "      <th>5.0</th>\n",
       "      <td>203.2</td>\n",
       "      <td>5.71</td>\n",
       "    </tr>\n",
       "    <tr>\n",
       "      <th>5.1</th>\n",
       "      <td>203.3</td>\n",
       "      <td>5.70</td>\n",
       "    </tr>\n",
       "    <tr>\n",
       "      <th>5.2</th>\n",
       "      <td>203.4</td>\n",
       "      <td>5.69</td>\n",
       "    </tr>\n",
       "    <tr>\n",
       "      <th>4.0</th>\n",
       "      <td>203.4</td>\n",
       "      <td>6.24</td>\n",
       "    </tr>\n",
       "    <tr>\n",
       "      <th>4.1</th>\n",
       "      <td>203.5</td>\n",
       "      <td>6.23</td>\n",
       "    </tr>\n",
       "  </tbody>\n",
       "</table>\n",
       "</div>"
      ],
      "text/plain": [
       "        year  delta\n",
       "popul              \n",
       "5.0    203.2   5.71\n",
       "5.1    203.3   5.70\n",
       "5.2    203.4   5.69\n",
       "4.0    203.4   6.24\n",
       "4.1    203.5   6.23"
      ]
     },
     "execution_count": 81,
     "metadata": {},
     "output_type": "execute_result"
    }
   ],
   "source": [
    "df[mask].applymap(lambda x: x/10 + 2)"
   ]
  },
  {
   "cell_type": "markdown",
   "metadata": {
    "slideshow": {
     "slide_type": "subslide"
    }
   },
   "source": [
    "** Sorting **"
   ]
  },
  {
   "cell_type": "code",
   "execution_count": 82,
   "metadata": {
    "slideshow": {
     "slide_type": "fragment"
    }
   },
   "outputs": [
    {
     "data": {
      "text/html": [
       "<div>\n",
       "<style scoped>\n",
       "    .dataframe tbody tr th:only-of-type {\n",
       "        vertical-align: middle;\n",
       "    }\n",
       "\n",
       "    .dataframe tbody tr th {\n",
       "        vertical-align: top;\n",
       "    }\n",
       "\n",
       "    .dataframe thead th {\n",
       "        text-align: right;\n",
       "    }\n",
       "</style>\n",
       "<table border=\"1\" class=\"dataframe\">\n",
       "  <thead>\n",
       "    <tr style=\"text-align: right;\">\n",
       "      <th></th>\n",
       "      <th>state</th>\n",
       "      <th>year</th>\n",
       "      <th>delta</th>\n",
       "    </tr>\n",
       "    <tr>\n",
       "      <th>popul</th>\n",
       "      <th></th>\n",
       "      <th></th>\n",
       "      <th></th>\n",
       "    </tr>\n",
       "  </thead>\n",
       "  <tbody>\n",
       "    <tr>\n",
       "      <th>5.0</th>\n",
       "      <td>VA</td>\n",
       "      <td>2012</td>\n",
       "      <td>37.1</td>\n",
       "    </tr>\n",
       "    <tr>\n",
       "      <th>5.1</th>\n",
       "      <td>VA</td>\n",
       "      <td>2013</td>\n",
       "      <td>37.0</td>\n",
       "    </tr>\n",
       "    <tr>\n",
       "      <th>5.2</th>\n",
       "      <td>VA</td>\n",
       "      <td>2014</td>\n",
       "      <td>36.9</td>\n",
       "    </tr>\n",
       "    <tr>\n",
       "      <th>4.0</th>\n",
       "      <td>MD</td>\n",
       "      <td>2014</td>\n",
       "      <td>42.4</td>\n",
       "    </tr>\n",
       "    <tr>\n",
       "      <th>4.1</th>\n",
       "      <td>MD</td>\n",
       "      <td>2015</td>\n",
       "      <td>42.3</td>\n",
       "    </tr>\n",
       "  </tbody>\n",
       "</table>\n",
       "</div>"
      ],
      "text/plain": [
       "      state  year  delta\n",
       "popul                   \n",
       "5.0      VA  2012   37.1\n",
       "5.1      VA  2013   37.0\n",
       "5.2      VA  2014   36.9\n",
       "4.0      MD  2014   42.4\n",
       "4.1      MD  2015   42.3"
      ]
     },
     "execution_count": 82,
     "metadata": {},
     "output_type": "execute_result"
    }
   ],
   "source": [
    "df.sort_values(by=['year', 'delta'])"
   ]
  },
  {
   "cell_type": "markdown",
   "metadata": {
    "slideshow": {
     "slide_type": "subslide"
    }
   },
   "source": [
    "## Data Merge, Join\n",
    "\n",
    "<center>\n",
    "<img src=\"https://i.stack.imgur.com/hMKKt.jpg\" alt=\"Drawing\" style=\"width: 500px;\"/>\n",
    "</center>\n",
    "See [here](https://pandas.pydata.org/pandas-docs/stable/merging.html)."
   ]
  },
  {
   "cell_type": "markdown",
   "metadata": {
    "slideshow": {
     "slide_type": "subslide"
    }
   },
   "source": [
    "**Concatenate**\n",
    "<center>\n",
    "<img src=\"https://pandas.pydata.org/pandas-docs/stable/_images/merging_concat_basic.png\" alt=\"Drawing\" style=\"width: 400px;\"/>\n",
    "</center>"
   ]
  },
  {
   "cell_type": "code",
   "execution_count": 83,
   "metadata": {
    "collapsed": true,
    "slideshow": {
     "slide_type": "subslide"
    }
   },
   "outputs": [],
   "source": [
    "df1 = pd.DataFrame({'A': ['A0', 'A1', 'A2', 'A3'],\n",
    "                    'B': ['B0', 'B1', 'B2', 'B3'],\n",
    "                    'C': ['C0', 'C1', 'C2', 'C3'],\n",
    "                    'D': ['D0', 'D1', 'D2', 'D3']},\n",
    "                     index=[0, 1, 2, 3])\n",
    "df2 = pd.DataFrame({'A': ['A4', 'A5', 'A6', 'A7'],\n",
    "                    'B': ['B4', 'B5', 'B6', 'B7'],\n",
    "                    'C': ['C4', 'C5', 'C6', 'C7'],\n",
    "                    'D': ['D4', 'D5', 'D6', 'D7']},\n",
    "                    index=[4, 5, 6, 7])\n",
    "\n",
    "df3 = pd.DataFrame({'A': ['A8', 'A9', 'A10', 'A11'],     \n",
    "                    'B': ['B8', 'B9', 'B10', 'B11'],\n",
    "                    'C': ['C8', 'C9', 'C10', 'C11'],\n",
    "                    'D': ['D8', 'D9', 'D10', 'D11']},\n",
    "                   index=[8, 9, 10, 11])"
   ]
  },
  {
   "cell_type": "code",
   "execution_count": 84,
   "metadata": {
    "slideshow": {
     "slide_type": "subslide"
    }
   },
   "outputs": [
    {
     "data": {
      "text/html": [
       "<div>\n",
       "<style scoped>\n",
       "    .dataframe tbody tr th:only-of-type {\n",
       "        vertical-align: middle;\n",
       "    }\n",
       "\n",
       "    .dataframe tbody tr th {\n",
       "        vertical-align: top;\n",
       "    }\n",
       "\n",
       "    .dataframe thead th {\n",
       "        text-align: right;\n",
       "    }\n",
       "</style>\n",
       "<table border=\"1\" class=\"dataframe\">\n",
       "  <thead>\n",
       "    <tr style=\"text-align: right;\">\n",
       "      <th></th>\n",
       "      <th>A</th>\n",
       "      <th>B</th>\n",
       "      <th>C</th>\n",
       "      <th>D</th>\n",
       "    </tr>\n",
       "  </thead>\n",
       "  <tbody>\n",
       "    <tr>\n",
       "      <th>0</th>\n",
       "      <td>A0</td>\n",
       "      <td>B0</td>\n",
       "      <td>C0</td>\n",
       "      <td>D0</td>\n",
       "    </tr>\n",
       "    <tr>\n",
       "      <th>1</th>\n",
       "      <td>A1</td>\n",
       "      <td>B1</td>\n",
       "      <td>C1</td>\n",
       "      <td>D1</td>\n",
       "    </tr>\n",
       "    <tr>\n",
       "      <th>2</th>\n",
       "      <td>A2</td>\n",
       "      <td>B2</td>\n",
       "      <td>C2</td>\n",
       "      <td>D2</td>\n",
       "    </tr>\n",
       "    <tr>\n",
       "      <th>3</th>\n",
       "      <td>A3</td>\n",
       "      <td>B3</td>\n",
       "      <td>C3</td>\n",
       "      <td>D3</td>\n",
       "    </tr>\n",
       "    <tr>\n",
       "      <th>4</th>\n",
       "      <td>A4</td>\n",
       "      <td>B4</td>\n",
       "      <td>C4</td>\n",
       "      <td>D4</td>\n",
       "    </tr>\n",
       "    <tr>\n",
       "      <th>5</th>\n",
       "      <td>A5</td>\n",
       "      <td>B5</td>\n",
       "      <td>C5</td>\n",
       "      <td>D5</td>\n",
       "    </tr>\n",
       "    <tr>\n",
       "      <th>6</th>\n",
       "      <td>A6</td>\n",
       "      <td>B6</td>\n",
       "      <td>C6</td>\n",
       "      <td>D6</td>\n",
       "    </tr>\n",
       "    <tr>\n",
       "      <th>7</th>\n",
       "      <td>A7</td>\n",
       "      <td>B7</td>\n",
       "      <td>C7</td>\n",
       "      <td>D7</td>\n",
       "    </tr>\n",
       "    <tr>\n",
       "      <th>8</th>\n",
       "      <td>A8</td>\n",
       "      <td>B8</td>\n",
       "      <td>C8</td>\n",
       "      <td>D8</td>\n",
       "    </tr>\n",
       "    <tr>\n",
       "      <th>9</th>\n",
       "      <td>A9</td>\n",
       "      <td>B9</td>\n",
       "      <td>C9</td>\n",
       "      <td>D9</td>\n",
       "    </tr>\n",
       "    <tr>\n",
       "      <th>10</th>\n",
       "      <td>A10</td>\n",
       "      <td>B10</td>\n",
       "      <td>C10</td>\n",
       "      <td>D10</td>\n",
       "    </tr>\n",
       "    <tr>\n",
       "      <th>11</th>\n",
       "      <td>A11</td>\n",
       "      <td>B11</td>\n",
       "      <td>C11</td>\n",
       "      <td>D11</td>\n",
       "    </tr>\n",
       "  </tbody>\n",
       "</table>\n",
       "</div>"
      ],
      "text/plain": [
       "      A    B    C    D\n",
       "0    A0   B0   C0   D0\n",
       "1    A1   B1   C1   D1\n",
       "2    A2   B2   C2   D2\n",
       "3    A3   B3   C3   D3\n",
       "4    A4   B4   C4   D4\n",
       "5    A5   B5   C5   D5\n",
       "6    A6   B6   C6   D6\n",
       "7    A7   B7   C7   D7\n",
       "8    A8   B8   C8   D8\n",
       "9    A9   B9   C9   D9\n",
       "10  A10  B10  C10  D10\n",
       "11  A11  B11  C11  D11"
      ]
     },
     "execution_count": 84,
     "metadata": {},
     "output_type": "execute_result"
    }
   ],
   "source": [
    "pd.concat([df1, df2, df3])      # axis=0"
   ]
  },
  {
   "cell_type": "markdown",
   "metadata": {
    "slideshow": {
     "slide_type": "subslide"
    }
   },
   "source": [
    "**Outer Join**\n",
    "<center>\n",
    "<img src=\"https://pandas.pydata.org/pandas-docs/stable/_images/merging_concat_axis1.png\" alt=\"Drawing\" style=\"width: 600px;\"/>\n",
    "</center>"
   ]
  },
  {
   "cell_type": "code",
   "execution_count": 85,
   "metadata": {
    "collapsed": true,
    "slideshow": {
     "slide_type": "fragment"
    }
   },
   "outputs": [],
   "source": [
    "df4 = pd.DataFrame({'B': ['B2', 'B3', 'B6', 'B7'],\n",
    "                    'D': ['D2', 'D3', 'D6', 'D7'],\n",
    "                    'F': ['F2', 'F3', 'F6', 'F7']},\n",
    "                   index=[2, 3, 6, 7])"
   ]
  },
  {
   "cell_type": "code",
   "execution_count": 86,
   "metadata": {
    "slideshow": {
     "slide_type": "subslide"
    }
   },
   "outputs": [
    {
     "data": {
      "text/html": [
       "<div>\n",
       "<style scoped>\n",
       "    .dataframe tbody tr th:only-of-type {\n",
       "        vertical-align: middle;\n",
       "    }\n",
       "\n",
       "    .dataframe tbody tr th {\n",
       "        vertical-align: top;\n",
       "    }\n",
       "\n",
       "    .dataframe thead th {\n",
       "        text-align: right;\n",
       "    }\n",
       "</style>\n",
       "<table border=\"1\" class=\"dataframe\">\n",
       "  <thead>\n",
       "    <tr style=\"text-align: right;\">\n",
       "      <th></th>\n",
       "      <th>A</th>\n",
       "      <th>B</th>\n",
       "      <th>C</th>\n",
       "      <th>D</th>\n",
       "      <th>B</th>\n",
       "      <th>D</th>\n",
       "      <th>F</th>\n",
       "    </tr>\n",
       "  </thead>\n",
       "  <tbody>\n",
       "    <tr>\n",
       "      <th>0</th>\n",
       "      <td>A0</td>\n",
       "      <td>B0</td>\n",
       "      <td>C0</td>\n",
       "      <td>D0</td>\n",
       "      <td>NaN</td>\n",
       "      <td>NaN</td>\n",
       "      <td>NaN</td>\n",
       "    </tr>\n",
       "    <tr>\n",
       "      <th>1</th>\n",
       "      <td>A1</td>\n",
       "      <td>B1</td>\n",
       "      <td>C1</td>\n",
       "      <td>D1</td>\n",
       "      <td>NaN</td>\n",
       "      <td>NaN</td>\n",
       "      <td>NaN</td>\n",
       "    </tr>\n",
       "    <tr>\n",
       "      <th>2</th>\n",
       "      <td>A2</td>\n",
       "      <td>B2</td>\n",
       "      <td>C2</td>\n",
       "      <td>D2</td>\n",
       "      <td>B2</td>\n",
       "      <td>D2</td>\n",
       "      <td>F2</td>\n",
       "    </tr>\n",
       "    <tr>\n",
       "      <th>3</th>\n",
       "      <td>A3</td>\n",
       "      <td>B3</td>\n",
       "      <td>C3</td>\n",
       "      <td>D3</td>\n",
       "      <td>B3</td>\n",
       "      <td>D3</td>\n",
       "      <td>F3</td>\n",
       "    </tr>\n",
       "    <tr>\n",
       "      <th>6</th>\n",
       "      <td>NaN</td>\n",
       "      <td>NaN</td>\n",
       "      <td>NaN</td>\n",
       "      <td>NaN</td>\n",
       "      <td>B6</td>\n",
       "      <td>D6</td>\n",
       "      <td>F6</td>\n",
       "    </tr>\n",
       "    <tr>\n",
       "      <th>7</th>\n",
       "      <td>NaN</td>\n",
       "      <td>NaN</td>\n",
       "      <td>NaN</td>\n",
       "      <td>NaN</td>\n",
       "      <td>B7</td>\n",
       "      <td>D7</td>\n",
       "      <td>F7</td>\n",
       "    </tr>\n",
       "  </tbody>\n",
       "</table>\n",
       "</div>"
      ],
      "text/plain": [
       "     A    B    C    D    B    D    F\n",
       "0   A0   B0   C0   D0  NaN  NaN  NaN\n",
       "1   A1   B1   C1   D1  NaN  NaN  NaN\n",
       "2   A2   B2   C2   D2   B2   D2   F2\n",
       "3   A3   B3   C3   D3   B3   D3   F3\n",
       "6  NaN  NaN  NaN  NaN   B6   D6   F6\n",
       "7  NaN  NaN  NaN  NaN   B7   D7   F7"
      ]
     },
     "execution_count": 86,
     "metadata": {},
     "output_type": "execute_result"
    }
   ],
   "source": [
    "pd.concat([df1, df4], axis=1) "
   ]
  },
  {
   "cell_type": "markdown",
   "metadata": {
    "slideshow": {
     "slide_type": "subslide"
    }
   },
   "source": [
    "**Inner Join**\n",
    "<center>\n",
    "<img src=\"https://pandas.pydata.org/pandas-docs/stable/_images/merging_concat_axis1_inner.png\" alt=\"Drawing\" style=\"width: 600px;\"/>\n",
    "</center>"
   ]
  },
  {
   "cell_type": "code",
   "execution_count": 87,
   "metadata": {
    "slideshow": {
     "slide_type": "subslide"
    }
   },
   "outputs": [
    {
     "data": {
      "text/html": [
       "<div>\n",
       "<style scoped>\n",
       "    .dataframe tbody tr th:only-of-type {\n",
       "        vertical-align: middle;\n",
       "    }\n",
       "\n",
       "    .dataframe tbody tr th {\n",
       "        vertical-align: top;\n",
       "    }\n",
       "\n",
       "    .dataframe thead th {\n",
       "        text-align: right;\n",
       "    }\n",
       "</style>\n",
       "<table border=\"1\" class=\"dataframe\">\n",
       "  <thead>\n",
       "    <tr style=\"text-align: right;\">\n",
       "      <th></th>\n",
       "      <th>A</th>\n",
       "      <th>B</th>\n",
       "      <th>C</th>\n",
       "      <th>D</th>\n",
       "      <th>B</th>\n",
       "      <th>D</th>\n",
       "      <th>F</th>\n",
       "    </tr>\n",
       "  </thead>\n",
       "  <tbody>\n",
       "    <tr>\n",
       "      <th>2</th>\n",
       "      <td>A2</td>\n",
       "      <td>B2</td>\n",
       "      <td>C2</td>\n",
       "      <td>D2</td>\n",
       "      <td>B2</td>\n",
       "      <td>D2</td>\n",
       "      <td>F2</td>\n",
       "    </tr>\n",
       "    <tr>\n",
       "      <th>3</th>\n",
       "      <td>A3</td>\n",
       "      <td>B3</td>\n",
       "      <td>C3</td>\n",
       "      <td>D3</td>\n",
       "      <td>B3</td>\n",
       "      <td>D3</td>\n",
       "      <td>F3</td>\n",
       "    </tr>\n",
       "  </tbody>\n",
       "</table>\n",
       "</div>"
      ],
      "text/plain": [
       "    A   B   C   D   B   D   F\n",
       "2  A2  B2  C2  D2  B2  D2  F2\n",
       "3  A3  B3  C3  D3  B3  D3  F3"
      ]
     },
     "execution_count": 87,
     "metadata": {},
     "output_type": "execute_result"
    }
   ],
   "source": [
    "pd.concat([df1, df4], axis=1, join='inner') "
   ]
  },
  {
   "cell_type": "markdown",
   "metadata": {
    "slideshow": {
     "slide_type": "subslide"
    }
   },
   "source": [
    "**Left Join**\n",
    "<center>\n",
    "<img src=\"https://pandas.pydata.org/pandas-docs/stable/_images/merging_concat_axis1_join_axes.png\" alt=\"Drawing\" style=\"width: 600px;\"/>\n",
    "</center>"
   ]
  },
  {
   "cell_type": "code",
   "execution_count": 88,
   "metadata": {
    "slideshow": {
     "slide_type": "subslide"
    }
   },
   "outputs": [
    {
     "data": {
      "text/html": [
       "<div>\n",
       "<style scoped>\n",
       "    .dataframe tbody tr th:only-of-type {\n",
       "        vertical-align: middle;\n",
       "    }\n",
       "\n",
       "    .dataframe tbody tr th {\n",
       "        vertical-align: top;\n",
       "    }\n",
       "\n",
       "    .dataframe thead th {\n",
       "        text-align: right;\n",
       "    }\n",
       "</style>\n",
       "<table border=\"1\" class=\"dataframe\">\n",
       "  <thead>\n",
       "    <tr style=\"text-align: right;\">\n",
       "      <th></th>\n",
       "      <th>A</th>\n",
       "      <th>B</th>\n",
       "      <th>C</th>\n",
       "      <th>D</th>\n",
       "      <th>B</th>\n",
       "      <th>D</th>\n",
       "      <th>F</th>\n",
       "    </tr>\n",
       "  </thead>\n",
       "  <tbody>\n",
       "    <tr>\n",
       "      <th>0</th>\n",
       "      <td>A0</td>\n",
       "      <td>B0</td>\n",
       "      <td>C0</td>\n",
       "      <td>D0</td>\n",
       "      <td>NaN</td>\n",
       "      <td>NaN</td>\n",
       "      <td>NaN</td>\n",
       "    </tr>\n",
       "    <tr>\n",
       "      <th>1</th>\n",
       "      <td>A1</td>\n",
       "      <td>B1</td>\n",
       "      <td>C1</td>\n",
       "      <td>D1</td>\n",
       "      <td>NaN</td>\n",
       "      <td>NaN</td>\n",
       "      <td>NaN</td>\n",
       "    </tr>\n",
       "    <tr>\n",
       "      <th>2</th>\n",
       "      <td>A2</td>\n",
       "      <td>B2</td>\n",
       "      <td>C2</td>\n",
       "      <td>D2</td>\n",
       "      <td>B2</td>\n",
       "      <td>D2</td>\n",
       "      <td>F2</td>\n",
       "    </tr>\n",
       "    <tr>\n",
       "      <th>3</th>\n",
       "      <td>A3</td>\n",
       "      <td>B3</td>\n",
       "      <td>C3</td>\n",
       "      <td>D3</td>\n",
       "      <td>B3</td>\n",
       "      <td>D3</td>\n",
       "      <td>F3</td>\n",
       "    </tr>\n",
       "  </tbody>\n",
       "</table>\n",
       "</div>"
      ],
      "text/plain": [
       "    A   B   C   D    B    D    F\n",
       "0  A0  B0  C0  D0  NaN  NaN  NaN\n",
       "1  A1  B1  C1  D1  NaN  NaN  NaN\n",
       "2  A2  B2  C2  D2   B2   D2   F2\n",
       "3  A3  B3  C3  D3   B3   D3   F3"
      ]
     },
     "execution_count": 88,
     "metadata": {},
     "output_type": "execute_result"
    }
   ],
   "source": [
    "pd.concat([df1, df4], axis=1, join_axes=[df1.index]) "
   ]
  },
  {
   "cell_type": "markdown",
   "metadata": {
    "slideshow": {
     "slide_type": "subslide"
    }
   },
   "source": [
    "** More about SQL-like structures**\n",
    "\n",
    "| **Merge method** | **SQL Join Name**  | **Descriptions**                          |\n",
    "| :- | :- | :-\n",
    "|      `left`      |  `LEFT OUTER JOIN` |       Use keys from left frame only       |\n",
    "|      `right`     | `Right OUTER JOIN` |       Use keys from right frame only      |\n",
    "|      `outer`     |  `FULL OUTER JOIN` |     Use union of keys from both frames    |\n",
    "|      `inner`     |    `INNER JOIN`    | Use intersection of keys from both frames |\n",
    "\n",
    "For detail, see [here](https://pandas.pydata.org/pandas-docs/stable/merging.html)."
   ]
  },
  {
   "cell_type": "markdown",
   "metadata": {},
   "source": [
    "**groupby**"
   ]
  },
  {
   "cell_type": "code",
   "execution_count": null,
   "metadata": {
    "collapsed": true
   },
   "outputs": [],
   "source": [
    "df.g"
   ]
  },
  {
   "cell_type": "markdown",
   "metadata": {
    "slideshow": {
     "slide_type": "slide"
    }
   },
   "source": [
    "# Matplotlib\n",
    "<center>\n",
    "<img src=\"https://matplotlib.org/_static/logo2.png\" alt=\"Drawing\" style=\"width: 500px;\"/>\n",
    "</center>\n",
    "\n",
    "* 2D, 3D plotting\n",
    "* With jupyter, interactive mode"
   ]
  },
  {
   "cell_type": "code",
   "execution_count": 89,
   "metadata": {
    "collapsed": true,
    "slideshow": {
     "slide_type": "subslide"
    }
   },
   "outputs": [],
   "source": [
    "import matplotlib.pyplot as plt"
   ]
  },
  {
   "cell_type": "markdown",
   "metadata": {
    "slideshow": {
     "slide_type": "subslide"
    }
   },
   "source": [
    "### Basic Line Plot"
   ]
  },
  {
   "cell_type": "code",
   "execution_count": 90,
   "metadata": {
    "slideshow": {
     "slide_type": "fragment"
    }
   },
   "outputs": [
    {
     "data": {
      "image/png": "[encoded data removed]",
      "text/plain": [
       "<matplotlib.figure.Figure at 0x9eb0dd8>"
      ]
     },
     "metadata": {},
     "output_type": "display_data"
    }
   ],
   "source": [
    "x = np.array([0.1*i for i in range(100)])\n",
    "y = np.sin(x)\n",
    "plt.plot(x, y)\n",
    "plt.show()"
   ]
  },
  {
   "cell_type": "code",
   "execution_count": 91,
   "metadata": {
    "slideshow": {
     "slide_type": "subslide"
    }
   },
   "outputs": [
    {
     "data": {
      "image/png": "[encoded data removed]",
      "text/plain": [
       "<matplotlib.figure.Figure at 0x9eb0e10>"
      ]
     },
     "metadata": {},
     "output_type": "display_data"
    }
   ],
   "source": [
    "plt.plot(x, y, 'r--')\n",
    "plt.title('x vs y')\n",
    "plt.xlabel('x')\n",
    "plt.ylabel('y')\n",
    "plt.show()"
   ]
  },
  {
   "cell_type": "markdown",
   "metadata": {
    "slideshow": {
     "slide_type": "subslide"
    }
   },
   "source": [
    "## Scatter Plot"
   ]
  },
  {
   "cell_type": "code",
   "execution_count": 92,
   "metadata": {
    "slideshow": {
     "slide_type": "fragment"
    }
   },
   "outputs": [
    {
     "data": {
      "image/png": "[encoded data removed]",
      "text/plain": [
       "<matplotlib.figure.Figure at 0x9f3dd68>"
      ]
     },
     "metadata": {},
     "output_type": "display_data"
    }
   ],
   "source": [
    "x = np.random.randn(100)\n",
    "y = np.random.randn(100)\n",
    "colors = np.random.randn(100)\n",
    "area = np.pi * (15*np.random.rand(100))**2\n",
    "plt.scatter(x, y, s=area, c=colors, alpha=0.5)\n",
    "plt.show()"
   ]
  },
  {
   "cell_type": "markdown",
   "metadata": {
    "slideshow": {
     "slide_type": "subslide"
    }
   },
   "source": [
    "## Bar Chart"
   ]
  },
  {
   "cell_type": "code",
   "execution_count": 93,
   "metadata": {
    "slideshow": {
     "slide_type": "fragment"
    }
   },
   "outputs": [
    {
     "data": {
      "image/png": "[encoded data removed]",
      "text/plain": [
       "<matplotlib.figure.Figure at 0x9fc5c88>"
      ]
     },
     "metadata": {},
     "output_type": "display_data"
    }
   ],
   "source": [
    "x = [1, 2, 3, 4]\n",
    "y = [0.7, 0.3, 0.5, 0.2]\n",
    "plt.figure(figsize=(10,5))\n",
    "plt.bar(x, y, align='center', alpha=0.5)\n",
    "plt.xticks(x, ['Value', 'Momentum', 'Low PER', 'High B/M'])\n",
    "plt.ylabel('Sharpe Ratio')\n",
    "plt.show()"
   ]
  },
  {
   "cell_type": "markdown",
   "metadata": {
    "collapsed": true,
    "slideshow": {
     "slide_type": "subslide"
    }
   },
   "source": [
    "## Distribution Plot"
   ]
  },
  {
   "cell_type": "code",
   "execution_count": 94,
   "metadata": {
    "slideshow": {
     "slide_type": "fragment"
    }
   },
   "outputs": [
    {
     "data": {
      "image/png": "[encoded data removed]",
      "text/plain": [
       "<matplotlib.figure.Figure at 0x9eb09e8>"
      ]
     },
     "metadata": {},
     "output_type": "display_data"
    }
   ],
   "source": [
    "x = 0.5 + np.random.randn(10000)\n",
    "plt.hist(x, alpha=0.5)\n",
    "plt.show()"
   ]
  },
  {
   "cell_type": "code",
   "execution_count": 95,
   "metadata": {
    "slideshow": {
     "slide_type": "subslide"
    }
   },
   "outputs": [
    {
     "data": {
      "image/png": "[encoded data removed]",
      "text/plain": [
       "<matplotlib.figure.Figure at 0x9eb0b70>"
      ]
     },
     "metadata": {},
     "output_type": "display_data"
    }
   ],
   "source": [
    "y = -0.5 + 0.2*np.random.randn(10000)\n",
    "plt.hist(x, alpha=0.5, color='b', label='x', normed=True, bins=30)\n",
    "plt.hist(y, alpha=0.5, color='r', label='y', normed=True, bins=10)\n",
    "plt.legend()\n",
    "plt.show()"
   ]
  },
  {
   "cell_type": "markdown",
   "metadata": {
    "collapsed": true,
    "slideshow": {
     "slide_type": "subslide"
    }
   },
   "source": [
    "## 3D Plot"
   ]
  },
  {
   "cell_type": "code",
   "execution_count": 121,
   "metadata": {
    "collapsed": true,
    "slideshow": {
     "slide_type": "fragment"
    }
   },
   "outputs": [],
   "source": [
    "from mpl_toolkits.mplot3d import Axes3D\n",
    "%matplotlib notebook"
   ]
  },
  {
   "cell_type": "markdown",
   "metadata": {
    "slideshow": {
     "slide_type": "subslide"
    }
   },
   "source": [
    "** 3D Line **"
   ]
  },
  {
   "cell_type": "code",
   "execution_count": 124,
   "metadata": {
    "slideshow": {
     "slide_type": "fragment"
    }
   },
   "outputs": [
    {
     "data": {
      "application/javascript": [
       "/* Put everything inside the global mpl namespace */\n",
       "window.mpl = {};\n",
       "\n",
       "\n",
       "mpl.get_websocket_type = function() {\n",
       "    if (typeof(WebSocket) !== 'undefined') {\n",
       "        return WebSocket;\n",
       "    } else if (typeof(MozWebSocket) !== 'undefined') {\n",
       "        return MozWebSocket;\n",
       "    } else {\n",
       "        alert('Your browser does not have WebSocket support.' +\n",
       "              'Please try Chrome, Safari or Firefox ≥ 6. ' +\n",
       "              'Firefox 4 and 5 are also supported but you ' +\n",
       "              'have to enable WebSockets in about:config.');\n",
       "    };\n",
       "}\n",
       "\n",
       "mpl.figure = function(figure_id, websocket, ondownload, parent_element) {\n",
       "    this.id = figure_id;\n",
       "\n",
       "    this.ws = websocket;\n",
       "\n",
       "    this.supports_binary = (this.ws.binaryType != undefined);\n",
       "\n",
       "    if (!this.supports_binary) {\n",
       "        var warnings = document.getElementById(\"mpl-warnings\");\n",
       "        if (warnings) {\n",
       "            warnings.style.display = 'block';\n",
       "            warnings.textContent = (\n",
       "                \"This browser does not support binary websocket messages. \" +\n",
       "                    \"Performance may be slow.\");\n",
       "        }\n",
       "    }\n",
       "\n",
       "    this.imageObj = new Image();\n",
       "\n",
       "    this.context = undefined;\n",
       "    this.message = undefined;\n",
       "    this.canvas = undefined;\n",
       "    this.rubberband_canvas = undefined;\n",
       "    this.rubberband_context = undefined;\n",
       "    this.format_dropdown = undefined;\n",
       "\n",
       "    this.image_mode = 'full';\n",
       "\n",
       "    this.root = $('<div/>');\n",
       "    this._root_extra_style(this.root)\n",
       "    this.root.attr('style', 'display: inline-block');\n",
       "\n",
       "    $(parent_element).append(this.root);\n",
       "\n",
       "    this._init_header(this);\n",
       "    this._init_canvas(this);\n",
       "    this._init_toolbar(this);\n",
       "\n",
       "    var fig = this;\n",
       "\n",
       "    this.waiting = false;\n",
       "\n",
       "    this.ws.onopen =  function () {\n",
       "            fig.send_message(\"supports_binary\", {value: fig.supports_binary});\n",
       "            fig.send_message(\"send_image_mode\", {});\n",
       "            if (mpl.ratio != 1) {\n",
       "                fig.send_message(\"set_dpi_ratio\", {'dpi_ratio': mpl.ratio});\n",
       "            }\n",
       "            fig.send_message(\"refresh\", {});\n",
       "        }\n",
       "\n",
       "    this.imageObj.onload = function() {\n",
       "            if (fig.image_mode == 'full') {\n",
       "                // Full images could contain transparency (where diff images\n",
       "                // almost always do), so we need to clear the canvas so that\n",
       "                // there is no ghosting.\n",
       "                fig.context.clearRect(0, 0, fig.canvas.width, fig.canvas.height);\n",
       "            }\n",
       "            fig.context.drawImage(fig.imageObj, 0, 0);\n",
       "        };\n",
       "\n",
       "    this.imageObj.onunload = function() {\n",
       "        fig.ws.close();\n",
       "    }\n",
       "\n",
       "    this.ws.onmessage = this._make_on_message_function(this);\n",
       "\n",
       "    this.ondownload = ondownload;\n",
       "}\n",
       "\n",
       "mpl.figure.prototype._init_header = function() {\n",
       "    var titlebar = $(\n",
       "        '<div class=\"ui-dialog-titlebar ui-widget-header ui-corner-all ' +\n",
       "        'ui-helper-clearfix\"/>');\n",
       "    var titletext = $(\n",
       "        '<div class=\"ui-dialog-title\" style=\"width: 100%; ' +\n",
       "        'text-align: center; padding: 3px;\"/>');\n",
       "    titlebar.append(titletext)\n",
       "    this.root.append(titlebar);\n",
       "    this.header = titletext[0];\n",
       "}\n",
       "\n",
       "\n",
       "\n",
       "mpl.figure.prototype._canvas_extra_style = function(canvas_div) {\n",
       "\n",
       "}\n",
       "\n",
       "\n",
       "mpl.figure.prototype._root_extra_style = function(canvas_div) {\n",
       "\n",
       "}\n",
       "\n",
       "mpl.figure.prototype._init_canvas = function() {\n",
       "    var fig = this;\n",
       "\n",
       "    var canvas_div = $('<div/>');\n",
       "\n",
       "    canvas_div.attr('style', 'position: relative; clear: both; outline: 0');\n",
       "\n",
       "    function canvas_keyboard_event(event) {\n",
       "        return fig.key_event(event, event['data']);\n",
       "    }\n",
       "\n",
       "    canvas_div.keydown('key_press', canvas_keyboard_event);\n",
       "    canvas_div.keyup('key_release', canvas_keyboard_event);\n",
       "    this.canvas_div = canvas_div\n",
       "    this._canvas_extra_style(canvas_div)\n",
       "    this.root.append(canvas_div);\n",
       "\n",
       "    var canvas = $('<canvas/>');\n",
       "    canvas.addClass('mpl-canvas');\n",
       "    canvas.attr('style', \"left: 0; top: 0; z-index: 0; outline: 0\")\n",
       "\n",
       "    this.canvas = canvas[0];\n",
       "    this.context = canvas[0].getContext(\"2d\");\n",
       "\n",
       "    var backingStore = this.context.backingStorePixelRatio ||\n",
       "\tthis.context.webkitBackingStorePixelRatio ||\n",
       "\tthis.context.mozBackingStorePixelRatio ||\n",
       "\tthis.context.msBackingStorePixelRatio ||\n",
       "\tthis.context.oBackingStorePixelRatio ||\n",
       "\tthis.context.backingStorePixelRatio || 1;\n",
       "\n",
       "    mpl.ratio = (window.devicePixelRatio || 1) / backingStore;\n",
       "\n",
       "    var rubberband = $('<canvas/>');\n",
       "    rubberband.attr('style', \"position: absolute; left: 0; top: 0; z-index: 1;\")\n",
       "\n",
       "    var pass_mouse_events = true;\n",
       "\n",
       "    canvas_div.resizable({\n",
       "        start: function(event, ui) {\n",
       "            pass_mouse_events = false;\n",
       "        },\n",
       "        resize: function(event, ui) {\n",
       "            fig.request_resize(ui.size.width, ui.size.height);\n",
       "        },\n",
       "        stop: function(event, ui) {\n",
       "            pass_mouse_events = true;\n",
       "            fig.request_resize(ui.size.width, ui.size.height);\n",
       "        },\n",
       "    });\n",
       "\n",
       "    function mouse_event_fn(event) {\n",
       "        if (pass_mouse_events)\n",
       "            return fig.mouse_event(event, event['data']);\n",
       "    }\n",
       "\n",
       "    rubberband.mousedown('button_press', mouse_event_fn);\n",
       "    rubberband.mouseup('button_release', mouse_event_fn);\n",
       "    // Throttle sequential mouse events to 1 every 20ms.\n",
       "    rubberband.mousemove('motion_notify', mouse_event_fn);\n",
       "\n",
       "    rubberband.mouseenter('figure_enter', mouse_event_fn);\n",
       "    rubberband.mouseleave('figure_leave', mouse_event_fn);\n",
       "\n",
       "    canvas_div.on(\"wheel\", function (event) {\n",
       "        event = event.originalEvent;\n",
       "        event['data'] = 'scroll'\n",
       "        if (event.deltaY < 0) {\n",
       "            event.step = 1;\n",
       "        } else {\n",
       "            event.step = -1;\n",
       "        }\n",
       "        mouse_event_fn(event);\n",
       "    });\n",
       "\n",
       "    canvas_div.append(canvas);\n",
       "    canvas_div.append(rubberband);\n",
       "\n",
       "    this.rubberband = rubberband;\n",
       "    this.rubberband_canvas = rubberband[0];\n",
       "    this.rubberband_context = rubberband[0].getContext(\"2d\");\n",
       "    this.rubberband_context.strokeStyle = \"#000000\";\n",
       "\n",
       "    this._resize_canvas = function(width, height) {\n",
       "        // Keep the size of the canvas, canvas container, and rubber band\n",
       "        // canvas in synch.\n",
       "        canvas_div.css('width', width)\n",
       "        canvas_div.css('height', height)\n",
       "\n",
       "        canvas.attr('width', width * mpl.ratio);\n",
       "        canvas.attr('height', height * mpl.ratio);\n",
       "        canvas.attr('style', 'width: ' + width + 'px; height: ' + height + 'px;');\n",
       "\n",
       "        rubberband.attr('width', width);\n",
       "        rubberband.attr('height', height);\n",
       "    }\n",
       "\n",
       "    // Set the figure to an initial 600x600px, this will subsequently be updated\n",
       "    // upon first draw.\n",
       "    this._resize_canvas(600, 600);\n",
       "\n",
       "    // Disable right mouse context menu.\n",
       "    $(this.rubberband_canvas).bind(\"contextmenu\",function(e){\n",
       "        return false;\n",
       "    });\n",
       "\n",
       "    function set_focus () {\n",
       "        canvas.focus();\n",
       "        canvas_div.focus();\n",
       "    }\n",
       "\n",
       "    window.setTimeout(set_focus, 100);\n",
       "}\n",
       "\n",
       "mpl.figure.prototype._init_toolbar = function() {\n",
       "    var fig = this;\n",
       "\n",
       "    var nav_element = $('<div/>')\n",
       "    nav_element.attr('style', 'width: 100%');\n",
       "    this.root.append(nav_element);\n",
       "\n",
       "    // Define a callback function for later on.\n",
       "    function toolbar_event(event) {\n",
       "        return fig.toolbar_button_onclick(event['data']);\n",
       "    }\n",
       "    function toolbar_mouse_event(event) {\n",
       "        return fig.toolbar_button_onmouseover(event['data']);\n",
       "    }\n",
       "\n",
       "    for(var toolbar_ind in mpl.toolbar_items) {\n",
       "        var name = mpl.toolbar_items[toolbar_ind][0];\n",
       "        var tooltip = mpl.toolbar_items[toolbar_ind][1];\n",
       "        var image = mpl.toolbar_items[toolbar_ind][2];\n",
       "        var method_name = mpl.toolbar_items[toolbar_ind][3];\n",
       "\n",
       "        if (!name) {\n",
       "            // put a spacer in here.\n",
       "            continue;\n",
       "        }\n",
       "        var button = $('<button/>');\n",
       "        button.addClass('ui-button ui-widget ui-state-default ui-corner-all ' +\n",
       "                        'ui-button-icon-only');\n",
       "        button.attr('role', 'button');\n",
       "        button.attr('aria-disabled', 'false');\n",
       "        button.click(method_name, toolbar_event);\n",
       "        button.mouseover(tooltip, toolbar_mouse_event);\n",
       "\n",
       "        var icon_img = $('<span/>');\n",
       "        icon_img.addClass('ui-button-icon-primary ui-icon');\n",
       "        icon_img.addClass(image);\n",
       "        icon_img.addClass('ui-corner-all');\n",
       "\n",
       "        var tooltip_span = $('<span/>');\n",
       "        tooltip_span.addClass('ui-button-text');\n",
       "        tooltip_span.html(tooltip);\n",
       "\n",
       "        button.append(icon_img);\n",
       "        button.append(tooltip_span);\n",
       "\n",
       "        nav_element.append(button);\n",
       "    }\n",
       "\n",
       "    var fmt_picker_span = $('<span/>');\n",
       "\n",
       "    var fmt_picker = $('<select/>');\n",
       "    fmt_picker.addClass('mpl-toolbar-option ui-widget ui-widget-content');\n",
       "    fmt_picker_span.append(fmt_picker);\n",
       "    nav_element.append(fmt_picker_span);\n",
       "    this.format_dropdown = fmt_picker[0];\n",
       "\n",
       "    for (var ind in mpl.extensions) {\n",
       "        var fmt = mpl.extensions[ind];\n",
       "        var option = $(\n",
       "            '<option/>', {selected: fmt === mpl.default_extension}).html(fmt);\n",
       "        fmt_picker.append(option)\n",
       "    }\n",
       "\n",
       "    // Add hover states to the ui-buttons\n",
       "    $( \".ui-button\" ).hover(\n",
       "        function() { $(this).addClass(\"ui-state-hover\");},\n",
       "        function() { $(this).removeClass(\"ui-state-hover\");}\n",
       "    );\n",
       "\n",
       "    var status_bar = $('<span class=\"mpl-message\"/>');\n",
       "    nav_element.append(status_bar);\n",
       "    this.message = status_bar[0];\n",
       "}\n",
       "\n",
       "mpl.figure.prototype.request_resize = function(x_pixels, y_pixels) {\n",
       "    // Request matplotlib to resize the figure. Matplotlib will then trigger a resize in the client,\n",
       "    // which will in turn request a refresh of the image.\n",
       "    this.send_message('resize', {'width': x_pixels, 'height': y_pixels});\n",
       "}\n",
       "\n",
       "mpl.figure.prototype.send_message = function(type, properties) {\n",
       "    properties['type'] = type;\n",
       "    properties['figure_id'] = this.id;\n",
       "    this.ws.send(JSON.stringify(properties));\n",
       "}\n",
       "\n",
       "mpl.figure.prototype.send_draw_message = function() {\n",
       "    if (!this.waiting) {\n",
       "        this.waiting = true;\n",
       "        this.ws.send(JSON.stringify({type: \"draw\", figure_id: this.id}));\n",
       "    }\n",
       "}\n",
       "\n",
       "\n",
       "mpl.figure.prototype.handle_save = function(fig, msg) {\n",
       "    var format_dropdown = fig.format_dropdown;\n",
       "    var format = format_dropdown.options[format_dropdown.selectedIndex].value;\n",
       "    fig.ondownload(fig, format);\n",
       "}\n",
       "\n",
       "\n",
       "mpl.figure.prototype.handle_resize = function(fig, msg) {\n",
       "    var size = msg['size'];\n",
       "    if (size[0] != fig.canvas.width || size[1] != fig.canvas.height) {\n",
       "        fig._resize_canvas(size[0], size[1]);\n",
       "        fig.send_message(\"refresh\", {});\n",
       "    };\n",
       "}\n",
       "\n",
       "mpl.figure.prototype.handle_rubberband = function(fig, msg) {\n",
       "    var x0 = msg['x0'] / mpl.ratio;\n",
       "    var y0 = (fig.canvas.height - msg['y0']) / mpl.ratio;\n",
       "    var x1 = msg['x1'] / mpl.ratio;\n",
       "    var y1 = (fig.canvas.height - msg['y1']) / mpl.ratio;\n",
       "    x0 = Math.floor(x0) + 0.5;\n",
       "    y0 = Math.floor(y0) + 0.5;\n",
       "    x1 = Math.floor(x1) + 0.5;\n",
       "    y1 = Math.floor(y1) + 0.5;\n",
       "    var min_x = Math.min(x0, x1);\n",
       "    var min_y = Math.min(y0, y1);\n",
       "    var width = Math.abs(x1 - x0);\n",
       "    var height = Math.abs(y1 - y0);\n",
       "\n",
       "    fig.rubberband_context.clearRect(\n",
       "        0, 0, fig.canvas.width, fig.canvas.height);\n",
       "\n",
       "    fig.rubberband_context.strokeRect(min_x, min_y, width, height);\n",
       "}\n",
       "\n",
       "mpl.figure.prototype.handle_figure_label = function(fig, msg) {\n",
       "    // Updates the figure title.\n",
       "    fig.header.textContent = msg['label'];\n",
       "}\n",
       "\n",
       "mpl.figure.prototype.handle_cursor = function(fig, msg) {\n",
       "    var cursor = msg['cursor'];\n",
       "    switch(cursor)\n",
       "    {\n",
       "    case 0:\n",
       "        cursor = 'pointer';\n",
       "        break;\n",
       "    case 1:\n",
       "        cursor = 'default';\n",
       "        break;\n",
       "    case 2:\n",
       "        cursor = 'crosshair';\n",
       "        break;\n",
       "    case 3:\n",
       "        cursor = 'move';\n",
       "        break;\n",
       "    }\n",
       "    fig.rubberband_canvas.style.cursor = cursor;\n",
       "}\n",
       "\n",
       "mpl.figure.prototype.handle_message = function(fig, msg) {\n",
       "    fig.message.textContent = msg['message'];\n",
       "}\n",
       "\n",
       "mpl.figure.prototype.handle_draw = function(fig, msg) {\n",
       "    // Request the server to send over a new figure.\n",
       "    fig.send_draw_message();\n",
       "}\n",
       "\n",
       "mpl.figure.prototype.handle_image_mode = function(fig, msg) {\n",
       "    fig.image_mode = msg['mode'];\n",
       "}\n",
       "\n",
       "mpl.figure.prototype.updated_canvas_event = function() {\n",
       "    // Called whenever the canvas gets updated.\n",
       "    this.send_message(\"ack\", {});\n",
       "}\n",
       "\n",
       "// A function to construct a web socket function for onmessage handling.\n",
       "// Called in the figure constructor.\n",
       "mpl.figure.prototype._make_on_message_function = function(fig) {\n",
       "    return function socket_on_message(evt) {\n",
       "        if (evt.data instanceof Blob) {\n",
       "            /* FIXME: We get \"Resource interpreted as Image but\n",
       "             * transferred with MIME type text/plain:\" errors on\n",
       "             * Chrome.  But how to set the MIME type?  It doesn't seem\n",
       "             * to be part of the websocket stream */\n",
       "            evt.data.type = \"image/png\";\n",
       "\n",
       "            /* Free the memory for the previous frames */\n",
       "            if (fig.imageObj.src) {\n",
       "                (window.URL || window.webkitURL).revokeObjectURL(\n",
       "                    fig.imageObj.src);\n",
       "            }\n",
       "\n",
       "            fig.imageObj.src = (window.URL || window.webkitURL).createObjectURL(\n",
       "                evt.data);\n",
       "            fig.updated_canvas_event();\n",
       "            fig.waiting = false;\n",
       "            return;\n",
       "        }\n",
       "        else if (typeof evt.data === 'string' && evt.data.slice(0, 21) == \"data:image/png;base64\") {\n",
       "            fig.imageObj.src = evt.data;\n",
       "            fig.updated_canvas_event();\n",
       "            fig.waiting = false;\n",
       "            return;\n",
       "        }\n",
       "\n",
       "        var msg = JSON.parse(evt.data);\n",
       "        var msg_type = msg['type'];\n",
       "\n",
       "        // Call the  \"handle_{type}\" callback, which takes\n",
       "        // the figure and JSON message as its only arguments.\n",
       "        try {\n",
       "            var callback = fig[\"handle_\" + msg_type];\n",
       "        } catch (e) {\n",
       "            console.log(\"No handler for the '\" + msg_type + \"' message type: \", msg);\n",
       "            return;\n",
       "        }\n",
       "\n",
       "        if (callback) {\n",
       "            try {\n",
       "                // console.log(\"Handling '\" + msg_type + \"' message: \", msg);\n",
       "                callback(fig, msg);\n",
       "            } catch (e) {\n",
       "                console.log(\"Exception inside the 'handler_\" + msg_type + \"' callback:\", e, e.stack, msg);\n",
       "            }\n",
       "        }\n",
       "    };\n",
       "}\n",
       "\n",
       "// from http://stackoverflow.com/questions/1114465/getting-mouse-location-in-canvas\n",
       "mpl.findpos = function(e) {\n",
       "    //this section is from http://www.quirksmode.org/js/events_properties.html\n",
       "    var targ;\n",
       "    if (!e)\n",
       "        e = window.event;\n",
       "    if (e.target)\n",
       "        targ = e.target;\n",
       "    else if (e.srcElement)\n",
       "        targ = e.srcElement;\n",
       "    if (targ.nodeType == 3) // defeat Safari bug\n",
       "        targ = targ.parentNode;\n",
       "\n",
       "    // jQuery normalizes the pageX and pageY\n",
       "    // pageX,Y are the mouse positions relative to the document\n",
       "    // offset() returns the position of the element relative to the document\n",
       "    var x = e.pageX - $(targ).offset().left;\n",
       "    var y = e.pageY - $(targ).offset().top;\n",
       "\n",
       "    return {\"x\": x, \"y\": y};\n",
       "};\n",
       "\n",
       "/*\n",
       " * return a copy of an object with only non-object keys\n",
       " * we need this to avoid circular references\n",
       " * http://stackoverflow.com/a/24161582/3208463\n",
       " */\n",
       "function simpleKeys (original) {\n",
       "  return Object.keys(original).reduce(function (obj, key) {\n",
       "    if (typeof original[key] !== 'object')\n",
       "        obj[key] = original[key]\n",
       "    return obj;\n",
       "  }, {});\n",
       "}\n",
       "\n",
       "mpl.figure.prototype.mouse_event = function(event, name) {\n",
       "    var canvas_pos = mpl.findpos(event)\n",
       "\n",
       "    if (name === 'button_press')\n",
       "    {\n",
       "        this.canvas.focus();\n",
       "        this.canvas_div.focus();\n",
       "    }\n",
       "\n",
       "    var x = canvas_pos.x * mpl.ratio;\n",
       "    var y = canvas_pos.y * mpl.ratio;\n",
       "\n",
       "    this.send_message(name, {x: x, y: y, button: event.button,\n",
       "                             step: event.step,\n",
       "                             guiEvent: simpleKeys(event)});\n",
       "\n",
       "    /* This prevents the web browser from automatically changing to\n",
       "     * the text insertion cursor when the button is pressed.  We want\n",
       "     * to control all of the cursor setting manually through the\n",
       "     * 'cursor' event from matplotlib */\n",
       "    event.preventDefault();\n",
       "    return false;\n",
       "}\n",
       "\n",
       "mpl.figure.prototype._key_event_extra = function(event, name) {\n",
       "    // Handle any extra behaviour associated with a key event\n",
       "}\n",
       "\n",
       "mpl.figure.prototype.key_event = function(event, name) {\n",
       "\n",
       "    // Prevent repeat events\n",
       "    if (name == 'key_press')\n",
       "    {\n",
       "        if (event.which === this._key)\n",
       "            return;\n",
       "        else\n",
       "            this._key = event.which;\n",
       "    }\n",
       "    if (name == 'key_release')\n",
       "        this._key = null;\n",
       "\n",
       "    var value = '';\n",
       "    if (event.ctrlKey && event.which != 17)\n",
       "        value += \"ctrl+\";\n",
       "    if (event.altKey && event.which != 18)\n",
       "        value += \"alt+\";\n",
       "    if (event.shiftKey && event.which != 16)\n",
       "        value += \"shift+\";\n",
       "\n",
       "    value += 'k';\n",
       "    value += event.which.toString();\n",
       "\n",
       "    this._key_event_extra(event, name);\n",
       "\n",
       "    this.send_message(name, {key: value,\n",
       "                             guiEvent: simpleKeys(event)});\n",
       "    return false;\n",
       "}\n",
       "\n",
       "mpl.figure.prototype.toolbar_button_onclick = function(name) {\n",
       "    if (name == 'download') {\n",
       "        this.handle_save(this, null);\n",
       "    } else {\n",
       "        this.send_message(\"toolbar_button\", {name: name});\n",
       "    }\n",
       "};\n",
       "\n",
       "mpl.figure.prototype.toolbar_button_onmouseover = function(tooltip) {\n",
       "    this.message.textContent = tooltip;\n",
       "};\n",
       "mpl.toolbar_items = [[\"Home\", \"Reset original view\", \"fa fa-home icon-home\", \"home\"], [\"Back\", \"Back to  previous view\", \"fa fa-arrow-left icon-arrow-left\", \"back\"], [\"Forward\", \"Forward to next view\", \"fa fa-arrow-right icon-arrow-right\", \"forward\"], [\"\", \"\", \"\", \"\"], [\"Pan\", \"Pan axes with left mouse, zoom with right\", \"fa fa-arrows icon-move\", \"pan\"], [\"Zoom\", \"Zoom to rectangle\", \"fa fa-square-o icon-check-empty\", \"zoom\"], [\"\", \"\", \"\", \"\"], [\"Download\", \"Download plot\", \"fa fa-floppy-o icon-save\", \"download\"]];\n",
       "\n",
       "mpl.extensions = [\"eps\", \"jpeg\", \"pdf\", \"png\", \"ps\", \"raw\", \"svg\", \"tif\"];\n",
       "\n",
       "mpl.default_extension = \"png\";var comm_websocket_adapter = function(comm) {\n",
       "    // Create a \"websocket\"-like object which calls the given IPython comm\n",
       "    // object with the appropriate methods. Currently this is a non binary\n",
       "    // socket, so there is still some room for performance tuning.\n",
       "    var ws = {};\n",
       "\n",
       "    ws.close = function() {\n",
       "        comm.close()\n",
       "    };\n",
       "    ws.send = function(m) {\n",
       "        //console.log('sending', m);\n",
       "        comm.send(m);\n",
       "    };\n",
       "    // Register the callback with on_msg.\n",
       "    comm.on_msg(function(msg) {\n",
       "        //console.log('receiving', msg['content']['data'], msg);\n",
       "        // Pass the mpl event to the overriden (by mpl) onmessage function.\n",
       "        ws.onmessage(msg['content']['data'])\n",
       "    });\n",
       "    return ws;\n",
       "}\n",
       "\n",
       "mpl.mpl_figure_comm = function(comm, msg) {\n",
       "    // This is the function which gets called when the mpl process\n",
       "    // starts-up an IPython Comm through the \"matplotlib\" channel.\n",
       "\n",
       "    var id = msg.content.data.id;\n",
       "    // Get hold of the div created by the display call when the Comm\n",
       "    // socket was opened in Python.\n",
       "    var element = $(\"#\" + id);\n",
       "    var ws_proxy = comm_websocket_adapter(comm)\n",
       "\n",
       "    function ondownload(figure, format) {\n",
       "        window.open(figure.imageObj.src);\n",
       "    }\n",
       "\n",
       "    var fig = new mpl.figure(id, ws_proxy,\n",
       "                           ondownload,\n",
       "                           element.get(0));\n",
       "\n",
       "    // Call onopen now - mpl needs it, as it is assuming we've passed it a real\n",
       "    // web socket which is closed, not our websocket->open comm proxy.\n",
       "    ws_proxy.onopen();\n",
       "\n",
       "    fig.parent_element = element.get(0);\n",
       "    fig.cell_info = mpl.find_output_cell(\"<div id='\" + id + \"'></div>\");\n",
       "    if (!fig.cell_info) {\n",
       "        console.error(\"Failed to find cell for figure\", id, fig);\n",
       "        return;\n",
       "    }\n",
       "\n",
       "    var output_index = fig.cell_info[2]\n",
       "    var cell = fig.cell_info[0];\n",
       "\n",
       "};\n",
       "\n",
       "mpl.figure.prototype.handle_close = function(fig, msg) {\n",
       "    var width = fig.canvas.width/mpl.ratio\n",
       "    fig.root.unbind('remove')\n",
       "\n",
       "    // Update the output cell to use the data from the current canvas.\n",
       "    fig.push_to_output();\n",
       "    var dataURL = fig.canvas.toDataURL();\n",
       "    // Re-enable the keyboard manager in IPython - without this line, in FF,\n",
       "    // the notebook keyboard shortcuts fail.\n",
       "    IPython.keyboard_manager.enable()\n",
       "    $(fig.parent_element).html('<img src=\"' + dataURL + '\" width=\"' + width + '\">');\n",
       "    fig.close_ws(fig, msg);\n",
       "}\n",
       "\n",
       "mpl.figure.prototype.close_ws = function(fig, msg){\n",
       "    fig.send_message('closing', msg);\n",
       "    // fig.ws.close()\n",
       "}\n",
       "\n",
       "mpl.figure.prototype.push_to_output = function(remove_interactive) {\n",
       "    // Turn the data on the canvas into data in the output cell.\n",
       "    var width = this.canvas.width/mpl.ratio\n",
       "    var dataURL = this.canvas.toDataURL();\n",
       "    this.cell_info[1]['text/html'] = '<img src=\"' + dataURL + '\" width=\"' + width + '\">';\n",
       "}\n",
       "\n",
       "mpl.figure.prototype.updated_canvas_event = function() {\n",
       "    // Tell IPython that the notebook contents must change.\n",
       "    IPython.notebook.set_dirty(true);\n",
       "    this.send_message(\"ack\", {});\n",
       "    var fig = this;\n",
       "    // Wait a second, then push the new image to the DOM so\n",
       "    // that it is saved nicely (might be nice to debounce this).\n",
       "    setTimeout(function () { fig.push_to_output() }, 1000);\n",
       "}\n",
       "\n",
       "mpl.figure.prototype._init_toolbar = function() {\n",
       "    var fig = this;\n",
       "\n",
       "    var nav_element = $('<div/>')\n",
       "    nav_element.attr('style', 'width: 100%');\n",
       "    this.root.append(nav_element);\n",
       "\n",
       "    // Define a callback function for later on.\n",
       "    function toolbar_event(event) {\n",
       "        return fig.toolbar_button_onclick(event['data']);\n",
       "    }\n",
       "    function toolbar_mouse_event(event) {\n",
       "        return fig.toolbar_button_onmouseover(event['data']);\n",
       "    }\n",
       "\n",
       "    for(var toolbar_ind in mpl.toolbar_items){\n",
       "        var name = mpl.toolbar_items[toolbar_ind][0];\n",
       "        var tooltip = mpl.toolbar_items[toolbar_ind][1];\n",
       "        var image = mpl.toolbar_items[toolbar_ind][2];\n",
       "        var method_name = mpl.toolbar_items[toolbar_ind][3];\n",
       "\n",
       "        if (!name) { continue; };\n",
       "\n",
       "        var button = $('<button class=\"btn btn-default\" href=\"#\" title=\"' + name + '\"><i class=\"fa ' + image + ' fa-lg\"></i></button>');\n",
       "        button.click(method_name, toolbar_event);\n",
       "        button.mouseover(tooltip, toolbar_mouse_event);\n",
       "        nav_element.append(button);\n",
       "    }\n",
       "\n",
       "    // Add the status bar.\n",
       "    var status_bar = $('<span class=\"mpl-message\" style=\"text-align:right; float: right;\"/>');\n",
       "    nav_element.append(status_bar);\n",
       "    this.message = status_bar[0];\n",
       "\n",
       "    // Add the close button to the window.\n",
       "    var buttongrp = $('<div class=\"btn-group inline pull-right\"></div>');\n",
       "    var button = $('<button class=\"btn btn-mini btn-primary\" href=\"#\" title=\"Stop Interaction\"><i class=\"fa fa-power-off icon-remove icon-large\"></i></button>');\n",
       "    button.click(function (evt) { fig.handle_close(fig, {}); } );\n",
       "    button.mouseover('Stop Interaction', toolbar_mouse_event);\n",
       "    buttongrp.append(button);\n",
       "    var titlebar = this.root.find($('.ui-dialog-titlebar'));\n",
       "    titlebar.prepend(buttongrp);\n",
       "}\n",
       "\n",
       "mpl.figure.prototype._root_extra_style = function(el){\n",
       "    var fig = this\n",
       "    el.on(\"remove\", function(){\n",
       "\tfig.close_ws(fig, {});\n",
       "    });\n",
       "}\n",
       "\n",
       "mpl.figure.prototype._canvas_extra_style = function(el){\n",
       "    // this is important to make the div 'focusable\n",
       "    el.attr('tabindex', 0)\n",
       "    // reach out to IPython and tell the keyboard manager to turn it's self\n",
       "    // off when our div gets focus\n",
       "\n",
       "    // location in version 3\n",
       "    if (IPython.notebook.keyboard_manager) {\n",
       "        IPython.notebook.keyboard_manager.register_events(el);\n",
       "    }\n",
       "    else {\n",
       "        // location in version 2\n",
       "        IPython.keyboard_manager.register_events(el);\n",
       "    }\n",
       "\n",
       "}\n",
       "\n",
       "mpl.figure.prototype._key_event_extra = function(event, name) {\n",
       "    var manager = IPython.notebook.keyboard_manager;\n",
       "    if (!manager)\n",
       "        manager = IPython.keyboard_manager;\n",
       "\n",
       "    // Check for shift+enter\n",
       "    if (event.shiftKey && event.which == 13) {\n",
       "        this.canvas_div.blur();\n",
       "        event.shiftKey = false;\n",
       "        // Send a \"J\" for go to next cell\n",
       "        event.which = 74;\n",
       "        event.keyCode = 74;\n",
       "        manager.command_mode();\n",
       "        manager.handle_keydown(event);\n",
       "    }\n",
       "}\n",
       "\n",
       "mpl.figure.prototype.handle_save = function(fig, msg) {\n",
       "    fig.ondownload(fig, null);\n",
       "}\n",
       "\n",
       "\n",
       "mpl.find_output_cell = function(html_output) {\n",
       "    // Return the cell and output element which can be found *uniquely* in the notebook.\n",
       "    // Note - this is a bit hacky, but it is done because the \"notebook_saving.Notebook\"\n",
       "    // IPython event is triggered only after the cells have been serialised, which for\n",
       "    // our purposes (turning an active figure into a static one), is too late.\n",
       "    var cells = IPython.notebook.get_cells();\n",
       "    var ncells = cells.length;\n",
       "    for (var i=0; i<ncells; i++) {\n",
       "        var cell = cells[i];\n",
       "        if (cell.cell_type === 'code'){\n",
       "            for (var j=0; j<cell.output_area.outputs.length; j++) {\n",
       "                var data = cell.output_area.outputs[j];\n",
       "                if (data.data) {\n",
       "                    // IPython >= 3 moved mimebundle to data attribute of output\n",
       "                    data = data.data;\n",
       "                }\n",
       "                if (data['text/html'] == html_output) {\n",
       "                    return [cell, data, j];\n",
       "                }\n",
       "            }\n",
       "        }\n",
       "    }\n",
       "}\n",
       "\n",
       "// Register the function which deals with the matplotlib target/channel.\n",
       "// The kernel may be null if the page has been refreshed.\n",
       "if (IPython.notebook.kernel != null) {\n",
       "    IPython.notebook.kernel.comm_manager.register_target('matplotlib', mpl.mpl_figure_comm);\n",
       "}\n"
      ],
      "text/plain": [
       "<IPython.core.display.Javascript object>"
      ]
     },
     "metadata": {},
     "output_type": "display_data"
    },
    {
     "data": {
      "text/html": [
       "<img src=\"data:image/png;base64,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\" width=\"638.888905813665\">"
      ],
      "text/plain": [
       "<IPython.core.display.HTML object>"
      ]
     },
     "metadata": {},
     "output_type": "display_data"
    },
    {
     "data": {
      "text/plain": [
       "[<mpl_toolkits.mplot3d.art3d.Line3D at 0xdafbd30>]"
      ]
     },
     "execution_count": 124,
     "metadata": {},
     "output_type": "execute_result"
    }
   ],
   "source": [
    "fig = plt.figure()\n",
    "ax = fig.gca(projection='3d')\n",
    "theta = np.linspace(-4 * np.pi, 4 * np.pi, 100)\n",
    "z = [1,2,3,4,5,6,7,8]\n",
    "x = [1,2,3,4,5,6,7,8]\n",
    "y = [2,1,2,1,2,3,4,2]\n",
    "ax.plot(x, y, z)"
   ]
  },
  {
   "cell_type": "markdown",
   "metadata": {
    "slideshow": {
     "slide_type": "subslide"
    }
   },
   "source": [
    "** 3D Scatter **"
   ]
  },
  {
   "cell_type": "code",
   "execution_count": 125,
   "metadata": {
    "slideshow": {
     "slide_type": "fragment"
    }
   },
   "outputs": [
    {
     "data": {
      "application/javascript": [
       "/* Put everything inside the global mpl namespace */\n",
       "window.mpl = {};\n",
       "\n",
       "\n",
       "mpl.get_websocket_type = function() {\n",
       "    if (typeof(WebSocket) !== 'undefined') {\n",
       "        return WebSocket;\n",
       "    } else if (typeof(MozWebSocket) !== 'undefined') {\n",
       "        return MozWebSocket;\n",
       "    } else {\n",
       "        alert('Your browser does not have WebSocket support.' +\n",
       "              'Please try Chrome, Safari or Firefox ≥ 6. ' +\n",
       "              'Firefox 4 and 5 are also supported but you ' +\n",
       "              'have to enable WebSockets in about:config.');\n",
       "    };\n",
       "}\n",
       "\n",
       "mpl.figure = function(figure_id, websocket, ondownload, parent_element) {\n",
       "    this.id = figure_id;\n",
       "\n",
       "    this.ws = websocket;\n",
       "\n",
       "    this.supports_binary = (this.ws.binaryType != undefined);\n",
       "\n",
       "    if (!this.supports_binary) {\n",
       "        var warnings = document.getElementById(\"mpl-warnings\");\n",
       "        if (warnings) {\n",
       "            warnings.style.display = 'block';\n",
       "            warnings.textContent = (\n",
       "                \"This browser does not support binary websocket messages. \" +\n",
       "                    \"Performance may be slow.\");\n",
       "        }\n",
       "    }\n",
       "\n",
       "    this.imageObj = new Image();\n",
       "\n",
       "    this.context = undefined;\n",
       "    this.message = undefined;\n",
       "    this.canvas = undefined;\n",
       "    this.rubberband_canvas = undefined;\n",
       "    this.rubberband_context = undefined;\n",
       "    this.format_dropdown = undefined;\n",
       "\n",
       "    this.image_mode = 'full';\n",
       "\n",
       "    this.root = $('<div/>');\n",
       "    this._root_extra_style(this.root)\n",
       "    this.root.attr('style', 'display: inline-block');\n",
       "\n",
       "    $(parent_element).append(this.root);\n",
       "\n",
       "    this._init_header(this);\n",
       "    this._init_canvas(this);\n",
       "    this._init_toolbar(this);\n",
       "\n",
       "    var fig = this;\n",
       "\n",
       "    this.waiting = false;\n",
       "\n",
       "    this.ws.onopen =  function () {\n",
       "            fig.send_message(\"supports_binary\", {value: fig.supports_binary});\n",
       "            fig.send_message(\"send_image_mode\", {});\n",
       "            if (mpl.ratio != 1) {\n",
       "                fig.send_message(\"set_dpi_ratio\", {'dpi_ratio': mpl.ratio});\n",
       "            }\n",
       "            fig.send_message(\"refresh\", {});\n",
       "        }\n",
       "\n",
       "    this.imageObj.onload = function() {\n",
       "            if (fig.image_mode == 'full') {\n",
       "                // Full images could contain transparency (where diff images\n",
       "                // almost always do), so we need to clear the canvas so that\n",
       "                // there is no ghosting.\n",
       "                fig.context.clearRect(0, 0, fig.canvas.width, fig.canvas.height);\n",
       "            }\n",
       "            fig.context.drawImage(fig.imageObj, 0, 0);\n",
       "        };\n",
       "\n",
       "    this.imageObj.onunload = function() {\n",
       "        fig.ws.close();\n",
       "    }\n",
       "\n",
       "    this.ws.onmessage = this._make_on_message_function(this);\n",
       "\n",
       "    this.ondownload = ondownload;\n",
       "}\n",
       "\n",
       "mpl.figure.prototype._init_header = function() {\n",
       "    var titlebar = $(\n",
       "        '<div class=\"ui-dialog-titlebar ui-widget-header ui-corner-all ' +\n",
       "        'ui-helper-clearfix\"/>');\n",
       "    var titletext = $(\n",
       "        '<div class=\"ui-dialog-title\" style=\"width: 100%; ' +\n",
       "        'text-align: center; padding: 3px;\"/>');\n",
       "    titlebar.append(titletext)\n",
       "    this.root.append(titlebar);\n",
       "    this.header = titletext[0];\n",
       "}\n",
       "\n",
       "\n",
       "\n",
       "mpl.figure.prototype._canvas_extra_style = function(canvas_div) {\n",
       "\n",
       "}\n",
       "\n",
       "\n",
       "mpl.figure.prototype._root_extra_style = function(canvas_div) {\n",
       "\n",
       "}\n",
       "\n",
       "mpl.figure.prototype._init_canvas = function() {\n",
       "    var fig = this;\n",
       "\n",
       "    var canvas_div = $('<div/>');\n",
       "\n",
       "    canvas_div.attr('style', 'position: relative; clear: both; outline: 0');\n",
       "\n",
       "    function canvas_keyboard_event(event) {\n",
       "        return fig.key_event(event, event['data']);\n",
       "    }\n",
       "\n",
       "    canvas_div.keydown('key_press', canvas_keyboard_event);\n",
       "    canvas_div.keyup('key_release', canvas_keyboard_event);\n",
       "    this.canvas_div = canvas_div\n",
       "    this._canvas_extra_style(canvas_div)\n",
       "    this.root.append(canvas_div);\n",
       "\n",
       "    var canvas = $('<canvas/>');\n",
       "    canvas.addClass('mpl-canvas');\n",
       "    canvas.attr('style', \"left: 0; top: 0; z-index: 0; outline: 0\")\n",
       "\n",
       "    this.canvas = canvas[0];\n",
       "    this.context = canvas[0].getContext(\"2d\");\n",
       "\n",
       "    var backingStore = this.context.backingStorePixelRatio ||\n",
       "\tthis.context.webkitBackingStorePixelRatio ||\n",
       "\tthis.context.mozBackingStorePixelRatio ||\n",
       "\tthis.context.msBackingStorePixelRatio ||\n",
       "\tthis.context.oBackingStorePixelRatio ||\n",
       "\tthis.context.backingStorePixelRatio || 1;\n",
       "\n",
       "    mpl.ratio = (window.devicePixelRatio || 1) / backingStore;\n",
       "\n",
       "    var rubberband = $('<canvas/>');\n",
       "    rubberband.attr('style', \"position: absolute; left: 0; top: 0; z-index: 1;\")\n",
       "\n",
       "    var pass_mouse_events = true;\n",
       "\n",
       "    canvas_div.resizable({\n",
       "        start: function(event, ui) {\n",
       "            pass_mouse_events = false;\n",
       "        },\n",
       "        resize: function(event, ui) {\n",
       "            fig.request_resize(ui.size.width, ui.size.height);\n",
       "        },\n",
       "        stop: function(event, ui) {\n",
       "            pass_mouse_events = true;\n",
       "            fig.request_resize(ui.size.width, ui.size.height);\n",
       "        },\n",
       "    });\n",
       "\n",
       "    function mouse_event_fn(event) {\n",
       "        if (pass_mouse_events)\n",
       "            return fig.mouse_event(event, event['data']);\n",
       "    }\n",
       "\n",
       "    rubberband.mousedown('button_press', mouse_event_fn);\n",
       "    rubberband.mouseup('button_release', mouse_event_fn);\n",
       "    // Throttle sequential mouse events to 1 every 20ms.\n",
       "    rubberband.mousemove('motion_notify', mouse_event_fn);\n",
       "\n",
       "    rubberband.mouseenter('figure_enter', mouse_event_fn);\n",
       "    rubberband.mouseleave('figure_leave', mouse_event_fn);\n",
       "\n",
       "    canvas_div.on(\"wheel\", function (event) {\n",
       "        event = event.originalEvent;\n",
       "        event['data'] = 'scroll'\n",
       "        if (event.deltaY < 0) {\n",
       "            event.step = 1;\n",
       "        } else {\n",
       "            event.step = -1;\n",
       "        }\n",
       "        mouse_event_fn(event);\n",
       "    });\n",
       "\n",
       "    canvas_div.append(canvas);\n",
       "    canvas_div.append(rubberband);\n",
       "\n",
       "    this.rubberband = rubberband;\n",
       "    this.rubberband_canvas = rubberband[0];\n",
       "    this.rubberband_context = rubberband[0].getContext(\"2d\");\n",
       "    this.rubberband_context.strokeStyle = \"#000000\";\n",
       "\n",
       "    this._resize_canvas = function(width, height) {\n",
       "        // Keep the size of the canvas, canvas container, and rubber band\n",
       "        // canvas in synch.\n",
       "        canvas_div.css('width', width)\n",
       "        canvas_div.css('height', height)\n",
       "\n",
       "        canvas.attr('width', width * mpl.ratio);\n",
       "        canvas.attr('height', height * mpl.ratio);\n",
       "        canvas.attr('style', 'width: ' + width + 'px; height: ' + height + 'px;');\n",
       "\n",
       "        rubberband.attr('width', width);\n",
       "        rubberband.attr('height', height);\n",
       "    }\n",
       "\n",
       "    // Set the figure to an initial 600x600px, this will subsequently be updated\n",
       "    // upon first draw.\n",
       "    this._resize_canvas(600, 600);\n",
       "\n",
       "    // Disable right mouse context menu.\n",
       "    $(this.rubberband_canvas).bind(\"contextmenu\",function(e){\n",
       "        return false;\n",
       "    });\n",
       "\n",
       "    function set_focus () {\n",
       "        canvas.focus();\n",
       "        canvas_div.focus();\n",
       "    }\n",
       "\n",
       "    window.setTimeout(set_focus, 100);\n",
       "}\n",
       "\n",
       "mpl.figure.prototype._init_toolbar = function() {\n",
       "    var fig = this;\n",
       "\n",
       "    var nav_element = $('<div/>')\n",
       "    nav_element.attr('style', 'width: 100%');\n",
       "    this.root.append(nav_element);\n",
       "\n",
       "    // Define a callback function for later on.\n",
       "    function toolbar_event(event) {\n",
       "        return fig.toolbar_button_onclick(event['data']);\n",
       "    }\n",
       "    function toolbar_mouse_event(event) {\n",
       "        return fig.toolbar_button_onmouseover(event['data']);\n",
       "    }\n",
       "\n",
       "    for(var toolbar_ind in mpl.toolbar_items) {\n",
       "        var name = mpl.toolbar_items[toolbar_ind][0];\n",
       "        var tooltip = mpl.toolbar_items[toolbar_ind][1];\n",
       "        var image = mpl.toolbar_items[toolbar_ind][2];\n",
       "        var method_name = mpl.toolbar_items[toolbar_ind][3];\n",
       "\n",
       "        if (!name) {\n",
       "            // put a spacer in here.\n",
       "            continue;\n",
       "        }\n",
       "        var button = $('<button/>');\n",
       "        button.addClass('ui-button ui-widget ui-state-default ui-corner-all ' +\n",
       "                        'ui-button-icon-only');\n",
       "        button.attr('role', 'button');\n",
       "        button.attr('aria-disabled', 'false');\n",
       "        button.click(method_name, toolbar_event);\n",
       "        button.mouseover(tooltip, toolbar_mouse_event);\n",
       "\n",
       "        var icon_img = $('<span/>');\n",
       "        icon_img.addClass('ui-button-icon-primary ui-icon');\n",
       "        icon_img.addClass(image);\n",
       "        icon_img.addClass('ui-corner-all');\n",
       "\n",
       "        var tooltip_span = $('<span/>');\n",
       "        tooltip_span.addClass('ui-button-text');\n",
       "        tooltip_span.html(tooltip);\n",
       "\n",
       "        button.append(icon_img);\n",
       "        button.append(tooltip_span);\n",
       "\n",
       "        nav_element.append(button);\n",
       "    }\n",
       "\n",
       "    var fmt_picker_span = $('<span/>');\n",
       "\n",
       "    var fmt_picker = $('<select/>');\n",
       "    fmt_picker.addClass('mpl-toolbar-option ui-widget ui-widget-content');\n",
       "    fmt_picker_span.append(fmt_picker);\n",
       "    nav_element.append(fmt_picker_span);\n",
       "    this.format_dropdown = fmt_picker[0];\n",
       "\n",
       "    for (var ind in mpl.extensions) {\n",
       "        var fmt = mpl.extensions[ind];\n",
       "        var option = $(\n",
       "            '<option/>', {selected: fmt === mpl.default_extension}).html(fmt);\n",
       "        fmt_picker.append(option)\n",
       "    }\n",
       "\n",
       "    // Add hover states to the ui-buttons\n",
       "    $( \".ui-button\" ).hover(\n",
       "        function() { $(this).addClass(\"ui-state-hover\");},\n",
       "        function() { $(this).removeClass(\"ui-state-hover\");}\n",
       "    );\n",
       "\n",
       "    var status_bar = $('<span class=\"mpl-message\"/>');\n",
       "    nav_element.append(status_bar);\n",
       "    this.message = status_bar[0];\n",
       "}\n",
       "\n",
       "mpl.figure.prototype.request_resize = function(x_pixels, y_pixels) {\n",
       "    // Request matplotlib to resize the figure. Matplotlib will then trigger a resize in the client,\n",
       "    // which will in turn request a refresh of the image.\n",
       "    this.send_message('resize', {'width': x_pixels, 'height': y_pixels});\n",
       "}\n",
       "\n",
       "mpl.figure.prototype.send_message = function(type, properties) {\n",
       "    properties['type'] = type;\n",
       "    properties['figure_id'] = this.id;\n",
       "    this.ws.send(JSON.stringify(properties));\n",
       "}\n",
       "\n",
       "mpl.figure.prototype.send_draw_message = function() {\n",
       "    if (!this.waiting) {\n",
       "        this.waiting = true;\n",
       "        this.ws.send(JSON.stringify({type: \"draw\", figure_id: this.id}));\n",
       "    }\n",
       "}\n",
       "\n",
       "\n",
       "mpl.figure.prototype.handle_save = function(fig, msg) {\n",
       "    var format_dropdown = fig.format_dropdown;\n",
       "    var format = format_dropdown.options[format_dropdown.selectedIndex].value;\n",
       "    fig.ondownload(fig, format);\n",
       "}\n",
       "\n",
       "\n",
       "mpl.figure.prototype.handle_resize = function(fig, msg) {\n",
       "    var size = msg['size'];\n",
       "    if (size[0] != fig.canvas.width || size[1] != fig.canvas.height) {\n",
       "        fig._resize_canvas(size[0], size[1]);\n",
       "        fig.send_message(\"refresh\", {});\n",
       "    };\n",
       "}\n",
       "\n",
       "mpl.figure.prototype.handle_rubberband = function(fig, msg) {\n",
       "    var x0 = msg['x0'] / mpl.ratio;\n",
       "    var y0 = (fig.canvas.height - msg['y0']) / mpl.ratio;\n",
       "    var x1 = msg['x1'] / mpl.ratio;\n",
       "    var y1 = (fig.canvas.height - msg['y1']) / mpl.ratio;\n",
       "    x0 = Math.floor(x0) + 0.5;\n",
       "    y0 = Math.floor(y0) + 0.5;\n",
       "    x1 = Math.floor(x1) + 0.5;\n",
       "    y1 = Math.floor(y1) + 0.5;\n",
       "    var min_x = Math.min(x0, x1);\n",
       "    var min_y = Math.min(y0, y1);\n",
       "    var width = Math.abs(x1 - x0);\n",
       "    var height = Math.abs(y1 - y0);\n",
       "\n",
       "    fig.rubberband_context.clearRect(\n",
       "        0, 0, fig.canvas.width, fig.canvas.height);\n",
       "\n",
       "    fig.rubberband_context.strokeRect(min_x, min_y, width, height);\n",
       "}\n",
       "\n",
       "mpl.figure.prototype.handle_figure_label = function(fig, msg) {\n",
       "    // Updates the figure title.\n",
       "    fig.header.textContent = msg['label'];\n",
       "}\n",
       "\n",
       "mpl.figure.prototype.handle_cursor = function(fig, msg) {\n",
       "    var cursor = msg['cursor'];\n",
       "    switch(cursor)\n",
       "    {\n",
       "    case 0:\n",
       "        cursor = 'pointer';\n",
       "        break;\n",
       "    case 1:\n",
       "        cursor = 'default';\n",
       "        break;\n",
       "    case 2:\n",
       "        cursor = 'crosshair';\n",
       "        break;\n",
       "    case 3:\n",
       "        cursor = 'move';\n",
       "        break;\n",
       "    }\n",
       "    fig.rubberband_canvas.style.cursor = cursor;\n",
       "}\n",
       "\n",
       "mpl.figure.prototype.handle_message = function(fig, msg) {\n",
       "    fig.message.textContent = msg['message'];\n",
       "}\n",
       "\n",
       "mpl.figure.prototype.handle_draw = function(fig, msg) {\n",
       "    // Request the server to send over a new figure.\n",
       "    fig.send_draw_message();\n",
       "}\n",
       "\n",
       "mpl.figure.prototype.handle_image_mode = function(fig, msg) {\n",
       "    fig.image_mode = msg['mode'];\n",
       "}\n",
       "\n",
       "mpl.figure.prototype.updated_canvas_event = function() {\n",
       "    // Called whenever the canvas gets updated.\n",
       "    this.send_message(\"ack\", {});\n",
       "}\n",
       "\n",
       "// A function to construct a web socket function for onmessage handling.\n",
       "// Called in the figure constructor.\n",
       "mpl.figure.prototype._make_on_message_function = function(fig) {\n",
       "    return function socket_on_message(evt) {\n",
       "        if (evt.data instanceof Blob) {\n",
       "            /* FIXME: We get \"Resource interpreted as Image but\n",
       "             * transferred with MIME type text/plain:\" errors on\n",
       "             * Chrome.  But how to set the MIME type?  It doesn't seem\n",
       "             * to be part of the websocket stream */\n",
       "            evt.data.type = \"image/png\";\n",
       "\n",
       "            /* Free the memory for the previous frames */\n",
       "            if (fig.imageObj.src) {\n",
       "                (window.URL || window.webkitURL).revokeObjectURL(\n",
       "                    fig.imageObj.src);\n",
       "            }\n",
       "\n",
       "            fig.imageObj.src = (window.URL || window.webkitURL).createObjectURL(\n",
       "                evt.data);\n",
       "            fig.updated_canvas_event();\n",
       "            fig.waiting = false;\n",
       "            return;\n",
       "        }\n",
       "        else if (typeof evt.data === 'string' && evt.data.slice(0, 21) == \"data:image/png;base64\") {\n",
       "            fig.imageObj.src = evt.data;\n",
       "            fig.updated_canvas_event();\n",
       "            fig.waiting = false;\n",
       "            return;\n",
       "        }\n",
       "\n",
       "        var msg = JSON.parse(evt.data);\n",
       "        var msg_type = msg['type'];\n",
       "\n",
       "        // Call the  \"handle_{type}\" callback, which takes\n",
       "        // the figure and JSON message as its only arguments.\n",
       "        try {\n",
       "            var callback = fig[\"handle_\" + msg_type];\n",
       "        } catch (e) {\n",
       "            console.log(\"No handler for the '\" + msg_type + \"' message type: \", msg);\n",
       "            return;\n",
       "        }\n",
       "\n",
       "        if (callback) {\n",
       "            try {\n",
       "                // console.log(\"Handling '\" + msg_type + \"' message: \", msg);\n",
       "                callback(fig, msg);\n",
       "            } catch (e) {\n",
       "                console.log(\"Exception inside the 'handler_\" + msg_type + \"' callback:\", e, e.stack, msg);\n",
       "            }\n",
       "        }\n",
       "    };\n",
       "}\n",
       "\n",
       "// from http://stackoverflow.com/questions/1114465/getting-mouse-location-in-canvas\n",
       "mpl.findpos = function(e) {\n",
       "    //this section is from http://www.quirksmode.org/js/events_properties.html\n",
       "    var targ;\n",
       "    if (!e)\n",
       "        e = window.event;\n",
       "    if (e.target)\n",
       "        targ = e.target;\n",
       "    else if (e.srcElement)\n",
       "        targ = e.srcElement;\n",
       "    if (targ.nodeType == 3) // defeat Safari bug\n",
       "        targ = targ.parentNode;\n",
       "\n",
       "    // jQuery normalizes the pageX and pageY\n",
       "    // pageX,Y are the mouse positions relative to the document\n",
       "    // offset() returns the position of the element relative to the document\n",
       "    var x = e.pageX - $(targ).offset().left;\n",
       "    var y = e.pageY - $(targ).offset().top;\n",
       "\n",
       "    return {\"x\": x, \"y\": y};\n",
       "};\n",
       "\n",
       "/*\n",
       " * return a copy of an object with only non-object keys\n",
       " * we need this to avoid circular references\n",
       " * http://stackoverflow.com/a/24161582/3208463\n",
       " */\n",
       "function simpleKeys (original) {\n",
       "  return Object.keys(original).reduce(function (obj, key) {\n",
       "    if (typeof original[key] !== 'object')\n",
       "        obj[key] = original[key]\n",
       "    return obj;\n",
       "  }, {});\n",
       "}\n",
       "\n",
       "mpl.figure.prototype.mouse_event = function(event, name) {\n",
       "    var canvas_pos = mpl.findpos(event)\n",
       "\n",
       "    if (name === 'button_press')\n",
       "    {\n",
       "        this.canvas.focus();\n",
       "        this.canvas_div.focus();\n",
       "    }\n",
       "\n",
       "    var x = canvas_pos.x * mpl.ratio;\n",
       "    var y = canvas_pos.y * mpl.ratio;\n",
       "\n",
       "    this.send_message(name, {x: x, y: y, button: event.button,\n",
       "                             step: event.step,\n",
       "                             guiEvent: simpleKeys(event)});\n",
       "\n",
       "    /* This prevents the web browser from automatically changing to\n",
       "     * the text insertion cursor when the button is pressed.  We want\n",
       "     * to control all of the cursor setting manually through the\n",
       "     * 'cursor' event from matplotlib */\n",
       "    event.preventDefault();\n",
       "    return false;\n",
       "}\n",
       "\n",
       "mpl.figure.prototype._key_event_extra = function(event, name) {\n",
       "    // Handle any extra behaviour associated with a key event\n",
       "}\n",
       "\n",
       "mpl.figure.prototype.key_event = function(event, name) {\n",
       "\n",
       "    // Prevent repeat events\n",
       "    if (name == 'key_press')\n",
       "    {\n",
       "        if (event.which === this._key)\n",
       "            return;\n",
       "        else\n",
       "            this._key = event.which;\n",
       "    }\n",
       "    if (name == 'key_release')\n",
       "        this._key = null;\n",
       "\n",
       "    var value = '';\n",
       "    if (event.ctrlKey && event.which != 17)\n",
       "        value += \"ctrl+\";\n",
       "    if (event.altKey && event.which != 18)\n",
       "        value += \"alt+\";\n",
       "    if (event.shiftKey && event.which != 16)\n",
       "        value += \"shift+\";\n",
       "\n",
       "    value += 'k';\n",
       "    value += event.which.toString();\n",
       "\n",
       "    this._key_event_extra(event, name);\n",
       "\n",
       "    this.send_message(name, {key: value,\n",
       "                             guiEvent: simpleKeys(event)});\n",
       "    return false;\n",
       "}\n",
       "\n",
       "mpl.figure.prototype.toolbar_button_onclick = function(name) {\n",
       "    if (name == 'download') {\n",
       "        this.handle_save(this, null);\n",
       "    } else {\n",
       "        this.send_message(\"toolbar_button\", {name: name});\n",
       "    }\n",
       "};\n",
       "\n",
       "mpl.figure.prototype.toolbar_button_onmouseover = function(tooltip) {\n",
       "    this.message.textContent = tooltip;\n",
       "};\n",
       "mpl.toolbar_items = [[\"Home\", \"Reset original view\", \"fa fa-home icon-home\", \"home\"], [\"Back\", \"Back to  previous view\", \"fa fa-arrow-left icon-arrow-left\", \"back\"], [\"Forward\", \"Forward to next view\", \"fa fa-arrow-right icon-arrow-right\", \"forward\"], [\"\", \"\", \"\", \"\"], [\"Pan\", \"Pan axes with left mouse, zoom with right\", \"fa fa-arrows icon-move\", \"pan\"], [\"Zoom\", \"Zoom to rectangle\", \"fa fa-square-o icon-check-empty\", \"zoom\"], [\"\", \"\", \"\", \"\"], [\"Download\", \"Download plot\", \"fa fa-floppy-o icon-save\", \"download\"]];\n",
       "\n",
       "mpl.extensions = [\"eps\", \"jpeg\", \"pdf\", \"png\", \"ps\", \"raw\", \"svg\", \"tif\"];\n",
       "\n",
       "mpl.default_extension = \"png\";var comm_websocket_adapter = function(comm) {\n",
       "    // Create a \"websocket\"-like object which calls the given IPython comm\n",
       "    // object with the appropriate methods. Currently this is a non binary\n",
       "    // socket, so there is still some room for performance tuning.\n",
       "    var ws = {};\n",
       "\n",
       "    ws.close = function() {\n",
       "        comm.close()\n",
       "    };\n",
       "    ws.send = function(m) {\n",
       "        //console.log('sending', m);\n",
       "        comm.send(m);\n",
       "    };\n",
       "    // Register the callback with on_msg.\n",
       "    comm.on_msg(function(msg) {\n",
       "        //console.log('receiving', msg['content']['data'], msg);\n",
       "        // Pass the mpl event to the overriden (by mpl) onmessage function.\n",
       "        ws.onmessage(msg['content']['data'])\n",
       "    });\n",
       "    return ws;\n",
       "}\n",
       "\n",
       "mpl.mpl_figure_comm = function(comm, msg) {\n",
       "    // This is the function which gets called when the mpl process\n",
       "    // starts-up an IPython Comm through the \"matplotlib\" channel.\n",
       "\n",
       "    var id = msg.content.data.id;\n",
       "    // Get hold of the div created by the display call when the Comm\n",
       "    // socket was opened in Python.\n",
       "    var element = $(\"#\" + id);\n",
       "    var ws_proxy = comm_websocket_adapter(comm)\n",
       "\n",
       "    function ondownload(figure, format) {\n",
       "        window.open(figure.imageObj.src);\n",
       "    }\n",
       "\n",
       "    var fig = new mpl.figure(id, ws_proxy,\n",
       "                           ondownload,\n",
       "                           element.get(0));\n",
       "\n",
       "    // Call onopen now - mpl needs it, as it is assuming we've passed it a real\n",
       "    // web socket which is closed, not our websocket->open comm proxy.\n",
       "    ws_proxy.onopen();\n",
       "\n",
       "    fig.parent_element = element.get(0);\n",
       "    fig.cell_info = mpl.find_output_cell(\"<div id='\" + id + \"'></div>\");\n",
       "    if (!fig.cell_info) {\n",
       "        console.error(\"Failed to find cell for figure\", id, fig);\n",
       "        return;\n",
       "    }\n",
       "\n",
       "    var output_index = fig.cell_info[2]\n",
       "    var cell = fig.cell_info[0];\n",
       "\n",
       "};\n",
       "\n",
       "mpl.figure.prototype.handle_close = function(fig, msg) {\n",
       "    var width = fig.canvas.width/mpl.ratio\n",
       "    fig.root.unbind('remove')\n",
       "\n",
       "    // Update the output cell to use the data from the current canvas.\n",
       "    fig.push_to_output();\n",
       "    var dataURL = fig.canvas.toDataURL();\n",
       "    // Re-enable the keyboard manager in IPython - without this line, in FF,\n",
       "    // the notebook keyboard shortcuts fail.\n",
       "    IPython.keyboard_manager.enable()\n",
       "    $(fig.parent_element).html('<img src=\"' + dataURL + '\" width=\"' + width + '\">');\n",
       "    fig.close_ws(fig, msg);\n",
       "}\n",
       "\n",
       "mpl.figure.prototype.close_ws = function(fig, msg){\n",
       "    fig.send_message('closing', msg);\n",
       "    // fig.ws.close()\n",
       "}\n",
       "\n",
       "mpl.figure.prototype.push_to_output = function(remove_interactive) {\n",
       "    // Turn the data on the canvas into data in the output cell.\n",
       "    var width = this.canvas.width/mpl.ratio\n",
       "    var dataURL = this.canvas.toDataURL();\n",
       "    this.cell_info[1]['text/html'] = '<img src=\"' + dataURL + '\" width=\"' + width + '\">';\n",
       "}\n",
       "\n",
       "mpl.figure.prototype.updated_canvas_event = function() {\n",
       "    // Tell IPython that the notebook contents must change.\n",
       "    IPython.notebook.set_dirty(true);\n",
       "    this.send_message(\"ack\", {});\n",
       "    var fig = this;\n",
       "    // Wait a second, then push the new image to the DOM so\n",
       "    // that it is saved nicely (might be nice to debounce this).\n",
       "    setTimeout(function () { fig.push_to_output() }, 1000);\n",
       "}\n",
       "\n",
       "mpl.figure.prototype._init_toolbar = function() {\n",
       "    var fig = this;\n",
       "\n",
       "    var nav_element = $('<div/>')\n",
       "    nav_element.attr('style', 'width: 100%');\n",
       "    this.root.append(nav_element);\n",
       "\n",
       "    // Define a callback function for later on.\n",
       "    function toolbar_event(event) {\n",
       "        return fig.toolbar_button_onclick(event['data']);\n",
       "    }\n",
       "    function toolbar_mouse_event(event) {\n",
       "        return fig.toolbar_button_onmouseover(event['data']);\n",
       "    }\n",
       "\n",
       "    for(var toolbar_ind in mpl.toolbar_items){\n",
       "        var name = mpl.toolbar_items[toolbar_ind][0];\n",
       "        var tooltip = mpl.toolbar_items[toolbar_ind][1];\n",
       "        var image = mpl.toolbar_items[toolbar_ind][2];\n",
       "        var method_name = mpl.toolbar_items[toolbar_ind][3];\n",
       "\n",
       "        if (!name) { continue; };\n",
       "\n",
       "        var button = $('<button class=\"btn btn-default\" href=\"#\" title=\"' + name + '\"><i class=\"fa ' + image + ' fa-lg\"></i></button>');\n",
       "        button.click(method_name, toolbar_event);\n",
       "        button.mouseover(tooltip, toolbar_mouse_event);\n",
       "        nav_element.append(button);\n",
       "    }\n",
       "\n",
       "    // Add the status bar.\n",
       "    var status_bar = $('<span class=\"mpl-message\" style=\"text-align:right; float: right;\"/>');\n",
       "    nav_element.append(status_bar);\n",
       "    this.message = status_bar[0];\n",
       "\n",
       "    // Add the close button to the window.\n",
       "    var buttongrp = $('<div class=\"btn-group inline pull-right\"></div>');\n",
       "    var button = $('<button class=\"btn btn-mini btn-primary\" href=\"#\" title=\"Stop Interaction\"><i class=\"fa fa-power-off icon-remove icon-large\"></i></button>');\n",
       "    button.click(function (evt) { fig.handle_close(fig, {}); } );\n",
       "    button.mouseover('Stop Interaction', toolbar_mouse_event);\n",
       "    buttongrp.append(button);\n",
       "    var titlebar = this.root.find($('.ui-dialog-titlebar'));\n",
       "    titlebar.prepend(buttongrp);\n",
       "}\n",
       "\n",
       "mpl.figure.prototype._root_extra_style = function(el){\n",
       "    var fig = this\n",
       "    el.on(\"remove\", function(){\n",
       "\tfig.close_ws(fig, {});\n",
       "    });\n",
       "}\n",
       "\n",
       "mpl.figure.prototype._canvas_extra_style = function(el){\n",
       "    // this is important to make the div 'focusable\n",
       "    el.attr('tabindex', 0)\n",
       "    // reach out to IPython and tell the keyboard manager to turn it's self\n",
       "    // off when our div gets focus\n",
       "\n",
       "    // location in version 3\n",
       "    if (IPython.notebook.keyboard_manager) {\n",
       "        IPython.notebook.keyboard_manager.register_events(el);\n",
       "    }\n",
       "    else {\n",
       "        // location in version 2\n",
       "        IPython.keyboard_manager.register_events(el);\n",
       "    }\n",
       "\n",
       "}\n",
       "\n",
       "mpl.figure.prototype._key_event_extra = function(event, name) {\n",
       "    var manager = IPython.notebook.keyboard_manager;\n",
       "    if (!manager)\n",
       "        manager = IPython.keyboard_manager;\n",
       "\n",
       "    // Check for shift+enter\n",
       "    if (event.shiftKey && event.which == 13) {\n",
       "        this.canvas_div.blur();\n",
       "        event.shiftKey = false;\n",
       "        // Send a \"J\" for go to next cell\n",
       "        event.which = 74;\n",
       "        event.keyCode = 74;\n",
       "        manager.command_mode();\n",
       "        manager.handle_keydown(event);\n",
       "    }\n",
       "}\n",
       "\n",
       "mpl.figure.prototype.handle_save = function(fig, msg) {\n",
       "    fig.ondownload(fig, null);\n",
       "}\n",
       "\n",
       "\n",
       "mpl.find_output_cell = function(html_output) {\n",
       "    // Return the cell and output element which can be found *uniquely* in the notebook.\n",
       "    // Note - this is a bit hacky, but it is done because the \"notebook_saving.Notebook\"\n",
       "    // IPython event is triggered only after the cells have been serialised, which for\n",
       "    // our purposes (turning an active figure into a static one), is too late.\n",
       "    var cells = IPython.notebook.get_cells();\n",
       "    var ncells = cells.length;\n",
       "    for (var i=0; i<ncells; i++) {\n",
       "        var cell = cells[i];\n",
       "        if (cell.cell_type === 'code'){\n",
       "            for (var j=0; j<cell.output_area.outputs.length; j++) {\n",
       "                var data = cell.output_area.outputs[j];\n",
       "                if (data.data) {\n",
       "                    // IPython >= 3 moved mimebundle to data attribute of output\n",
       "                    data = data.data;\n",
       "                }\n",
       "                if (data['text/html'] == html_output) {\n",
       "                    return [cell, data, j];\n",
       "                }\n",
       "            }\n",
       "        }\n",
       "    }\n",
       "}\n",
       "\n",
       "// Register the function which deals with the matplotlib target/channel.\n",
       "// The kernel may be null if the page has been refreshed.\n",
       "if (IPython.notebook.kernel != null) {\n",
       "    IPython.notebook.kernel.comm_manager.register_target('matplotlib', mpl.mpl_figure_comm);\n",
       "}\n"
      ],
      "text/plain": [
       "<IPython.core.display.Javascript object>"
      ]
     },
     "metadata": {},
     "output_type": "display_data"
    },
    {
     "data": {
      "text/html": [
       "<img src=\"data:image/png;base64,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\" width=\"638.888905813665\">"
      ],
      "text/plain": [
       "<IPython.core.display.HTML object>"
      ]
     },
     "metadata": {},
     "output_type": "display_data"
    }
   ],
   "source": [
    "fig = plt.figure()\n",
    "ax = fig.add_subplot(111, projection='3d')\n",
    "x = np.random.randn(30)\n",
    "y = np.random.randn(30)\n",
    "z = 10*np.random.randn(30)\n",
    "ax.scatter(x, y, z, marker = '.')\n",
    "plt.show()"
   ]
  },
  {
   "cell_type": "markdown",
   "metadata": {
    "slideshow": {
     "slide_type": "subslide"
    }
   },
   "source": [
    "** 3D Surface **"
   ]
  },
  {
   "cell_type": "code",
   "execution_count": 126,
   "metadata": {
    "collapsed": true,
    "slideshow": {
     "slide_type": "fragment"
    }
   },
   "outputs": [],
   "source": [
    "from matplotlib import cm"
   ]
  },
  {
   "cell_type": "code",
   "execution_count": 130,
   "metadata": {},
   "outputs": [
    {
     "data": {
      "text/plain": [
       "(100, 100)"
      ]
     },
     "execution_count": 130,
     "metadata": {},
     "output_type": "execute_result"
    }
   ],
   "source": [
    "x = np.arange(-5, 5, 0.1)\n",
    "y = np.arange(-5, 5, 0.1)\n",
    "np.meshgrid(x, y)[0].shape"
   ]
  },
  {
   "cell_type": "code",
   "execution_count": 100,
   "metadata": {
    "scrolled": false,
    "slideshow": {
     "slide_type": "subslide"
    }
   },
   "outputs": [
    {
     "data": {
      "application/javascript": [
       "/* Put everything inside the global mpl namespace */\n",
       "window.mpl = {};\n",
       "\n",
       "\n",
       "mpl.get_websocket_type = function() {\n",
       "    if (typeof(WebSocket) !== 'undefined') {\n",
       "        return WebSocket;\n",
       "    } else if (typeof(MozWebSocket) !== 'undefined') {\n",
       "        return MozWebSocket;\n",
       "    } else {\n",
       "        alert('Your browser does not have WebSocket support.' +\n",
       "              'Please try Chrome, Safari or Firefox ≥ 6. ' +\n",
       "              'Firefox 4 and 5 are also supported but you ' +\n",
       "              'have to enable WebSockets in about:config.');\n",
       "    };\n",
       "}\n",
       "\n",
       "mpl.figure = function(figure_id, websocket, ondownload, parent_element) {\n",
       "    this.id = figure_id;\n",
       "\n",
       "    this.ws = websocket;\n",
       "\n",
       "    this.supports_binary = (this.ws.binaryType != undefined);\n",
       "\n",
       "    if (!this.supports_binary) {\n",
       "        var warnings = document.getElementById(\"mpl-warnings\");\n",
       "        if (warnings) {\n",
       "            warnings.style.display = 'block';\n",
       "            warnings.textContent = (\n",
       "                \"This browser does not support binary websocket messages. \" +\n",
       "                    \"Performance may be slow.\");\n",
       "        }\n",
       "    }\n",
       "\n",
       "    this.imageObj = new Image();\n",
       "\n",
       "    this.context = undefined;\n",
       "    this.message = undefined;\n",
       "    this.canvas = undefined;\n",
       "    this.rubberband_canvas = undefined;\n",
       "    this.rubberband_context = undefined;\n",
       "    this.format_dropdown = undefined;\n",
       "\n",
       "    this.image_mode = 'full';\n",
       "\n",
       "    this.root = $('<div/>');\n",
       "    this._root_extra_style(this.root)\n",
       "    this.root.attr('style', 'display: inline-block');\n",
       "\n",
       "    $(parent_element).append(this.root);\n",
       "\n",
       "    this._init_header(this);\n",
       "    this._init_canvas(this);\n",
       "    this._init_toolbar(this);\n",
       "\n",
       "    var fig = this;\n",
       "\n",
       "    this.waiting = false;\n",
       "\n",
       "    this.ws.onopen =  function () {\n",
       "            fig.send_message(\"supports_binary\", {value: fig.supports_binary});\n",
       "            fig.send_message(\"send_image_mode\", {});\n",
       "            if (mpl.ratio != 1) {\n",
       "                fig.send_message(\"set_dpi_ratio\", {'dpi_ratio': mpl.ratio});\n",
       "            }\n",
       "            fig.send_message(\"refresh\", {});\n",
       "        }\n",
       "\n",
       "    this.imageObj.onload = function() {\n",
       "            if (fig.image_mode == 'full') {\n",
       "                // Full images could contain transparency (where diff images\n",
       "                // almost always do), so we need to clear the canvas so that\n",
       "                // there is no ghosting.\n",
       "                fig.context.clearRect(0, 0, fig.canvas.width, fig.canvas.height);\n",
       "            }\n",
       "            fig.context.drawImage(fig.imageObj, 0, 0);\n",
       "        };\n",
       "\n",
       "    this.imageObj.onunload = function() {\n",
       "        fig.ws.close();\n",
       "    }\n",
       "\n",
       "    this.ws.onmessage = this._make_on_message_function(this);\n",
       "\n",
       "    this.ondownload = ondownload;\n",
       "}\n",
       "\n",
       "mpl.figure.prototype._init_header = function() {\n",
       "    var titlebar = $(\n",
       "        '<div class=\"ui-dialog-titlebar ui-widget-header ui-corner-all ' +\n",
       "        'ui-helper-clearfix\"/>');\n",
       "    var titletext = $(\n",
       "        '<div class=\"ui-dialog-title\" style=\"width: 100%; ' +\n",
       "        'text-align: center; padding: 3px;\"/>');\n",
       "    titlebar.append(titletext)\n",
       "    this.root.append(titlebar);\n",
       "    this.header = titletext[0];\n",
       "}\n",
       "\n",
       "\n",
       "\n",
       "mpl.figure.prototype._canvas_extra_style = function(canvas_div) {\n",
       "\n",
       "}\n",
       "\n",
       "\n",
       "mpl.figure.prototype._root_extra_style = function(canvas_div) {\n",
       "\n",
       "}\n",
       "\n",
       "mpl.figure.prototype._init_canvas = function() {\n",
       "    var fig = this;\n",
       "\n",
       "    var canvas_div = $('<div/>');\n",
       "\n",
       "    canvas_div.attr('style', 'position: relative; clear: both; outline: 0');\n",
       "\n",
       "    function canvas_keyboard_event(event) {\n",
       "        return fig.key_event(event, event['data']);\n",
       "    }\n",
       "\n",
       "    canvas_div.keydown('key_press', canvas_keyboard_event);\n",
       "    canvas_div.keyup('key_release', canvas_keyboard_event);\n",
       "    this.canvas_div = canvas_div\n",
       "    this._canvas_extra_style(canvas_div)\n",
       "    this.root.append(canvas_div);\n",
       "\n",
       "    var canvas = $('<canvas/>');\n",
       "    canvas.addClass('mpl-canvas');\n",
       "    canvas.attr('style', \"left: 0; top: 0; z-index: 0; outline: 0\")\n",
       "\n",
       "    this.canvas = canvas[0];\n",
       "    this.context = canvas[0].getContext(\"2d\");\n",
       "\n",
       "    var backingStore = this.context.backingStorePixelRatio ||\n",
       "\tthis.context.webkitBackingStorePixelRatio ||\n",
       "\tthis.context.mozBackingStorePixelRatio ||\n",
       "\tthis.context.msBackingStorePixelRatio ||\n",
       "\tthis.context.oBackingStorePixelRatio ||\n",
       "\tthis.context.backingStorePixelRatio || 1;\n",
       "\n",
       "    mpl.ratio = (window.devicePixelRatio || 1) / backingStore;\n",
       "\n",
       "    var rubberband = $('<canvas/>');\n",
       "    rubberband.attr('style', \"position: absolute; left: 0; top: 0; z-index: 1;\")\n",
       "\n",
       "    var pass_mouse_events = true;\n",
       "\n",
       "    canvas_div.resizable({\n",
       "        start: function(event, ui) {\n",
       "            pass_mouse_events = false;\n",
       "        },\n",
       "        resize: function(event, ui) {\n",
       "            fig.request_resize(ui.size.width, ui.size.height);\n",
       "        },\n",
       "        stop: function(event, ui) {\n",
       "            pass_mouse_events = true;\n",
       "            fig.request_resize(ui.size.width, ui.size.height);\n",
       "        },\n",
       "    });\n",
       "\n",
       "    function mouse_event_fn(event) {\n",
       "        if (pass_mouse_events)\n",
       "            return fig.mouse_event(event, event['data']);\n",
       "    }\n",
       "\n",
       "    rubberband.mousedown('button_press', mouse_event_fn);\n",
       "    rubberband.mouseup('button_release', mouse_event_fn);\n",
       "    // Throttle sequential mouse events to 1 every 20ms.\n",
       "    rubberband.mousemove('motion_notify', mouse_event_fn);\n",
       "\n",
       "    rubberband.mouseenter('figure_enter', mouse_event_fn);\n",
       "    rubberband.mouseleave('figure_leave', mouse_event_fn);\n",
       "\n",
       "    canvas_div.on(\"wheel\", function (event) {\n",
       "        event = event.originalEvent;\n",
       "        event['data'] = 'scroll'\n",
       "        if (event.deltaY < 0) {\n",
       "            event.step = 1;\n",
       "        } else {\n",
       "            event.step = -1;\n",
       "        }\n",
       "        mouse_event_fn(event);\n",
       "    });\n",
       "\n",
       "    canvas_div.append(canvas);\n",
       "    canvas_div.append(rubberband);\n",
       "\n",
       "    this.rubberband = rubberband;\n",
       "    this.rubberband_canvas = rubberband[0];\n",
       "    this.rubberband_context = rubberband[0].getContext(\"2d\");\n",
       "    this.rubberband_context.strokeStyle = \"#000000\";\n",
       "\n",
       "    this._resize_canvas = function(width, height) {\n",
       "        // Keep the size of the canvas, canvas container, and rubber band\n",
       "        // canvas in synch.\n",
       "        canvas_div.css('width', width)\n",
       "        canvas_div.css('height', height)\n",
       "\n",
       "        canvas.attr('width', width * mpl.ratio);\n",
       "        canvas.attr('height', height * mpl.ratio);\n",
       "        canvas.attr('style', 'width: ' + width + 'px; height: ' + height + 'px;');\n",
       "\n",
       "        rubberband.attr('width', width);\n",
       "        rubberband.attr('height', height);\n",
       "    }\n",
       "\n",
       "    // Set the figure to an initial 600x600px, this will subsequently be updated\n",
       "    // upon first draw.\n",
       "    this._resize_canvas(600, 600);\n",
       "\n",
       "    // Disable right mouse context menu.\n",
       "    $(this.rubberband_canvas).bind(\"contextmenu\",function(e){\n",
       "        return false;\n",
       "    });\n",
       "\n",
       "    function set_focus () {\n",
       "        canvas.focus();\n",
       "        canvas_div.focus();\n",
       "    }\n",
       "\n",
       "    window.setTimeout(set_focus, 100);\n",
       "}\n",
       "\n",
       "mpl.figure.prototype._init_toolbar = function() {\n",
       "    var fig = this;\n",
       "\n",
       "    var nav_element = $('<div/>')\n",
       "    nav_element.attr('style', 'width: 100%');\n",
       "    this.root.append(nav_element);\n",
       "\n",
       "    // Define a callback function for later on.\n",
       "    function toolbar_event(event) {\n",
       "        return fig.toolbar_button_onclick(event['data']);\n",
       "    }\n",
       "    function toolbar_mouse_event(event) {\n",
       "        return fig.toolbar_button_onmouseover(event['data']);\n",
       "    }\n",
       "\n",
       "    for(var toolbar_ind in mpl.toolbar_items) {\n",
       "        var name = mpl.toolbar_items[toolbar_ind][0];\n",
       "        var tooltip = mpl.toolbar_items[toolbar_ind][1];\n",
       "        var image = mpl.toolbar_items[toolbar_ind][2];\n",
       "        var method_name = mpl.toolbar_items[toolbar_ind][3];\n",
       "\n",
       "        if (!name) {\n",
       "            // put a spacer in here.\n",
       "            continue;\n",
       "        }\n",
       "        var button = $('<button/>');\n",
       "        button.addClass('ui-button ui-widget ui-state-default ui-corner-all ' +\n",
       "                        'ui-button-icon-only');\n",
       "        button.attr('role', 'button');\n",
       "        button.attr('aria-disabled', 'false');\n",
       "        button.click(method_name, toolbar_event);\n",
       "        button.mouseover(tooltip, toolbar_mouse_event);\n",
       "\n",
       "        var icon_img = $('<span/>');\n",
       "        icon_img.addClass('ui-button-icon-primary ui-icon');\n",
       "        icon_img.addClass(image);\n",
       "        icon_img.addClass('ui-corner-all');\n",
       "\n",
       "        var tooltip_span = $('<span/>');\n",
       "        tooltip_span.addClass('ui-button-text');\n",
       "        tooltip_span.html(tooltip);\n",
       "\n",
       "        button.append(icon_img);\n",
       "        button.append(tooltip_span);\n",
       "\n",
       "        nav_element.append(button);\n",
       "    }\n",
       "\n",
       "    var fmt_picker_span = $('<span/>');\n",
       "\n",
       "    var fmt_picker = $('<select/>');\n",
       "    fmt_picker.addClass('mpl-toolbar-option ui-widget ui-widget-content');\n",
       "    fmt_picker_span.append(fmt_picker);\n",
       "    nav_element.append(fmt_picker_span);\n",
       "    this.format_dropdown = fmt_picker[0];\n",
       "\n",
       "    for (var ind in mpl.extensions) {\n",
       "        var fmt = mpl.extensions[ind];\n",
       "        var option = $(\n",
       "            '<option/>', {selected: fmt === mpl.default_extension}).html(fmt);\n",
       "        fmt_picker.append(option)\n",
       "    }\n",
       "\n",
       "    // Add hover states to the ui-buttons\n",
       "    $( \".ui-button\" ).hover(\n",
       "        function() { $(this).addClass(\"ui-state-hover\");},\n",
       "        function() { $(this).removeClass(\"ui-state-hover\");}\n",
       "    );\n",
       "\n",
       "    var status_bar = $('<span class=\"mpl-message\"/>');\n",
       "    nav_element.append(status_bar);\n",
       "    this.message = status_bar[0];\n",
       "}\n",
       "\n",
       "mpl.figure.prototype.request_resize = function(x_pixels, y_pixels) {\n",
       "    // Request matplotlib to resize the figure. Matplotlib will then trigger a resize in the client,\n",
       "    // which will in turn request a refresh of the image.\n",
       "    this.send_message('resize', {'width': x_pixels, 'height': y_pixels});\n",
       "}\n",
       "\n",
       "mpl.figure.prototype.send_message = function(type, properties) {\n",
       "    properties['type'] = type;\n",
       "    properties['figure_id'] = this.id;\n",
       "    this.ws.send(JSON.stringify(properties));\n",
       "}\n",
       "\n",
       "mpl.figure.prototype.send_draw_message = function() {\n",
       "    if (!this.waiting) {\n",
       "        this.waiting = true;\n",
       "        this.ws.send(JSON.stringify({type: \"draw\", figure_id: this.id}));\n",
       "    }\n",
       "}\n",
       "\n",
       "\n",
       "mpl.figure.prototype.handle_save = function(fig, msg) {\n",
       "    var format_dropdown = fig.format_dropdown;\n",
       "    var format = format_dropdown.options[format_dropdown.selectedIndex].value;\n",
       "    fig.ondownload(fig, format);\n",
       "}\n",
       "\n",
       "\n",
       "mpl.figure.prototype.handle_resize = function(fig, msg) {\n",
       "    var size = msg['size'];\n",
       "    if (size[0] != fig.canvas.width || size[1] != fig.canvas.height) {\n",
       "        fig._resize_canvas(size[0], size[1]);\n",
       "        fig.send_message(\"refresh\", {});\n",
       "    };\n",
       "}\n",
       "\n",
       "mpl.figure.prototype.handle_rubberband = function(fig, msg) {\n",
       "    var x0 = msg['x0'] / mpl.ratio;\n",
       "    var y0 = (fig.canvas.height - msg['y0']) / mpl.ratio;\n",
       "    var x1 = msg['x1'] / mpl.ratio;\n",
       "    var y1 = (fig.canvas.height - msg['y1']) / mpl.ratio;\n",
       "    x0 = Math.floor(x0) + 0.5;\n",
       "    y0 = Math.floor(y0) + 0.5;\n",
       "    x1 = Math.floor(x1) + 0.5;\n",
       "    y1 = Math.floor(y1) + 0.5;\n",
       "    var min_x = Math.min(x0, x1);\n",
       "    var min_y = Math.min(y0, y1);\n",
       "    var width = Math.abs(x1 - x0);\n",
       "    var height = Math.abs(y1 - y0);\n",
       "\n",
       "    fig.rubberband_context.clearRect(\n",
       "        0, 0, fig.canvas.width, fig.canvas.height);\n",
       "\n",
       "    fig.rubberband_context.strokeRect(min_x, min_y, width, height);\n",
       "}\n",
       "\n",
       "mpl.figure.prototype.handle_figure_label = function(fig, msg) {\n",
       "    // Updates the figure title.\n",
       "    fig.header.textContent = msg['label'];\n",
       "}\n",
       "\n",
       "mpl.figure.prototype.handle_cursor = function(fig, msg) {\n",
       "    var cursor = msg['cursor'];\n",
       "    switch(cursor)\n",
       "    {\n",
       "    case 0:\n",
       "        cursor = 'pointer';\n",
       "        break;\n",
       "    case 1:\n",
       "        cursor = 'default';\n",
       "        break;\n",
       "    case 2:\n",
       "        cursor = 'crosshair';\n",
       "        break;\n",
       "    case 3:\n",
       "        cursor = 'move';\n",
       "        break;\n",
       "    }\n",
       "    fig.rubberband_canvas.style.cursor = cursor;\n",
       "}\n",
       "\n",
       "mpl.figure.prototype.handle_message = function(fig, msg) {\n",
       "    fig.message.textContent = msg['message'];\n",
       "}\n",
       "\n",
       "mpl.figure.prototype.handle_draw = function(fig, msg) {\n",
       "    // Request the server to send over a new figure.\n",
       "    fig.send_draw_message();\n",
       "}\n",
       "\n",
       "mpl.figure.prototype.handle_image_mode = function(fig, msg) {\n",
       "    fig.image_mode = msg['mode'];\n",
       "}\n",
       "\n",
       "mpl.figure.prototype.updated_canvas_event = function() {\n",
       "    // Called whenever the canvas gets updated.\n",
       "    this.send_message(\"ack\", {});\n",
       "}\n",
       "\n",
       "// A function to construct a web socket function for onmessage handling.\n",
       "// Called in the figure constructor.\n",
       "mpl.figure.prototype._make_on_message_function = function(fig) {\n",
       "    return function socket_on_message(evt) {\n",
       "        if (evt.data instanceof Blob) {\n",
       "            /* FIXME: We get \"Resource interpreted as Image but\n",
       "             * transferred with MIME type text/plain:\" errors on\n",
       "             * Chrome.  But how to set the MIME type?  It doesn't seem\n",
       "             * to be part of the websocket stream */\n",
       "            evt.data.type = \"image/png\";\n",
       "\n",
       "            /* Free the memory for the previous frames */\n",
       "            if (fig.imageObj.src) {\n",
       "                (window.URL || window.webkitURL).revokeObjectURL(\n",
       "                    fig.imageObj.src);\n",
       "            }\n",
       "\n",
       "            fig.imageObj.src = (window.URL || window.webkitURL).createObjectURL(\n",
       "                evt.data);\n",
       "            fig.updated_canvas_event();\n",
       "            fig.waiting = false;\n",
       "            return;\n",
       "        }\n",
       "        else if (typeof evt.data === 'string' && evt.data.slice(0, 21) == \"data:image/png;base64\") {\n",
       "            fig.imageObj.src = evt.data;\n",
       "            fig.updated_canvas_event();\n",
       "            fig.waiting = false;\n",
       "            return;\n",
       "        }\n",
       "\n",
       "        var msg = JSON.parse(evt.data);\n",
       "        var msg_type = msg['type'];\n",
       "\n",
       "        // Call the  \"handle_{type}\" callback, which takes\n",
       "        // the figure and JSON message as its only arguments.\n",
       "        try {\n",
       "            var callback = fig[\"handle_\" + msg_type];\n",
       "        } catch (e) {\n",
       "            console.log(\"No handler for the '\" + msg_type + \"' message type: \", msg);\n",
       "            return;\n",
       "        }\n",
       "\n",
       "        if (callback) {\n",
       "            try {\n",
       "                // console.log(\"Handling '\" + msg_type + \"' message: \", msg);\n",
       "                callback(fig, msg);\n",
       "            } catch (e) {\n",
       "                console.log(\"Exception inside the 'handler_\" + msg_type + \"' callback:\", e, e.stack, msg);\n",
       "            }\n",
       "        }\n",
       "    };\n",
       "}\n",
       "\n",
       "// from http://stackoverflow.com/questions/1114465/getting-mouse-location-in-canvas\n",
       "mpl.findpos = function(e) {\n",
       "    //this section is from http://www.quirksmode.org/js/events_properties.html\n",
       "    var targ;\n",
       "    if (!e)\n",
       "        e = window.event;\n",
       "    if (e.target)\n",
       "        targ = e.target;\n",
       "    else if (e.srcElement)\n",
       "        targ = e.srcElement;\n",
       "    if (targ.nodeType == 3) // defeat Safari bug\n",
       "        targ = targ.parentNode;\n",
       "\n",
       "    // jQuery normalizes the pageX and pageY\n",
       "    // pageX,Y are the mouse positions relative to the document\n",
       "    // offset() returns the position of the element relative to the document\n",
       "    var x = e.pageX - $(targ).offset().left;\n",
       "    var y = e.pageY - $(targ).offset().top;\n",
       "\n",
       "    return {\"x\": x, \"y\": y};\n",
       "};\n",
       "\n",
       "/*\n",
       " * return a copy of an object with only non-object keys\n",
       " * we need this to avoid circular references\n",
       " * http://stackoverflow.com/a/24161582/3208463\n",
       " */\n",
       "function simpleKeys (original) {\n",
       "  return Object.keys(original).reduce(function (obj, key) {\n",
       "    if (typeof original[key] !== 'object')\n",
       "        obj[key] = original[key]\n",
       "    return obj;\n",
       "  }, {});\n",
       "}\n",
       "\n",
       "mpl.figure.prototype.mouse_event = function(event, name) {\n",
       "    var canvas_pos = mpl.findpos(event)\n",
       "\n",
       "    if (name === 'button_press')\n",
       "    {\n",
       "        this.canvas.focus();\n",
       "        this.canvas_div.focus();\n",
       "    }\n",
       "\n",
       "    var x = canvas_pos.x * mpl.ratio;\n",
       "    var y = canvas_pos.y * mpl.ratio;\n",
       "\n",
       "    this.send_message(name, {x: x, y: y, button: event.button,\n",
       "                             step: event.step,\n",
       "                             guiEvent: simpleKeys(event)});\n",
       "\n",
       "    /* This prevents the web browser from automatically changing to\n",
       "     * the text insertion cursor when the button is pressed.  We want\n",
       "     * to control all of the cursor setting manually through the\n",
       "     * 'cursor' event from matplotlib */\n",
       "    event.preventDefault();\n",
       "    return false;\n",
       "}\n",
       "\n",
       "mpl.figure.prototype._key_event_extra = function(event, name) {\n",
       "    // Handle any extra behaviour associated with a key event\n",
       "}\n",
       "\n",
       "mpl.figure.prototype.key_event = function(event, name) {\n",
       "\n",
       "    // Prevent repeat events\n",
       "    if (name == 'key_press')\n",
       "    {\n",
       "        if (event.which === this._key)\n",
       "            return;\n",
       "        else\n",
       "            this._key = event.which;\n",
       "    }\n",
       "    if (name == 'key_release')\n",
       "        this._key = null;\n",
       "\n",
       "    var value = '';\n",
       "    if (event.ctrlKey && event.which != 17)\n",
       "        value += \"ctrl+\";\n",
       "    if (event.altKey && event.which != 18)\n",
       "        value += \"alt+\";\n",
       "    if (event.shiftKey && event.which != 16)\n",
       "        value += \"shift+\";\n",
       "\n",
       "    value += 'k';\n",
       "    value += event.which.toString();\n",
       "\n",
       "    this._key_event_extra(event, name);\n",
       "\n",
       "    this.send_message(name, {key: value,\n",
       "                             guiEvent: simpleKeys(event)});\n",
       "    return false;\n",
       "}\n",
       "\n",
       "mpl.figure.prototype.toolbar_button_onclick = function(name) {\n",
       "    if (name == 'download') {\n",
       "        this.handle_save(this, null);\n",
       "    } else {\n",
       "        this.send_message(\"toolbar_button\", {name: name});\n",
       "    }\n",
       "};\n",
       "\n",
       "mpl.figure.prototype.toolbar_button_onmouseover = function(tooltip) {\n",
       "    this.message.textContent = tooltip;\n",
       "};\n",
       "mpl.toolbar_items = [[\"Home\", \"Reset original view\", \"fa fa-home icon-home\", \"home\"], [\"Back\", \"Back to  previous view\", \"fa fa-arrow-left icon-arrow-left\", \"back\"], [\"Forward\", \"Forward to next view\", \"fa fa-arrow-right icon-arrow-right\", \"forward\"], [\"\", \"\", \"\", \"\"], [\"Pan\", \"Pan axes with left mouse, zoom with right\", \"fa fa-arrows icon-move\", \"pan\"], [\"Zoom\", \"Zoom to rectangle\", \"fa fa-square-o icon-check-empty\", \"zoom\"], [\"\", \"\", \"\", \"\"], [\"Download\", \"Download plot\", \"fa fa-floppy-o icon-save\", \"download\"]];\n",
       "\n",
       "mpl.extensions = [\"eps\", \"jpeg\", \"pdf\", \"png\", \"ps\", \"raw\", \"svg\", \"tif\"];\n",
       "\n",
       "mpl.default_extension = \"png\";var comm_websocket_adapter = function(comm) {\n",
       "    // Create a \"websocket\"-like object which calls the given IPython comm\n",
       "    // object with the appropriate methods. Currently this is a non binary\n",
       "    // socket, so there is still some room for performance tuning.\n",
       "    var ws = {};\n",
       "\n",
       "    ws.close = function() {\n",
       "        comm.close()\n",
       "    };\n",
       "    ws.send = function(m) {\n",
       "        //console.log('sending', m);\n",
       "        comm.send(m);\n",
       "    };\n",
       "    // Register the callback with on_msg.\n",
       "    comm.on_msg(function(msg) {\n",
       "        //console.log('receiving', msg['content']['data'], msg);\n",
       "        // Pass the mpl event to the overriden (by mpl) onmessage function.\n",
       "        ws.onmessage(msg['content']['data'])\n",
       "    });\n",
       "    return ws;\n",
       "}\n",
       "\n",
       "mpl.mpl_figure_comm = function(comm, msg) {\n",
       "    // This is the function which gets called when the mpl process\n",
       "    // starts-up an IPython Comm through the \"matplotlib\" channel.\n",
       "\n",
       "    var id = msg.content.data.id;\n",
       "    // Get hold of the div created by the display call when the Comm\n",
       "    // socket was opened in Python.\n",
       "    var element = $(\"#\" + id);\n",
       "    var ws_proxy = comm_websocket_adapter(comm)\n",
       "\n",
       "    function ondownload(figure, format) {\n",
       "        window.open(figure.imageObj.src);\n",
       "    }\n",
       "\n",
       "    var fig = new mpl.figure(id, ws_proxy,\n",
       "                           ondownload,\n",
       "                           element.get(0));\n",
       "\n",
       "    // Call onopen now - mpl needs it, as it is assuming we've passed it a real\n",
       "    // web socket which is closed, not our websocket->open comm proxy.\n",
       "    ws_proxy.onopen();\n",
       "\n",
       "    fig.parent_element = element.get(0);\n",
       "    fig.cell_info = mpl.find_output_cell(\"<div id='\" + id + \"'></div>\");\n",
       "    if (!fig.cell_info) {\n",
       "        console.error(\"Failed to find cell for figure\", id, fig);\n",
       "        return;\n",
       "    }\n",
       "\n",
       "    var output_index = fig.cell_info[2]\n",
       "    var cell = fig.cell_info[0];\n",
       "\n",
       "};\n",
       "\n",
       "mpl.figure.prototype.handle_close = function(fig, msg) {\n",
       "    var width = fig.canvas.width/mpl.ratio\n",
       "    fig.root.unbind('remove')\n",
       "\n",
       "    // Update the output cell to use the data from the current canvas.\n",
       "    fig.push_to_output();\n",
       "    var dataURL = fig.canvas.toDataURL();\n",
       "    // Re-enable the keyboard manager in IPython - without this line, in FF,\n",
       "    // the notebook keyboard shortcuts fail.\n",
       "    IPython.keyboard_manager.enable()\n",
       "    $(fig.parent_element).html('<img src=\"' + dataURL + '\" width=\"' + width + '\">');\n",
       "    fig.close_ws(fig, msg);\n",
       "}\n",
       "\n",
       "mpl.figure.prototype.close_ws = function(fig, msg){\n",
       "    fig.send_message('closing', msg);\n",
       "    // fig.ws.close()\n",
       "}\n",
       "\n",
       "mpl.figure.prototype.push_to_output = function(remove_interactive) {\n",
       "    // Turn the data on the canvas into data in the output cell.\n",
       "    var width = this.canvas.width/mpl.ratio\n",
       "    var dataURL = this.canvas.toDataURL();\n",
       "    this.cell_info[1]['text/html'] = '<img src=\"' + dataURL + '\" width=\"' + width + '\">';\n",
       "}\n",
       "\n",
       "mpl.figure.prototype.updated_canvas_event = function() {\n",
       "    // Tell IPython that the notebook contents must change.\n",
       "    IPython.notebook.set_dirty(true);\n",
       "    this.send_message(\"ack\", {});\n",
       "    var fig = this;\n",
       "    // Wait a second, then push the new image to the DOM so\n",
       "    // that it is saved nicely (might be nice to debounce this).\n",
       "    setTimeout(function () { fig.push_to_output() }, 1000);\n",
       "}\n",
       "\n",
       "mpl.figure.prototype._init_toolbar = function() {\n",
       "    var fig = this;\n",
       "\n",
       "    var nav_element = $('<div/>')\n",
       "    nav_element.attr('style', 'width: 100%');\n",
       "    this.root.append(nav_element);\n",
       "\n",
       "    // Define a callback function for later on.\n",
       "    function toolbar_event(event) {\n",
       "        return fig.toolbar_button_onclick(event['data']);\n",
       "    }\n",
       "    function toolbar_mouse_event(event) {\n",
       "        return fig.toolbar_button_onmouseover(event['data']);\n",
       "    }\n",
       "\n",
       "    for(var toolbar_ind in mpl.toolbar_items){\n",
       "        var name = mpl.toolbar_items[toolbar_ind][0];\n",
       "        var tooltip = mpl.toolbar_items[toolbar_ind][1];\n",
       "        var image = mpl.toolbar_items[toolbar_ind][2];\n",
       "        var method_name = mpl.toolbar_items[toolbar_ind][3];\n",
       "\n",
       "        if (!name) { continue; };\n",
       "\n",
       "        var button = $('<button class=\"btn btn-default\" href=\"#\" title=\"' + name + '\"><i class=\"fa ' + image + ' fa-lg\"></i></button>');\n",
       "        button.click(method_name, toolbar_event);\n",
       "        button.mouseover(tooltip, toolbar_mouse_event);\n",
       "        nav_element.append(button);\n",
       "    }\n",
       "\n",
       "    // Add the status bar.\n",
       "    var status_bar = $('<span class=\"mpl-message\" style=\"text-align:right; float: right;\"/>');\n",
       "    nav_element.append(status_bar);\n",
       "    this.message = status_bar[0];\n",
       "\n",
       "    // Add the close button to the window.\n",
       "    var buttongrp = $('<div class=\"btn-group inline pull-right\"></div>');\n",
       "    var button = $('<button class=\"btn btn-mini btn-primary\" href=\"#\" title=\"Stop Interaction\"><i class=\"fa fa-power-off icon-remove icon-large\"></i></button>');\n",
       "    button.click(function (evt) { fig.handle_close(fig, {}); } );\n",
       "    button.mouseover('Stop Interaction', toolbar_mouse_event);\n",
       "    buttongrp.append(button);\n",
       "    var titlebar = this.root.find($('.ui-dialog-titlebar'));\n",
       "    titlebar.prepend(buttongrp);\n",
       "}\n",
       "\n",
       "mpl.figure.prototype._root_extra_style = function(el){\n",
       "    var fig = this\n",
       "    el.on(\"remove\", function(){\n",
       "\tfig.close_ws(fig, {});\n",
       "    });\n",
       "}\n",
       "\n",
       "mpl.figure.prototype._canvas_extra_style = function(el){\n",
       "    // this is important to make the div 'focusable\n",
       "    el.attr('tabindex', 0)\n",
       "    // reach out to IPython and tell the keyboard manager to turn it's self\n",
       "    // off when our div gets focus\n",
       "\n",
       "    // location in version 3\n",
       "    if (IPython.notebook.keyboard_manager) {\n",
       "        IPython.notebook.keyboard_manager.register_events(el);\n",
       "    }\n",
       "    else {\n",
       "        // location in version 2\n",
       "        IPython.keyboard_manager.register_events(el);\n",
       "    }\n",
       "\n",
       "}\n",
       "\n",
       "mpl.figure.prototype._key_event_extra = function(event, name) {\n",
       "    var manager = IPython.notebook.keyboard_manager;\n",
       "    if (!manager)\n",
       "        manager = IPython.keyboard_manager;\n",
       "\n",
       "    // Check for shift+enter\n",
       "    if (event.shiftKey && event.which == 13) {\n",
       "        this.canvas_div.blur();\n",
       "        event.shiftKey = false;\n",
       "        // Send a \"J\" for go to next cell\n",
       "        event.which = 74;\n",
       "        event.keyCode = 74;\n",
       "        manager.command_mode();\n",
       "        manager.handle_keydown(event);\n",
       "    }\n",
       "}\n",
       "\n",
       "mpl.figure.prototype.handle_save = function(fig, msg) {\n",
       "    fig.ondownload(fig, null);\n",
       "}\n",
       "\n",
       "\n",
       "mpl.find_output_cell = function(html_output) {\n",
       "    // Return the cell and output element which can be found *uniquely* in the notebook.\n",
       "    // Note - this is a bit hacky, but it is done because the \"notebook_saving.Notebook\"\n",
       "    // IPython event is triggered only after the cells have been serialised, which for\n",
       "    // our purposes (turning an active figure into a static one), is too late.\n",
       "    var cells = IPython.notebook.get_cells();\n",
       "    var ncells = cells.length;\n",
       "    for (var i=0; i<ncells; i++) {\n",
       "        var cell = cells[i];\n",
       "        if (cell.cell_type === 'code'){\n",
       "            for (var j=0; j<cell.output_area.outputs.length; j++) {\n",
       "                var data = cell.output_area.outputs[j];\n",
       "                if (data.data) {\n",
       "                    // IPython >= 3 moved mimebundle to data attribute of output\n",
       "                    data = data.data;\n",
       "                }\n",
       "                if (data['text/html'] == html_output) {\n",
       "                    return [cell, data, j];\n",
       "                }\n",
       "            }\n",
       "        }\n",
       "    }\n",
       "}\n",
       "\n",
       "// Register the function which deals with the matplotlib target/channel.\n",
       "// The kernel may be null if the page has been refreshed.\n",
       "if (IPython.notebook.kernel != null) {\n",
       "    IPython.notebook.kernel.comm_manager.register_target('matplotlib', mpl.mpl_figure_comm);\n",
       "}\n"
      ],
      "text/plain": [
       "<IPython.core.display.Javascript object>"
      ]
     },
     "metadata": {},
     "output_type": "display_data"
    },
    {
     "data": {
      "text/html": [
       "<img src=\"data:image/png;base64,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\" width=\"639.9999861283738\">"
      ],
      "text/plain": [
       "<IPython.core.display.HTML object>"
      ]
     },
     "metadata": {},
     "output_type": "display_data"
    }
   ],
   "source": [
    "fig = plt.figure()\n",
    "ax = fig.gca(projection='3d')\n",
    "x = np.arange(-5, 5, 0.1)\n",
    "y = np.arange(-5, 5, 0.1)\n",
    "x, y = np.meshgrid(x, y)\n",
    "r = np.sqrt(x**2 + y**2)\n",
    "z = np.sin(r)/r\n",
    "surf = ax.plot_surface(x, y, z, linewidth=0, cmap=cm.coolwarm)\n",
    "fig.colorbar(surf, shrink=0.5, aspect=5)\n",
    "plt.show()"
   ]
  },
  {
   "cell_type": "markdown",
   "metadata": {
    "slideshow": {
     "slide_type": "subslide"
    }
   },
   "source": [
    "<center>\n",
    "<img src=\"https://ask.qcloudimg.com/http-save/yehe-admin/i3wz4bx7eu.png\" alt=\"Drawing\" style=\"width: 500px;\"/>\n",
    "</center>"
   ]
  },
  {
   "cell_type": "markdown",
   "metadata": {
    "slideshow": {
     "slide_type": "slide"
    }
   },
   "source": [
    "## Useful Resources\n",
    "\n",
    "* [Python Packages Binaries for Windows](https://www.lfd.uci.edu/~gohlke/pythonlibs/)\n",
    "* [Data-science-notebooks](https://github.com/donnemartin/data-science-ipython-notebooks#deep-learning)"
   ]
  },
  {
   "cell_type": "markdown",
   "metadata": {
    "slideshow": {
     "slide_type": "slide"
    }
   },
   "source": [
    "# END"
   ]
  }
 ],
 "metadata": {
  "kernelspec": {
   "display_name": "Python 3",
   "language": "python",
   "name": "python3"
  },
  "language_info": {
   "codemirror_mode": {
    "name": "ipython",
    "version": 3
   },
   "file_extension": ".py",
   "mimetype": "text/x-python",
   "name": "python",
   "nbconvert_exporter": "python",
   "pygments_lexer": "ipython3",
   "version": "3.5.2"
  }
 },
 "nbformat": 4,
 "nbformat_minor": 2
}
