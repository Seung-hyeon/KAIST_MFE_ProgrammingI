{
 "cells": [
  {
   "cell_type": "markdown",
   "metadata": {},
   "source": [
    "<center>\n",
    "# Numpy exercise\n",
    "</center>\n",
    "**Due** : ~ 2018-03-06 23:59:59"
   ]
  },
  {
   "cell_type": "code",
   "execution_count": null,
   "metadata": {
    "collapsed": true
   },
   "outputs": [],
   "source": [
    "import numpy as np"
   ]
  },
  {
   "cell_type": "markdown",
   "metadata": {},
   "source": [
    "> **Warning**\n",
    "\n",
    "> * <font color='red'> Do not use other packages except for `numpy` </font>\n",
    "\n",
    "> * <font color='red'> Do not modify other code except for `YOUR CODE HERE` </font>"
   ]
  },
  {
   "cell_type": "markdown",
   "metadata": {},
   "source": [
    "## Problem 1\n",
    "\n",
    "가로 1m, 세로 1m의 정사각형에 임의의 점 10개를 찍고, 찍힌 점을 순서대로 이어서 처음의 점으로 돌아오는 직선의 길이의 합을 구하시오. 동일한 시행을 총 100,000회 반복하고 평균값과 표준편차를 계산하시오. 100,000회의 시행으로 계산된 거리를 히스토그램 (bin의 개수는 100개)으로 도시하시오. (numpy.random 이용하기)\n",
    "\n",
    "<center>\n",
    "<img src=\"https://preview.ibb.co/dEQNhc/3.png\" alt=\"Drawing\" style=\"width: 400px;\"/>\n",
    "</center>\n"
   ]
  },
  {
   "cell_type": "code",
   "execution_count": null,
   "metadata": {
    "collapsed": true
   },
   "outputs": [],
   "source": [
    "def length_on_square(n=10000):\n",
    "    \n",
    "    #################################\n",
    "    #         YOUR CODE HERE        #\n",
    "    # length_array : 1d numpy array #\n",
    "    #################################\n",
    "    \n",
    "    return length_array"
   ]
  },
  {
   "cell_type": "code",
   "execution_count": null,
   "metadata": {
    "collapsed": true
   },
   "outputs": [],
   "source": [
    "length_array = length_on_square()\n",
    "print('AVG : ' + str(length_array.mean()))\n",
    "print('STD : ' + str(length_array.std()))"
   ]
  },
  {
   "cell_type": "code",
   "execution_count": null,
   "metadata": {
    "collapsed": true
   },
   "outputs": [],
   "source": [
    "import matplotlib.pyplot as plt\n",
    "\n",
    "plt.hist(length_array, bins=100)\n",
    "plt.show()"
   ]
  },
  {
   "cell_type": "markdown",
   "metadata": {},
   "source": [
    "## Problem 2\n",
    "\n",
    "주가 일간 수익률 데이터 (csv 파일)를 읽어서 (list로 만들고, ndarray로 변환) 수익률의 평균, 표준편차, 분산-공분산행렬, 상관계수행렬 계산\n",
    "투자비중이 w인 포트폴리오의 기대수익률과 수익률의 표준편차를 numpy 행렬연산으로 계산\n"
   ]
  },
  {
   "cell_type": "code",
   "execution_count": null,
   "metadata": {
    "collapsed": true
   },
   "outputs": [],
   "source": [
    "from pandas import read_csv\n",
    "\n",
    "ndarray = read_csv('Lecture 3-1 numpy exercise.csv').values"
   ]
  },
  {
   "cell_type": "code",
   "execution_count": null,
   "metadata": {
    "collapsed": true,
    "scrolled": true
   },
   "outputs": [],
   "source": [
    "def calc_mean(ndarray):\n",
    "        \n",
    "    #########################\n",
    "    #     YOUR CODE HERE    #\n",
    "    # mean : 1d numpy array #\n",
    "    #########################\n",
    "    \n",
    "    return mean"
   ]
  },
  {
   "cell_type": "code",
   "execution_count": null,
   "metadata": {
    "collapsed": true
   },
   "outputs": [],
   "source": [
    "def calc_std(ndarray):\n",
    "    \n",
    "    #########################\n",
    "    #     YOUR CODE HERE    #\n",
    "    # std : 1d numpy array  #\n",
    "    #########################\n",
    "    \n",
    "    return std"
   ]
  },
  {
   "cell_type": "code",
   "execution_count": null,
   "metadata": {
    "collapsed": true
   },
   "outputs": [],
   "source": [
    "def calc_cov(ndarray):\n",
    "    \n",
    "    ########################\n",
    "    #    YOUR CODE HERE    #\n",
    "    # cov : 2d numpy array #\n",
    "    ########################\n",
    "    \n",
    "    return cov"
   ]
  },
  {
   "cell_type": "code",
   "execution_count": null,
   "metadata": {
    "collapsed": true
   },
   "outputs": [],
   "source": [
    "print('MEAN : '+ str(calc_mean(ndarray)))\n",
    "print('STD  : '+ str(calc_std(ndarray)))"
   ]
  },
  {
   "cell_type": "code",
   "execution_count": null,
   "metadata": {
    "collapsed": true
   },
   "outputs": [],
   "source": [
    "print(calc_cov(ndarray))"
   ]
  },
  {
   "cell_type": "code",
   "execution_count": null,
   "metadata": {
    "collapsed": true
   },
   "outputs": [],
   "source": [
    "w = np.array([0.3, 0.2, 0.1, 0.1, 0.1, 0.2, 0])"
   ]
  },
  {
   "cell_type": "code",
   "execution_count": null,
   "metadata": {
    "collapsed": true
   },
   "outputs": [],
   "source": [
    "def port_mean(ndarray, w):\n",
    "    \n",
    "    ####################\n",
    "    #  YOUR CODE HERE  #\n",
    "    # mean : float     #\n",
    "    ####################\n",
    "    \n",
    "    return mean\n",
    "\n",
    "def port_std(ndarray, w):\n",
    "    \n",
    "    ####################\n",
    "    #  YOUR CODE HERE  #\n",
    "    # std : float      #\n",
    "    ####################\n",
    "    \n",
    "    return std"
   ]
  },
  {
   "cell_type": "code",
   "execution_count": null,
   "metadata": {
    "collapsed": true
   },
   "outputs": [],
   "source": [
    "print('MEAN : ' + str(port_mean(ndarray, w)))\n",
    "print('STD  : ' + str(port_std(ndarray, w)))"
   ]
  }
 ],
 "metadata": {
  "kernelspec": {
   "display_name": "Python 3",
   "language": "python",
   "name": "python3"
  },
  "language_info": {
   "codemirror_mode": {
    "name": "ipython",
    "version": 3
   },
   "file_extension": ".py",
   "mimetype": "text/x-python",
   "name": "python",
   "nbconvert_exporter": "python",
   "pygments_lexer": "ipython3",
   "version": "3.5.2"
  }
 },
 "nbformat": 4,
 "nbformat_minor": 2
}
