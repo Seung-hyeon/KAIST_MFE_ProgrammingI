{
 "cells": [
  {
   "cell_type": "markdown",
   "metadata": {
    "slideshow": {
     "slide_type": "slide"
    }
   },
   "source": [
    "# 2. Data Structure\n",
    "<center>\n",
    "<div style=\"width:100%\">![Chilling](http://www.myassignmenthelp.net/images/classification-data-structure.jpg)</div>"
   ]
  },
  {
   "cell_type": "markdown",
   "metadata": {
    "slideshow": {
     "slide_type": "slide"
    }
   },
   "source": [
    "## (1) Primitive Data Structure"
   ]
  },
  {
   "cell_type": "code",
   "execution_count": 1,
   "metadata": {
    "collapsed": false,
    "slideshow": {
     "slide_type": "fragment"
    }
   },
   "outputs": [
    {
     "data": {
      "text/plain": [
       "int"
      ]
     },
     "execution_count": 1,
     "metadata": {},
     "output_type": "execute_result"
    }
   ],
   "source": [
    "type(15354 + 2431242312)"
   ]
  },
  {
   "cell_type": "code",
   "execution_count": 3,
   "metadata": {
    "collapsed": false,
    "slideshow": {
     "slide_type": "fragment"
    }
   },
   "outputs": [
    {
     "data": {
      "text/plain": [
       "float"
      ]
     },
     "execution_count": 3,
     "metadata": {},
     "output_type": "execute_result"
    }
   ],
   "source": [
    "type(312.2 + 1.24)"
   ]
  },
  {
   "cell_type": "code",
   "execution_count": 4,
   "metadata": {
    "collapsed": false,
    "slideshow": {
     "slide_type": "fragment"
    }
   },
   "outputs": [
    {
     "data": {
      "text/plain": [
       "str"
      ]
     },
     "execution_count": 4,
     "metadata": {},
     "output_type": "execute_result"
    }
   ],
   "source": [
    "type('내가 그린 기린 그림은')"
   ]
  },
  {
   "cell_type": "code",
   "execution_count": 2,
   "metadata": {
    "collapsed": false,
    "slideshow": {
     "slide_type": "fragment"
    }
   },
   "outputs": [
    {
     "data": {
      "text/plain": [
       "'0x4b5fe48'"
      ]
     },
     "execution_count": 2,
     "metadata": {},
     "output_type": "execute_result"
    }
   ],
   "source": [
    "data = '런닝 머신'\n",
    "hex(id(data))"
   ]
  },
  {
   "cell_type": "markdown",
   "metadata": {
    "slideshow": {
     "slide_type": "slide"
    }
   },
   "source": [
    "## (2) Array\n",
    "\n",
    "<center>\n",
    "<div style=\"width:100%\">![Chilling](http://www.mathcs.emory.edu/~cheung/Courses/171/Syllabus/1-intro/FIGS/170/array02a.gif)</div>"
   ]
  },
  {
   "cell_type": "code",
   "execution_count": 13,
   "metadata": {
    "collapsed": true,
    "slideshow": {
     "slide_type": "subslide"
    }
   },
   "outputs": [],
   "source": [
    "array = [23, 4, 6, 15, 5, 7]"
   ]
  },
  {
   "cell_type": "code",
   "execution_count": 20,
   "metadata": {
    "collapsed": false,
    "slideshow": {
     "slide_type": "fragment"
    }
   },
   "outputs": [
    {
     "data": {
      "text/plain": [
       "7"
      ]
     },
     "execution_count": 20,
     "metadata": {},
     "output_type": "execute_result"
    }
   ],
   "source": [
    "array[5]"
   ]
  },
  {
   "cell_type": "markdown",
   "metadata": {
    "slideshow": {
     "slide_type": "slide"
    }
   },
   "source": [
    "## (3) Stack\n",
    "<center>\n",
    "<div style=\"width:50%\">![Chilling](https://www.tutorialspoint.com/data_structures_algorithms/images/stack_representation.jpg)</div>\n",
    "</center>"
   ]
  },
  {
   "cell_type": "code",
   "execution_count": 17,
   "metadata": {
    "collapsed": true,
    "slideshow": {
     "slide_type": "subslide"
    }
   },
   "outputs": [],
   "source": [
    "stack = [23, 4, 6, 15, 5, 7]"
   ]
  },
  {
   "cell_type": "code",
   "execution_count": 18,
   "metadata": {
    "collapsed": false,
    "slideshow": {
     "slide_type": "fragment"
    }
   },
   "outputs": [
    {
     "data": {
      "text/plain": [
       "[23, 4, 6, 15, 5, 7, 'chicken']"
      ]
     },
     "execution_count": 18,
     "metadata": {},
     "output_type": "execute_result"
    }
   ],
   "source": [
    "stack.append('chicken')\n",
    "stack"
   ]
  },
  {
   "cell_type": "code",
   "execution_count": 19,
   "metadata": {
    "collapsed": false,
    "slideshow": {
     "slide_type": "fragment"
    }
   },
   "outputs": [
    {
     "data": {
      "text/plain": [
       "[23, 4, 6, 15, 5, 7]"
      ]
     },
     "execution_count": 19,
     "metadata": {},
     "output_type": "execute_result"
    }
   ],
   "source": [
    "stack.pop()\n",
    "stack"
   ]
  },
  {
   "cell_type": "markdown",
   "metadata": {
    "slideshow": {
     "slide_type": "slide"
    }
   },
   "source": [
    "## (4) Queue \n",
    "<center>\n",
    "<div style=\"width:100%\">![Chilling](https://www.tutorialspoint.com/data_structures_algorithms/images/queue_diagram.jpg)</div>\n",
    "</center>"
   ]
  },
  {
   "cell_type": "code",
   "execution_count": null,
   "metadata": {
    "collapsed": true,
    "slideshow": {
     "slide_type": "fragment"
    }
   },
   "outputs": [],
   "source": []
  },
  {
   "cell_type": "markdown",
   "metadata": {
    "slideshow": {
     "slide_type": "slide"
    }
   },
   "source": [
    "## (5) Linked List\n",
    "<center>\n",
    "<div style=\"width:100%\">![Chilling](https://www.tutorialspoint.com/data_structures_algorithms/images/dsa_linkedlist.jpg)</div>\n",
    "</center>"
   ]
  },
  {
   "cell_type": "code",
   "execution_count": 3,
   "metadata": {
    "collapsed": true,
    "slideshow": {
     "slide_type": "subslide"
    }
   },
   "outputs": [],
   "source": [
    "class Node(object):\n",
    "\n",
    "    def __init__(self, data=None, next_node=None):\n",
    "        self.data = data\n",
    "        self.next = next_node\n",
    "        \n",
    "class LinkedList(object):\n",
    "    \n",
    "    def __init__(self, head=None):\n",
    "        self.head = head"
   ]
  },
  {
   "cell_type": "code",
   "execution_count": 4,
   "metadata": {
    "collapsed": true,
    "slideshow": {
     "slide_type": "fragment"
    }
   },
   "outputs": [],
   "source": [
    "node3 = Node('applepen')\n",
    "node2 = Node('pineapple', node3)\n",
    "node1 = Node('pen', node2)\n",
    "data = LinkedList(node1)"
   ]
  },
  {
   "cell_type": "code",
   "execution_count": 5,
   "metadata": {
    "collapsed": false,
    "slideshow": {
     "slide_type": "fragment"
    }
   },
   "outputs": [
    {
     "data": {
      "text/plain": [
       "'pen'"
      ]
     },
     "execution_count": 5,
     "metadata": {},
     "output_type": "execute_result"
    }
   ],
   "source": [
    "data.head.data"
   ]
  },
  {
   "cell_type": "code",
   "execution_count": 51,
   "metadata": {
    "collapsed": false,
    "slideshow": {
     "slide_type": "subslide"
    }
   },
   "outputs": [
    {
     "data": {
      "text/plain": [
       "'pineapple'"
      ]
     },
     "execution_count": 51,
     "metadata": {},
     "output_type": "execute_result"
    }
   ],
   "source": [
    "data.head.next.data"
   ]
  },
  {
   "cell_type": "code",
   "execution_count": 52,
   "metadata": {
    "collapsed": false,
    "slideshow": {
     "slide_type": "fragment"
    }
   },
   "outputs": [
    {
     "data": {
      "text/plain": [
       "'applepen'"
      ]
     },
     "execution_count": 52,
     "metadata": {},
     "output_type": "execute_result"
    }
   ],
   "source": [
    "data.head.next.next.data"
   ]
  },
  {
   "cell_type": "markdown",
   "metadata": {
    "slideshow": {
     "slide_type": "slide"
    }
   },
   "source": [
    "## (6) Tree\n",
    "<center>\n",
    "<div style=\"width:70%\">![Chilling](http://2.bp.blogspot.com/-CQVmj7Y4B-4/VM_P6VbFdTI/AAAAAAAABAA/gZg8SWhQQrY/s1600/02.png)</div>"
   ]
  },
  {
   "cell_type": "code",
   "execution_count": 2,
   "metadata": {
    "collapsed": false,
    "slideshow": {
     "slide_type": "subslide"
    }
   },
   "outputs": [],
   "source": [
    "class Node:\n",
    "    def __init__(self, val):\n",
    "        self.l = None\n",
    "        self.r = None\n",
    "        self.v = val\n",
    "\n",
    "class Tree:\n",
    "    def __init__(self):\n",
    "        self.root = None\n",
    "\n",
    "    def getRoot(self):\n",
    "        return self.root\n",
    "\n",
    "    def add(self, val):\n",
    "        if(self.root == None):\n",
    "            self.root = Node(val)\n",
    "        else:\n",
    "            self._add(val, self.root)\n",
    "\n",
    "    def _add(self, val, node):\n",
    "        if(val < node.v):\n",
    "            if(node.l != None):\n",
    "                self._add(val, node.l)\n",
    "            else:\n",
    "                node.l = Node(val)\n",
    "        else:\n",
    "            if(node.r != None):\n",
    "                self._add(val, node.r)\n",
    "            else:\n",
    "                node.r = Node(val)\n",
    "\n",
    "    def find(self, val):\n",
    "        if(self.root != None):\n",
    "            return self._find(val, self.root)\n",
    "        else:\n",
    "            return None\n",
    "\n",
    "    def _find(self, val, node):\n",
    "        if(val == node.v):\n",
    "            return node\n",
    "        elif(val < node.v and node.l != None):\n",
    "            self._find(val, node.l)\n",
    "        elif(val > node.v and node.r != None):\n",
    "            self._find(val, node.r)\n",
    "\n",
    "    def deleteTree(self):\n",
    "        # garbage collector will do this for us. \n",
    "        self.root = None\n",
    "\n",
    "    def printTree(self):\n",
    "        if(self.root != None):\n",
    "            self._printTree(self.root)\n",
    "\n",
    "    def _printTree(self, node):\n",
    "        if(node != None):\n",
    "            self._printTree(node.l)\n",
    "            print(str(node.v) + ' ')\n",
    "            self._printTree(node.r)"
   ]
  },
  {
   "cell_type": "code",
   "execution_count": 4,
   "metadata": {
    "collapsed": false,
    "slideshow": {
     "slide_type": "subslide"
    }
   },
   "outputs": [
    {
     "name": "stdout",
     "output_type": "stream",
     "text": [
      "0 \n",
      "2 \n",
      "3 \n",
      "4 \n",
      "8 \n",
      "3\n",
      "None\n"
     ]
    }
   ],
   "source": [
    "tree = Tree()\n",
    "tree.add(3)\n",
    "tree.add(4)\n",
    "tree.add(0)\n",
    "tree.add(8)\n",
    "tree.add(2)\n",
    "tree.printTree()\n",
    "print((tree.find(3)).v)\n",
    "print(tree.find(10))\n",
    "tree.deleteTree()\n",
    "tree.printTree()"
   ]
  },
  {
   "cell_type": "markdown",
   "metadata": {
    "slideshow": {
     "slide_type": "slide"
    }
   },
   "source": [
    "## (7) Hash Table\n",
    "<center>\n",
    "<div style=\"width:100%\">![Chilling](https://upload.wikimedia.org/wikipedia/commons/thumb/7/7d/Hash_table_3_1_1_0_1_0_0_SP.svg/315px-Hash_table_3_1_1_0_1_0_0_SP.svg.png)</div>\n",
    "</center>\n",
    "* Python __Dictionary__ uses Hash Table"
   ]
  },
  {
   "cell_type": "markdown",
   "metadata": {
    "slideshow": {
     "slide_type": "subslide"
    }
   },
   "source": [
    "__Hash Function__\n",
    "\n",
    "임의 길이 데이터 -> 정해진 길이의 숫자로 변환(int)\n",
    "\n",
    "* 만약 정해진 길이가 메모리 주소 크기랑 같다면 Hash Table로 사용!\n",
    "* __비둘기집의 원리__에 의해 같은 해쉬값을 가지는 다른 데이터가 반드시 존재(Collision)\n",
    "* 암호학에서 많이 쓰는 함수 : SHA1, SHA2, SHA3 (=keccak)"
   ]
  },
  {
   "cell_type": "code",
   "execution_count": 7,
   "metadata": {
    "collapsed": false,
    "slideshow": {
     "slide_type": "fragment"
    }
   },
   "outputs": [
    {
     "data": {
      "text/plain": [
       "-5857209301511271356"
      ]
     },
     "execution_count": 7,
     "metadata": {},
     "output_type": "execute_result"
    }
   ],
   "source": [
    "hash('치킨은 맛있다')"
   ]
  },
  {
   "cell_type": "code",
   "execution_count": 9,
   "metadata": {
    "collapsed": false,
    "slideshow": {
     "slide_type": "fragment"
    }
   },
   "outputs": [
    {
     "data": {
      "text/plain": [
       "-2403587121987226571"
      ]
     },
     "execution_count": 9,
     "metadata": {},
     "output_type": "execute_result"
    }
   ],
   "source": [
    "hash('간장공장공장장은 장 공장장이고 된장공장공장장은 장 공장장이다')"
   ]
  }
 ],
 "metadata": {
  "celltoolbar": "Slideshow",
  "kernelspec": {
   "display_name": "Python 3",
   "language": "python",
   "name": "python3"
  },
  "language_info": {
   "codemirror_mode": {
    "name": "ipython",
    "version": 3
   },
   "file_extension": ".py",
   "mimetype": "text/x-python",
   "name": "python",
   "nbconvert_exporter": "python",
   "pygments_lexer": "ipython3",
   "version": "3.5.2"
  }
 },
 "nbformat": 4,
 "nbformat_minor": 2
}
