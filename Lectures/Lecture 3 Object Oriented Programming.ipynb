{
 "cells": [
  {
   "cell_type": "markdown",
   "metadata": {
    "slideshow": {
     "slide_type": "slide"
    }
   },
   "source": [
    "# 3. Object Oriented Programming\n",
    "\n",
    "<center>\n",
    "<div style=\"width:100%\">![Chilling](https://cms-assets.tutsplus.com/uploads/users/34/posts/20789/preview_image/wordpress-oop.jpg)</div>"
   ]
  },
  {
   "cell_type": "markdown",
   "metadata": {
    "slideshow": {
     "slide_type": "slide"
    }
   },
   "source": [
    "## (1) Sequential Programming\n",
    "\n",
    "* 단순히 절차적 명령어 실행 +\n",
    "* procedure (함수, 루틴, 서브루틴 등) 사용"
   ]
  },
  {
   "cell_type": "code",
   "execution_count": 4,
   "metadata": {
    "collapsed": false,
    "slideshow": {
     "slide_type": "fragment"
    }
   },
   "outputs": [
    {
     "name": "stdout",
     "output_type": "stream",
     "text": [
      "hello world\n"
     ]
    }
   ],
   "source": [
    "a = 1\n",
    "a = a + 1\n",
    "b = 3\n",
    "if b > 3:\n",
    "    goto(\"첫번째 줄\")\n",
    "else:\n",
    "    next\n",
    "print(\"hello world\")"
   ]
  },
  {
   "cell_type": "markdown",
   "metadata": {
    "slideshow": {
     "slide_type": "subslide"
    }
   },
   "source": [
    "__ 문제점 __\n",
    "\n",
    "* 프로그램이 조금만 복잡해져도 스파게티 코드가 됨\n",
    "* 스타크래프트같은 복잡한 프로그램 만들기 힘듦\n",
    "\n",
    "<center>\n",
    "<div style=\"width:100%\">![Chilling](http://marcom.mylv.net/edm/2013q2/thewire/thewire_04/img/04_TheWire_sub_wo_01.jpg)</div>"
   ]
  },
  {
   "cell_type": "markdown",
   "metadata": {
    "slideshow": {
     "slide_type": "slide"
    }
   },
   "source": [
    "## (2) Structured Programming"
   ]
  },
  {
   "cell_type": "markdown",
   "metadata": {
    "slideshow": {
     "slide_type": "fragment"
    }
   },
   "source": [
    "* 절차적 프로그래밍의 하위 개념\n",
    "* Edsger Wybe Dijkstra가 제안\n",
    "* __Low Level__\n",
    "    * concatenation : 순차적 실행\n",
    "    * selection : __if__, __else__, __switch__ 등\n",
    "    * repetition : __for__, __while__, 등\n",
    "* __High Level__\n",
    "    * 개발자가 알아서 큰 문제를 쪼개 작은 문제로 만듦\n",
    "    * 각 작은 문제는 __함수__, __프로시져__, __메서드__ 등으로 만듦\n",
    "* __Top-Down__ Approach"
   ]
  },
  {
   "cell_type": "markdown",
   "metadata": {
    "slideshow": {
     "slide_type": "slide"
    }
   },
   "source": [
    "## (2) Object-Oriented Programming\n",
    "\n",
    "<center>\n",
    "<div style=\"width:100%\">![Chilling](http://cfile9.uf.tistory.com/image/2237D94B55DD6A4410B506)</div>"
   ]
  },
  {
   "cell_type": "markdown",
   "metadata": {
    "collapsed": true,
    "slideshow": {
     "slide_type": "subslide"
    }
   },
   "source": [
    "__구성 요소__\n",
    "\n",
    "* __class__ : 비슷한 종류의 객체들의 공통 특성을 정의(e.g. 토끼) = 사용자 지정 데이터형\n",
    "    * __attribute__(__property__) : 속성\n",
    "    * __method__ : 행위\n",
    "* __object__ : 실제 할당된 클래스의 인스턴스"
   ]
  },
  {
   "cell_type": "markdown",
   "metadata": {
    "slideshow": {
     "slide_type": "slide"
    }
   },
   "source": [
    "### 1. 캡슐화(Encapsulation)\n",
    "\n",
    "__코드의 수정 없는 재활용__\n",
    "\n",
    "클래스 정의 -> 인스턴스 생성 -> 인스턴스 실행 및 변경 -> 인스턴스 삭제"
   ]
  },
  {
   "cell_type": "code",
   "execution_count": 5,
   "metadata": {
    "collapsed": true,
    "slideshow": {
     "slide_type": "subslide"
    }
   },
   "outputs": [],
   "source": [
    "class 토끼():\n",
    "    \n",
    "    def __init__(self):\n",
    "        self.키 = 180\n",
    "        self.몸무게 = 70\n",
    "        self.배고픔 = 50\n",
    "        \n",
    "    @property\n",
    "    def 색깔(self):\n",
    "        return 'red'\n",
    "    \n",
    "    def 밥먹기(self, 밥):\n",
    "        if 밥 == '고기':\n",
    "            self.배고픔 += 30\n",
    "        elif 밥 == '독':\n",
    "            self.배고픔 -= 20"
   ]
  },
  {
   "cell_type": "code",
   "execution_count": 6,
   "metadata": {
    "collapsed": false,
    "slideshow": {
     "slide_type": "subslide"
    }
   },
   "outputs": [
    {
     "data": {
      "text/plain": [
       "50"
      ]
     },
     "execution_count": 6,
     "metadata": {},
     "output_type": "execute_result"
    }
   ],
   "source": [
    "제1토끼 = 토끼()\n",
    "제1토끼.배고픔"
   ]
  },
  {
   "cell_type": "code",
   "execution_count": 7,
   "metadata": {
    "collapsed": false,
    "slideshow": {
     "slide_type": "fragment"
    }
   },
   "outputs": [
    {
     "data": {
      "text/plain": [
       "80"
      ]
     },
     "execution_count": 7,
     "metadata": {},
     "output_type": "execute_result"
    }
   ],
   "source": [
    "제1토끼.밥먹기('고기')\n",
    "제1토끼.배고픔"
   ]
  },
  {
   "cell_type": "markdown",
   "metadata": {
    "slideshow": {
     "slide_type": "slide"
    }
   },
   "source": [
    "### 2. 상속(Inheritance)\n",
    "<center>\n",
    "<div style=\"width:100%\">![Chilling](https://upload.wikimedia.org/wikipedia/commons/thumb/d/d5/CPT-OOP-inheritance.svg/450px-CPT-OOP-inheritance.svg.png)</div>\n",
    "</center>\n",
    "\n",
    "* 소스코드 변경 없이 남이 짜 놓은 클래스 사용\n",
    "* 부모 클래스의 속성 그대로 받고\n",
    "* 필요하면 속성 변경(__Override__)하거나 속성 추가, 제거 가능"
   ]
  },
  {
   "cell_type": "code",
   "execution_count": 10,
   "metadata": {
    "collapsed": true,
    "slideshow": {
     "slide_type": "subslide"
    }
   },
   "outputs": [],
   "source": [
    "class 엽기토끼(토끼):\n",
    "    \n",
    "    def __init__(self):\n",
    "        super(엽기토끼, self).__init__()\n",
    "        \n",
    "    def 밥먹기(self, 밥):\n",
    "        if 밥 == '고기':\n",
    "            self.배고픔 += 50\n",
    "        elif 밥 == '독':\n",
    "            self.배고픔 += 40"
   ]
  },
  {
   "cell_type": "code",
   "execution_count": 11,
   "metadata": {
    "collapsed": false,
    "slideshow": {
     "slide_type": "fragment"
    }
   },
   "outputs": [
    {
     "data": {
      "text/plain": [
       "90"
      ]
     },
     "execution_count": 11,
     "metadata": {},
     "output_type": "execute_result"
    }
   ],
   "source": [
    "제2토끼 = 엽기토끼()\n",
    "제2토끼.밥먹기('독')\n",
    "제2토끼.배고픔"
   ]
  },
  {
   "cell_type": "markdown",
   "metadata": {
    "slideshow": {
     "slide_type": "slide"
    }
   },
   "source": [
    "### 3. 다형성(Polymorphism)\n",
    "<center>\n",
    "<div style=\"width:100%\">![Chilling](http://www.sts.rpi.edu/public_html/lynchm2/Courses/WDB-common/ThreePillars/ShapeTree-sm.png)</div>\n",
    "</center>\n",
    "\n",
    "* 한가지 속성이 클래스마다 다양한 기능을 가짐\n",
    "* __Overriding__ : 속성 변경\n",
    "* __Overloading__ : 인풋 데이터형, 갯수에 따라 다른 기능 "
   ]
  },
  {
   "cell_type": "code",
   "execution_count": 14,
   "metadata": {
    "collapsed": true,
    "slideshow": {
     "slide_type": "subslide"
    }
   },
   "outputs": [],
   "source": [
    "class 토끼():\n",
    "    \n",
    "    def __init__(self):\n",
    "        self.키 = 180\n",
    "        self.몸무게 = 70\n",
    "        self.배고픔 = 50\n",
    "        \n",
    "    @property\n",
    "    def 색깔(self):\n",
    "        return 'red'\n",
    "    \n",
    "    def 밥먹기(self, 밥):\n",
    "        if 밥 == '고기':\n",
    "            self.배고픔 += 30\n",
    "        elif 밥 == '독':\n",
    "            self.배고픔 -= 20\n",
    "            \n",
    "    def 변신(self):\n",
    "        abstract"
   ]
  },
  {
   "cell_type": "code",
   "execution_count": 15,
   "metadata": {
    "collapsed": true,
    "slideshow": {
     "slide_type": "subslide"
    }
   },
   "outputs": [],
   "source": [
    "class 엽기토끼(토끼):\n",
    "    \n",
    "    def __init__(self):\n",
    "        super(엽기토끼, self).__init__()\n",
    "        \n",
    "    def 밥먹기(self, 밥):\n",
    "        if type(밥) == str:\n",
    "            if 밥 == '고기':\n",
    "                self.배고픔 += 50\n",
    "            elif 밥 == '독':\n",
    "                self.배고픔 += 40\n",
    "        if type(밥) == list:\n",
    "            for i in 밥:\n",
    "                self.밥먹기(i)"
   ]
  },
  {
   "cell_type": "code",
   "execution_count": 16,
   "metadata": {
    "collapsed": false,
    "slideshow": {
     "slide_type": "fragment"
    }
   },
   "outputs": [
    {
     "data": {
      "text/plain": [
       "230"
      ]
     },
     "execution_count": 16,
     "metadata": {},
     "output_type": "execute_result"
    }
   ],
   "source": [
    "제2토끼 = 엽기토끼()\n",
    "제2토끼.밥먹기(['독', '고기', '고기', '독'])\n",
    "제2토끼.배고픔"
   ]
  }
 ],
 "metadata": {
  "celltoolbar": "Slideshow",
  "kernelspec": {
   "display_name": "Python 3",
   "language": "python",
   "name": "python3"
  },
  "language_info": {
   "codemirror_mode": {
    "name": "ipython",
    "version": 3
   },
   "file_extension": ".py",
   "mimetype": "text/x-python",
   "name": "python",
   "nbconvert_exporter": "python",
   "pygments_lexer": "ipython3",
   "version": "3.5.2"
  }
 },
 "nbformat": 4,
 "nbformat_minor": 2
}
