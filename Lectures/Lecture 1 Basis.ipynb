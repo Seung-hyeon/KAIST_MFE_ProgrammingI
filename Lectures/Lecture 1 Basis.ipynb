{
 "cells": [
  {
   "cell_type": "markdown",
   "metadata": {
    "slideshow": {
     "slide_type": "slide"
    }
   },
   "source": [
    "# 1. Computer\n",
    "<center>\n",
    "<div style=\"width:40%\">![Chilling](http://www.generationamiga.com/wp-content/uploads/2016/12/pythonlogo.jpg)</div>"
   ]
  },
  {
   "cell_type": "markdown",
   "metadata": {
    "slideshow": {
     "slide_type": "subslide"
    }
   },
   "source": [
    "* 실수 없이 계산\n",
    "* 빠르고 효율적"
   ]
  },
  {
   "cell_type": "code",
   "execution_count": 1,
   "metadata": {
    "slideshow": {
     "slide_type": "fragment"
    }
   },
   "outputs": [
    {
     "data": {
      "text/plain": [
       "2431257666"
      ]
     },
     "execution_count": 1,
     "metadata": {},
     "output_type": "execute_result"
    }
   ],
   "source": [
    "15354 + 2431242312"
   ]
  },
  {
   "cell_type": "code",
   "execution_count": null,
   "metadata": {
    "collapsed": true,
    "slideshow": {
     "slide_type": "fragment"
    }
   },
   "outputs": [],
   "source": [
    "3245234 * 3242 + 12321541245 - 342"
   ]
  },
  {
   "cell_type": "markdown",
   "metadata": {
    "slideshow": {
     "slide_type": "slide"
    }
   },
   "source": [
    "## (1) Computer Structure\n",
    "\n",
    "<center>\n",
    "<div style=\"width:40%\">![Chilling](https://cosidesk.wikispaces.com/file/view/558px-Personal_computer%2C_exploded_5.svg.png/31377673/558px-Personal_computer%2C_exploded_5.svg.png)</div>"
   ]
  },
  {
   "cell_type": "markdown",
   "metadata": {
    "slideshow": {
     "slide_type": "fragment"
    }
   },
   "source": [
    "(2) MainBoard\n",
    "\n",
    "(3) CPU\n",
    "\n",
    "(4) RAM"
   ]
  },
  {
   "cell_type": "markdown",
   "metadata": {
    "slideshow": {
     "slide_type": "subslide"
    }
   },
   "source": [
    "### CPU\n",
    "<center>\n",
    "<div style=\"width:50%\">![Chilling](http://cnx.org/resources/599844c56c6e0f6f850a4490868457479a9e3677/graphics1.png)</div>\n",
    "</center>\n",
    "* ALU : 덧셈 뺄셈 등 계산\n",
    "* Register : 데이터 잠깐 저장\n",
    "* Control Unit : 컨트롤함"
   ]
  },
  {
   "cell_type": "markdown",
   "metadata": {
    "slideshow": {
     "slide_type": "subslide"
    }
   },
   "source": [
    "### npn Transistor\n",
    "<center>\n",
    "<div style=\"width:50%\">![Chilling](http://study.zumst.com/upload/00-T33-00-43-07/%EC%BD%98%ED%85%90%EC%B8%A0%20%EC%88%98%EC%A0%95%20%EC%97%94%ED%8A%B8%EB%A6%AC%20349.jpg)</div>\n",
    "</center>\n",
    "* 그냥 스위치\n",
    "* base에 전기 들어오면 On, 안 들어오면 Off\n",
    "* 애초에 그냥 스위치이기에 톱니바퀴, 수도관 등으로 구현 가능"
   ]
  },
  {
   "cell_type": "markdown",
   "metadata": {
    "slideshow": {
     "slide_type": "subslide"
    }
   },
   "source": [
    "### Logic Gates \n",
    "\n",
    "* __or__\n",
    "<center>\n",
    "<div style=\"width:70%\">![Chilling](http://www.electronics-tutorials.ws/logic/log44.gif)</div>\n",
    "</center>\n",
    "* __and__\n",
    "<center>\n",
    "<div style=\"width:70%\">![Chilling](http://www.electronics-tutorials.ws/logic/log43.gif)</div>"
   ]
  },
  {
   "cell_type": "markdown",
   "metadata": {
    "slideshow": {
     "slide_type": "subslide"
    }
   },
   "source": [
    "### GPU\n",
    "<center>\n",
    "<div style=\"width:100%\">![Chilling](https://encrypted-tbn0.gstatic.com/images?q=tbn:ANd9GcRMvBypchXJMbgTnuztzQDAnvoKDUO7qIQSM4Sn-E_5YcGtP5E0)</div>\n",
    "</center>\n",
    "* 꾸진 CPU 곱하기 수백, 수천개\n",
    "* 딥러닝 할 때 많이 씀\n",
    "* 슈퍼컴퓨터에 많이 씀"
   ]
  },
  {
   "cell_type": "markdown",
   "metadata": {
    "slideshow": {
     "slide_type": "subslide"
    }
   },
   "source": [
    "### Coprocessor\n",
    "<center>\n",
    "<div style=\"width:100%\">![Chilling](http://cdn.wccftech.com/wp-content/uploads/2012/11/intel_-xeon_phi_coprocessor_1.jpg)</div>\n",
    "</center>\n",
    "* 꽤 좋은 CPU 곱하기 수십개\n",
    "* 범용 벙렬처리에 많이 씀\n",
    "* 돈 많으면 머신러닝 할 때도 씀\n",
    "* 코딩하긴 편함 but 비쌈\n",
    "* 슈퍼컴퓨터에 많이 씀"
   ]
  },
  {
   "cell_type": "markdown",
   "metadata": {
    "slideshow": {
     "slide_type": "subslide"
    }
   },
   "source": [
    "### RAM (Random Access Memory)\n",
    "<center>\n",
    "<div style=\"width:70%\">![Chilling](https://image.slidesharecdn.com/lec21-130220024617-phpapp01/95/static-and-dynamic-readwrite-memories-10-638.jpg?cb=1362135405)</div>\n",
    "</center>\n",
    "* 셀 : 전자(electron)을 저장해서 데이터 저장\n",
    "* 각 셀마다 주소가 있음 (e.g. 0x508A0210 )"
   ]
  },
  {
   "cell_type": "markdown",
   "metadata": {},
   "source": [
    "* __Note__ : 주소값 읽는 법 (16진법)\n",
    "\n",
    "0x508A0210\n",
    "\n",
    "* 0x : 뒤에 508A0210 빼고는 전부 0 \n",
    "\n",
    "* A : 10\n",
    "* B : 11\n",
    "* C : 12\n",
    "* D : 13\n",
    "* E : 14\n",
    "* F : 15"
   ]
  },
  {
   "cell_type": "markdown",
   "metadata": {
    "slideshow": {
     "slide_type": "subslide"
    }
   },
   "source": [
    "### Memory Structure(Abstract)\n",
    "<center>\n",
    "<div style=\"width:70%\">![Chilling](https://qph.ec.quoracdn.net/main-qimg-427f91b73b8b229ab84ace482e1e2aea)</div>\n",
    "</center>\n",
    "* Memory 할당 너무 크게하면 Heap과 Stack 충돌하며 데이터가 넘쳐 흐름 : Stack Overflow\n",
    "\n",
    "(cf. 메모리 형식보다 큰 숫자 입력하면 Buffer Overflow)"
   ]
  },
  {
   "cell_type": "code",
   "execution_count": 2,
   "metadata": {
    "slideshow": {
     "slide_type": "fragment"
    }
   },
   "outputs": [
    {
     "ename": "MemoryError",
     "evalue": "",
     "output_type": "error",
     "traceback": [
      "\u001b[0;31m---------------------------------------------------------------------------\u001b[0m",
      "\u001b[0;31mMemoryError\u001b[0m                               Traceback (most recent call last)",
      "\u001b[0;32m<ipython-input-2-db76c18c2d09>\u001b[0m in \u001b[0;36m<module>\u001b[0;34m()\u001b[0m\n\u001b[0;32m----> 1\u001b[0;31m \u001b[0ma\u001b[0m \u001b[1;33m=\u001b[0m \u001b[1;33m[\u001b[0m\u001b[1;34m'간장공장공장장'\u001b[0m\u001b[1;33m]\u001b[0m\u001b[1;33m*\u001b[0m\u001b[1;36m10000000000000\u001b[0m\u001b[1;33m\u001b[0m\u001b[0m\n\u001b[0m",
      "\u001b[0;31mMemoryError\u001b[0m: "
     ]
    }
   ],
   "source": [
    "a = ['간장공장공장장']*10000000000000"
   ]
  }
 ],
 "metadata": {
  "celltoolbar": "Slideshow",
  "kernelspec": {
   "display_name": "Python 3",
   "language": "python",
   "name": "python3"
  },
  "language_info": {
   "codemirror_mode": {
    "name": "ipython",
    "version": 3
   },
   "file_extension": ".py",
   "mimetype": "text/x-python",
   "name": "python",
   "nbconvert_exporter": "python",
   "pygments_lexer": "ipython3",
   "version": "3.5.2"
  }
 },
 "nbformat": 4,
 "nbformat_minor": 2
}
